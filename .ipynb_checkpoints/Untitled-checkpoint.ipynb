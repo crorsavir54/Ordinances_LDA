{
 "cells": [
  {
   "cell_type": "code",
   "execution_count": null,
   "metadata": {},
   "outputs": [],
   "source": [
    "from nltk.tokenize import sent_tokenize, word_tokenize\n",
    "from nltk.stem import PorterStemmer\n",
    "\n",
    "\n",
    "porter = PorterStemmer()\n"
   ]
  },
  {
   "cell_type": "code",
   "execution_count": null,
   "metadata": {},
   "outputs": [],
   "source": [
    "wordz = [['an',\n",
    " 'ordinance',\n",
    " 'the',\n",
    " 'members',\n",
    " 'of',\n",
    " 'the',\n",
    " 'city',\n",
    " 'tricycle',\n",
    " 'and',\n",
    " 'regulatory_board_ctfrb',\n",
    " 'its',\n",
    " 'functions',\n",
    " 'and',\n",
    " 'procedures',\n",
    " 'and',\n",
    " 'motorized_tricycle',\n",
    " 'for',\n",
    " 'hire_mth',\n",
    " 'tricycle',\n",
    " 'utility',\n",
    " 'vehicle',\n",
    " 'tuv',\n",
    " 'and',\n",
    " 'tricycle',\n",
    " 'utility',\n",
    " 'for',\n",
    " 'hire',\n",
    " 'tuh',\n",
    " 'guidelines',\n",
    " 'regulations',\n",
    " 'and',\n",
    " 'operations',\n",
    " 'the',\n",
    " 'collection',\n",
    " 'of',\n",
    " 'fees',\n",
    " 'charges',\n",
    " 'administrative',\n",
    " 'provisions',\n",
    " 'and',\n",
    " 'penalties',\n",
    " 'for',\n",
    " 'violation',\n",
    " 'thereof'],['an',\n",
    " 'ordinance',\n",
    " 'the',\n",
    " 'practice',\n",
    " 'of',\n",
    " 'traditional',\n",
    " 'home',\n",
    " 'birth',\n",
    " 'delivery',\n",
    " 'or',\n",
    " 'deliveries',\n",
    " 'attended',\n",
    " 'by',\n",
    " 'traditional',\n",
    " 'birth',\n",
    " 'attendant',\n",
    " 'or',\n",
    " 'mananabang']]"
   ]
  },
  {
   "cell_type": "code",
   "execution_count": null,
   "metadata": {},
   "outputs": [],
   "source": [
    "def stemTexts(texts):\n",
    "    token_words = word_tokenize(texts)\n",
    "    stem_texts = []\n",
    "    for text in token_words:\n",
    "        stem_sentence.appedn(porter.stem(word))"
   ]
  }
 ],
 "metadata": {
  "kernelspec": {
   "display_name": "Python 3",
   "language": "python",
   "name": "python3"
  },
  "language_info": {
   "codemirror_mode": {
    "name": "ipython",
    "version": 3
   },
   "file_extension": ".py",
   "mimetype": "text/x-python",
   "name": "python",
   "nbconvert_exporter": "python",
   "pygments_lexer": "ipython3",
   "version": "3.9.0"
  }
 },
 "nbformat": 4,
 "nbformat_minor": 4
}
