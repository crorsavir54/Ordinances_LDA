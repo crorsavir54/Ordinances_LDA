{
 "cells": [
  {
   "cell_type": "code",
   "execution_count": 1,
   "metadata": {},
   "outputs": [],
   "source": [
    "import re\n",
    "import numpy as np\n",
    "import pandas as pd"
   ]
  },
  {
   "cell_type": "code",
   "execution_count": 2,
   "metadata": {},
   "outputs": [],
   "source": [
    "#Gensim\n",
    "import gensim\n",
    "import gensim.corpora as corpora\n",
    "from gensim.utils import simple_preprocess\n",
    "from gensim.models import CoherenceModel"
   ]
  },
  {
   "cell_type": "code",
   "execution_count": 3,
   "metadata": {},
   "outputs": [],
   "source": [
    "#spacy for lemmatization\n",
    "import spacy"
   ]
  },
  {
   "cell_type": "code",
   "execution_count": 4,
   "metadata": {},
   "outputs": [],
   "source": [
    "# Plotting tools\n",
    "import pyLDAvis\n",
    "import pyLDAvis.gensim\n",
    "import matplotlib.pyplot as plt\n",
    "%matplotlib inline"
   ]
  },
  {
   "cell_type": "code",
   "execution_count": 5,
   "metadata": {},
   "outputs": [
    {
     "name": "stderr",
     "output_type": "stream",
     "text": [
      "/Users/root1/Documents/lda/myvenv/lib/python3.9/site-packages/ipykernel/ipkernel.py:287: DeprecationWarning: `should_run_async` will not call `transform_cell` automatically in the future. Please pass the result to `transformed_cell` argument and any exception that happen during thetransform in `preprocessing_exc_tuple` in IPython 7.17 and above.\n",
      "  and should_run_async(code)\n"
     ]
    }
   ],
   "source": [
    "import warnings\n",
    "warnings.filterwarnings(\"ignore\", category=DeprecationWarning)\n",
    "from pprint import pprint"
   ]
  },
  {
   "cell_type": "code",
   "execution_count": 6,
   "metadata": {},
   "outputs": [],
   "source": [
    "# NLTK for stopwords\n",
    "from nltk.corpus import stopwords\n",
    "stop_words = stopwords.words('english')\n",
    "stop_words.extend(['tagum', 'city', 'ordinance', 'municipal', 'municipality', 'thereof'])"
   ]
  },
  {
   "cell_type": "code",
   "execution_count": 7,
   "metadata": {},
   "outputs": [
    {
     "name": "stdout",
     "output_type": "stream",
     "text": [
      "                                     OR  \\\n",
      "0        CITY ORDINANCE No. 842, s-2018   \n",
      "1        CITY ORDINANCE NO. 825, s-2017   \n",
      "2        CITY ORDINANCE NO. 837, s-2018   \n",
      "3        CITY ORDINANCE NO. 844, s-2018   \n",
      "4        CITY ORDINANCE NO. 838, s-2018   \n",
      "..                                  ...   \n",
      "670  MUNICIPAL ORDINANCE NO. 05, s-1974   \n",
      "671  MUNICIPAL ORDINANCE NO. 04, s-1974   \n",
      "672  MUNICIPAL ORDINANCE NO. 01, s-1974   \n",
      "673    MUNICIPAL ORDINANCE NO. 03, 1973   \n",
      "674  MUNICIPAL ORDINANCE NO. 02, S-1973   \n",
      "\n",
      "                                                    OT  \n",
      "0    “AN ORDINANCE REGULATING THE PRACTICE OF TRADI...  \n",
      "1    “AN ORDINANCE RECONSTITUTING THE MEMBERS OF TH...  \n",
      "2    “AN ORDINANCE ESTABLISHING FUNERAL AND BURIAL ...  \n",
      "3    AN ORDINANCE AMENDING THE TITLE, SECTION 1, SE...  \n",
      "4    “AN ORDINANCE CREATING THE CITY HISTORICAL, CU...  \n",
      "..                                                 ...  \n",
      "670  “AN ORDINANCE AMENDING SECTION 10 OF MUNICIPAL...  \n",
      "671  “AN ORDINANCE REGULATING THE ELECTRICAL INSTAL...  \n",
      "672  “AN ORDINANCE PROHIBITING THE EMPLOYMENT OF “H...  \n",
      "673  “AN ORDINANCE REGULATING THE ESTABLISHMENT, OP...  \n",
      "674  “AN ORDINANCE PROHIBITING THE USE OF MUNICIPAL...  \n",
      "\n",
      "[675 rows x 2 columns]\n"
     ]
    },
    {
     "data": {
      "text/html": [
       "<div>\n",
       "<style scoped>\n",
       "    .dataframe tbody tr th:only-of-type {\n",
       "        vertical-align: middle;\n",
       "    }\n",
       "\n",
       "    .dataframe tbody tr th {\n",
       "        vertical-align: top;\n",
       "    }\n",
       "\n",
       "    .dataframe thead th {\n",
       "        text-align: right;\n",
       "    }\n",
       "</style>\n",
       "<table border=\"1\" class=\"dataframe\">\n",
       "  <thead>\n",
       "    <tr style=\"text-align: right;\">\n",
       "      <th></th>\n",
       "      <th>OR</th>\n",
       "      <th>OT</th>\n",
       "    </tr>\n",
       "  </thead>\n",
       "  <tbody>\n",
       "    <tr>\n",
       "      <th>0</th>\n",
       "      <td>CITY ORDINANCE No. 842, s-2018</td>\n",
       "      <td>“AN ORDINANCE REGULATING THE PRACTICE OF TRADI...</td>\n",
       "    </tr>\n",
       "    <tr>\n",
       "      <th>1</th>\n",
       "      <td>CITY ORDINANCE NO. 825, s-2017</td>\n",
       "      <td>“AN ORDINANCE RECONSTITUTING THE MEMBERS OF TH...</td>\n",
       "    </tr>\n",
       "    <tr>\n",
       "      <th>2</th>\n",
       "      <td>CITY ORDINANCE NO. 837, s-2018</td>\n",
       "      <td>“AN ORDINANCE ESTABLISHING FUNERAL AND BURIAL ...</td>\n",
       "    </tr>\n",
       "    <tr>\n",
       "      <th>3</th>\n",
       "      <td>CITY ORDINANCE NO. 844, s-2018</td>\n",
       "      <td>AN ORDINANCE AMENDING THE TITLE, SECTION 1, SE...</td>\n",
       "    </tr>\n",
       "    <tr>\n",
       "      <th>4</th>\n",
       "      <td>CITY ORDINANCE NO. 838, s-2018</td>\n",
       "      <td>“AN ORDINANCE CREATING THE CITY HISTORICAL, CU...</td>\n",
       "    </tr>\n",
       "  </tbody>\n",
       "</table>\n",
       "</div>"
      ],
      "text/plain": [
       "                               OR  \\\n",
       "0  CITY ORDINANCE No. 842, s-2018   \n",
       "1  CITY ORDINANCE NO. 825, s-2017   \n",
       "2  CITY ORDINANCE NO. 837, s-2018   \n",
       "3  CITY ORDINANCE NO. 844, s-2018   \n",
       "4  CITY ORDINANCE NO. 838, s-2018   \n",
       "\n",
       "                                                  OT  \n",
       "0  “AN ORDINANCE REGULATING THE PRACTICE OF TRADI...  \n",
       "1  “AN ORDINANCE RECONSTITUTING THE MEMBERS OF TH...  \n",
       "2  “AN ORDINANCE ESTABLISHING FUNERAL AND BURIAL ...  \n",
       "3  AN ORDINANCE AMENDING THE TITLE, SECTION 1, SE...  \n",
       "4  “AN ORDINANCE CREATING THE CITY HISTORICAL, CU...  "
      ]
     },
     "execution_count": 7,
     "metadata": {},
     "output_type": "execute_result"
    }
   ],
   "source": [
    "# Import Dataset\n",
    "df = pd.read_csv('ordinances/tagum_ordinances.csv', header = 0)\n",
    "print(df)\n",
    "df.head()"
   ]
  },
  {
   "cell_type": "code",
   "execution_count": 8,
   "metadata": {},
   "outputs": [
    {
     "name": "stdout",
     "output_type": "stream",
     "text": [
      "['“AN ORDINANCE REGULATING THE PRACTICE OF TRADITIONAL HOME BIRTH DELIVERY OR DELIVERIES ATTENDED BY A TRADITIONAL BIRTH ATTENDANT OR MANANABANG”.']\n"
     ]
    }
   ],
   "source": [
    "# List all ordinance titles\n",
    "# Convert to list\n",
    "data = list(df.OT) \n",
    "print(data[:1])"
   ]
  },
  {
   "cell_type": "code",
   "execution_count": 9,
   "metadata": {},
   "outputs": [
    {
     "name": "stdout",
     "output_type": "stream",
     "text": [
      "['“AN ORDINANCE REGULATING THE PRACTICE OF TRADITIONAL HOME BIRTH DELIVERY OR '\n",
      " 'DELIVERIES ATTENDED BY A TRADITIONAL BIRTH ATTENDANT OR MANANABANG”.',\n",
      " '“AN ORDINANCE RECONSTITUTING THE MEMBERS OF THE CITY TRICYCLE FRANCHISING '\n",
      " 'AND REGULATORY BOARD (CTFRB) PRESCRIBING ITS FUNCTIONS AND PROCEDURES AND '\n",
      " 'PROVIDING MOTORIZED TRICYCLE FOR HIRE (MTH), TRICYCLE UTILITY VEHICLE (TUV) '\n",
      " 'AND TRICYCLE UTILITY FOR HIRE (TUH) GUIDELINES, REGULATIONS AND OPERATIONS, '\n",
      " 'THE COLLECTION OF FEES, CHARGES,ADMINISTRATIVE PROVISIONS AND PROVIDING '\n",
      " 'PENALTIES FOR VIOLATION THEREOF”.',\n",
      " '“AN ORDINANCE ESTABLISHING FUNERAL AND BURIAL ASSISTANCE FOR INDIGENT '\n",
      " 'TAGUMENYOS, PROVIDING ITS MANAGEMENT, PROCEDURES AND GUIDELINES AND '\n",
      " 'APPROPRIATING FUNDS THEREFOR”.',\n",
      " 'AN ORDINANCE AMENDING THE TITLE, SECTION 1, SECTION 2 AND SECTION 3 OF CITY '\n",
      " 'ORDINANCE NO. 820, S-2017 “AN ORDINANCE ENTERING INTO A LOAN AGREEMENT WITH '\n",
      " 'THE DEVELOPMENT BANK OF THE PHILIPPINES, IN THE AMOUNT OF SIX HUNDRED EIGHTY '\n",
      " 'MILLION PESOS (P 680,000,000.00) TO FUND THE ACQUISITION OF HEAVY '\n",
      " 'EQUIPMENT,ACQUISITION OF SERVICE VEHICLES, ACQUISITION OF continue reading : '\n",
      " 'CITY ORDINANCE NO. 844, s-2018',\n",
      " '“AN ORDINANCE CREATING THE CITY HISTORICAL, CULTURAL AND ARTS COUNCIL IN THE '\n",
      " 'CITY OF TAGUM”.']\n"
     ]
    }
   ],
   "source": [
    "# Remove qoutes\n",
    "data = [re.sub(\"\\'\", \"\", sent) for sent in data]\n",
    "data = [re.sub(\"\\\"\", \"\", sent) for sent in data]\n",
    "\n",
    "# # Remove words ending with ING like amending, regulating\n",
    "# data = [re.sub('\\S*ING\\S*\\s?', '', sent) for sent in data]\n",
    "\n",
    "pprint(data[:5])"
   ]
  },
  {
   "cell_type": "code",
   "execution_count": 10,
   "metadata": {},
   "outputs": [
    {
     "name": "stdout",
     "output_type": "stream",
     "text": [
      "[['an', 'ordinance', 'regulating', 'the', 'practice', 'of', 'traditional', 'home', 'birth', 'delivery', 'or', 'deliveries', 'attended', 'by', 'traditional', 'birth', 'attendant', 'or', 'mananabang'], ['an', 'ordinance', 'reconstituting', 'the', 'members', 'of', 'the', 'city', 'tricycle', 'franchising', 'and', 'regulatory', 'board', 'ctfrb', 'prescribing', 'its', 'functions', 'and', 'procedures', 'and', 'providing', 'motorized', 'tricycle', 'for', 'hire', 'mth', 'tricycle', 'utility', 'vehicle', 'tuv', 'and', 'tricycle', 'utility', 'for', 'hire', 'tuh', 'guidelines', 'regulations', 'and', 'operations', 'the', 'collection', 'of', 'fees', 'charges', 'administrative', 'provisions', 'and', 'providing', 'penalties', 'for', 'violation', 'thereof'], ['an', 'ordinance', 'establishing', 'funeral', 'and', 'burial', 'assistance', 'for', 'indigent', 'tagumenyos', 'providing', 'its', 'management', 'procedures', 'and', 'guidelines', 'and', 'appropriating', 'funds', 'therefor'], ['an', 'ordinance', 'amending', 'the', 'title', 'section', 'section', 'and', 'section', 'of', 'city', 'ordinance', 'no', 'an', 'ordinance', 'entering', 'into', 'loan', 'agreement', 'with', 'the', 'development', 'bank', 'of', 'the', 'philippines', 'in', 'the', 'amount', 'of', 'six', 'hundred', 'eighty', 'million', 'pesos', 'to', 'fund', 'the', 'acquisition', 'of', 'heavy', 'equipment', 'acquisition', 'of', 'service', 'vehicles', 'acquisition', 'of', 'continue', 'reading', 'city', 'ordinance', 'no'], ['an', 'ordinance', 'creating', 'the', 'city', 'historical', 'cultural', 'and', 'arts', 'council', 'in', 'the', 'city', 'of', 'tagum']]\n"
     ]
    }
   ],
   "source": [
    "#preprocess using gensim\n",
    "def sent_to_words(sentences):\n",
    "    for sentence in sentences:\n",
    "        yield(gensim.utils.simple_preprocess(str(sentence), deacc=True))  # deacc=True removes punctuations\n",
    "\n",
    "data_words = list(sent_to_words(data))\n",
    "\n",
    "print(data_words[:5])"
   ]
  },
  {
   "cell_type": "code",
   "execution_count": 11,
   "metadata": {},
   "outputs": [
    {
     "name": "stdout",
     "output_type": "stream",
     "text": [
      "['an', 'ordinance', 'regulating', 'the', 'practice', 'of', 'traditional', 'home', 'birth', 'delivery', 'or', 'deliveries', 'attended', 'by', 'traditional', 'birth', 'attendant', 'or', 'mananabang']\n"
     ]
    }
   ],
   "source": [
    "# Build the bigram and trigram models\n",
    "bigram = gensim.models.Phrases(data_words, min_count=5, threshold=100) # higher threshold fewer phrases.\n",
    "trigram = gensim.models.Phrases(bigram[data_words], threshold=100)  \n",
    "\n",
    "# Faster way to get a sentence clubbed as a trigram/bigram\n",
    "bigram_mod = gensim.models.phrases.Phraser(bigram)\n",
    "trigram_mod = gensim.models.phrases.Phraser(trigram)\n",
    "\n",
    "# See trigram example\n",
    "print(trigram_mod[bigram_mod[data_words[0]]])"
   ]
  },
  {
   "cell_type": "code",
   "execution_count": 12,
   "metadata": {},
   "outputs": [],
   "source": [
    "# Define functions for stopwords, bigrams, trigrams and lemmatization\n",
    "#code snippets from Selva Prabhakaran | Topic Modeling with Gensim (Python)\n",
    "by Selva Prabhakaran |\n",
    "def remove_stopwords(texts):\n",
    "    return [[word for word in simple_preprocess(str(doc)) if word not in stop_words] for doc in texts]\n",
    "\n",
    "def make_bigrams(texts):\n",
    "    return [bigram_mod[doc] for doc in texts]\n",
    "\n",
    "def make_trigrams(texts):\n",
    "    return [trigram_mod[bigram_mod[doc]] for doc in texts]\n",
    "\n",
    "def lemmatization(texts, allowed_postags=['NOUN', 'ADJ', 'VERB', 'ADV']):\n",
    "    \"\"\"https://spacy.io/api/annotation\"\"\"\n",
    "    texts_out = []\n",
    "    for sent in texts:\n",
    "        doc = nlp(\" \".join(sent)) \n",
    "        texts_out.append([token.lemma_ for token in doc if token.pos_ in allowed_postags])\n",
    "    return texts_out"
   ]
  },
  {
   "cell_type": "code",
   "execution_count": 13,
   "metadata": {},
   "outputs": [
    {
     "name": "stdout",
     "output_type": "stream",
     "text": [
      "[['regulate',\n",
      "  'practice',\n",
      "  'traditional',\n",
      "  'home',\n",
      "  'birth',\n",
      "  'delivery',\n",
      "  'delivery',\n",
      "  'attend',\n",
      "  'traditional',\n",
      "  'birth',\n",
      "  'attendant',\n",
      "  'mananabang'],\n",
      " ['reconstitute',\n",
      "  'member',\n",
      "  'tricycle',\n",
      "  'ctfrb',\n",
      "  'prescribing',\n",
      "  'function',\n",
      "  'procedure',\n",
      "  'provide',\n",
      "  'tricycle',\n",
      "  'utility',\n",
      "  'vehicle',\n",
      "  'tricycle',\n",
      "  'utility',\n",
      "  'hire',\n",
      "  'guideline',\n",
      "  'operation',\n",
      "  'collection',\n",
      "  'fee',\n",
      "  'charge',\n",
      "  'administrative',\n",
      "  'provision',\n",
      "  'provide',\n",
      "  'penalty',\n",
      "  'violation'],\n",
      " ['establish',\n",
      "  'funeral',\n",
      "  'burial_assistance',\n",
      "  'indigent',\n",
      "  'tagumenyos',\n",
      "  'provide',\n",
      "  'management',\n",
      "  'procedure',\n",
      "  'guideline',\n",
      "  'appropriate',\n",
      "  'fund'],\n",
      " ['amend',\n",
      "  'title',\n",
      "  'section',\n",
      "  'section',\n",
      "  'section',\n",
      "  'enter',\n",
      "  'loan',\n",
      "  'amount',\n",
      "  'acquisition',\n",
      "  'equipment',\n",
      "  'acquisition',\n",
      "  'service',\n",
      "  'vehicle',\n",
      "  'acquisition',\n",
      "  'continue_reading']]\n"
     ]
    }
   ],
   "source": [
    "# Remove Stop Words\n",
    "data_words_nostops = remove_stopwords(data_words)\n",
    "\n",
    "# Form Bigrams\n",
    "data_words_bigrams = make_bigrams(data_words_nostops)\n",
    "\n",
    "# Initialize spacy 'en' model, keeping only tagger component (for efficiency)\n",
    "# python3 -m spacy download en\n",
    "nlp = spacy.load('en', disable=['parser', 'ner'])\n",
    "\n",
    "# Do lemmatization keeping only noun, adj, vb, adv\n",
    "data_lemmatized = lemmatization(data_words_bigrams, allowed_postags=['NOUN', 'ADJ', 'VERB', 'ADV'])\n",
    "\n",
    "pprint(data_lemmatized[:4])"
   ]
  },
  {
   "cell_type": "code",
   "execution_count": 14,
   "metadata": {},
   "outputs": [
    {
     "name": "stdout",
     "output_type": "stream",
     "text": [
      "[[(0, 1), (1, 1), (2, 2), (3, 2), (4, 1), (5, 1), (6, 1), (7, 1), (8, 2)]]\n"
     ]
    }
   ],
   "source": [
    "# Create Dictionary\n",
    "id2word = corpora.Dictionary(data_lemmatized)\n",
    "\n",
    "# Create Corpus\n",
    "texts = data_lemmatized\n",
    "\n",
    "# Term Document Frequency\n",
    "corpus = [id2word.doc2bow(text) for text in texts]\n",
    "\n",
    "# View\n",
    "print(corpus[:1])"
   ]
  },
  {
   "cell_type": "code",
   "execution_count": 15,
   "metadata": {},
   "outputs": [
    {
     "data": {
      "text/plain": [
       "'attend'"
      ]
     },
     "execution_count": 15,
     "metadata": {},
     "output_type": "execute_result"
    }
   ],
   "source": [
    "id2word[0]"
   ]
  },
  {
   "cell_type": "code",
   "execution_count": 16,
   "metadata": {},
   "outputs": [
    {
     "data": {
      "text/plain": [
       "[[('attend', 1),\n",
       "  ('attendant', 1),\n",
       "  ('birth', 2),\n",
       "  ('delivery', 2),\n",
       "  ('home', 1),\n",
       "  ('mananabang', 1),\n",
       "  ('practice', 1),\n",
       "  ('regulate', 1),\n",
       "  ('traditional', 2)]]"
      ]
     },
     "execution_count": 16,
     "metadata": {},
     "output_type": "execute_result"
    }
   ],
   "source": [
    "# Human readable format of corpus (term-frequency)\n",
    "[[(id2word[id], freq) for id, freq in cp] for cp in corpus[:1]]"
   ]
  },
  {
   "cell_type": "code",
   "execution_count": 17,
   "metadata": {},
   "outputs": [],
   "source": [
    "# Build LDA model\n",
    "lda_model = gensim.models.ldamodel.LdaModel(corpus=corpus,\n",
    "                                           id2word=id2word,\n",
    "                                           num_topics=5, \n",
    "                                           random_state=100,\n",
    "                                           update_every=1,\n",
    "                                           chunksize=100,\n",
    "                                           passes=30,\n",
    "                                           alpha='auto',\n",
    "                                           per_word_topics=True)"
   ]
  },
  {
   "cell_type": "code",
   "execution_count": 18,
   "metadata": {},
   "outputs": [
    {
     "name": "stdout",
     "output_type": "stream",
     "text": [
      "[(0, '0.044*\"impose\" + 0.028*\"area\" + 0.022*\"mayor\" + 0.020*\"fee\" + 0.019*\"require\" + 0.017*\"declare\" + 0.015*\"year\" + 0.013*\"reclassify\" + 0.012*\"lot\" + 0.012*\"rate\"'), (1, '0.044*\"provide\" + 0.042*\"fund\" + 0.041*\"create\" + 0.028*\"purpose\" + 0.027*\"position\" + 0.025*\"office\" + 0.023*\"authorize\" + 0.022*\"duty\" + 0.021*\"amount\" + 0.016*\"appropriate\"'), (2, '0.038*\"vehicle\" + 0.031*\"fee\" + 0.023*\"utility\" + 0.022*\"provide\" + 0.019*\"violation\" + 0.019*\"penalty\" + 0.017*\"street\" + 0.017*\"parking\" + 0.015*\"charge\" + 0.014*\"service\"'), (3, '0.055*\"penalty\" + 0.049*\"provide\" + 0.048*\"violation\" + 0.041*\"public\" + 0.033*\"regulate\" + 0.018*\"market\" + 0.018*\"prohibit\" + 0.016*\"use\" + 0.014*\"operation\" + 0.014*\"road\"'), (4, '0.085*\"amend\" + 0.067*\"section\" + 0.025*\"regulation\" + 0.022*\"provide\" + 0.022*\"tax\" + 0.021*\"establish\" + 0.016*\"traffic\" + 0.015*\"revise\" + 0.014*\"adopt\" + 0.012*\"school\"')]\n"
     ]
    }
   ],
   "source": [
    "print(lda_model.print_topics())\n",
    "doc_lda = lda_model[corpus]"
   ]
  },
  {
   "cell_type": "code",
   "execution_count": 19,
   "metadata": {},
   "outputs": [
    {
     "name": "stdout",
     "output_type": "stream",
     "text": [
      "\n",
      "Perplexity:  -6.58157509186186\n",
      "\n",
      "Coherence Score:  0.39513264860264863\n"
     ]
    }
   ],
   "source": [
    "# Compute Perplexity\n",
    "print('\\nPerplexity: ', lda_model.log_perplexity(corpus))  # a measure of how good the model is. lower the better.\n",
    "\n",
    "# Compute Coherence Score\n",
    "coherence_model_lda = CoherenceModel(model=lda_model, texts=data_lemmatized, dictionary=id2word, coherence='c_v')\n",
    "coherence_lda = coherence_model_lda.get_coherence()\n",
    "print('\\nCoherence Score: ', coherence_lda)"
   ]
  },
  {
   "cell_type": "code",
   "execution_count": 20,
   "metadata": {},
   "outputs": [
    {
     "data": {
      "text/html": [
       "\n",
       "<link rel=\"stylesheet\" type=\"text/css\" href=\"https://cdn.rawgit.com/bmabey/pyLDAvis/files/ldavis.v1.0.0.css\">\n",
       "\n",
       "\n",
       "<div id=\"ldavis_el81691407032368323849392373124\"></div>\n",
       "<script type=\"text/javascript\">\n",
       "\n",
       "var ldavis_el81691407032368323849392373124_data = {\"mdsDat\": {\"x\": [0.00649567564251193, -0.19313651621262798, -0.13748966186835204, 0.2496521978541221, 0.074478304584346], \"y\": [-0.2550426772264082, 0.05668613083948626, 0.12821046195499036, 0.14276150108803412, -0.07261541665610283], \"topics\": [1, 2, 3, 4, 5], \"cluster\": [1, 1, 1, 1, 1], \"Freq\": [25.770628948024488, 25.416129857802694, 18.727423102718685, 18.628085934938674, 11.457732156515457]}, \"tinfo\": {\"Term\": [\"amend\", \"section\", \"penalty\", \"violation\", \"create\", \"public\", \"impose\", \"fund\", \"regulate\", \"fee\", \"vehicle\", \"position\", \"area\", \"office\", \"authorize\", \"regulation\", \"duty\", \"amount\", \"provide\", \"mayor\", \"tax\", \"establish\", \"prohibit\", \"require\", \"utility\", \"purpose\", \"appropriate\", \"declare\", \"market\", \"traffic\", \"public\", \"regulate\", \"prohibit\", \"road\", \"increase\", \"business\", \"medical\", \"new\", \"place\", \"territorial_jurisdiction\", \"house\", \"series\", \"processing\", \"owner\", \"support\", \"approve\", \"stall\", \"gold\", \"sell\", \"resolution\", \"installation\", \"structure\", \"front\", \"transfer\", \"death\", \"space\", \"construct\", \"corn\", \"use\", \"show\", \"penalty\", \"violation\", \"private\", \"market\", \"person\", \"operation\", \"provide\", \"establishment\", \"grant\", \"purpose\", \"government\", \"create\", \"position\", \"office\", \"authorize\", \"duty\", \"amount\", \"appropriate\", \"necessary\", \"peso\", \"legislative\", \"policy\", \"compensation\", \"officer\", \"certain\", \"take\", \"davao\", \"composition\", \"qualification\", \"appropriating\", \"power\", \"staff\", \"construction\", \"property\", \"department\", \"implement\", \"comprehensive\", \"real\", \"salary\", \"providing\", \"council\", \"fund\", \"local\", \"include\", \"purpose\", \"function\", \"provide\", \"grant\", \"guideline\", \"government\", \"service\", \"amend\", \"section\", \"regulation\", \"revise\", \"traffic\", \"adopt\", \"article\", \"terminal\", \"enact\", \"student\", \"appropriation\", \"barangay\", \"chapter\", \"repeal\", \"part\", \"temporary\", \"amending\", \"site\", \"issuance\", \"clearance\", \"official\", \"order\", \"scholarship\", \"child\", \"educational\", \"plan\", \"make\", \"tax\", \"deserving\", \"rename\", \"poor\", \"amend\", \"establish\", \"rule\", \"school\", \"implementation\", \"code\", \"declare\", \"guideline\", \"provide\", \"market\", \"operation\", \"development\", \"impose\", \"area\", \"mayor\", \"require\", \"year\", \"reclassify\", \"lot\", \"rate\", \"cover\", \"monthly\", \"situate\", \"own\", \"square_meter\", \"continue_reading\", \"zone\", \"sale\", \"commercial\", \"unit\", \"garbage\", \"bound\", \"industrial\", \"locate\", \"town\", \"close\", \"clock\", \"land\", \"rice\", \"register\", \"operator\", \"agricultural\", \"residential\", \"building\", \"operate\", \"declare\", \"fee\", \"permit\", \"vendor\", \"establishment\", \"portion\", \"utility\", \"parking\", \"charge\", \"annual\", \"poblacion\", \"tricycle\", \"bus\", \"jeepney\", \"truck\", \"collection\", \"system\", \"know\", \"administrative\", \"supply\", \"highway\", \"slaughter\", \"disposal\", \"letter\", \"pass\", \"driver\", \"ban\", \"set\", \"vehicle\", \"cargo\", \"payment\", \"schedule\", \"former\", \"motor\", \"national\", \"night\", \"street\", \"fee\", \"passenger\", \"prescribing\", \"service\", \"portion\", \"violation\", \"penalty\", \"provide\", \"enter\"], \"Freq\": [123.0, 84.0, 109.0, 97.0, 70.0, 71.0, 55.0, 79.0, 56.0, 48.0, 33.0, 46.0, 35.0, 43.0, 39.0, 31.0, 37.0, 35.0, 203.0, 28.0, 30.0, 36.0, 31.0, 24.0, 17.0, 67.0, 27.0, 35.0, 44.0, 20.0, 70.37756674820119, 56.24759251140363, 30.675369726918355, 23.544878947537782, 21.68044559563206, 17.83637649782056, 16.0245989920142, 15.372086747021612, 13.68484457259809, 12.651091532285273, 11.890082888485756, 12.039492429333148, 8.234122244986754, 8.285465421376944, 7.940300604260457, 7.80591383897357, 7.497088655942579, 7.270104181934374, 7.0821920671082905, 6.934675399187063, 6.573347034024719, 6.427659128176952, 6.185883078370814, 6.0970494780890405, 6.007061882458546, 5.728672124671591, 5.844614197634749, 5.71363812971186, 27.195612152384207, 5.350538301550664, 94.30436526471223, 82.62050214642863, 11.664294883266189, 31.53344861280114, 12.373730352991432, 24.63233845054869, 83.76144452553882, 19.1384582996665, 15.76849857424923, 14.224343809210557, 10.227092246869873, 69.86463008316014, 45.49290561855985, 43.12341976093411, 39.341715349722335, 36.57108923874588, 35.164131333633456, 27.15948245903741, 21.22619969441692, 18.897057067062757, 18.3696833804769, 17.363985863716398, 16.879807032956926, 16.18204713874734, 16.749166542046165, 14.71200413149135, 13.859344379747, 12.884165105100678, 12.183156033325728, 11.46618876543736, 11.167674627224034, 11.088327039654795, 11.640743341458007, 10.88166243275406, 9.762504520616321, 9.348302747332449, 9.725227894322762, 7.956989264678996, 7.818911468759705, 7.46261002388338, 6.981689064669623, 70.52068100182134, 15.20748671742957, 12.57351496068055, 47.48854715968659, 15.818558143207083, 74.84880998165146, 25.012067731854522, 20.83990717878037, 20.04850205113498, 17.148161753335973, 17.28340215021375, 83.62543020065036, 30.91206175235843, 19.087735898073515, 20.08400590907155, 17.73108269578689, 14.63330768681298, 14.897336413643817, 13.147173987169513, 12.169530308512892, 12.433150215768201, 11.549728384353404, 10.03744304388566, 10.14232215356645, 9.869645320330223, 9.396744732248848, 8.439222314495439, 8.19738224100816, 8.72986449685624, 8.217757412644888, 7.960132943466584, 7.7189765653947875, 7.25615262277688, 7.369604713898329, 7.148565520181269, 6.577697901538673, 7.2810347099335635, 27.393534528109694, 5.6661880687744866, 5.66654971686053, 5.423715547909682, 106.09146122019784, 26.69598117727116, 14.761000326481973, 15.012919374888991, 12.378950756715206, 11.93249066203569, 14.037685518744526, 14.030764704163943, 27.69078246609045, 12.125323052133547, 9.578628677873889, 8.618214240160265, 54.6617415856171, 34.8154072506466, 27.477758711494115, 23.508045107624927, 18.145248132717004, 16.586948582194154, 15.363573088940177, 14.946617899822899, 14.294358891191827, 12.105173262202994, 10.550806988886912, 10.28225626038853, 10.144320457454572, 10.04999826879126, 12.626419962624011, 9.764755152076345, 9.487061147078457, 9.197290996288299, 9.214520951698926, 8.524799649954598, 8.134400743645442, 7.382120638963693, 7.5491024486284095, 7.365542947195897, 7.264362721882961, 7.111125949267175, 6.524776849411691, 6.246280548547622, 6.286007806885983, 5.999099274564372, 9.125999622821857, 9.340922810234652, 8.899645601959696, 21.158932079843844, 24.490548790126304, 12.316604000679174, 8.246274964615841, 10.47684515769982, 9.085558118416346, 17.24991966827917, 12.626390643191506, 11.749281748345647, 8.800029731721631, 8.295191819241024, 8.21542419957041, 7.844155844000796, 7.418444924688116, 7.188223427356143, 6.436901083122826, 5.9623536164148145, 5.547068020499531, 5.318324809796942, 5.297665495834154, 5.254218334689983, 5.1302759902942885, 5.183901559281706, 5.221077849209397, 4.854773458286826, 4.966071802292794, 4.6344863036399575, 4.784220100009927, 29.050138705877668, 4.269756043912523, 4.491273857035625, 4.174483338859666, 4.231868936480463, 3.843603313218683, 3.879355830340633, 3.7138632633437534, 12.7340458248004, 23.436396359767933, 8.537030818100526, 8.29825029415706, 10.452501923326983, 7.911500012672762, 14.568383970668656, 14.24585168603511, 16.647042385120933, 5.047363671228413], \"Total\": [123.0, 84.0, 109.0, 97.0, 70.0, 71.0, 55.0, 79.0, 56.0, 48.0, 33.0, 46.0, 35.0, 43.0, 39.0, 31.0, 37.0, 35.0, 203.0, 28.0, 30.0, 36.0, 31.0, 24.0, 17.0, 67.0, 27.0, 35.0, 44.0, 20.0, 71.05672613648765, 56.92285388039937, 31.34269542580165, 24.22810097028537, 22.379642759742918, 18.548797178047604, 16.705453880234828, 16.059846603398103, 14.35234669080751, 13.340314307013879, 12.567028010425291, 12.744218578040696, 8.901972007332061, 8.979170925914513, 8.624215410491503, 8.484516255428373, 8.165613146752516, 7.938256864156149, 7.750959186932258, 7.606830473458566, 7.2423466667158465, 7.111704635566962, 6.854320387305016, 6.772020672650547, 6.673741385456719, 6.397502244776074, 6.528045498610927, 6.399054307018682, 30.496551091156306, 6.020809580694226, 109.08283129552811, 97.72032270495751, 13.948357764433494, 44.155842738335636, 16.136594648007275, 40.96300654585983, 203.10858020323292, 30.136906768627867, 41.2602307565143, 67.70541604685174, 38.44946639578249, 70.49257551201453, 46.12156768434403, 43.754377989063954, 39.97585164739883, 37.1950273414296, 35.79739528771632, 27.78280744491888, 21.848422265731596, 19.531020607499354, 18.99241698361216, 17.99472143313323, 17.50222317318906, 16.807002695487313, 17.41565171416601, 15.34268123063248, 14.525506307317647, 13.50754106962098, 12.805682962570222, 12.089856856923253, 11.79467448939185, 11.712471439652978, 12.316991963420499, 11.518083874350268, 10.391130456597537, 9.980580977293537, 10.426108384264966, 8.58591070086356, 8.441883812742603, 8.086789313265708, 7.606265161798501, 79.12056646723426, 17.45921122312679, 14.297889822917895, 67.70541604685174, 20.05327443379509, 203.10858020323292, 41.2602307565143, 38.38367661977587, 38.44946639578249, 28.100166675695355, 123.82994151101123, 84.26919046594814, 31.560955577788544, 19.73059794176752, 20.76690952107007, 18.372313323019075, 15.272173020978073, 15.56533934439147, 13.783753572477574, 12.809487534108603, 13.088986489905285, 12.192167400458908, 10.675637151939183, 10.79336693896364, 10.52730072243803, 10.062766275472919, 9.080458017875257, 8.835296042786021, 9.431247911248288, 8.882948708333085, 8.608532163574063, 8.369895377235263, 7.892713533711734, 8.021555222851136, 7.78626490197076, 7.22330187851078, 8.004936133564371, 30.238837328270343, 6.303532882087806, 6.309466263290312, 6.060590142986281, 123.82994151101123, 36.54300028255487, 18.74999497845761, 21.618400522666583, 17.990186837112763, 17.19847832373794, 35.68494161783852, 38.38367661977587, 203.10858020323292, 44.155842738335636, 40.96300654585983, 19.624313239906353, 55.36239747687995, 35.477185054448405, 28.16491935101655, 24.183260961561576, 18.817172485733714, 17.243074958758857, 16.01971247903566, 15.613391400333507, 14.95334709698472, 12.799338425602926, 11.212759279241991, 10.940147742571742, 10.800446279053956, 10.713860986384036, 13.469523085769843, 10.4332876200693, 10.16938516293806, 9.860032887130892, 9.887838459570988, 9.184529674740707, 8.806953730559018, 8.042173389201075, 8.22721286361369, 8.027815473521267, 7.924821634164399, 7.772568519628526, 7.2192456746749425, 6.913354615172406, 6.965840508899404, 6.6551925422197185, 10.322584608214747, 11.31955623287742, 11.014750361809634, 35.68494161783852, 48.458888891147645, 18.31981137338889, 10.961900548914741, 30.136906768627867, 17.528682273443497, 17.935114888855953, 13.329471649066368, 12.42748002187475, 9.493493575244043, 8.975545373314768, 8.89395857159987, 8.520891277634897, 8.094036386647641, 7.863675834772126, 7.111183001364253, 6.6449409965217345, 6.23733803804835, 5.994766603141121, 5.986398648818094, 5.937651059162626, 5.807759595106408, 5.869886392162804, 5.926820544729137, 5.530402705515727, 5.661264589543587, 5.313064854493049, 5.493101955862985, 33.35577951845859, 4.945462777521771, 5.204386248741707, 4.853424051927325, 4.926841457466288, 4.518952015062119, 4.561945929934747, 4.420598513295079, 21.235241051038194, 48.458888891147645, 14.156515438511676, 14.217814704519714, 28.100166675695355, 17.528682273443497, 97.72032270495751, 109.08283129552811, 203.10858020323292, 7.990374772751419], \"Category\": [\"Default\", \"Default\", \"Default\", \"Default\", \"Default\", \"Default\", \"Default\", \"Default\", \"Default\", \"Default\", \"Default\", \"Default\", \"Default\", \"Default\", \"Default\", \"Default\", \"Default\", \"Default\", \"Default\", \"Default\", \"Default\", \"Default\", \"Default\", \"Default\", \"Default\", \"Default\", \"Default\", \"Default\", \"Default\", \"Default\", \"Topic1\", \"Topic1\", \"Topic1\", \"Topic1\", \"Topic1\", \"Topic1\", \"Topic1\", \"Topic1\", \"Topic1\", \"Topic1\", \"Topic1\", \"Topic1\", \"Topic1\", \"Topic1\", \"Topic1\", \"Topic1\", \"Topic1\", \"Topic1\", \"Topic1\", \"Topic1\", \"Topic1\", \"Topic1\", \"Topic1\", \"Topic1\", \"Topic1\", \"Topic1\", \"Topic1\", \"Topic1\", \"Topic1\", \"Topic1\", \"Topic1\", \"Topic1\", \"Topic1\", \"Topic1\", \"Topic1\", \"Topic1\", \"Topic1\", \"Topic1\", \"Topic1\", \"Topic1\", \"Topic1\", \"Topic2\", \"Topic2\", \"Topic2\", \"Topic2\", \"Topic2\", \"Topic2\", \"Topic2\", \"Topic2\", \"Topic2\", \"Topic2\", \"Topic2\", \"Topic2\", \"Topic2\", \"Topic2\", \"Topic2\", \"Topic2\", \"Topic2\", \"Topic2\", \"Topic2\", \"Topic2\", \"Topic2\", \"Topic2\", \"Topic2\", \"Topic2\", \"Topic2\", \"Topic2\", \"Topic2\", \"Topic2\", \"Topic2\", \"Topic2\", \"Topic2\", \"Topic2\", \"Topic2\", \"Topic2\", \"Topic2\", \"Topic2\", \"Topic2\", \"Topic2\", \"Topic2\", \"Topic2\", \"Topic2\", \"Topic3\", \"Topic3\", \"Topic3\", \"Topic3\", \"Topic3\", \"Topic3\", \"Topic3\", \"Topic3\", \"Topic3\", \"Topic3\", \"Topic3\", \"Topic3\", \"Topic3\", \"Topic3\", \"Topic3\", \"Topic3\", \"Topic3\", \"Topic3\", \"Topic3\", \"Topic3\", \"Topic3\", \"Topic3\", \"Topic3\", \"Topic3\", \"Topic3\", \"Topic3\", \"Topic3\", \"Topic3\", \"Topic3\", \"Topic3\", \"Topic3\", \"Topic3\", \"Topic3\", \"Topic3\", \"Topic3\", \"Topic3\", \"Topic3\", \"Topic3\", \"Topic3\", \"Topic3\", \"Topic3\", \"Topic3\", \"Topic4\", \"Topic4\", \"Topic4\", \"Topic4\", \"Topic4\", \"Topic4\", \"Topic4\", \"Topic4\", \"Topic4\", \"Topic4\", \"Topic4\", \"Topic4\", \"Topic4\", \"Topic4\", \"Topic4\", \"Topic4\", \"Topic4\", \"Topic4\", \"Topic4\", \"Topic4\", \"Topic4\", \"Topic4\", \"Topic4\", \"Topic4\", \"Topic4\", \"Topic4\", \"Topic4\", \"Topic4\", \"Topic4\", \"Topic4\", \"Topic4\", \"Topic4\", \"Topic4\", \"Topic4\", \"Topic4\", \"Topic4\", \"Topic4\", \"Topic4\", \"Topic4\", \"Topic5\", \"Topic5\", \"Topic5\", \"Topic5\", \"Topic5\", \"Topic5\", \"Topic5\", \"Topic5\", \"Topic5\", \"Topic5\", \"Topic5\", \"Topic5\", \"Topic5\", \"Topic5\", \"Topic5\", \"Topic5\", \"Topic5\", \"Topic5\", \"Topic5\", \"Topic5\", \"Topic5\", \"Topic5\", \"Topic5\", \"Topic5\", \"Topic5\", \"Topic5\", \"Topic5\", \"Topic5\", \"Topic5\", \"Topic5\", \"Topic5\", \"Topic5\", \"Topic5\", \"Topic5\", \"Topic5\", \"Topic5\", \"Topic5\", \"Topic5\", \"Topic5\", \"Topic5\"], \"logprob\": [30.0, 29.0, 28.0, 27.0, 26.0, 25.0, 24.0, 23.0, 22.0, 21.0, 20.0, 19.0, 18.0, 17.0, 16.0, 15.0, 14.0, 13.0, 12.0, 11.0, 10.0, 9.0, 8.0, 7.0, 6.0, 5.0, 4.0, 3.0, 2.0, 1.0, -3.1967999935150146, -3.4209001064300537, -4.027200222015381, -4.2916998863220215, -4.374199867248535, -4.569399833679199, -4.676499843597412, -4.718100070953369, -4.834400177001953, -4.912899971008301, -4.974899768829346, -4.962399959564209, -5.342400074005127, -5.336100101470947, -5.378699779510498, -5.3958001136779785, -5.436100006103516, -5.466899871826172, -5.493100166320801, -5.514100074768066, -5.567599773406982, -5.590000152587891, -5.628399848937988, -5.6427998542785645, -5.657700061798096, -5.7052001953125, -5.685100078582764, -5.707799911499023, -4.147600173950195, -5.773399829864502, -2.904099941253662, -3.036400079727173, -4.994100093841553, -3.9995999336242676, -4.935100078582764, -4.246600151062012, -3.022700071334839, -4.498899936676025, -4.692599773406982, -4.7957000732421875, -5.1255998611450195, -3.190200090408325, -3.6191999912261963, -3.6726999282836914, -3.7644999027252197, -3.8375000953674316, -3.876800060272217, -4.1350998878479, -4.3815999031066895, -4.497799873352051, -4.526100158691406, -4.582399845123291, -4.6107001304626465, -4.652900218963623, -4.6184000968933105, -4.7480998039245605, -4.807799816131592, -4.880799770355225, -4.936699867248535, -4.997399806976318, -5.023799896240234, -5.030900001525879, -4.9822998046875, -5.049699783325195, -5.158199787139893, -5.201600074768066, -5.162099838256836, -5.36269998550415, -5.380199909210205, -5.4268999099731445, -5.493500232696533, -3.1809000968933105, -4.715000152587891, -4.905200004577637, -3.5762999057769775, -4.675600051879883, -3.121299982070923, -4.217400074005127, -4.399899959564209, -4.438600063323975, -4.594900131225586, -4.586999893188477, -2.7049999237060547, -3.700200080871582, -4.182300090789795, -4.131499767303467, -4.256100177764893, -4.4481000900268555, -4.430200099945068, -4.555200099945068, -4.632500171661377, -4.611000061035156, -4.684700012207031, -4.825099945068359, -4.814700126647949, -4.841899871826172, -4.890999794006348, -4.998499870300293, -5.027599811553955, -4.964600086212158, -5.025100231170654, -5.0569000244140625, -5.087699890136719, -5.149499893188477, -5.133999824523926, -5.1645002365112305, -5.247700214385986, -5.146100044250488, -3.8210999965667725, -5.396900177001953, -5.3968000411987305, -5.4405999183654785, -2.467099905014038, -3.84689998626709, -4.4394001960754395, -4.422500133514404, -4.6153998374938965, -4.652100086212158, -4.48960018157959, -4.490099906921387, -3.81030011177063, -4.636099815368652, -4.8719000816345215, -4.977499961853027, -3.1249001026153564, -3.5759999752044678, -3.812700033187866, -3.9686999320983887, -4.227700233459473, -4.317500114440918, -4.394100189208984, -4.421599864959717, -4.46619987487793, -4.632400035858154, -4.769899845123291, -4.7957000732421875, -4.809199810028076, -4.81850004196167, -4.5903000831604, -4.847300052642822, -4.876100063323975, -4.907199859619141, -4.905300140380859, -4.983099937438965, -5.03000020980835, -5.126999855041504, -5.104599952697754, -5.129300117492676, -5.143099784851074, -5.164400100708008, -5.250500202178955, -5.294099807739258, -5.287700176239014, -5.334499835968018, -4.914899826049805, -4.89169979095459, -4.940100193023682, -4.073999881744385, -3.927799940109253, -4.615099906921387, -5.016300201416016, -4.776899814605713, -4.919400215148926, -3.79229998588562, -4.104300022125244, -4.176300048828125, -4.4653000831604, -4.524400234222412, -4.53410005569458, -4.5802998542785645, -4.636099815368652, -4.667600154876709, -4.7779998779296875, -4.854599952697754, -4.926799774169922, -4.968900203704834, -4.972799777984619, -4.980999946594238, -5.004899978637695, -4.994500160217285, -4.987400054931641, -5.060100078582764, -5.037399768829346, -5.106500148773193, -5.074699878692627, -3.2709999084472656, -5.188499927520752, -5.137899875640869, -5.211100101470947, -5.197400093078613, -5.293700218200684, -5.28439998626709, -5.328000068664551, -4.095799922943115, -3.48580002784729, -4.495699882507324, -4.52400016784668, -4.2932000160217285, -4.571800231933594, -3.961199998855591, -3.983599901199341, -3.8278000354766846, -5.021200180053711], \"loglift\": [30.0, 29.0, 28.0, 27.0, 26.0, 25.0, 24.0, 23.0, 22.0, 21.0, 20.0, 19.0, 18.0, 17.0, 16.0, 15.0, 14.0, 13.0, 12.0, 11.0, 10.0, 9.0, 8.0, 7.0, 6.0, 5.0, 4.0, 3.0, 2.0, 1.0, 1.3463, 1.344, 1.3344, 1.3273, 1.3242, 1.3168, 1.3143, 1.3122, 1.3083, 1.3029, 1.3006, 1.299, 1.2779, 1.2755, 1.2733, 1.2726, 1.2705, 1.268, 1.2657, 1.2634, 1.259, 1.2548, 1.2533, 1.2509, 1.2507, 1.2455, 1.2453, 1.2426, 1.2414, 1.2379, 1.2104, 1.1881, 1.1771, 1.0193, 1.0904, 0.8473, 0.4702, 0.9019, 0.394, -0.2043, 0.0316, 1.3608, 1.3561, 1.3553, 1.3538, 1.3529, 1.3519, 1.3471, 1.3409, 1.3368, 1.3364, 1.3341, 1.3336, 1.3319, 1.3308, 1.3278, 1.3228, 1.3225, 1.32, 1.3168, 1.3152, 1.315, 1.3133, 1.3129, 1.3074, 1.3043, 1.3002, 1.2937, 1.2931, 1.2895, 1.2841, 1.2547, 1.2317, 1.2413, 1.0151, 1.1326, 0.3715, 0.8692, 0.759, 0.7186, 0.8759, -0.5994, 1.6675, 1.6544, 1.6421, 1.6417, 1.6397, 1.6324, 1.6313, 1.6279, 1.6239, 1.6238, 1.621, 1.6135, 1.613, 1.6107, 1.6067, 1.6019, 1.6002, 1.5979, 1.5973, 1.5969, 1.5942, 1.5911, 1.5904, 1.5897, 1.5816, 1.5804, 1.5764, 1.5686, 1.5677, 1.5642, 1.5206, 1.3612, 1.436, 1.3105, 1.3014, 1.3096, 0.7422, 0.6688, -0.3175, 0.3828, 0.222, 0.8523, 1.6678, 1.6617, 1.6558, 1.6522, 1.6441, 1.6417, 1.6387, 1.6369, 1.6354, 1.6247, 1.6196, 1.6185, 1.6178, 1.6165, 1.6159, 1.6143, 1.611, 1.6109, 1.61, 1.606, 1.6011, 1.5949, 1.5945, 1.5944, 1.5935, 1.5916, 1.5794, 1.579, 1.5778, 1.5767, 1.5573, 1.4884, 1.4673, 1.1578, 0.9981, 1.2835, 1.3958, 0.6239, 1.0233, 2.1276, 2.1123, 2.1104, 2.0907, 2.0877, 2.0871, 2.0838, 2.0793, 2.0767, 2.0669, 2.0581, 2.0492, 2.0468, 2.0443, 2.0442, 2.0425, 2.0422, 2.0397, 2.0362, 2.0355, 2.0299, 2.0283, 2.0283, 2.0196, 2.0191, 2.0158, 2.0145, 2.0046, 2.0044, 1.9923, 1.6551, 1.4401, 1.6607, 1.6281, 1.1776, 1.371, 0.2632, 0.1309, -0.335, 1.7071]}, \"token.table\": {\"Topic\": [5, 3, 4, 2, 3, 3, 2, 5, 2, 2, 3, 1, 4, 3, 2, 5, 3, 4, 2, 4, 5, 1, 5, 2, 3, 5, 3, 3, 4, 4, 2, 3, 5, 4, 2, 2, 2, 1, 2, 4, 1, 2, 4, 2, 2, 1, 3, 4, 2, 3, 2, 3, 5, 5, 2, 3, 3, 2, 5, 2, 3, 1, 4, 4, 5, 5, 1, 2, 5, 2, 3, 4, 1, 1, 2, 4, 1, 2, 2, 3, 5, 5, 1, 2, 2, 3, 4, 2, 3, 1, 4, 1, 3, 5, 5, 4, 2, 5, 2, 4, 4, 4, 3, 1, 3, 4, 1, 4, 5, 5, 2, 1, 5, 2, 2, 3, 1, 4, 1, 2, 3, 5, 4, 3, 4, 1, 5, 3, 5, 1, 5, 5, 1, 5, 3, 4, 1, 2, 2, 1, 3, 5, 2, 3, 4, 5, 2, 2, 3, 4, 5, 1, 3, 1, 1, 2, 1, 2, 3, 5, 2, 1, 1, 2, 4, 2, 4, 2, 4, 4, 1, 3, 3, 3, 4, 3, 4, 1, 3, 4, 1, 2, 3, 2, 4, 5, 3, 1, 3, 3, 1, 1, 2, 5, 5, 1, 3, 4, 5, 1, 4, 2, 1, 4, 5, 1, 3, 5, 1, 5, 2, 3, 5, 3, 3, 1, 4, 3, 1, 5, 5, 4, 1, 4, 5, 4, 5, 1, 4, 1, 5, 4, 4], \"Freq\": [0.8340608285533775, 0.9797350874398274, 0.901551677421313, 0.13728505232709265, 0.8560126792159896, 0.8810128282352795, 0.9777247679249461, 0.948017705881119, 0.9718240337492586, 0.9098536178036594, 0.9168013130164698, 0.942894062449538, 0.9865495232015717, 0.982178500688526, 0.9755889716620377, 0.9410764101198007, 0.9842384545629127, 0.9799086418928776, 0.1766853716571539, 0.7950841724571925, 0.9388689210244825, 0.9704133280029014, 0.8088221830686685, 0.9761334389899451, 0.9367122409348226, 0.965602035076918, 0.8726487327618196, 0.9006018454767399, 0.8833006373067837, 0.8719682238696957, 0.290723394586533, 0.6977361470076792, 0.8437414701392051, 0.8850092562921267, 0.9713051783068111, 0.9624253543257801, 0.9591306392989308, 0.9191112410715753, 0.9742638491311909, 0.9333703333194949, 0.937638549718044, 0.920293974913813, 0.9362452372166925, 0.9930123774250442, 0.9638218251261295, 0.899045925434731, 0.39232234565297847, 0.5884835184794677, 0.9623592006441224, 0.951847180340674, 0.5605291693791009, 0.4586147749465371, 0.8518052422063509, 0.8831948976974244, 0.9947566286310436, 0.8990189889671296, 0.9431393220753368, 0.25030115068198694, 0.6257528767049673, 0.24628519635527785, 0.7388555890658335, 0.6304562092543206, 0.331819057502274, 0.49526517320508073, 0.4746291243215357, 0.8118791794970946, 0.87536030721772, 0.7978746838987928, 0.1994686709746982, 0.8973646571325146, 0.10111151066281855, 0.9102090448583735, 0.8818056809936841, 0.26008163278689606, 0.5201632655737921, 0.20806530622951683, 0.3877826106795069, 0.6059103291867295, 0.5471075688768301, 0.3647383792512201, 0.07815822412526144, 0.8420838392455382, 0.9548797050539795, 0.9017511125329857, 0.27792929808184513, 0.6670303153964283, 0.99345408628607, 0.9092250787359177, 0.06994039067199367, 0.9830362457605522, 0.9083731156939101, 0.9665375495169797, 0.95427456522122, 0.8648342638473404, 0.9619488255084837, 0.9006031895791574, 0.9477466725552373, 0.843622640885697, 0.8591453421521544, 0.11455271228695392, 0.8704114747637135, 0.9363463932096087, 0.8744604433068848, 0.7247059056177392, 0.2717647146066522, 0.9586393507292431, 0.9577710437984872, 0.9375484576605941, 0.8851609812778715, 0.8768188096559083, 0.961167801710684, 0.934006430474009, 0.9048548489463323, 0.9827587998336417, 0.9519841395810573, 0.9293105779230295, 0.18157470067904619, 0.8170861530557079, 0.6103067647637493, 0.07323681177164992, 0.24412270590549975, 0.07323681177164992, 0.8613461638024201, 0.9558064515069904, 0.9140644381873093, 0.8909508534815216, 0.9752824674720363, 0.9499111181165241, 0.9040932941489538, 0.3531942603896646, 0.6357496687013963, 0.7685824627192307, 0.8617304747557791, 0.12834283666575433, 0.3275142891872521, 0.6550285783745042, 0.7436513255590698, 0.18591283138976744, 0.9728114255690531, 0.9754502383200384, 0.9690858997358119, 0.8913107412709242, 0.9447214875301335, 0.8250021667916834, 0.5134441859120968, 0.4563948319218639, 0.9756823598881106, 0.9326242966597694, 0.14066859370197152, 0.28133718740394303, 0.5626743748078861, 0.8603163327655996, 0.14338605546093325, 0.8986772811025291, 0.9890661788609432, 0.9550199599167711, 0.41357189300397146, 0.36926061875354593, 0.13785729766799049, 0.08369907358413708, 0.8656092954613124, 0.9851284150854647, 0.20677814002814907, 0.6941837558087862, 0.08861920286920674, 0.9370839521074232, 0.9607137626537432, 0.9317590502304398, 0.9859030387944011, 0.867885467184352, 0.9837876385759157, 0.9822262803036508, 0.950952069418162, 0.9264949534792878, 0.99242199131652, 0.09687496280768643, 0.8718746652691779, 0.9202255820507774, 0.9629713228193189, 0.9696303901328563, 0.9905852724253904, 0.21333339046734204, 0.8000002142525326, 0.9476557812753119, 0.958470653177831, 0.8241604189544441, 0.8868939649337666, 0.2775413469515974, 0.6938533673789934, 0.9968055885613745, 0.9031140315900077, 0.9416034358259482, 0.6049786179632802, 0.3558697752725178, 0.9102325134641494, 0.8304531031894017, 0.9054591901911383, 0.9810252522199536, 0.8609171778069081, 0.937866024962999, 0.9258876662711322, 0.939169846148706, 0.8572534449276373, 0.3767322433859953, 0.6121898955022423, 0.8436795828095672, 0.936805626926672, 0.835226701948284, 0.9276206146553186, 0.9029425548158627, 0.9776648406180598, 0.8928914728727897, 0.06614010910168813, 0.8943862704966808, 0.9636796004325358, 0.9744897834352408, 0.9723827659037996, 0.9630705993931372, 0.8859984766779543, 0.8994869872168674, 0.8901689422454234, 0.9127758601846665, 0.8853460156623982, 0.09837177951804425, 0.9478612267247315, 0.11991924811070477, 0.8694145488026096, 0.18245011356155805, 0.7298004542462322, 0.8493627292922281, 0.15349928842630628, 0.9565730459051032, 0.9651418181044672], \"Term\": [\"administrative\", \"adopt\", \"agricultural\", \"amend\", \"amend\", \"amending\", \"amount\", \"annual\", \"appropriate\", \"appropriating\", \"appropriation\", \"approve\", \"area\", \"article\", \"authorize\", \"ban\", \"barangay\", \"bound\", \"building\", \"building\", \"bus\", \"business\", \"cargo\", \"certain\", \"chapter\", \"charge\", \"child\", \"clearance\", \"clock\", \"close\", \"code\", \"code\", \"collection\", \"commercial\", \"compensation\", \"composition\", \"comprehensive\", \"construct\", \"construction\", \"continue_reading\", \"corn\", \"council\", \"cover\", \"create\", \"davao\", \"death\", \"declare\", \"declare\", \"department\", \"deserving\", \"development\", \"development\", \"disposal\", \"driver\", \"duty\", \"educational\", \"enact\", \"enter\", \"enter\", \"establish\", \"establish\", \"establishment\", \"establishment\", \"fee\", \"fee\", \"former\", \"front\", \"function\", \"function\", \"fund\", \"fund\", \"garbage\", \"gold\", \"government\", \"government\", \"government\", \"grant\", \"grant\", \"guideline\", \"guideline\", \"guideline\", \"highway\", \"house\", \"implement\", \"implementation\", \"implementation\", \"impose\", \"include\", \"include\", \"increase\", \"industrial\", \"installation\", \"issuance\", \"jeepney\", \"know\", \"land\", \"legislative\", \"letter\", \"local\", \"local\", \"locate\", \"lot\", \"make\", \"market\", \"market\", \"mayor\", \"medical\", \"monthly\", \"motor\", \"national\", \"necessary\", \"new\", \"night\", \"office\", \"officer\", \"official\", \"operate\", \"operate\", \"operation\", \"operation\", \"operation\", \"operation\", \"operator\", \"order\", \"own\", \"owner\", \"parking\", \"part\", \"pass\", \"passenger\", \"passenger\", \"payment\", \"penalty\", \"penalty\", \"permit\", \"permit\", \"person\", \"person\", \"peso\", \"place\", \"plan\", \"poblacion\", \"policy\", \"poor\", \"portion\", \"portion\", \"position\", \"power\", \"prescribing\", \"prescribing\", \"prescribing\", \"private\", \"private\", \"processing\", \"prohibit\", \"property\", \"provide\", \"provide\", \"provide\", \"provide\", \"providing\", \"public\", \"purpose\", \"purpose\", \"purpose\", \"qualification\", \"rate\", \"real\", \"reclassify\", \"register\", \"regulate\", \"regulation\", \"rename\", \"repeal\", \"require\", \"residential\", \"residential\", \"resolution\", \"revise\", \"rice\", \"road\", \"rule\", \"rule\", \"salary\", \"sale\", \"schedule\", \"scholarship\", \"school\", \"school\", \"section\", \"sell\", \"series\", \"service\", \"service\", \"set\", \"show\", \"site\", \"situate\", \"slaughter\", \"space\", \"square_meter\", \"staff\", \"stall\", \"street\", \"street\", \"structure\", \"student\", \"supply\", \"support\", \"system\", \"take\", \"tax\", \"tax\", \"temporary\", \"terminal\", \"territorial_jurisdiction\", \"town\", \"traffic\", \"transfer\", \"tricycle\", \"truck\", \"unit\", \"use\", \"use\", \"utility\", \"vehicle\", \"vehicle\", \"vendor\", \"vendor\", \"violation\", \"violation\", \"year\", \"zone\"]}, \"R\": 30, \"lambda.step\": 0.01, \"plot.opts\": {\"xlab\": \"PC1\", \"ylab\": \"PC2\"}, \"topic.order\": [4, 2, 5, 1, 3]};\n",
       "\n",
       "function LDAvis_load_lib(url, callback){\n",
       "  var s = document.createElement('script');\n",
       "  s.src = url;\n",
       "  s.async = true;\n",
       "  s.onreadystatechange = s.onload = callback;\n",
       "  s.onerror = function(){console.warn(\"failed to load library \" + url);};\n",
       "  document.getElementsByTagName(\"head\")[0].appendChild(s);\n",
       "}\n",
       "\n",
       "if(typeof(LDAvis) !== \"undefined\"){\n",
       "   // already loaded: just create the visualization\n",
       "   !function(LDAvis){\n",
       "       new LDAvis(\"#\" + \"ldavis_el81691407032368323849392373124\", ldavis_el81691407032368323849392373124_data);\n",
       "   }(LDAvis);\n",
       "}else if(typeof define === \"function\" && define.amd){\n",
       "   // require.js is available: use it to load d3/LDAvis\n",
       "   require.config({paths: {d3: \"https://cdnjs.cloudflare.com/ajax/libs/d3/3.5.5/d3.min\"}});\n",
       "   require([\"d3\"], function(d3){\n",
       "      window.d3 = d3;\n",
       "      LDAvis_load_lib(\"https://cdn.rawgit.com/bmabey/pyLDAvis/files/ldavis.v1.0.0.js\", function(){\n",
       "        new LDAvis(\"#\" + \"ldavis_el81691407032368323849392373124\", ldavis_el81691407032368323849392373124_data);\n",
       "      });\n",
       "    });\n",
       "}else{\n",
       "    // require.js not available: dynamically load d3 & LDAvis\n",
       "    LDAvis_load_lib(\"https://cdnjs.cloudflare.com/ajax/libs/d3/3.5.5/d3.min.js\", function(){\n",
       "         LDAvis_load_lib(\"https://cdn.rawgit.com/bmabey/pyLDAvis/files/ldavis.v1.0.0.js\", function(){\n",
       "                 new LDAvis(\"#\" + \"ldavis_el81691407032368323849392373124\", ldavis_el81691407032368323849392373124_data);\n",
       "            })\n",
       "         });\n",
       "}\n",
       "</script>"
      ],
      "text/plain": [
       "PreparedData(topic_coordinates=              x         y  topics  cluster       Freq\n",
       "topic                                                \n",
       "3      0.006496 -0.255043       1        1  25.770629\n",
       "1     -0.193137  0.056686       2        1  25.416130\n",
       "4     -0.137490  0.128210       3        1  18.727423\n",
       "0      0.249652  0.142762       4        1  18.628086\n",
       "2      0.074478 -0.072615       5        1  11.457732, topic_info=         Term        Freq       Total Category  logprob  loglift\n",
       "38      amend  123.000000  123.000000  Default  30.0000  30.0000\n",
       "44    section   84.000000   84.000000  Default  29.0000  29.0000\n",
       "19    penalty  109.000000  109.000000  Default  28.0000  28.0000\n",
       "28  violation   97.000000   97.000000  Default  27.0000  27.0000\n",
       "47     create   70.000000   70.000000  Default  26.0000  26.0000\n",
       "..        ...         ...         ...      ...      ...      ...\n",
       "65    portion    7.911500   17.528682   Topic5  -4.5718   1.3710\n",
       "28  violation   14.568384   97.720323   Topic5  -3.9612   0.2632\n",
       "19    penalty   14.245852  109.082831   Topic5  -3.9836   0.1309\n",
       "22    provide   16.647042  203.108580   Topic5  -3.8278  -0.3350\n",
       "41      enter    5.047364    7.990375   Topic5  -5.0212   1.7071\n",
       "\n",
       "[233 rows x 6 columns], token_table=      Topic      Freq            Term\n",
       "term                                 \n",
       "9         5  0.834061  administrative\n",
       "257       3  0.979735           adopt\n",
       "577       4  0.901552    agricultural\n",
       "38        2  0.137285           amend\n",
       "38        3  0.856013           amend\n",
       "...     ...       ...             ...\n",
       "509       4  0.729800          vendor\n",
       "28        1  0.849363       violation\n",
       "28        5  0.153499       violation\n",
       "79        4  0.956573            year\n",
       "412       4  0.965142            zone\n",
       "\n",
       "[233 rows x 3 columns], R=30, lambda_step=0.01, plot_opts={'xlab': 'PC1', 'ylab': 'PC2'}, topic_order=[4, 2, 5, 1, 3])"
      ]
     },
     "execution_count": 20,
     "metadata": {},
     "output_type": "execute_result"
    }
   ],
   "source": [
    "# Visualize the topics\n",
    "pyLDAvis.enable_notebook()\n",
    "vis = pyLDAvis.gensim.prepare(lda_model, corpus, id2word)\n",
    "vis"
   ]
  },
  {
   "cell_type": "code",
   "execution_count": 21,
   "metadata": {},
   "outputs": [],
   "source": [
    "mallet_path = '/Users/root1/Documents/lda/mallet/bin/mallet'\n",
    "ldamallet = gensim.models.wrappers.LdaMallet(mallet_path, corpus=corpus, num_topics=20, id2word=id2word)"
   ]
  },
  {
   "cell_type": "code",
   "execution_count": 22,
   "metadata": {},
   "outputs": [
    {
     "name": "stdout",
     "output_type": "stream",
     "text": [
      "[(5,\n",
      "  [('create', 0.21351351351351353),\n",
      "   ('purpose', 0.14324324324324325),\n",
      "   ('position', 0.12972972972972974),\n",
      "   ('duty', 0.1),\n",
      "   ('compensation', 0.04594594594594595),\n",
      "   ('officer', 0.043243243243243246),\n",
      "   ('composition', 0.03783783783783784),\n",
      "   ('function', 0.03783783783783784),\n",
      "   ('power', 0.024324324324324326),\n",
      "   ('cooperative', 0.01891891891891892)]),\n",
      " (11,\n",
      "  [('fund', 0.13468013468013468),\n",
      "   ('purpose', 0.09090909090909091),\n",
      "   ('local', 0.08417508417508418),\n",
      "   ('legislative', 0.07744107744107744),\n",
      "   ('staff', 0.04713804713804714),\n",
      "   ('qualification', 0.04713804713804714),\n",
      "   ('department', 0.037037037037037035),\n",
      "   ('providing', 0.030303030303030304),\n",
      "   ('additional', 0.030303030303030304),\n",
      "   ('assistant', 0.026936026936026935)]),\n",
      " (10,\n",
      "  [('office', 0.14420062695924765),\n",
      "   ('amount', 0.11912225705329153),\n",
      "   ('authorize', 0.11598746081504702),\n",
      "   ('mayor', 0.07523510971786834),\n",
      "   ('appropriation', 0.0438871473354232),\n",
      "   ('material', 0.03134796238244514),\n",
      "   ('supply', 0.025078369905956112),\n",
      "   ('repair', 0.018808777429467086),\n",
      "   ('saving', 0.018808777429467086),\n",
      "   ('balance', 0.018808777429467086)]),\n",
      " (14,\n",
      "  [('impose', 0.16717325227963525),\n",
      "   ('fee', 0.13069908814589665),\n",
      "   ('development', 0.07598784194528875),\n",
      "   ('rate', 0.060790273556231005),\n",
      "   ('sale', 0.0425531914893617),\n",
      "   ('unit', 0.03343465045592705),\n",
      "   ('concern', 0.02127659574468085),\n",
      "   ('inspection', 0.0182370820668693),\n",
      "   ('annual', 0.0182370820668693),\n",
      "   ('clearance', 0.0182370820668693)]),\n",
      " (8,\n",
      "  [('guideline', 0.190625),\n",
      "   ('operation', 0.128125),\n",
      "   ('prescribing', 0.06875),\n",
      "   ('provision', 0.05),\n",
      "   ('charge', 0.04375),\n",
      "   ('tricycle', 0.04375),\n",
      "   ('fee', 0.040625),\n",
      "   ('procedure', 0.040625),\n",
      "   ('collection', 0.034375),\n",
      "   ('provide', 0.03125)]),\n",
      " (1,\n",
      "  [('market', 0.13183279742765272),\n",
      "   ('declare', 0.1157556270096463),\n",
      "   ('business', 0.06752411575562701),\n",
      "   ('traffic', 0.05466237942122187),\n",
      "   ('site', 0.02572347266881029),\n",
      "   ('vendor', 0.02572347266881029),\n",
      "   ('close', 0.02572347266881029),\n",
      "   ('clock', 0.02572347266881029),\n",
      "   ('committee', 0.022508038585209004),\n",
      "   ('issuance', 0.022508038585209004)]),\n",
      " (18,\n",
      "  [('prohibit', 0.09602649006622517),\n",
      "   ('public', 0.09602649006622517),\n",
      "   ('require', 0.09271523178807947),\n",
      "   ('territorial_jurisdiction', 0.052980132450331126),\n",
      "   ('permit', 0.052980132450331126),\n",
      "   ('house', 0.03642384105960265),\n",
      "   ('license', 0.033112582781456956),\n",
      "   ('place', 0.026490066225165563),\n",
      "   ('plant', 0.023178807947019868),\n",
      "   ('benefit', 0.019867549668874173)]),\n",
      " (2,\n",
      "  [('area', 0.11764705882352941),\n",
      "   ('reclassify', 0.06764705882352941),\n",
      "   ('portion', 0.06764705882352941),\n",
      "   ('cover', 0.058823529411764705),\n",
      "   ('lot', 0.058823529411764705),\n",
      "   ('square_meter', 0.04411764705882353),\n",
      "   ('situate', 0.04411764705882353),\n",
      "   ('locate', 0.03823529411764706),\n",
      "   ('continue_reading', 0.03529411764705882),\n",
      "   ('park', 0.03235294117647059)]),\n",
      " (6,\n",
      "  [('penalty', 0.30939226519337015),\n",
      "   ('violation', 0.2513812154696133),\n",
      "   ('provide', 0.1712707182320442),\n",
      "   ('appropriating', 0.019337016574585635),\n",
      "   ('make', 0.013812154696132596),\n",
      "   ('personnel', 0.011049723756906077),\n",
      "   ('place', 0.011049723756906077),\n",
      "   ('waste', 0.008287292817679558),\n",
      "   ('limit', 0.008287292817679558),\n",
      "   ('tuition', 0.0055248618784530384)]),\n",
      " (16,\n",
      "  [('government', 0.16549295774647887),\n",
      "   ('provide', 0.14084507042253522),\n",
      "   ('service', 0.08098591549295775),\n",
      "   ('barangay', 0.0528169014084507),\n",
      "   ('salary', 0.028169014084507043),\n",
      "   ('driver', 0.02464788732394366),\n",
      "   ('national', 0.02112676056338028),\n",
      "   ('step', 0.02112676056338028),\n",
      "   ('regulating', 0.02112676056338028),\n",
      "   ('transfer', 0.017605633802816902)])]\n",
      "\n",
      "Coherence Score:  0.5161667854141078\n"
     ]
    }
   ],
   "source": [
    "# Show Topics\n",
    "pprint(ldamallet.show_topics(formatted=False))\n",
    "\n",
    "# Compute Coherence Score\n",
    "coherence_model_ldamallet = CoherenceModel(model=ldamallet, texts=data_lemmatized, dictionary=id2word, coherence='c_v')\n",
    "coherence_ldamallet = coherence_model_ldamallet.get_coherence()\n",
    "print('\\nCoherence Score: ', coherence_ldamallet)"
   ]
  },
  {
   "cell_type": "code",
   "execution_count": 23,
   "metadata": {},
   "outputs": [],
   "source": [
    "def compute_coherence_values(dictionary, corpus, texts, limit, start=2, step=3):\n",
    "    \"\"\"\n",
    "    Compute c_v coherence for various number of topics\n",
    "\n",
    "    Parameters:\n",
    "    ----------\n",
    "    dictionary : Gensim dictionary\n",
    "    corpus : Gensim corpus\n",
    "    texts : List of input texts\n",
    "    limit : Max num of topics\n",
    "\n",
    "    Returns:\n",
    "    -------\n",
    "    model_list : List of LDA topic models\n",
    "    coherence_values : Coherence values corresponding to the LDA model with respective number of topics\n",
    "    \"\"\"\n",
    "    coherence_values = []\n",
    "    model_list = []\n",
    "    for num_topics in range(start, limit, step):\n",
    "        model = gensim.models.wrappers.LdaMallet(mallet_path, corpus=corpus, num_topics=num_topics, id2word=id2word)\n",
    "        model_list.append(model)\n",
    "        coherencemodel = CoherenceModel(model=model, texts=texts, dictionary=dictionary, coherence='c_v')\n",
    "        coherence_values.append(coherencemodel.get_coherence())\n",
    "\n",
    "    return model_list, coherence_values"
   ]
  },
  {
   "cell_type": "code",
   "execution_count": 24,
   "metadata": {},
   "outputs": [],
   "source": [
    "model_list, coherence_values = compute_coherence_values(dictionary=id2word, corpus=corpus, texts=data_lemmatized, start=2, limit=40, step=6)"
   ]
  },
  {
   "cell_type": "code",
   "execution_count": 25,
   "metadata": {},
   "outputs": [
    {
     "data": {
      "image/png": "[encoded data removed]",
      "text/plain": [
       "<Figure size 432x288 with 1 Axes>"
      ]
     },
     "metadata": {
      "needs_background": "light"
     },
     "output_type": "display_data"
    }
   ],
   "source": [
    "# Show graph\n",
    "limit=40; start=2; step=6;\n",
    "x = range(start, limit, step)\n",
    "plt.plot(x, coherence_values)\n",
    "plt.xlabel(\"Num Topics\")\n",
    "plt.ylabel(\"Coherence score\")\n",
    "plt.legend((\"coherence_values\"), loc='best')\n",
    "plt.show()"
   ]
  },
  {
   "cell_type": "code",
   "execution_count": 26,
   "metadata": {},
   "outputs": [
    {
     "name": "stdout",
     "output_type": "stream",
     "text": [
      "Num Topics = 2  has Coherence Value of 0.3537\n",
      "Num Topics = 8  has Coherence Value of 0.4529\n",
      "Num Topics = 14  has Coherence Value of 0.5015\n",
      "Num Topics = 20  has Coherence Value of 0.5088\n",
      "Num Topics = 26  has Coherence Value of 0.5314\n",
      "Num Topics = 32  has Coherence Value of 0.5702\n",
      "Num Topics = 38  has Coherence Value of 0.5809\n"
     ]
    }
   ],
   "source": [
    "# Print the coherence scores\n",
    "for m, cv in zip(x, coherence_values):\n",
    "    print(\"Num Topics =\", m, \" has Coherence Value of\", round(cv, 4))"
   ]
  },
  {
   "cell_type": "code",
   "execution_count": 27,
   "metadata": {},
   "outputs": [
    {
     "name": "stdout",
     "output_type": "stream",
     "text": [
      "[(4,\n",
      "  '0.135*\"area\" + 0.077*\"portion\" + 0.074*\"reclassify\" + 0.067*\"lot\" + '\n",
      "  '0.067*\"cover\" + 0.051*\"square_meter\" + 0.051*\"situate\" + '\n",
      "  '0.044*\"continue_reading\" + 0.030*\"locate\" + 0.027*\"bound\"'),\n",
      " (19,\n",
      "  '0.339*\"section\" + 0.246*\"amend\" + 0.093*\"tax\" + 0.061*\"article\" + '\n",
      "  '0.045*\"chapter\" + 0.038*\"amending\" + 0.029*\"letter\" + 0.022*\"committee\" + '\n",
      "  '0.016*\"payment\" + 0.006*\"provincial\"'),\n",
      " (20,\n",
      "  '0.327*\"penalty\" + 0.181*\"violation\" + 0.154*\"provide\" + 0.019*\"gold\" + '\n",
      "  '0.015*\"village\" + 0.012*\"issue\" + 0.012*\"open\" + 0.012*\"home\" + '\n",
      "  '0.012*\"road\" + 0.012*\"sell\"'),\n",
      " (0,\n",
      "  '0.290*\"purpose\" + 0.129*\"create\" + 0.069*\"composition\" + 0.037*\"power\" + '\n",
      "  '0.037*\"salary\" + 0.032*\"office\" + 0.032*\"fund\" + 0.028*\"engage\" + '\n",
      "  '0.028*\"set\" + 0.023*\"territorial_jurisdiction\"'),\n",
      " (21,\n",
      "  '0.199*\"government\" + 0.087*\"provide\" + 0.056*\"property\" + 0.048*\"approve\" + '\n",
      "  '0.048*\"real\" + 0.035*\"schedule\" + 0.030*\"council\" + 0.030*\"subject\" + '\n",
      "  '0.026*\"national\" + 0.022*\"level\"'),\n",
      " (17,\n",
      "  '0.131*\"revise\" + 0.127*\"adopt\" + 0.122*\"code\" + 0.054*\"comprehensive\" + '\n",
      "  '0.036*\"child\" + 0.027*\"welfare\" + 0.027*\"enterprise\" + 0.027*\"hour\" + '\n",
      "  '0.023*\"plan\" + 0.023*\"water\"'),\n",
      " (22,\n",
      "  '0.181*\"regulation\" + 0.105*\"rule\" + 0.071*\"management\" + 0.071*\"act\" + '\n",
      "  '0.055*\"implement\" + 0.046*\"prescribe\" + 0.034*\"republic_act\" + '\n",
      "  '0.029*\"enforce\" + 0.029*\"govern\" + 0.025*\"integrate\"'),\n",
      " (10,\n",
      "  '0.129*\"establishment\" + 0.117*\"require\" + 0.085*\"business\" + 0.060*\"permit\" '\n",
      "  '+ 0.040*\"license\" + 0.040*\"system\" + 0.032*\"employee\" + 0.024*\"show\" + '\n",
      "  '0.024*\"similar\" + 0.024*\"secure\"'),\n",
      " (14,\n",
      "  '0.198*\"regulate\" + 0.194*\"provide\" + 0.110*\"operation\" + 0.091*\"violation\" '\n",
      "  '+ 0.030*\"amend\" + 0.023*\"maintenance\" + 0.023*\"establishment\" + '\n",
      "  '0.019*\"limit\" + 0.019*\"moviehouse\" + 0.019*\"disposal\"'),\n",
      " (13,\n",
      "  '0.245*\"amend\" + 0.118*\"increase\" + 0.092*\"year\" + 0.083*\"monthly\" + '\n",
      "  '0.057*\"enact\" + 0.039*\"parking\" + 0.031*\"impose\" + 0.026*\"purok\" + '\n",
      "  '0.022*\"subsistence\" + 0.017*\"facility\"'),\n",
      " (25,\n",
      "  '0.237*\"establish\" + 0.110*\"implementation\" + 0.101*\"program\" + '\n",
      "  '0.048*\"educational\" + 0.044*\"student\" + 0.039*\"scholarship\" + '\n",
      "  '0.026*\"deserving\" + 0.026*\"organization\" + 0.026*\"poor\" + '\n",
      "  '0.022*\"technical\"'),\n",
      " (3,\n",
      "  '0.258*\"guideline\" + 0.093*\"policy\" + 0.064*\"benefit\" + 0.051*\"incentive\" + '\n",
      "  '0.038*\"qualify\" + 0.034*\"purpose\" + 0.034*\"otherwise_known\" + '\n",
      "  '0.025*\"separation\" + 0.025*\"additional\" + 0.025*\"mandatory\"'),\n",
      " (23,\n",
      "  '0.111*\"provide\" + 0.092*\"function\" + 0.085*\"operation\" + '\n",
      "  '0.085*\"prescribing\" + 0.081*\"fee\" + 0.059*\"charge\" + 0.052*\"tricycle\" + '\n",
      "  '0.048*\"provision\" + 0.048*\"procedure\" + 0.041*\"collection\"'),\n",
      " (12,\n",
      "  '0.181*\"impose\" + 0.121*\"fee\" + 0.091*\"development\" + 0.083*\"rate\" + '\n",
      "  '0.049*\"sale\" + 0.030*\"annual\" + 0.026*\"concern\" + 0.023*\"slaughter\" + '\n",
      "  '0.023*\"bid\" + 0.023*\"inspection\"'),\n",
      " (15,\n",
      "  '0.189*\"grant\" + 0.108*\"peso\" + 0.085*\"medical\" + 0.052*\"assistance\" + '\n",
      "  '0.052*\"official\" + 0.047*\"death\" + 0.047*\"allowance\" + 0.033*\"case\" + '\n",
      "  '0.028*\"financial\" + 0.028*\"burial\"'),\n",
      " (9,\n",
      "  '0.269*\"provide\" + 0.151*\"fund\" + 0.066*\"series\" + 0.047*\"purpose\" + '\n",
      "  '0.042*\"repeal\" + 0.042*\"civil\" + 0.028*\"organization\" + 0.028*\"processing\" '\n",
      "  '+ 0.024*\"garbage\" + 0.019*\"strengthen\"'),\n",
      " (18,\n",
      "  '0.204*\"public\" + 0.115*\"vehicle\" + 0.056*\"utility\" + 0.045*\"terminal\" + '\n",
      "  '0.045*\"passenger\" + 0.030*\"enter\" + 0.026*\"jeepney\" + 0.026*\"truck\" + '\n",
      "  '0.026*\"park\" + 0.026*\"bus\"'),\n",
      " (8,\n",
      "  '0.106*\"service\" + 0.074*\"barangay\" + 0.055*\"operate\" + 0.046*\"include\" + '\n",
      "  '0.032*\"cable\" + 0.032*\"issuance\" + 0.032*\"driver\" + 0.028*\"clearance\" + '\n",
      "  '0.028*\"make\" + 0.028*\"commercial\"'),\n",
      " (1,\n",
      "  '0.117*\"penalty\" + 0.109*\"violation\" + 0.091*\"street\" + 0.091*\"road\" + '\n",
      "  '0.074*\"traffic\" + 0.035*\"close\" + 0.030*\"town\" + 0.026*\"bonifacio\" + '\n",
      "  '0.026*\"plant\" + 0.022*\"honor\"'),\n",
      " (24,\n",
      "  '0.151*\"create\" + 0.142*\"position\" + 0.107*\"duty\" + 0.074*\"local\" + '\n",
      "  '0.068*\"legislative\" + 0.050*\"compensation\" + 0.047*\"officer\" + '\n",
      "  '0.042*\"qualification\" + 0.036*\"staff\" + 0.033*\"department\"')]\n"
     ]
    }
   ],
   "source": [
    "# Select the model and print the topics\n",
    "optimal_model = model_list[4]\n",
    "model_topics = optimal_model.show_topics(formatted=False)\n",
    "pprint(optimal_model.print_topics(num_words=10))"
   ]
  },
  {
   "cell_type": "code",
   "execution_count": 28,
   "metadata": {},
   "outputs": [
    {
     "data": {
      "text/html": [
       "<div>\n",
       "<style scoped>\n",
       "    .dataframe tbody tr th:only-of-type {\n",
       "        vertical-align: middle;\n",
       "    }\n",
       "\n",
       "    .dataframe tbody tr th {\n",
       "        vertical-align: top;\n",
       "    }\n",
       "\n",
       "    .dataframe thead th {\n",
       "        text-align: right;\n",
       "    }\n",
       "</style>\n",
       "<table border=\"1\" class=\"dataframe\">\n",
       "  <thead>\n",
       "    <tr style=\"text-align: right;\">\n",
       "      <th></th>\n",
       "      <th>Document_No</th>\n",
       "      <th>Dominant_Topic</th>\n",
       "      <th>Topic_Perc_Contrib</th>\n",
       "      <th>Keywords</th>\n",
       "      <th>Text</th>\n",
       "    </tr>\n",
       "  </thead>\n",
       "  <tbody>\n",
       "    <tr>\n",
       "      <th>0</th>\n",
       "      <td>0</td>\n",
       "      <td>8.0</td>\n",
       "      <td>0.0973</td>\n",
       "      <td>service, barangay, operate, include, cable, is...</td>\n",
       "      <td>“AN ORDINANCE REGULATING THE PRACTICE OF TRADI...</td>\n",
       "    </tr>\n",
       "    <tr>\n",
       "      <th>1</th>\n",
       "      <td>1</td>\n",
       "      <td>23.0</td>\n",
       "      <td>0.1987</td>\n",
       "      <td>provide, function, operation, prescribing, fee...</td>\n",
       "      <td>“AN ORDINANCE RECONSTITUTING THE MEMBERS OF TH...</td>\n",
       "    </tr>\n",
       "    <tr>\n",
       "      <th>2</th>\n",
       "      <td>2</td>\n",
       "      <td>3.0</td>\n",
       "      <td>0.0506</td>\n",
       "      <td>guideline, policy, benefit, incentive, qualify...</td>\n",
       "      <td>“AN ORDINANCE ESTABLISHING FUNERAL AND BURIAL ...</td>\n",
       "    </tr>\n",
       "    <tr>\n",
       "      <th>3</th>\n",
       "      <td>3</td>\n",
       "      <td>19.0</td>\n",
       "      <td>0.0928</td>\n",
       "      <td>section, amend, tax, article, chapter, amendin...</td>\n",
       "      <td>AN ORDINANCE AMENDING THE TITLE, SECTION 1, SE...</td>\n",
       "    </tr>\n",
       "    <tr>\n",
       "      <th>4</th>\n",
       "      <td>4</td>\n",
       "      <td>21.0</td>\n",
       "      <td>0.0541</td>\n",
       "      <td>government, provide, property, approve, real, ...</td>\n",
       "      <td>“AN ORDINANCE CREATING THE CITY HISTORICAL, CU...</td>\n",
       "    </tr>\n",
       "    <tr>\n",
       "      <th>5</th>\n",
       "      <td>5</td>\n",
       "      <td>9.0</td>\n",
       "      <td>0.0562</td>\n",
       "      <td>provide, fund, series, purpose, repeal, civil,...</td>\n",
       "      <td>“AN ORDINANCE INSTITUTIONALIZING THE HUGPONG S...</td>\n",
       "    </tr>\n",
       "    <tr>\n",
       "      <th>6</th>\n",
       "      <td>6</td>\n",
       "      <td>11.0</td>\n",
       "      <td>0.0541</td>\n",
       "      <td>market, declare, vendor, site, part, stall, te...</td>\n",
       "      <td>“AN ORDINANCE DECLARING THE AREA IN FRONT OF T...</td>\n",
       "    </tr>\n",
       "    <tr>\n",
       "      <th>7</th>\n",
       "      <td>7</td>\n",
       "      <td>25.0</td>\n",
       "      <td>0.0701</td>\n",
       "      <td>establish, implementation, program, educationa...</td>\n",
       "      <td>AN ORDINANCE AMENDING SECTION 2 OF CITY ORDINA...</td>\n",
       "    </tr>\n",
       "    <tr>\n",
       "      <th>8</th>\n",
       "      <td>8</td>\n",
       "      <td>8.0</td>\n",
       "      <td>0.0752</td>\n",
       "      <td>service, barangay, operate, include, cable, is...</td>\n",
       "      <td>AN ORDINANCE GRANTING THE TEMPORARY CLOSURE OF...</td>\n",
       "    </tr>\n",
       "    <tr>\n",
       "      <th>9</th>\n",
       "      <td>9</td>\n",
       "      <td>1.0</td>\n",
       "      <td>0.1547</td>\n",
       "      <td>penalty, violation, street, road, traffic, clo...</td>\n",
       "      <td>“AN ORDINANCE GRANTING TEMPORARY CLOSURE FROM ...</td>\n",
       "    </tr>\n",
       "  </tbody>\n",
       "</table>\n",
       "</div>"
      ],
      "text/plain": [
       "   Document_No  Dominant_Topic  Topic_Perc_Contrib  \\\n",
       "0            0             8.0              0.0973   \n",
       "1            1            23.0              0.1987   \n",
       "2            2             3.0              0.0506   \n",
       "3            3            19.0              0.0928   \n",
       "4            4            21.0              0.0541   \n",
       "5            5             9.0              0.0562   \n",
       "6            6            11.0              0.0541   \n",
       "7            7            25.0              0.0701   \n",
       "8            8             8.0              0.0752   \n",
       "9            9             1.0              0.1547   \n",
       "\n",
       "                                            Keywords  \\\n",
       "0  service, barangay, operate, include, cable, is...   \n",
       "1  provide, function, operation, prescribing, fee...   \n",
       "2  guideline, policy, benefit, incentive, qualify...   \n",
       "3  section, amend, tax, article, chapter, amendin...   \n",
       "4  government, provide, property, approve, real, ...   \n",
       "5  provide, fund, series, purpose, repeal, civil,...   \n",
       "6  market, declare, vendor, site, part, stall, te...   \n",
       "7  establish, implementation, program, educationa...   \n",
       "8  service, barangay, operate, include, cable, is...   \n",
       "9  penalty, violation, street, road, traffic, clo...   \n",
       "\n",
       "                                                Text  \n",
       "0  “AN ORDINANCE REGULATING THE PRACTICE OF TRADI...  \n",
       "1  “AN ORDINANCE RECONSTITUTING THE MEMBERS OF TH...  \n",
       "2  “AN ORDINANCE ESTABLISHING FUNERAL AND BURIAL ...  \n",
       "3  AN ORDINANCE AMENDING THE TITLE, SECTION 1, SE...  \n",
       "4  “AN ORDINANCE CREATING THE CITY HISTORICAL, CU...  \n",
       "5  “AN ORDINANCE INSTITUTIONALIZING THE HUGPONG S...  \n",
       "6  “AN ORDINANCE DECLARING THE AREA IN FRONT OF T...  \n",
       "7  AN ORDINANCE AMENDING SECTION 2 OF CITY ORDINA...  \n",
       "8  AN ORDINANCE GRANTING THE TEMPORARY CLOSURE OF...  \n",
       "9  “AN ORDINANCE GRANTING TEMPORARY CLOSURE FROM ...  "
      ]
     },
     "execution_count": 28,
     "metadata": {},
     "output_type": "execute_result"
    }
   ],
   "source": [
    "def format_topics_sentences(ldamodel=lda_model, corpus=corpus, texts=data):\n",
    "    # Init output\n",
    "    sent_topics_df = pd.DataFrame()\n",
    "\n",
    "    # Get main topic in each document\n",
    "    for i, row in enumerate(ldamodel[corpus]):\n",
    "        row = sorted(row, key=lambda x: (x[1]), reverse=True)\n",
    "        # Get the Dominant topic, Perc Contribution and Keywords for each document\n",
    "        for j, (topic_num, prop_topic) in enumerate(row):\n",
    "            if j == 0:  # => dominant topic\n",
    "                wp = ldamodel.show_topic(topic_num)\n",
    "                topic_keywords = \", \".join([word for word, prop in wp])\n",
    "                sent_topics_df = sent_topics_df.append(pd.Series([int(topic_num), round(prop_topic,4), topic_keywords]), ignore_index=True)\n",
    "            else:\n",
    "                break\n",
    "    sent_topics_df.columns = ['Dominant_Topic', 'Perc_Contribution', 'Topic_Keywords']\n",
    "\n",
    "    # Add original text to the end of the output\n",
    "    contents = pd.Series(texts)\n",
    "    sent_topics_df = pd.concat([sent_topics_df, contents], axis=1)\n",
    "    return(sent_topics_df)\n",
    "\n",
    "df_topic_sents_keywords = format_topics_sentences(ldamodel=optimal_model, corpus=corpus, texts=data)\n",
    "\n",
    "# Format\n",
    "df_dominant_topic = df_topic_sents_keywords.reset_index()\n",
    "df_dominant_topic.columns = ['Document_No', 'Dominant_Topic', 'Topic_Perc_Contrib', 'Keywords', 'Text']\n",
    "\n",
    "# Show\n",
    "df_dominant_topic.head(10)"
   ]
  },
  {
   "cell_type": "code",
   "execution_count": 29,
   "metadata": {},
   "outputs": [],
   "source": [
    "# Convert malletmodel to to gensim lda model for pyLDAvis\n",
    "model = gensim.models.wrappers.ldamallet.malletmodel2ldamodel(ldamallet)"
   ]
  },
  {
   "cell_type": "code",
   "execution_count": 30,
   "metadata": {},
   "outputs": [
    {
     "name": "stderr",
     "output_type": "stream",
     "text": [
      "/Users/root1/Documents/lda/myvenv/lib/python3.9/site-packages/pyLDAvis/_prepare.py:223: RuntimeWarning: divide by zero encountered in log\n",
      "  kernel = (topic_given_term * np.log((topic_given_term.T / topic_proportion).T))\n",
      "/Users/root1/Documents/lda/myvenv/lib/python3.9/site-packages/pyLDAvis/_prepare.py:240: RuntimeWarning: divide by zero encountered in log\n",
      "  log_lift = np.log(topic_term_dists / term_proportion)\n",
      "/Users/root1/Documents/lda/myvenv/lib/python3.9/site-packages/pyLDAvis/_prepare.py:241: RuntimeWarning: divide by zero encountered in log\n",
      "  log_ttd = np.log(topic_term_dists)\n"
     ]
    },
    {
     "data": {
      "text/html": [
       "\n",
       "<link rel=\"stylesheet\" type=\"text/css\" href=\"https://cdn.rawgit.com/bmabey/pyLDAvis/files/ldavis.v1.0.0.css\">\n",
       "\n",
       "\n",
       "<div id=\"ldavis_el81691407032032881124453489286\"></div>\n",
       "<script type=\"text/javascript\">\n",
       "\n",
       "var ldavis_el81691407032032881124453489286_data = {\"mdsDat\": {\"x\": [0.12356188336386126, -0.27380148347123234, 0.08236344743283128, 0.06553545965977946, -0.0640558266828183, 0.1009685948156175, 0.08050579117731854, 0.07890668193813123, 0.009706622660537047, 0.09116047548253148, 0.05109164515745677, 0.05512161386770157, 0.10660396957079052, 0.08268545418516297, 0.08931267998758735, 0.049729370721070275, -0.2954391562197385, 0.10887580713453034, -0.2603719599389423, -0.2824610708421756], \"y\": [0.17532982428267746, 0.08935909887621735, -0.27285263523427367, 0.05153240766878202, -0.036712876188512225, 0.12548498684510184, -0.03240614323797444, -0.06927392632374313, -0.3409772419457613, 0.06142747046586314, -0.006890532967208997, 0.09703022366255647, 0.05695572500445644, -0.03226401637473871, 0.0675203713463149, -0.04568851487108913, -0.10139950134150134, 0.07545110510227285, 0.06411261497252976, 0.07426156025803088], \"topics\": [1, 2, 3, 4, 5, 6, 7, 8, 9, 10, 11, 12, 13, 14, 15, 16, 17, 18, 19, 20], \"cluster\": [1, 1, 1, 1, 1, 1, 1, 1, 1, 1, 1, 1, 1, 1, 1, 1, 1, 1, 1, 1], \"Freq\": [5.211958697796489, 5.175225635876686, 5.104667721210411, 5.072451690079937, 5.053539052072657, 5.036847904156734, 5.036087530236728, 5.009989306418765, 4.9907260255853725, 4.982152067829116, 4.972617421382121, 4.965642827986859, 4.96487897549078, 4.94657389359393, 4.939888134262272, 4.938692163285772, 4.936027539731653, 4.894874069226815, 4.890132323518179, 4.877027020258719]}, \"tinfo\": {\"Term\": [\"provide\", \"amend\", \"penalty\", \"section\", \"fund\", \"violation\", \"create\", \"grant\", \"guideline\", \"regulate\", \"purpose\", \"public\", \"impose\", \"government\", \"establish\", \"regulation\", \"office\", \"fee\", \"operation\", \"position\", \"market\", \"amount\", \"area\", \"authorize\", \"declare\", \"duty\", \"prohibit\", \"require\", \"school\", \"vehicle\", \"play\", \"distribution\", \"van\", \"toll\", \"passenger\", \"jeepney\", \"bus\", \"designate\", \"examination\", \"protective\", \"single\", \"total\", \"mall\", \"ban\", \"general\", \"paanakan\", \"smoke\", \"overseas\", \"disability\", \"proponent\", \"private\", \"contract\", \"theater\", \"free\", \"staffing\", \"center\", \"number\", \"truck\", \"presecribe\", \"vaccinate\", \"poblacion\", \"cemetery\", \"enclose\", \"thereat\", \"distance\", \"joint\", \"ware\", \"supermarket\", \"test\", \"vehicle\", \"butcher\", \"occupancy\", \"cbbe\", \"subject\", \"utility\", \"public\", \"movie\", \"terminal\", \"cargo\", \"include\", \"room\", \"davao\", \"person\", \"worker\", \"mayor\", \"compound\", \"oil\", \"liquefy\", \"bereave\", \"personnel\", \"wire\", \"river\", \"donation\", \"recondition\", \"pawn\", \"complaint\", \"rider\", \"heavy\", \"stage\", \"sponsorship\", \"partnership\", \"volunteer\", \"race\", \"fair\", \"reconstitute\", \"penalty\", \"livestock\", \"coral\", \"spare\", \"rolando\", \"trailer\", \"playing\", \"tuition\", \"cooking\", \"perimeter\", \"junction\", \"attend\", \"cine\", \"inquire\", \"corpse\", \"vegetable\", \"weapon\", \"comission\", \"call\", \"astablishment\", \"violation\", \"make\", \"provide\", \"appropriating\", \"limit\", \"waste\", \"place\", \"pass\", \"resolution\", \"purchase\", \"plaza\", \"ground\", \"health\", \"produce\", \"refuse\", \"counterpart\", \"grade\", \"practitioner\", \"condonation\", \"record\", \"agriculture\", \"servicing\", \"palm\", \"board\", \"constituent\", \"position\", \"officer\", \"compensation\", \"offer\", \"solo\", \"affair\", \"blgu\", \"cooperative\", \"power\", \"sneak\", \"create\", \"practice\", \"iodate\", \"vice\", \"delivery\", \"countryside\", \"buying\", \"load\", \"duly\", \"meeting\", \"regard\", \"cockfighting\", \"lotto\", \"fresh\", \"examine\", \"slide\", \"dpwh\", \"cyanide\", \"duty\", \"vioaltion\", \"composition\", \"purpose\", \"function\", \"title\", \"qualify\", \"mill\", \"social\", \"processing\", \"project\", \"clerk\", \"reroute\", \"situate\", \"comprise\", \"agricultural\", \"defer\", \"mercury\", \"overhead\", \"tct\", \"parcel\", \"embrace\", \"reclassify\", \"square_meter\", \"park\", \"lot\", \"classify\", \"rene\", \"represent\", \"term\", \"involve\", \"locate\", \"land\", \"cover\", \"point\", \"disablitie\", \"musa\", \"action\", \"portion\", \"area\", \"fishery\", \"analysis\", \"line\", \"minor\", \"salt\", \"correspond\", \"forest\", \"charcoal\", \"cargoe\", \"potassium\", \"bordio\", \"continue_reading\", \"industrial\", \"choice\", \"bound\", \"enterprise\", \"continue_reade\", \"administrative\", \"estimate\", \"bed\", \"entitlte\", \"judicial\", \"placement\", \"crash\", \"belong\", \"veneer\", \"physical\", \"basement\", \"mother\", \"lactate\", \"transitory\", \"environmental\", \"approach\", \"programof\", \"tagumenyos\", \"indigent\", \"funeral\", \"tricycle\", \"guideline\", \"ctfrb\", \"collection\", \"traditional\", \"coastal\", \"shrub\", \"bureau\", \"disabled\", \"muicipality\", \"removal\", \"unfilled\", \"birth\", \"theatre\", \"duration\", \"occupant\", \"station\", \"gasoline\", \"exclusive\", \"volatile\", \"sidecar\", \"travelling_expense\", \"prescribing\", \"provision\", \"procedure\", \"charge\", \"franchise\", \"operation\", \"overtime\", \"conspicuous\", \"function\", \"fee\", \"set\", \"promulgate\", \"capitalization\", \"nw\", \"tourist\", \"provide\", \"place\", \"comfort\", \"manage\", \"referee\", \"laboratory\", \"amelioration\", \"filing\", \"responsiblitie\", \"type\", \"dump\", \"zonifying\", \"permit\", \"plant\", \"cloa\", \"embraced\", \"fruit\", \"village\", \"density\", \"transportable\", \"sport\", \"canopy\", \"violence\", \"participation\", \"territorial_jurisdiction\", \"recording\", \"comunitie\", \"recognize\", \"refusal\", \"deposit\", \"araw\", \"prohibit\", \"mananabang\", \"distributor\", \"house\", \"license\", \"secure\", \"home\", \"issue\", \"kind\", \"throw\", \"counter\", \"motion\", \"daily\", \"oath\", \"ticket\", \"relate\", \"require\", \"erect\", \"midwife\", \"change\", \"place\", \"memory\", \"public\", \"date\", \"benefit\", \"display\", \"set\", \"promulgate\", \"alley\", \"community\", \"agency\", \"waste\", \"shed\", \"bid\", \"cad\", \"calamba\", \"treat\", \"relief\", \"deed\", \"tcnhs\", \"mobile\", \"institutional\", \"regulatory\", \"low\", \"promulgating\", \"concern\", \"bring\", \"clearance\", \"impose\", \"conveyance\", \"enable\", \"assumption\", \"teacher\", \"unit\", \"family\", \"basic\", \"restroom\", \"sale\", \"development\", \"administer\", \"pta\", \"continue\", \"slaughter\", \"inspection\", \"late\", \"highly\", \"head\", \"goat\", \"hog\", \"large\", \"cattle\", \"pollutive\", \"agent\", \"video\", \"butchered\", \"branch\", \"inspect\", \"defective\", \"rate\", \"monitor\", \"fee\", \"peddle\", \"plan\", \"conduct\", \"annual\", \"organization\", \"operator\", \"motorize\", \"comfort\", \"dope\", \"annually\", \"add\", \"prescribe\", \"batching\", \"implement\", \"determine\", \"adult\", \"addition\", \"standard\", \"microbiological\", \"underprivilege\", \"act\", \"campaign\", \"expand\", \"tobacco\", \"promotion\", \"csos\", \"integrate\", \"food\", \"enforce\", \"micro\", \"hospital\", \"violative\", \"rule\", \"regulation\", \"patient\", \"transport\", \"petitioner\", \"card\", \"gold\", \"omission\", \"generator\", \"animal\", \"requirement\", \"intermission\", \"viii\", \"domestic\", \"employer\", \"salted\", \"lessee\", \"obtain\", \"mission\", \"management\", \"civil\", \"extend\", \"lumpsum\", \"republic_act\", \"govern\", \"anti\", \"processing\", \"collect\", \"accreditation\", \"registration\", \"tv\", \"owner\", \"medical\", \"curb\", \"quasi\", \"fortify\", \"urban\", \"housing\", \"pedicab\", \"big\", \"activate\", \"representative\", \"qualification\", \"department\", \"additional\", \"staff\", \"congratulate\", \"adjudge\", \"facility\", \"rental\", \"availmant\", \"vawc\", \"concept\", \"law\", \"people\", \"indigenous\", \"fully\", \"blood\", \"contraband\", \"noon\", \"destroy\", \"sugar\", \"disposable\", \"local\", \"legislative\", \"assistant\", \"treasurer\", \"communication\", \"mfrb\", \"kilometer\", \"small\", \"likewise\", \"firewood\", \"increment\", \"vaccination\", \"providing\", \"drug\", \"bar\", \"motor\", \"fund\", \"mandatory\", \"legal\", \"purpose\", \"slaughterhouse\", \"seminar\", \"operator\", \"social\", \"office\", \"osmena\", \"psp\", \"balance\", \"saving\", \"pay\", \"emergency\", \"eliseo\", \"aid\", \"utilization\", \"authorize\", \"relocate\", \"material\", \"repair\", \"brand\", \"job\", \"ornamental\", \"role\", \"taxation\", \"water\", \"supply\", \"drinking\", \"chemical\", \"circle\", \"consumer\", \"appropriation\", \"preschooler\", \"alpha\", \"framework\", \"subsequent\", \"amount\", \"equipment\", \"augment\", \"meter\", \"exist\", \"secretary\", \"conference\", \"ipmr\", \"burial_assistance\", \"abbatoir\", \"parlor\", \"unobligated\", \"radius\", \"lessor\", \"mayor\", \"flammable\", \"enter\", \"circumferential\", \"hire\", \"officially\", \"rubbish\", \"birthing\", \"accident\", \"poor\", \"hospitalization\", \"financial\", \"comply\", \"measure\", \"circuit\", \"herunder\", \"student\", \"hour\", \"scholarship\", \"civotespro\", \"death\", \"vocational\", \"functionary\", \"tanod\", \"coordinate\", \"conflict\", \"amendment\", \"assistance\", \"program\", \"educational\", \"initial\", \"demand\", \"case\", \"advance\", \"purok\", \"establish\", \"deserving\", \"burial\", \"sickness\", \"tourism\", \"hereunder\", \"fun\", \"reforestation\", \"isidoro\", \"casual\", \"implementation\", \"medical\", \"official\", \"education\", \"technical\", \"strengthen\", \"establishment\", \"dangerous\", \"clock\", \"satellite\", \"traffic\", \"malnourish\", \"close\", \"vendor\", \"coordinator\", \"issuance\", \"circuse\", \"riding\", \"communal\", \"ambulant\", \"contribution\", \"marketing\", \"miscellaneous\", \"market\", \"institution\", \"table\", \"man\", \"celebration\", \"part\", \"committee\", \"steering\", \"week\", \"jail\", \"morning\", \"applicable\", \"triathlon\", \"fix\", \"business\", \"site\", \"stall\", \"payment\", \"night\", \"vehicular\", \"declare\", \"revert\", \"dead\", \"subscribe\", \"relocation\", \"everyday\", \"sack\", \"employment\", \"ip\", \"expense\", \"temporary\", \"front\", \"order\", \"terminal\", \"violation\", \"permanent\", \"helmet\", \"acquisition\", \"amend\", \"section\", \"article\", \"surgical\", \"chapter\", \"desk\", \"revenue\", \"platform\", \"ride\", \"propagate\", \"briz\", \"litter\", \"cso\", \"letter\", \"improvement\", \"bath\", \"jeep\", \"bincungan\", \"proprietor\", \"upgrade\", \"fine\", \"corn\", \"refiller\", \"customer\", \"limited\", \"district\", \"tax\", \"series\", \"amending\", \"sitio\", \"code\", \"charge\", \"rate\", \"growth\", \"technical\", \"expense\", \"liquor\", \"structure\", \"complete\", \"electrical\", \"calendar\", \"install\", \"nursery\", \"connect\", \"construct\", \"connection\", \"installation\", \"raise\", \"protect\", \"electrician\", \"cable\", \"maintain\", \"motorcycle\", \"ply\", \"residential\", \"utilize\", \"cipsdo\", \"woman\", \"trade\", \"activity\", \"afternoon\", \"clinic\", \"commercial\", \"transaction\", \"maintenance\", \"amusement\", \"operate\", \"regulate\", \"building\", \"condition\", \"premise\", \"build\", \"hold\", \"work\", \"zone\", \"technologist\", \"disposal\", \"control\", \"fare\", \"honor\", \"unauthorized\", \"strategically\", \"ng\", \"magugpo_w\", \"lrc\", \"iodide\", \"consultant\", \"tabo\", \"jukebox\", \"amnesty\", \"day\", \"judge\", \"phone\", \"wear\", \"follow\", \"carbon\", \"admit\", \"subsistence\", \"allowance\", \"peso\", \"increase\", \"monthly\", \"directly\", \"lane\", \"appointment\", \"year\", \"rizal\", \"corner\", \"bonifacio\", \"street\", \"parking\", \"administrator\", \"lapu\", \"sobrecarey\", \"month\", \"police\", \"tomb\", \"dispatch\", \"sergeant\", \"paper\", \"performance\", \"unnamed\", \"subdivision\", \"operating\", \"road\", \"obstacle\", \"child\", \"person\", \"honorarium\", \"appropriating\", \"welfare\", \"special\", \"mandatory\", \"control\", \"pleasure\", \"constituting\", \"magic\", \"outlet\", \"seedling\", \"generate\", \"pso\", \"conservation\", \"girl\", \"procurement\", \"beer\", \"box\", \"cocktail\", \"juke\", \"volume\", \"impair\", \"borrow\", \"good\", \"request\", \"cultural\", \"specifically\", \"pregnant\", \"priority\", \"donor\", \"found\", \"live\", \"classroom\", \"high\", \"construction\", \"empower\", \"system\", \"rename\", \"honorable\", \"similar\", \"identify\", \"rice\", \"secondary\", \"elementary\", \"php\", \"render\", \"court\", \"provincial\", \"band\", \"mixed\", \"superstore\", \"school\", \"support\", \"resolution\", \"meat\", \"engage\", \"drive\", \"machine\", \"operation\", \"establishment\", \"utility\", \"pusher\", \"drainage\", \"stated\", \"peacekeeper\", \"ensure\", \"auditing\", \"limestone\", \"covering\", \"manufacture\", \"pollution\", \"cyclamate\", \"television\", \"cespro\", \"concert\", \"tvis\", \"steward\", \"investment\", \"inhabitant\", \"grow\", \"veteran\", \"spouse\", \"policy\", \"detention\", \"taxpayer\", \"member\", \"lead\", \"mechanic\", \"canal\", \"solicitation\", \"riverbank\", \"moviehouse\", \"veterinarian\", \"deserve\", \"poultry\", \"thereto\", \"valuable\", \"cough\", \"bridge\", \"effective\", \"fund\", \"establishment\", \"destruction\", \"baggage\", \"provide\", \"sell\", \"organization\", \"qualify\", \"rabie\", \"human\", \"worker\", \"respective\", \"inoperative\", \"philippine\", \"aquatic\", \"compromise\", \"age\", \"level\", \"classification\", \"assessment\", \"sanitary\", \"bhws\", \"tciic\", \"separation\", \"entitle\", \"resident\", \"privilege\", \"assignment\", \"trial\", \"approve\", \"sanitation\", \"enforcement\", \"select\", \"diversion\", \"property\", \"participate\", \"incentive\", \"revise\", \"economic\", \"otherwise_known\", \"comprehensive\", \"loan\", \"usual\", \"time\", \"province\", \"hereto\", \"accountant\", \"transportation\", \"training\", \"adopt\", \"insurance\", \"suspension\", \"code\", \"enact\", \"real\", \"schedule\", \"benefit\", \"owner\", \"davao\", \"form\", \"annual\", \"include\", \"product\", \"service\", \"ulity\", \"responsibilite\", \"gather\", \"concrete\", \"security\", \"step\", \"elective\", \"recruitment\", \"resale\", \"orderly\", \"balamban\", \"national\", \"regulating\", \"optional\", \"bleacher\", \"peace\", \"salary\", \"integration\", \"postpone\", \"elect\", \"mechanism\", \"submit\", \"iccs\", \"governance\", \"efficient\", \"beap\", \"anniversary\", \"government\", \"festival\", \"driver\", \"space\", \"contractor\", \"gas\", \"assign\", \"certificate\", \"unloading\", \"equal\", \"signboard\", \"illegal\", \"copy\", \"barangay\", \"transfer\", \"provide\", \"highway\", \"employee\", \"memorial\", \"grant\", \"renewable\", \"marriage\", \"gender\", \"fish\", \"thereon\", \"clep\", \"internal\", \"accounting\", \"status\", \"organic\", \"responsible\", \"unappropriated\", \"responsibilie\", \"importer\", \"retailer\", \"register\", \"uniform\", \"garbage\", \"award\", \"dct\", \"show\", \"open\", \"korean\", \"ratify\", \"repeal\", \"entity\", \"access\", \"report\", \"inspector\", \"council\", \"town\", \"supervise\", \"hectare\", \"intersection\", \"graduating\", \"achievement\", \"skeletal\", \"parochial\", \"reduce\", \"stockpile\", \"continue_reade\", \"express\", \"bicycle\", \"ordinance\", \"undergo\", \"implementatio\", \"provide\", \"councilor\", \"budget\", \"plate\", \"employee\", \"serve\", \"order\"], \"Freq\": [258.0, 118.0, 106.0, 88.0, 117.0, 93.0, 72.0, 67.0, 64.0, 62.0, 80.0, 75.0, 56.0, 54.0, 51.0, 49.0, 47.0, 57.0, 56.0, 44.0, 43.0, 39.0, 39.0, 38.0, 39.0, 36.0, 32.0, 32.0, 32.0, 33.0, 1.0876706307464052, 1.0876706307464052, 3.263011892239215, 3.263011892239215, 13.05204756895686, 7.613694415224836, 7.613694415224836, 5.4383531537320255, 2.1753412614928105, 1.0876706307464052, 1.0876706307464052, 1.0876706307464052, 2.1753412614928105, 5.4383531537320255, 1.0876706307464052, 1.0876706307464052, 3.263011892239215, 1.0876706307464052, 5.4383531537320255, 1.0876706307464052, 15.227388830449671, 3.263011892239215, 4.350682522985621, 3.263011892239215, 3.263011892239215, 3.263011892239215, 4.350682522985621, 7.613694415224836, 1.0876706307464052, 1.0876706307464052, 6.52602378447843, 4.350682522985621, 4.350682522985621, 3.263011892239215, 2.1753412614928105, 2.1753412614928105, 2.1753412614928105, 2.1753412614928105, 1.0876706307464052, 31.542448291645748, 1.0876706307464052, 1.0876706307464052, 1.0876706307464052, 6.52602378447843, 13.05204756895686, 43.506825229856204, 5.4383531537320255, 9.789035676717646, 5.4383531537320255, 8.701365045971242, 4.350682522985621, 7.613694415224836, 7.613694415224836, 4.350682522985621, 6.52602378447843, 0.9547004639885224, 0.9547004639885224, 0.9547004639885224, 0.9547004639885224, 3.8188018559540895, 1.9094009279770447, 0.9547004639885224, 0.9547004639885224, 0.9547004639885224, 0.9547004639885224, 0.9547004639885224, 0.9547004639885224, 0.9547004639885224, 0.9547004639885224, 0.9547004639885224, 0.9547004639885224, 0.9547004639885224, 1.9094009279770447, 0.9547004639885224, 0.9547004639885224, 106.92645196671451, 1.9094009279770447, 0.9547004639885224, 0.9547004639885224, 0.9547004639885224, 0.9547004639885224, 0.9547004639885224, 1.9094009279770447, 0.9547004639885224, 1.9094009279770447, 1.9094009279770447, 0.9547004639885224, 0.9547004639885224, 0.9547004639885224, 0.9547004639885224, 0.9547004639885224, 0.9547004639885224, 0.9547004639885224, 0.9547004639885224, 0.9547004639885224, 86.87774222295555, 4.773502319942612, 59.19142876728839, 6.682903247919657, 2.8641013919655673, 2.8641013919655673, 3.8188018559540895, 1.9094009279770447, 1.9094009279770447, 0.9547004639885224, 0.9547004639885224, 0.9547004639885224, 0.9547004639885224, 0.9547004639885224, 0.9213235416822467, 1.8426470833644935, 4.606617708411234, 0.9213235416822467, 0.9213235416822467, 2.76397062504674, 0.9213235416822467, 0.9213235416822467, 0.9213235416822467, 2.76397062504674, 0.9213235416822467, 44.22353000074784, 14.741176666915948, 15.662500208598194, 0.9213235416822467, 0.9213235416822467, 1.8426470833644935, 0.9213235416822467, 6.449264791775727, 8.29191187514022, 0.9213235416822467, 72.7845597928975, 0.9213235416822467, 0.9213235416822467, 2.76397062504674, 1.8426470833644935, 0.9213235416822467, 0.9213235416822467, 0.9213235416822467, 0.9213235416822467, 1.8426470833644935, 1.8426470833644935, 0.9213235416822467, 0.9213235416822467, 0.9213235416822467, 0.9213235416822467, 0.9213235416822467, 0.9213235416822467, 0.9213235416822467, 34.08897104224313, 0.9213235416822467, 12.898529583551454, 48.83014770915908, 12.898529583551454, 2.76397062504674, 4.606617708411234, 1.8426470833644935, 1.8426470833644935, 1.8426470833644935, 0.9213235416822467, 0.9213235416822467, 1.9925783756678723, 14.944337817509044, 1.9925783756678723, 7.970313502671489, 0.9962891878339362, 0.9962891878339362, 0.9962891878339362, 5.977735127003617, 3.9851567513357447, 7.970313502671489, 22.914651320180532, 14.944337817509044, 10.959181066173299, 19.925783756678722, 2.9888675635018087, 0.9962891878339362, 2.9888675635018087, 7.970313502671489, 5.977735127003617, 12.951759441841173, 8.966602690505425, 19.925783756678722, 5.977735127003617, 0.9962891878339362, 0.9962891878339362, 0.9962891878339362, 22.914651320180532, 39.851567513357445, 0.9962891878339362, 0.9962891878339362, 5.977735127003617, 4.981445939169681, 3.9851567513357447, 2.9888675635018087, 2.9888675635018087, 1.9925783756678723, 0.9962891878339362, 0.9962891878339362, 0.9962891878339362, 11.955470254007235, 6.974024314837553, 0.9962891878339362, 6.974024314837553, 4.981445939169681, 1.9925783756678723, 9.491493878364716, 1.054610430929413, 2.109220861858826, 1.054610430929413, 1.054610430929413, 1.054610430929413, 1.054610430929413, 1.054610430929413, 1.054610430929413, 1.054610430929413, 1.054610430929413, 1.054610430929413, 1.054610430929413, 1.054610430929413, 2.109220861858826, 1.054610430929413, 1.054610430929413, 1.054610430929413, 2.109220861858826, 2.109220861858826, 14.764546033011781, 64.33123628669419, 6.327662585576477, 11.600714740223543, 2.109220861858826, 1.054610430929413, 1.054610430929413, 1.054610430929413, 1.054610430929413, 1.054610430929413, 2.109220861858826, 2.109220861858826, 2.109220861858826, 2.109220861858826, 1.054610430929413, 1.054610430929413, 1.054610430929413, 1.054610430929413, 1.054610430929413, 1.054610430929413, 1.054610430929413, 1.054610430929413, 23.201429480447086, 16.87376689487061, 13.70993560208237, 14.764546033011781, 9.491493878364716, 43.239027668105926, 3.1638312927882386, 1.054610430929413, 9.491493878364716, 13.70993560208237, 3.1638312927882386, 2.109220861858826, 1.054610430929413, 1.054610430929413, 1.054610430929413, 10.54610430929413, 2.109220861858826, 1.054610430929413, 1.054610430929413, 1.1137771623827377, 2.2275543247654754, 1.1137771623827377, 1.1137771623827377, 1.1137771623827377, 2.2275543247654754, 1.1137771623827377, 1.1137771623827377, 17.820434598123803, 7.796440136679164, 1.1137771623827377, 2.2275543247654754, 3.341331487148213, 4.455108649530951, 2.2275543247654754, 1.1137771623827377, 1.1137771623827377, 1.1137771623827377, 1.1137771623827377, 1.1137771623827377, 17.820434598123803, 1.1137771623827377, 1.1137771623827377, 3.341331487148213, 1.1137771623827377, 1.1137771623827377, 3.341331487148213, 32.2995377090994, 1.1137771623827377, 1.1137771623827377, 12.251548786210114, 11.137771623827378, 6.682662974296426, 5.568885811913689, 3.341331487148213, 2.2275543247654754, 2.2275543247654754, 2.2275543247654754, 2.2275543247654754, 2.2275543247654754, 2.2275543247654754, 2.2275543247654754, 2.2275543247654754, 31.185760546716654, 1.1137771623827377, 1.1137771623827377, 4.455108649530951, 8.910217299061902, 3.341331487148213, 32.2995377090994, 3.341331487148213, 6.682662974296426, 3.341331487148213, 3.341331487148213, 2.2275543247654754, 2.2275543247654754, 2.2275543247654754, 2.2275543247654754, 2.2275543247654754, 1.0222186178395403, 6.133311707037241, 1.0222186178395403, 1.0222186178395403, 1.0222186178395403, 1.0222186178395403, 1.0222186178395403, 1.0222186178395403, 1.0222186178395403, 1.0222186178395403, 3.0666558535186206, 1.0222186178395403, 1.0222186178395403, 7.155530324876782, 1.0222186178395403, 6.133311707037241, 56.222023981174715, 1.0222186178395403, 1.0222186178395403, 1.0222186178395403, 5.111093089197701, 11.244404796234942, 3.0666558535186206, 2.0444372356790805, 3.0666558535186206, 14.311060649753564, 25.555465445988506, 3.0666558535186206, 1.0222186178395403, 2.0444372356790805, 6.133311707037241, 6.133311707037241, 5.111093089197701, 4.088874471358161, 3.0666558535186206, 3.0666558535186206, 3.0666558535186206, 3.0666558535186206, 3.0666558535186206, 2.0444372356790805, 2.0444372356790805, 2.0444372356790805, 2.0444372356790805, 1.0222186178395403, 1.0222186178395403, 1.0222186178395403, 20.444372356790804, 1.0222186178395403, 43.95540056710023, 1.0222186178395403, 5.111093089197701, 4.088874471358161, 6.133311707037241, 6.133311707037241, 3.0666558535186206, 3.0666558535186206, 2.0444372356790805, 1.1576715774485993, 1.1576715774485993, 2.3153431548971986, 16.20740208428039, 2.3153431548971986, 15.049730506831791, 1.1576715774485993, 1.1576715774485993, 1.1576715774485993, 5.788357887242997, 1.1576715774485993, 1.1576715774485993, 19.680416816626188, 1.1576715774485993, 2.3153431548971986, 2.3153431548971986, 1.1576715774485993, 1.1576715774485993, 6.946029464691596, 9.261372619588794, 8.103701042140194, 1.1576715774485993, 4.630686309794397, 4.630686309794397, 28.94178943621498, 49.77987783028977, 1.1576715774485993, 4.630686309794397, 1.1576715774485993, 1.1576715774485993, 5.788357887242997, 4.630686309794397, 2.3153431548971986, 2.3153431548971986, 1.1576715774485993, 1.1576715774485993, 1.1576715774485993, 1.1576715774485993, 1.1576715774485993, 1.1576715774485993, 1.1576715774485993, 1.1576715774485993, 1.1576715774485993, 18.52274523917759, 9.261372619588794, 1.1576715774485993, 1.1576715774485993, 8.103701042140194, 6.946029464691596, 5.788357887242997, 4.630686309794397, 2.3153431548971986, 2.3153431548971986, 2.3153431548971986, 2.3153431548971986, 3.473014732345798, 4.630686309794397, 1.122157185146772, 1.122157185146772, 1.122157185146772, 1.122157185146772, 2.244314370293544, 1.122157185146772, 1.122157185146772, 1.122157185146772, 4.488628740587088, 15.71020059205481, 12.343729036614493, 10.099414666320948, 15.71020059205481, 1.122157185146772, 1.122157185146772, 6.732943110880633, 5.61078592573386, 1.122157185146772, 1.122157185146772, 1.122157185146772, 6.732943110880633, 6.732943110880633, 5.61078592573386, 3.3664715554403166, 1.122157185146772, 1.122157185146772, 1.122157185146772, 1.122157185146772, 1.122157185146772, 1.122157185146772, 28.053929628669305, 25.809615258375757, 8.977257481174176, 4.488628740587088, 2.244314370293544, 2.244314370293544, 1.122157185146772, 1.122157185146772, 1.122157185146772, 1.122157185146772, 1.122157185146772, 1.122157185146772, 10.099414666320948, 4.488628740587088, 3.3664715554403166, 3.3664715554403166, 44.88628740587088, 4.488628740587088, 4.488628740587088, 30.298243998962846, 2.244314370293544, 2.244314370293544, 2.244314370293544, 1.122157185146772, 47.976718790353935, 1.04297214761639, 1.04297214761639, 6.25783288569834, 6.25783288569834, 4.17188859046556, 1.04297214761639, 1.04297214761639, 2.08594429523278, 1.04297214761639, 38.589969461806426, 3.12891644284917, 10.429721476163898, 6.25783288569834, 1.04297214761639, 1.04297214761639, 1.04297214761639, 1.04297214761639, 1.04297214761639, 5.214860738081949, 8.34377718093112, 4.17188859046556, 1.04297214761639, 1.04297214761639, 3.12891644284917, 14.601610066629458, 1.04297214761639, 1.04297214761639, 1.04297214761639, 3.12891644284917, 39.632941609422815, 6.25783288569834, 5.214860738081949, 4.17188859046556, 3.12891644284917, 3.12891644284917, 2.08594429523278, 2.08594429523278, 2.08594429523278, 2.08594429523278, 2.08594429523278, 2.08594429523278, 1.04297214761639, 1.04297214761639, 25.03133154279336, 1.04297214761639, 6.25783288569834, 2.08594429523278, 3.12891644284917, 2.08594429523278, 0.9597439057800523, 2.879231717340157, 3.8389756231202092, 5.758463434680314, 4.7987195289002615, 6.718207340460367, 0.9597439057800523, 0.9597439057800523, 1.9194878115601046, 0.9597439057800523, 13.436414680920734, 5.758463434680314, 8.637695152020472, 2.879231717340157, 9.597439057800523, 3.8389756231202092, 3.8389756231202092, 0.9597439057800523, 2.879231717340157, 0.9597439057800523, 0.9597439057800523, 10.557182963580575, 23.033853738721255, 10.557182963580575, 0.9597439057800523, 0.9597439057800523, 6.718207340460367, 0.9597439057800523, 6.718207340460367, 51.82617091212283, 5.758463434680314, 5.758463434680314, 3.8389756231202092, 2.879231717340157, 2.879231717340157, 1.9194878115601046, 1.9194878115601046, 1.9194878115601046, 1.9194878115601046, 23.033853738721255, 17.275390304040943, 8.637695152020472, 4.7987195289002615, 3.8389756231202092, 2.879231717340157, 2.879231717340157, 1.0662560387555067, 8.530048310044053, 2.1325120775110133, 18.126352658843615, 1.0662560387555067, 8.530048310044053, 8.530048310044053, 3.1987681162665202, 7.463792271288547, 1.0662560387555067, 1.0662560387555067, 1.0662560387555067, 1.0662560387555067, 1.0662560387555067, 1.0662560387555067, 1.0662560387555067, 43.71649758897577, 2.1325120775110133, 3.1987681162665202, 1.0662560387555067, 6.3975362325330405, 7.463792271288547, 7.463792271288547, 3.1987681162665202, 6.3975362325330405, 1.0662560387555067, 5.331280193777533, 1.0662560387555067, 1.0662560387555067, 1.0662560387555067, 22.39137681386564, 8.530048310044053, 6.3975362325330405, 5.331280193777533, 5.331280193777533, 4.265024155022027, 38.38521739519824, 3.1987681162665202, 3.1987681162665202, 2.1325120775110133, 2.1325120775110133, 2.1325120775110133, 1.0662560387555067, 6.3975362325330405, 1.0662560387555067, 3.1987681162665202, 4.265024155022027, 3.1987681162665202, 3.1987681162665202, 3.1987681162665202, 4.265024155022027, 1.6745182726428, 0.8372591363214, 2.5117774089642, 118.05353822131741, 88.7494684500684, 15.907923590106599, 0.8372591363214, 12.558887044821, 2.5117774089642, 2.5117774089642, 0.8372591363214, 0.8372591363214, 0.8372591363214, 0.8372591363214, 0.8372591363214, 0.8372591363214, 7.5353322268926, 0.8372591363214, 0.8372591363214, 0.8372591363214, 0.8372591363214, 0.8372591363214, 0.8372591363214, 0.8372591363214, 3.3490365452856, 0.8372591363214, 0.8372591363214, 0.8372591363214, 1.6745182726428, 24.2805149533206, 10.8843687721782, 8.372591363214, 2.5117774089642, 2.5117774089642, 1.6745182726428, 1.6745182726428, 0.8372591363214, 0.8372591363214, 0.8372591363214, 0.8372591363214, 10.010066806490991, 2.2244592903313314, 3.3366889354969977, 3.3366889354969977, 5.561148225828329, 1.1122296451656657, 1.1122296451656657, 6.6733778709939955, 1.1122296451656657, 6.6733778709939955, 3.3366889354969977, 1.1122296451656657, 2.2244592903313314, 7.7856075161596605, 3.3366889354969977, 2.2244592903313314, 2.2244592903313314, 13.346755741987991, 4.448918580662663, 1.1122296451656657, 2.2244592903313314, 6.6733778709939955, 6.6733778709939955, 3.3366889354969977, 2.2244592903313314, 14.458985387153655, 1.1122296451656657, 7.7856075161596605, 2.2244592903313314, 13.346755741987991, 62.284860129277284, 13.346755741987991, 8.897837161325326, 6.6733778709939955, 4.448918580662663, 3.3366889354969977, 3.3366889354969977, 11.122296451656657, 2.2244592903313314, 5.561148225828329, 4.448918580662663, 3.3366889354969977, 3.3366889354969977, 1.057326056429598, 2.114652112859196, 1.057326056429598, 1.057326056429598, 1.057326056429598, 1.057326056429598, 1.057326056429598, 1.057326056429598, 1.057326056429598, 1.057326056429598, 5.28663028214799, 2.114652112859196, 1.057326056429598, 1.057326056429598, 3.1719781692887943, 1.057326056429598, 1.057326056429598, 5.28663028214799, 11.630586620725579, 25.375825354310354, 28.547803523599146, 20.08919507216236, 2.114652112859196, 1.057326056429598, 1.057326056429598, 22.20384718502156, 4.229304225718392, 6.343956338577589, 6.343956338577589, 22.20384718502156, 9.515934507866383, 4.229304225718392, 4.229304225718392, 3.1719781692887943, 3.1719781692887943, 3.1719781692887943, 3.1719781692887943, 2.114652112859196, 2.114652112859196, 2.114652112859196, 1.057326056429598, 1.057326056429598, 1.057326056429598, 1.057326056429598, 23.261173241451157, 1.057326056429598, 9.515934507866383, 12.687912677155177, 3.1719781692887943, 8.458608451436785, 4.229304225718392, 3.1719781692887943, 2.114652112859196, 2.114652112859196, 2.3812697665286926, 1.1906348832643463, 1.1906348832643463, 1.1906348832643463, 1.1906348832643463, 4.762539533057385, 1.1906348832643463, 3.571904649793039, 2.3812697665286926, 2.3812697665286926, 4.762539533057385, 2.3812697665286926, 3.571904649793039, 1.1906348832643463, 2.3812697665286926, 1.1906348832643463, 1.1906348832643463, 3.571904649793039, 4.762539533057385, 4.762539533057385, 2.3812697665286926, 2.3812697665286926, 2.3812697665286926, 1.1906348832643463, 2.3812697665286926, 4.762539533057385, 3.571904649793039, 4.762539533057385, 14.287618599172156, 1.1906348832643463, 11.906348832643463, 9.52507906611477, 8.334444182850424, 7.143809299586078, 5.9531744163217315, 5.9531744163217315, 5.9531744163217315, 5.9531744163217315, 4.762539533057385, 3.571904649793039, 3.571904649793039, 2.3812697665286926, 2.3812697665286926, 2.3812697665286926, 2.3812697665286926, 30.956506964873004, 14.287618599172156, 9.52507906611477, 2.3812697665286926, 5.9531744163217315, 2.3812697665286926, 3.571904649793039, 13.09698371590781, 10.715713949379115, 3.571904649793039, 1.0531243421830028, 1.0531243421830028, 2.1062486843660055, 2.1062486843660055, 1.0531243421830028, 2.1062486843660055, 1.0531243421830028, 1.0531243421830028, 1.0531243421830028, 2.1062486843660055, 1.0531243421830028, 2.1062486843660055, 1.0531243421830028, 1.0531243421830028, 1.0531243421830028, 1.0531243421830028, 3.159373026549008, 1.0531243421830028, 2.1062486843660055, 5.265621710915013, 1.0531243421830028, 26.328108554575067, 2.1062486843660055, 1.0531243421830028, 4.212497368732011, 4.212497368732011, 1.0531243421830028, 1.0531243421830028, 2.1062486843660055, 1.0531243421830028, 5.265621710915013, 2.1062486843660055, 2.1062486843660055, 2.1062486843660055, 2.1062486843660055, 1.0531243421830028, 1.0531243421830028, 1.0531243421830028, 5.265621710915013, 69.50620658407817, 28.43435723894107, 1.0531243421830028, 1.0531243421830028, 84.24994737464021, 4.212497368732011, 6.318746053098016, 4.212497368732011, 2.1062486843660055, 2.1062486843660055, 3.159373026549008, 2.1062486843660055, 1.034429399819515, 2.06885879963903, 1.034429399819515, 1.034429399819515, 3.1032881994585457, 5.172146999097576, 3.1032881994585457, 5.172146999097576, 1.034429399819515, 2.06885879963903, 1.034429399819515, 6.2065763989170915, 5.172146999097576, 4.13771759927806, 1.034429399819515, 1.034429399819515, 3.1032881994585457, 12.413152797834183, 1.034429399819515, 1.034429399819515, 1.034429399819515, 1.034429399819515, 14.482011597473212, 2.06885879963903, 12.413152797834183, 29.99845259476594, 5.172146999097576, 8.27543519855612, 12.413152797834183, 2.06885879963903, 3.1032881994585457, 3.1032881994585457, 2.06885879963903, 2.06885879963903, 2.06885879963903, 2.06885879963903, 2.06885879963903, 27.92959379512691, 1.034429399819515, 1.034429399819515, 25.86073499548788, 12.413152797834183, 10.344293998195152, 7.241005798736606, 9.309864598375636, 5.172146999097576, 7.241005798736606, 3.1032881994585457, 3.1032881994585457, 3.1032881994585457, 2.06885879963903, 26.447006482339837, 1.1498698470582538, 2.2997396941165076, 1.1498698470582538, 3.449609541174761, 3.449609541174761, 6.899219082349522, 1.1498698470582538, 3.449609541174761, 1.1498698470582538, 3.449609541174761, 1.1498698470582538, 6.899219082349522, 6.899219082349522, 2.2997396941165076, 1.1498698470582538, 1.1498698470582538, 9.19895877646603, 1.1498698470582538, 1.1498698470582538, 1.1498698470582538, 1.1498698470582538, 4.599479388233015, 1.1498698470582538, 3.449609541174761, 2.2997396941165076, 2.2997396941165076, 2.2997396941165076, 54.04388281173792, 3.449609541174761, 8.049088929407775, 4.599479388233015, 3.449609541174761, 3.449609541174761, 3.449609541174761, 3.449609541174761, 3.449609541174761, 3.449609541174761, 2.2997396941165076, 2.2997396941165076, 1.1498698470582538, 17.248047705873805, 5.749349235291269, 45.99479388233015, 4.599479388233015, 3.449609541174761, 2.2997396941165076, 67.15213699234585, 1.1192022832057642, 1.1192022832057642, 3.3576068496172926, 3.3576068496172926, 3.3576068496172926, 2.2384045664115284, 1.1192022832057642, 4.476809132823057, 1.1192022832057642, 2.2384045664115284, 1.1192022832057642, 3.3576068496172926, 1.1192022832057642, 1.1192022832057642, 1.1192022832057642, 10.072820548851878, 1.1192022832057642, 8.953618265646114, 3.3576068496172926, 1.1192022832057642, 6.715213699234585, 3.3576068496172926, 4.476809132823057, 1.1192022832057642, 10.072820548851878, 1.1192022832057642, 2.2384045664115284, 1.1192022832057642, 1.1192022832057642, 10.072820548851878, 7.83441598244035, 3.3576068496172926, 3.3576068496172926, 2.2384045664115284, 2.2384045664115284, 2.2384045664115284, 2.2384045664115284, 1.1192022832057642, 1.1192022832057642, 1.1192022832057642, 12.311225115263406, 1.1192022832057642, 1.1192022832057642, 3.3576068496172926, 3.3576068496172926, 1.1192022832057642, 58.19851872669974, 1.1192022832057642, 2.2384045664115284, 1.1192022832057642, 3.3576068496172926, 2.2384045664115284, 2.2384045664115284], \"Total\": [258.0, 118.0, 106.0, 88.0, 117.0, 93.0, 72.0, 67.0, 64.0, 62.0, 80.0, 75.0, 56.0, 54.0, 51.0, 49.0, 47.0, 57.0, 56.0, 44.0, 43.0, 39.0, 39.0, 38.0, 39.0, 36.0, 32.0, 32.0, 32.0, 33.0, 1.0876706307464052, 1.0876706307464052, 3.263011892239215, 3.263011892239215, 13.05204756895686, 7.613694415224836, 7.613694415224836, 5.4383531537320255, 2.1753412614928105, 1.0876706307464052, 1.0876706307464052, 1.0876706307464052, 2.1753412614928105, 5.4383531537320255, 1.0876706307464052, 1.0876706307464052, 3.263011892239215, 1.0876706307464052, 5.4383531537320255, 1.0876706307464052, 15.227388830449671, 3.263011892239215, 4.350682522985621, 3.263011892239215, 3.263011892239215, 3.263011892239215, 4.350682522985621, 7.613694415224836, 1.0876706307464052, 1.0876706307464052, 6.52602378447843, 4.350682522985621, 4.350682522985621, 3.263011892239215, 2.1753412614928105, 2.1753412614928105, 2.1753412614928105, 2.1753412614928105, 1.0876706307464052, 33.46193610320585, 1.0876706307464052, 1.0876706307464052, 1.0876706307464052, 7.683695361927029, 16.6239522187499, 75.8063629389556, 6.398097059512078, 12.987803792984167, 6.55755543693779, 11.804653245429787, 5.464459685368359, 14.854700213961442, 20.301607092380014, 7.510055549534629, 31.55735532727179, 0.9547004639885224, 0.9547004639885224, 0.9547004639885224, 0.9547004639885224, 3.8188018559540895, 1.9094009279770447, 0.9547004639885224, 0.9547004639885224, 0.9547004639885224, 0.9547004639885224, 0.9547004639885224, 0.9547004639885224, 0.9547004639885224, 0.9547004639885224, 0.9547004639885224, 0.9547004639885224, 0.9547004639885224, 1.9094009279770447, 0.9547004639885224, 0.9547004639885224, 106.92645196671451, 1.9094009279770447, 0.9547004639885224, 0.9547004639885224, 0.9547004639885224, 0.9547004639885224, 0.9547004639885224, 1.9094009279770447, 0.9547004639885224, 1.9094009279770447, 1.9094009279770447, 0.9547004639885224, 0.9547004639885224, 0.9547004639885224, 0.9547004639885224, 0.9547004639885224, 0.9547004639885224, 0.9547004639885224, 0.9547004639885224, 0.9547004639885224, 93.06225418953768, 5.826626662125614, 258.1807930602526, 16.26071398256221, 5.1638410860820745, 6.203885361896709, 14.838240016874817, 3.978259727616075, 11.434479994091815, 2.0423710947349276, 1.9144443697685747, 1.9509896518224585, 1.9976726116049124, 3.074080844927032, 0.9213235416822467, 1.8426470833644935, 4.606617708411234, 0.9213235416822467, 0.9213235416822467, 2.76397062504674, 0.9213235416822467, 0.9213235416822467, 0.9213235416822467, 2.76397062504674, 0.9213235416822467, 44.22353000074784, 14.741176666915948, 15.662500208598194, 0.9213235416822467, 0.9213235416822467, 1.8426470833644935, 0.9213235416822467, 6.449264791775727, 8.29191187514022, 0.9213235416822467, 72.7845597928975, 0.9213235416822467, 0.9213235416822467, 2.76397062504674, 1.8426470833644935, 0.9213235416822467, 0.9213235416822467, 0.9213235416822467, 0.9213235416822467, 1.8426470833644935, 1.8426470833644935, 0.9213235416822467, 0.9213235416822467, 0.9213235416822467, 0.9213235416822467, 0.9213235416822467, 0.9213235416822467, 0.9213235416822467, 36.31652536700861, 0.9213235416822467, 14.048399430609708, 80.28606328557052, 24.614482752247504, 3.7861892428862802, 8.819115077143245, 2.9548767285301594, 2.9648042685112657, 6.473333393158891, 2.040525824888011, 0.9213235416822467, 1.9925783756678723, 14.944337817509044, 1.9925783756678723, 7.970313502671489, 0.9962891878339362, 0.9962891878339362, 0.9962891878339362, 5.977735127003617, 3.9851567513357447, 7.970313502671489, 22.914651320180532, 14.944337817509044, 10.959181066173299, 19.925783756678722, 2.9888675635018087, 0.9962891878339362, 2.9888675635018087, 7.970313502671489, 5.977735127003617, 12.951759441841173, 8.966602690505425, 19.925783756678722, 5.977735127003617, 0.9962891878339362, 0.9962891878339362, 0.9962891878339362, 22.914651320180532, 39.851567513357445, 0.9962891878339362, 0.9962891878339362, 5.977735127003617, 4.981445939169681, 3.9851567513357447, 2.9888675635018087, 2.9888675635018087, 1.9925783756678723, 0.9962891878339362, 0.9962891878339362, 0.9962891878339362, 12.998442401623624, 7.811283451158953, 0.9962891878339362, 7.9287247788260755, 6.015875338989195, 14.303803490931278, 9.491493878364716, 1.054610430929413, 2.109220861858826, 1.054610430929413, 1.054610430929413, 1.054610430929413, 1.054610430929413, 1.054610430929413, 1.054610430929413, 1.054610430929413, 1.054610430929413, 1.054610430929413, 1.054610430929413, 1.054610430929413, 2.109220861858826, 1.054610430929413, 1.054610430929413, 1.054610430929413, 2.109220861858826, 2.109220861858826, 14.764546033011781, 64.33123628669419, 6.327662585576477, 11.600714740223543, 2.109220861858826, 1.054610430929413, 1.054610430929413, 1.054610430929413, 1.054610430929413, 1.054610430929413, 2.109220861858826, 2.109220861858826, 2.109220861858826, 2.109220861858826, 1.054610430929413, 1.054610430929413, 1.054610430929413, 1.054610430929413, 1.054610430929413, 1.054610430929413, 1.054610430929413, 1.054610430929413, 24.31365912561275, 17.99592408001738, 14.664636066070893, 16.439064305654583, 10.682128761629063, 56.33601138401374, 4.118531756776761, 1.054610430929413, 24.614482752247504, 57.665336169182595, 6.505162779936452, 4.336775186624301, 1.054610430929413, 1.054610430929413, 1.054610430929413, 258.1807930602526, 14.838240016874817, 3.0990476666084934, 2.204480277987667, 1.1137771623827377, 2.2275543247654754, 1.1137771623827377, 1.1137771623827377, 1.1137771623827377, 2.2275543247654754, 1.1137771623827377, 1.1137771623827377, 17.820434598123803, 7.796440136679164, 1.1137771623827377, 2.2275543247654754, 3.341331487148213, 4.455108649530951, 2.2275543247654754, 1.1137771623827377, 1.1137771623827377, 1.1137771623827377, 1.1137771623827377, 1.1137771623827377, 17.820434598123803, 1.1137771623827377, 1.1137771623827377, 3.341331487148213, 1.1137771623827377, 1.1137771623827377, 3.341331487148213, 32.2995377090994, 1.1137771623827377, 1.1137771623827377, 12.251548786210114, 11.137771623827378, 6.682662974296426, 5.568885811913689, 3.341331487148213, 2.2275543247654754, 2.2275543247654754, 2.2275543247654754, 2.2275543247654754, 2.2275543247654754, 2.2275543247654754, 2.2275543247654754, 2.2275543247654754, 32.22873269433305, 1.1137771623827377, 1.1137771623827377, 5.604978496589204, 14.838240016874817, 4.363550104987754, 75.8063629389556, 4.53196637041256, 15.992527572672063, 5.5178598267835754, 6.505162779936452, 4.336775186624301, 3.280678666948478, 3.2238435125994114, 3.3852259022140747, 6.203885361896709, 1.0222186178395403, 6.133311707037241, 1.0222186178395403, 1.0222186178395403, 1.0222186178395403, 1.0222186178395403, 1.0222186178395403, 1.0222186178395403, 1.0222186178395403, 1.0222186178395403, 3.0666558535186206, 1.0222186178395403, 1.0222186178395403, 7.155530324876782, 1.0222186178395403, 6.133311707037241, 56.222023981174715, 1.0222186178395403, 1.0222186178395403, 1.0222186178395403, 5.111093089197701, 11.244404796234942, 3.0666558535186206, 2.0444372356790805, 3.0666558535186206, 14.311060649753564, 25.555465445988506, 3.0666558535186206, 1.0222186178395403, 2.0444372356790805, 6.133311707037241, 6.133311707037241, 5.111093089197701, 4.088874471358161, 3.0666558535186206, 3.0666558535186206, 3.0666558535186206, 3.0666558535186206, 3.0666558535186206, 2.0444372356790805, 2.0444372356790805, 2.0444372356790805, 2.0444372356790805, 1.0222186178395403, 1.0222186178395403, 1.0222186178395403, 22.118890629433604, 1.0222186178395403, 57.665336169182595, 1.0222186178395403, 6.224870251580439, 5.279509354622507, 9.236599906495787, 12.452057760135258, 5.3109702238121645, 6.201741020791483, 3.0990476666084934, 1.1576715774485993, 1.1576715774485993, 2.3153431548971986, 16.20740208428039, 2.3153431548971986, 15.049730506831791, 1.1576715774485993, 1.1576715774485993, 1.1576715774485993, 5.788357887242997, 1.1576715774485993, 1.1576715774485993, 19.680416816626188, 1.1576715774485993, 2.3153431548971986, 2.3153431548971986, 1.1576715774485993, 1.1576715774485993, 6.946029464691596, 9.261372619588794, 8.103701042140194, 1.1576715774485993, 4.630686309794397, 4.630686309794397, 28.94178943621498, 49.77987783028977, 1.1576715774485993, 4.630686309794397, 1.1576715774485993, 1.1576715774485993, 5.788357887242997, 4.630686309794397, 2.3153431548971986, 2.3153431548971986, 1.1576715774485993, 1.1576715774485993, 1.1576715774485993, 1.1576715774485993, 1.1576715774485993, 1.1576715774485993, 1.1576715774485993, 1.1576715774485993, 1.1576715774485993, 20.83553730758871, 10.304344767205183, 1.1576715774485993, 1.1576715774485993, 9.253570889198448, 7.999153806874599, 6.876028517989402, 6.473333393158891, 3.2700436188857207, 3.3116323427311345, 3.3375617727367386, 3.465213001955452, 8.645161731443373, 21.90607661383534, 1.122157185146772, 1.122157185146772, 1.122157185146772, 1.122157185146772, 2.244314370293544, 1.122157185146772, 1.122157185146772, 1.122157185146772, 4.488628740587088, 15.71020059205481, 12.343729036614493, 10.099414666320948, 15.71020059205481, 1.122157185146772, 1.122157185146772, 6.732943110880633, 5.61078592573386, 1.122157185146772, 1.122157185146772, 1.122157185146772, 6.732943110880633, 6.732943110880633, 5.61078592573386, 3.3664715554403166, 1.122157185146772, 1.122157185146772, 1.122157185146772, 1.122157185146772, 1.122157185146772, 1.122157185146772, 28.053929628669305, 25.809615258375757, 8.977257481174176, 4.488628740587088, 2.244314370293544, 2.244314370293544, 1.122157185146772, 1.122157185146772, 1.122157185146772, 1.122157185146772, 1.122157185146772, 1.122157185146772, 11.290049549585294, 5.554884779342594, 4.326215461220369, 4.419595897623319, 117.46965337895776, 6.603280853446284, 6.624624520809366, 80.28606328557052, 3.2665329881330845, 3.298924801222957, 5.3109702238121645, 2.9648042685112657, 47.976718790353935, 1.04297214761639, 1.04297214761639, 6.25783288569834, 6.25783288569834, 4.17188859046556, 1.04297214761639, 1.04297214761639, 2.08594429523278, 1.04297214761639, 38.589969461806426, 3.12891644284917, 10.429721476163898, 6.25783288569834, 1.04297214761639, 1.04297214761639, 1.04297214761639, 1.04297214761639, 1.04297214761639, 5.214860738081949, 8.34377718093112, 4.17188859046556, 1.04297214761639, 1.04297214761639, 3.12891644284917, 14.601610066629458, 1.04297214761639, 1.04297214761639, 1.04297214761639, 3.12891644284917, 39.632941609422815, 6.25783288569834, 5.214860738081949, 4.17188859046556, 3.12891644284917, 3.12891644284917, 2.08594429523278, 2.08594429523278, 2.08594429523278, 2.08594429523278, 2.08594429523278, 2.08594429523278, 1.04297214761639, 1.04297214761639, 31.55735532727179, 1.04297214761639, 8.32669168533737, 3.040644759221302, 6.326476322181521, 3.2436158726813793, 0.9597439057800523, 2.879231717340157, 3.8389756231202092, 5.758463434680314, 4.7987195289002615, 6.718207340460367, 0.9597439057800523, 0.9597439057800523, 1.9194878115601046, 0.9597439057800523, 13.436414680920734, 5.758463434680314, 8.637695152020472, 2.879231717340157, 9.597439057800523, 3.8389756231202092, 3.8389756231202092, 0.9597439057800523, 2.879231717340157, 0.9597439057800523, 0.9597439057800523, 10.557182963580575, 23.033853738721255, 10.557182963580575, 0.9597439057800523, 0.9597439057800523, 6.718207340460367, 0.9597439057800523, 6.718207340460367, 51.82617091212283, 5.758463434680314, 5.758463434680314, 3.8389756231202092, 2.879231717340157, 2.879231717340157, 1.9194878115601046, 1.9194878115601046, 1.9194878115601046, 1.9194878115601046, 24.14608338388692, 21.90607661383534, 10.753186623060172, 5.948589375958515, 4.676234759441609, 3.991461362505823, 43.072275053276734, 1.0662560387555067, 8.530048310044053, 2.1325120775110133, 18.126352658843615, 1.0662560387555067, 8.530048310044053, 8.530048310044053, 3.1987681162665202, 7.463792271288547, 1.0662560387555067, 1.0662560387555067, 1.0662560387555067, 1.0662560387555067, 1.0662560387555067, 1.0662560387555067, 1.0662560387555067, 43.71649758897577, 2.1325120775110133, 3.1987681162665202, 1.0662560387555067, 6.3975362325330405, 7.463792271288547, 7.463792271288547, 3.1987681162665202, 6.3975362325330405, 1.0662560387555067, 5.331280193777533, 1.0662560387555067, 1.0662560387555067, 1.0662560387555067, 22.39137681386564, 8.530048310044053, 6.3975362325330405, 5.331280193777533, 5.331280193777533, 4.265024155022027, 39.30654093688049, 3.1987681162665202, 3.1987681162665202, 2.1325120775110133, 2.1325120775110133, 2.1325120775110133, 1.0662560387555067, 7.454862288962639, 1.0662560387555067, 4.03602725258792, 6.440365416514837, 6.523979224817584, 7.524726424680567, 12.987803792984167, 93.06225418953768, 1.6745182726428, 0.8372591363214, 2.5117774089642, 118.05353822131741, 88.7494684500684, 15.907923590106599, 0.8372591363214, 12.558887044821, 2.5117774089642, 2.5117774089642, 0.8372591363214, 0.8372591363214, 0.8372591363214, 0.8372591363214, 0.8372591363214, 0.8372591363214, 7.5353322268926, 0.8372591363214, 0.8372591363214, 0.8372591363214, 0.8372591363214, 0.8372591363214, 0.8372591363214, 0.8372591363214, 3.3490365452856, 0.8372591363214, 0.8372591363214, 0.8372591363214, 1.6745182726428, 25.314944353140117, 11.918798171997716, 10.54793262470681, 3.5994480397106052, 28.37251240445208, 16.439064305654583, 22.118890629433604, 1.88023128393779, 4.676234759441609, 4.03602725258792, 1.9035151750769068, 10.010066806490991, 2.2244592903313314, 3.3366889354969977, 3.3366889354969977, 5.561148225828329, 1.1122296451656657, 1.1122296451656657, 6.6733778709939955, 1.1122296451656657, 6.6733778709939955, 3.3366889354969977, 1.1122296451656657, 2.2244592903313314, 7.7856075161596605, 3.3366889354969977, 2.2244592903313314, 2.2244592903313314, 13.346755741987991, 4.448918580662663, 1.1122296451656657, 2.2244592903313314, 6.6733778709939955, 6.6733778709939955, 3.3366889354969977, 2.2244592903313314, 14.458985387153655, 1.1122296451656657, 7.7856075161596605, 2.2244592903313314, 13.346755741987991, 62.284860129277284, 13.346755741987991, 8.897837161325326, 6.6733778709939955, 4.448918580662663, 3.3366889354969977, 3.3366889354969977, 13.437639606553855, 2.2244592903313314, 6.648818856574734, 6.563570693521859, 4.527323818761344, 5.451341048356194, 1.057326056429598, 2.114652112859196, 1.057326056429598, 1.057326056429598, 1.057326056429598, 1.057326056429598, 1.057326056429598, 1.057326056429598, 1.057326056429598, 1.057326056429598, 5.28663028214799, 2.114652112859196, 1.057326056429598, 1.057326056429598, 3.1719781692887943, 1.057326056429598, 1.057326056429598, 5.28663028214799, 11.630586620725579, 25.375825354310354, 28.547803523599146, 20.08919507216236, 2.114652112859196, 1.057326056429598, 1.057326056429598, 22.20384718502156, 4.229304225718392, 6.343956338577589, 6.343956338577589, 22.20384718502156, 9.515934507866383, 4.229304225718392, 4.229304225718392, 3.1719781692887943, 3.1719781692887943, 3.1719781692887943, 3.1719781692887943, 2.114652112859196, 2.114652112859196, 2.114652112859196, 1.057326056429598, 1.057326056429598, 1.057326056429598, 1.057326056429598, 25.180661053011264, 1.057326056429598, 10.58219054662189, 20.301607092380014, 4.226588600218207, 16.26071398256221, 7.257906931137475, 6.6010984865687306, 6.603280853446284, 6.563570693521859, 2.3812697665286926, 1.1906348832643463, 1.1906348832643463, 1.1906348832643463, 1.1906348832643463, 4.762539533057385, 1.1906348832643463, 3.571904649793039, 2.3812697665286926, 2.3812697665286926, 4.762539533057385, 2.3812697665286926, 3.571904649793039, 1.1906348832643463, 2.3812697665286926, 1.1906348832643463, 1.1906348832643463, 3.571904649793039, 4.762539533057385, 4.762539533057385, 2.3812697665286926, 2.3812697665286926, 2.3812697665286926, 1.1906348832643463, 2.3812697665286926, 4.762539533057385, 3.571904649793039, 4.762539533057385, 14.287618599172156, 1.1906348832643463, 11.906348832643463, 9.52507906611477, 8.334444182850424, 7.143809299586078, 5.9531744163217315, 5.9531744163217315, 5.9531744163217315, 5.9531744163217315, 4.762539533057385, 3.571904649793039, 3.571904649793039, 2.3812697665286926, 2.3812697665286926, 2.3812697665286926, 2.3812697665286926, 32.06873661003867, 15.322047998991671, 11.434479994091815, 2.3812697665286926, 7.066951578704469, 2.3812697665286926, 4.7217744968512925, 56.33601138401374, 43.072275053276734, 16.6239522187499, 1.0531243421830028, 1.0531243421830028, 2.1062486843660055, 2.1062486843660055, 1.0531243421830028, 2.1062486843660055, 1.0531243421830028, 1.0531243421830028, 1.0531243421830028, 2.1062486843660055, 1.0531243421830028, 2.1062486843660055, 1.0531243421830028, 1.0531243421830028, 1.0531243421830028, 1.0531243421830028, 3.159373026549008, 1.0531243421830028, 2.1062486843660055, 5.265621710915013, 1.0531243421830028, 26.328108554575067, 2.1062486843660055, 1.0531243421830028, 4.212497368732011, 4.212497368732011, 1.0531243421830028, 1.0531243421830028, 2.1062486843660055, 1.0531243421830028, 5.265621710915013, 2.1062486843660055, 2.1062486843660055, 2.1062486843660055, 2.1062486843660055, 1.0531243421830028, 1.0531243421830028, 1.0531243421830028, 6.377851356080679, 117.46965337895776, 43.072275053276734, 1.0531243421830028, 1.0531243421830028, 258.1807930602526, 6.387838630224822, 12.452057760135258, 8.819115077143245, 3.1492208319823956, 3.2254509675717697, 7.510055549534629, 4.281589945858816, 1.034429399819515, 2.06885879963903, 1.034429399819515, 1.034429399819515, 3.1032881994585457, 5.172146999097576, 3.1032881994585457, 5.172146999097576, 1.034429399819515, 2.06885879963903, 1.034429399819515, 6.2065763989170915, 5.172146999097576, 4.13771759927806, 1.034429399819515, 1.034429399819515, 3.1032881994585457, 12.413152797834183, 1.034429399819515, 1.034429399819515, 1.034429399819515, 1.034429399819515, 14.482011597473212, 2.06885879963903, 12.413152797834183, 29.99845259476594, 5.172146999097576, 8.27543519855612, 12.413152797834183, 2.06885879963903, 3.1032881994585457, 3.1032881994585457, 2.06885879963903, 2.06885879963903, 2.06885879963903, 2.06885879963903, 2.06885879963903, 28.98420422605632, 1.034429399819515, 1.034429399819515, 28.37251240445208, 13.563022644892436, 11.466451183341924, 8.298331855166204, 15.992527572672063, 8.645161731443373, 14.854700213961442, 4.063032105238598, 9.236599906495787, 11.804653245429787, 3.181088444804696, 26.447006482339837, 1.1498698470582538, 2.2997396941165076, 1.1498698470582538, 3.449609541174761, 3.449609541174761, 6.899219082349522, 1.1498698470582538, 3.449609541174761, 1.1498698470582538, 3.449609541174761, 1.1498698470582538, 6.899219082349522, 6.899219082349522, 2.2997396941165076, 1.1498698470582538, 1.1498698470582538, 9.19895877646603, 1.1498698470582538, 1.1498698470582538, 1.1498698470582538, 1.1498698470582538, 4.599479388233015, 1.1498698470582538, 3.449609541174761, 2.2997396941165076, 2.2997396941165076, 2.2997396941165076, 54.04388281173792, 3.449609541174761, 8.049088929407775, 4.599479388233015, 3.449609541174761, 3.449609541174761, 3.449609541174761, 3.449609541174761, 3.449609541174761, 3.449609541174761, 2.2997396941165076, 2.2997396941165076, 1.1498698470582538, 18.244336893707743, 6.802473577474272, 258.1807930602526, 7.766420865563544, 9.03477071555753, 3.296028881950444, 67.15213699234585, 1.1192022832057642, 1.1192022832057642, 3.3576068496172926, 3.3576068496172926, 3.3576068496172926, 2.2384045664115284, 1.1192022832057642, 4.476809132823057, 1.1192022832057642, 2.2384045664115284, 1.1192022832057642, 3.3576068496172926, 1.1192022832057642, 1.1192022832057642, 1.1192022832057642, 10.072820548851878, 1.1192022832057642, 8.953618265646114, 3.3576068496172926, 1.1192022832057642, 6.715213699234585, 3.3576068496172926, 4.476809132823057, 1.1192022832057642, 10.072820548851878, 1.1192022832057642, 2.2384045664115284, 1.1192022832057642, 1.1192022832057642, 10.072820548851878, 7.83441598244035, 3.3576068496172926, 3.3576068496172926, 2.2384045664115284, 2.2384045664115284, 2.2384045664115284, 2.2384045664115284, 1.1192022832057642, 1.1192022832057642, 1.1192022832057642, 14.303803490931278, 1.1192022832057642, 1.1192022832057642, 4.317350755397345, 4.423862888372799, 1.1192022832057642, 258.1807930602526, 1.1192022832057642, 3.304660605167035, 1.1192022832057642, 9.03477071555753, 4.194437660025517, 7.524726424680567], \"Category\": [\"Default\", \"Default\", \"Default\", \"Default\", \"Default\", \"Default\", \"Default\", \"Default\", \"Default\", \"Default\", \"Default\", \"Default\", \"Default\", \"Default\", \"Default\", \"Default\", \"Default\", \"Default\", \"Default\", \"Default\", \"Default\", \"Default\", \"Default\", \"Default\", \"Default\", \"Default\", \"Default\", \"Default\", \"Default\", \"Default\", \"Topic1\", \"Topic1\", \"Topic1\", \"Topic1\", \"Topic1\", \"Topic1\", \"Topic1\", \"Topic1\", \"Topic1\", \"Topic1\", \"Topic1\", \"Topic1\", \"Topic1\", \"Topic1\", \"Topic1\", \"Topic1\", \"Topic1\", \"Topic1\", \"Topic1\", \"Topic1\", \"Topic1\", \"Topic1\", \"Topic1\", \"Topic1\", \"Topic1\", \"Topic1\", \"Topic1\", \"Topic1\", \"Topic1\", \"Topic1\", \"Topic1\", \"Topic1\", \"Topic1\", \"Topic1\", \"Topic1\", \"Topic1\", \"Topic1\", \"Topic1\", \"Topic1\", \"Topic1\", \"Topic1\", \"Topic1\", \"Topic1\", \"Topic1\", \"Topic1\", \"Topic1\", \"Topic1\", \"Topic1\", \"Topic1\", \"Topic1\", \"Topic1\", \"Topic1\", \"Topic1\", \"Topic1\", \"Topic1\", \"Topic2\", \"Topic2\", \"Topic2\", \"Topic2\", \"Topic2\", \"Topic2\", \"Topic2\", \"Topic2\", \"Topic2\", \"Topic2\", \"Topic2\", \"Topic2\", \"Topic2\", \"Topic2\", \"Topic2\", \"Topic2\", \"Topic2\", \"Topic2\", \"Topic2\", \"Topic2\", \"Topic2\", \"Topic2\", \"Topic2\", \"Topic2\", \"Topic2\", \"Topic2\", \"Topic2\", \"Topic2\", \"Topic2\", \"Topic2\", \"Topic2\", \"Topic2\", \"Topic2\", \"Topic2\", \"Topic2\", \"Topic2\", \"Topic2\", \"Topic2\", \"Topic2\", \"Topic2\", \"Topic2\", \"Topic2\", \"Topic2\", \"Topic2\", \"Topic2\", \"Topic2\", \"Topic2\", \"Topic2\", \"Topic2\", \"Topic2\", \"Topic2\", \"Topic2\", \"Topic2\", \"Topic2\", \"Topic3\", \"Topic3\", \"Topic3\", \"Topic3\", \"Topic3\", \"Topic3\", \"Topic3\", \"Topic3\", \"Topic3\", \"Topic3\", \"Topic3\", \"Topic3\", \"Topic3\", \"Topic3\", \"Topic3\", \"Topic3\", \"Topic3\", \"Topic3\", \"Topic3\", \"Topic3\", \"Topic3\", \"Topic3\", \"Topic3\", \"Topic3\", \"Topic3\", \"Topic3\", \"Topic3\", \"Topic3\", \"Topic3\", \"Topic3\", \"Topic3\", \"Topic3\", \"Topic3\", \"Topic3\", \"Topic3\", \"Topic3\", \"Topic3\", \"Topic3\", \"Topic3\", \"Topic3\", \"Topic3\", \"Topic3\", \"Topic3\", \"Topic3\", \"Topic3\", \"Topic3\", \"Topic3\", \"Topic3\", \"Topic3\", \"Topic3\", \"Topic3\", \"Topic4\", \"Topic4\", \"Topic4\", \"Topic4\", \"Topic4\", \"Topic4\", \"Topic4\", \"Topic4\", \"Topic4\", \"Topic4\", \"Topic4\", \"Topic4\", \"Topic4\", \"Topic4\", \"Topic4\", \"Topic4\", \"Topic4\", \"Topic4\", \"Topic4\", \"Topic4\", \"Topic4\", \"Topic4\", \"Topic4\", \"Topic4\", \"Topic4\", \"Topic4\", \"Topic4\", \"Topic4\", \"Topic4\", \"Topic4\", \"Topic4\", \"Topic4\", \"Topic4\", \"Topic4\", \"Topic4\", \"Topic4\", \"Topic4\", \"Topic4\", \"Topic4\", \"Topic4\", \"Topic4\", \"Topic4\", \"Topic4\", \"Topic4\", \"Topic4\", \"Topic5\", \"Topic5\", \"Topic5\", \"Topic5\", \"Topic5\", \"Topic5\", \"Topic5\", \"Topic5\", \"Topic5\", \"Topic5\", \"Topic5\", \"Topic5\", \"Topic5\", \"Topic5\", \"Topic5\", \"Topic5\", \"Topic5\", \"Topic5\", \"Topic5\", \"Topic5\", \"Topic5\", \"Topic5\", \"Topic5\", \"Topic5\", \"Topic5\", \"Topic5\", \"Topic5\", \"Topic5\", \"Topic5\", \"Topic5\", \"Topic5\", \"Topic5\", \"Topic5\", \"Topic5\", \"Topic5\", \"Topic5\", \"Topic5\", \"Topic5\", \"Topic5\", \"Topic5\", \"Topic5\", \"Topic5\", \"Topic5\", \"Topic5\", \"Topic5\", \"Topic5\", \"Topic5\", \"Topic5\", \"Topic5\", \"Topic5\", \"Topic5\", \"Topic5\", \"Topic5\", \"Topic5\", \"Topic5\", \"Topic5\", \"Topic5\", \"Topic5\", \"Topic5\", \"Topic5\", \"Topic5\", \"Topic6\", \"Topic6\", \"Topic6\", \"Topic6\", \"Topic6\", \"Topic6\", \"Topic6\", \"Topic6\", \"Topic6\", \"Topic6\", \"Topic6\", \"Topic6\", \"Topic6\", \"Topic6\", \"Topic6\", \"Topic6\", \"Topic6\", \"Topic6\", \"Topic6\", \"Topic6\", \"Topic6\", \"Topic6\", \"Topic6\", \"Topic6\", \"Topic6\", \"Topic6\", \"Topic6\", \"Topic6\", \"Topic6\", \"Topic6\", \"Topic6\", \"Topic6\", \"Topic6\", \"Topic6\", \"Topic6\", \"Topic6\", \"Topic6\", \"Topic6\", \"Topic6\", \"Topic6\", \"Topic6\", \"Topic6\", \"Topic6\", \"Topic6\", \"Topic6\", \"Topic6\", \"Topic6\", \"Topic6\", \"Topic6\", \"Topic6\", \"Topic6\", \"Topic6\", \"Topic6\", \"Topic6\", \"Topic6\", \"Topic6\", \"Topic6\", \"Topic6\", \"Topic6\", \"Topic7\", \"Topic7\", \"Topic7\", \"Topic7\", \"Topic7\", \"Topic7\", \"Topic7\", \"Topic7\", \"Topic7\", \"Topic7\", \"Topic7\", \"Topic7\", \"Topic7\", \"Topic7\", \"Topic7\", \"Topic7\", \"Topic7\", \"Topic7\", \"Topic7\", \"Topic7\", \"Topic7\", \"Topic7\", \"Topic7\", \"Topic7\", \"Topic7\", \"Topic7\", \"Topic7\", \"Topic7\", \"Topic7\", \"Topic7\", \"Topic7\", \"Topic7\", \"Topic7\", \"Topic7\", \"Topic7\", \"Topic7\", \"Topic7\", \"Topic7\", \"Topic7\", \"Topic7\", \"Topic7\", \"Topic7\", \"Topic7\", \"Topic7\", \"Topic7\", \"Topic7\", \"Topic7\", \"Topic7\", \"Topic7\", \"Topic7\", \"Topic7\", \"Topic7\", \"Topic7\", \"Topic7\", \"Topic7\", \"Topic7\", \"Topic7\", \"Topic8\", \"Topic8\", \"Topic8\", \"Topic8\", \"Topic8\", \"Topic8\", \"Topic8\", \"Topic8\", \"Topic8\", \"Topic8\", \"Topic8\", \"Topic8\", \"Topic8\", \"Topic8\", \"Topic8\", \"Topic8\", \"Topic8\", \"Topic8\", \"Topic8\", \"Topic8\", \"Topic8\", \"Topic8\", \"Topic8\", \"Topic8\", \"Topic8\", \"Topic8\", \"Topic8\", \"Topic8\", \"Topic8\", \"Topic8\", \"Topic8\", \"Topic8\", \"Topic8\", \"Topic8\", \"Topic8\", \"Topic8\", \"Topic8\", \"Topic8\", \"Topic8\", \"Topic8\", \"Topic8\", \"Topic8\", \"Topic8\", \"Topic8\", \"Topic8\", \"Topic8\", \"Topic8\", \"Topic8\", \"Topic8\", \"Topic8\", \"Topic8\", \"Topic8\", \"Topic8\", \"Topic8\", \"Topic8\", \"Topic8\", \"Topic8\", \"Topic9\", \"Topic9\", \"Topic9\", \"Topic9\", \"Topic9\", \"Topic9\", \"Topic9\", \"Topic9\", \"Topic9\", \"Topic9\", \"Topic9\", \"Topic9\", \"Topic9\", \"Topic9\", \"Topic9\", \"Topic9\", \"Topic9\", \"Topic9\", \"Topic9\", \"Topic9\", \"Topic9\", \"Topic9\", \"Topic9\", \"Topic9\", \"Topic9\", \"Topic9\", \"Topic9\", \"Topic9\", \"Topic9\", \"Topic9\", \"Topic9\", \"Topic9\", \"Topic9\", \"Topic9\", \"Topic9\", \"Topic9\", \"Topic9\", \"Topic9\", \"Topic9\", \"Topic9\", \"Topic9\", \"Topic9\", \"Topic9\", \"Topic9\", \"Topic9\", \"Topic9\", \"Topic9\", \"Topic9\", \"Topic9\", \"Topic9\", \"Topic9\", \"Topic9\", \"Topic9\", \"Topic9\", \"Topic10\", \"Topic10\", \"Topic10\", \"Topic10\", \"Topic10\", \"Topic10\", \"Topic10\", \"Topic10\", \"Topic10\", \"Topic10\", \"Topic10\", \"Topic10\", \"Topic10\", \"Topic10\", \"Topic10\", \"Topic10\", \"Topic10\", \"Topic10\", \"Topic10\", \"Topic10\", \"Topic10\", \"Topic10\", \"Topic10\", \"Topic10\", \"Topic10\", \"Topic10\", \"Topic10\", \"Topic10\", \"Topic10\", \"Topic10\", \"Topic10\", \"Topic10\", \"Topic10\", \"Topic10\", \"Topic10\", \"Topic10\", \"Topic10\", \"Topic10\", \"Topic10\", \"Topic10\", \"Topic10\", \"Topic10\", \"Topic10\", \"Topic10\", \"Topic10\", \"Topic10\", \"Topic10\", \"Topic10\", \"Topic10\", \"Topic10\", \"Topic11\", \"Topic11\", \"Topic11\", \"Topic11\", \"Topic11\", \"Topic11\", \"Topic11\", \"Topic11\", \"Topic11\", \"Topic11\", \"Topic11\", \"Topic11\", \"Topic11\", \"Topic11\", \"Topic11\", \"Topic11\", \"Topic11\", \"Topic11\", \"Topic11\", \"Topic11\", \"Topic11\", \"Topic11\", \"Topic11\", \"Topic11\", \"Topic11\", \"Topic11\", \"Topic11\", \"Topic11\", \"Topic11\", \"Topic11\", \"Topic11\", \"Topic11\", \"Topic11\", \"Topic11\", \"Topic11\", \"Topic11\", \"Topic11\", \"Topic11\", \"Topic11\", \"Topic11\", \"Topic11\", \"Topic11\", \"Topic11\", \"Topic11\", \"Topic11\", \"Topic11\", \"Topic12\", \"Topic12\", \"Topic12\", \"Topic12\", \"Topic12\", \"Topic12\", \"Topic12\", \"Topic12\", \"Topic12\", \"Topic12\", \"Topic12\", \"Topic12\", \"Topic12\", \"Topic12\", \"Topic12\", \"Topic12\", \"Topic12\", \"Topic12\", \"Topic12\", \"Topic12\", \"Topic12\", \"Topic12\", \"Topic12\", \"Topic12\", \"Topic12\", \"Topic12\", \"Topic12\", \"Topic12\", \"Topic12\", \"Topic12\", \"Topic12\", \"Topic12\", \"Topic12\", \"Topic12\", \"Topic12\", \"Topic12\", \"Topic12\", \"Topic12\", \"Topic12\", \"Topic12\", \"Topic12\", \"Topic12\", \"Topic12\", \"Topic12\", \"Topic12\", \"Topic12\", \"Topic12\", \"Topic12\", \"Topic12\", \"Topic12\", \"Topic12\", \"Topic13\", \"Topic13\", \"Topic13\", \"Topic13\", \"Topic13\", \"Topic13\", \"Topic13\", \"Topic13\", \"Topic13\", \"Topic13\", \"Topic13\", \"Topic13\", \"Topic13\", \"Topic13\", \"Topic13\", \"Topic13\", \"Topic13\", \"Topic13\", \"Topic13\", \"Topic13\", \"Topic13\", \"Topic13\", \"Topic13\", \"Topic13\", \"Topic13\", \"Topic13\", \"Topic13\", \"Topic13\", \"Topic13\", \"Topic13\", \"Topic13\", \"Topic13\", \"Topic13\", \"Topic13\", \"Topic13\", \"Topic13\", \"Topic13\", \"Topic13\", \"Topic13\", \"Topic13\", \"Topic14\", \"Topic14\", \"Topic14\", \"Topic14\", \"Topic14\", \"Topic14\", \"Topic14\", \"Topic14\", \"Topic14\", \"Topic14\", \"Topic14\", \"Topic14\", \"Topic14\", \"Topic14\", \"Topic14\", \"Topic14\", \"Topic14\", \"Topic14\", \"Topic14\", \"Topic14\", \"Topic14\", \"Topic14\", \"Topic14\", \"Topic14\", \"Topic14\", \"Topic14\", \"Topic14\", \"Topic14\", \"Topic14\", \"Topic14\", \"Topic14\", \"Topic14\", \"Topic14\", \"Topic14\", \"Topic14\", \"Topic14\", \"Topic14\", \"Topic14\", \"Topic14\", \"Topic14\", \"Topic14\", \"Topic14\", \"Topic14\", \"Topic15\", \"Topic15\", \"Topic15\", \"Topic15\", \"Topic15\", \"Topic15\", \"Topic15\", \"Topic15\", \"Topic15\", \"Topic15\", \"Topic15\", \"Topic15\", \"Topic15\", \"Topic15\", \"Topic15\", \"Topic15\", \"Topic15\", \"Topic15\", \"Topic15\", \"Topic15\", \"Topic15\", \"Topic15\", \"Topic15\", \"Topic15\", \"Topic15\", \"Topic15\", \"Topic15\", \"Topic15\", \"Topic15\", \"Topic15\", \"Topic15\", \"Topic15\", \"Topic15\", \"Topic15\", \"Topic15\", \"Topic15\", \"Topic15\", \"Topic15\", \"Topic15\", \"Topic15\", \"Topic15\", \"Topic15\", \"Topic15\", \"Topic15\", \"Topic15\", \"Topic15\", \"Topic15\", \"Topic15\", \"Topic15\", \"Topic15\", \"Topic15\", \"Topic15\", \"Topic15\", \"Topic15\", \"Topic16\", \"Topic16\", \"Topic16\", \"Topic16\", \"Topic16\", \"Topic16\", \"Topic16\", \"Topic16\", \"Topic16\", \"Topic16\", \"Topic16\", \"Topic16\", \"Topic16\", \"Topic16\", \"Topic16\", \"Topic16\", \"Topic16\", \"Topic16\", \"Topic16\", \"Topic16\", \"Topic16\", \"Topic16\", \"Topic16\", \"Topic16\", \"Topic16\", \"Topic16\", \"Topic16\", \"Topic16\", \"Topic16\", \"Topic16\", \"Topic16\", \"Topic16\", \"Topic16\", \"Topic16\", \"Topic16\", \"Topic16\", \"Topic16\", \"Topic16\", \"Topic16\", \"Topic16\", \"Topic16\", \"Topic16\", \"Topic16\", \"Topic16\", \"Topic16\", \"Topic16\", \"Topic16\", \"Topic16\", \"Topic16\", \"Topic16\", \"Topic16\", \"Topic16\", \"Topic16\", \"Topic16\", \"Topic16\", \"Topic17\", \"Topic17\", \"Topic17\", \"Topic17\", \"Topic17\", \"Topic17\", \"Topic17\", \"Topic17\", \"Topic17\", \"Topic17\", \"Topic17\", \"Topic17\", \"Topic17\", \"Topic17\", \"Topic17\", \"Topic17\", \"Topic17\", \"Topic17\", \"Topic17\", \"Topic17\", \"Topic17\", \"Topic17\", \"Topic17\", \"Topic17\", \"Topic17\", \"Topic17\", \"Topic17\", \"Topic17\", \"Topic17\", \"Topic17\", \"Topic17\", \"Topic17\", \"Topic17\", \"Topic17\", \"Topic17\", \"Topic17\", \"Topic17\", \"Topic17\", \"Topic17\", \"Topic17\", \"Topic17\", \"Topic17\", \"Topic17\", \"Topic17\", \"Topic17\", \"Topic17\", \"Topic17\", \"Topic17\", \"Topic17\", \"Topic17\", \"Topic17\", \"Topic18\", \"Topic18\", \"Topic18\", \"Topic18\", \"Topic18\", \"Topic18\", \"Topic18\", \"Topic18\", \"Topic18\", \"Topic18\", \"Topic18\", \"Topic18\", \"Topic18\", \"Topic18\", \"Topic18\", \"Topic18\", \"Topic18\", \"Topic18\", \"Topic18\", \"Topic18\", \"Topic18\", \"Topic18\", \"Topic18\", \"Topic18\", \"Topic18\", \"Topic18\", \"Topic18\", \"Topic18\", \"Topic18\", \"Topic18\", \"Topic18\", \"Topic18\", \"Topic18\", \"Topic18\", \"Topic18\", \"Topic18\", \"Topic18\", \"Topic18\", \"Topic18\", \"Topic18\", \"Topic18\", \"Topic18\", \"Topic18\", \"Topic18\", \"Topic18\", \"Topic18\", \"Topic18\", \"Topic18\", \"Topic18\", \"Topic18\", \"Topic18\", \"Topic19\", \"Topic19\", \"Topic19\", \"Topic19\", \"Topic19\", \"Topic19\", \"Topic19\", \"Topic19\", \"Topic19\", \"Topic19\", \"Topic19\", \"Topic19\", \"Topic19\", \"Topic19\", \"Topic19\", \"Topic19\", \"Topic19\", \"Topic19\", \"Topic19\", \"Topic19\", \"Topic19\", \"Topic19\", \"Topic19\", \"Topic19\", \"Topic19\", \"Topic19\", \"Topic19\", \"Topic19\", \"Topic19\", \"Topic19\", \"Topic19\", \"Topic19\", \"Topic19\", \"Topic19\", \"Topic19\", \"Topic19\", \"Topic19\", \"Topic19\", \"Topic19\", \"Topic19\", \"Topic19\", \"Topic19\", \"Topic19\", \"Topic19\", \"Topic19\", \"Topic19\", \"Topic19\", \"Topic20\", \"Topic20\", \"Topic20\", \"Topic20\", \"Topic20\", \"Topic20\", \"Topic20\", \"Topic20\", \"Topic20\", \"Topic20\", \"Topic20\", \"Topic20\", \"Topic20\", \"Topic20\", \"Topic20\", \"Topic20\", \"Topic20\", \"Topic20\", \"Topic20\", \"Topic20\", \"Topic20\", \"Topic20\", \"Topic20\", \"Topic20\", \"Topic20\", \"Topic20\", \"Topic20\", \"Topic20\", \"Topic20\", \"Topic20\", \"Topic20\", \"Topic20\", \"Topic20\", \"Topic20\", \"Topic20\", \"Topic20\", \"Topic20\", \"Topic20\", \"Topic20\", \"Topic20\", \"Topic20\", \"Topic20\", \"Topic20\", \"Topic20\", \"Topic20\", \"Topic20\", \"Topic20\", \"Topic20\", \"Topic20\", \"Topic20\", \"Topic20\", \"Topic20\", \"Topic20\", \"Topic20\"], \"logprob\": [30.0, 29.0, 28.0, 27.0, 26.0, 25.0, 24.0, 23.0, 22.0, 21.0, 20.0, 19.0, 18.0, 17.0, 16.0, 15.0, 14.0, 13.0, 12.0, 11.0, 10.0, 9.0, 8.0, 7.0, 6.0, 5.0, 4.0, 3.0, 2.0, 1.0, -5.7683, -5.7683, -4.6697, -4.6697, -3.2834, -3.8224, -3.8224, -4.1589, -5.0752, -5.7683, -5.7683, -5.7683, -5.0752, -4.1589, -5.7683, -5.7683, -4.6697, -5.7683, -4.1589, -5.7683, -3.1293, -4.6697, -4.382, -4.6697, -4.6697, -4.6697, -4.382, -3.8224, -5.7683, -5.7683, -3.9766, -4.382, -4.382, -4.6697, -5.0752, -5.0752, -5.0752, -5.0752, -5.7683, -2.401, -5.7683, -5.7683, -5.7683, -3.9766, -3.2834, -2.0794, -4.1589, -3.5711, -4.1589, -3.6889, -4.382, -3.8224, -3.8224, -4.382, -3.9766, -5.8916, -5.8916, -5.8916, -5.8916, -4.5053, -5.1985, -5.8916, -5.8916, -5.8916, -5.8916, -5.8916, -5.8916, -5.8916, -5.8916, -5.8916, -5.8916, -5.8916, -5.1985, -5.8916, -5.8916, -1.1731, -5.1985, -5.8916, -5.8916, -5.8916, -5.8916, -5.8916, -5.1985, -5.8916, -5.1985, -5.1985, -5.8916, -5.8916, -5.8916, -5.8916, -5.8916, -5.8916, -5.8916, -5.8916, -5.8916, -1.3808, -4.2822, -1.7645, -3.9457, -4.793, -4.793, -4.5053, -5.1985, -5.1985, -5.8916, -5.8916, -5.8916, -5.8916, -5.8916, -5.9135, -5.2204, -4.3041, -5.9135, -5.9135, -4.8149, -5.9135, -5.9135, -5.9135, -4.8149, -5.9135, -2.0423, -3.1409, -3.0803, -5.9135, -5.9135, -5.2204, -5.9135, -3.9676, -3.7163, -5.9135, -1.5441, -5.9135, -5.9135, -4.8149, -5.2204, -5.9135, -5.9135, -5.9135, -5.9135, -5.2204, -5.2204, -5.9135, -5.9135, -5.9135, -5.9135, -5.9135, -5.9135, -5.9135, -2.3026, -5.9135, -3.2744, -1.9432, -3.2744, -4.8149, -4.3041, -5.2204, -5.2204, -5.2204, -5.9135, -5.9135, -5.1358, -3.1209, -5.1358, -3.7495, -5.8289, -5.8289, -5.8289, -4.0372, -4.4427, -3.7495, -2.6935, -3.1209, -3.4311, -2.8332, -4.7303, -5.8289, -4.7303, -3.7495, -4.0372, -3.264, -3.6317, -2.8332, -4.0372, -5.8289, -5.8289, -5.8289, -2.6935, -2.1401, -5.8289, -5.8289, -4.0372, -4.2195, -4.4427, -4.7303, -4.7303, -5.1358, -5.8289, -5.8289, -5.8289, -3.344, -3.883, -5.8289, -3.883, -4.2195, -5.1358, -3.5711, -5.7683, -5.0752, -5.7683, -5.7683, -5.7683, -5.7683, -5.7683, -5.7683, -5.7683, -5.7683, -5.7683, -5.7683, -5.7683, -5.0752, -5.7683, -5.7683, -5.7683, -5.0752, -5.0752, -3.1293, -1.6574, -3.9766, -3.3704, -5.0752, -5.7683, -5.7683, -5.7683, -5.7683, -5.7683, -5.0752, -5.0752, -5.0752, -5.0752, -5.7683, -5.7683, -5.7683, -5.7683, -5.7683, -5.7683, -5.7683, -5.7683, -2.6773, -2.9957, -3.2034, -3.1293, -3.5711, -2.0547, -4.6697, -5.7683, -3.5711, -3.2034, -4.6697, -5.0752, -5.7683, -5.7683, -5.7683, -3.4657, -5.0752, -5.7683, -5.7683, -5.7104, -5.0173, -5.7104, -5.7104, -5.7104, -5.0173, -5.7104, -5.7104, -2.9378, -3.7645, -5.7104, -5.0173, -4.6118, -4.3241, -5.0173, -5.7104, -5.7104, -5.7104, -5.7104, -5.7104, -2.9378, -5.7104, -5.7104, -4.6118, -5.7104, -5.7104, -4.6118, -2.3431, -5.7104, -5.7104, -3.3125, -3.4078, -3.9187, -4.101, -4.6118, -5.0173, -5.0173, -5.0173, -5.0173, -5.0173, -5.0173, -5.0173, -5.0173, -2.3782, -5.7104, -5.7104, -4.3241, -3.631, -4.6118, -2.3431, -4.6118, -3.9187, -4.6118, -4.6118, -5.0173, -5.0173, -5.0173, -5.0173, -5.0173, -5.7961, -4.0043, -5.7961, -5.7961, -5.7961, -5.7961, -5.7961, -5.7961, -5.7961, -5.7961, -4.6974, -5.7961, -5.7961, -3.8501, -5.7961, -4.0043, -1.7887, -5.7961, -5.7961, -5.7961, -4.1866, -3.3982, -4.6974, -5.1029, -4.6974, -3.157, -2.5772, -4.6974, -5.7961, -5.1029, -4.0043, -4.0043, -4.1866, -4.4098, -4.6974, -4.6974, -4.6974, -4.6974, -4.6974, -5.1029, -5.1029, -5.1029, -5.1029, -5.7961, -5.7961, -5.7961, -2.8003, -5.7961, -2.0349, -5.7961, -4.1866, -4.4098, -4.0043, -4.0043, -4.6974, -4.6974, -5.1029, -5.6664, -5.6664, -4.9733, -3.0274, -4.9733, -3.1015, -5.6664, -5.6664, -5.6664, -4.057, -5.6664, -5.6664, -2.8332, -5.6664, -4.9733, -4.9733, -5.6664, -5.6664, -3.8747, -3.587, -3.7205, -5.6664, -4.2801, -4.2801, -2.4476, -1.9052, -5.6664, -4.2801, -5.6664, -5.6664, -4.057, -4.2801, -4.9733, -4.9733, -5.6664, -5.6664, -5.6664, -5.6664, -5.6664, -5.6664, -5.6664, -5.6664, -5.6664, -2.8938, -3.587, -5.6664, -5.6664, -3.7205, -3.8747, -4.057, -4.2801, -4.9733, -4.9733, -4.9733, -4.9733, -4.5678, -4.2801, -5.6937, -5.6937, -5.6937, -5.6937, -5.0006, -5.6937, -5.6937, -5.6937, -4.3074, -3.0547, -3.2958, -3.4965, -3.0547, -5.6937, -5.6937, -3.902, -4.0843, -5.6937, -5.6937, -5.6937, -3.902, -3.902, -4.0843, -4.5951, -5.6937, -5.6937, -5.6937, -5.6937, -5.6937, -5.6937, -2.4749, -2.5582, -3.6143, -4.3074, -5.0006, -5.0006, -5.6937, -5.6937, -5.6937, -5.6937, -5.6937, -5.6937, -3.4965, -4.3074, -4.5951, -4.5951, -2.0049, -4.3074, -4.3074, -2.3979, -5.0006, -5.0006, -5.0006, -5.6937, -1.9365, -5.7652, -5.7652, -3.9734, -3.9734, -4.3789, -5.7652, -5.7652, -5.072, -5.7652, -2.1543, -4.6666, -3.4626, -3.9734, -5.7652, -5.7652, -5.7652, -5.7652, -5.7652, -4.1558, -3.6857, -4.3789, -5.7652, -5.7652, -4.6666, -3.1261, -5.7652, -5.7652, -5.7652, -4.6666, -2.1276, -3.9734, -4.1558, -4.3789, -4.6666, -4.6666, -5.072, -5.072, -5.072, -5.072, -5.072, -5.072, -5.7652, -5.7652, -2.5871, -5.7652, -3.9734, -5.072, -4.6666, -5.072, -5.8464, -4.7478, -4.4601, -4.0547, -4.237, -3.9005, -5.8464, -5.8464, -5.1533, -5.8464, -3.2074, -4.0547, -3.6492, -4.7478, -3.5439, -4.4601, -4.4601, -5.8464, -4.7478, -5.8464, -5.8464, -3.4485, -2.6684, -3.4485, -5.8464, -5.8464, -3.9005, -5.8464, -3.9005, -1.8575, -4.0547, -4.0547, -4.4601, -4.7478, -4.7478, -5.1533, -5.1533, -5.1533, -5.1533, -2.6684, -2.9561, -3.6492, -4.237, -4.4601, -4.7478, -4.7478, -5.7398, -3.6604, -5.0466, -2.9066, -5.7398, -3.6604, -3.6604, -4.6412, -3.7939, -5.7398, -5.7398, -5.7398, -5.7398, -5.7398, -5.7398, -5.7398, -2.0262, -5.0466, -4.6412, -5.7398, -3.948, -3.7939, -3.7939, -4.6412, -3.948, -5.7398, -4.1304, -5.7398, -5.7398, -5.7398, -2.6953, -3.6604, -3.948, -4.1304, -4.1304, -4.3535, -2.1563, -4.6412, -4.6412, -5.0466, -5.0466, -5.0466, -5.7398, -3.948, -5.7398, -4.6412, -4.3535, -4.6412, -4.6412, -4.6412, -4.3535, -5.2883, -5.9814, -4.8828, -1.0327, -1.318, -3.037, -5.9814, -3.2734, -4.8828, -4.8828, -5.9814, -5.9814, -5.9814, -5.9814, -5.9814, -5.9814, -3.7842, -5.9814, -5.9814, -5.9814, -5.9814, -5.9814, -5.9814, -5.9814, -4.5951, -5.9814, -5.9814, -5.9814, -5.2883, -2.6141, -3.4165, -3.6788, -4.8828, -4.8828, -5.2883, -5.2883, -5.9814, -5.9814, -5.9814, -5.9814, -3.4965, -5.0006, -4.5951, -4.5951, -4.0843, -5.6937, -5.6937, -3.902, -5.6937, -3.902, -4.5951, -5.6937, -5.0006, -3.7478, -4.5951, -5.0006, -5.0006, -3.2088, -4.3074, -5.6937, -5.0006, -3.902, -3.902, -4.5951, -5.0006, -3.1288, -5.6937, -3.7478, -5.0006, -3.2088, -1.6684, -3.2088, -3.6143, -3.902, -4.3074, -4.5951, -4.5951, -3.3911, -5.0006, -4.0843, -4.3074, -4.5951, -4.5951, -5.743, -5.0499, -5.743, -5.743, -5.743, -5.743, -5.743, -5.743, -5.743, -5.743, -4.1336, -5.0499, -5.743, -5.743, -4.6444, -5.743, -5.743, -4.1336, -3.3451, -2.5649, -2.4472, -2.7986, -5.0499, -5.743, -5.743, -2.6985, -4.3567, -3.9512, -3.9512, -2.6985, -3.5458, -4.3567, -4.3567, -4.6444, -4.6444, -4.6444, -4.6444, -5.0499, -5.0499, -5.0499, -5.743, -5.743, -5.743, -5.743, -2.652, -5.743, -3.5458, -3.2581, -4.6444, -3.6636, -4.3567, -4.6444, -5.0499, -5.0499, -4.9309, -5.624, -5.624, -5.624, -5.624, -4.2377, -5.624, -4.5254, -4.9309, -4.9309, -4.2377, -4.9309, -4.5254, -5.624, -4.9309, -5.624, -5.624, -4.5254, -4.2377, -4.2377, -4.9309, -4.9309, -4.9309, -5.624, -4.9309, -4.2377, -4.5254, -4.2377, -3.1391, -5.624, -3.3214, -3.5446, -3.6781, -3.8323, -4.0146, -4.0146, -4.0146, -4.0146, -4.2377, -4.5254, -4.5254, -4.9309, -4.9309, -4.9309, -4.9309, -2.3659, -3.1391, -3.5446, -4.9309, -4.0146, -4.9309, -4.5254, -3.2261, -3.4268, -4.5254, -5.7462, -5.7462, -5.0531, -5.0531, -5.7462, -5.0531, -5.7462, -5.7462, -5.7462, -5.0531, -5.7462, -5.0531, -5.7462, -5.7462, -5.7462, -5.7462, -4.6476, -5.7462, -5.0531, -4.1368, -5.7462, -2.5273, -5.0531, -5.7462, -4.3599, -4.3599, -5.7462, -5.7462, -5.0531, -5.7462, -4.1368, -5.0531, -5.0531, -5.0531, -5.0531, -5.7462, -5.7462, -5.7462, -4.1368, -1.5565, -2.4504, -5.7462, -5.7462, -1.3642, -4.3599, -3.9544, -4.3599, -5.0531, -5.0531, -4.6476, -5.0531, -5.7557, -5.0626, -5.7557, -5.7557, -4.6571, -4.1463, -4.6571, -4.1463, -5.7557, -5.0626, -5.7557, -3.964, -4.1463, -4.3694, -5.7557, -5.7557, -4.6571, -3.2708, -5.7557, -5.7557, -5.7557, -5.7557, -3.1167, -5.0626, -3.2708, -2.3884, -4.1463, -3.6763, -3.2708, -5.0626, -4.6571, -4.6571, -5.0626, -5.0626, -5.0626, -5.0626, -5.0626, -2.4599, -5.7557, -5.7557, -2.5369, -3.2708, -3.4532, -3.8098, -3.5585, -4.1463, -3.8098, -4.6571, -4.6571, -4.6571, -5.0626, -2.5135, -5.649, -4.9558, -5.649, -4.5504, -4.5504, -3.8572, -5.649, -4.5504, -5.649, -4.5504, -5.649, -3.8572, -3.8572, -4.9558, -5.649, -5.649, -3.5695, -5.649, -5.649, -5.649, -5.649, -4.2627, -5.649, -4.5504, -4.9558, -4.9558, -4.9558, -1.7988, -4.5504, -3.7031, -4.2627, -4.5504, -4.5504, -4.5504, -4.5504, -4.5504, -4.5504, -4.9558, -4.9558, -5.649, -2.9409, -4.0395, -1.9601, -4.2627, -4.5504, -4.9558, -1.579, -5.6733, -5.6733, -4.5747, -4.5747, -4.5747, -4.9802, -5.6733, -4.287, -5.6733, -4.9802, -5.6733, -4.5747, -5.6733, -5.6733, -5.6733, -3.4761, -5.6733, -3.5939, -4.5747, -5.6733, -3.8816, -4.5747, -4.287, -5.6733, -3.4761, -5.6733, -4.9802, -5.6733, -5.6733, -3.4761, -3.7274, -4.5747, -4.5747, -4.9802, -4.9802, -4.9802, -4.9802, -5.6733, -5.6733, -5.6733, -3.2754, -5.6733, -5.6733, -4.5747, -4.5747, -5.6733, -1.7221, -5.6733, -4.9802, -5.6733, -4.5747, -4.9802, -4.9802], \"loglift\": [30.0, 29.0, 28.0, 27.0, 26.0, 25.0, 24.0, 23.0, 22.0, 21.0, 20.0, 19.0, 18.0, 17.0, 16.0, 15.0, 14.0, 13.0, 12.0, 11.0, 10.0, 9.0, 8.0, 7.0, 6.0, 5.0, 4.0, 3.0, 2.0, 1.0, 2.9542, 2.9542, 2.9542, 2.9542, 2.9542, 2.9542, 2.9542, 2.9542, 2.9542, 2.9542, 2.9542, 2.9542, 2.9542, 2.9542, 2.9542, 2.9542, 2.9542, 2.9542, 2.9542, 2.9542, 2.9542, 2.9542, 2.9542, 2.9542, 2.9542, 2.9542, 2.9542, 2.9542, 2.9542, 2.9542, 2.9542, 2.9542, 2.9542, 2.9542, 2.9542, 2.9542, 2.9542, 2.9542, 2.9542, 2.8951, 2.9542, 2.9542, 2.9542, 2.7909, 2.7123, 2.399, 2.7917, 2.6715, 2.7671, 2.6492, 2.7263, 2.2858, 1.9735, 2.4083, 1.3782, 2.9613, 2.9613, 2.9613, 2.9613, 2.9613, 2.9613, 2.9613, 2.9613, 2.9613, 2.9613, 2.9613, 2.9613, 2.9613, 2.9613, 2.9613, 2.9613, 2.9613, 2.9613, 2.9613, 2.9613, 2.9613, 2.9613, 2.9613, 2.9613, 2.9613, 2.9613, 2.9613, 2.9613, 2.9613, 2.9613, 2.9613, 2.9613, 2.9613, 2.9613, 2.9613, 2.9613, 2.9613, 2.9613, 2.9613, 2.9613, 2.8925, 2.7619, 1.4884, 2.0721, 2.3719, 2.1884, 1.604, 2.2272, 1.1714, 2.2008, 2.2655, 2.2466, 2.2229, 1.7919, 2.975, 2.975, 2.975, 2.975, 2.975, 2.975, 2.975, 2.975, 2.975, 2.975, 2.975, 2.975, 2.975, 2.975, 2.975, 2.975, 2.975, 2.975, 2.975, 2.975, 2.975, 2.975, 2.975, 2.975, 2.975, 2.975, 2.975, 2.975, 2.975, 2.975, 2.975, 2.975, 2.975, 2.975, 2.975, 2.975, 2.975, 2.975, 2.975, 2.9117, 2.975, 2.8896, 2.4778, 2.3288, 2.6603, 2.3256, 2.5028, 2.4994, 1.7185, 2.1799, 2.975, 2.9813, 2.9813, 2.9813, 2.9813, 2.9813, 2.9813, 2.9813, 2.9813, 2.9813, 2.9813, 2.9813, 2.9813, 2.9813, 2.9813, 2.9813, 2.9813, 2.9813, 2.9813, 2.9813, 2.9813, 2.9813, 2.9813, 2.9813, 2.9813, 2.9813, 2.9813, 2.9813, 2.9813, 2.9813, 2.9813, 2.9813, 2.9813, 2.9813, 2.9813, 2.9813, 2.9813, 2.9813, 2.9813, 2.9813, 2.8977, 2.868, 2.9813, 2.853, 2.7927, 1.0102, 2.9851, 2.9851, 2.9851, 2.9851, 2.9851, 2.9851, 2.9851, 2.9851, 2.9851, 2.9851, 2.9851, 2.9851, 2.9851, 2.9851, 2.9851, 2.9851, 2.9851, 2.9851, 2.9851, 2.9851, 2.9851, 2.9851, 2.9851, 2.9851, 2.9851, 2.9851, 2.9851, 2.9851, 2.9851, 2.9851, 2.9851, 2.9851, 2.9851, 2.9851, 2.9851, 2.9851, 2.9851, 2.9851, 2.9851, 2.9851, 2.9851, 2.9851, 2.9383, 2.9207, 2.9178, 2.8776, 2.8669, 2.7205, 2.7214, 2.9851, 2.0321, 1.5485, 2.2643, 2.2643, 2.9851, 2.9851, 2.9851, -0.2128, 1.0342, 1.9072, 2.2478, 2.9884, 2.9884, 2.9884, 2.9884, 2.9884, 2.9884, 2.9884, 2.9884, 2.9884, 2.9884, 2.9884, 2.9884, 2.9884, 2.9884, 2.9884, 2.9884, 2.9884, 2.9884, 2.9884, 2.9884, 2.9884, 2.9884, 2.9884, 2.9884, 2.9884, 2.9884, 2.9884, 2.9884, 2.9884, 2.9884, 2.9884, 2.9884, 2.9884, 2.9884, 2.9884, 2.9884, 2.9884, 2.9884, 2.9884, 2.9884, 2.9884, 2.9884, 2.9884, 2.9555, 2.9884, 2.9884, 2.7588, 2.4784, 2.7215, 2.1353, 2.6836, 2.1158, 2.4868, 2.3222, 2.3222, 2.6012, 2.6187, 2.5699, 1.9641, 2.9885, 2.9885, 2.9885, 2.9885, 2.9885, 2.9885, 2.9885, 2.9885, 2.9885, 2.9885, 2.9885, 2.9885, 2.9885, 2.9885, 2.9885, 2.9885, 2.9885, 2.9885, 2.9885, 2.9885, 2.9885, 2.9885, 2.9885, 2.9885, 2.9885, 2.9885, 2.9885, 2.9885, 2.9885, 2.9885, 2.9885, 2.9885, 2.9885, 2.9885, 2.9885, 2.9885, 2.9885, 2.9885, 2.9885, 2.9885, 2.9885, 2.9885, 2.9885, 2.9885, 2.9885, 2.9885, 2.9098, 2.9885, 2.7171, 2.9885, 2.7914, 2.733, 2.5791, 2.2804, 2.4394, 2.2843, 2.5726, 2.9937, 2.9937, 2.9937, 2.9937, 2.9937, 2.9937, 2.9937, 2.9937, 2.9937, 2.9937, 2.9937, 2.9937, 2.9937, 2.9937, 2.9937, 2.9937, 2.9937, 2.9937, 2.9937, 2.9937, 2.9937, 2.9937, 2.9937, 2.9937, 2.9937, 2.9937, 2.9937, 2.9937, 2.9937, 2.9937, 2.9937, 2.9937, 2.9937, 2.9937, 2.9937, 2.9937, 2.9937, 2.9937, 2.9937, 2.9937, 2.9937, 2.9937, 2.9937, 2.8761, 2.887, 2.9937, 2.9937, 2.861, 2.8526, 2.8215, 2.6588, 2.6485, 2.6359, 2.6281, 2.5905, 2.0818, 1.4397, 2.9976, 2.9976, 2.9976, 2.9976, 2.9976, 2.9976, 2.9976, 2.9976, 2.9976, 2.9976, 2.9976, 2.9976, 2.9976, 2.9976, 2.9976, 2.9976, 2.9976, 2.9976, 2.9976, 2.9976, 2.9976, 2.9976, 2.9976, 2.9976, 2.9976, 2.9976, 2.9976, 2.9976, 2.9976, 2.9976, 2.9976, 2.9976, 2.9976, 2.9976, 2.9976, 2.9976, 2.9976, 2.9976, 2.9976, 2.9976, 2.9976, 2.9976, 2.8861, 2.7845, 2.7468, 2.7254, 2.0355, 2.6116, 2.6083, 2.0231, 2.6223, 2.6124, 2.1362, 2.026, 2.9993, 2.9993, 2.9993, 2.9993, 2.9993, 2.9993, 2.9993, 2.9993, 2.9993, 2.9993, 2.9993, 2.9993, 2.9993, 2.9993, 2.9993, 2.9993, 2.9993, 2.9993, 2.9993, 2.9993, 2.9993, 2.9993, 2.9993, 2.9993, 2.9993, 2.9993, 2.9993, 2.9993, 2.9993, 2.9993, 2.9993, 2.9993, 2.9993, 2.9993, 2.9993, 2.9993, 2.9993, 2.9993, 2.9993, 2.9993, 2.9993, 2.9993, 2.9993, 2.9993, 2.7676, 2.9993, 2.7137, 2.6225, 2.2953, 2.5578, 3.0012, 3.0012, 3.0012, 3.0012, 3.0012, 3.0012, 3.0012, 3.0012, 3.0012, 3.0012, 3.0012, 3.0012, 3.0012, 3.0012, 3.0012, 3.0012, 3.0012, 3.0012, 3.0012, 3.0012, 3.0012, 3.0012, 3.0012, 3.0012, 3.0012, 3.0012, 3.0012, 3.0012, 3.0012, 3.0012, 3.0012, 3.0012, 3.0012, 3.0012, 3.0012, 3.0012, 3.0012, 3.0012, 3.0012, 2.9541, 2.7637, 2.7822, 2.7864, 2.8039, 2.6746, 0.2959, 3.0026, 3.0026, 3.0026, 3.0026, 3.0026, 3.0026, 3.0026, 3.0026, 3.0026, 3.0026, 3.0026, 3.0026, 3.0026, 3.0026, 3.0026, 3.0026, 3.0026, 3.0026, 3.0026, 3.0026, 3.0026, 3.0026, 3.0026, 3.0026, 3.0026, 3.0026, 3.0026, 3.0026, 3.0026, 3.0026, 3.0026, 3.0026, 3.0026, 3.0026, 3.0026, 3.0026, 2.9789, 3.0026, 3.0026, 3.0026, 3.0026, 3.0026, 3.0026, 2.8497, 3.0026, 2.7701, 2.5905, 2.2899, 2.1472, 1.6014, -0.0802, 3.0028, 3.0028, 3.0028, 3.0028, 3.0028, 3.0028, 3.0028, 3.0028, 3.0028, 3.0028, 3.0028, 3.0028, 3.0028, 3.0028, 3.0028, 3.0028, 3.0028, 3.0028, 3.0028, 3.0028, 3.0028, 3.0028, 3.0028, 3.0028, 3.0028, 3.0028, 3.0028, 3.0028, 3.0028, 2.9611, 2.912, 2.7718, 2.643, 0.5784, 0.7186, 0.4219, 2.1938, 1.2827, 1.4299, 2.1815, 3.0065, 3.0065, 3.0065, 3.0065, 3.0065, 3.0065, 3.0065, 3.0065, 3.0065, 3.0065, 3.0065, 3.0065, 3.0065, 3.0065, 3.0065, 3.0065, 3.0065, 3.0065, 3.0065, 3.0065, 3.0065, 3.0065, 3.0065, 3.0065, 3.0065, 3.0065, 3.0065, 3.0065, 3.0065, 3.0065, 3.0065, 3.0065, 3.0065, 3.0065, 3.0065, 3.0065, 3.0065, 2.8174, 3.0065, 2.8278, 2.6176, 2.7013, 2.5156, 3.0078, 3.0078, 3.0078, 3.0078, 3.0078, 3.0078, 3.0078, 3.0078, 3.0078, 3.0078, 3.0078, 3.0078, 3.0078, 3.0078, 3.0078, 3.0078, 3.0078, 3.0078, 3.0078, 3.0078, 3.0078, 3.0078, 3.0078, 3.0078, 3.0078, 3.0078, 3.0078, 3.0078, 3.0078, 3.0078, 3.0078, 3.0078, 3.0078, 3.0078, 3.0078, 3.0078, 3.0078, 3.0078, 3.0078, 3.0078, 3.0078, 3.0078, 3.0078, 3.0078, 2.9285, 3.0078, 2.9016, 2.5378, 2.7208, 2.3543, 2.4678, 2.2749, 1.8692, 1.8752, 3.0081, 3.0081, 3.0081, 3.0081, 3.0081, 3.0081, 3.0081, 3.0081, 3.0081, 3.0081, 3.0081, 3.0081, 3.0081, 3.0081, 3.0081, 3.0081, 3.0081, 3.0081, 3.0081, 3.0081, 3.0081, 3.0081, 3.0081, 3.0081, 3.0081, 3.0081, 3.0081, 3.0081, 3.0081, 3.0081, 3.0081, 3.0081, 3.0081, 3.0081, 3.0081, 3.0081, 3.0081, 3.0081, 3.0081, 3.0081, 3.0081, 3.0081, 3.0081, 3.0081, 3.0081, 2.9728, 2.9382, 2.8254, 3.0081, 2.8366, 3.0081, 2.729, 1.5491, 1.6169, 1.4703, 3.0086, 3.0086, 3.0086, 3.0086, 3.0086, 3.0086, 3.0086, 3.0086, 3.0086, 3.0086, 3.0086, 3.0086, 3.0086, 3.0086, 3.0086, 3.0086, 3.0086, 3.0086, 3.0086, 3.0086, 3.0086, 3.0086, 3.0086, 3.0086, 3.0086, 3.0086, 3.0086, 3.0086, 3.0086, 3.0086, 3.0086, 3.0086, 3.0086, 3.0086, 3.0086, 3.0086, 3.0086, 3.0086, 2.817, 2.4838, 2.5933, 3.0086, 3.0086, 1.8887, 2.5923, 2.3302, 2.2697, 2.6064, 2.5824, 2.1427, 2.2992, 3.017, 3.017, 3.017, 3.017, 3.017, 3.017, 3.017, 3.017, 3.017, 3.017, 3.017, 3.017, 3.017, 3.017, 3.017, 3.017, 3.017, 3.017, 3.017, 3.017, 3.017, 3.017, 3.017, 3.017, 3.017, 3.017, 3.017, 3.017, 3.017, 3.017, 3.017, 3.017, 3.017, 3.017, 3.017, 3.017, 3.017, 2.9799, 3.017, 3.017, 2.9243, 2.9284, 2.914, 2.8807, 2.4759, 2.5033, 2.2984, 2.7475, 1.9263, 1.681, 2.5868, 3.018, 3.018, 3.018, 3.018, 3.018, 3.018, 3.018, 3.018, 3.018, 3.018, 3.018, 3.018, 3.018, 3.018, 3.018, 3.018, 3.018, 3.018, 3.018, 3.018, 3.018, 3.018, 3.018, 3.018, 3.018, 3.018, 3.018, 3.018, 3.018, 3.018, 3.018, 3.018, 3.018, 3.018, 3.018, 3.018, 3.018, 3.018, 3.018, 3.018, 3.018, 2.9618, 2.8498, 1.2928, 2.4941, 2.0551, 2.658, 3.0206, 3.0206, 3.0206, 3.0206, 3.0206, 3.0206, 3.0206, 3.0206, 3.0206, 3.0206, 3.0206, 3.0206, 3.0206, 3.0206, 3.0206, 3.0206, 3.0206, 3.0206, 3.0206, 3.0206, 3.0206, 3.0206, 3.0206, 3.0206, 3.0206, 3.0206, 3.0206, 3.0206, 3.0206, 3.0206, 3.0206, 3.0206, 3.0206, 3.0206, 3.0206, 3.0206, 3.0206, 3.0206, 3.0206, 3.0206, 3.0206, 2.8706, 3.0206, 3.0206, 2.7692, 2.7448, 3.0206, 1.5308, 3.0206, 2.6311, 3.0206, 2.0308, 2.3926, 1.8082]}, \"token.table\": {\"Topic\": [10, 20, 11, 18, 20, 4, 8, 20, 13, 8, 4, 9, 14, 8, 8, 9, 9, 7, 5, 15, 15, 5, 18, 8, 11, 3, 14, 18, 6, 8, 7, 4, 3, 10, 6, 17, 15, 10, 12, 6, 13, 1, 13, 11, 15, 10, 14, 4, 8, 19, 7, 18, 8, 1, 8, 12, 15, 5, 2, 15, 20, 10, 18, 18, 6, 4, 13, 18, 19, 18, 11, 9, 7, 2, 2, 17, 10, 10, 9, 20, 17, 19, 10, 1, 16, 9, 11, 4, 19, 5, 7, 8, 13, 19, 5, 16, 5, 6, 18, 2, 18, 20, 7, 9, 13, 5, 11, 19, 3, 9, 3, 15, 4, 16, 2, 4, 16, 7, 10, 17, 7, 13, 12, 20, 14, 14, 5, 11, 10, 1, 12, 1, 7, 3, 14, 7, 7, 14, 2, 8, 17, 6, 5, 15, 8, 1, 20, 4, 11, 11, 7, 1, 12, 1, 1, 19, 17, 6, 19, 13, 4, 5, 13, 10, 12, 15, 4, 2, 14, 10, 11, 2, 10, 12, 8, 10, 11, 18, 4, 16, 7, 20, 3, 14, 6, 12, 12, 5, 3, 16, 13, 18, 2, 8, 5, 5, 7, 2, 14, 12, 12, 9, 4, 6, 3, 2, 14, 11, 3, 19, 2, 18, 4, 18, 6, 9, 7, 17, 19, 14, 3, 7, 16, 10, 11, 9, 14, 14, 16, 5, 3, 16, 14, 16, 15, 10, 7, 4, 20, 4, 10, 9, 1, 19, 12, 14, 15, 7, 2, 3, 11, 12, 19, 2, 13, 15, 2, 4, 17, 20, 20, 6, 3, 3, 16, 4, 17, 5, 3, 13, 8, 5, 16, 9, 13, 3, 17, 6, 12, 6, 16, 1, 18, 15, 20, 12, 11, 3, 12, 7, 7, 4, 3, 11, 6, 9, 6, 17, 11, 1, 13, 9, 17, 17, 8, 7, 15, 1, 5, 4, 15, 6, 15, 20, 9, 1, 14, 1, 1, 6, 13, 18, 8, 2, 16, 8, 3, 17, 10, 16, 19, 9, 12, 3, 6, 5, 3, 6, 18, 11, 19, 11, 14, 17, 19, 19, 19, 14, 14, 16, 10, 4, 6, 10, 6, 19, 20, 8, 12, 15, 16, 7, 18, 19, 1, 8, 18, 6, 16, 17, 10, 18, 4, 18, 18, 5, 20, 5, 19, 10, 6, 11, 10, 11, 16, 17, 5, 12, 1, 3, 5, 10, 8, 12, 13, 20, 8, 9, 2, 7, 14, 16, 5, 7, 19, 6, 11, 13, 9, 20, 4, 12, 10, 15, 8, 4, 11, 18, 9, 16, 10, 5, 16, 1, 3, 1, 12, 19, 6, 9, 11, 3, 5, 14, 11, 8, 9, 11, 17, 5, 20, 19, 5, 19, 20, 1, 16, 8, 16, 7, 8, 16, 8, 17, 19, 19, 3, 20, 20, 2, 4, 17, 10, 13, 5, 7, 2, 10, 2, 20, 13, 18, 11, 11, 16, 7, 12, 18, 19, 1, 7, 10, 7, 14, 6, 14, 15, 16, 5, 15, 8, 11, 11, 6, 9, 17, 20, 19, 16, 19, 16, 8, 20, 11, 14, 20, 7, 13, 18, 1, 18, 15, 9, 9, 5, 4, 13, 17, 11, 18, 2, 7, 7, 20, 14, 14, 12, 7, 18, 8, 19, 8, 20, 20, 17, 4, 3, 15, 12, 10, 11, 12, 6, 12, 13, 1, 10, 1, 15, 5, 16, 15, 2, 9, 6, 20, 6, 5, 4, 15, 15, 7, 7, 9, 17, 6, 7, 9, 9, 8, 10, 13, 18, 6, 9, 17, 2, 19, 13, 4, 2, 12, 13, 13, 16, 2, 3, 18, 9, 4, 4, 3, 7, 15, 8, 16, 19, 16, 15, 14, 14, 2, 17, 1, 12, 12, 5, 19, 8, 9, 16, 6, 9, 15, 17, 12, 12, 20, 10, 1, 10, 11, 16, 17, 19, 8, 11, 3, 17, 4, 19, 6, 7, 4, 10, 9, 8, 8, 6, 3, 14, 4, 12, 8, 16, 7, 7, 15, 15, 12, 5, 6, 9, 17, 14, 1, 7, 11, 1, 11, 17, 5, 4, 19, 15, 12, 9, 1, 14, 5, 6, 15, 8, 1, 5, 3, 10, 3, 4, 11, 20, 8, 10, 2, 8, 20, 14, 15, 5, 16, 7, 9, 19, 12, 17, 18, 20, 19, 11, 20, 20, 7, 17, 10, 10, 18, 16, 4, 1, 2, 5, 8, 18, 1, 3, 15, 4, 4, 15, 10, 20, 12, 18, 6, 2, 2, 18, 1, 8, 2, 10, 12, 19, 17, 7, 9, 2, 9, 15, 2, 13, 6, 1, 15, 2, 15, 8, 18, 15, 16, 5, 2, 5, 6, 5, 6, 7, 6, 20, 13, 1, 2, 2, 11, 16, 14, 1, 4, 15, 17, 17, 7, 11, 4, 3, 19, 4, 17, 3, 3, 3, 16, 14, 10, 8, 5, 14, 1, 16, 1, 18, 2, 5, 3, 8, 16, 2, 12, 17, 14, 18, 11, 5, 6, 3, 20, 8, 5, 6, 7, 13, 18, 1, 13, 14, 1, 2, 5, 17, 19, 20, 9, 16, 18, 16, 5, 9, 16, 10, 7, 1, 6, 1, 2, 11, 3, 8, 9, 17, 9, 3, 17, 9, 10, 17, 2, 10, 14, 7, 13, 20, 9, 18, 4, 6, 2, 2, 3, 6, 19, 20, 6, 13, 11, 6, 3, 3, 20, 7, 8, 14, 19, 8, 7, 6, 7, 10, 12, 5, 16, 16, 4, 20, 9, 10, 20, 20, 4, 9, 8, 19, 16, 6, 10, 8, 4, 19, 18, 14, 2, 16, 1, 17, 20, 19, 20, 6, 7, 20, 13, 12, 18, 16, 13, 2, 12, 2, 17, 15, 11, 15, 2, 10, 1, 6, 11, 8, 12, 19, 7, 4, 8, 18, 18, 12, 10, 15, 18, 11, 14, 16, 16, 10, 13, 6, 19, 16, 18, 1, 17, 5, 9, 18, 15, 13, 18, 4, 11, 20, 19, 3, 5, 6, 7, 20, 5, 11, 5, 19, 16, 1, 12, 1, 13, 4, 20, 7, 7, 9, 3, 9, 1, 3, 15, 3, 9, 17, 3, 19, 2, 6, 8, 15, 16, 2, 6, 17, 4, 9, 1, 2, 12, 8, 17, 5, 20, 12, 19, 17, 20, 15, 15, 11, 14, 14, 11, 15, 1, 8, 19, 12, 10, 15, 9, 1, 16, 20, 10, 16, 18, 13, 18, 16, 12, 15, 5, 11, 13, 18, 10, 17, 18, 7, 4, 7, 11, 13, 14, 17, 1, 12, 4, 1, 12, 6, 1, 1, 5, 1, 20, 17, 6, 6, 18, 3, 7, 8, 1, 15, 1, 11, 5, 20, 14, 5, 12, 2, 18, 14, 17, 19, 5, 8, 6, 18, 5, 9, 7, 18, 12, 5, 1, 2, 8, 19, 17, 6, 19, 20, 15, 12, 20, 8, 5, 20, 7, 19, 15, 10, 13, 9, 18, 1, 16, 10, 14, 1, 9, 17, 1, 9, 2, 1, 11, 12, 12, 5, 17, 17, 3, 7, 8, 6, 3, 2, 11, 12, 8, 6, 11, 5, 16, 2, 1, 2, 6, 14, 10, 2, 15, 12, 11, 15, 18, 2, 14, 14, 1, 17, 15, 8, 14, 6], \"Freq\": [0.9587983747077057, 0.8934935310672083, 1.0419446208280205, 0.9667165300739498, 0.8934935310672083, 0.3019658876671347, 0.6039317753342694, 0.8934935310672083, 1.1943733506374403, 1.0162386389654017, 1.0037246335816727, 0.8911407539303021, 1.0489440483245638, 0.8638028431205914, 0.8638028431205914, 0.9901563932558912, 0.8911407539303021, 0.978264318951166, 0.9482174371428457, 0.9457820451118192, 0.9457820451118192, 0.034501550989659964, 0.966043427710479, 0.8638028431205914, 1.0419446208280205, 1.0853950374198598, 0.8990948985639118, 0.9667165300739495, 0.590802521832271, 0.2954012609161355, 0.978264318951166, 1.0037246335816727, 1.0853950374198598, 0.9587983747077057, 0.6096299586269139, 0.30481497931345697, 1.0317622310310754, 0.9587983747077057, 0.9378610424257591, 0.897845667674375, 0.9995464920228224, 0.18961061576325644, 0.7584424630530258, 1.0419446208280205, 0.9457820451118192, 1.0092614470607428, 0.899094898563912, 1.0037246335816727, 0.8638028431205914, 0.8696636428534322, 0.6495896824306966, 0.3247948412153483, 0.8638028431205914, 0.14543278832886616, 0.8725967299731969, 0.9378610424257591, 0.9457820451118192, 0.9482174371428456, 0.43048540227118653, 0.49198331688135605, 0.061497914610169506, 1.0272839729011134, 0.9667165300739495, 0.9667165300739498, 0.897845667674375, 1.003724633581673, 1.0057880847473184, 0.9667165300739496, 0.8696636428534323, 0.9667165300739498, 1.0419446208280205, 1.00253334817159, 0.978264318951166, 1.0474489514985952, 1.0474489514985952, 0.9495554892664599, 0.9587983747077058, 1.0106253138810952, 0.8911407539303021, 0.8934935310672083, 0.9495554892664599, 0.8696636428534322, 0.9587983747077057, 0.9193959749687809, 0.8398880412929903, 0.6934467381228717, 0.23114891270762392, 0.05481152895970082, 0.9317959923149138, 0.9482174371428456, 0.978264318951166, 0.8638028431205914, 1.1943733506374403, 0.8696636428534322, 0.9482174371428456, 1.049860051616238, 0.9482174371428456, 0.4377044196541864, 0.5627628252696683, 1.0474489514985952, 0.9667165300739498, 0.8934935310672083, 0.978264318951166, 0.8911407539303021, 1.1943733506374403, 0.9482174371428456, 1.0419446208280205, 0.8696636428534322, 1.0853950374198598, 0.8911407539303021, 1.0853950374198598, 0.9457820451118192, 1.0037246335816727, 0.8398880412929903, 0.12612368670817448, 0.8828658069572214, 0.8398880412929903, 0.978264318951166, 0.9587983747077057, 0.9495554892664599, 0.978264318951166, 1.1943733506374403, 0.30260293551369244, 0.6052058710273849, 0.899094898563912, 0.9740194734442378, 0.9482174371428456, 1.0419446208280205, 0.9587983747077057, 1.0507382571071782, 0.9825210920650809, 0.9193959749687808, 0.978264318951166, 1.0853950374198598, 1.0275370269301851, 0.978264318951166, 0.978264318951166, 0.8990948985639118, 1.0474489514985952, 0.8638028431205914, 0.9495554892664599, 0.897845667674375, 0.9482174371428456, 0.9457820451118192, 0.8638028431205914, 0.7624792574128617, 0.15249585148257236, 1.0037246335816727, 1.0419446208280203, 1.0419446208280205, 0.978264318951166, 0.9193959749687808, 0.937861042425759, 0.9193959749687808, 0.919395974968781, 0.8696636428534323, 0.9495554892664599, 0.7136512660011307, 0.17841281650028268, 1.0351235705524484, 1.0037246335816727, 0.9124606924762996, 0.12166142566350661, 0.9587983747077057, 0.09449839289836129, 0.9449839289836129, 1.0037246335816727, 1.0474489514985952, 0.899094898563912, 0.9587983747077057, 1.0419446208280205, 0.32887761615930966, 0.6577552323186193, 0.9378610424257591, 0.8734179807961766, 0.09704644231068629, 1.0419446208280205, 0.9667165300739495, 1.0037246335816727, 1.119850721723987, 0.978264318951166, 0.8934935310672083, 1.0853950374198598, 0.899094898563912, 0.897845667674375, 1.0550936727289788, 1.0550936727289788, 0.9482174371428456, 1.0853950374198598, 1.119850721723987, 0.10573614198259207, 0.9163798971824646, 0.3058063183697695, 0.611612636739539, 1.0344190223376497, 0.32267977378172136, 0.6453595475634427, 1.0474489514985952, 0.9682560446072898, 0.937861042425759, 0.9378610424257591, 0.8911407539303021, 0.31018875329767226, 0.6203775065953445, 1.0215482705128094, 1.0474489514985952, 0.899094898563912, 1.0419446208280205, 0.9253723218941671, 0.07118248629955132, 1.0474489514985952, 0.9667165300739495, 1.0037246335816727, 0.9667165300739498, 0.897845667674375, 0.8911407539303021, 0.9782643189511658, 0.9495554892664599, 0.8696636428534323, 1.011481760884401, 1.0853950374198598, 0.7576461620430268, 0.1894115405107567, 0.9587983747077057, 1.0419446208280205, 0.8911407539303021, 0.899094898563912, 0.899094898563912, 1.119850721723987, 0.9482174371428456, 1.0853950374198598, 0.8398880412929903, 1.0489440483245638, 0.9798693815084887, 0.9457820451118192, 0.9587983747077057, 0.978264318951166, 0.13982294997746686, 0.8389376998648012, 0.9231875350312042, 0.07693229458593369, 0.8911407539303021, 0.919395974968781, 0.8696636428534323, 0.9378610424257591, 0.6094243799259962, 0.3047121899629981, 0.978264318951166, 1.0474489514985952, 0.930338603502737, 1.0419446208280205, 0.937861042425759, 0.8696636428534322, 1.0474489514985952, 0.8957800129780803, 0.9457820451118192, 1.0474489514985952, 1.0037246335816727, 0.9495554892664599, 0.9927705900746759, 0.8934935310672083, 0.897845667674375, 1.0853950374198598, 1.0853950374198598, 1.119850721723987, 1.003724633581673, 0.9495554892664599, 0.9482174371428456, 1.0029599712867059, 1.1943733506374403, 0.8638028431205914, 0.9482174371428458, 1.049860051616238, 0.8911407539303021, 1.1943733506374403, 1.0853950374198598, 0.9495554892664599, 0.897845667674375, 0.9378610424257591, 0.6619643119123366, 0.22065477063744554, 0.5385500807671005, 0.471231320671213, 0.9457820451118193, 0.8934935310672083, 0.937861042425759, 1.0419446208280205, 0.025441058311537187, 0.9667602158384131, 0.978264318951166, 0.978264318951166, 1.0037246335816727, 1.0853950374198598, 1.0419446208280205, 0.897845667674375, 0.9721535497421477, 0.897845667674375, 0.9495554892664599, 1.0419446208280205, 0.9193959749687809, 1.1943733506374403, 0.8911407539303021, 0.9495554892664599, 0.9495554892664599, 0.8638028431205914, 1.0173948917092126, 0.9457820451118192, 0.9193959749687809, 0.9482174371428456, 1.0037246335816727, 0.9457820451118192, 0.5436890559339806, 0.18122968531132688, 0.18122968531132688, 0.8911407539303021, 0.15040265370008427, 0.9024159222005056, 0.9193959749687808, 0.9193959749687808, 0.897845667674375, 1.1943733506374403, 0.9667165300739498, 0.8638028431205914, 1.0474489514985952, 0.8398880412929903, 0.8638028431205914, 1.0853950374198598, 0.9495554892664599, 0.9587983747077057, 0.8398880412929903, 0.9939013061182085, 0.7200869430946846, 0.18002173577367114, 1.0853950374198598, 0.897845667674375, 0.9482174371428456, 0.9362129128930095, 0.055071347817235855, 0.9667165300739496, 0.8405354083117116, 0.1681070816623423, 1.0419446208280205, 0.15679261622279647, 0.7839630811139824, 0.8696636428534322, 0.8696636428534322, 0.8696636428534322, 0.8990948985639118, 0.899094898563912, 1.0078656495515883, 0.9587983747077057, 1.0037246335816727, 0.897845667674375, 0.9587983747077057, 0.2213669901501846, 0.3320504852252769, 0.3320504852252769, 0.8638028431205914, 0.8048438411643568, 0.13414064019405947, 0.8398880412929903, 0.978264318951166, 0.8847585316477342, 0.07372987763731118, 0.9193959749687808, 0.9872032492806759, 0.9667165300739498, 0.1415037288515457, 0.8490223731092742, 0.9495554892664599, 0.7205742960995559, 0.2401914320331853, 0.8311342436893173, 0.16622684873786345, 0.9667165300739496, 0.9482174371428456, 0.8934935310672083, 0.9482174371428456, 0.8696636428534323, 0.9587983747077057, 0.897845667674375, 1.0033540793158715, 0.02321679081875952, 0.06965037245627856, 0.25538469900635474, 0.6500701429252665, 0.9482174371428456, 0.9378610424257591, 0.9193959749687808, 1.0853950374198598, 0.9482174371428456, 0.9587983747077057, 0.8638028431205914, 0.7433051890510366, 0.24776839635034553, 0.8934935310672083, 0.8638028431205914, 1.0396642129186855, 1.0474489514985952, 0.978264318951166, 0.6626431243040147, 0.22088104143467158, 0.2427801679491787, 0.763023384983133, 0.8696636428534323, 0.897845667674375, 1.0419446208280203, 1.1943733506374403, 0.8911407539303021, 0.8934935310672083, 1.0037246335816727, 0.9378610424257591, 0.9587983747077057, 0.9457820451118192, 0.9717781985106654, 1.0037246335816727, 0.2461216092067468, 0.7383648276202405, 0.8911407539303021, 0.8398880412929903, 0.9587983747077057, 0.8425286944984801, 0.09361429938872001, 0.919395974968781, 1.0853950374198598, 0.30656136861869326, 0.45984205292803987, 0.15328068430934663, 0.897845667674375, 0.8911407539303019, 1.0419446208280205, 0.528144350253023, 0.36563839632901596, 0.08125297696200354, 1.0419446208280205, 0.008512836900726985, 0.38307766053271436, 0.01702567380145397, 0.5958985830508889, 0.9482174371428456, 1.0051802224506095, 0.8696636428534323, 0.9482174371428456, 0.8696636428534322, 0.8934935310672083, 0.9193959749687808, 1.049860051616238, 0.8638028431205914, 0.8398880412929903, 0.978264318951166, 1.0365634117447096, 1.119850721723987, 0.8750925621637741, 0.12501322316625343, 0.8696636428534323, 0.9991880151933052, 1.0853950374198598, 0.8934935310672083, 0.9977344430250494, 0.5125603813766413, 0.5125603813766413, 0.9495554892664599, 0.5318494637030443, 0.5318494637030443, 0.9948510815924938, 0.978264318951166, 0.5005825249797107, 0.5005825249797107, 1.0474489514985952, 0.8934935310672083, 1.1943733506374403, 0.9667165300739498, 1.0419446208280205, 1.0419446208280205, 1.049860051616238, 0.978264318951166, 0.2575188796254962, 0.1287594398127481, 0.6437971990637404, 0.31613174508971403, 0.15806587254485702, 0.474197617634571, 0.978264318951166, 0.8990948985639118, 1.07741480120925, 0.5503233008884345, 0.3668822005922897, 0.9598720471919889, 0.23659742988668753, 0.7097922896600626, 1.0797535539007392, 1.0419446208280205, 1.0419446208280205, 0.9794680010993183, 0.8911407539303021, 0.6200683315628477, 0.31003416578142384, 0.8696636428534322, 1.0078656495515883, 0.8696636428534322, 0.8398880412929903, 0.996695588216067, 0.8934935310672083, 0.9525354333592784, 0.04141458405909906, 0.8934935310672083, 0.9960509429320962, 1.1943733506374403, 0.9667165300739495, 0.7624112130091057, 0.25413707100303523, 1.0158399743793614, 0.8911407539303021, 1.0693689047163626, 0.9482174371428456, 0.8961395452832295, 0.12801993504046136, 0.9495554892664599, 1.0419446208280205, 0.9667165300739498, 1.0474489514985952, 0.978264318951166, 0.978264318951166, 0.8934935310672083, 1.0789138782766943, 1.0489440483245638, 0.9378610424257591, 0.978264318951166, 0.9667165300739498, 1.00776998364069, 0.8696636428534322, 0.8638028431205914, 0.8934935310672083, 0.8934935310672083, 0.94955548926646, 1.0037246335816727, 1.0853950374198598, 0.9457820451118192, 0.9378610424257591, 0.9587983747077057, 1.0419446208280205, 0.937861042425759, 0.897845667674375, 0.9378610424257591, 1.1943733506374403, 1.0507382571071782, 0.9587983747077057, 0.9193959749687808, 0.9457820451118192, 0.9482174371428456, 0.8398880412929903, 0.9457820451118192, 1.0474489514985952, 0.8911407539303021, 0.897845667674375, 0.8934935310672083, 0.897845667674375, 0.9482174371428456, 1.003724633581673, 0.9457820451118192, 0.9457820451118192, 0.978264318951166, 0.978264318951166, 1.0396642129186855, 0.9495554892664599, 0.15095195159495992, 0.15095195159495992, 0.6038078063798397, 1.0073765044429501, 0.8638028431205914, 0.9587983747077057, 1.0616652005666136, 0.9667165300739496, 0.9876302344418125, 0.8911407539303021, 0.9495554892664599, 0.5809628820851591, 0.3873085880567727, 1.1943733506374403, 1.0037246335816727, 1.0474489514985952, 0.525343854933858, 0.525343854933858, 1.1943733506374403, 1.049860051616238, 1.0474489514985952, 1.0853950374198598, 0.9667165300739498, 0.9980776444019381, 1.0037246335816727, 1.003724633581673, 1.0853950374198598, 0.978264318951166, 0.9457820451118192, 0.8638028431205914, 0.8471391428513567, 0.21178478571283918, 0.8398880412929903, 0.9457820451118192, 0.8990948985639118, 1.0275370269301851, 0.8581294615117743, 0.17162589230235487, 0.9193959749687808, 0.9378610424257591, 0.9378610424257591, 0.45362165857652303, 0.45362165857652303, 0.9119035290287345, 0.04799492258045971, 0.04799492258045971, 0.897845667674375, 0.6057594836228086, 0.3028797418114043, 0.9495554892664599, 1.006485021139839, 0.9378610424257591, 0.8934935310672083, 0.9587983747077058, 0.2218183345025309, 0.792208337509039, 1.0419446208280205, 0.8398880412929903, 0.9495554892664599, 0.8696636428534322, 0.22824717032360434, 0.7760403791002547, 1.0853950374198598, 0.9495554892664599, 0.3033953996811594, 0.6067907993623188, 0.6875135904984456, 0.22917119683281523, 1.0037246335816727, 0.9587983747077057, 0.8911407539303021, 0.8638028431205914, 0.8638028431205914, 0.897845667674375, 0.6768471864458648, 0.3384235932229324, 1.003724633581673, 0.9378610424257591, 0.8638028431205914, 0.8398880412929903, 0.978264318951166, 0.978264318951166, 0.9457820451118192, 0.9955600474861256, 0.9378610424257591, 0.9482174371428456, 0.897845667674375, 0.6787950911107686, 0.2262650303702562, 0.899094898563912, 0.32249008678288127, 0.48373513017432185, 0.16124504339144063, 0.7814823616291471, 0.1562964723258294, 0.94955548926646, 0.9482174371428456, 1.0037246335816727, 1.0146075833290045, 0.9457820451118192, 0.9378610424257591, 0.8911407539303021, 0.9193959749687808, 0.899094898563912, 0.9482174371428456, 0.897845667674375, 0.9457820451118192, 0.8638028431205914, 0.9193959749687808, 0.9482174371428456, 1.0853950374198598, 1.0004852605645624, 1.0175578475811187, 0.09299568909698855, 0.836961201872897, 0.09299568909698855, 0.3082979117293986, 0.6165958234587972, 1.0474489514985952, 1.0797535539007392, 0.8934935310672083, 0.9740194734442378, 0.9457820451118192, 0.7632773237510733, 0.23075826066892913, 0.5648685406951177, 0.37657902713007846, 0.8696636428534322, 0.3986855907691492, 0.13289519692304974, 0.13289519692304974, 0.2657903938460995, 0.8696636428534323, 0.23162352485487725, 0.6948705745646317, 0.8934935310672083, 0.4818480700602554, 0.4818480700602554, 0.9587983747077057, 0.9587983747077057, 0.9667165300739498, 0.8398880412929903, 1.0037246335816727, 0.9193959749687808, 0.2428049749415113, 0.7284149248245338, 0.34701490766664095, 0.5783581794444016, 0.9193959749687808, 1.0853950374198598, 0.9457820451118192, 1.0037246335816727, 1.0037246335816727, 1.0508689390131323, 0.9587983747077057, 0.8934935310672083, 0.937861042425759, 0.9667165300739498, 0.897845667674375, 1.0474489514985952, 0.5027323847451449, 0.5027323847451449, 0.9960123062161794, 0.8638028431205914, 1.0474489514985952, 0.9587983747077057, 0.9378610424257591, 0.8696636428534322, 0.9495554892664599, 0.978264318951166, 0.8911407539303021, 1.0006878375924078, 1.0396642129186855, 0.9457820451118192, 1.0474489514985952, 1.1943733506374403, 1.010076376133672, 0.39405747355847076, 0.640343394532515, 1.0474489514985952, 0.9851896303248117, 0.8638028431205914, 0.9667165300739498, 0.9457820451118192, 1.049860051616238, 0.9482174371428456, 0.26957374967994807, 0.13478687483997404, 0.6065409367798831, 0.9482174371428456, 0.16064591864322134, 0.8032295932161067, 1.026109334485, 0.8934935310672083, 1.1943733506374403, 0.9193959749687808, 1.0474489514985952, 0.5223447679082385, 0.5223447679082385, 0.8398880412929903, 0.899094898563912, 1.0726286374635778, 1.0037246335816727, 0.9457820451118192, 0.9875377088371184, 0.9495554892664599, 0.978264318951166, 1.0419446208280205, 1.0037246335816727, 0.9949454509682049, 0.8696636428534322, 1.0037246335816727, 0.9495554892664599, 0.9647955888176533, 1.0853950374198598, 1.0853950374198598, 0.8398880412929903, 1.0489440483245638, 0.9587983747077057, 0.9872032492806759, 0.9459703239719724, 0.04112914452052054, 0.9193959749687808, 0.8398880412929903, 0.9850671160379796, 0.9667165300739498, 0.06819125926443334, 0.9546776297020667, 0.30895983236606167, 0.7723995809151541, 0.8398880412929903, 0.3253004883232785, 0.3253004883232785, 0.3253004883232785, 0.31435781096661564, 0.6287156219332313, 0.998530261626853, 0.9482174371428456, 0.9907262539855172, 0.4900697593743429, 0.4900697593743429, 0.8638028431205914, 0.46117216455409077, 0.46117216455409077, 0.978264318951166, 1.1943733506374403, 0.9667165300739496, 0.9193959749687808, 1.1943733506374403, 0.899094898563912, 0.9193959749687808, 0.2285220341167321, 0.04260580297091616, 0.3253534045051779, 0.1781697215147403, 0.22464877930119428, 0.8857357052403122, 0.08857357052403123, 0.9667165300739498, 0.8398880412929903, 0.9446583528809586, 0.05556813840476227, 0.8398880412929903, 0.9587983747077057, 0.978264318951166, 0.5804262108634834, 0.42212815335526066, 0.4896269843310658, 0.4896269843310658, 1.0419446208280203, 0.6103176316630605, 0.012455461870674705, 0.37366385612024117, 0.9495554892664599, 1.0184465759203452, 0.5669503069484425, 0.453560245558754, 0.8911407539303021, 0.31753886226216543, 0.6350777245243309, 1.0474489514985952, 0.9587983747077057, 0.8990948985639118, 0.9042044800106748, 0.09042044800106748, 0.8934935310672083, 0.08721094120670626, 0.8721094120670626, 1.0037246335816727, 0.897845667674375, 1.0474489514985952, 1.0474489514985952, 1.0853950374198598, 0.897845667674375, 0.8696636428534323, 0.8934935310672083, 0.897845667674375, 1.1943733506374403, 1.0419446208280205, 0.897845667674375, 1.0853950374198598, 1.0853950374198598, 0.9927705900746759, 0.2996199225939775, 0.599239845187955, 0.9954264948386168, 1.0146075833290045, 1.004421910605339, 0.978264318951166, 0.897845667674375, 0.978264318951166, 0.9587983747077057, 0.9378610424257591, 0.9482174371428456, 1.049860051616238, 1.119850721723987, 1.0037246335816727, 0.8934935310672083, 1.0693689047163626, 0.9587983747077057, 0.9927705900746759, 0.8934935310672083, 1.0037246335816727, 0.8911407539303021, 0.8645311194771608, 0.1080663899346451, 1.049860051616238, 0.9618746195828822, 0.031028213534931685, 0.8638028431205914, 1.0037246335816727, 0.8696636428534322, 0.9667165300739498, 0.9740194734442378, 0.17490957184178013, 0.8745478592089007, 0.4671161940517948, 0.4671161940517948, 0.8934935310672083, 0.8696636428534322, 0.8934935310672083, 0.897845667674375, 0.978264318951166, 0.8934935310672083, 1.1943733506374403, 0.937861042425759, 1.0000515828351204, 1.0078656495515883, 1.1943733506374403, 1.0474489514985952, 0.9378610424257591, 1.0474489514985952, 0.9495554892664599, 0.9457820451118192, 0.07942603237419088, 0.9133993723031951, 1.0474489514985952, 0.9587983747077057, 0.7320028383978022, 0.18300070959945056, 1.0419446208280205, 1.002011298019886, 0.9378610424257591, 0.9783715982101113, 0.9782643189511658, 1.0037246335816727, 0.8638028431205914, 0.9667165300739498, 0.9667165300739498, 0.9378610424257591, 0.9587983747077057, 0.1205061471936002, 0.8435430303552014, 1.0419446208280203, 0.031183018282265725, 0.9666735667502375, 1.0078656495515883, 0.9587983747077057, 1.002822907610681, 1.047486612286771, 0.8696636428534323, 0.8398880412929903, 0.9667165300739498, 0.3130949474109695, 0.626189894821939, 0.30312906787971833, 0.6062581357594367, 0.9667165300739495, 0.9457820451118192, 0.9229118440686108, 0.08390107673351008, 0.23841098165085534, 0.23841098165085534, 0.47682196330171067, 0.983098031051706, 1.0853950374198598, 0.46117216455409077, 0.46117216455409077, 0.978264318951166, 1.0424091195784098, 0.9482174371428456, 1.0419446208280205, 0.9482174371428456, 0.8696636428534322, 0.9798693815084887, 0.9193959749687808, 1.0550936727289788, 0.27782037383720637, 0.8334611215116191, 1.0037246335816727, 0.8934935310672083, 0.978264318951166, 0.306134976635129, 0.612269953270258, 1.0853950374198598, 0.8911407539303021, 0.919395974968781, 1.0853950374198598, 0.9457820451118192, 0.6745807880950845, 0.33729039404754224, 0.9495554892664599, 1.0853950374198598, 1.0870795535667903, 1.0474489514985952, 0.15148993792998275, 0.3029798758599655, 0.4544698137899482, 0.8398880412929903, 1.0474489514985952, 0.897845667674375, 0.9495554892664599, 1.0037246335816727, 1.0184465759203452, 0.919395974968781, 1.0474489514985952, 0.937861042425759, 1.0365634117447096, 0.9495554892664599, 0.9482174371428456, 0.8934935310672083, 0.937861042425759, 1.0146075833290045, 0.9495554892664599, 0.8934935310672083, 0.9457820451118192, 0.9908192853552392, 0.7516044194191103, 0.2505348064730368, 0.9989943317376799, 0.9675200050545903, 0.9457820451118192, 0.9110199806573849, 0.13014571152248355, 1.0870795535667903, 0.9378610424257591, 0.9587983747077057, 0.9457820451118193, 0.8911407539303021, 0.9193959749687808, 0.8398880412929903, 0.8934935310672083, 0.9587983747077057, 0.9137159732772882, 0.06526542666266344, 1.1943733506374403, 0.9667165300739498, 1.0078656495515883, 0.937861042425759, 0.9457820451118192, 0.9482174371428456, 1.0419446208280205, 0.9480565971310536, 0.0395023582137939, 0.9587983747077057, 0.9495554892664599, 0.9667165300739498, 0.978264318951166, 1.0037246335816727, 0.978264318951166, 0.8553890481917639, 0.21384726204794097, 0.899094898563912, 0.9495554892664599, 0.31054138556664185, 0.6210827711332837, 1.0037246335816727, 0.769953115968834, 0.2309859347906502, 1.010076376133672, 0.9193959749687808, 0.9193959749687808, 0.9482174371428456, 0.919395974968781, 0.8934935310672083, 0.9495554892664599, 0.897845667674375, 0.897845667674375, 0.9667165300739495, 0.7923534212233528, 0.2641178070744509, 0.8638028431205914, 0.919395974968781, 0.9457820451118192, 0.9193959749687808, 1.0419446208280205, 0.9482174371428456, 1.0211354640768093, 1.0489440483245638, 0.9482174371428456, 0.9930293390390389, 1.0474489514985952, 0.9667165300739498, 0.899094898563912, 0.14700534865896467, 0.882032091953788, 0.9482174371428456, 1.0797535539007392, 0.897845667674375, 0.9667165300739498, 0.9482174371428456, 0.8911407539303021, 0.978264318951166, 0.9667165300739495, 0.9378610424257591, 1.0159472540816203, 1.0507382571071782, 1.0474489514985952, 0.5771650974619399, 0.28858254873096995, 0.9495554892664599, 0.897845667674375, 0.8696636428534322, 0.8934935310672083, 0.9457820451118192, 0.22604678879815454, 0.6781403663944636, 0.8638028431205914, 0.9482174371428456, 0.8934935310672083, 0.978264318951166, 0.8696636428534323, 0.9457820451118192, 0.9587983747077057, 1.1943733506374403, 0.8911407539303021, 0.9667165300739495, 0.7820041725900475, 0.2406166684892454, 0.9587983747077057, 0.899094898563912, 0.9193959749687808, 0.8911407539303021, 0.9495554892664599, 0.919395974968781, 0.8911407539303021, 1.0474489514985952, 0.9563104747227764, 0.059769404670173526, 0.9378610424257591, 1.0550936727289788, 0.9482174371428456, 0.94955548926646, 0.9495554892664599, 1.0853950374198598, 0.978264318951166, 0.8638028431205914, 0.897845667674375, 1.0853950374198598, 0.9348580770761169, 0.021490990277611883, 0.042981980555223766, 1.0797535539007392, 0.897845667674375, 1.0419446208280205, 0.9482174371428456, 0.8398880412929903, 1.0474489514985952, 0.9193959749687808, 0.48356792961158335, 0.3223786197410556, 0.1611893098705278, 0.9587983747077058, 1.0474489514985952, 0.9457820451118192, 0.937861042425759, 0.13778076923387578, 0.5511230769355031, 0.27556153846775155, 1.0474489514985952, 0.899094898563912, 0.8990948985639118, 0.532619229460675, 0.39946442209550626, 0.9908192853552392, 0.1488356630002603, 0.8185961465014316, 0.897845667674375], \"Term\": [\"abbatoir\", \"access\", \"accident\", \"accountant\", \"accounting\", \"accreditation\", \"accreditation\", \"achievement\", \"acquisition\", \"act\", \"action\", \"activate\", \"activity\", \"add\", \"addition\", \"additional\", \"adjudge\", \"administer\", \"administrative\", \"administrator\", \"admit\", \"adopt\", \"adopt\", \"adult\", \"advance\", \"affair\", \"afternoon\", \"age\", \"agency\", \"agency\", \"agent\", \"agricultural\", \"agriculture\", \"aid\", \"alley\", \"alley\", \"allowance\", \"alpha\", \"ambulant\", \"amelioration\", \"amend\", \"amending\", \"amending\", \"amendment\", \"amnesty\", \"amount\", \"amusement\", \"analysis\", \"animal\", \"anniversary\", \"annual\", \"annual\", \"annually\", \"anti\", \"anti\", \"applicable\", \"appointment\", \"approach\", \"appropriating\", \"appropriating\", \"appropriating\", \"appropriation\", \"approve\", \"aquatic\", \"araw\", \"area\", \"article\", \"assessment\", \"assign\", \"assignment\", \"assistance\", \"assistant\", \"assumption\", \"astablishment\", \"attend\", \"auditing\", \"augment\", \"authorize\", \"availmant\", \"award\", \"baggage\", \"balamban\", \"balance\", \"ban\", \"band\", \"bar\", \"bar\", \"barangay\", \"barangay\", \"basement\", \"basic\", \"batching\", \"bath\", \"beap\", \"bed\", \"beer\", \"belong\", \"benefit\", \"benefit\", \"bereave\", \"bhws\", \"bicycle\", \"bid\", \"big\", \"bincungan\", \"birth\", \"birthing\", \"bleacher\", \"blgu\", \"blood\", \"board\", \"bonifacio\", \"bordio\", \"borrow\", \"bound\", \"bound\", \"box\", \"branch\", \"brand\", \"bridge\", \"bring\", \"briz\", \"budget\", \"budget\", \"build\", \"building\", \"bureau\", \"burial\", \"burial_assistance\", \"bus\", \"business\", \"butcher\", \"butchered\", \"buying\", \"cable\", \"cad\", \"calamba\", \"calendar\", \"call\", \"campaign\", \"canal\", \"canopy\", \"capitalization\", \"carbon\", \"card\", \"cargo\", \"cargo\", \"cargoe\", \"case\", \"casual\", \"cattle\", \"cbbe\", \"celebration\", \"cemetery\", \"center\", \"certificate\", \"cespro\", \"change\", \"change\", \"chapter\", \"charcoal\", \"charge\", \"charge\", \"chemical\", \"child\", \"child\", \"choice\", \"cine\", \"cipsdo\", \"circle\", \"circuit\", \"circumferential\", \"circumferential\", \"circuse\", \"civil\", \"civil\", \"civotespro\", \"classification\", \"classify\", \"classroom\", \"clearance\", \"clep\", \"clerk\", \"clinic\", \"cloa\", \"clock\", \"close\", \"coastal\", \"cockfighting\", \"cocktail\", \"code\", \"code\", \"collect\", \"collect\", \"collection\", \"comfort\", \"comfort\", \"comission\", \"commercial\", \"committee\", \"communal\", \"communication\", \"community\", \"community\", \"compensation\", \"complaint\", \"complete\", \"comply\", \"composition\", \"composition\", \"compound\", \"comprehensive\", \"comprise\", \"compromise\", \"comunitie\", \"concept\", \"concern\", \"concert\", \"concrete\", \"condition\", \"condonation\", \"conduct\", \"conduct\", \"conference\", \"conflict\", \"congratulate\", \"connect\", \"connection\", \"conservation\", \"conspicuous\", \"constituent\", \"constituting\", \"construct\", \"construction\", \"consultant\", \"consumer\", \"continue\", \"continue_reade\", \"continue_reade\", \"continue_reading\", \"continue_reading\", \"contraband\", \"contract\", \"contractor\", \"contribution\", \"control\", \"control\", \"conveyance\", \"cooking\", \"cooperative\", \"coordinate\", \"coordinator\", \"copy\", \"coral\", \"corn\", \"corner\", \"corpse\", \"correspond\", \"cough\", \"council\", \"councilor\", \"counter\", \"counterpart\", \"countryside\", \"court\", \"cover\", \"covering\", \"crash\", \"create\", \"cso\", \"csos\", \"ctfrb\", \"cultural\", \"curb\", \"customer\", \"cyanide\", \"cyclamate\", \"daily\", \"dangerous\", \"date\", \"date\", \"davao\", \"davao\", \"day\", \"dct\", \"dead\", \"death\", \"declare\", \"declare\", \"deed\", \"defective\", \"defer\", \"delivery\", \"demand\", \"density\", \"department\", \"deposit\", \"deserve\", \"deserving\", \"designate\", \"desk\", \"destroy\", \"destruction\", \"detention\", \"determine\", \"development\", \"directly\", \"disability\", \"disabled\", \"disablitie\", \"dispatch\", \"display\", \"display\", \"display\", \"disposable\", \"disposal\", \"disposal\", \"distance\", \"distribution\", \"distributor\", \"district\", \"diversion\", \"domestic\", \"donation\", \"donor\", \"dope\", \"dpwh\", \"drainage\", \"drinking\", \"drive\", \"driver\", \"drug\", \"drug\", \"duly\", \"dump\", \"duration\", \"duty\", \"duty\", \"economic\", \"education\", \"education\", \"educational\", \"effective\", \"effective\", \"efficient\", \"elect\", \"elective\", \"electrical\", \"electrician\", \"elementary\", \"eliseo\", \"embrace\", \"embraced\", \"emergency\", \"employee\", \"employee\", \"employee\", \"employer\", \"employment\", \"employment\", \"empower\", \"enable\", \"enact\", \"enact\", \"enclose\", \"enforce\", \"enforcement\", \"engage\", \"engage\", \"ensure\", \"enter\", \"enter\", \"enterprise\", \"enterprise\", \"entitle\", \"entitlte\", \"entity\", \"environmental\", \"equal\", \"equipment\", \"erect\", \"establish\", \"establishment\", \"establishment\", \"establishment\", \"establishment\", \"estimate\", \"everyday\", \"examination\", \"examine\", \"exclusive\", \"exist\", \"expand\", \"expense\", \"expense\", \"express\", \"extend\", \"facility\", \"fair\", \"family\", \"fare\", \"fare\", \"fee\", \"fee\", \"festival\", \"filing\", \"financial\", \"fine\", \"firewood\", \"fish\", \"fishery\", \"fix\", \"flammable\", \"follow\", \"food\", \"forest\", \"form\", \"form\", \"fortify\", \"found\", \"framework\", \"franchise\", \"franchise\", \"free\", \"fresh\", \"front\", \"front\", \"front\", \"fruit\", \"fully\", \"fun\", \"function\", \"function\", \"function\", \"functionary\", \"fund\", \"fund\", \"fund\", \"fund\", \"funeral\", \"garbage\", \"gas\", \"gasoline\", \"gather\", \"gender\", \"general\", \"generate\", \"generator\", \"girl\", \"goat\", \"gold\", \"good\", \"govern\", \"govern\", \"governance\", \"government\", \"grade\", \"graduating\", \"grant\", \"ground\", \"ground\", \"grow\", \"growth\", \"growth\", \"guideline\", \"head\", \"health\", \"health\", \"heavy\", \"hectare\", \"helmet\", \"hereto\", \"hereunder\", \"herunder\", \"high\", \"highly\", \"highway\", \"highway\", \"highway\", \"hire\", \"hire\", \"hire\", \"hog\", \"hold\", \"home\", \"honor\", \"honor\", \"honorable\", \"honorarium\", \"honorarium\", \"hospital\", \"hospitalization\", \"hour\", \"house\", \"housing\", \"human\", \"human\", \"iccs\", \"identify\", \"illegal\", \"impair\", \"implement\", \"implementatio\", \"implementation\", \"implementation\", \"importer\", \"impose\", \"improvement\", \"incentive\", \"include\", \"include\", \"increase\", \"increment\", \"indigenous\", \"indigent\", \"industrial\", \"industrial\", \"inhabitant\", \"initial\", \"inoperative\", \"inquire\", \"inspect\", \"inspection\", \"inspector\", \"install\", \"installation\", \"institution\", \"institutional\", \"insurance\", \"integrate\", \"integration\", \"intermission\", \"internal\", \"intersection\", \"investment\", \"involve\", \"iodate\", \"iodide\", \"ip\", \"ipmr\", \"isidoro\", \"issuance\", \"issue\", \"jail\", \"jeep\", \"jeepney\", \"job\", \"joint\", \"judge\", \"judicial\", \"juke\", \"jukebox\", \"junction\", \"kilometer\", \"kind\", \"korean\", \"laboratory\", \"lactate\", \"land\", \"lane\", \"lapu\", \"large\", \"late\", \"law\", \"lead\", \"legal\", \"legal\", \"legal\", \"legislative\", \"lessee\", \"lessor\", \"letter\", \"level\", \"license\", \"likewise\", \"limestone\", \"limit\", \"limit\", \"limited\", \"line\", \"liquefy\", \"liquor\", \"liquor\", \"litter\", \"live\", \"livestock\", \"load\", \"loan\", \"local\", \"locate\", \"lot\", \"lotto\", \"low\", \"lrc\", \"lumpsum\", \"machine\", \"machine\", \"magic\", \"magugpo_w\", \"maintain\", \"maintenance\", \"make\", \"make\", \"mall\", \"malnourish\", \"man\", \"manage\", \"manage\", \"management\", \"management\", \"management\", \"mananabang\", \"mandatory\", \"mandatory\", \"manufacture\", \"market\", \"marketing\", \"marriage\", \"material\", \"mayor\", \"mayor\", \"measure\", \"meat\", \"mechanic\", \"mechanism\", \"medical\", \"medical\", \"meeting\", \"member\", \"memorial\", \"memorial\", \"memory\", \"memory\", \"mercury\", \"meter\", \"mfrb\", \"micro\", \"microbiological\", \"midwife\", \"mill\", \"mill\", \"minor\", \"miscellaneous\", \"mission\", \"mixed\", \"mobile\", \"monitor\", \"month\", \"monthly\", \"morning\", \"mother\", \"motion\", \"motor\", \"motor\", \"motorcycle\", \"motorize\", \"motorize\", \"motorize\", \"movie\", \"movie\", \"moviehouse\", \"muicipality\", \"musa\", \"national\", \"ng\", \"night\", \"noon\", \"number\", \"nursery\", \"nw\", \"oath\", \"obstacle\", \"obtain\", \"occupancy\", \"occupant\", \"offer\", \"office\", \"officer\", \"official\", \"official\", \"official\", \"officially\", \"officially\", \"oil\", \"omission\", \"open\", \"operate\", \"operating\", \"operation\", \"operation\", \"operator\", \"operator\", \"optional\", \"order\", \"order\", \"order\", \"order\", \"orderly\", \"ordinance\", \"ordinance\", \"organic\", \"organization\", \"organization\", \"ornamental\", \"osmena\", \"otherwise_known\", \"outlet\", \"overhead\", \"overseas\", \"overtime\", \"overtime\", \"owner\", \"owner\", \"paanakan\", \"palm\", \"paper\", \"parcel\", \"park\", \"parking\", \"parlor\", \"parochial\", \"part\", \"participate\", \"participation\", \"partnership\", \"pass\", \"pass\", \"passenger\", \"patient\", \"pawn\", \"pay\", \"payment\", \"peace\", \"peacekeeper\", \"peddle\", \"pedicab\", \"penalty\", \"people\", \"performance\", \"perimeter\", \"permanent\", \"permit\", \"person\", \"person\", \"personnel\", \"peso\", \"petitioner\", \"philippine\", \"phone\", \"php\", \"physical\", \"place\", \"place\", \"place\", \"placement\", \"plan\", \"plan\", \"plant\", \"plate\", \"platform\", \"play\", \"playing\", \"plaza\", \"plaza\", \"pleasure\", \"ply\", \"poblacion\", \"point\", \"police\", \"policy\", \"pollution\", \"pollutive\", \"poor\", \"portion\", \"position\", \"postpone\", \"potassium\", \"poultry\", \"power\", \"practice\", \"practitioner\", \"pregnant\", \"premise\", \"preschooler\", \"prescribe\", \"prescribing\", \"prescribing\", \"presecribe\", \"priority\", \"private\", \"privilege\", \"procedure\", \"procedure\", \"processing\", \"processing\", \"procurement\", \"produce\", \"produce\", \"produce\", \"product\", \"product\", \"program\", \"programof\", \"prohibit\", \"project\", \"project\", \"promotion\", \"promulgate\", \"promulgate\", \"promulgating\", \"propagate\", \"property\", \"proponent\", \"proprietor\", \"protect\", \"protective\", \"provide\", \"provide\", \"provide\", \"provide\", \"provide\", \"providing\", \"providing\", \"province\", \"provincial\", \"provision\", \"provision\", \"pso\", \"psp\", \"pta\", \"public\", \"public\", \"purchase\", \"purchase\", \"purok\", \"purpose\", \"purpose\", \"purpose\", \"pusher\", \"qualification\", \"qualify\", \"qualify\", \"quasi\", \"rabie\", \"rabie\", \"race\", \"radius\", \"raise\", \"rate\", \"rate\", \"ratify\", \"real\", \"real\", \"reclassify\", \"recognize\", \"recondition\", \"reconstitute\", \"record\", \"recording\", \"recruitment\", \"reduce\", \"referee\", \"refiller\", \"reforestation\", \"refusal\", \"refuse\", \"regard\", \"register\", \"registration\", \"registration\", \"regulate\", \"regulating\", \"regulation\", \"regulatory\", \"relate\", \"relief\", \"relocate\", \"relocation\", \"removal\", \"rename\", \"render\", \"rene\", \"renewable\", \"rental\", \"repair\", \"repeal\", \"report\", \"represent\", \"representative\", \"republic_act\", \"republic_act\", \"request\", \"require\", \"require\", \"requirement\", \"reroute\", \"resale\", \"resident\", \"residential\", \"resolution\", \"resolution\", \"respective\", \"respective\", \"responsibilie\", \"responsibilite\", \"responsible\", \"responsiblitie\", \"restroom\", \"retailer\", \"revenue\", \"revert\", \"revise\", \"rice\", \"ride\", \"rider\", \"riding\", \"river\", \"riverbank\", \"rizal\", \"road\", \"road\", \"rolando\", \"role\", \"room\", \"room\", \"rubbish\", \"rule\", \"sack\", \"salary\", \"sale\", \"salt\", \"salted\", \"sanitary\", \"sanitation\", \"satellite\", \"saving\", \"schedule\", \"schedule\", \"scholarship\", \"school\", \"school\", \"secondary\", \"secretary\", \"section\", \"secure\", \"security\", \"seedling\", \"select\", \"sell\", \"sell\", \"seminar\", \"seminar\", \"separation\", \"sergeant\", \"series\", \"series\", \"serve\", \"serve\", \"serve\", \"service\", \"servicing\", \"set\", \"set\", \"shed\", \"show\", \"shrub\", \"sickness\", \"sidecar\", \"signboard\", \"similar\", \"single\", \"site\", \"sitio\", \"sitio\", \"situate\", \"skeletal\", \"slaughter\", \"slaughterhouse\", \"slaughterhouse\", \"slide\", \"small\", \"smoke\", \"sneak\", \"sobrecarey\", \"social\", \"social\", \"solicitation\", \"solo\", \"space\", \"spare\", \"special\", \"special\", \"special\", \"specifically\", \"sponsorship\", \"sport\", \"spouse\", \"square_meter\", \"staff\", \"staffing\", \"stage\", \"stall\", \"standard\", \"stated\", \"station\", \"status\", \"steering\", \"step\", \"steward\", \"stockpile\", \"strategically\", \"street\", \"strengthen\", \"strengthen\", \"structure\", \"student\", \"subdivision\", \"subject\", \"subject\", \"submit\", \"subscribe\", \"subsequent\", \"subsistence\", \"sugar\", \"supermarket\", \"superstore\", \"supervise\", \"supply\", \"support\", \"support\", \"surgical\", \"suspension\", \"system\", \"table\", \"tabo\", \"tagumenyos\", \"tanod\", \"tax\", \"tax\", \"taxation\", \"taxpayer\", \"tciic\", \"tcnhs\", \"tct\", \"teacher\", \"technical\", \"technical\", \"technologist\", \"television\", \"temporary\", \"temporary\", \"term\", \"terminal\", \"terminal\", \"territorial_jurisdiction\", \"test\", \"theater\", \"theatre\", \"thereat\", \"thereon\", \"thereto\", \"throw\", \"ticket\", \"time\", \"title\", \"title\", \"tobacco\", \"toll\", \"tomb\", \"total\", \"tourism\", \"tourist\", \"town\", \"trade\", \"traditional\", \"traffic\", \"trailer\", \"training\", \"transaction\", \"transfer\", \"transfer\", \"transitory\", \"transport\", \"transportable\", \"transportation\", \"travelling_expense\", \"treasurer\", \"treat\", \"trial\", \"triathlon\", \"tricycle\", \"truck\", \"tuition\", \"tv\", \"tv\", \"tvis\", \"type\", \"ulity\", \"unappropriated\", \"unauthorized\", \"undergo\", \"undergo\", \"underprivilege\", \"unfilled\", \"uniform\", \"unit\", \"unloading\", \"unnamed\", \"unobligated\", \"upgrade\", \"urban\", \"usual\", \"utility\", \"utility\", \"utilization\", \"utilize\", \"vaccinate\", \"vaccination\", \"valuable\", \"van\", \"vawc\", \"vegetable\", \"vehicle\", \"vehicle\", \"vehicular\", \"vendor\", \"veneer\", \"veteran\", \"veterinarian\", \"vice\", \"video\", \"viii\", \"village\", \"vioaltion\", \"violation\", \"violation\", \"violation\", \"violative\", \"violence\", \"vocational\", \"volatile\", \"volume\", \"volunteer\", \"ware\", \"waste\", \"waste\", \"waste\", \"water\", \"weapon\", \"wear\", \"week\", \"welfare\", \"welfare\", \"welfare\", \"wire\", \"woman\", \"work\", \"worker\", \"worker\", \"year\", \"zone\", \"zone\", \"zonifying\"]}, \"R\": 30, \"lambda.step\": 0.01, \"plot.opts\": {\"xlab\": \"PC1\", \"ylab\": \"PC2\"}, \"topic.order\": [10, 7, 6, 3, 9, 19, 15, 18, 12, 11, 20, 2, 1, 5, 13, 16, 14, 8, 17, 4]};\n",
       "\n",
       "function LDAvis_load_lib(url, callback){\n",
       "  var s = document.createElement('script');\n",
       "  s.src = url;\n",
       "  s.async = true;\n",
       "  s.onreadystatechange = s.onload = callback;\n",
       "  s.onerror = function(){console.warn(\"failed to load library \" + url);};\n",
       "  document.getElementsByTagName(\"head\")[0].appendChild(s);\n",
       "}\n",
       "\n",
       "if(typeof(LDAvis) !== \"undefined\"){\n",
       "   // already loaded: just create the visualization\n",
       "   !function(LDAvis){\n",
       "       new LDAvis(\"#\" + \"ldavis_el81691407032032881124453489286\", ldavis_el81691407032032881124453489286_data);\n",
       "   }(LDAvis);\n",
       "}else if(typeof define === \"function\" && define.amd){\n",
       "   // require.js is available: use it to load d3/LDAvis\n",
       "   require.config({paths: {d3: \"https://cdnjs.cloudflare.com/ajax/libs/d3/3.5.5/d3.min\"}});\n",
       "   require([\"d3\"], function(d3){\n",
       "      window.d3 = d3;\n",
       "      LDAvis_load_lib(\"https://cdn.rawgit.com/bmabey/pyLDAvis/files/ldavis.v1.0.0.js\", function(){\n",
       "        new LDAvis(\"#\" + \"ldavis_el81691407032032881124453489286\", ldavis_el81691407032032881124453489286_data);\n",
       "      });\n",
       "    });\n",
       "}else{\n",
       "    // require.js not available: dynamically load d3 & LDAvis\n",
       "    LDAvis_load_lib(\"https://cdnjs.cloudflare.com/ajax/libs/d3/3.5.5/d3.min.js\", function(){\n",
       "         LDAvis_load_lib(\"https://cdn.rawgit.com/bmabey/pyLDAvis/files/ldavis.v1.0.0.js\", function(){\n",
       "                 new LDAvis(\"#\" + \"ldavis_el81691407032032881124453489286\", ldavis_el81691407032032881124453489286_data);\n",
       "            })\n",
       "         });\n",
       "}\n",
       "</script>"
      ],
      "text/plain": [
       "PreparedData(topic_coordinates=              x         y  topics  cluster      Freq\n",
       "topic                                               \n",
       "9      0.123562  0.175330       1        1  5.211959\n",
       "6     -0.273801  0.089359       2        1  5.175226\n",
       "5      0.082363 -0.272853       3        1  5.104668\n",
       "2      0.065535  0.051532       4        1  5.072452\n",
       "8     -0.064056 -0.036713       5        1  5.053539\n",
       "18     0.100969  0.125485       6        1  5.036848\n",
       "14     0.080506 -0.032406       7        1  5.036088\n",
       "17     0.078907 -0.069274       8        1  5.009989\n",
       "11     0.009707 -0.340977       9        1  4.990726\n",
       "10     0.091160  0.061427      10        1  4.982152\n",
       "19     0.051092 -0.006891      11        1  4.972617\n",
       "1      0.055122  0.097030      12        1  4.965643\n",
       "0      0.106604  0.056956      13        1  4.964879\n",
       "4      0.082685 -0.032264      14        1  4.946574\n",
       "12     0.089313  0.067520      15        1  4.939888\n",
       "15     0.049729 -0.045689      16        1  4.938692\n",
       "13    -0.295439 -0.101400      17        1  4.936028\n",
       "7      0.108876  0.075451      18        1  4.894874\n",
       "16    -0.260372  0.064113      19        1  4.890132\n",
       "3     -0.282461  0.074262      20        1  4.877027, topic_info=          Term        Freq       Total Category  logprob  loglift\n",
       "22     provide  258.000000  258.000000  Default  30.0000  30.0000\n",
       "38       amend  118.000000  118.000000  Default  29.0000  29.0000\n",
       "19     penalty  106.000000  106.000000  Default  28.0000  28.0000\n",
       "44     section   88.000000   88.000000  Default  27.0000  27.0000\n",
       "32        fund  117.000000  117.000000  Default  26.0000  26.0000\n",
       "...        ...         ...         ...      ...      ...      ...\n",
       "797     budget    2.238405    3.304661  Topic20  -4.9802   2.6311\n",
       "1224     plate    1.119202    1.119202  Topic20  -5.6733   3.0206\n",
       "487   employee    3.357607    9.034771  Topic20  -4.5747   2.0308\n",
       "362      serve    2.238405    4.194438  Topic20  -4.9802   2.3926\n",
       "70       order    2.238405    7.524726  Topic20  -4.9802   1.8082\n",
       "\n",
       "[1065 rows x 6 columns], token_table=      Topic      Freq        Term\n",
       "term                             \n",
       "1246     10  0.958798    abbatoir\n",
       "237      20  0.893494      access\n",
       "591      11  1.041945    accident\n",
       "1028     18  0.966717  accountant\n",
       "704      20  0.893494  accounting\n",
       "...     ...       ...         ...\n",
       "108      17  0.399464      worker\n",
       "79       15  0.990819        year\n",
       "412       8  0.148836        zone\n",
       "412      14  0.818596        zone\n",
       "1321      6  0.897846   zonifying\n",
       "\n",
       "[1163 rows x 3 columns], R=30, lambda_step=0.01, plot_opts={'xlab': 'PC1', 'ylab': 'PC2'}, topic_order=[10, 7, 6, 3, 9, 19, 15, 18, 12, 11, 20, 2, 1, 5, 13, 16, 14, 8, 17, 4])"
      ]
     },
     "execution_count": 30,
     "metadata": {},
     "output_type": "execute_result"
    }
   ],
   "source": [
    "\n",
    "pyLDAvis.enable_notebook()\n",
    "vis = pyLDAvis.gensim.prepare(model, corpus, id2word)\n",
    "vis"
   ]
  },
  {
   "cell_type": "code",
   "execution_count": null,
   "metadata": {},
   "outputs": [],
   "source": []
  }
 ],
 "metadata": {
  "kernelspec": {
   "display_name": "Python 3",
   "language": "python",
   "name": "python3"
  },
  "language_info": {
   "codemirror_mode": {
    "name": "ipython",
    "version": 3
   },
   "file_extension": ".py",
   "mimetype": "text/x-python",
   "name": "python",
   "nbconvert_exporter": "python",
   "pygments_lexer": "ipython3",
   "version": "3.9.0"
  }
 },
 "nbformat": 4,
 "nbformat_minor": 4
}
