{
 "cells": [
  {
   "cell_type": "code",
   "execution_count": 1,
   "metadata": {},
   "outputs": [],
   "source": [
    "import re\n",
    "import numpy as np\n",
    "import pandas as pd"
   ]
  },
  {
   "cell_type": "code",
   "execution_count": 2,
   "metadata": {},
   "outputs": [],
   "source": [
    "#Gensim\n",
    "import gensim\n",
    "import gensim.corpora as corpora\n",
    "from gensim.utils import simple_preprocess\n",
    "from gensim.models import CoherenceModel"
   ]
  },
  {
   "cell_type": "code",
   "execution_count": 3,
   "metadata": {},
   "outputs": [],
   "source": [
    "#spacy for lemmatization\n",
    "import spacy\n"
   ]
  },
  {
   "cell_type": "code",
   "execution_count": 4,
   "metadata": {},
   "outputs": [],
   "source": [
    "# Plotting tools\n",
    "import pyLDAvis\n",
    "import pyLDAvis.gensim_models\n",
    "import matplotlib.pyplot as plt\n",
    "%matplotlib inline"
   ]
  },
  {
   "cell_type": "code",
   "execution_count": 5,
   "metadata": {},
   "outputs": [],
   "source": [
    "# Remove deprecationWarning that I can't fix\n",
    "import warnings\n",
    "warnings.filterwarnings(\"ignore\", category=DeprecationWarning)\n",
    "from pprint import pprint"
   ]
  },
  {
   "cell_type": "code",
   "execution_count": 6,
   "metadata": {},
   "outputs": [],
   "source": [
    "# NLTK for removing stopwords\n",
    "from nltk.corpus import stopwords\n",
    "stop_words = stopwords.words('english')\n",
    "stop_words.extend(['tagum', 'city', 'davao','ordinance', 'thereof', 'section', 'municipal', 'municipality', 'government'])"
   ]
  },
  {
   "cell_type": "code",
   "execution_count": 7,
   "metadata": {},
   "outputs": [
    {
     "name": "stdout",
     "output_type": "stream",
     "text": [
      "            OR                                                 OT\n",
      "0    000172-14  An Ordinance amending Section 42 of the 2005 R...\n",
      "1    000177-14  An Ordinance placing underground all electrica...\n",
      "2    000178-14  An Ordinance amending City Ordinance No. 0195-...\n",
      "3    000173-14  An Ordinance regulating the use of some street...\n",
      "4    000227-14  An ordinance for the creation of Trust Fund Ac...\n",
      "..         ...                                                ...\n",
      "414  000496-13  An Ordinance authorizing the City Mayor to ent...\n",
      "415  000487-16  An Ordinance amending Section 13 Article XI of...\n",
      "416  000348-07  Ordinance  Establishing the Gender-Sensitive C...\n",
      "417  000349-07  ORDINANCE AMENDING DAVAO CITY ORDINANCE NO. 15...\n",
      "418  000355-07  An  Ordinance  for  the  \"Davao  Branding  Sys...\n",
      "\n",
      "[419 rows x 2 columns]\n"
     ]
    },
    {
     "data": {
      "text/html": [
       "<div>\n",
       "<style scoped>\n",
       "    .dataframe tbody tr th:only-of-type {\n",
       "        vertical-align: middle;\n",
       "    }\n",
       "\n",
       "    .dataframe tbody tr th {\n",
       "        vertical-align: top;\n",
       "    }\n",
       "\n",
       "    .dataframe thead th {\n",
       "        text-align: right;\n",
       "    }\n",
       "</style>\n",
       "<table border=\"1\" class=\"dataframe\">\n",
       "  <thead>\n",
       "    <tr style=\"text-align: right;\">\n",
       "      <th></th>\n",
       "      <th>OR</th>\n",
       "      <th>OT</th>\n",
       "    </tr>\n",
       "  </thead>\n",
       "  <tbody>\n",
       "    <tr>\n",
       "      <th>0</th>\n",
       "      <td>000172-14</td>\n",
       "      <td>An Ordinance amending Section 42 of the 2005 R...</td>\n",
       "    </tr>\n",
       "    <tr>\n",
       "      <th>1</th>\n",
       "      <td>000177-14</td>\n",
       "      <td>An Ordinance placing underground all electrica...</td>\n",
       "    </tr>\n",
       "    <tr>\n",
       "      <th>2</th>\n",
       "      <td>000178-14</td>\n",
       "      <td>An Ordinance amending City Ordinance No. 0195-...</td>\n",
       "    </tr>\n",
       "    <tr>\n",
       "      <th>3</th>\n",
       "      <td>000173-14</td>\n",
       "      <td>An Ordinance regulating the use of some street...</td>\n",
       "    </tr>\n",
       "    <tr>\n",
       "      <th>4</th>\n",
       "      <td>000227-14</td>\n",
       "      <td>An ordinance for the creation of Trust Fund Ac...</td>\n",
       "    </tr>\n",
       "  </tbody>\n",
       "</table>\n",
       "</div>"
      ],
      "text/plain": [
       "          OR                                                 OT\n",
       "0  000172-14  An Ordinance amending Section 42 of the 2005 R...\n",
       "1  000177-14  An Ordinance placing underground all electrica...\n",
       "2  000178-14  An Ordinance amending City Ordinance No. 0195-...\n",
       "3  000173-14  An Ordinance regulating the use of some street...\n",
       "4  000227-14  An ordinance for the creation of Trust Fund Ac..."
      ]
     },
     "execution_count": 7,
     "metadata": {},
     "output_type": "execute_result"
    }
   ],
   "source": [
    "# Import CSV Ordinance Dataset\n",
    "df = pd.read_csv('ordinances/tagum_ordinances.csv', header = 0)\n",
    "print(df)\n",
    "df.head()"
   ]
  },
  {
   "cell_type": "code",
   "execution_count": 8,
   "metadata": {},
   "outputs": [
    {
     "name": "stdout",
     "output_type": "stream",
     "text": [
      "['An Ordinance amending Section 42 of the 2005 Revenue Code of Davao City from \"Time and Place of the Payment - The tax shall be due and payable in advance to the City Treasurer or his duly authorized representative before the materials are extracted and shall be based on the volume applied for in the application for quarry concession\" to \"Tax shall be due and payable every quarter of the Calendar Year to the City Treasurer or his duly authorized representative after the materials are extracted based on the volume applied for in the application for quarry concession\"']\n"
     ]
    }
   ],
   "source": [
    "# List all ordinance titles\n",
    "# Convert to list\n",
    "data = list(df.OT) \n",
    "print(data[:1])"
   ]
  },
  {
   "cell_type": "code",
   "execution_count": 9,
   "metadata": {},
   "outputs": [
    {
     "name": "stdout",
     "output_type": "stream",
     "text": [
      "['An Ordinance amending Section 42 of the 2005 Revenue Code of Davao City from '\n",
      " 'Time and Place of the Payment - The tax shall be due and payable in advance '\n",
      " 'to the City Treasurer or his duly authorized representative before the '\n",
      " 'materials are extracted and shall be based on the volume applied for in the '\n",
      " 'application for quarry concession to Tax shall be due and payable every '\n",
      " 'quarter of the Calendar Year to the City Treasurer or his duly authorized '\n",
      " 'representative after the materials are extracted based on the volume applied '\n",
      " 'for in the application for quarry concession',\n",
      " 'An Ordinance placing underground all electrical and telecommunication wires '\n",
      " 'and cables within the vicinity of City Hall and the Sangguniang Panlungsod '\n",
      " 'of the City of Davao',\n",
      " 'An Ordinance amending City Ordinance No. 0195-14, Series of 2004, otherwise '\n",
      " 'known as the Amended rerouting scheme of Davao City for a 90-day '\n",
      " 'experimental period',\n",
      " 'An Ordinance regulating the use of some streets near the Mintal Public '\n",
      " 'Market in Barangay Mintal, Tugbok District, this city',\n",
      " 'An ordinance for the creation of Trust Fund Account for the Office of the '\n",
      " 'Building Official and prescribing procedural guidelines for the disposition '\n",
      " 'and use of the Fifteen Percent (15%) generated from building permit fees and '\n",
      " 'other charges under the National Building Code of the Philippines (PD 1096)']\n"
     ]
    }
   ],
   "source": [
    "# Remove qoutes\n",
    "data = [re.sub(\"\\'\", \"\", sent) for sent in data]\n",
    "data = [re.sub(\"\\\"\", \"\", sent) for sent in data]\n",
    "\n",
    "# Remove words ending with ING like amending, regulating\n",
    "# Implemtation to be improved / Seems to improve topics\n",
    "data = [re.sub('\\S*ING\\S*\\s?', '', sent) for sent in data]\n",
    "\n",
    "\n",
    "pprint(data[:5])"
   ]
  },
  {
   "cell_type": "code",
   "execution_count": 10,
   "metadata": {},
   "outputs": [
    {
     "name": "stdout",
     "output_type": "stream",
     "text": [
      "[['an',\n",
      "  'ordinance',\n",
      "  'amending',\n",
      "  'section',\n",
      "  'of',\n",
      "  'the',\n",
      "  'revenue',\n",
      "  'code',\n",
      "  'of',\n",
      "  'davao',\n",
      "  'city',\n",
      "  'from',\n",
      "  'time',\n",
      "  'and',\n",
      "  'place',\n",
      "  'of',\n",
      "  'the',\n",
      "  'payment',\n",
      "  'the',\n",
      "  'tax',\n",
      "  'shall',\n",
      "  'be',\n",
      "  'due',\n",
      "  'and',\n",
      "  'payable',\n",
      "  'in',\n",
      "  'advance',\n",
      "  'to',\n",
      "  'the',\n",
      "  'city',\n",
      "  'treasurer',\n",
      "  'or',\n",
      "  'his',\n",
      "  'duly',\n",
      "  'authorized',\n",
      "  'representative',\n",
      "  'before',\n",
      "  'the',\n",
      "  'materials',\n",
      "  'are',\n",
      "  'extracted',\n",
      "  'and',\n",
      "  'shall',\n",
      "  'be',\n",
      "  'based',\n",
      "  'on',\n",
      "  'the',\n",
      "  'volume',\n",
      "  'applied',\n",
      "  'for',\n",
      "  'in',\n",
      "  'the',\n",
      "  'application',\n",
      "  'for',\n",
      "  'quarry',\n",
      "  'concession',\n",
      "  'to',\n",
      "  'tax',\n",
      "  'shall',\n",
      "  'be',\n",
      "  'due',\n",
      "  'and',\n",
      "  'payable',\n",
      "  'every',\n",
      "  'quarter',\n",
      "  'of',\n",
      "  'the',\n",
      "  'calendar',\n",
      "  'year',\n",
      "  'to',\n",
      "  'the',\n",
      "  'city',\n",
      "  'treasurer',\n",
      "  'or',\n",
      "  'his',\n",
      "  'duly',\n",
      "  'authorized',\n",
      "  'representative',\n",
      "  'after',\n",
      "  'the',\n",
      "  'materials',\n",
      "  'are',\n",
      "  'extracted',\n",
      "  'based',\n",
      "  'on',\n",
      "  'the',\n",
      "  'volume',\n",
      "  'applied',\n",
      "  'for',\n",
      "  'in',\n",
      "  'the',\n",
      "  'application',\n",
      "  'for',\n",
      "  'quarry',\n",
      "  'concession'],\n",
      " ['an',\n",
      "  'ordinance',\n",
      "  'placing',\n",
      "  'underground',\n",
      "  'all',\n",
      "  'electrical',\n",
      "  'and',\n",
      "  'wires',\n",
      "  'and',\n",
      "  'cables',\n",
      "  'within',\n",
      "  'the',\n",
      "  'vicinity',\n",
      "  'of',\n",
      "  'city',\n",
      "  'hall',\n",
      "  'and',\n",
      "  'the',\n",
      "  'sangguniang',\n",
      "  'panlungsod',\n",
      "  'of',\n",
      "  'the',\n",
      "  'city',\n",
      "  'of',\n",
      "  'davao'],\n",
      " ['an',\n",
      "  'ordinance',\n",
      "  'amending',\n",
      "  'city',\n",
      "  'ordinance',\n",
      "  'no',\n",
      "  'series',\n",
      "  'of',\n",
      "  'otherwise',\n",
      "  'known',\n",
      "  'as',\n",
      "  'the',\n",
      "  'amended',\n",
      "  'rerouting',\n",
      "  'scheme',\n",
      "  'of',\n",
      "  'davao',\n",
      "  'city',\n",
      "  'for',\n",
      "  'day',\n",
      "  'experimental',\n",
      "  'period'],\n",
      " ['an',\n",
      "  'ordinance',\n",
      "  'regulating',\n",
      "  'the',\n",
      "  'use',\n",
      "  'of',\n",
      "  'some',\n",
      "  'streets',\n",
      "  'near',\n",
      "  'the',\n",
      "  'mintal',\n",
      "  'public',\n",
      "  'market',\n",
      "  'in',\n",
      "  'barangay',\n",
      "  'mintal',\n",
      "  'tugbok',\n",
      "  'district',\n",
      "  'this',\n",
      "  'city'],\n",
      " ['an',\n",
      "  'ordinance',\n",
      "  'for',\n",
      "  'the',\n",
      "  'creation',\n",
      "  'of',\n",
      "  'trust',\n",
      "  'fund',\n",
      "  'account',\n",
      "  'for',\n",
      "  'the',\n",
      "  'office',\n",
      "  'of',\n",
      "  'the',\n",
      "  'building',\n",
      "  'official',\n",
      "  'and',\n",
      "  'prescribing',\n",
      "  'procedural',\n",
      "  'guidelines',\n",
      "  'for',\n",
      "  'the',\n",
      "  'disposition',\n",
      "  'and',\n",
      "  'use',\n",
      "  'of',\n",
      "  'the',\n",
      "  'fifteen',\n",
      "  'percent',\n",
      "  'generated',\n",
      "  'from',\n",
      "  'building',\n",
      "  'permit',\n",
      "  'fees',\n",
      "  'and',\n",
      "  'other',\n",
      "  'charges',\n",
      "  'under',\n",
      "  'the',\n",
      "  'national',\n",
      "  'building',\n",
      "  'code',\n",
      "  'of',\n",
      "  'the',\n",
      "  'philippines',\n",
      "  'pd']]\n"
     ]
    }
   ],
   "source": [
    "#preprocess using gensim simple_preprocess and tokenize into words\n",
    "def sent_to_words(sentences):\n",
    "    for sentence in sentences:\n",
    "        yield(gensim.utils.simple_preprocess(str(sentence), deacc=True))  # deacc=True removes punctuations\n",
    "\n",
    "data_words = list(sent_to_words(data))\n",
    "\n",
    "pprint(data_words[:5])"
   ]
  },
  {
   "cell_type": "code",
   "execution_count": 11,
   "metadata": {},
   "outputs": [],
   "source": [
    "# Build the bigram and trigram models\n",
    "bigram = gensim.models.Phrases(data_words, min_count=5, threshold=100) # higher threshold fewer phrases.\n",
    "trigram = gensim.models.Phrases(bigram[data_words], threshold=100)  \n",
    "\n",
    "# Faster way to get a sentence clubbed as a trigram/bigram\n",
    "bigram_mod = gensim.models.phrases.Phraser(bigram)\n",
    "trigram_mod = gensim.models.phrases.Phraser(trigram)"
   ]
  },
  {
   "cell_type": "code",
   "execution_count": 12,
   "metadata": {},
   "outputs": [
    {
     "name": "stdout",
     "output_type": "stream",
     "text": [
      "['an',\n",
      " 'ordinance',\n",
      " 'amending',\n",
      " 'section',\n",
      " 'of',\n",
      " 'the',\n",
      " 'revenue',\n",
      " 'code',\n",
      " 'of',\n",
      " 'davao',\n",
      " 'city',\n",
      " 'from',\n",
      " 'time',\n",
      " 'and',\n",
      " 'place',\n",
      " 'of',\n",
      " 'the',\n",
      " 'payment',\n",
      " 'the',\n",
      " 'tax',\n",
      " 'shall',\n",
      " 'be',\n",
      " 'due',\n",
      " 'and',\n",
      " 'payable',\n",
      " 'in',\n",
      " 'advance',\n",
      " 'to',\n",
      " 'the',\n",
      " 'city',\n",
      " 'treasurer',\n",
      " 'or',\n",
      " 'his',\n",
      " 'duly',\n",
      " 'authorized',\n",
      " 'representative',\n",
      " 'before',\n",
      " 'the',\n",
      " 'materials',\n",
      " 'are',\n",
      " 'extracted',\n",
      " 'and',\n",
      " 'shall',\n",
      " 'be',\n",
      " 'based',\n",
      " 'on',\n",
      " 'the',\n",
      " 'volume',\n",
      " 'applied',\n",
      " 'for',\n",
      " 'in',\n",
      " 'the',\n",
      " 'application',\n",
      " 'for',\n",
      " 'quarry',\n",
      " 'concession',\n",
      " 'to',\n",
      " 'tax',\n",
      " 'shall',\n",
      " 'be',\n",
      " 'due',\n",
      " 'and',\n",
      " 'payable',\n",
      " 'every',\n",
      " 'quarter',\n",
      " 'of',\n",
      " 'the',\n",
      " 'calendar_year',\n",
      " 'to',\n",
      " 'the',\n",
      " 'city',\n",
      " 'treasurer',\n",
      " 'or',\n",
      " 'his',\n",
      " 'duly',\n",
      " 'authorized',\n",
      " 'representative',\n",
      " 'after',\n",
      " 'the',\n",
      " 'materials',\n",
      " 'are',\n",
      " 'extracted',\n",
      " 'based',\n",
      " 'on',\n",
      " 'the',\n",
      " 'volume',\n",
      " 'applied',\n",
      " 'for',\n",
      " 'in',\n",
      " 'the',\n",
      " 'application',\n",
      " 'for',\n",
      " 'quarry',\n",
      " 'concession']\n"
     ]
    }
   ],
   "source": [
    "\n",
    "# See trigram example\n",
    "pprint(trigram_mod[bigram_mod[data_words[0]]])"
   ]
  },
  {
   "cell_type": "code",
   "execution_count": 13,
   "metadata": {},
   "outputs": [],
   "source": [
    "# Define functions for stopwords, bigrams, trigrams and lemmatization\n",
    "# Code snippets from Selva Prabhakaran | Topic Modeling with Gensim (Python)\n",
    "def remove_stopwords(texts):\n",
    "    return [[word for word in simple_preprocess(str(doc)) if word not in stop_words] for doc in texts]\n",
    "\n",
    "def make_bigrams(texts):\n",
    "    return [bigram_mod[doc] for doc in texts]\n",
    "\n",
    "def make_trigrams(texts):\n",
    "    return [trigram_mod[bigram_mod[doc]] for doc in texts]\n",
    "\n",
    "def lemmatization(texts, allowed_postags=['NOUN', 'ADJ', 'VERB', 'ADV']):\n",
    "    \"\"\"https://spacy.io/api/annotation\"\"\"\n",
    "    texts_out = []\n",
    "    for sent in texts:\n",
    "        doc = nlp(\" \".join(sent)) \n",
    "        texts_out.append([token.lemma_ for token in doc if token.pos_ in allowed_postags])\n",
    "    return texts_out\n",
    "\n",
    "from nltk.tokenize import sent_tokenize, word_tokenize\n",
    "from nltk.stem import PorterStemmer\n",
    "ps = PorterStemmer()\n",
    "\n",
    "def stemmer(texts):\n",
    "    new_list = []\n",
    "    temp = []\n",
    "    for lists in texts:\n",
    "        new_list.append(temp)\n",
    "        for word in lists:\n",
    "            temp.append(ps.stem(word))\n",
    "        temp = []\n",
    "    return new_list"
   ]
  },
  {
   "cell_type": "code",
   "execution_count": 14,
   "metadata": {},
   "outputs": [],
   "source": [
    "# Remove Stop Words and Form Bigrams\n",
    "data_words_nostops = remove_stopwords(data_words)\n",
    "\n",
    "data_words_bigrams = make_bigrams(data_words_nostops)\n",
    "\n",
    "# Initialize spacy 'en' model, keeping only tagger component (for efficiency)\n",
    "\n",
    "# nlp = spacy.load('en', disable=['parser', 'ner'])\n",
    "\n",
    "# # If stemming\n",
    "# # data_stemmed = stemmer(data_words_bigrams)\n",
    "\n",
    "# # Lematize keeping only noun, adj, vb, adv\n",
    "# data_lemmatized = lemmatization(data_words_bigrams, allowed_postags=['NOUN', 'ADJ', 'VERB', 'ADV'])\n",
    "\n",
    "# pprint(data_lemmatized[:1])"
   ]
  },
  {
   "cell_type": "code",
   "execution_count": 15,
   "metadata": {},
   "outputs": [
    {
     "name": "stdout",
     "output_type": "stream",
     "text": [
      "[[(0, 1), (1, 1), (2, 2), (3, 2), (4, 2), (5, 2), (6, 1), (7, 1), (8, 2), (9, 2), (10, 2), (11, 1), (12, 2), (13, 2), (14, 2), (15, 1), (16, 1), (17, 2), (18, 1), (19, 2), (20, 1), (21, 3), (22, 2), (23, 1), (24, 2), (25, 2), (26, 1)]]\n"
     ]
    }
   ],
   "source": [
    "# Create Dictionary\n",
    "id2word = corpora.Dictionary(data_words_nostops)\n",
    "\n",
    "# Create Corpus\n",
    "texts = data_words_nostops\n",
    "\n",
    "# Term Document Frequency\n",
    "corpus = [id2word.doc2bow(text) for text in texts]\n",
    "\n",
    "# View\n",
    "print(corpus[:1])"
   ]
  },
  {
   "cell_type": "code",
   "execution_count": 16,
   "metadata": {},
   "outputs": [
    {
     "data": {
      "text/plain": [
       "'advance'"
      ]
     },
     "execution_count": 16,
     "metadata": {},
     "output_type": "execute_result"
    }
   ],
   "source": [
    "id2word[0]"
   ]
  },
  {
   "cell_type": "code",
   "execution_count": 17,
   "metadata": {},
   "outputs": [
    {
     "data": {
      "text/plain": [
       "[[('advance', 1),\n",
       "  ('amending', 1),\n",
       "  ('application', 2),\n",
       "  ('applied', 2),\n",
       "  ('authorized', 2),\n",
       "  ('based', 2),\n",
       "  ('calendar', 1),\n",
       "  ('code', 1),\n",
       "  ('concession', 2),\n",
       "  ('due', 2),\n",
       "  ('duly', 2),\n",
       "  ('every', 1),\n",
       "  ('extracted', 2),\n",
       "  ('materials', 2),\n",
       "  ('payable', 2),\n",
       "  ('payment', 1),\n",
       "  ('place', 1),\n",
       "  ('quarry', 2),\n",
       "  ('quarter', 1),\n",
       "  ('representative', 2),\n",
       "  ('revenue', 1),\n",
       "  ('shall', 3),\n",
       "  ('tax', 2),\n",
       "  ('time', 1),\n",
       "  ('treasurer', 2),\n",
       "  ('volume', 2),\n",
       "  ('year', 1)]]"
      ]
     },
     "execution_count": 17,
     "metadata": {},
     "output_type": "execute_result"
    }
   ],
   "source": [
    "# Human readable format of corpus (term-frequency)\n",
    "[[(id2word[id], freq) for id, freq in cp] for cp in corpus[:1]]"
   ]
  },
  {
   "cell_type": "code",
   "execution_count": 18,
   "metadata": {},
   "outputs": [],
   "source": [
    "# Build LDA model\n",
    "lda_model = gensim.models.ldamodel.LdaModel(corpus=corpus,\n",
    "                                           id2word=id2word,\n",
    "                                           num_topics=15, \n",
    "                                           random_state=123,\n",
    "                                           update_every=1,\n",
    "                                           chunksize=100,\n",
    "                                           passes=30,\n",
    "                                           alpha='auto',\n",
    "                                           per_word_topics=True)"
   ]
  },
  {
   "cell_type": "code",
   "execution_count": 19,
   "metadata": {},
   "outputs": [
    {
     "name": "stdout",
     "output_type": "stream",
     "text": [
      "[(0, '0.084*\"barangay\" + 0.042*\"relative\" + 0.038*\"authority\" + 0.038*\"local\" + 0.032*\"among\" + 0.031*\"legislative\" + 0.030*\"classrooms\" + 0.025*\"district\" + 0.022*\"people\" + 0.021*\"gumitan\"'), (1, '0.049*\"health\" + 0.031*\"deed\" + 0.027*\"areas\" + 0.026*\"accounts\" + 0.025*\"unit\" + 0.024*\"development\" + 0.024*\"donation\" + 0.022*\"dabawenyo\" + 0.020*\"mayor\" + 0.020*\"home\"'), (2, '0.054*\"establishment\" + 0.042*\"rules\" + 0.036*\"maintenance\" + 0.030*\"installation\" + 0.026*\"guidelines\" + 0.023*\"purposes\" + 0.020*\"related\" + 0.015*\"places\" + 0.014*\"construction\" + 0.014*\"registration\"'), (3, '0.074*\"construction\" + 0.037*\"system\" + 0.031*\"act\" + 0.026*\"board\" + 0.026*\"fees\" + 0.026*\"operators\" + 0.025*\"first\" + 0.023*\"tibungco\" + 0.019*\"ii\" + 0.014*\"republic\"'), (4, '0.073*\"purposes\" + 0.040*\"creating\" + 0.039*\"establishing\" + 0.032*\"providing\" + 0.027*\"therefor\" + 0.026*\"council\" + 0.026*\"funds\" + 0.019*\"appropriating\" + 0.019*\"entitled\" + 0.018*\"personnel\"'), (5, '0.033*\"street\" + 0.033*\"buildings\" + 0.027*\"sites\" + 0.026*\"percent\" + 0.026*\"operation\" + 0.024*\"seventy\" + 0.023*\"national\" + 0.020*\"film\" + 0.020*\"tigatto\" + 0.016*\"june\"'), (6, '0.068*\"providing\" + 0.058*\"business\" + 0.044*\"use\" + 0.043*\"establishments\" + 0.030*\"implementation\" + 0.026*\"prohibiting\" + 0.023*\"penalties\" + 0.022*\"site\" + 0.020*\"requiring\" + 0.019*\"beach\"'), (7, '0.062*\"code\" + 0.047*\"article\" + 0.046*\"comprehensive\" + 0.043*\"known\" + 0.039*\"revenue\" + 0.036*\"amending\" + 0.036*\"otherwise\" + 0.025*\"ordinances\" + 0.024*\"conflict\" + 0.023*\"particularly\"'), (8, '0.090*\"public\" + 0.048*\"operation\" + 0.040*\"within\" + 0.039*\"regulating\" + 0.038*\"commercial\" + 0.031*\"private\" + 0.028*\"wine\" + 0.021*\"market\" + 0.020*\"selling\" + 0.017*\"beverages\"'), (9, '0.046*\"area\" + 0.045*\"matina\" + 0.033*\"resolution\" + 0.030*\"pricing\" + 0.028*\"scheme\" + 0.021*\"regulations\" + 0.020*\"awardees\" + 0.018*\"services\" + 0.018*\"committee\" + 0.017*\"representative\"'), (10, '0.083*\"mayor\" + 0.076*\"behalf\" + 0.075*\"sign\" + 0.058*\"enter\" + 0.043*\"memorandum\" + 0.042*\"authorizing\" + 0.041*\"agreement\" + 0.041*\"entered\" + 0.032*\"program\" + 0.027*\"phase\"'), (11, '0.051*\"approving\" + 0.044*\"hundred\" + 0.043*\"pesos\" + 0.033*\"fund\" + 0.026*\"land\" + 0.024*\"five\" + 0.023*\"plan\" + 0.023*\"amount\" + 0.023*\"adopting\" + 0.022*\"million\"'), (12, '0.162*\"series\" + 0.093*\"amending\" + 0.078*\"known\" + 0.074*\"otherwise\" + 0.053*\"amended\" + 0.048*\"new\" + 0.027*\"code\" + 0.017*\"anti\" + 0.014*\"international\" + 0.013*\"incentive\"'), (13, '0.108*\"two\" + 0.023*\"order\" + 0.014*\"terminals\" + 0.013*\"enacting\" + 0.013*\"offices\" + 0.011*\"monitoring\" + 0.010*\"tide\" + 0.010*\"existing\" + 0.008*\"kagan\" + 0.008*\"individuals\"'), (14, '0.031*\"authority\" + 0.029*\"barangay\" + 0.026*\"district\" + 0.026*\"buhangin\" + 0.026*\"covered\" + 0.024*\"legislative\" + 0.024*\"office\" + 0.024*\"aplaya\" + 0.024*\"meter\" + 0.023*\"located\"')]\n"
     ]
    }
   ],
   "source": [
    "print(lda_model.print_topics())\n",
    "doc_lda = lda_model[corpus]"
   ]
  },
  {
   "cell_type": "code",
   "execution_count": 20,
   "metadata": {},
   "outputs": [
    {
     "name": "stdout",
     "output_type": "stream",
     "text": [
      "\n",
      "Perplexity:  -9.894028325443617\n",
      "\n",
      "Coherence Score:  0.45289082608276077\n"
     ]
    }
   ],
   "source": [
    "# Compute Perplexity\n",
    "print('\\nPerplexity: ', lda_model.log_perplexity(corpus))  # a measure of how good the model is. lower the better.\n",
    "\n",
    "# Compute Coherence Score\n",
    "coherence_model_lda = CoherenceModel(model=lda_model, texts=data_words_nostops, dictionary=id2word, coherence='c_v')\n",
    "coherence_lda = coherence_model_lda.get_coherence()\n",
    "print('\\nCoherence Score: ', coherence_lda)"
   ]
  },
  {
   "cell_type": "code",
   "execution_count": 21,
   "metadata": {},
   "outputs": [
    {
     "name": "stderr",
     "output_type": "stream",
     "text": [
      "/Users/coriv/Developer/Ordinances_LDA/Ordinances_LDA/lib/python3.8/site-packages/pyLDAvis/_prepare.py:246: FutureWarning: In a future version of pandas all arguments of DataFrame.drop except for the argument 'labels' will be keyword-only\n",
      "  default_term_info = default_term_info.sort_values(\n"
     ]
    },
    {
     "data": {
      "text/html": [
       "\n",
       "<link rel=\"stylesheet\" type=\"text/css\" href=\"https://cdn.jsdelivr.net/gh/bmabey/pyLDAvis@3.3.1/pyLDAvis/js/ldavis.v1.0.0.css\">\n",
       "\n",
       "\n",
       "<div id=\"ldavis_el118350062738886641122551\"></div>\n",
       "<script type=\"text/javascript\">\n",
       "\n",
       "var ldavis_el118350062738886641122551_data = {\"mdsDat\": {\"x\": [-0.0836243687022023, -0.07975941408356556, -0.040112089549575104, 0.2884857433878522, -0.0454733693805008, -0.06477691499929665, -0.03189412202041256, -0.07591010191442425, -0.07725209114934158, 0.29296033455518095, -0.010573718023043384, -0.021155447627938532, -0.01472264515515041, -0.023713595736021997, -0.012478199601560281], \"y\": [0.3767208234266613, 0.04388470938630238, -0.06166131675949143, 0.0382163068662781, -0.05303249681584043, -0.044884807857717195, -0.041475433783567515, 0.053993992901388, -0.0481720681649161, 0.03474590817195298, -0.05892167766545263, -0.06155039302346936, -0.06185372849013059, -0.06923473540896473, -0.046775082783033425], \"topics\": [1, 2, 3, 4, 5, 6, 7, 8, 9, 10, 11, 12, 13, 14, 15], \"cluster\": [1, 1, 1, 1, 1, 1, 1, 1, 1, 1, 1, 1, 1, 1, 1], \"Freq\": [12.876837986806716, 10.002641664289412, 9.121499052330458, 8.762432169371131, 8.678607743937068, 7.381590141320419, 6.808618297182159, 6.228004527556019, 5.97879164190494, 5.845999024446454, 5.762864335773029, 4.087316525685256, 3.850216770211224, 3.2428141115472373, 1.3717660076384754]}, \"tinfo\": {\"Term\": [\"series\", \"amending\", \"mayor\", \"behalf\", \"known\", \"sign\", \"otherwise\", \"barangay\", \"providing\", \"public\", \"purposes\", \"enter\", \"code\", \"business\", \"approving\", \"amended\", \"memorandum\", \"construction\", \"agreement\", \"entered\", \"new\", \"authorizing\", \"hundred\", \"pesos\", \"authority\", \"establishments\", \"operation\", \"area\", \"use\", \"matina\", \"enter\", \"memorandum\", \"agreement\", \"entered\", \"program\", \"phase\", \"department\", \"upgrading\", \"sale\", \"piapi\", \"welfare\", \"social\", \"relocation\", \"behalf\", \"respective\", \"project\", \"individual\", \"lease\", \"dswd\", \"xi\", \"authorizing\", \"sir\", \"sign\", \"namely\", \"purchase\", \"beneficiaries\", \"units\", \"moa\", \"agreements\", \"thetibungco\", \"mayor\", \"center\", \"matina\", \"approving\", \"hundred\", \"pesos\", \"fund\", \"land\", \"five\", \"plan\", \"amount\", \"adopting\", \"million\", \"administration\", \"thousand\", \"resettlement\", \"lots\", \"risk\", \"three\", \"reduction\", \"disaster\", \"village\", \"assistance\", \"catalunan\", \"grande\", \"submitted\", \"talomo\", \"calamity\", \"thirty\", \"cy\", \"utilize\", \"victims\", \"calinan\", \"year\", \"management\", \"one\", \"development\", \"mayor\", \"investment\", \"establishments\", \"implementation\", \"prohibiting\", \"penalties\", \"site\", \"requiring\", \"beach\", \"times\", \"food\", \"occupying\", \"portions\", \"proclamation\", \"reservation\", \"violation\", \"business\", \"gender\", \"plantilla\", \"use\", \"violations\", \"positions\", \"persons\", \"rate\", \"contracts\", \"similar\", \"provide\", \"philippine\", \"financial\", \"devices\", \"meat\", \"restaurants\", \"providing\", \"fee\", \"area\", \"development\", \"amended\", \"new\", \"anti\", \"series\", \"international\", \"incentive\", \"regulatory\", \"space\", \"accepptance\", \"green\", \"nominal\", \"veto\", \"voting\", \"markets\", \"owned\", \"revised\", \"sections\", \"nuisance\", \"route\", \"operate\", \"hire\", \"amending\", \"franchising\", \"relations\", \"allowing\", \"pornographic\", \"cafe\", \"tfh\", \"tricycle\", \"crematorium\", \"otherwise\", \"known\", \"code\", \"creating\", \"establishing\", \"therefor\", \"funds\", \"appropriating\", \"entitled\", \"personnel\", \"accordance\", \"certain\", \"streets\", \"terminal\", \"rental\", \"intervention\", \"rates\", \"defining\", \"protection\", \"functions\", \"children\", \"crisis\", \"gsciu\", \"sensitive\", \"transport\", \"workers\", \"powers\", \"agencies\", \"imposing\", \"operating\", \"purposes\", \"vehicles\", \"collection\", \"council\", \"providing\", \"management\", \"national\", \"development\", \"fees\", \"among\", \"classrooms\", \"people\", \"gumitan\", \"indigenous\", \"mandatory\", \"specific\", \"sitio\", \"marilog\", \"arrangements\", \"ipmr\", \"lumads\", \"school\", \"duterte\", \"understanding\", \"kibangbang\", \"rodrigo\", \"mintal\", \"banning\", \"tourism\", \"mou\", \"sports\", \"elementary\", \"panlungsod\", \"sangguniang\", \"relative\", \"sr\", \"distribution\", \"peoples\", \"philippines\", \"barangay\", \"local\", \"legislative\", \"authority\", \"granting\", \"district\", \"inc\", \"one\", \"resolution\", \"pricing\", \"scheme\", \"regulations\", \"awardees\", \"committee\", \"representative\", \"products\", \"proposed\", \"halal\", \"standards\", \"group\", \"calendar\", \"made\", \"portion\", \"technical\", \"residential\", \"branding\", \"marketability\", \"quality\", \"raise\", \"improvement\", \"nmss\", \"nmua\", \"original\", \"restructured\", \"scheduled\", \"slum\", \"undocumented\", \"working\", \"matina\", \"area\", \"services\", \"implementing\", \"health\", \"deed\", \"areas\", \"accounts\", \"unit\", \"donation\", \"dabawenyo\", \"home\", \"museo\", \"permanent\", \"establihing\", \"care\", \"philhealth\", \"peace\", \"permit\", \"corporation\", \"trust\", \"book\", \"maintained\", \"separate\", \"facility\", \"charges\", \"favor\", \"birthing\", \"inside\", \"jr\", \"station\", \"cabantian\", \"alsons\", \"fifteen\", \"executed\", \"accept\", \"development\", \"purpose\", \"granting\", \"mayor\", \"relative\", \"sign\", \"authority\", \"behalf\", \"covered\", \"aplaya\", \"meter\", \"support\", \"self\", \"tower\", \"proper\", \"globe\", \"cell\", \"legged\", \"efb\", \"geostruckt\", \"telecom\", \"nature\", \"subject\", \"provided\", \"bread\", \"constuction\", \"buhangin\", \"lot\", \"drug\", \"entry\", \"maintain\", \"purok\", \"benefits\", \"fish\", \"install\", \"compliance\", \"day\", \"hours\", \"office\", \"located\", \"inc\", \"authority\", \"legislative\", \"district\", \"barangay\", \"investment\", \"road\", \"granting\", \"article\", \"comprehensive\", \"revenue\", \"ordinances\", \"conflict\", \"particularly\", \"enforcement\", \"repeal\", \"therewith\", \"zoning\", \"volume\", \"provisions\", \"chapter\", \"iii\", \"paragraph\", \"number\", \"part\", \"amendment\", \"amendments\", \"incorporating\", \"provision\", \"iv\", \"studies\", \"integral\", \"sectoral\", \"annual\", \"taxi\", \"specifically\", \"shall\", \"follows\", \"code\", \"tax\", \"known\", \"otherwise\", \"amending\", \"series\", \"local\", \"public\", \"commercial\", \"private\", \"wine\", \"selling\", \"beverages\", \"jurisdiction\", \"coconut\", \"view\", \"alcoholic\", \"liquors\", \"territorial\", \"defacing\", \"exposed\", \"fences\", \"prohibitng\", \"scribbling\", \"walls\", \"writing\", \"within\", \"regulating\", \"person\", \"movie\", \"films\", \"properties\", \"market\", \"january\", \"pambansa\", \"general\", \"creation\", \"operation\", \"building\", \"said\", \"buildings\", \"sites\", \"percent\", \"seventy\", \"film\", \"tigatto\", \"june\", \"festival\", \"park\", \"declaring\", \"street\", \"sta\", \"information\", \"monteverde\", \"avenue\", \"promoting\", \"cruz\", \"corresponding\", \"town\", \"corner\", \"garcia\", \"camus\", \"changing\", \"date\", \"event\", \"july\", \"sineng\", \"sharing\", \"sur\", \"therma\", \"official\", \"national\", \"operation\", \"every\", \"tax\", \"construction\", \"naming\", \"development\", \"business\", \"local\", \"located\", \"system\", \"act\", \"board\", \"operators\", \"first\", \"tibungco\", \"ii\", \"republic\", \"parks\", \"used\", \"partnership\", \"medical\", \"civil\", \"minors\", \"registry\", \"documents\", \"dog\", \"procedures\", \"imposed\", \"certificates\", \"wear\", \"construction\", \"clerical\", \"ratifying\", \"prescribed\", \"age\", \"years\", \"sister\", \"comply\", \"birth\", \"fees\", \"said\", \"rules\", \"projects\", \"installation\", \"places\", \"maintenance\", \"traffic\", \"cellular\", \"rules\", \"establishment\", \"poblacion\", \"rights\", \"centers\", \"mobile\", \"guidelines\", \"action\", \"operations\", \"secure\", \"policies\", \"towers\", \"phone\", \"regulation\", \"bars\", \"way\", \"registration\", \"identification\", \"repair\", \"related\", \"main\", \"human\", \"materials\", \"agton\", \"lao\", \"road\", \"purposes\", \"regulating\", \"construction\", \"market\", \"street\", \"two\", \"order\", \"terminals\", \"enacting\", \"offices\", \"monitoring\", \"tide\", \"existing\", \"kagan\", \"individuals\", \"defined\", \"quarantine\", \"red\", \"display\", \"files\", \"kalagan\", \"records\", \"tribe\", \"bankerohan\", \"establishes\", \"satllite\", \"enjoining\", \"referring\", \"reflect\", \"establish\", \"correct\", \"satellite\", \"carabaos\", \"controlling\", \"slaughter\"], \"Freq\": [110.0, 75.0, 94.0, 75.0, 68.0, 77.0, 63.0, 60.0, 66.0, 39.0, 54.0, 54.0, 44.0, 41.0, 37.0, 34.0, 40.0, 31.0, 39.0, 39.0, 31.0, 42.0, 32.0, 32.0, 40.0, 29.0, 31.0, 32.0, 32.0, 29.0, 53.807579078599744, 40.15367154451753, 38.464034247110014, 38.215842558734785, 29.913106794651917, 25.23986621881262, 24.438763943197408, 17.715834663486074, 17.570700902522518, 16.837099340178717, 14.285431661327657, 13.835744448692537, 13.003006928190327, 70.87993910284398, 11.846360375962925, 19.566056748151528, 11.244775224486952, 11.244775224486952, 11.198418662505002, 10.509154335611555, 39.6434289176261, 7.985800766937914, 69.83682067303296, 7.106899561050022, 6.855482958569673, 6.5309204104313885, 6.233402382956479, 5.943012952571231, 5.652332683435852, 5.652332683435852, 77.88173398054765, 12.95496802948606, 6.399209641483608, 36.947667077398776, 32.14277467370648, 31.50459621724614, 23.669510780593974, 18.561798209288614, 17.667795335820372, 16.691845152616462, 16.61905104961082, 16.533206254124458, 16.134519571330074, 16.019517361617826, 14.105885678623999, 14.002528577326188, 12.324031222110431, 11.905926104583141, 11.638953065544174, 10.959313937600157, 10.423235809003963, 8.050719483849385, 7.845970258016309, 7.518055882859841, 7.518055882859841, 6.734865523383643, 6.729983181809792, 5.653896971092317, 5.5418429029358505, 5.233499831616706, 5.0059335391252855, 4.357969430746287, 4.268442924926523, 10.475605652682582, 15.29203493887469, 8.541045783446727, 7.829430632612622, 7.2378914576511235, 5.875776329975792, 28.627854759074463, 19.974135236349642, 17.4139612234182, 15.357076651686793, 14.41655491709157, 13.24247195461469, 12.551842537480933, 12.551842537480933, 12.308689662712812, 11.789325731618165, 11.789325731618165, 11.789325731618165, 11.789325731618165, 11.17697895690595, 38.30968903297067, 7.891047893494305, 7.709078622990832, 29.322669958572952, 7.215724400851912, 7.07832020403977, 6.752587875775437, 5.925971728359769, 5.922451501428511, 5.295872696580514, 5.054685646804494, 4.741398403272078, 4.422434508530907, 4.374212889325562, 3.979106122133855, 3.8211896795734206, 45.13066874359051, 8.081704543724399, 9.550138186427299, 9.031635344660852, 33.64663398472755, 30.564537931015657, 10.714615526644538, 102.90869863980603, 9.224130538379196, 7.99356061566325, 7.673009841329162, 7.4222655926862835, 6.423359973895905, 6.423359973895905, 6.423359973895905, 6.423359973895905, 6.423359973895905, 5.7400899697678724, 5.46891655174553, 5.258557198512848, 5.228941213515459, 4.890454106057366, 4.59868975390687, 4.140694346131141, 3.826685267128703, 59.326450088729175, 2.8276860262493395, 2.719853526263451, 2.7089675882394118, 2.684799460749196, 2.6261161873012595, 2.4591696337491276, 2.4591696337491276, 2.458912765549284, 47.39755014249324, 49.645978231570474, 17.267490994844362, 25.424304060018724, 24.324305228489685, 16.844309887584494, 16.215257049684347, 11.790367601282338, 11.666496777513409, 11.320481506395684, 9.816393638444701, 9.777157431184976, 9.698224318707245, 8.320541993610314, 8.198985223407632, 7.788939391728925, 7.309632757190884, 7.299419347550149, 7.24186907597687, 7.149785824453, 7.103258265048444, 6.740545774044001, 6.740545774044001, 6.740545774044001, 6.46761128414288, 5.424553546504704, 5.121079770418733, 5.063509545048535, 4.939766073454059, 4.732769198910654, 45.92693133724341, 4.108179262442042, 3.9580750644881513, 16.280132712232493, 20.178173844307306, 10.195012239975654, 7.729607950342417, 6.430389823495615, 5.718178950058285, 17.21327992934877, 15.977221835507725, 11.695901173232565, 11.290809591111946, 9.783955002072789, 9.783955002072789, 9.518007422174243, 9.248494786369836, 8.748862833436268, 8.018611397311135, 8.018611397311135, 8.018611397311135, 7.097348937959996, 6.1586300840297765, 5.694225895090074, 5.675336889134654, 4.824234949644621, 4.623761702986598, 4.506453792979845, 4.3932420533404235, 4.3117429385617045, 3.705966213082973, 3.519852524426049, 3.428928873378697, 3.428928873378697, 22.331444304161433, 2.854870014021801, 2.6504600810852064, 2.5555213744261525, 7.916217121482393, 44.813062220639566, 20.360540434436434, 16.449569280486344, 20.505718376141846, 11.173475225215665, 13.632184766087393, 6.000972949150675, 5.216095591994769, 16.19558457642134, 14.685115801442537, 14.043477057288925, 10.32902783966984, 9.807540680038452, 8.659914404324253, 8.596616582677463, 8.229670807350388, 6.9879371474898235, 6.762507433328905, 6.723269855981539, 6.463102723835303, 5.888216343552079, 5.696394633532083, 5.646141933146284, 5.563875207718335, 5.45452326899069, 4.929850913690522, 4.929850913690522, 4.929850913690522, 4.929850913690522, 4.92978277131426, 4.92978277131426, 4.92978277131426, 4.92978277131426, 4.92978277131426, 4.92978277131426, 4.92978277131426, 4.92978277131426, 4.9297371895895985, 22.088056595539555, 22.510342267977546, 9.038099988362841, 6.0066100389353325, 22.19559471547289, 14.136765352562369, 12.253330565345465, 11.982579607609521, 11.094528326056817, 10.827860078073813, 9.794215171993363, 8.844866808917867, 8.557132216614452, 7.855495760900972, 6.360224582386946, 5.542346717281005, 4.700728573026776, 4.583764455780377, 4.4655069610168265, 4.402884493936731, 4.271715966556496, 4.0239442546984066, 4.0239442546984066, 4.0239442546984066, 3.671990162574731, 3.646933342196024, 8.396449328106064, 2.6058373012951686, 2.4348153946595965, 2.381039360255435, 2.3078866691240947, 2.307862031356347, 2.307842447489676, 2.291541721305162, 7.704599751827166, 3.127415054089927, 11.04270562441871, 3.594535338152047, 5.776479213608975, 9.10029433858996, 5.447863194339583, 6.935525724782986, 5.363685418009927, 3.7062615080911088, 11.212043963789892, 10.45236061091315, 10.412754813067398, 9.7957453227733, 8.63552670882018, 8.63552670882018, 8.10988629013859, 8.000535313003544, 6.840194598693651, 6.840194598693651, 6.205198755513028, 6.205198755513028, 6.205198755513028, 5.893433688256668, 5.327716051146557, 4.977215656468719, 4.935174724686412, 4.935174724686412, 11.364481003244517, 3.8620945262753845, 3.7072223528842043, 3.2837583024598342, 3.249955708160214, 3.1173355161791556, 2.8907530350745367, 2.6066720000343064, 2.5050376037249453, 2.482558604598507, 6.2941783797463176, 1.9910046029001607, 10.543031850685297, 10.064043471630347, 9.409267774958424, 13.670915503480385, 10.568423064612501, 11.481000322517223, 12.446088011338752, 5.621297059971818, 4.704585775086974, 4.601053162966203, 19.998490786842233, 19.7325755854605, 16.36572847220821, 10.754914876706874, 10.114265475012106, 9.57242700080833, 9.380399798497509, 8.862620860865748, 8.862620860865748, 8.86261848891012, 8.714670919311308, 7.344780363921848, 6.132697597670788, 5.79367951453053, 5.685612425532847, 5.595972269145988, 5.167567038219037, 4.880972337033128, 4.650041109187441, 4.54199497246446, 4.502413753598213, 4.452521248297397, 4.452431904635463, 4.024194687232059, 4.024194687232059, 4.024133016385769, 4.024133016385769, 3.929324764014586, 8.164422281107647, 3.1864733289347273, 26.40637318848333, 6.641662348194274, 18.305365141051606, 15.07840806413473, 15.467525803367188, 7.118619138841162, 4.5307147421564435, 37.785995683087165, 16.052709706179616, 12.895299085698545, 11.9238797959441, 8.295779116035547, 7.143241731409379, 6.695430419875919, 6.56690834821685, 5.990585487034833, 5.990567950350647, 5.990567950350647, 5.54278274899142, 5.414225214259885, 5.414225214259885, 5.414225214259885, 5.414225214259885, 5.414225214259885, 5.414225214259885, 5.414225214259885, 16.77815166944999, 16.325211072643977, 3.5905425582380115, 3.565486533576193, 3.204661852057724, 3.0601174863175293, 8.895908610557106, 2.9260054991479367, 2.9130297168141275, 2.7942644716803815, 2.6938774767222173, 20.1719318517054, 3.42519228067466, 3.0463139724901094, 9.686787942013078, 8.149853282948836, 7.856447444719719, 7.102589682465967, 5.865006181875235, 5.804508195120605, 4.892065994396386, 4.675441852679127, 3.885447267580558, 3.296999591562742, 9.851130855703053, 3.1700008070322054, 3.0147237466205183, 2.5651486353461057, 2.2303166845996087, 2.1857577393388534, 2.0340796568398676, 1.9781133529335357, 1.8786841598998343, 1.82590168416157, 1.7808345812406885, 1.5727386987582341, 1.4982394966479637, 1.4982394966479637, 1.4982394966479637, 1.4982394966479637, 1.4982394966479637, 1.4661560499716244, 1.4661560499716244, 1.4661560499716244, 2.502915145764208, 6.709083556942182, 7.645766964859055, 2.1520662092974807, 2.6218541656119734, 3.4344639086703865, 1.8261232171311599, 2.32760863036275, 2.1351896259036076, 2.026790904282699, 1.9347832730287335, 10.349639493791669, 8.574349945907095, 7.387384686465167, 7.138909480419188, 7.017244799287594, 6.434782356975574, 5.304716632476136, 3.7964717464375997, 3.6032162036438375, 3.406294728829144, 3.2050340194220617, 2.8232537566200713, 2.676948700872221, 2.5554425817151114, 2.0947729198638267, 2.0857730307159916, 1.9731806200604864, 1.8261766158389008, 1.8259176833534736, 1.7045228700158916, 1.704085197307995, 20.57039856497248, 1.390737705085226, 1.390737705085226, 1.2438517761599113, 1.2436597573484456, 1.2436597573484456, 1.2436377565490302, 1.243548711893408, 1.122138927597644, 7.301486796070743, 2.2291256833280926, 2.226777976720654, 1.3142501684573158, 6.979283883177068, 3.6189435984499916, 8.479952634879943, 3.0909746613914053, 3.00367184436968, 9.89618995148516, 12.704483926225826, 2.443015774409022, 2.3278710347809555, 2.327795160476257, 2.2211625968178375, 6.226569115483126, 1.7757259346955063, 1.7755729799916697, 1.7317781558875323, 1.7100580397179754, 1.6687465640634418, 1.4142195206090127, 1.4142027449318175, 1.4060200520338755, 1.3178957750543405, 3.3145540890594396, 1.179456856369061, 1.0642355845666016, 4.601583604879533, 0.9688747409539323, 0.9688707937357688, 1.7307058282864405, 0.5118979479507314, 0.5118979479507314, 2.8020834655401496, 5.441490228906827, 2.752470003283176, 3.3599690269298073, 1.678118685367994, 1.6652439561680559, 10.78855508661709, 2.3142031519163706, 1.382187580216787, 1.2995334523187796, 1.2620003646104758, 1.110744556369441, 1.0282286459214915, 1.0281129699750335, 0.8465934770282361, 0.7829451761470816, 0.7001130816867012, 0.6318989204024767, 0.6318867220167838, 0.631702586689022, 0.5752742923056063, 0.5752742923056063, 0.5752742923056063, 0.5752742923056063, 0.3039416337006806, 0.3039416337006806, 0.3039416337006806, 0.3039397088603526, 0.3039397088603526, 0.3039397088603526, 0.7827919310279571, 0.2691179558762213, 0.3039402422498411, 0.03347007734664095, 0.03347007734664095, 0.03347007734664095], \"Total\": [110.0, 75.0, 94.0, 75.0, 68.0, 77.0, 63.0, 60.0, 66.0, 39.0, 54.0, 54.0, 44.0, 41.0, 37.0, 34.0, 40.0, 31.0, 39.0, 39.0, 31.0, 42.0, 32.0, 32.0, 40.0, 29.0, 31.0, 32.0, 32.0, 29.0, 54.60945257628136, 40.95554515362488, 39.26590788652886, 39.017716138172425, 30.71498048568341, 26.04173979057378, 25.240637948621796, 18.517709973835807, 18.372574864901875, 17.638973756629582, 15.087305983469669, 14.637618429738769, 13.804880412120296, 75.32060603969491, 12.64823429459563, 20.905584796319065, 12.046648833131503, 12.046648833131503, 12.000292808198823, 11.31103006728732, 42.97995673453815, 8.787674433424858, 77.50675184153553, 7.908772778239209, 7.657356713363107, 7.332794741550328, 7.03527723648022, 6.744886209236007, 6.45420572867448, 6.45420572867448, 94.8897545761172, 19.934202813672375, 29.23684653677818, 37.744930635660076, 32.940037035484536, 32.30185859233222, 24.46677338007838, 19.359061155359612, 18.4650575716929, 17.489107869786856, 17.41631319260944, 17.330469164541174, 16.931781851909832, 16.81678182909476, 14.903147918365809, 14.799791914105217, 13.12129567684051, 12.703187891316109, 12.436216479707287, 11.756575534810839, 11.220497406214644, 8.847989879674598, 8.643232023119914, 8.315318090408313, 8.315318090408313, 7.532127599222589, 7.527246832382727, 6.451158597818938, 6.339104857384181, 6.030763040187943, 5.803195159271305, 5.155231050892307, 5.065706376875031, 12.657281700734176, 26.21280692008642, 18.53006813983323, 37.200601877097135, 94.8897545761172, 12.241986106961825, 29.426825621856057, 20.773109538375646, 18.212932153480008, 16.156047395225027, 15.215530058580415, 14.041443090034855, 13.350813026659086, 13.35081303926184, 13.107660581506357, 12.588296233564618, 12.588296233564618, 12.588296233564618, 12.588296233564618, 11.975950135492464, 41.18725122677507, 8.69001931699826, 8.508050254150916, 32.542918471177856, 8.014694952815322, 7.8772916854832555, 7.551558329855323, 6.724942095055012, 6.721427504878417, 6.094843076035195, 5.853657323854566, 5.540371731314124, 5.221409154738374, 5.1731832588047, 4.778076714388261, 4.620159985716532, 66.03631163342921, 12.486156067270938, 32.80715710917817, 37.200601877097135, 34.440328947074654, 31.358234232451736, 11.508309940012325, 110.7783249932737, 10.01782672205845, 8.787255700994248, 8.466705364260825, 8.215960040776002, 7.217054101409799, 7.217054101409799, 7.217054101409799, 7.217054101409799, 7.217054101409799, 6.533784747460093, 6.262611668472671, 6.0522519448905365, 6.022635856892935, 5.684148210788087, 5.392383930423714, 4.934390966032114, 4.62037946536486, 75.54498279168507, 3.621380216727868, 3.513547712287641, 3.5026630114902715, 3.478493934140025, 3.4199305631206616, 3.2528637426074427, 3.2528637426074427, 3.2526073840987135, 63.22696499973218, 68.70235023542672, 44.424871182940436, 26.214634699659758, 25.114635697591304, 17.634639972329307, 17.005587023637727, 12.580697609632725, 12.456827982132303, 12.110811825201855, 10.606725626688235, 10.567487901458733, 10.48855512747699, 9.110872375582419, 8.989319781582099, 8.579269279030719, 8.099963953012022, 8.08974949173811, 8.032199941197955, 7.94011571594819, 7.893588441626179, 7.53087569983555, 7.53087569983555, 7.53087569983555, 7.257941378497611, 6.214883852765859, 5.911409710330782, 5.853840168879617, 5.730096517248155, 5.523099836517325, 54.70863831253809, 4.8985092718545715, 4.748405662054842, 19.84030437693628, 66.03631163342921, 26.21280692008642, 15.863073779025838, 37.200601877097135, 15.216549246805641, 18.014909248284827, 16.778850758722978, 12.497530694368464, 12.092438632774448, 10.585583949355184, 10.585583949355184, 10.319636546348693, 10.050124143855792, 9.550491745083695, 8.820240320526393, 8.820240320526393, 8.820240320526393, 7.898978319573428, 6.960259125276141, 6.495854960002876, 6.476965951067872, 5.625864030991288, 5.425390611458049, 5.308083456439501, 5.194871161821669, 5.113371965207039, 4.507596795522096, 4.321481306104011, 4.230558392946627, 4.230558392946627, 28.51346907549749, 3.6564990091650276, 3.4520897072473855, 3.3571504708019293, 10.402438857439526, 60.544345126284874, 29.9631109150803, 30.5824879268737, 40.2221296795548, 22.232818345199508, 35.09883310766882, 18.56328627913613, 18.53006813983323, 17.005124723205174, 15.494654097657483, 14.853015321933649, 11.138566896445166, 10.617078734354084, 9.469452714425719, 9.406164279093291, 9.039209150148634, 7.797475448464806, 7.572045440861844, 7.532807822561731, 7.272641111129596, 6.69775711879141, 6.50593311677697, 6.455683214292905, 6.373413694115272, 6.2640615281934995, 5.7393887866861615, 5.7393887866861615, 5.7393887866861615, 5.7393887866861615, 5.739320848271936, 5.739320848271936, 5.739320848271936, 5.739320848271936, 5.739320848271936, 5.739320848271936, 5.739320848271936, 5.739320848271936, 5.739275320636061, 29.23684653677818, 32.80715710917817, 12.756964348341784, 7.5619869729261895, 22.98995954828767, 14.931130372392897, 13.047697441394456, 12.776945466944438, 11.888895385579806, 11.622224712426155, 10.588579937750389, 9.639231419060495, 9.351496829837897, 8.649860768373845, 7.154589187660867, 6.336711876399872, 5.495093575741596, 5.37812951608061, 5.25987252573305, 5.19724936251329, 5.066080951586967, 4.818308872937296, 4.818308872937296, 4.818308872937296, 4.466354969146128, 4.441299579186646, 10.833153360387223, 3.400201788419796, 3.229180196713582, 3.175403985030703, 3.1022511796434777, 3.102226575030206, 3.102207028703407, 3.085910259057222, 11.301999808982345, 4.446054458831622, 37.200601877097135, 6.416466401951129, 22.232818345199508, 94.8897545761172, 28.51346907549749, 77.50675184153553, 40.2221296795548, 75.32060603969491, 12.021527313585022, 11.261844144141845, 11.222236571326926, 10.60522721810135, 9.445008332361214, 9.445008332361214, 8.919368650840685, 8.810016936544578, 7.6496762453677, 7.6496762453677, 7.014680396747045, 7.014680396747045, 7.014680396747045, 6.702920495189986, 6.137199725743496, 5.786698170539989, 5.744656390548347, 5.744656390548347, 13.538095619095591, 4.671576511989278, 4.516704802475586, 4.093240469333119, 4.05943772569526, 3.926817607093272, 3.700235943158463, 3.4161549541775087, 3.3145203503901537, 3.2920402472299366, 8.491541694467077, 2.8004865474700447, 15.295991531035884, 19.66019489260813, 18.56328627913613, 40.2221296795548, 30.5824879268737, 35.09883310766882, 60.544345126284874, 12.241986106961825, 12.814463886160373, 22.232818345199508, 20.817636568638488, 20.551720537965636, 17.18487356699112, 11.574059772218801, 10.93341062291404, 10.391572520015162, 10.199544677216126, 9.681765702273951, 9.681765702273951, 9.681763361094108, 9.533815822181253, 8.163926077281564, 6.95184246127571, 6.612824602044012, 6.504757467896391, 6.415118000875726, 5.9867127077509625, 5.700117164963061, 5.469186114780912, 5.361139876309465, 5.321559327377556, 5.271666362514635, 5.2715771847233714, 4.843339589726317, 4.843339589726317, 4.843278116636702, 4.843278116636702, 4.748470271903068, 10.107486005274291, 4.005618738958762, 44.424871182940436, 10.026063034129992, 68.70235023542672, 63.22696499973218, 75.54498279168507, 110.7783249932737, 29.9631109150803, 39.26335372082073, 16.85711316465786, 13.69969963232728, 12.728279803422817, 9.100179440363359, 7.947641762860408, 7.499830617728763, 7.371308379913195, 6.7949854848100015, 6.794967968775902, 6.794967968775902, 6.347182931263386, 6.218625218297358, 6.218625218297358, 6.218625218297358, 6.218625218297358, 6.218625218297358, 6.218625218297358, 6.218625218297358, 19.750537530444724, 19.827041641469417, 4.394942878453498, 4.369886670587211, 4.009061875950368, 3.8645178425698576, 11.323388166077322, 3.7308552266815953, 3.717435201780798, 3.59866521371454, 3.4982803474943096, 31.970019838465564, 6.882645376223756, 6.0217982339017935, 10.49202393653184, 8.955091425765378, 8.661682766021434, 7.907830109298579, 6.670240420715237, 6.609744713151214, 5.69729982138935, 5.480675698320708, 4.690681455737605, 4.10223377883695, 12.266569678091424, 3.975234760944824, 3.819959901634626, 3.370383187957173, 3.035550396313201, 2.9909920724416077, 2.8393135949555828, 2.78384061065273, 2.683918591093405, 2.6311364578301513, 2.586068466915229, 2.3779726731423865, 2.303718559409067, 2.303718559409067, 2.303718559409067, 2.303718559409067, 2.303718559409067, 2.2713898612768646, 2.2713898612768646, 2.2713898612768646, 4.092271585463225, 15.863073779025838, 31.970019838465564, 4.71694572742521, 10.026063034129992, 31.986499790018403, 4.740696136846403, 37.200601877097135, 41.18725122677507, 29.9631109150803, 19.66019489260813, 11.153430840979391, 9.378140807740804, 8.191175679934922, 7.9427010754553455, 7.821036635239916, 7.238573764378706, 6.108508513286346, 4.600262724358089, 4.407007088578209, 4.210086023919903, 4.008825516655363, 3.627046223925261, 3.4807396045982424, 3.3592334842680796, 2.898563347983943, 2.8895642379766477, 2.7769710936671967, 2.629967294764433, 2.6297086861505936, 2.5083136598856863, 2.507877129180191, 31.986499790018403, 2.194528130450415, 2.194528130450415, 2.0476420734515646, 2.0474504617419247, 2.0474504617419247, 2.0474282766775835, 2.0473395517259916, 1.9259295772857217, 15.216549246805641, 6.0217982339017935, 12.871719714307018, 3.2303500249321146, 7.786081168395634, 4.425737540176912, 10.58636135188034, 3.897767914671808, 3.8104658210406432, 12.871719714307018, 16.575974725416657, 3.2498097922043327, 3.1346646630224253, 3.134589263204839, 3.0279556702430535, 9.04880059155071, 2.582519202027101, 2.58236663181416, 2.5385713021816927, 2.5168538979746953, 2.4755397285297454, 2.221012560210423, 2.2209958351972254, 2.2128265273782333, 2.124691140407773, 5.345410758916111, 1.9862499869327177, 1.8710286061028039, 8.253299428137774, 1.7756677280427333, 1.7756637771863697, 4.040962794764549, 1.3186909436769687, 1.3186909436769687, 12.814463886160373, 54.70863831253809, 19.827041641469417, 31.986499790018403, 11.323388166077322, 12.266569678091424, 11.617710512101961, 3.143356813764172, 2.2113406964345605, 2.128686277223335, 2.0911537420617163, 1.9398981293239275, 1.857381305657337, 1.8572660496941162, 1.6757459073128822, 1.61209814797731, 1.5292666251887086, 1.4610513283400797, 1.4610391888423298, 1.4608557682491732, 1.404426733852533, 1.404426733852533, 1.404426733852533, 1.404426733852533, 1.1330940568537031, 1.1330940568537031, 1.1330940568537031, 1.1330922106355807, 1.1330922106355807, 1.1330922106355807, 2.994326445379921, 1.641904916436561, 2.813352158022777, 0.8626355533961005, 0.8626355533961005, 0.8626355533961005], \"Category\": [\"Default\", \"Default\", \"Default\", \"Default\", \"Default\", \"Default\", \"Default\", \"Default\", \"Default\", \"Default\", \"Default\", \"Default\", \"Default\", \"Default\", \"Default\", \"Default\", \"Default\", \"Default\", \"Default\", \"Default\", \"Default\", \"Default\", \"Default\", \"Default\", \"Default\", \"Default\", \"Default\", \"Default\", \"Default\", \"Default\", \"Topic1\", \"Topic1\", \"Topic1\", \"Topic1\", \"Topic1\", \"Topic1\", \"Topic1\", \"Topic1\", \"Topic1\", \"Topic1\", \"Topic1\", \"Topic1\", \"Topic1\", \"Topic1\", \"Topic1\", \"Topic1\", \"Topic1\", \"Topic1\", \"Topic1\", \"Topic1\", \"Topic1\", \"Topic1\", \"Topic1\", \"Topic1\", \"Topic1\", \"Topic1\", \"Topic1\", \"Topic1\", \"Topic1\", \"Topic1\", \"Topic1\", \"Topic1\", \"Topic1\", \"Topic2\", \"Topic2\", \"Topic2\", \"Topic2\", \"Topic2\", \"Topic2\", \"Topic2\", \"Topic2\", \"Topic2\", \"Topic2\", \"Topic2\", \"Topic2\", \"Topic2\", \"Topic2\", \"Topic2\", \"Topic2\", \"Topic2\", \"Topic2\", \"Topic2\", \"Topic2\", \"Topic2\", \"Topic2\", \"Topic2\", \"Topic2\", \"Topic2\", \"Topic2\", \"Topic2\", \"Topic2\", \"Topic2\", \"Topic2\", \"Topic2\", \"Topic2\", \"Topic2\", \"Topic2\", \"Topic2\", \"Topic2\", \"Topic3\", \"Topic3\", \"Topic3\", \"Topic3\", \"Topic3\", \"Topic3\", \"Topic3\", \"Topic3\", \"Topic3\", \"Topic3\", \"Topic3\", \"Topic3\", \"Topic3\", \"Topic3\", \"Topic3\", \"Topic3\", \"Topic3\", \"Topic3\", \"Topic3\", \"Topic3\", \"Topic3\", \"Topic3\", \"Topic3\", \"Topic3\", \"Topic3\", \"Topic3\", \"Topic3\", \"Topic3\", \"Topic3\", \"Topic3\", \"Topic3\", \"Topic3\", \"Topic3\", \"Topic3\", \"Topic4\", \"Topic4\", \"Topic4\", \"Topic4\", \"Topic4\", \"Topic4\", \"Topic4\", \"Topic4\", \"Topic4\", \"Topic4\", \"Topic4\", \"Topic4\", \"Topic4\", \"Topic4\", \"Topic4\", \"Topic4\", \"Topic4\", \"Topic4\", \"Topic4\", \"Topic4\", \"Topic4\", \"Topic4\", \"Topic4\", \"Topic4\", \"Topic4\", \"Topic4\", \"Topic4\", \"Topic4\", \"Topic4\", \"Topic4\", \"Topic4\", \"Topic4\", \"Topic4\", \"Topic5\", \"Topic5\", \"Topic5\", \"Topic5\", \"Topic5\", \"Topic5\", \"Topic5\", \"Topic5\", \"Topic5\", \"Topic5\", \"Topic5\", \"Topic5\", \"Topic5\", \"Topic5\", \"Topic5\", \"Topic5\", \"Topic5\", \"Topic5\", \"Topic5\", \"Topic5\", \"Topic5\", \"Topic5\", \"Topic5\", \"Topic5\", \"Topic5\", \"Topic5\", \"Topic5\", \"Topic5\", \"Topic5\", \"Topic5\", \"Topic5\", \"Topic5\", \"Topic5\", \"Topic5\", \"Topic5\", \"Topic5\", \"Topic6\", \"Topic6\", \"Topic6\", \"Topic6\", \"Topic6\", \"Topic6\", \"Topic6\", \"Topic6\", \"Topic6\", \"Topic6\", \"Topic6\", \"Topic6\", \"Topic6\", \"Topic6\", \"Topic6\", \"Topic6\", \"Topic6\", \"Topic6\", \"Topic6\", \"Topic6\", \"Topic6\", \"Topic6\", \"Topic6\", \"Topic6\", \"Topic6\", \"Topic6\", \"Topic6\", \"Topic6\", \"Topic6\", \"Topic6\", \"Topic6\", \"Topic6\", \"Topic6\", \"Topic6\", \"Topic6\", \"Topic6\", \"Topic6\", \"Topic6\", \"Topic7\", \"Topic7\", \"Topic7\", \"Topic7\", \"Topic7\", \"Topic7\", \"Topic7\", \"Topic7\", \"Topic7\", \"Topic7\", \"Topic7\", \"Topic7\", \"Topic7\", \"Topic7\", \"Topic7\", \"Topic7\", \"Topic7\", \"Topic7\", \"Topic7\", \"Topic7\", \"Topic7\", \"Topic7\", \"Topic7\", \"Topic7\", \"Topic7\", \"Topic7\", \"Topic7\", \"Topic7\", \"Topic7\", \"Topic7\", \"Topic7\", \"Topic7\", \"Topic7\", \"Topic7\", \"Topic8\", \"Topic8\", \"Topic8\", \"Topic8\", \"Topic8\", \"Topic8\", \"Topic8\", \"Topic8\", \"Topic8\", \"Topic8\", \"Topic8\", \"Topic8\", \"Topic8\", \"Topic8\", \"Topic8\", \"Topic8\", \"Topic8\", \"Topic8\", \"Topic8\", \"Topic8\", \"Topic8\", \"Topic8\", \"Topic8\", \"Topic8\", \"Topic8\", \"Topic8\", \"Topic8\", \"Topic8\", \"Topic8\", \"Topic8\", \"Topic8\", \"Topic8\", \"Topic8\", \"Topic8\", \"Topic8\", \"Topic8\", \"Topic8\", \"Topic8\", \"Topic8\", \"Topic8\", \"Topic9\", \"Topic9\", \"Topic9\", \"Topic9\", \"Topic9\", \"Topic9\", \"Topic9\", \"Topic9\", \"Topic9\", \"Topic9\", \"Topic9\", \"Topic9\", \"Topic9\", \"Topic9\", \"Topic9\", \"Topic9\", \"Topic9\", \"Topic9\", \"Topic9\", \"Topic9\", \"Topic9\", \"Topic9\", \"Topic9\", \"Topic9\", \"Topic9\", \"Topic9\", \"Topic9\", \"Topic9\", \"Topic9\", \"Topic9\", \"Topic9\", \"Topic9\", \"Topic9\", \"Topic9\", \"Topic9\", \"Topic9\", \"Topic9\", \"Topic9\", \"Topic9\", \"Topic9\", \"Topic10\", \"Topic10\", \"Topic10\", \"Topic10\", \"Topic10\", \"Topic10\", \"Topic10\", \"Topic10\", \"Topic10\", \"Topic10\", \"Topic10\", \"Topic10\", \"Topic10\", \"Topic10\", \"Topic10\", \"Topic10\", \"Topic10\", \"Topic10\", \"Topic10\", \"Topic10\", \"Topic10\", \"Topic10\", \"Topic10\", \"Topic10\", \"Topic10\", \"Topic10\", \"Topic10\", \"Topic10\", \"Topic10\", \"Topic10\", \"Topic10\", \"Topic10\", \"Topic10\", \"Topic10\", \"Topic10\", \"Topic10\", \"Topic10\", \"Topic11\", \"Topic11\", \"Topic11\", \"Topic11\", \"Topic11\", \"Topic11\", \"Topic11\", \"Topic11\", \"Topic11\", \"Topic11\", \"Topic11\", \"Topic11\", \"Topic11\", \"Topic11\", \"Topic11\", \"Topic11\", \"Topic11\", \"Topic11\", \"Topic11\", \"Topic11\", \"Topic11\", \"Topic11\", \"Topic11\", \"Topic11\", \"Topic11\", \"Topic11\", \"Topic11\", \"Topic11\", \"Topic11\", \"Topic11\", \"Topic11\", \"Topic11\", \"Topic11\", \"Topic12\", \"Topic12\", \"Topic12\", \"Topic12\", \"Topic12\", \"Topic12\", \"Topic12\", \"Topic12\", \"Topic12\", \"Topic12\", \"Topic12\", \"Topic12\", \"Topic12\", \"Topic12\", \"Topic12\", \"Topic12\", \"Topic12\", \"Topic12\", \"Topic12\", \"Topic12\", \"Topic12\", \"Topic12\", \"Topic12\", \"Topic12\", \"Topic12\", \"Topic12\", \"Topic12\", \"Topic12\", \"Topic12\", \"Topic12\", \"Topic12\", \"Topic12\", \"Topic12\", \"Topic12\", \"Topic12\", \"Topic12\", \"Topic12\", \"Topic12\", \"Topic12\", \"Topic12\", \"Topic12\", \"Topic13\", \"Topic13\", \"Topic13\", \"Topic13\", \"Topic13\", \"Topic13\", \"Topic13\", \"Topic13\", \"Topic13\", \"Topic13\", \"Topic13\", \"Topic13\", \"Topic13\", \"Topic13\", \"Topic13\", \"Topic13\", \"Topic13\", \"Topic13\", \"Topic13\", \"Topic13\", \"Topic13\", \"Topic13\", \"Topic13\", \"Topic13\", \"Topic13\", \"Topic13\", \"Topic13\", \"Topic13\", \"Topic13\", \"Topic13\", \"Topic13\", \"Topic13\", \"Topic13\", \"Topic13\", \"Topic14\", \"Topic14\", \"Topic14\", \"Topic14\", \"Topic14\", \"Topic14\", \"Topic14\", \"Topic14\", \"Topic14\", \"Topic14\", \"Topic14\", \"Topic14\", \"Topic14\", \"Topic14\", \"Topic14\", \"Topic14\", \"Topic14\", \"Topic14\", \"Topic14\", \"Topic14\", \"Topic14\", \"Topic14\", \"Topic14\", \"Topic14\", \"Topic14\", \"Topic14\", \"Topic14\", \"Topic14\", \"Topic14\", \"Topic14\", \"Topic14\", \"Topic14\", \"Topic14\", \"Topic14\", \"Topic14\", \"Topic14\", \"Topic15\", \"Topic15\", \"Topic15\", \"Topic15\", \"Topic15\", \"Topic15\", \"Topic15\", \"Topic15\", \"Topic15\", \"Topic15\", \"Topic15\", \"Topic15\", \"Topic15\", \"Topic15\", \"Topic15\", \"Topic15\", \"Topic15\", \"Topic15\", \"Topic15\", \"Topic15\", \"Topic15\", \"Topic15\", \"Topic15\", \"Topic15\", \"Topic15\", \"Topic15\", \"Topic15\", \"Topic15\", \"Topic15\", \"Topic15\"], \"logprob\": [30.0, 29.0, 28.0, 27.0, 26.0, 25.0, 24.0, 23.0, 22.0, 21.0, 20.0, 19.0, 18.0, 17.0, 16.0, 15.0, 14.0, 13.0, 12.0, 11.0, 10.0, 9.0, 8.0, 7.0, 6.0, 5.0, 4.0, 3.0, 2.0, 1.0, -2.8551, -3.1478, -3.1908, -3.1973, -3.4422, -3.6121, -3.6444, -3.9661, -3.9743, -4.0169, -4.1813, -4.2133, -4.2754, -2.5795, -4.3685, -3.8667, -4.4206, -4.4206, -4.4248, -4.4883, -3.1606, -4.7629, -2.5944, -4.8795, -4.9155, -4.964, -5.0106, -5.0583, -5.1085, -5.1085, -2.4853, -4.2791, -4.9844, -2.9784, -3.1178, -3.1378, -3.4238, -3.6668, -3.7162, -3.773, -3.7774, -3.7826, -3.807, -3.8141, -3.9414, -3.9487, -4.0764, -4.1109, -4.1336, -4.1938, -4.2439, -4.5022, -4.528, -4.5706, -4.5706, -4.6807, -4.6814, -4.8556, -4.8756, -4.9329, -4.9773, -5.1159, -5.1367, -4.2389, -3.8606, -4.4431, -4.5301, -4.6086, -4.8171, -3.1414, -3.5013, -3.6385, -3.7642, -3.8274, -3.9123, -3.9659, -3.9659, -3.9854, -4.0285, -4.0285, -4.0285, -4.0285, -4.0819, -2.85, -4.43, -4.4533, -3.1174, -4.5195, -4.5387, -4.5858, -4.7164, -4.717, -4.8288, -4.8754, -4.9394, -5.009, -5.02, -5.1147, -5.1552, -2.6862, -4.4061, -4.2392, -4.295, -2.9397, -3.0357, -4.084, -1.8217, -4.2338, -4.3769, -4.4179, -4.4511, -4.5956, -4.5956, -4.5956, -4.5956, -4.5956, -4.7081, -4.7565, -4.7957, -4.8014, -4.8683, -4.9298, -5.0347, -5.1136, -2.3725, -5.4161, -5.455, -5.459, -5.468, -5.4901, -5.5558, -5.5558, -5.5559, -2.597, -2.5507, -3.6068, -3.2103, -3.2545, -3.622, -3.66, -3.9787, -3.9892, -4.0194, -4.1619, -4.1659, -4.174, -4.3272, -4.342, -4.3933, -4.4568, -4.4582, -4.4661, -4.4789, -4.4854, -4.5378, -4.5378, -4.5378, -4.5792, -4.755, -4.8126, -4.8239, -4.8486, -4.8915, -2.6189, -5.033, -5.0702, -3.656, -3.4414, -4.1241, -4.4009, -4.5849, -4.7023, -3.4384, -3.5129, -3.8249, -3.8601, -4.0033, -4.0033, -4.0309, -4.0596, -4.1152, -4.2023, -4.2023, -4.2023, -4.3244, -4.4662, -4.5446, -4.548, -4.7104, -4.7529, -4.7786, -4.804, -4.8227, -4.9741, -5.0257, -5.0518, -5.0518, -3.1781, -5.2351, -5.3094, -5.3458, -4.2152, -2.4816, -3.2705, -3.4838, -3.2634, -3.8705, -3.6717, -4.4922, -4.6323, -3.4186, -3.5165, -3.5611, -3.8683, -3.9201, -4.0446, -4.0519, -4.0955, -4.2591, -4.2919, -4.2977, -4.3372, -4.4303, -4.4635, -4.4723, -4.487, -4.5068, -4.608, -4.608, -4.608, -4.608, -4.608, -4.608, -4.608, -4.608, -4.608, -4.608, -4.608, -4.608, -4.608, -3.1083, -3.0893, -4.0018, -4.4104, -3.0143, -3.4654, -3.6084, -3.6307, -3.7077, -3.732, -3.8324, -3.9343, -3.9674, -4.0529, -4.2641, -4.4017, -4.5664, -4.5916, -4.6178, -4.6319, -4.6621, -4.7219, -4.7219, -4.7219, -4.8134, -4.8203, -3.9863, -5.1564, -5.2243, -5.2466, -5.2778, -5.2778, -5.2778, -5.2849, -4.0723, -4.974, -3.7124, -4.8347, -4.3604, -3.9059, -4.4189, -4.1775, -4.4345, -4.8041, -3.6563, -3.7265, -3.7303, -3.7914, -3.9174, -3.9174, -3.9802, -3.9938, -4.1505, -4.1505, -4.2479, -4.2479, -4.2479, -4.2995, -4.4004, -4.4685, -4.4769, -4.4769, -3.6428, -4.7221, -4.763, -4.8843, -4.8947, -4.9363, -5.0118, -5.1152, -5.155, -5.164, -4.2337, -5.3847, -3.7179, -3.7644, -3.8316, -3.4581, -3.7155, -3.6326, -3.5519, -4.3468, -4.5248, -4.547, -3.0552, -3.0686, -3.2557, -3.6755, -3.7369, -3.792, -3.8122, -3.869, -3.869, -3.869, -3.8859, -4.0569, -4.2372, -4.2941, -4.3129, -4.3288, -4.4085, -4.4655, -4.514, -4.5375, -4.5462, -4.5574, -4.5574, -4.6585, -4.6585, -4.6586, -4.6586, -4.6824, -3.9511, -4.8919, -2.7773, -4.1575, -3.1437, -3.3376, -3.3121, -4.0881, -4.54, -2.4046, -3.2607, -3.4797, -3.558, -3.9208, -4.0704, -4.1351, -4.1545, -4.2463, -4.2464, -4.2464, -4.324, -4.3475, -4.3475, -4.3475, -4.3475, -4.3475, -4.3475, -4.3475, -3.2165, -3.2438, -4.7582, -4.7652, -4.8719, -4.9181, -3.8509, -4.9629, -4.9673, -5.009, -5.0456, -3.0322, -4.8054, -4.9226, -3.4222, -3.595, -3.6317, -3.7325, -3.924, -3.9344, -4.1054, -4.1507, -4.3358, -4.5, -3.4054, -4.5393, -4.5895, -4.751, -4.8908, -4.911, -4.9829, -5.0108, -5.0624, -5.0909, -5.1159, -5.2402, -5.2887, -5.2887, -5.2887, -5.2887, -5.2887, -5.3103, -5.3103, -5.3103, -4.7755, -3.7895, -3.6588, -4.9266, -4.7291, -4.4591, -5.0908, -4.8481, -4.9344, -4.9865, -5.033, -3.2963, -3.4845, -3.6335, -3.6677, -3.6849, -3.7715, -3.9646, -4.2992, -4.3514, -4.4076, -4.4685, -4.5953, -4.6486, -4.695, -4.8938, -4.8981, -4.9536, -5.031, -5.0311, -5.0999, -5.1002, -2.6094, -5.3034, -5.3034, -5.415, -5.4152, -5.4152, -5.4152, -5.4153, -5.518, -3.6452, -4.8316, -4.8327, -5.36, -3.5186, -4.1754, -3.3238, -4.3331, -4.3617, -3.1694, -2.9196, -4.5683, -4.6166, -4.6166, -4.6635, -3.6327, -4.8873, -4.8874, -4.9124, -4.925, -4.9495, -5.115, -5.115, -5.1208, -5.1855, -4.2632, -5.2965, -5.3993, -3.9351, -5.4932, -5.4932, -4.913, -6.1312, -6.1312, -4.4312, -3.7675, -4.449, -4.2496, -4.9439, -4.9516, -2.2227, -3.7621, -4.2775, -4.3392, -4.3685, -4.4962, -4.5734, -4.5735, -4.7677, -4.8459, -4.9577, -5.0602, -5.0602, -5.0605, -5.1541, -5.1541, -5.1541, -5.1541, -5.7921, -5.7921, -5.7921, -5.7921, -5.7921, -5.7921, -4.8461, -5.9138, -5.7921, -7.9983, -7.9983, -7.9983], \"loglift\": [30.0, 29.0, 28.0, 27.0, 26.0, 25.0, 24.0, 23.0, 22.0, 21.0, 20.0, 19.0, 18.0, 17.0, 16.0, 15.0, 14.0, 13.0, 12.0, 11.0, 10.0, 9.0, 8.0, 7.0, 6.0, 5.0, 4.0, 3.0, 2.0, 1.0, 2.0349, 2.03, 2.0291, 2.029, 2.0233, 2.0185, 2.0175, 2.0055, 2.0051, 2.0032, 1.9951, 1.9934, 1.9899, 1.989, 1.9842, 1.9835, 1.9809, 1.9809, 1.9806, 1.9762, 1.9689, 1.9541, 1.9455, 1.9428, 1.9391, 1.9339, 1.9287, 1.9232, 1.9171, 1.9171, 1.8522, 1.6188, 0.5305, 2.281, 2.2778, 2.2773, 2.2692, 2.2603, 2.2582, 2.2557, 2.2555, 2.2552, 2.2541, 2.2538, 2.2473, 2.2469, 2.2396, 2.2375, 2.2361, 2.2321, 2.2286, 2.2079, 2.2055, 2.2015, 2.2015, 2.1904, 2.1904, 2.1704, 2.1679, 2.1605, 2.1545, 2.1343, 2.1311, 2.1131, 1.7634, 1.5278, 0.7439, -0.2711, 1.5683, 2.367, 2.3553, 2.3497, 2.3438, 2.3406, 2.336, 2.3328, 2.3328, 2.3316, 2.329, 2.329, 2.329, 2.329, 2.3255, 2.3221, 2.2981, 2.2959, 2.2903, 2.2895, 2.2876, 2.2827, 2.2681, 2.268, 2.254, 2.2478, 2.2388, 2.2285, 2.2268, 2.2116, 2.2047, 2.0139, 1.9595, 1.1604, 0.9789, 2.4114, 2.4091, 2.3632, 2.361, 2.3522, 2.34, 2.3363, 2.3331, 2.3182, 2.3182, 2.3182, 2.3182, 2.3182, 2.3052, 2.2992, 2.2941, 2.2934, 2.2843, 2.2755, 2.2593, 2.2462, 2.193, 2.1873, 2.1786, 2.1777, 2.1757, 2.1706, 2.155, 2.155, 2.155, 2.1465, 2.1098, 1.4897, 2.4137, 2.4123, 2.3985, 2.3967, 2.3794, 2.3788, 2.3768, 2.3669, 2.3666, 2.366, 2.3536, 2.3523, 2.3477, 2.3416, 2.3415, 2.3407, 2.3395, 2.3388, 2.3334, 2.3334, 2.3334, 2.329, 2.3083, 2.3008, 2.2993, 2.2959, 2.2899, 2.2693, 2.2684, 2.2623, 2.2465, 1.2587, 1.5, 1.7254, 0.689, 1.4656, 2.5607, 2.5572, 2.5399, 2.5376, 2.5274, 2.5274, 2.5253, 2.5231, 2.5185, 2.5109, 2.5109, 2.5109, 2.4992, 2.4838, 2.4745, 2.4741, 2.4525, 2.4463, 2.4425, 2.4386, 2.4357, 2.4104, 2.401, 2.3961, 2.3961, 2.3618, 2.3587, 2.3419, 2.3333, 2.3331, 2.3053, 2.2198, 1.9861, 1.9325, 1.9182, 1.6604, 1.4769, 1.3385, 2.6382, 2.6333, 2.6309, 2.6115, 2.6077, 2.5976, 2.597, 2.5932, 2.5774, 2.5739, 2.5733, 2.569, 2.5582, 2.5541, 2.553, 2.5511, 2.5486, 2.5349, 2.5349, 2.5349, 2.5349, 2.5349, 2.5349, 2.5349, 2.5349, 2.5349, 2.5349, 2.5349, 2.5349, 2.5349, 2.4066, 2.3103, 2.3424, 2.4567, 2.741, 2.7214, 2.7133, 2.7119, 2.707, 2.7053, 2.6981, 2.6901, 2.6873, 2.6798, 2.6584, 2.6422, 2.62, 2.6163, 2.6124, 2.6102, 2.6056, 2.596, 2.596, 2.596, 2.5803, 2.5791, 2.5213, 2.51, 2.4938, 2.4882, 2.4803, 2.4803, 2.4803, 2.4785, 2.393, 2.4243, 1.5616, 2.1967, 1.4283, 0.4317, 1.121, 0.3624, 0.7613, -0.2356, 2.7472, 2.7424, 2.7421, 2.7376, 2.7274, 2.7274, 2.7218, 2.7206, 2.7051, 2.7051, 2.6943, 2.6943, 2.6943, 2.6882, 2.6755, 2.6663, 2.6651, 2.6651, 2.6419, 2.6267, 2.6195, 2.5966, 2.5945, 2.5861, 2.5701, 2.5465, 2.5369, 2.5347, 2.5175, 2.4758, 2.4448, 2.1473, 2.1375, 1.7378, 1.7544, 1.6995, 1.235, 2.0386, 1.8149, 1.2417, 2.7993, 2.7987, 2.7906, 2.766, 2.7615, 2.7573, 2.7557, 2.751, 2.751, 2.751, 2.7496, 2.7337, 2.714, 2.7072, 2.7048, 2.7028, 2.6923, 2.6843, 2.6772, 2.6736, 2.6723, 2.6705, 2.6705, 2.6541, 2.6541, 2.6541, 2.6541, 2.6501, 2.6259, 2.6106, 2.3192, 2.4276, 1.5168, 1.4059, 1.2534, 0.0946, 0.9503, 2.8154, 2.8048, 2.7932, 2.7885, 2.7612, 2.747, 2.7403, 2.7382, 2.7277, 2.7277, 2.7277, 2.7182, 2.7152, 2.7152, 2.7152, 2.7152, 2.7152, 2.7152, 2.7152, 2.6906, 2.6594, 2.6516, 2.6503, 2.6298, 2.6204, 2.6125, 2.6107, 2.6099, 2.6007, 2.5924, 2.3932, 2.1559, 2.1723, 3.1174, 3.1031, 3.0997, 3.0899, 3.0686, 3.0674, 3.0449, 3.0384, 3.0089, 2.9788, 2.978, 2.9709, 2.9605, 2.9243, 2.889, 2.8836, 2.8638, 2.8556, 2.8406, 2.8319, 2.8242, 2.7839, 2.767, 2.767, 2.767, 2.767, 2.767, 2.7595, 2.7595, 2.7595, 2.7056, 2.3367, 1.7666, 2.4125, 1.856, 0.9658, 2.2433, 0.4258, 0.2377, 0.5038, 0.8787, 3.1822, 3.1674, 3.1538, 3.1503, 3.1486, 3.1393, 3.116, 3.065, 3.0557, 3.0452, 3.0333, 3.0065, 2.9945, 2.9836, 2.9323, 2.9311, 2.9153, 2.8923, 2.8923, 2.8707, 2.8706, 2.8156, 2.8009, 2.8009, 2.7586, 2.7585, 2.7585, 2.7585, 2.7585, 2.7169, 2.5227, 2.2633, 1.5026, 2.3577, 3.3193, 3.2275, 3.2069, 3.1968, 3.1908, 3.1658, 3.1627, 3.1434, 3.1312, 3.1312, 3.1189, 3.0549, 3.0542, 3.0541, 3.0463, 3.0422, 3.0343, 2.9773, 2.9773, 2.9752, 2.9511, 2.9508, 2.9075, 2.8645, 2.8445, 2.8229, 2.8229, 2.5808, 2.4825, 2.4825, 1.9085, 1.1208, 1.4542, 1.1753, 1.5195, 1.4318, 4.215, 3.9828, 3.8191, 3.7956, 3.7841, 3.7315, 3.6977, 3.6977, 3.6063, 3.5668, 3.5078, 3.4509, 3.4509, 3.4507, 3.3965, 3.3965, 3.3965, 3.3965, 2.9732, 2.9732, 2.9732, 2.9732, 2.9732, 2.9732, 2.9475, 2.4806, 2.0638, 1.0397, 1.0397, 1.0397]}, \"token.table\": {\"Topic\": [4, 8, 9, 5, 8, 13, 14, 2, 2, 13, 5, 1, 1, 14, 11, 4, 8, 4, 4, 10, 10, 10, 6, 2, 10, 4, 9, 5, 2, 3, 7, 8, 6, 10, 2, 6, 8, 9, 1, 2, 12, 7, 6, 2, 6, 9, 14, 3, 1, 8, 1, 9, 11, 13, 8, 13, 8, 7, 9, 9, 12, 8, 11, 12, 3, 12, 8, 4, 2, 7, 2, 12, 8, 2, 9, 14, 1, 5, 8, 14, 5, 13, 12, 10, 8, 5, 13, 6, 13, 11, 4, 10, 5, 11, 7, 9, 13, 10, 10, 3, 12, 13, 14, 9, 3, 12, 8, 13, 12, 2, 5, 9, 5, 11, 4, 5, 12, 2, 8, 12, 7, 9, 12, 8, 11, 15, 5, 1, 2, 3, 5, 8, 12, 3, 2, 15, 6, 2, 5, 6, 8, 9, 13, 13, 8, 9, 1, 6, 9, 6, 15, 10, 1, 1, 5, 9, 8, 6, 15, 5, 5, 14, 3, 12, 7, 12, 14, 2, 8, 15, 11, 8, 5, 8, 3, 9, 5, 9, 13, 11, 12, 8, 15, 12, 11, 3, 13, 9, 2, 10, 3, 4, 5, 2, 5, 12, 3, 11, 9, 9, 2, 6, 8, 9, 4, 7, 5, 7, 14, 6, 7, 8, 4, 8, 9, 14, 2, 14, 13, 10, 3, 2, 7, 13, 5, 7, 2, 6, 9, 4, 10, 6, 1, 15, 12, 8, 9, 14, 10, 4, 5, 2, 9, 6, 10, 11, 8, 12, 12, 11, 15, 15, 6, 4, 10, 2, 14, 1, 9, 6, 8, 9, 11, 5, 6, 10, 12, 1, 2, 9, 12, 9, 2, 6, 7, 14, 9, 8, 12, 14, 2, 5, 6, 6, 11, 14, 7, 4, 7, 14, 1, 7, 1, 2, 8, 3, 13, 1, 9, 2, 13, 6, 1, 14, 15, 12, 6, 11, 8, 1, 8, 12, 5, 7, 12, 9, 4, 7, 7, 4, 4, 10, 3, 7, 8, 9, 15, 2, 12, 2, 3, 6, 8, 4, 5, 7, 11, 12, 14, 13, 15, 10, 7, 4, 10, 4, 11, 6, 10, 12, 13, 10, 10, 13, 8, 3, 6, 6, 12, 8, 8, 11, 5, 3, 2, 1, 8, 3, 6, 8, 14, 1, 14, 2, 3, 14, 14, 4, 7, 3, 3, 5, 13, 7, 11, 13, 3, 7, 1, 3, 11, 1, 12, 12, 13, 12, 9, 11, 7, 5, 3, 9, 3, 5, 10, 10, 11, 14, 1, 9, 7, 8, 5, 7, 14, 7, 15, 7, 3, 5, 13, 15, 15, 2, 2, 14, 13, 11, 14, 14, 7, 4, 9, 14, 4, 6, 8, 1, 5, 14, 10, 7, 13, 3, 3, 2, 7, 7, 1, 3, 7, 10, 4, 14, 2, 2, 9, 12, 14, 6, 4, 13, 14, 11, 13, 1, 6, 8, 7, 7, 6, 11, 4, 10, 14, 9, 11, 5, 8, 4, 10, 3, 7, 12, 10, 11, 12, 1, 8, 3, 12, 1, 13, 3, 12, 6, 7, 1, 4, 6, 10, 6, 6, 12, 7, 8, 12, 14, 5, 10, 9, 2, 9, 12, 13, 2, 10, 12, 10, 7, 9, 5, 15, 11, 4, 5, 10, 12, 1, 2, 2, 2, 13, 15, 12, 3, 6, 9, 14, 12, 14, 5, 15, 4, 8, 15, 6, 7, 8, 1, 1, 3, 8, 13, 2, 5, 4, 2, 11, 2, 3, 3, 10, 4, 11, 14, 13, 1, 11, 7, 11, 12, 5, 7, 11, 1, 2, 7, 11, 13, 10], \"Freq\": [0.8313641432766791, 0.6747555676113715, 0.22491852253712383, 0.942798027587174, 0.9391916112536839, 0.9596784889997937, 0.7744376105432776, 0.9514305508987668, 0.9809313203581743, 0.4884123052966188, 0.85414016367942, 0.9677606362703469, 0.9296263943591768, 0.7583277983328318, 0.8830063699448, 0.8564911868937102, 0.6447022979107607, 0.987214728763151, 0.7809916399437434, 0.19855719659586696, 0.8771749518998532, 0.9142128088285568, 0.943662816487324, 0.9760963650569799, 0.8258869104088749, 0.9558310522863985, 0.8879540394990968, 0.9538421773059628, 0.980264087836042, 0.3048115375166838, 0.7010665362883727, 0.9197025033650317, 0.9070047650949447, 0.9607238522998213, 0.9255796880843505, 0.5221006487549179, 0.12430967827498046, 0.3480670991699453, 0.9306663626270361, 0.0697999771970277, 0.6588590993017547, 0.9418786702261726, 0.9419595680874705, 0.04955045749925161, 0.7432568624887742, 0.19820182999700645, 0.4519107067939955, 0.9737234709258097, 0.9426371312331463, 0.05310631725257162, 0.9546155656499439, 0.8107591099823886, 0.8807644089736444, 0.519229784823874, 0.882300577047286, 0.8545781794360946, 0.8301667878675355, 0.8711729046128841, 0.8703740763723438, 0.8125219609532387, 0.0738656328139308, 0.4358789151571812, 0.4358789151571812, 0.9531049548201393, 0.9226155877888959, 0.04855871514678399, 0.6446982358084293, 0.8772107926257199, 0.9300654927362243, 0.8958222720806397, 0.7896233422173885, 0.8410525581679994, 0.9468633128714745, 0.9620798522702299, 0.915071406353816, 0.7873053166976567, 0.6521454668397184, 0.20066014364299029, 0.10033007182149514, 0.6380421267554454, 0.9462986939989402, 0.7973484464822266, 0.43408080206486366, 0.8630805478435654, 0.900637286154999, 0.8867956635648858, 0.8618857888814321, 0.9535814001851068, 0.4556788250396022, 0.9496278868314599, 0.3826685266006614, 0.5852577465657175, 0.842388010772657, 0.94915421423077, 0.9504245146384693, 0.607525986865709, 0.4884387639348631, 0.9731545328797931, 0.9146276806838466, 0.12505275745263714, 0.09378956808947785, 0.656526976626345, 0.09378956808947785, 0.8703740763723438, 0.8926675167805047, 0.760127812469811, 0.7696378836180523, 0.6090486665758379, 0.7184319362059518, 0.15120735765966392, 0.806439240851541, 0.9150251638632775, 0.9536657781588113, 0.8575642035518367, 0.6148913052886625, 0.9295067770342906, 0.704395598835319, 0.8290824837057733, 0.9444137040839646, 0.43408080206486366, 0.11776424540806064, 0.7065854724483639, 0.7313088823647074, 0.937638320129163, 0.804036233810692, 0.6539082090257491, 0.8652925541327272, 0.9508475993694312, 0.21505028403654047, 0.24193156954110803, 0.16128771302740535, 0.2956941405502432, 0.05376257100913512, 0.7732183067731159, 0.8912260872197473, 0.6845302744695282, 0.8690388299300973, 0.1424548783334777, 0.08547292700008662, 0.39887365933373753, 0.056981951333391075, 0.3134007323336509, 0.6921458861217271, 0.720209153260883, 0.9464625123139385, 0.8856013786439214, 0.9166442999194649, 0.8620368713301254, 0.8553490195764887, 0.9256085394492105, 0.4697733107503296, 0.8823923307188718, 0.9888397970034575, 0.9739165630666743, 0.9633271019887596, 0.7329156501984765, 0.838622573934486, 0.3339649227434585, 0.3339649227434585, 0.955618082180734, 0.1809848319447526, 0.7842676050939279, 0.9854953562663911, 0.43408080206486366, 0.21200159123854487, 0.42400318247708974, 0.21200159123854487, 0.26543974966410183, 0.7078393324376048, 0.5384258222803866, 0.804036233810692, 0.895584884683878, 0.1846184516609217, 0.7384738066436868, 0.6407095952428324, 0.3203547976214162, 0.3943075333758447, 0.1314358444586149, 0.4600254556051522, 0.804036233810692, 0.9122962706098469, 0.6481069869514031, 0.7120342954857206, 0.8995178016921663, 0.748304738820933, 0.7660767201838689, 0.8950220190069816, 0.8781803051209355, 0.9748141824152319, 0.7489479642238326, 0.9154951736338703, 0.8284134281571456, 0.8815992424317051, 0.9809221521437542, 0.9408672560235667, 0.7733747290866138, 0.9205963425594997, 0.8336424262437577, 0.8553490195764887, 0.908057278166564, 0.9620798522702299, 0.4947640838515244, 0.2698713184644679, 0.22489276538705655, 0.8313641432766791, 0.825009774072032, 0.9295067770342906, 0.22102376770988785, 0.6630713031296636, 0.9096593610313156, 0.9244529836317603, 0.9569394828116867, 0.865729758775155, 0.9336843995884893, 0.7141616165972291, 0.563169679332284, 0.9714621742995648, 0.5034612997250452, 0.818530413623018, 0.9073278607972471, 0.9627831578634183, 0.13224037591974847, 0.7934422555184908, 0.7605405155837355, 0.8725856510356339, 0.8711832170012695, 0.10773954406164947, 0.3232186321849484, 0.4848279482774226, 0.9104093783335367, 0.9326374829529596, 0.9446809970846384, 0.9131170130689841, 0.6203096264670325, 0.7853485579040369, 0.6193522436547364, 0.9051083363078065, 0.8990402037437776, 0.8258764280094654, 0.8983984500533158, 0.9324803476624103, 0.4901165503355615, 0.4901165503355615, 0.9070047650949447, 0.7587733602495971, 0.8041051763534514, 0.629841119249166, 0.43408080206486366, 0.8776087193495626, 0.9333544124920343, 0.596749182340857, 0.7120342954857206, 0.9263596636648624, 0.7277771405004605, 0.26199977058016577, 0.9814525532783802, 0.7583277983328318, 0.9131170130689841, 0.915071406353816, 0.5231752249280003, 0.09809535467400005, 0.3596829671380002, 0.8830063699448, 0.06674874333537273, 0.6674874333537273, 0.16687185833843182, 0.06674874333537273, 0.2543209783683227, 0.10172839134732907, 0.5086419567366454, 0.10172839134732907, 0.8562419966223986, 0.9145438297820213, 0.9070047650949447, 0.9222351186684795, 0.5631684262811212, 0.7390186037368487, 0.8301667878675355, 0.09446116250531925, 0.755689300042554, 0.5722393655028893, 0.38149291033525956, 0.9446809970846384, 0.9423598533167602, 0.7948151090468007, 0.17662557978817794, 0.8711729046128841, 0.9183038976501953, 0.494931555071774, 0.494931555071774, 0.2052204909463257, 0.7524751334698608, 0.8220065522187768, 0.07376981878886459, 0.09484690987139732, 0.8371569229842559, 0.8271193182515719, 0.9766687233672359, 0.891087969536325, 0.9449684705331394, 0.8930608765510235, 0.9215926295593071, 0.8895628204644863, 0.6605116513609528, 0.5154909862965378, 0.8901065050168179, 0.7822626687863184, 0.9153555461571028, 0.9624127734592848, 0.8850930727533766, 0.42187896930479835, 0.42187896930479835, 0.5043158792199279, 0.06303948490249099, 0.4412763943174369, 0.8951322045824054, 0.9885760712865328, 0.8711832170012695, 0.8711832170012695, 0.8313641432766791, 0.8796392730418913, 0.9352906679473303, 0.9532664132898284, 0.13075321046968144, 0.13075321046968144, 0.719142657583248, 0.47820491620768024, 0.2443630582956055, 0.7330891748868166, 0.4856970806628129, 0.1618990268876043, 0.26983171147934054, 0.0539663422958681, 0.8106370223874892, 0.9052887233617031, 0.09383791487018321, 0.6255860991345548, 0.2502344396538219, 0.7744833655145874, 0.8813122807342587, 0.6362624794113013, 0.9504011743920041, 0.8711832170012695, 0.7433537257434243, 0.23724055076917794, 0.7983889573053159, 0.8070080141714056, 0.7091262479680537, 0.9224018004687227, 0.8527545598107567, 0.9076454654150516, 0.8351828865157549, 0.9623182613352353, 0.7483488586709445, 0.9296912588382258, 0.9284449118683138, 0.9601896801427615, 0.8936149946485371, 0.9236080581688905, 0.9248703781741892, 0.7604747036036836, 0.9101369712016664, 0.9082793258425232, 0.926960991922062, 0.9906550704669397, 0.9599973043678575, 0.909902612409147, 0.9024665207462617, 0.7690504226591661, 0.19226260566479153, 0.450245089971602, 0.9637748904530558, 0.9038041600271005, 0.9720335723566661, 0.9402859363808943, 0.6154206331698595, 0.794642868070091, 0.8624422111409197, 0.9294136345965643, 0.9532664132898284, 0.8886302906492619, 0.8458219350389465, 0.4883666012558392, 0.9680758218583101, 0.9489259143553634, 0.7604657304984246, 0.9532664132898284, 0.8850331779156204, 0.97672209213948, 0.9334026974207857, 0.804036233810692, 0.9566821590908801, 0.04783410795454401, 0.30956397674614683, 0.30956397674614683, 0.6686744570230035, 0.8969244700123443, 0.7762934788276294, 0.8977264559875189, 0.8714922500990421, 0.85416684362855, 0.8640505954595905, 0.6814432679068632, 0.30286367462527247, 0.9395742286056559, 0.8574305957374457, 0.9678235911836844, 0.025469041873254855, 0.9141535730971064, 0.7639774240038296, 0.3116980398107963, 0.6233960796215926, 0.8408178565368853, 0.05483594716544904, 0.09139324527574841, 0.8711729046128841, 0.6844386508556914, 0.8711729046128841, 0.8922009907582584, 0.8642013767724246, 0.4556788250396022, 0.7120342954857206, 0.6844443377267387, 0.9356466062272434, 0.18707636234166036, 0.5612290870249811, 0.6899969950255092, 0.8069786854401447, 0.15130850352002714, 0.45024848050253075, 0.8977815631911735, 0.9448775711233728, 0.36349099243536137, 0.6058183207256023, 0.8538378430178555, 0.7715651835190157, 0.17535572352704903, 0.9416959518596312, 0.8899449785278435, 0.5344653720088847, 0.9295825035185653, 0.9568193509020402, 0.8695155558877676, 0.9258307651601734, 0.9532664132898284, 0.9459592459983873, 0.7982041647413314, 0.9408928343916477, 0.9487490285602466, 0.8657708850702597, 0.8711832170012695, 0.9310513654713739, 0.8261387737206026, 0.6380267795763556, 0.9446447696962108, 0.23411045726540314, 0.39018409544233856, 0.15607363817693543, 0.23411045726540314, 0.8887523716279703, 0.9272336807826512, 0.1553793933049198, 0.7768969665245989, 0.4981900561049129, 0.33212670406994194, 0.9797211404693402, 0.7091262479680537, 0.7108957171595607, 0.8711832170012695, 0.9425695521451466, 0.8861905574109772, 0.804036233810692, 0.8302012804372818, 0.8258764280094654, 0.7878447212734048, 0.9528842837717261, 0.8791035443231403, 0.9295067770342906, 0.8301667878675355, 0.9297847751918438, 0.063189256566436, 0.23516566465829744, 0.7054969939748924, 0.8851985820698034, 0.7914925626239243, 0.09893657032799054, 0.4402590753125264, 0.9031471237901535, 0.09031471237901535, 0.8203656661251711, 0.43408080206486366, 0.9103659973531958, 0.4884175975251874, 0.9201125393659916, 0.8933465466340844, 0.8955113261463749, 0.8711832170012695, 0.9564397423802673, 0.8520002489372923, 0.9690263755982969, 0.8423765488578915, 0.8873908163156143, 0.8204569432346323, 0.7546724106646138, 0.929268363787816, 0.6446931225697358, 0.8152238370161785, 0.1630447674032357, 0.9534201687897776, 0.7587861962055104, 0.8147038101150066, 0.9293522856307544, 0.9429312351678493, 0.4402590753125264, 0.8965851084366335, 0.9299548899984952, 0.6981803302224523, 0.29922014152390813, 0.8258869104088749, 0.9414107239798267, 0.8553490195764887, 0.8780717883218724, 0.4522143519595795, 0.9453012564750075, 0.614842845644937, 0.9640117420415089, 0.9295825035185653, 0.4402590753125264, 0.9296263943591768, 0.9465058766161328, 0.9393988489335988, 0.9649236984239474, 0.828892568523129, 0.5383924113773153, 0.9077506409683233, 0.9737234700066448, 0.7699902221631485, 0.9528842837717261, 0.8079046265954397, 0.7451790850277681, 0.7696712748615767, 0.8266806918247659, 0.7120342954857206, 0.614842845644937, 0.78956495923086, 0.9468302716392784, 0.9236659434276137, 0.8711832170012695, 0.9252331392655739, 0.8528448557631861, 0.9720424407463292, 0.8911308930600156, 0.06145730296965625, 0.7125745134316227, 0.8615943222264197, 0.8165749574024187, 0.8313641432766791, 0.7759109069044828, 0.8830040937413083, 0.9041601661838944, 0.918507498407154, 0.8733956864498142, 0.9440081671245123, 0.8313641432766791, 0.804036233810692, 0.47065664320889433, 0.7974872360089615, 0.9279323966345635, 0.9427825429146386, 0.05063153336756212, 0.860736067248556, 0.05063153336756212, 0.8045202643288032, 0.8711901277887937, 0.804036233810692, 0.9725020563611751, 0.7900590534711697, 0.07900590534711698, 0.07900590534711698, 0.4884123052966188, 0.9295827283040449], \"Term\": [\"accepptance\", \"accept\", \"accept\", \"accordance\", \"accounts\", \"act\", \"action\", \"administration\", \"adopting\", \"age\", \"agencies\", \"agreement\", \"agreements\", \"agton\", \"alcoholic\", \"allowing\", \"alsons\", \"amended\", \"amending\", \"amending\", \"amendment\", \"amendments\", \"among\", \"amount\", \"annual\", \"anti\", \"aplaya\", \"appropriating\", \"approving\", \"area\", \"area\", \"areas\", \"arrangements\", \"article\", \"assistance\", \"authority\", \"authority\", \"authority\", \"authorizing\", \"authorizing\", \"avenue\", \"awardees\", \"banning\", \"barangay\", \"barangay\", \"barangay\", \"bars\", \"beach\", \"behalf\", \"behalf\", \"beneficiaries\", \"benefits\", \"beverages\", \"birth\", \"birthing\", \"board\", \"book\", \"branding\", \"bread\", \"buhangin\", \"buhangin\", \"building\", \"building\", \"buildings\", \"business\", \"business\", \"cabantian\", \"cafe\", \"calamity\", \"calendar\", \"calinan\", \"camus\", \"care\", \"catalunan\", \"cell\", \"cellular\", \"center\", \"center\", \"center\", \"centers\", \"certain\", \"certificates\", \"changing\", \"chapter\", \"charges\", \"children\", \"civil\", \"classrooms\", \"clerical\", \"coconut\", \"code\", \"code\", \"collection\", \"commercial\", \"committee\", \"compliance\", \"comply\", \"comprehensive\", \"conflict\", \"construction\", \"construction\", \"construction\", \"construction\", \"constuction\", \"contracts\", \"corner\", \"corporation\", \"correct\", \"corresponding\", \"council\", \"council\", \"covered\", \"creating\", \"creation\", \"crematorium\", \"crisis\", \"cruz\", \"cy\", \"dabawenyo\", \"date\", \"day\", \"day\", \"declaring\", \"deed\", \"defacing\", \"defined\", \"defining\", \"department\", \"development\", \"development\", \"development\", \"development\", \"development\", \"devices\", \"disaster\", \"display\", \"distribution\", \"district\", \"district\", \"district\", \"district\", \"district\", \"documents\", \"dog\", \"donation\", \"drug\", \"dswd\", \"duterte\", \"efb\", \"elementary\", \"enacting\", \"enforcement\", \"enter\", \"entered\", \"entitled\", \"entry\", \"establihing\", \"establish\", \"establish\", \"establishing\", \"establishment\", \"establishment\", \"establishments\", \"event\", \"every\", \"every\", \"every\", \"executed\", \"executed\", \"existing\", \"exposed\", \"facility\", \"favor\", \"favor\", \"fee\", \"fee\", \"fees\", \"fees\", \"fees\", \"fences\", \"festival\", \"fifteen\", \"files\", \"film\", \"films\", \"financial\", \"first\", \"fish\", \"five\", \"follows\", \"food\", \"franchising\", \"functions\", \"fund\", \"funds\", \"garcia\", \"gender\", \"general\", \"geostruckt\", \"globe\", \"grande\", \"granting\", \"granting\", \"granting\", \"green\", \"group\", \"gsciu\", \"guidelines\", \"guidelines\", \"gumitan\", \"halal\", \"health\", \"hire\", \"home\", \"hours\", \"human\", \"hundred\", \"identification\", \"ii\", \"iii\", \"implementation\", \"implementing\", \"implementing\", \"imposed\", \"imposing\", \"improvement\", \"inc\", \"inc\", \"inc\", \"incentive\", \"incorporating\", \"indigenous\", \"individual\", \"individuals\", \"information\", \"inside\", \"install\", \"installation\", \"integral\", \"international\", \"intervention\", \"investment\", \"investment\", \"ipmr\", \"iv\", \"january\", \"jr\", \"july\", \"june\", \"jurisdiction\", \"kagan\", \"kalagan\", \"kibangbang\", \"known\", \"known\", \"land\", \"lao\", \"lease\", \"legged\", \"legislative\", \"legislative\", \"legislative\", \"liquors\", \"local\", \"local\", \"local\", \"local\", \"located\", \"located\", \"located\", \"located\", \"lot\", \"lots\", \"lumads\", \"made\", \"main\", \"maintain\", \"maintained\", \"maintenance\", \"maintenance\", \"management\", \"management\", \"mandatory\", \"marilog\", \"market\", \"market\", \"marketability\", \"markets\", \"materials\", \"materials\", \"matina\", \"matina\", \"mayor\", \"mayor\", \"mayor\", \"meat\", \"medical\", \"memorandum\", \"meter\", \"million\", \"minors\", \"mintal\", \"moa\", \"mobile\", \"monitoring\", \"monteverde\", \"mou\", \"movie\", \"museo\", \"namely\", \"naming\", \"naming\", \"national\", \"national\", \"national\", \"nature\", \"new\", \"nmss\", \"nmua\", \"nominal\", \"nuisance\", \"number\", \"occupying\", \"office\", \"office\", \"office\", \"offices\", \"official\", \"official\", \"one\", \"one\", \"one\", \"one\", \"operate\", \"operating\", \"operation\", \"operation\", \"operation\", \"operations\", \"operators\", \"order\", \"ordinances\", \"original\", \"otherwise\", \"otherwise\", \"owned\", \"pambansa\", \"panlungsod\", \"paragraph\", \"park\", \"parks\", \"part\", \"particularly\", \"partnership\", \"peace\", \"penalties\", \"people\", \"peoples\", \"percent\", \"permanent\", \"permit\", \"person\", \"personnel\", \"persons\", \"pesos\", \"phase\", \"philhealth\", \"philippine\", \"philippines\", \"philippines\", \"phone\", \"piapi\", \"places\", \"plan\", \"plantilla\", \"poblacion\", \"policies\", \"pornographic\", \"portion\", \"portions\", \"positions\", \"powers\", \"prescribed\", \"pricing\", \"private\", \"procedures\", \"proclamation\", \"products\", \"program\", \"prohibiting\", \"prohibitng\", \"project\", \"project\", \"projects\", \"projects\", \"promoting\", \"proper\", \"properties\", \"proposed\", \"protection\", \"provide\", \"provided\", \"providing\", \"providing\", \"provision\", \"provisions\", \"public\", \"public\", \"purchase\", \"purok\", \"purpose\", \"purpose\", \"purposes\", \"purposes\", \"purposes\", \"quality\", \"quarantine\", \"raise\", \"rate\", \"rates\", \"ratifying\", \"records\", \"red\", \"reduction\", \"registration\", \"registration\", \"registry\", \"regulating\", \"regulating\", \"regulation\", \"regulations\", \"regulatory\", \"related\", \"related\", \"relations\", \"relative\", \"relative\", \"relocation\", \"rental\", \"repair\", \"repeal\", \"representative\", \"republic\", \"requiring\", \"reservation\", \"resettlement\", \"residential\", \"resolution\", \"respective\", \"restaurants\", \"restructured\", \"revenue\", \"revised\", \"rights\", \"risk\", \"road\", \"road\", \"road\", \"road\", \"rodrigo\", \"route\", \"rules\", \"rules\", \"said\", \"said\", \"sale\", \"sangguniang\", \"satellite\", \"scheduled\", \"scheme\", \"school\", \"scribbling\", \"sections\", \"sectoral\", \"secure\", \"self\", \"selling\", \"sensitive\", \"separate\", \"series\", \"series\", \"services\", \"services\", \"seventy\", \"shall\", \"shall\", \"sharing\", \"sign\", \"sign\", \"similar\", \"sineng\", \"sir\", \"sister\", \"site\", \"sites\", \"sitio\", \"slum\", \"social\", \"space\", \"specific\", \"specifically\", \"sports\", \"sr\", \"sta\", \"standards\", \"station\", \"street\", \"street\", \"streets\", \"studies\", \"subject\", \"submitted\", \"support\", \"sur\", \"system\", \"talomo\", \"tax\", \"tax\", \"taxi\", \"technical\", \"telecom\", \"terminal\", \"terminals\", \"territorial\", \"tfh\", \"therefor\", \"therewith\", \"therma\", \"thetibungco\", \"thirty\", \"thousand\", \"three\", \"tibungco\", \"tide\", \"tigatto\", \"times\", \"tourism\", \"tower\", \"towers\", \"town\", \"traffic\", \"transport\", \"tribe\", \"tricycle\", \"trust\", \"two\", \"understanding\", \"undocumented\", \"unit\", \"units\", \"upgrading\", \"use\", \"use\", \"used\", \"utilize\", \"vehicles\", \"veto\", \"victims\", \"view\", \"village\", \"violation\", \"violations\", \"volume\", \"voting\", \"walls\", \"way\", \"wear\", \"welfare\", \"wine\", \"within\", \"within\", \"within\", \"workers\", \"working\", \"writing\", \"xi\", \"year\", \"year\", \"year\", \"years\", \"zoning\"]}, \"R\": 30, \"lambda.step\": 0.01, \"plot.opts\": {\"xlab\": \"PC1\", \"ylab\": \"PC2\"}, \"topic.order\": [11, 12, 7, 13, 5, 1, 10, 2, 15, 8, 9, 6, 4, 3, 14]};\n",
       "\n",
       "function LDAvis_load_lib(url, callback){\n",
       "  var s = document.createElement('script');\n",
       "  s.src = url;\n",
       "  s.async = true;\n",
       "  s.onreadystatechange = s.onload = callback;\n",
       "  s.onerror = function(){console.warn(\"failed to load library \" + url);};\n",
       "  document.getElementsByTagName(\"head\")[0].appendChild(s);\n",
       "}\n",
       "\n",
       "if(typeof(LDAvis) !== \"undefined\"){\n",
       "   // already loaded: just create the visualization\n",
       "   !function(LDAvis){\n",
       "       new LDAvis(\"#\" + \"ldavis_el118350062738886641122551\", ldavis_el118350062738886641122551_data);\n",
       "   }(LDAvis);\n",
       "}else if(typeof define === \"function\" && define.amd){\n",
       "   // require.js is available: use it to load d3/LDAvis\n",
       "   require.config({paths: {d3: \"https://d3js.org/d3.v5\"}});\n",
       "   require([\"d3\"], function(d3){\n",
       "      window.d3 = d3;\n",
       "      LDAvis_load_lib(\"https://cdn.jsdelivr.net/gh/bmabey/pyLDAvis@3.3.1/pyLDAvis/js/ldavis.v3.0.0.js\", function(){\n",
       "        new LDAvis(\"#\" + \"ldavis_el118350062738886641122551\", ldavis_el118350062738886641122551_data);\n",
       "      });\n",
       "    });\n",
       "}else{\n",
       "    // require.js not available: dynamically load d3 & LDAvis\n",
       "    LDAvis_load_lib(\"https://d3js.org/d3.v5.js\", function(){\n",
       "         LDAvis_load_lib(\"https://cdn.jsdelivr.net/gh/bmabey/pyLDAvis@3.3.1/pyLDAvis/js/ldavis.v3.0.0.js\", function(){\n",
       "                 new LDAvis(\"#\" + \"ldavis_el118350062738886641122551\", ldavis_el118350062738886641122551_data);\n",
       "            })\n",
       "         });\n",
       "}\n",
       "</script>"
      ],
      "text/plain": [
       "PreparedData(topic_coordinates=              x         y  topics  cluster       Freq\n",
       "topic                                                \n",
       "10    -0.083624  0.376721       1        1  12.876838\n",
       "11    -0.079759  0.043885       2        1  10.002642\n",
       "6     -0.040112 -0.061661       3        1   9.121499\n",
       "12     0.288486  0.038216       4        1   8.762432\n",
       "4     -0.045473 -0.053032       5        1   8.678608\n",
       "0     -0.064777 -0.044885       6        1   7.381590\n",
       "9     -0.031894 -0.041475       7        1   6.808618\n",
       "1     -0.075910  0.053994       8        1   6.228005\n",
       "14    -0.077252 -0.048172       9        1   5.978792\n",
       "7      0.292960  0.034746      10        1   5.845999\n",
       "8     -0.010574 -0.058922      11        1   5.762864\n",
       "5     -0.021155 -0.061550      12        1   4.087317\n",
       "3     -0.014723 -0.061854      13        1   3.850217\n",
       "2     -0.023714 -0.069235      14        1   3.242814\n",
       "13    -0.012478 -0.046775      15        1   1.371766, topic_info=             Term        Freq       Total Category  logprob  loglift\n",
       "45         series  110.000000  110.000000  Default  30.0000  30.0000\n",
       "1        amending   75.000000   75.000000  Default  29.0000  29.0000\n",
       "91          mayor   94.000000   94.000000  Default  28.0000  28.0000\n",
       "79         behalf   75.000000   75.000000  Default  27.0000  27.0000\n",
       "40          known   68.000000   68.000000  Default  26.0000  26.0000\n",
       "...           ...         ...         ...      ...      ...      ...\n",
       "356       correct    0.269118    1.641905  Topic15  -5.9138   2.4806\n",
       "108     satellite    0.303940    2.813352  Topic15  -5.7921   2.0638\n",
       "1245     carabaos    0.033470    0.862636  Topic15  -7.9983   1.0397\n",
       "1246  controlling    0.033470    0.862636  Topic15  -7.9983   1.0397\n",
       "1247    slaughter    0.033470    0.862636  Topic15  -7.9983   1.0397\n",
       "\n",
       "[565 rows x 6 columns], token_table=      Topic      Freq         Term\n",
       "term                              \n",
       "2144      4  0.831364  accepptance\n",
       "161       8  0.674756       accept\n",
       "161       9  0.224919       accept\n",
       "764       5  0.942798   accordance\n",
       "1325      8  0.939192     accounts\n",
       "...     ...       ...          ...\n",
       "26        2  0.790059         year\n",
       "26        7  0.079006         year\n",
       "26       11  0.079006         year\n",
       "585      13  0.488412        years\n",
       "1090     10  0.929583       zoning\n",
       "\n",
       "[581 rows x 3 columns], R=30, lambda_step=0.01, plot_opts={'xlab': 'PC1', 'ylab': 'PC2'}, topic_order=[11, 12, 7, 13, 5, 1, 10, 2, 15, 8, 9, 6, 4, 3, 14])"
      ]
     },
     "execution_count": 21,
     "metadata": {},
     "output_type": "execute_result"
    }
   ],
   "source": [
    "# Visualize the topics\n",
    "pyLDAvis.enable_notebook()\n",
    "vis = pyLDAvis.gensim_models.prepare(lda_model, corpus, id2word)\n",
    "vis"
   ]
  },
  {
   "cell_type": "code",
   "execution_count": 22,
   "metadata": {},
   "outputs": [
    {
     "ename": "AttributeError",
     "evalue": "module 'gensim.models' has no attribute 'wrappers'",
     "output_type": "error",
     "traceback": [
      "\u001b[0;31m---------------------------------------------------------------------------\u001b[0m",
      "\u001b[0;31mAttributeError\u001b[0m                            Traceback (most recent call last)",
      "\u001b[0;32m/var/folders/5w/v1hv7scs4gl14_30l_pjsrj00000gn/T/ipykernel_1183/1387357848.py\u001b[0m in \u001b[0;36m<module>\u001b[0;34m\u001b[0m\n\u001b[1;32m      1\u001b[0m \u001b[0;31m# Build Mallet LDA Model\u001b[0m\u001b[0;34m\u001b[0m\u001b[0;34m\u001b[0m\u001b[0;34m\u001b[0m\u001b[0m\n\u001b[1;32m      2\u001b[0m \u001b[0mmallet_path\u001b[0m \u001b[0;34m=\u001b[0m \u001b[0;34m'/Users/root1/Development/lda/mallet/bin/mallet'\u001b[0m\u001b[0;34m\u001b[0m\u001b[0;34m\u001b[0m\u001b[0m\n\u001b[0;32m----> 3\u001b[0;31m \u001b[0mldamallet\u001b[0m \u001b[0;34m=\u001b[0m \u001b[0mgensim\u001b[0m\u001b[0;34m.\u001b[0m\u001b[0mmodels\u001b[0m\u001b[0;34m.\u001b[0m\u001b[0mwrappers\u001b[0m\u001b[0;34m.\u001b[0m\u001b[0mLdaMallet\u001b[0m\u001b[0;34m(\u001b[0m\u001b[0mmallet_path\u001b[0m\u001b[0;34m,\u001b[0m \u001b[0mcorpus\u001b[0m\u001b[0;34m=\u001b[0m\u001b[0mcorpus\u001b[0m\u001b[0;34m,\u001b[0m \u001b[0mnum_topics\u001b[0m\u001b[0;34m=\u001b[0m\u001b[0;36m12\u001b[0m\u001b[0;34m,\u001b[0m \u001b[0mid2word\u001b[0m\u001b[0;34m=\u001b[0m\u001b[0mid2word\u001b[0m\u001b[0;34m)\u001b[0m\u001b[0;34m\u001b[0m\u001b[0;34m\u001b[0m\u001b[0m\n\u001b[0m",
      "\u001b[0;31mAttributeError\u001b[0m: module 'gensim.models' has no attribute 'wrappers'"
     ]
    }
   ],
   "source": [
    "# Build Mallet LDA Model\n",
    "mallet_path = '/Users/root1/Development/lda/mallet/bin/mallet'\n",
    "ldamallet = gensim.models.wrappers.LdaMallet(mallet_path, corpus=corpus, num_topics=12, id2word=id2word)"
   ]
  },
  {
   "cell_type": "code",
   "execution_count": null,
   "metadata": {},
   "outputs": [],
   "source": [
    "# Show Topics\n",
    "# Only few topics make sense for me\n",
    "pprint(ldamallet.show_topics(formatted=False))\n",
    "\n",
    "# Compute Coherence Score\n",
    "coherence_model_ldamallet = CoherenceModel(model=ldamallet, texts=data_lemmatized, corpus=id2word, coherence='c_v')\n",
    "coherence_ldamallet = coherence_model_ldamallet.get_coherence()\n",
    "print('\\nCoherence Score: ', coherence_ldamallet)"
   ]
  },
  {
   "cell_type": "code",
   "execution_count": null,
   "metadata": {},
   "outputs": [],
   "source": [
    "def compute_coherence_values(dictionary, corpus, texts, limit, start=2, step=3):\n",
    "    \"\"\"\n",
    "    Compute c_v coherence for various number of topics\n",
    "\n",
    "    Parameters:\n",
    "    ----------\n",
    "    dictionary : Gensim dictionary\n",
    "    corpus : Gensim corpus\n",
    "    texts : List of input texts\n",
    "    limit : Max num of topics\n",
    "\n",
    "    Returns:\n",
    "    -------\n",
    "    model_list : List of LDA topic models\n",
    "    coherence_values : Coherence values corresponding to the LDA model with respective number of topics\n",
    "    \"\"\"\n",
    "    coherence_values = []\n",
    "    model_list = []\n",
    "    for num_topics in range(start, limit, step):\n",
    "        model = gensim.models.wrappers.LdaMallet(mallet_path, corpus=corpus, num_topics=num_topics, id2word=id2word)\n",
    "        model_list.append(model)\n",
    "        coherencemodel = CoherenceModel(model=model, texts=texts, dictionary=dictionary, coherence='c_v')\n",
    "        coherence_values.append(coherencemodel.get_coherence())\n",
    "\n",
    "    return model_list, coherence_values"
   ]
  },
  {
   "cell_type": "code",
   "execution_count": null,
   "metadata": {},
   "outputs": [],
   "source": [
    "model_list, coherence_values = compute_coherence_values(dictionary=id2word, corpus=corpus, texts=data_lemmatized, start=2, limit=40, step=6)"
   ]
  },
  {
   "cell_type": "code",
   "execution_count": null,
   "metadata": {},
   "outputs": [],
   "source": [
    "# Show graph to find optimal number of topics\n",
    "# Coherence value not going flat seems unlikely or probably wrong\n",
    "limit=40; start=2; step=6;\n",
    "x = range(start, limit, step)\n",
    "plt.plot(x, coherence_values)\n",
    "plt.xlabel(\"Num Topics\")\n",
    "plt.ylabel(\"Coherence score\")\n",
    "plt.legend((\"coherence_values\"), loc='best')\n",
    "plt.show()"
   ]
  },
  {
   "cell_type": "code",
   "execution_count": null,
   "metadata": {},
   "outputs": [],
   "source": [
    "# Print the coherence scores with increasing number of topics\n",
    "\n",
    "for m, cv in zip(x, coherence_values):\n",
    "    print(\"Num Topics =\", m, \" has Coherence Value of\", round(cv, 4))"
   ]
  },
  {
   "cell_type": "code",
   "execution_count": null,
   "metadata": {},
   "outputs": [],
   "source": [
    "# Select the model and print the topics\n",
    "optimal_model = model_list[2] # when number of topics is 8\n",
    "model_topics = optimal_model.show_topics(formatted=False)\n",
    "pprint(optimal_model.print_topics(num_words=10))"
   ]
  },
  {
   "cell_type": "code",
   "execution_count": null,
   "metadata": {},
   "outputs": [],
   "source": [
    "# Finding the dominant topic in each sentence\n",
    "def format_topics_sentences(ldamodel=lda_model, corpus=corpus, texts=data):\n",
    "    # Init output\n",
    "    sent_topics_df = pd.DataFrame()\n",
    "\n",
    "    # Get main topic in each document\n",
    "    for i, row in enumerate(ldamodel[corpus]):\n",
    "        row = sorted(row, key=lambda x: (x[1]), reverse=True)\n",
    "        # Get the Dominant topic, Perc Contribution and Keywords for each document\n",
    "        for j, (topic_num, prop_topic) in enumerate(row):\n",
    "            if j == 0:  # => dominant topic\n",
    "                wp = ldamodel.show_topic(topic_num)\n",
    "                topic_keywords = \", \".join([word for word, prop in wp])\n",
    "                sent_topics_df = sent_topics_df.append(pd.Series([int(topic_num), round(prop_topic,4), topic_keywords]), ignore_index=True)\n",
    "            else:\n",
    "                break\n",
    "    sent_topics_df.columns = ['Dominant_Topic', 'Perc_Contribution', 'Topic_Keywords']\n",
    "\n",
    "    # Add original text to the end of the output\n",
    "    contents = pd.Series(texts)\n",
    "    sent_topics_df = pd.concat([sent_topics_df, contents], axis=1)\n",
    "    return(sent_topics_df)\n",
    "\n",
    "df_topic_sents_keywords = format_topics_sentences(ldamodel=optimal_model, corpus=corpus, texts=data)\n",
    "\n",
    "# Format\n",
    "df_dominant_topic = df_topic_sents_keywords.reset_index()\n",
    "df_dominant_topic.columns = ['Document_No', 'Dominant_Topic', 'Topic_Perc_Contrib', 'Keywords', 'Text']\n",
    "\n",
    "# Show\n",
    "df_dominant_topic.head(10)"
   ]
  },
  {
   "cell_type": "code",
   "execution_count": null,
   "metadata": {},
   "outputs": [],
   "source": [
    "# Convert malletmodel to to gensim lda model for pyLDAvis\n",
    "model = gensim.models.wrappers.ldamallet.malletmodel2ldamodel(ldamallet)\n",
    "pyLDAvis.enable_notebook()\n",
    "vis = pyLDAvis.gensim.prepare(model, corpus, id2word)\n",
    "vis"
   ]
  },
  {
   "cell_type": "code",
   "execution_count": null,
   "metadata": {},
   "outputs": [],
   "source": []
  },
  {
   "cell_type": "code",
   "execution_count": null,
   "metadata": {},
   "outputs": [],
   "source": []
  }
 ],
 "metadata": {
  "kernelspec": {
   "display_name": "Python 3 (ipykernel)",
   "language": "python",
   "name": "python3"
  },
  "language_info": {
   "codemirror_mode": {
    "name": "ipython",
    "version": 3
   },
   "file_extension": ".py",
   "mimetype": "text/x-python",
   "name": "python",
   "nbconvert_exporter": "python",
   "pygments_lexer": "ipython3",
   "version": "3.8.2"
  }
 },
 "nbformat": 4,
 "nbformat_minor": 4
}
