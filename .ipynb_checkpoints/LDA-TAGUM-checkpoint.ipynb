{
 "cells": [
  {
   "cell_type": "code",
   "execution_count": 1,
   "metadata": {},
   "outputs": [],
   "source": [
    "import re\n",
    "import numpy as np\n",
    "import pandas as pd"
   ]
  },
  {
   "cell_type": "code",
   "execution_count": 2,
   "metadata": {},
   "outputs": [],
   "source": [
    "#Gensim\n",
    "import gensim\n",
    "import gensim.corpora as corpora\n",
    "from gensim.utils import simple_preprocess\n",
    "from gensim.models import CoherenceModel"
   ]
  },
  {
   "cell_type": "code",
   "execution_count": 3,
   "metadata": {},
   "outputs": [],
   "source": [
    "#spacy for lemmatization\n",
    "import spacy"
   ]
  },
  {
   "cell_type": "code",
   "execution_count": 4,
   "metadata": {},
   "outputs": [],
   "source": [
    "# Plotting tools\n",
    "import pyLDAvis\n",
    "import pyLDAvis.gensim\n",
    "import matplotlib.pyplot as plt\n",
    "%matplotlib inline"
   ]
  },
  {
   "cell_type": "code",
   "execution_count": 5,
   "metadata": {},
   "outputs": [
    {
     "name": "stderr",
     "output_type": "stream",
     "text": [
      "/Users/root1/Documents/lda/myvenv/lib/python3.9/site-packages/ipykernel/ipkernel.py:287: DeprecationWarning: `should_run_async` will not call `transform_cell` automatically in the future. Please pass the result to `transformed_cell` argument and any exception that happen during thetransform in `preprocessing_exc_tuple` in IPython 7.17 and above.\n",
      "  and should_run_async(code)\n"
     ]
    }
   ],
   "source": [
    "from pprint import pprint"
   ]
  },
  {
   "cell_type": "code",
   "execution_count": 6,
   "metadata": {},
   "outputs": [
    {
     "name": "stderr",
     "output_type": "stream",
     "text": [
      "/Users/root1/Documents/lda/myvenv/lib/python3.9/site-packages/ipykernel/ipkernel.py:287: DeprecationWarning: `should_run_async` will not call `transform_cell` automatically in the future. Please pass the result to `transformed_cell` argument and any exception that happen during thetransform in `preprocessing_exc_tuple` in IPython 7.17 and above.\n",
      "  and should_run_async(code)\n"
     ]
    }
   ],
   "source": [
    "import warnings\n",
    "warnings.filterwarnings(\"ignore\", category=DeprecationWarning)"
   ]
  },
  {
   "cell_type": "code",
   "execution_count": 7,
   "metadata": {},
   "outputs": [],
   "source": [
    "# NLTK for stopwords\n",
    "from nltk.corpus import stopwords\n",
    "stop_words = stopwords.words('english')\n",
    "stop_words.extend(['tagum', 'city', 'ordinance', 'municipal', 'municipality', 'thereof'])"
   ]
  },
  {
   "cell_type": "code",
   "execution_count": 8,
   "metadata": {},
   "outputs": [
    {
     "name": "stdout",
     "output_type": "stream",
     "text": [
      "                                     OR  \\\n",
      "0        CITY ORDINANCE No. 842, s-2018   \n",
      "1        CITY ORDINANCE NO. 825, s-2017   \n",
      "2        CITY ORDINANCE NO. 837, s-2018   \n",
      "3        CITY ORDINANCE NO. 844, s-2018   \n",
      "4        CITY ORDINANCE NO. 838, s-2018   \n",
      "..                                  ...   \n",
      "670  MUNICIPAL ORDINANCE NO. 05, s-1974   \n",
      "671  MUNICIPAL ORDINANCE NO. 04, s-1974   \n",
      "672  MUNICIPAL ORDINANCE NO. 01, s-1974   \n",
      "673    MUNICIPAL ORDINANCE NO. 03, 1973   \n",
      "674  MUNICIPAL ORDINANCE NO. 02, S-1973   \n",
      "\n",
      "                                                    OT  \n",
      "0    “AN ORDINANCE REGULATING THE PRACTICE OF TRADI...  \n",
      "1    “AN ORDINANCE RECONSTITUTING THE MEMBERS OF TH...  \n",
      "2    “AN ORDINANCE ESTABLISHING FUNERAL AND BURIAL ...  \n",
      "3    AN ORDINANCE AMENDING THE TITLE, SECTION 1, SE...  \n",
      "4    “AN ORDINANCE CREATING THE CITY HISTORICAL, CU...  \n",
      "..                                                 ...  \n",
      "670  “AN ORDINANCE AMENDING SECTION 10 OF MUNICIPAL...  \n",
      "671  “AN ORDINANCE REGULATING THE ELECTRICAL INSTAL...  \n",
      "672  “AN ORDINANCE PROHIBITING THE EMPLOYMENT OF “H...  \n",
      "673  “AN ORDINANCE REGULATING THE ESTABLISHMENT, OP...  \n",
      "674  “AN ORDINANCE PROHIBITING THE USE OF MUNICIPAL...  \n",
      "\n",
      "[675 rows x 2 columns]\n"
     ]
    },
    {
     "data": {
      "text/html": [
       "<div>\n",
       "<style scoped>\n",
       "    .dataframe tbody tr th:only-of-type {\n",
       "        vertical-align: middle;\n",
       "    }\n",
       "\n",
       "    .dataframe tbody tr th {\n",
       "        vertical-align: top;\n",
       "    }\n",
       "\n",
       "    .dataframe thead th {\n",
       "        text-align: right;\n",
       "    }\n",
       "</style>\n",
       "<table border=\"1\" class=\"dataframe\">\n",
       "  <thead>\n",
       "    <tr style=\"text-align: right;\">\n",
       "      <th></th>\n",
       "      <th>OR</th>\n",
       "      <th>OT</th>\n",
       "    </tr>\n",
       "  </thead>\n",
       "  <tbody>\n",
       "    <tr>\n",
       "      <th>0</th>\n",
       "      <td>CITY ORDINANCE No. 842, s-2018</td>\n",
       "      <td>“AN ORDINANCE REGULATING THE PRACTICE OF TRADI...</td>\n",
       "    </tr>\n",
       "    <tr>\n",
       "      <th>1</th>\n",
       "      <td>CITY ORDINANCE NO. 825, s-2017</td>\n",
       "      <td>“AN ORDINANCE RECONSTITUTING THE MEMBERS OF TH...</td>\n",
       "    </tr>\n",
       "    <tr>\n",
       "      <th>2</th>\n",
       "      <td>CITY ORDINANCE NO. 837, s-2018</td>\n",
       "      <td>“AN ORDINANCE ESTABLISHING FUNERAL AND BURIAL ...</td>\n",
       "    </tr>\n",
       "    <tr>\n",
       "      <th>3</th>\n",
       "      <td>CITY ORDINANCE NO. 844, s-2018</td>\n",
       "      <td>AN ORDINANCE AMENDING THE TITLE, SECTION 1, SE...</td>\n",
       "    </tr>\n",
       "    <tr>\n",
       "      <th>4</th>\n",
       "      <td>CITY ORDINANCE NO. 838, s-2018</td>\n",
       "      <td>“AN ORDINANCE CREATING THE CITY HISTORICAL, CU...</td>\n",
       "    </tr>\n",
       "  </tbody>\n",
       "</table>\n",
       "</div>"
      ],
      "text/plain": [
       "                               OR  \\\n",
       "0  CITY ORDINANCE No. 842, s-2018   \n",
       "1  CITY ORDINANCE NO. 825, s-2017   \n",
       "2  CITY ORDINANCE NO. 837, s-2018   \n",
       "3  CITY ORDINANCE NO. 844, s-2018   \n",
       "4  CITY ORDINANCE NO. 838, s-2018   \n",
       "\n",
       "                                                  OT  \n",
       "0  “AN ORDINANCE REGULATING THE PRACTICE OF TRADI...  \n",
       "1  “AN ORDINANCE RECONSTITUTING THE MEMBERS OF TH...  \n",
       "2  “AN ORDINANCE ESTABLISHING FUNERAL AND BURIAL ...  \n",
       "3  AN ORDINANCE AMENDING THE TITLE, SECTION 1, SE...  \n",
       "4  “AN ORDINANCE CREATING THE CITY HISTORICAL, CU...  "
      ]
     },
     "execution_count": 8,
     "metadata": {},
     "output_type": "execute_result"
    }
   ],
   "source": [
    "# Import Dataset\n",
    "df = pd.read_csv('tagum_ordinances.csv', header = 0)\n",
    "print(df)\n",
    "df.head()"
   ]
  },
  {
   "cell_type": "code",
   "execution_count": 9,
   "metadata": {},
   "outputs": [
    {
     "name": "stdout",
     "output_type": "stream",
     "text": [
      "['“AN ORDINANCE REGULATING THE PRACTICE OF TRADITIONAL HOME BIRTH DELIVERY OR DELIVERIES ATTENDED BY A TRADITIONAL BIRTH ATTENDANT OR MANANABANG”.']\n"
     ]
    }
   ],
   "source": [
    "# List all ordinance titles\n",
    "# Convert to list\n",
    "data = list(df.OT) \n",
    "print(data[:1])"
   ]
  },
  {
   "cell_type": "code",
   "execution_count": 10,
   "metadata": {},
   "outputs": [
    {
     "name": "stdout",
     "output_type": "stream",
     "text": [
      "['“AN ORDINANCE REGULATING THE PRACTICE OF TRADITIONAL HOME BIRTH DELIVERY OR '\n",
      " 'DELIVERIES ATTENDED BY A TRADITIONAL BIRTH ATTENDANT OR MANANABANG”.',\n",
      " '“AN ORDINANCE RECONSTITUTING THE MEMBERS OF THE CITY TRICYCLE FRANCHISING '\n",
      " 'AND REGULATORY BOARD (CTFRB) PRESCRIBING ITS FUNCTIONS AND PROCEDURES AND '\n",
      " 'PROVIDING MOTORIZED TRICYCLE FOR HIRE (MTH), TRICYCLE UTILITY VEHICLE (TUV) '\n",
      " 'AND TRICYCLE UTILITY FOR HIRE (TUH) GUIDELINES, REGULATIONS AND OPERATIONS, '\n",
      " 'THE COLLECTION OF FEES, CHARGES,ADMINISTRATIVE PROVISIONS AND PROVIDING '\n",
      " 'PENALTIES FOR VIOLATION THEREOF”.',\n",
      " '“AN ORDINANCE ESTABLISHING FUNERAL AND BURIAL ASSISTANCE FOR INDIGENT '\n",
      " 'TAGUMENYOS, PROVIDING ITS MANAGEMENT, PROCEDURES AND GUIDELINES AND '\n",
      " 'APPROPRIATING FUNDS THEREFOR”.',\n",
      " 'AN ORDINANCE AMENDING THE TITLE, SECTION 1, SECTION 2 AND SECTION 3 OF CITY '\n",
      " 'ORDINANCE NO. 820, S-2017 “AN ORDINANCE ENTERING INTO A LOAN AGREEMENT WITH '\n",
      " 'THE DEVELOPMENT BANK OF THE PHILIPPINES, IN THE AMOUNT OF SIX HUNDRED EIGHTY '\n",
      " 'MILLION PESOS (P 680,000,000.00) TO FUND THE ACQUISITION OF HEAVY '\n",
      " 'EQUIPMENT,ACQUISITION OF SERVICE VEHICLES, ACQUISITION OF continue reading : '\n",
      " 'CITY ORDINANCE NO. 844, s-2018',\n",
      " '“AN ORDINANCE CREATING THE CITY HISTORICAL, CULTURAL AND ARTS COUNCIL IN THE '\n",
      " 'CITY OF TAGUM”.']\n"
     ]
    }
   ],
   "source": [
    "# Remove new line characters\n",
    "data = [re.sub('\\s+', ' ', sent) for sent in data]\n",
    "\n",
    "# Remove distracting single quotes\n",
    "data = [re.sub(\"\\'\", \"\", sent) for sent in data]\n",
    "data = [re.sub(\"\\\"\", \"\", sent) for sent in data]\n",
    "\n",
    "# # Remove words ending with ING like amending, regulating\n",
    "# data = [re.sub('\\S*ING\\S*\\s?', '', sent) for sent in data]\n",
    "\n",
    "\n",
    "pprint(data[:5])"
   ]
  },
  {
   "cell_type": "code",
   "execution_count": 11,
   "metadata": {},
   "outputs": [
    {
     "name": "stdout",
     "output_type": "stream",
     "text": [
      "[['an', 'ordinance', 'regulating', 'the', 'practice', 'of', 'traditional', 'home', 'birth', 'delivery', 'or', 'deliveries', 'attended', 'by', 'traditional', 'birth', 'attendant', 'or', 'mananabang'], ['an', 'ordinance', 'reconstituting', 'the', 'members', 'of', 'the', 'city', 'tricycle', 'franchising', 'and', 'regulatory', 'board', 'ctfrb', 'prescribing', 'its', 'functions', 'and', 'procedures', 'and', 'providing', 'motorized', 'tricycle', 'for', 'hire', 'mth', 'tricycle', 'utility', 'vehicle', 'tuv', 'and', 'tricycle', 'utility', 'for', 'hire', 'tuh', 'guidelines', 'regulations', 'and', 'operations', 'the', 'collection', 'of', 'fees', 'charges', 'administrative', 'provisions', 'and', 'providing', 'penalties', 'for', 'violation', 'thereof'], ['an', 'ordinance', 'establishing', 'funeral', 'and', 'burial', 'assistance', 'for', 'indigent', 'tagumenyos', 'providing', 'its', 'management', 'procedures', 'and', 'guidelines', 'and', 'appropriating', 'funds', 'therefor'], ['an', 'ordinance', 'amending', 'the', 'title', 'section', 'section', 'and', 'section', 'of', 'city', 'ordinance', 'no', 'an', 'ordinance', 'entering', 'into', 'loan', 'agreement', 'with', 'the', 'development', 'bank', 'of', 'the', 'philippines', 'in', 'the', 'amount', 'of', 'six', 'hundred', 'eighty', 'million', 'pesos', 'to', 'fund', 'the', 'acquisition', 'of', 'heavy', 'equipment', 'acquisition', 'of', 'service', 'vehicles', 'acquisition', 'of', 'continue', 'reading', 'city', 'ordinance', 'no'], ['an', 'ordinance', 'creating', 'the', 'city', 'historical', 'cultural', 'and', 'arts', 'council', 'in', 'the', 'city', 'of', 'tagum']]\n"
     ]
    }
   ],
   "source": [
    "#preprocess using gensim\n",
    "def sent_to_words(sentences):\n",
    "    for sentence in sentences:\n",
    "        yield(gensim.utils.simple_preprocess(str(sentence), deacc=True))  # deacc=True removes punctuations\n",
    "\n",
    "data_words = list(sent_to_words(data))\n",
    "\n",
    "print(data_words[:5])"
   ]
  },
  {
   "cell_type": "code",
   "execution_count": 12,
   "metadata": {},
   "outputs": [
    {
     "name": "stdout",
     "output_type": "stream",
     "text": [
      "['an', 'ordinance', 'regulating', 'the', 'practice', 'of', 'traditional', 'home', 'birth', 'delivery', 'or', 'deliveries', 'attended', 'by', 'traditional', 'birth', 'attendant', 'or', 'mananabang']\n"
     ]
    }
   ],
   "source": [
    "# Build the bigram and trigram models\n",
    "bigram = gensim.models.Phrases(data_words, min_count=5, threshold=100) # higher threshold fewer phrases.\n",
    "trigram = gensim.models.Phrases(bigram[data_words], threshold=100)  \n",
    "\n",
    "# Faster way to get a sentence clubbed as a trigram/bigram\n",
    "bigram_mod = gensim.models.phrases.Phraser(bigram)\n",
    "trigram_mod = gensim.models.phrases.Phraser(trigram)\n",
    "\n",
    "# See trigram example\n",
    "print(trigram_mod[bigram_mod[data_words[0]]])"
   ]
  },
  {
   "cell_type": "code",
   "execution_count": 13,
   "metadata": {},
   "outputs": [],
   "source": [
    "# Define functions for stopwords, bigrams, trigrams and lemmatization\n",
    "def remove_stopwords(texts):\n",
    "    return [[word for word in simple_preprocess(str(doc)) if word not in stop_words] for doc in texts]\n",
    "\n",
    "def make_bigrams(texts):\n",
    "    return [bigram_mod[doc] for doc in texts]\n",
    "\n",
    "def make_trigrams(texts):\n",
    "    return [trigram_mod[bigram_mod[doc]] for doc in texts]\n",
    "\n",
    "def lemmatization(texts, allowed_postags=['NOUN', 'ADJ', 'VERB', 'ADV']):\n",
    "    \"\"\"https://spacy.io/api/annotation\"\"\"\n",
    "    texts_out = []\n",
    "    for sent in texts:\n",
    "        doc = nlp(\" \".join(sent)) \n",
    "        texts_out.append([token.lemma_ for token in doc if token.pos_ in allowed_postags])\n",
    "    return texts_out"
   ]
  },
  {
   "cell_type": "code",
   "execution_count": 14,
   "metadata": {},
   "outputs": [
    {
     "name": "stdout",
     "output_type": "stream",
     "text": [
      "[['regulate',\n",
      "  'practice',\n",
      "  'traditional',\n",
      "  'home',\n",
      "  'birth',\n",
      "  'delivery',\n",
      "  'delivery',\n",
      "  'attend',\n",
      "  'traditional',\n",
      "  'birth',\n",
      "  'attendant',\n",
      "  'mananabang'],\n",
      " ['reconstitute',\n",
      "  'member',\n",
      "  'tricycle',\n",
      "  'ctfrb',\n",
      "  'prescribing',\n",
      "  'function',\n",
      "  'procedure',\n",
      "  'provide',\n",
      "  'tricycle',\n",
      "  'utility',\n",
      "  'vehicle',\n",
      "  'tricycle',\n",
      "  'utility',\n",
      "  'hire',\n",
      "  'guideline',\n",
      "  'operation',\n",
      "  'collection',\n",
      "  'fee',\n",
      "  'charge',\n",
      "  'administrative',\n",
      "  'provision',\n",
      "  'provide',\n",
      "  'penalty',\n",
      "  'violation'],\n",
      " ['establish',\n",
      "  'funeral',\n",
      "  'burial_assistance',\n",
      "  'indigent',\n",
      "  'tagumenyos',\n",
      "  'provide',\n",
      "  'management',\n",
      "  'procedure',\n",
      "  'guideline',\n",
      "  'appropriate',\n",
      "  'fund'],\n",
      " ['amend',\n",
      "  'title',\n",
      "  'section',\n",
      "  'section',\n",
      "  'section',\n",
      "  'enter',\n",
      "  'loan',\n",
      "  'amount',\n",
      "  'acquisition',\n",
      "  'equipment',\n",
      "  'acquisition',\n",
      "  'service',\n",
      "  'vehicle',\n",
      "  'acquisition',\n",
      "  'continue_reading']]\n"
     ]
    }
   ],
   "source": [
    "# Remove Stop Words\n",
    "data_words_nostops = remove_stopwords(data_words)\n",
    "\n",
    "# Form Bigrams\n",
    "data_words_bigrams = make_bigrams(data_words_nostops)\n",
    "\n",
    "# Initialize spacy 'en' model, keeping only tagger component (for efficiency)\n",
    "# python3 -m spacy download en\n",
    "nlp = spacy.load('en', disable=['parser', 'ner'])\n",
    "\n",
    "# Do lemmatization keeping only noun, adj, vb, adv\n",
    "data_lemmatized = lemmatization(data_words_bigrams, allowed_postags=['NOUN', 'ADJ', 'VERB', 'ADV'])\n",
    "\n",
    "pprint(data_lemmatized[:4])"
   ]
  },
  {
   "cell_type": "code",
   "execution_count": 15,
   "metadata": {},
   "outputs": [
    {
     "name": "stdout",
     "output_type": "stream",
     "text": [
      "[[(0, 1), (1, 1), (2, 2), (3, 2), (4, 1), (5, 1), (6, 1), (7, 1), (8, 2)]]\n"
     ]
    }
   ],
   "source": [
    "# Create Dictionary\n",
    "id2word = corpora.Dictionary(data_lemmatized)\n",
    "\n",
    "# Create Corpus\n",
    "texts = data_lemmatized\n",
    "\n",
    "# Term Document Frequency\n",
    "corpus = [id2word.doc2bow(text) for text in texts]\n",
    "\n",
    "# View\n",
    "print(corpus[:1])"
   ]
  },
  {
   "cell_type": "code",
   "execution_count": 16,
   "metadata": {},
   "outputs": [
    {
     "data": {
      "text/plain": [
       "'attend'"
      ]
     },
     "execution_count": 16,
     "metadata": {},
     "output_type": "execute_result"
    }
   ],
   "source": [
    "id2word[0]"
   ]
  },
  {
   "cell_type": "code",
   "execution_count": 17,
   "metadata": {},
   "outputs": [
    {
     "data": {
      "text/plain": [
       "[[('attend', 1),\n",
       "  ('attendant', 1),\n",
       "  ('birth', 2),\n",
       "  ('delivery', 2),\n",
       "  ('home', 1),\n",
       "  ('mananabang', 1),\n",
       "  ('practice', 1),\n",
       "  ('regulate', 1),\n",
       "  ('traditional', 2)]]"
      ]
     },
     "execution_count": 17,
     "metadata": {},
     "output_type": "execute_result"
    }
   ],
   "source": [
    "# Human readable format of corpus (term-frequency)\n",
    "[[(id2word[id], freq) for id, freq in cp] for cp in corpus[:1]]"
   ]
  },
  {
   "cell_type": "code",
   "execution_count": 18,
   "metadata": {},
   "outputs": [],
   "source": [
    "# Build LDA model\n",
    "lda_model = gensim.models.ldamodel.LdaModel(corpus=corpus,\n",
    "                                           id2word=id2word,\n",
    "                                           num_topics=5, \n",
    "                                           random_state=100,\n",
    "                                           update_every=1,\n",
    "                                           chunksize=100,\n",
    "                                           passes=50,\n",
    "                                           alpha='auto',\n",
    "                                           per_word_topics=True)"
   ]
  },
  {
   "cell_type": "code",
   "execution_count": 19,
   "metadata": {},
   "outputs": [
    {
     "name": "stdout",
     "output_type": "stream",
     "text": [
      "[(0, '0.042*\"impose\" + 0.028*\"area\" + 0.022*\"mayor\" + 0.019*\"fee\" + 0.019*\"require\" + 0.017*\"declare\" + 0.014*\"year\" + 0.014*\"reclassify\" + 0.012*\"lot\" + 0.012*\"rate\"'), (1, '0.045*\"provide\" + 0.042*\"fund\" + 0.041*\"create\" + 0.029*\"purpose\" + 0.027*\"position\" + 0.025*\"office\" + 0.023*\"authorize\" + 0.021*\"duty\" + 0.021*\"amount\" + 0.016*\"appropriate\"'), (2, '0.036*\"vehicle\" + 0.030*\"fee\" + 0.021*\"provide\" + 0.021*\"utility\" + 0.018*\"violation\" + 0.018*\"penalty\" + 0.016*\"street\" + 0.015*\"charge\" + 0.015*\"parking\" + 0.014*\"service\"'), (3, '0.054*\"penalty\" + 0.048*\"provide\" + 0.047*\"violation\" + 0.040*\"public\" + 0.032*\"regulate\" + 0.018*\"market\" + 0.017*\"prohibit\" + 0.016*\"use\" + 0.014*\"operation\" + 0.013*\"road\"'), (4, '0.083*\"amend\" + 0.067*\"section\" + 0.025*\"regulation\" + 0.024*\"provide\" + 0.022*\"establish\" + 0.021*\"tax\" + 0.016*\"revise\" + 0.015*\"traffic\" + 0.015*\"adopt\" + 0.012*\"school\"')]\n"
     ]
    }
   ],
   "source": [
    "print(lda_model.print_topics())\n",
    "doc_lda = lda_model[corpus]"
   ]
  },
  {
   "cell_type": "code",
   "execution_count": 20,
   "metadata": {},
   "outputs": [
    {
     "name": "stdout",
     "output_type": "stream",
     "text": [
      "\n",
      "Perplexity:  -6.562933539203557\n",
      "\n",
      "Coherence Score:  0.38679551786907657\n"
     ]
    }
   ],
   "source": [
    "# Compute Perplexity\n",
    "print('\\nPerplexity: ', lda_model.log_perplexity(corpus))  # a measure of how good the model is. lower the better.\n",
    "\n",
    "# Compute Coherence Score\n",
    "coherence_model_lda = CoherenceModel(model=lda_model, texts=data_lemmatized, dictionary=id2word, coherence='c_v')\n",
    "coherence_lda = coherence_model_lda.get_coherence()\n",
    "print('\\nCoherence Score: ', coherence_lda)"
   ]
  },
  {
   "cell_type": "code",
   "execution_count": 21,
   "metadata": {},
   "outputs": [
    {
     "data": {
      "text/html": [
       "\n",
       "<link rel=\"stylesheet\" type=\"text/css\" href=\"https://cdn.rawgit.com/bmabey/pyLDAvis/files/ldavis.v1.0.0.css\">\n",
       "\n",
       "\n",
       "<div id=\"ldavis_el51761404877881123525438006936\"></div>\n",
       "<script type=\"text/javascript\">\n",
       "\n",
       "var ldavis_el51761404877881123525438006936_data = {\"mdsDat\": {\"x\": [0.00960571492995567, -0.19086989039123178, -0.14375906879924083, 0.2492649044638223, 0.0757583397966948], \"y\": [-0.2539956117458474, 0.053701213390793735, 0.12597695673647596, 0.14506608552588557, -0.07074864390730815], \"topics\": [1, 2, 3, 4, 5], \"cluster\": [1, 1, 1, 1, 1], \"Freq\": [25.721323121281227, 25.10323494982049, 18.93367876085284, 18.7230430694764, 11.518720098569037]}, \"tinfo\": {\"Term\": [\"amend\", \"section\", \"penalty\", \"create\", \"violation\", \"public\", \"impose\", \"fund\", \"regulate\", \"fee\", \"position\", \"vehicle\", \"area\", \"office\", \"regulation\", \"authorize\", \"duty\", \"amount\", \"provide\", \"mayor\", \"establish\", \"tax\", \"purpose\", \"require\", \"prohibit\", \"utility\", \"appropriate\", \"declare\", \"market\", \"revise\", \"public\", \"regulate\", \"prohibit\", \"road\", \"increase\", \"business\", \"medical\", \"new\", \"place\", \"territorial_jurisdiction\", \"series\", \"house\", \"support\", \"approve\", \"processing\", \"owner\", \"resolution\", \"stall\", \"gold\", \"sell\", \"structure\", \"death\", \"installation\", \"front\", \"transfer\", \"construct\", \"space\", \"use\", \"way\", \"corn\", \"penalty\", \"violation\", \"private\", \"market\", \"person\", \"provide\", \"operation\", \"establishment\", \"grant\", \"purpose\", \"government\", \"create\", \"position\", \"office\", \"authorize\", \"duty\", \"amount\", \"appropriate\", \"necessary\", \"peso\", \"legislative\", \"policy\", \"compensation\", \"officer\", \"certain\", \"take\", \"composition\", \"davao\", \"qualification\", \"appropriating\", \"staff\", \"property\", \"construction\", \"power\", \"department\", \"implement\", \"real\", \"providing\", \"salary\", \"assistance\", \"council\", \"fund\", \"local\", \"purpose\", \"include\", \"function\", \"provide\", \"grant\", \"guideline\", \"government\", \"service\", \"amend\", \"section\", \"regulation\", \"revise\", \"adopt\", \"traffic\", \"article\", \"terminal\", \"enact\", \"student\", \"appropriation\", \"barangay\", \"chapter\", \"repeal\", \"comprehensive\", \"part\", \"amending\", \"temporary\", \"official\", \"site\", \"educational\", \"issuance\", \"child\", \"clearance\", \"scholarship\", \"order\", \"plan\", \"tax\", \"make\", \"rename\", \"deserving\", \"amend\", \"establish\", \"rule\", \"code\", \"school\", \"implementation\", \"provide\", \"guideline\", \"declare\", \"market\", \"development\", \"operation\", \"fund\", \"impose\", \"area\", \"mayor\", \"require\", \"year\", \"reclassify\", \"lot\", \"rate\", \"cover\", \"zone\", \"monthly\", \"situate\", \"square_meter\", \"own\", \"operate\", \"continue_reading\", \"sale\", \"residential\", \"commercial\", \"unit\", \"garbage\", \"bound\", \"locate\", \"industrial\", \"close\", \"land\", \"clock\", \"town\", \"register\", \"agricultural\", \"building\", \"declare\", \"fee\", \"permit\", \"establishment\", \"portion\", \"government\", \"utility\", \"charge\", \"parking\", \"tricycle\", \"annual\", \"poblacion\", \"bus\", \"jeepney\", \"truck\", \"collection\", \"system\", \"know\", \"administrative\", \"supply\", \"letter\", \"highway\", \"disposal\", \"slaughter\", \"driver\", \"pass\", \"set\", \"ban\", \"schedule\", \"cargo\", \"vehicle\", \"payment\", \"former\", \"national\", \"motor\", \"regulating\", \"night\", \"street\", \"fee\", \"prescribing\", \"passenger\", \"service\", \"portion\", \"violation\", \"penalty\", \"provide\", \"enter\"], \"Freq\": [122.0, 85.0, 106.0, 70.0, 95.0, 69.0, 53.0, 81.0, 55.0, 47.0, 45.0, 31.0, 35.0, 43.0, 32.0, 38.0, 36.0, 35.0, 204.0, 27.0, 38.0, 29.0, 68.0, 24.0, 30.0, 16.0, 27.0, 34.0, 42.0, 20.0, 68.77182146225563, 55.18140131701573, 29.783799963548272, 23.14116813550172, 22.0393394571258, 17.85358705849127, 16.531589408131154, 16.245738156568237, 13.462191007499785, 12.858265650491623, 12.053483757754753, 11.479943993660642, 8.515032711909509, 8.251932462079912, 7.805326874686459, 8.084475363117427, 7.253437515419998, 7.1738290056634195, 6.8662625612282575, 6.818755327788838, 6.6549055631610905, 6.437334511779826, 6.421946551336619, 6.062254125764489, 6.001442947316266, 5.791367312797714, 5.420773698833533, 27.094408239878504, 5.401410871876694, 5.407298985336822, 92.5691133225449, 80.8159733420318, 11.322870578585867, 30.75805218374442, 12.40263692814691, 82.29063882043438, 24.41458115123641, 19.445435712957078, 16.92502080781432, 13.784232380860837, 10.210009536023907, 69.48712162886457, 44.63881204859442, 42.38377910849187, 37.86812390459445, 35.96188349805731, 34.70438871067785, 26.69490347218654, 20.753875489662004, 19.277569608572524, 18.70103086970736, 18.162037397924166, 16.409508076717263, 15.752387839602687, 16.17571509749001, 14.374699173883831, 12.951022708159446, 13.447876894714097, 12.188696723277125, 11.931604226697166, 11.32268410011104, 11.137454225199518, 11.411453645317012, 10.493304185452018, 9.721822950812182, 9.676989705239748, 8.284506505635798, 7.728425003737327, 7.6610806789308015, 7.583958160189878, 7.133215894097055, 70.50149332573592, 15.911009098958733, 47.94598989713607, 11.736230822168562, 15.85055228852896, 75.23826717094596, 25.698010121330757, 22.25060425991895, 20.195672230529485, 14.736857685139226, 17.354987455921492, 84.49243673370631, 31.857110955111548, 20.09282309748509, 18.835379404936226, 19.00481557436342, 14.883056546395574, 14.015871378911644, 12.775322081467111, 12.113575678790578, 12.323956645887852, 11.896954842755001, 10.475219722690902, 9.695320889430748, 9.28666305276721, 9.178118301116902, 8.783751872147217, 8.64432924857764, 8.19808088234569, 7.922442708815418, 7.527418026073982, 8.193734523362622, 7.552300960690948, 7.628815601932437, 7.294864858138941, 7.38614899478686, 6.311404284243434, 26.6993711806652, 6.868537794561033, 5.885375731096901, 5.566286920851308, 105.11826168758324, 28.20696308203911, 15.08665596882108, 13.878082025434052, 15.280015364772256, 12.935997234683512, 30.189581050541126, 14.80969363363368, 13.38461543224936, 11.685160808526954, 9.584959757739425, 10.124212669851008, 10.57918731439345, 53.06808076738313, 34.52093274125679, 27.015300619105616, 23.48223947795856, 18.04449790350343, 17.06355341419754, 15.620719410459648, 15.53006769673969, 14.713257899667264, 12.317819930053666, 12.792652369866822, 10.915611457642598, 10.568571046891897, 10.534169531414129, 10.355239264741357, 10.14990845787592, 10.133615393374518, 9.602520528534063, 9.695362001244506, 9.223314939525071, 8.772410900400832, 8.246752297111605, 7.9935996225400805, 7.902023330974632, 7.25564618492325, 7.1950997272844095, 7.122325902307307, 7.243859564076823, 6.478589741839771, 6.1352930562443015, 9.076041566186714, 20.983762314624585, 23.938116907483423, 11.862497945909535, 10.89273805384035, 9.15125667259086, 8.166440950227873, 16.313837799856287, 11.83012466959722, 11.722916596482325, 8.620530594549985, 8.461348993226519, 7.715680129618886, 7.434316428155816, 7.101638279187588, 6.913914185053939, 6.768523847449384, 6.2322535200207785, 6.144274842820016, 5.591194017298009, 5.444118009155268, 5.517293877035796, 5.247502414858135, 5.092206165920493, 5.020704506305047, 5.038800569966138, 4.566634437649241, 4.729361821517861, 4.53355539206258, 4.506854026869541, 4.32773666705198, 27.589654106121394, 4.350441639088511, 4.148646888329072, 3.995611572760963, 3.7172305696768695, 3.64004039883811, 3.7285660413834982, 12.314189357786923, 23.43822367640851, 8.798139949062456, 8.089671892810054, 10.994618807762029, 8.066876297176803, 14.098078681405688, 13.88789211395084, 16.34835930087373, 4.85838582411175], \"Total\": [122.0, 85.0, 106.0, 70.0, 95.0, 69.0, 53.0, 81.0, 55.0, 47.0, 45.0, 31.0, 35.0, 43.0, 32.0, 38.0, 36.0, 35.0, 204.0, 27.0, 38.0, 29.0, 68.0, 24.0, 30.0, 16.0, 27.0, 34.0, 42.0, 20.0, 69.44710673561086, 55.853055917980974, 30.447903771475968, 23.82193844558735, 22.73497306364835, 18.562811206897145, 17.209608258001875, 16.93076486375079, 14.12656229250964, 13.547342210070433, 12.753533755449267, 12.15256508747223, 9.197502337665854, 8.927633718206724, 8.469761913209632, 8.774467756873635, 7.922329793373694, 7.838918066892577, 7.530878053103876, 7.484149171129468, 7.334810346290189, 7.100914028537797, 7.087334522464703, 6.727692430305438, 6.67292569677929, 6.470726603144456, 6.086012642483574, 30.47736942367472, 6.076204245925398, 6.086967329290695, 106.98484067313429, 95.44048886914166, 13.771510889522537, 42.939049955193525, 16.228582769008074, 204.22868800337108, 41.70429424555288, 30.85620892048797, 43.104417359608576, 68.13993333511954, 38.89435836975708, 70.12016943334609, 45.272477938797756, 43.019922374858524, 38.50687427044448, 36.59088998627297, 35.34231895521835, 27.323281499371465, 21.381134995862947, 19.91658013773108, 19.328808299353923, 18.7982351982904, 17.036944820425052, 16.38223908811779, 16.843861506590343, 15.010284475353371, 13.57940880391592, 14.1194859832777, 12.816261721703816, 12.56034815895005, 11.951919473336494, 11.779565924577286, 12.091586083088885, 11.125381473726542, 10.35530783798968, 10.322773017890228, 8.918866560859337, 8.357713175229144, 8.289197585767194, 8.250848909553484, 7.762820406752504, 81.53641499506668, 18.337995352400064, 68.13993333511954, 13.524333491367374, 20.31839645628448, 204.22868800337108, 43.104417359608576, 40.8361081673755, 38.89435836975708, 26.231871627151136, 122.93560751495318, 85.13923891498386, 32.509635602586144, 20.738727301036864, 19.47961560728227, 19.689032429225783, 15.524630452269948, 14.686349943592202, 13.414685048208767, 12.755993165099598, 12.982634877028472, 12.542346311631709, 11.116143611291255, 10.34856224629146, 9.927743894530522, 9.837917835611043, 9.427931577113144, 9.310725894498356, 8.85020442685787, 8.563262061050455, 8.167940488566208, 8.897952389351303, 8.20576863351706, 8.296354055387337, 7.934207322704104, 8.038577704082828, 6.958519759694323, 29.46191715651546, 7.613313204137831, 6.530738909770208, 6.2063133823515475, 122.93560751495318, 38.20415035490729, 19.31325582063413, 18.442545062074476, 21.972702324785427, 18.68902219131275, 204.22868800337108, 40.8361081673755, 34.857776288934254, 42.939049955193525, 20.00560322007216, 41.70429424555288, 81.53641499506668, 53.76591930779612, 35.18183098468252, 27.69903449078618, 24.15401329823229, 18.715977448604356, 17.719107751557917, 16.27628636533976, 16.196348781755038, 15.371897014829274, 12.981817247593362, 13.486595736716918, 11.576576461534529, 11.224125264131779, 11.191527369146074, 11.02491600617403, 10.814154037295665, 10.800781882159109, 10.266155511731526, 10.371983895116552, 9.885456319675914, 9.443206305116474, 8.905557651641569, 8.653332452286756, 8.573362853602754, 7.917097717169328, 7.855671697081418, 7.781858650548468, 7.920512319022001, 7.1456917708956995, 6.7908118051352115, 11.245504989401342, 34.857776288934254, 47.90476077632731, 17.522025486635556, 30.85620892048797, 17.747479990376945, 38.89435836975708, 16.997020269098524, 12.507470427702161, 12.420400162684118, 9.29834732814448, 9.152870198071849, 8.394389135966243, 8.109919901478822, 7.776252242297494, 7.587977862573555, 7.441990971629082, 6.914022651678717, 6.8346927521213345, 6.266875388204075, 6.131826085764221, 6.223470237998448, 5.9289891981737455, 5.777139902723393, 5.696841105368542, 5.733138097004344, 5.241271564532677, 5.435737358267065, 5.211499330306562, 5.185183086728439, 5.002492022140922, 31.906951919634956, 5.0605834182236835, 4.842072020464674, 4.6769761500013844, 4.391303707652759, 4.318044676659919, 4.437375926811419, 20.527152976623665, 47.90476077632731, 14.958401786551942, 13.531208673129091, 26.231871627151136, 17.747479990376945, 95.44048886914166, 106.98484067313429, 204.22868800337108, 7.799690964352471], \"Category\": [\"Default\", \"Default\", \"Default\", \"Default\", \"Default\", \"Default\", \"Default\", \"Default\", \"Default\", \"Default\", \"Default\", \"Default\", \"Default\", \"Default\", \"Default\", \"Default\", \"Default\", \"Default\", \"Default\", \"Default\", \"Default\", \"Default\", \"Default\", \"Default\", \"Default\", \"Default\", \"Default\", \"Default\", \"Default\", \"Default\", \"Topic1\", \"Topic1\", \"Topic1\", \"Topic1\", \"Topic1\", \"Topic1\", \"Topic1\", \"Topic1\", \"Topic1\", \"Topic1\", \"Topic1\", \"Topic1\", \"Topic1\", \"Topic1\", \"Topic1\", \"Topic1\", \"Topic1\", \"Topic1\", \"Topic1\", \"Topic1\", \"Topic1\", \"Topic1\", \"Topic1\", \"Topic1\", \"Topic1\", \"Topic1\", \"Topic1\", \"Topic1\", \"Topic1\", \"Topic1\", \"Topic1\", \"Topic1\", \"Topic1\", \"Topic1\", \"Topic1\", \"Topic1\", \"Topic1\", \"Topic1\", \"Topic1\", \"Topic1\", \"Topic1\", \"Topic2\", \"Topic2\", \"Topic2\", \"Topic2\", \"Topic2\", \"Topic2\", \"Topic2\", \"Topic2\", \"Topic2\", \"Topic2\", \"Topic2\", \"Topic2\", \"Topic2\", \"Topic2\", \"Topic2\", \"Topic2\", \"Topic2\", \"Topic2\", \"Topic2\", \"Topic2\", \"Topic2\", \"Topic2\", \"Topic2\", \"Topic2\", \"Topic2\", \"Topic2\", \"Topic2\", \"Topic2\", \"Topic2\", \"Topic2\", \"Topic2\", \"Topic2\", \"Topic2\", \"Topic2\", \"Topic2\", \"Topic2\", \"Topic2\", \"Topic2\", \"Topic2\", \"Topic2\", \"Topic2\", \"Topic3\", \"Topic3\", \"Topic3\", \"Topic3\", \"Topic3\", \"Topic3\", \"Topic3\", \"Topic3\", \"Topic3\", \"Topic3\", \"Topic3\", \"Topic3\", \"Topic3\", \"Topic3\", \"Topic3\", \"Topic3\", \"Topic3\", \"Topic3\", \"Topic3\", \"Topic3\", \"Topic3\", \"Topic3\", \"Topic3\", \"Topic3\", \"Topic3\", \"Topic3\", \"Topic3\", \"Topic3\", \"Topic3\", \"Topic3\", \"Topic3\", \"Topic3\", \"Topic3\", \"Topic3\", \"Topic3\", \"Topic3\", \"Topic3\", \"Topic3\", \"Topic3\", \"Topic3\", \"Topic3\", \"Topic3\", \"Topic3\", \"Topic4\", \"Topic4\", \"Topic4\", \"Topic4\", \"Topic4\", \"Topic4\", \"Topic4\", \"Topic4\", \"Topic4\", \"Topic4\", \"Topic4\", \"Topic4\", \"Topic4\", \"Topic4\", \"Topic4\", \"Topic4\", \"Topic4\", \"Topic4\", \"Topic4\", \"Topic4\", \"Topic4\", \"Topic4\", \"Topic4\", \"Topic4\", \"Topic4\", \"Topic4\", \"Topic4\", \"Topic4\", \"Topic4\", \"Topic4\", \"Topic4\", \"Topic4\", \"Topic4\", \"Topic4\", \"Topic4\", \"Topic4\", \"Topic4\", \"Topic5\", \"Topic5\", \"Topic5\", \"Topic5\", \"Topic5\", \"Topic5\", \"Topic5\", \"Topic5\", \"Topic5\", \"Topic5\", \"Topic5\", \"Topic5\", \"Topic5\", \"Topic5\", \"Topic5\", \"Topic5\", \"Topic5\", \"Topic5\", \"Topic5\", \"Topic5\", \"Topic5\", \"Topic5\", \"Topic5\", \"Topic5\", \"Topic5\", \"Topic5\", \"Topic5\", \"Topic5\", \"Topic5\", \"Topic5\", \"Topic5\", \"Topic5\", \"Topic5\", \"Topic5\", \"Topic5\", \"Topic5\", \"Topic5\", \"Topic5\", \"Topic5\", \"Topic5\", \"Topic5\"], \"logprob\": [30.0, 29.0, 28.0, 27.0, 26.0, 25.0, 24.0, 23.0, 22.0, 21.0, 20.0, 19.0, 18.0, 17.0, 16.0, 15.0, 14.0, 13.0, 12.0, 11.0, 10.0, 9.0, 8.0, 7.0, 6.0, 5.0, 4.0, 3.0, 2.0, 1.0, -3.217900037765503, -3.4381000995635986, -4.054800033569336, -4.30709981918335, -4.355899810791016, -4.566500186920166, -4.643499851226807, -4.660900115966797, -4.848800182342529, -4.894700050354004, -4.959400177001953, -5.0081000328063965, -5.3069000244140625, -5.3383002281188965, -5.393899917602539, -5.358799934387207, -5.467199802398682, -5.478300094604492, -5.52209997177124, -5.5289998054504395, -5.553400039672852, -5.586599826812744, -5.589000225067139, -5.646599769592285, -5.656700134277344, -5.692399978637695, -5.758500099182129, -4.149400234222412, -5.7621002197265625, -5.761000156402588, -2.920799970626831, -3.05649995803833, -5.021900177001953, -4.022600173950195, -4.930799961090088, -3.0385000705718994, -4.253499984741211, -4.481100082397461, -4.619900226593018, -4.825200080871582, -5.125400066375732, -3.183300018310547, -3.6257998943328857, -3.6775999069213867, -3.790299892425537, -3.841900110244751, -3.877500057220459, -4.139900207519531, -4.39169979095459, -4.4654998779296875, -4.495800018310547, -4.525100231170654, -4.626500129699707, -4.667399883270264, -4.640900135040283, -4.758900165557861, -4.8632001876831055, -4.8256001472473145, -4.923900127410889, -4.945199966430664, -4.997600078582764, -5.014100074768066, -4.989799976348877, -5.073699951171875, -5.150000095367432, -5.154600143432617, -5.309999942779541, -5.379499912261963, -5.388199806213379, -5.398399829864502, -5.45959997177124, -3.168800115585327, -4.657400131225586, -3.55430006980896, -4.961699962615967, -4.661200046539307, -3.1036999225616455, -4.177999973297119, -4.322000026702881, -4.418900012969971, -4.734000205993652, -4.570499897003174, -2.705699920654297, -3.6810998916625977, -4.142000198364258, -4.206600189208984, -4.197700023651123, -4.4421000480651855, -4.502200126647949, -4.594799995422363, -4.6479997634887695, -4.630799770355225, -4.666100025177002, -4.793300151824951, -4.870699882507324, -4.91379976272583, -4.92549991607666, -4.969399929046631, -4.985400199890137, -5.038400173187256, -5.0725998878479, -5.123799800872803, -5.039000034332275, -5.120500087738037, -5.110400199890137, -5.155200004577637, -5.1427001953125, -5.300000190734863, -3.8577001094818115, -5.215400218963623, -5.369900226593018, -5.425600051879883, -2.487299919128418, -3.802799940109253, -4.428500175476074, -4.51200008392334, -4.415800094604492, -4.582300186157227, -3.734800100326538, -4.4471001625061035, -4.5482001304626465, -4.684000015258789, -4.882199764251709, -4.827400207519531, -4.7835001945495605, -3.159600019454956, -3.589600086212158, -3.8348000049591064, -3.974900007247925, -4.23829984664917, -4.2941999435424805, -4.382599830627441, -4.388400077819824, -4.442399978637695, -4.620100021362305, -4.582300186157227, -4.741000175476074, -4.7733001708984375, -4.776500225067139, -4.793700218200684, -4.813700199127197, -4.815299987792969, -4.869100093841553, -4.859499931335449, -4.90939998626709, -4.959499835968018, -5.021299839019775, -5.052499771118164, -5.064000129699707, -5.149400234222412, -5.157800197601318, -5.167900085449219, -5.151000022888184, -5.262700080871582, -5.3171000480651855, -4.92549991607666, -4.087399959564209, -3.955699920654297, -4.657800197601318, -4.743100166320801, -4.917300224304199, -5.031099796295166, -3.8533999919891357, -4.174699783325195, -4.183800220489502, -4.491199970245361, -4.509900093078613, -4.602099895477295, -4.6392998695373535, -4.685100078582764, -4.7118000984191895, -4.733099937438965, -4.8155999183654785, -4.829899787902832, -4.924200057983398, -4.950799942016602, -4.9375, -4.987599849700928, -5.0177001953125, -5.031799793243408, -5.028200149536133, -5.1265997886657715, -5.091599941253662, -5.133900165557861, -5.139800071716309, -5.180300235748291, -3.327899932861328, -5.175099849700928, -5.222599983215332, -5.260200023651123, -5.332399845123291, -5.353400230407715, -5.329400062561035, -4.1346001625061035, -3.490999937057495, -4.470799922943115, -4.554800033569336, -4.248000144958496, -4.557600021362305, -3.999300003051758, -4.014400005340576, -3.8512001037597656, -5.064700126647949], \"loglift\": [30.0, 29.0, 28.0, 27.0, 26.0, 25.0, 24.0, 23.0, 22.0, 21.0, 20.0, 19.0, 18.0, 17.0, 16.0, 15.0, 14.0, 13.0, 12.0, 11.0, 10.0, 9.0, 8.0, 7.0, 6.0, 5.0, 4.0, 3.0, 2.0, 1.0, 1.3481, 1.3458, 1.3358, 1.3289, 1.3268, 1.3189, 1.3177, 1.3165, 1.3097, 1.3056, 1.3014, 1.3009, 1.2808, 1.2791, 1.2762, 1.2759, 1.2696, 1.2692, 1.2655, 1.2647, 1.2606, 1.2597, 1.2593, 1.2537, 1.2518, 1.2469, 1.2421, 1.2402, 1.2401, 1.2394, 1.2131, 1.1915, 1.1621, 1.0242, 1.089, 0.4489, 0.8224, 0.8961, 0.423, -0.2402, 0.0204, 1.3731, 1.3681, 1.3673, 1.3654, 1.3648, 1.364, 1.3589, 1.3524, 1.3496, 1.3492, 1.3477, 1.3447, 1.343, 1.3417, 1.3389, 1.3348, 1.3334, 1.332, 1.3308, 1.3281, 1.3261, 1.3243, 1.3237, 1.319, 1.3176, 1.3084, 1.3039, 1.3034, 1.2979, 1.2976, 1.2368, 1.2402, 1.0307, 1.2404, 1.1339, 0.3836, 0.865, 0.775, 0.7268, 0.8055, -0.5756, 1.6566, 1.644, 1.6326, 1.6306, 1.6289, 1.622, 1.6175, 1.6154, 1.6126, 1.6122, 1.6114, 1.6048, 1.599, 1.5975, 1.5948, 1.5935, 1.59, 1.5877, 1.5864, 1.5826, 1.5818, 1.5812, 1.5803, 1.5802, 1.5796, 1.5666, 1.5658, 1.5613, 1.5602, 1.5554, 1.5077, 1.3609, 1.4172, 1.3799, 1.301, 1.2963, -0.2475, 0.6499, 0.7071, 0.3628, 0.9284, 0.2486, -0.3779, 1.6624, 1.6565, 1.6504, 1.6472, 1.6389, 1.6377, 1.6343, 1.6334, 1.6316, 1.6229, 1.6226, 1.6166, 1.6152, 1.6149, 1.6127, 1.612, 1.6117, 1.6086, 1.608, 1.6061, 1.6017, 1.5986, 1.5961, 1.5939, 1.5882, 1.5876, 1.5869, 1.5861, 1.5774, 1.5739, 1.4611, 1.1679, 0.9817, 1.2853, 0.6342, 1.0131, 0.1146, 2.1202, 2.1055, 2.1034, 2.0855, 2.0826, 2.0769, 2.0742, 2.0704, 2.0682, 2.0663, 2.0574, 2.0547, 2.0471, 2.0422, 2.0408, 2.0391, 2.035, 2.0349, 2.0321, 2.0234, 2.022, 2.0218, 2.021, 2.0163, 2.0158, 2.01, 2.0066, 2.0037, 1.9945, 1.9904, 1.9872, 1.6502, 1.4463, 1.6305, 1.6468, 1.2916, 1.3727, 0.2487, 0.1195, -0.3639, 1.6878]}, \"token.table\": {\"Topic\": [5, 3, 4, 2, 3, 3, 2, 5, 2, 2, 3, 1, 4, 3, 2, 2, 5, 3, 4, 2, 4, 5, 1, 5, 2, 3, 5, 3, 3, 4, 4, 2, 3, 5, 4, 2, 2, 3, 1, 2, 4, 1, 2, 4, 2, 2, 1, 3, 4, 2, 3, 2, 3, 5, 5, 2, 3, 3, 2, 5, 2, 3, 1, 4, 4, 5, 5, 1, 2, 5, 2, 3, 4, 1, 1, 2, 4, 1, 2, 2, 3, 5, 5, 1, 2, 2, 3, 4, 2, 3, 1, 4, 1, 3, 5, 5, 4, 2, 5, 2, 4, 4, 4, 3, 1, 3, 4, 1, 4, 5, 5, 2, 1, 5, 2, 2, 3, 4, 1, 2, 3, 5, 3, 4, 1, 5, 3, 5, 1, 5, 5, 1, 5, 3, 4, 1, 2, 2, 1, 3, 5, 2, 4, 5, 2, 2, 3, 4, 5, 1, 3, 1, 1, 2, 1, 2, 3, 5, 2, 1, 1, 2, 4, 2, 4, 2, 4, 4, 1, 5, 3, 3, 3, 4, 4, 1, 3, 1, 2, 3, 2, 4, 5, 3, 1, 3, 3, 1, 1, 2, 5, 5, 3, 4, 5, 1, 4, 2, 1, 4, 5, 1, 3, 5, 1, 5, 2, 3, 5, 3, 3, 1, 4, 3, 1, 5, 5, 4, 1, 4, 5, 4, 5, 1, 5, 1, 4, 4], \"Freq\": [0.9574149202477513, 0.9753785897549759, 0.8835467941348044, 0.1382837759022114, 0.8541056746901292, 0.9546102372919238, 0.9903141908811331, 0.8740427676648672, 0.9881682769553539, 0.9553875297198058, 0.9243115988136468, 0.8960941109943905, 0.9948316793187459, 0.966206573877368, 0.9695971999604753, 0.9868367848586058, 0.9594167979497522, 0.9567587835516278, 0.8983154467059514, 0.1778488384367762, 0.800319772965493, 0.8631404606996882, 0.9696807126558488, 0.7996014750840353, 0.9499009472228103, 0.8995925520287873, 0.9594266138276697, 0.9749239050347358, 0.9642790009432041, 0.899528032355951, 0.8841623850138323, 0.21688980487978632, 0.7591143170792521, 0.9406085047248682, 0.964135704521129, 0.9391355180547458, 0.9573318093385013, 0.9065503799869734, 0.9272528987833134, 0.9097234990027023, 0.9247140336185498, 0.8214271129631054, 0.9017341163671694, 0.9758066935739613, 0.9840250038983307, 0.9207134038304543, 0.844961645203231, 0.3729440424496299, 0.6024480685724791, 0.9656883364986804, 0.9667574984308356, 0.4998599587322981, 0.4998599587322981, 0.8654801656513386, 0.8721227215183565, 0.9838514453599068, 0.9794390656002824, 0.96908723188666, 0.25642041577554214, 0.6410510394388554, 0.2617516659080866, 0.7329046645426424, 0.6157593776008025, 0.3564922712425698, 0.5009940475865997, 0.48011929560382477, 0.8260926279275242, 0.8918362517543923, 0.7874637171503365, 0.19686592928758412, 0.8707765727043042, 0.13490904647531474, 0.9530661206801827, 0.9295064865795997, 0.25710669668163644, 0.5142133933632729, 0.20568535734530913, 0.3943911330055471, 0.6031864387143662, 0.5387389001377973, 0.36732197736668, 0.073464395473336, 0.8433140680269929, 0.9051586986635126, 0.9687319466067078, 0.2675367362089258, 0.6955955141432072, 0.9857545575774233, 0.8872895664440424, 0.07394079720367021, 0.9676721383574665, 0.9331227590161063, 0.8465806123560018, 0.8990832553312001, 0.9001765608791324, 0.8778741367909677, 0.8910759346779573, 0.9829886926156273, 0.9640923424628894, 0.8725054016280973, 0.10906317520351216, 0.9244993237126693, 0.9830252209172167, 0.9194420106341487, 0.7219535605083995, 0.2794658943903482, 0.9747632181540946, 0.9878202772044846, 0.9639200472664741, 0.9108912219004959, 0.8552534525964636, 0.9821742393031664, 0.9450252323955202, 0.9014336549290956, 0.9762918592467154, 0.976667469809116, 0.9039339222179162, 0.9070363887035449, 0.5754803056656265, 0.07193503820820331, 0.23978346069401105, 0.09591338427760442, 0.8708008129901724, 0.9828863958574505, 0.91173621257347, 0.9661524462032094, 0.9148277257838067, 0.953966978897765, 0.3695161401160884, 0.5912258241857414, 0.7904226982200485, 0.8692820348645327, 0.13085966116240277, 0.28535513795557554, 0.6848523310933813, 0.7394361030044194, 0.18485902575110486, 0.9539790400062378, 0.9202521980094918, 0.8622523477986891, 0.9530175299741037, 0.9575366948082981, 0.5071142497346095, 0.4507682219863196, 0.9939813778435961, 0.8988455832832143, 0.13370412351124708, 0.26740824702249416, 0.601668555800612, 0.7987504122273815, 0.14522734767770573, 0.9445365857950527, 0.9852895038411291, 0.9338204879900733, 0.4015106829587353, 0.3672353807549409, 0.14689415230197633, 0.07834354789438738, 0.9571996349085842, 0.9935619098242203, 0.20545954941203848, 0.7044327408412747, 0.08805409260515934, 0.9363104671683233, 0.9878769724954168, 0.8969749626155631, 0.959416254946884, 0.8396667799803392, 0.9847267816601893, 0.926345209353894, 0.9843235522902753, 0.9187321806761859, 0.9663178093733387, 0.9522227099909419, 0.9740744710688066, 0.8835784652457742, 0.9643793329111411, 0.9654965758783748, 0.20711163550821046, 0.7766686331557893, 0.9651115101582625, 0.9258588969857958, 0.9642861045345885, 0.8822557459482026, 0.2730660940703657, 0.6826652351759142, 0.9866191085391137, 0.9353100586240182, 0.9409156889456383, 0.5718234753967896, 0.419337215290979, 0.9198384083799847, 0.9342234236165184, 0.9501945619717264, 0.8776793853857257, 0.8215559667256302, 0.9800318279725547, 0.9203542597939914, 0.8929803756419242, 0.3897276942940117, 0.5845915414410175, 0.9543532374413022, 0.9407342764052277, 0.8154177776842215, 0.9785265248743632, 0.8678016116338881, 0.9326938488732681, 0.9164373063899199, 0.06788424491777185, 0.9666271031905298, 0.9532661317326391, 0.9595978161927906, 0.8837812149081206, 0.9650042513921098, 0.8991558234937219, 0.9679139402287722, 0.9225119164522528, 0.9104283817517346, 0.8859032295295961, 0.09843369216995512, 0.9413414673093519, 0.1253645290241113, 0.8775517031687791, 0.8486964071512564, 0.14668826790268627, 0.8228821477409877, 0.9617451212168592, 0.9243698144205984], \"Term\": [\"administrative\", \"adopt\", \"agricultural\", \"amend\", \"amend\", \"amending\", \"amount\", \"annual\", \"appropriate\", \"appropriating\", \"appropriation\", \"approve\", \"area\", \"article\", \"assistance\", \"authorize\", \"ban\", \"barangay\", \"bound\", \"building\", \"building\", \"bus\", \"business\", \"cargo\", \"certain\", \"chapter\", \"charge\", \"child\", \"clearance\", \"clock\", \"close\", \"code\", \"code\", \"collection\", \"commercial\", \"compensation\", \"composition\", \"comprehensive\", \"construct\", \"construction\", \"continue_reading\", \"corn\", \"council\", \"cover\", \"create\", \"davao\", \"death\", \"declare\", \"declare\", \"department\", \"deserving\", \"development\", \"development\", \"disposal\", \"driver\", \"duty\", \"educational\", \"enact\", \"enter\", \"enter\", \"establish\", \"establish\", \"establishment\", \"establishment\", \"fee\", \"fee\", \"former\", \"front\", \"function\", \"function\", \"fund\", \"fund\", \"garbage\", \"gold\", \"government\", \"government\", \"government\", \"grant\", \"grant\", \"guideline\", \"guideline\", \"guideline\", \"highway\", \"house\", \"implement\", \"implementation\", \"implementation\", \"impose\", \"include\", \"include\", \"increase\", \"industrial\", \"installation\", \"issuance\", \"jeepney\", \"know\", \"land\", \"legislative\", \"letter\", \"local\", \"local\", \"locate\", \"lot\", \"make\", \"market\", \"market\", \"mayor\", \"medical\", \"monthly\", \"motor\", \"national\", \"necessary\", \"new\", \"night\", \"office\", \"officer\", \"official\", \"operate\", \"operation\", \"operation\", \"operation\", \"operation\", \"order\", \"own\", \"owner\", \"parking\", \"part\", \"pass\", \"passenger\", \"passenger\", \"payment\", \"penalty\", \"penalty\", \"permit\", \"permit\", \"person\", \"person\", \"peso\", \"place\", \"plan\", \"poblacion\", \"policy\", \"portion\", \"portion\", \"position\", \"power\", \"prescribing\", \"prescribing\", \"prescribing\", \"private\", \"private\", \"processing\", \"prohibit\", \"property\", \"provide\", \"provide\", \"provide\", \"provide\", \"providing\", \"public\", \"purpose\", \"purpose\", \"purpose\", \"qualification\", \"rate\", \"real\", \"reclassify\", \"register\", \"regulate\", \"regulating\", \"regulation\", \"rename\", \"repeal\", \"require\", \"residential\", \"resolution\", \"revise\", \"road\", \"rule\", \"rule\", \"salary\", \"sale\", \"schedule\", \"scholarship\", \"school\", \"school\", \"section\", \"sell\", \"series\", \"service\", \"service\", \"set\", \"site\", \"situate\", \"slaughter\", \"space\", \"square_meter\", \"staff\", \"stall\", \"street\", \"street\", \"structure\", \"student\", \"supply\", \"support\", \"system\", \"take\", \"tax\", \"tax\", \"temporary\", \"terminal\", \"territorial_jurisdiction\", \"town\", \"traffic\", \"transfer\", \"tricycle\", \"truck\", \"unit\", \"use\", \"use\", \"utility\", \"vehicle\", \"vehicle\", \"violation\", \"violation\", \"way\", \"year\", \"zone\"]}, \"R\": 30, \"lambda.step\": 0.01, \"plot.opts\": {\"xlab\": \"PC1\", \"ylab\": \"PC2\"}, \"topic.order\": [4, 2, 5, 1, 3]};\n",
       "\n",
       "function LDAvis_load_lib(url, callback){\n",
       "  var s = document.createElement('script');\n",
       "  s.src = url;\n",
       "  s.async = true;\n",
       "  s.onreadystatechange = s.onload = callback;\n",
       "  s.onerror = function(){console.warn(\"failed to load library \" + url);};\n",
       "  document.getElementsByTagName(\"head\")[0].appendChild(s);\n",
       "}\n",
       "\n",
       "if(typeof(LDAvis) !== \"undefined\"){\n",
       "   // already loaded: just create the visualization\n",
       "   !function(LDAvis){\n",
       "       new LDAvis(\"#\" + \"ldavis_el51761404877881123525438006936\", ldavis_el51761404877881123525438006936_data);\n",
       "   }(LDAvis);\n",
       "}else if(typeof define === \"function\" && define.amd){\n",
       "   // require.js is available: use it to load d3/LDAvis\n",
       "   require.config({paths: {d3: \"https://cdnjs.cloudflare.com/ajax/libs/d3/3.5.5/d3.min\"}});\n",
       "   require([\"d3\"], function(d3){\n",
       "      window.d3 = d3;\n",
       "      LDAvis_load_lib(\"https://cdn.rawgit.com/bmabey/pyLDAvis/files/ldavis.v1.0.0.js\", function(){\n",
       "        new LDAvis(\"#\" + \"ldavis_el51761404877881123525438006936\", ldavis_el51761404877881123525438006936_data);\n",
       "      });\n",
       "    });\n",
       "}else{\n",
       "    // require.js not available: dynamically load d3 & LDAvis\n",
       "    LDAvis_load_lib(\"https://cdnjs.cloudflare.com/ajax/libs/d3/3.5.5/d3.min.js\", function(){\n",
       "         LDAvis_load_lib(\"https://cdn.rawgit.com/bmabey/pyLDAvis/files/ldavis.v1.0.0.js\", function(){\n",
       "                 new LDAvis(\"#\" + \"ldavis_el51761404877881123525438006936\", ldavis_el51761404877881123525438006936_data);\n",
       "            })\n",
       "         });\n",
       "}\n",
       "</script>"
      ],
      "text/plain": [
       "PreparedData(topic_coordinates=              x         y  topics  cluster       Freq\n",
       "topic                                                \n",
       "3      0.009606 -0.253996       1        1  25.721323\n",
       "1     -0.190870  0.053701       2        1  25.103235\n",
       "4     -0.143759  0.125977       3        1  18.933679\n",
       "0      0.249265  0.145066       4        1  18.723043\n",
       "2      0.075758 -0.070749       5        1  11.518720, topic_info=         Term        Freq       Total Category  logprob  loglift\n",
       "38      amend  122.000000  122.000000  Default  30.0000  30.0000\n",
       "44    section   85.000000   85.000000  Default  29.0000  29.0000\n",
       "19    penalty  106.000000  106.000000  Default  28.0000  28.0000\n",
       "47     create   70.000000   70.000000  Default  27.0000  27.0000\n",
       "28  violation   95.000000   95.000000  Default  26.0000  26.0000\n",
       "..        ...         ...         ...      ...      ...      ...\n",
       "65    portion    8.066876   17.747480   Topic5  -4.5576   1.3727\n",
       "28  violation   14.098079   95.440489   Topic5  -3.9993   0.2487\n",
       "19    penalty   13.887892  106.984841   Topic5  -4.0144   0.1195\n",
       "22    provide   16.348359  204.228688   Topic5  -3.8512  -0.3639\n",
       "41      enter    4.858386    7.799691   Topic5  -5.0647   1.6878\n",
       "\n",
       "[233 rows x 6 columns], token_table=      Topic      Freq            Term\n",
       "term                                 \n",
       "9         5  0.957415  administrative\n",
       "257       3  0.975379           adopt\n",
       "577       4  0.883547    agricultural\n",
       "38        2  0.138284           amend\n",
       "38        3  0.854106           amend\n",
       "...     ...       ...             ...\n",
       "28        1  0.848696       violation\n",
       "28        5  0.146688       violation\n",
       "425       1  0.822882             way\n",
       "79        4  0.961745            year\n",
       "412       4  0.924370            zone\n",
       "\n",
       "[228 rows x 3 columns], R=30, lambda_step=0.01, plot_opts={'xlab': 'PC1', 'ylab': 'PC2'}, topic_order=[4, 2, 5, 1, 3])"
      ]
     },
     "execution_count": 21,
     "metadata": {},
     "output_type": "execute_result"
    }
   ],
   "source": [
    "# Visualize the topics\n",
    "pyLDAvis.enable_notebook()\n",
    "vis = pyLDAvis.gensim.prepare(lda_model, corpus, id2word)\n",
    "vis"
   ]
  },
  {
   "cell_type": "code",
   "execution_count": 22,
   "metadata": {},
   "outputs": [
    {
     "ename": "CalledProcessError",
     "evalue": "Command '/Users/root1/Documents/lda/mallet/bin/mallet import-file --preserve-case --keep-sequence --remove-stopwords --token-regex \"\\S+\" --input /var/folders/7k/y671ljdx4ms4bc3_h8csf0340000gn/T/93d3e6_corpus.txt --output /var/folders/7k/y671ljdx4ms4bc3_h8csf0340000gn/T/93d3e6_corpus.mallet' returned non-zero exit status 127.",
     "output_type": "error",
     "traceback": [
      "\u001b[0;31m---------------------------------------------------------------------------\u001b[0m",
      "\u001b[0;31mCalledProcessError\u001b[0m                        Traceback (most recent call last)",
      "\u001b[0;32m<ipython-input-22-2bd5e3eb5a96>\u001b[0m in \u001b[0;36m<module>\u001b[0;34m\u001b[0m\n\u001b[1;32m      1\u001b[0m \u001b[0mmallet_path\u001b[0m \u001b[0;34m=\u001b[0m \u001b[0;34m'/Users/root1/Documents/lda/mallet/bin/mallet'\u001b[0m \u001b[0;31m# update this path\u001b[0m\u001b[0;34m\u001b[0m\u001b[0;34m\u001b[0m\u001b[0m\n\u001b[0;32m----> 2\u001b[0;31m \u001b[0mldamallet\u001b[0m \u001b[0;34m=\u001b[0m \u001b[0mgensim\u001b[0m\u001b[0;34m.\u001b[0m\u001b[0mmodels\u001b[0m\u001b[0;34m.\u001b[0m\u001b[0mwrappers\u001b[0m\u001b[0;34m.\u001b[0m\u001b[0mLdaMallet\u001b[0m\u001b[0;34m(\u001b[0m\u001b[0mmallet_path\u001b[0m\u001b[0;34m,\u001b[0m \u001b[0mcorpus\u001b[0m\u001b[0;34m=\u001b[0m\u001b[0mcorpus\u001b[0m\u001b[0;34m,\u001b[0m \u001b[0mnum_topics\u001b[0m\u001b[0;34m=\u001b[0m\u001b[0;36m20\u001b[0m\u001b[0;34m,\u001b[0m \u001b[0mid2word\u001b[0m\u001b[0;34m=\u001b[0m\u001b[0mid2word\u001b[0m\u001b[0;34m)\u001b[0m\u001b[0;34m\u001b[0m\u001b[0;34m\u001b[0m\u001b[0m\n\u001b[0m",
      "\u001b[0;32m~/Documents/lda/myvenv/lib/python3.9/site-packages/gensim/models/wrappers/ldamallet.py\u001b[0m in \u001b[0;36m__init__\u001b[0;34m(self, mallet_path, corpus, num_topics, alpha, id2word, workers, prefix, optimize_interval, iterations, topic_threshold, random_seed)\u001b[0m\n\u001b[1;32m    129\u001b[0m         \u001b[0mself\u001b[0m\u001b[0;34m.\u001b[0m\u001b[0mrandom_seed\u001b[0m \u001b[0;34m=\u001b[0m \u001b[0mrandom_seed\u001b[0m\u001b[0;34m\u001b[0m\u001b[0;34m\u001b[0m\u001b[0m\n\u001b[1;32m    130\u001b[0m         \u001b[0;32mif\u001b[0m \u001b[0mcorpus\u001b[0m \u001b[0;32mis\u001b[0m \u001b[0;32mnot\u001b[0m \u001b[0;32mNone\u001b[0m\u001b[0;34m:\u001b[0m\u001b[0;34m\u001b[0m\u001b[0;34m\u001b[0m\u001b[0m\n\u001b[0;32m--> 131\u001b[0;31m             \u001b[0mself\u001b[0m\u001b[0;34m.\u001b[0m\u001b[0mtrain\u001b[0m\u001b[0;34m(\u001b[0m\u001b[0mcorpus\u001b[0m\u001b[0;34m)\u001b[0m\u001b[0;34m\u001b[0m\u001b[0;34m\u001b[0m\u001b[0m\n\u001b[0m\u001b[1;32m    132\u001b[0m \u001b[0;34m\u001b[0m\u001b[0m\n\u001b[1;32m    133\u001b[0m     \u001b[0;32mdef\u001b[0m \u001b[0mfinferencer\u001b[0m\u001b[0;34m(\u001b[0m\u001b[0mself\u001b[0m\u001b[0;34m)\u001b[0m\u001b[0;34m:\u001b[0m\u001b[0;34m\u001b[0m\u001b[0;34m\u001b[0m\u001b[0m\n",
      "\u001b[0;32m~/Documents/lda/myvenv/lib/python3.9/site-packages/gensim/models/wrappers/ldamallet.py\u001b[0m in \u001b[0;36mtrain\u001b[0;34m(self, corpus)\u001b[0m\n\u001b[1;32m    270\u001b[0m \u001b[0;34m\u001b[0m\u001b[0m\n\u001b[1;32m    271\u001b[0m         \"\"\"\n\u001b[0;32m--> 272\u001b[0;31m         \u001b[0mself\u001b[0m\u001b[0;34m.\u001b[0m\u001b[0mconvert_input\u001b[0m\u001b[0;34m(\u001b[0m\u001b[0mcorpus\u001b[0m\u001b[0;34m,\u001b[0m \u001b[0minfer\u001b[0m\u001b[0;34m=\u001b[0m\u001b[0;32mFalse\u001b[0m\u001b[0;34m)\u001b[0m\u001b[0;34m\u001b[0m\u001b[0;34m\u001b[0m\u001b[0m\n\u001b[0m\u001b[1;32m    273\u001b[0m         \u001b[0mcmd\u001b[0m \u001b[0;34m=\u001b[0m \u001b[0mself\u001b[0m\u001b[0;34m.\u001b[0m\u001b[0mmallet_path\u001b[0m \u001b[0;34m+\u001b[0m \u001b[0;34m' train-topics --input %s --num-topics %s  --alpha %s --optimize-interval %s '\u001b[0m\u001b[0;31m\\\u001b[0m\u001b[0;34m\u001b[0m\u001b[0;34m\u001b[0m\u001b[0m\n\u001b[1;32m    274\u001b[0m             \u001b[0;34m'--num-threads %s --output-state %s --output-doc-topics %s --output-topic-keys %s '\u001b[0m\u001b[0;31m\\\u001b[0m\u001b[0;34m\u001b[0m\u001b[0;34m\u001b[0m\u001b[0m\n",
      "\u001b[0;32m~/Documents/lda/myvenv/lib/python3.9/site-packages/gensim/models/wrappers/ldamallet.py\u001b[0m in \u001b[0;36mconvert_input\u001b[0;34m(self, corpus, infer, serialize_corpus)\u001b[0m\n\u001b[1;32m    259\u001b[0m             \u001b[0mcmd\u001b[0m \u001b[0;34m=\u001b[0m \u001b[0mcmd\u001b[0m \u001b[0;34m%\u001b[0m \u001b[0;34m(\u001b[0m\u001b[0mself\u001b[0m\u001b[0;34m.\u001b[0m\u001b[0mfcorpustxt\u001b[0m\u001b[0;34m(\u001b[0m\u001b[0;34m)\u001b[0m\u001b[0;34m,\u001b[0m \u001b[0mself\u001b[0m\u001b[0;34m.\u001b[0m\u001b[0mfcorpusmallet\u001b[0m\u001b[0;34m(\u001b[0m\u001b[0;34m)\u001b[0m\u001b[0;34m)\u001b[0m\u001b[0;34m\u001b[0m\u001b[0;34m\u001b[0m\u001b[0m\n\u001b[1;32m    260\u001b[0m         \u001b[0mlogger\u001b[0m\u001b[0;34m.\u001b[0m\u001b[0minfo\u001b[0m\u001b[0;34m(\u001b[0m\u001b[0;34m\"converting temporary corpus to MALLET format with %s\"\u001b[0m\u001b[0;34m,\u001b[0m \u001b[0mcmd\u001b[0m\u001b[0;34m)\u001b[0m\u001b[0;34m\u001b[0m\u001b[0;34m\u001b[0m\u001b[0m\n\u001b[0;32m--> 261\u001b[0;31m         \u001b[0mcheck_output\u001b[0m\u001b[0;34m(\u001b[0m\u001b[0margs\u001b[0m\u001b[0;34m=\u001b[0m\u001b[0mcmd\u001b[0m\u001b[0;34m,\u001b[0m \u001b[0mshell\u001b[0m\u001b[0;34m=\u001b[0m\u001b[0;32mTrue\u001b[0m\u001b[0;34m)\u001b[0m\u001b[0;34m\u001b[0m\u001b[0;34m\u001b[0m\u001b[0m\n\u001b[0m\u001b[1;32m    262\u001b[0m \u001b[0;34m\u001b[0m\u001b[0m\n\u001b[1;32m    263\u001b[0m     \u001b[0;32mdef\u001b[0m \u001b[0mtrain\u001b[0m\u001b[0;34m(\u001b[0m\u001b[0mself\u001b[0m\u001b[0;34m,\u001b[0m \u001b[0mcorpus\u001b[0m\u001b[0;34m)\u001b[0m\u001b[0;34m:\u001b[0m\u001b[0;34m\u001b[0m\u001b[0;34m\u001b[0m\u001b[0m\n",
      "\u001b[0;32m~/Documents/lda/myvenv/lib/python3.9/site-packages/gensim/utils.py\u001b[0m in \u001b[0;36mcheck_output\u001b[0;34m(stdout, *popenargs, **kwargs)\u001b[0m\n\u001b[1;32m   1930\u001b[0m             \u001b[0merror\u001b[0m \u001b[0;34m=\u001b[0m \u001b[0msubprocess\u001b[0m\u001b[0;34m.\u001b[0m\u001b[0mCalledProcessError\u001b[0m\u001b[0;34m(\u001b[0m\u001b[0mretcode\u001b[0m\u001b[0;34m,\u001b[0m \u001b[0mcmd\u001b[0m\u001b[0;34m)\u001b[0m\u001b[0;34m\u001b[0m\u001b[0;34m\u001b[0m\u001b[0m\n\u001b[1;32m   1931\u001b[0m             \u001b[0merror\u001b[0m\u001b[0;34m.\u001b[0m\u001b[0moutput\u001b[0m \u001b[0;34m=\u001b[0m \u001b[0moutput\u001b[0m\u001b[0;34m\u001b[0m\u001b[0;34m\u001b[0m\u001b[0m\n\u001b[0;32m-> 1932\u001b[0;31m             \u001b[0;32mraise\u001b[0m \u001b[0merror\u001b[0m\u001b[0;34m\u001b[0m\u001b[0;34m\u001b[0m\u001b[0m\n\u001b[0m\u001b[1;32m   1933\u001b[0m         \u001b[0;32mreturn\u001b[0m \u001b[0moutput\u001b[0m\u001b[0;34m\u001b[0m\u001b[0;34m\u001b[0m\u001b[0m\n\u001b[1;32m   1934\u001b[0m     \u001b[0;32mexcept\u001b[0m \u001b[0mKeyboardInterrupt\u001b[0m\u001b[0;34m:\u001b[0m\u001b[0;34m\u001b[0m\u001b[0;34m\u001b[0m\u001b[0m\n",
      "\u001b[0;31mCalledProcessError\u001b[0m: Command '/Users/root1/Documents/lda/mallet/bin/mallet import-file --preserve-case --keep-sequence --remove-stopwords --token-regex \"\\S+\" --input /var/folders/7k/y671ljdx4ms4bc3_h8csf0340000gn/T/93d3e6_corpus.txt --output /var/folders/7k/y671ljdx4ms4bc3_h8csf0340000gn/T/93d3e6_corpus.mallet' returned non-zero exit status 127."
     ]
    }
   ],
   "source": [
    "mallet_path = '/Users/root1/Documents/lda/mallet/bin/mallet' # update this path\n",
    "ldamallet = gensim.models.wrappers.LdaMallet(mallet_path, corpus=corpus, num_topics=20, id2word=id2word)"
   ]
  },
  {
   "cell_type": "code",
   "execution_count": null,
   "metadata": {},
   "outputs": [],
   "source": []
  },
  {
   "cell_type": "code",
   "execution_count": null,
   "metadata": {},
   "outputs": [],
   "source": []
  }
 ],
 "metadata": {
  "kernelspec": {
   "display_name": "Python 3",
   "language": "python",
   "name": "python3"
  },
  "language_info": {
   "codemirror_mode": {
    "name": "ipython",
    "version": 3
   },
   "file_extension": ".py",
   "mimetype": "text/x-python",
   "name": "python",
   "nbconvert_exporter": "python",
   "pygments_lexer": "ipython3",
   "version": "3.9.0"
  }
 },
 "nbformat": 4,
 "nbformat_minor": 4
}
