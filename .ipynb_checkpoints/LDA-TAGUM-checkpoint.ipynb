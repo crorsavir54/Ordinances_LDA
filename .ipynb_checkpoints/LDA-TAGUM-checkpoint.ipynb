{
 "cells": [
  {
   "cell_type": "code",
   "execution_count": 1,
   "metadata": {},
   "outputs": [],
   "source": [
    "import re\n",
    "import numpy as np\n",
    "import pandas as pd"
   ]
  },
  {
   "cell_type": "code",
   "execution_count": 2,
   "metadata": {},
   "outputs": [],
   "source": [
    "#Gensim\n",
    "import gensim\n",
    "import gensim.corpora as corpora\n",
    "from gensim.utils import simple_preprocess\n",
    "from gensim.models import CoherenceModel"
   ]
  },
  {
   "cell_type": "code",
   "execution_count": 3,
   "metadata": {},
   "outputs": [],
   "source": [
    "#spacy for lemmatization\n",
    "import spacy"
   ]
  },
  {
   "cell_type": "code",
   "execution_count": 4,
   "metadata": {},
   "outputs": [],
   "source": [
    "# Plotting tools\n",
    "import pyLDAvis\n",
    "import pyLDAvis.gensim\n",
    "import matplotlib.pyplot as plt\n",
    "%matplotlib inline"
   ]
  },
  {
   "cell_type": "code",
   "execution_count": 5,
   "metadata": {},
   "outputs": [
    {
     "name": "stderr",
     "output_type": "stream",
     "text": [
      "/Users/root1/Documents/lda/myvenv/lib/python3.9/site-packages/ipykernel/ipkernel.py:287: DeprecationWarning: `should_run_async` will not call `transform_cell` automatically in the future. Please pass the result to `transformed_cell` argument and any exception that happen during thetransform in `preprocessing_exc_tuple` in IPython 7.17 and above.\n",
      "  and should_run_async(code)\n"
     ]
    }
   ],
   "source": [
    "# Remove deprecationWarning that I can't fix\n",
    "import warnings\n",
    "warnings.filterwarnings(\"ignore\", category=DeprecationWarning)\n",
    "from pprint import pprint"
   ]
  },
  {
   "cell_type": "code",
   "execution_count": 6,
   "metadata": {},
   "outputs": [],
   "source": [
    "# NLTK for removing stopwords\n",
    "from nltk.corpus import stopwords\n",
    "stop_words = stopwords.words('english')\n",
    "stop_words.extend(['tagum', 'city', 'davao','ordinance', 'thereof', 'section'])"
   ]
  },
  {
   "cell_type": "code",
   "execution_count": 7,
   "metadata": {},
   "outputs": [
    {
     "name": "stdout",
     "output_type": "stream",
     "text": [
      "                                     OR  \\\n",
      "0        CITY ORDINANCE No. 842, s-2018   \n",
      "1        CITY ORDINANCE NO. 825, s-2017   \n",
      "2        CITY ORDINANCE NO. 837, s-2018   \n",
      "3        CITY ORDINANCE NO. 844, s-2018   \n",
      "4        CITY ORDINANCE NO. 838, s-2018   \n",
      "..                                  ...   \n",
      "670  MUNICIPAL ORDINANCE NO. 05, s-1974   \n",
      "671  MUNICIPAL ORDINANCE NO. 04, s-1974   \n",
      "672  MUNICIPAL ORDINANCE NO. 01, s-1974   \n",
      "673    MUNICIPAL ORDINANCE NO. 03, 1973   \n",
      "674  MUNICIPAL ORDINANCE NO. 02, S-1973   \n",
      "\n",
      "                                                    OT  \n",
      "0    “AN ORDINANCE REGULATING THE PRACTICE OF TRADI...  \n",
      "1    “AN ORDINANCE RECONSTITUTING THE MEMBERS OF TH...  \n",
      "2    “AN ORDINANCE ESTABLISHING FUNERAL AND BURIAL ...  \n",
      "3    AN ORDINANCE AMENDING THE TITLE, SECTION 1, SE...  \n",
      "4    “AN ORDINANCE CREATING THE CITY HISTORICAL, CU...  \n",
      "..                                                 ...  \n",
      "670  “AN ORDINANCE AMENDING SECTION 10 OF MUNICIPAL...  \n",
      "671  “AN ORDINANCE REGULATING THE ELECTRICAL INSTAL...  \n",
      "672  “AN ORDINANCE PROHIBITING THE EMPLOYMENT OF “H...  \n",
      "673  “AN ORDINANCE REGULATING THE ESTABLISHMENT, OP...  \n",
      "674  “AN ORDINANCE PROHIBITING THE USE OF MUNICIPAL...  \n",
      "\n",
      "[675 rows x 2 columns]\n"
     ]
    },
    {
     "data": {
      "text/html": [
       "<div>\n",
       "<style scoped>\n",
       "    .dataframe tbody tr th:only-of-type {\n",
       "        vertical-align: middle;\n",
       "    }\n",
       "\n",
       "    .dataframe tbody tr th {\n",
       "        vertical-align: top;\n",
       "    }\n",
       "\n",
       "    .dataframe thead th {\n",
       "        text-align: right;\n",
       "    }\n",
       "</style>\n",
       "<table border=\"1\" class=\"dataframe\">\n",
       "  <thead>\n",
       "    <tr style=\"text-align: right;\">\n",
       "      <th></th>\n",
       "      <th>OR</th>\n",
       "      <th>OT</th>\n",
       "    </tr>\n",
       "  </thead>\n",
       "  <tbody>\n",
       "    <tr>\n",
       "      <th>0</th>\n",
       "      <td>CITY ORDINANCE No. 842, s-2018</td>\n",
       "      <td>“AN ORDINANCE REGULATING THE PRACTICE OF TRADI...</td>\n",
       "    </tr>\n",
       "    <tr>\n",
       "      <th>1</th>\n",
       "      <td>CITY ORDINANCE NO. 825, s-2017</td>\n",
       "      <td>“AN ORDINANCE RECONSTITUTING THE MEMBERS OF TH...</td>\n",
       "    </tr>\n",
       "    <tr>\n",
       "      <th>2</th>\n",
       "      <td>CITY ORDINANCE NO. 837, s-2018</td>\n",
       "      <td>“AN ORDINANCE ESTABLISHING FUNERAL AND BURIAL ...</td>\n",
       "    </tr>\n",
       "    <tr>\n",
       "      <th>3</th>\n",
       "      <td>CITY ORDINANCE NO. 844, s-2018</td>\n",
       "      <td>AN ORDINANCE AMENDING THE TITLE, SECTION 1, SE...</td>\n",
       "    </tr>\n",
       "    <tr>\n",
       "      <th>4</th>\n",
       "      <td>CITY ORDINANCE NO. 838, s-2018</td>\n",
       "      <td>“AN ORDINANCE CREATING THE CITY HISTORICAL, CU...</td>\n",
       "    </tr>\n",
       "  </tbody>\n",
       "</table>\n",
       "</div>"
      ],
      "text/plain": [
       "                               OR  \\\n",
       "0  CITY ORDINANCE No. 842, s-2018   \n",
       "1  CITY ORDINANCE NO. 825, s-2017   \n",
       "2  CITY ORDINANCE NO. 837, s-2018   \n",
       "3  CITY ORDINANCE NO. 844, s-2018   \n",
       "4  CITY ORDINANCE NO. 838, s-2018   \n",
       "\n",
       "                                                  OT  \n",
       "0  “AN ORDINANCE REGULATING THE PRACTICE OF TRADI...  \n",
       "1  “AN ORDINANCE RECONSTITUTING THE MEMBERS OF TH...  \n",
       "2  “AN ORDINANCE ESTABLISHING FUNERAL AND BURIAL ...  \n",
       "3  AN ORDINANCE AMENDING THE TITLE, SECTION 1, SE...  \n",
       "4  “AN ORDINANCE CREATING THE CITY HISTORICAL, CU...  "
      ]
     },
     "execution_count": 7,
     "metadata": {},
     "output_type": "execute_result"
    }
   ],
   "source": [
    "# Import CSV Ordinance Dataset\n",
    "df = pd.read_csv('ordinances/tagum_ordinances.csv', header = 0)\n",
    "print(df)\n",
    "df.head()"
   ]
  },
  {
   "cell_type": "code",
   "execution_count": 8,
   "metadata": {},
   "outputs": [
    {
     "name": "stdout",
     "output_type": "stream",
     "text": [
      "['“AN ORDINANCE REGULATING THE PRACTICE OF TRADITIONAL HOME BIRTH DELIVERY OR DELIVERIES ATTENDED BY A TRADITIONAL BIRTH ATTENDANT OR MANANABANG”.']\n"
     ]
    }
   ],
   "source": [
    "# List all ordinance titles\n",
    "# Convert to list\n",
    "data = list(df.OT) \n",
    "print(data[:1])"
   ]
  },
  {
   "cell_type": "code",
   "execution_count": 9,
   "metadata": {},
   "outputs": [
    {
     "name": "stdout",
     "output_type": "stream",
     "text": [
      "['“AN ORDINANCE THE PRACTICE OF TRADITIONAL HOME BIRTH DELIVERY OR DELIVERIES '\n",
      " 'ATTENDED BY A TRADITIONAL BIRTH ATTENDANT OR MANANABANG”.',\n",
      " '“AN ORDINANCE THE MEMBERS OF THE CITY TRICYCLE AND REGULATORY BOARD (CTFRB) '\n",
      " 'ITS FUNCTIONS AND PROCEDURES AND MOTORIZED TRICYCLE FOR HIRE (MTH), TRICYCLE '\n",
      " 'UTILITY VEHICLE (TUV) AND TRICYCLE UTILITY FOR HIRE (TUH) GUIDELINES, '\n",
      " 'REGULATIONS AND OPERATIONS, THE COLLECTION OF FEES, CHARGES,ADMINISTRATIVE '\n",
      " 'PROVISIONS AND PENALTIES FOR VIOLATION THEREOF”.',\n",
      " '“AN ORDINANCE FUNERAL AND BURIAL ASSISTANCE FOR INDIGENT TAGUMENYOS, ITS '\n",
      " 'MANAGEMENT, PROCEDURES AND GUIDELINES AND FUNDS THEREFOR”.',\n",
      " 'AN ORDINANCE THE TITLE, SECTION 1, SECTION 2 AND SECTION 3 OF CITY ORDINANCE '\n",
      " 'NO. 820, S-2017 “AN ORDINANCE INTO A LOAN AGREEMENT WITH THE DEVELOPMENT '\n",
      " 'BANK OF THE PHILIPPINES, IN THE AMOUNT OF SIX HUNDRED EIGHTY MILLION PESOS '\n",
      " '(P 680,000,000.00) TO FUND THE ACQUISITION OF HEAVY EQUIPMENT,ACQUISITION OF '\n",
      " 'SERVICE VEHICLES, ACQUISITION OF continue reading : CITY ORDINANCE NO. 844, '\n",
      " 's-2018',\n",
      " '“AN ORDINANCE THE CITY HISTORICAL, CULTURAL AND ARTS COUNCIL IN THE CITY OF '\n",
      " 'TAGUM”.']\n"
     ]
    }
   ],
   "source": [
    "# Remove qoutes\n",
    "data = [re.sub(\"\\'\", \"\", sent) for sent in data]\n",
    "data = [re.sub(\"\\\"\", \"\", sent) for sent in data]\n",
    "\n",
    "# Remove words ending with ING like amending, regulating\n",
    "# Implemtation to be improved / Seems to improve topics\n",
    "data = [re.sub('\\S*ING\\S*\\s?', '', sent) for sent in data]\n",
    "\n",
    "\n",
    "pprint(data[:5])"
   ]
  },
  {
   "cell_type": "code",
   "execution_count": 10,
   "metadata": {},
   "outputs": [
    {
     "name": "stdout",
     "output_type": "stream",
     "text": [
      "[['an',\n",
      "  'ordinance',\n",
      "  'the',\n",
      "  'practice',\n",
      "  'of',\n",
      "  'traditional',\n",
      "  'home',\n",
      "  'birth',\n",
      "  'delivery',\n",
      "  'or',\n",
      "  'deliveries',\n",
      "  'attended',\n",
      "  'by',\n",
      "  'traditional',\n",
      "  'birth',\n",
      "  'attendant',\n",
      "  'or',\n",
      "  'mananabang'],\n",
      " ['an',\n",
      "  'ordinance',\n",
      "  'the',\n",
      "  'members',\n",
      "  'of',\n",
      "  'the',\n",
      "  'city',\n",
      "  'tricycle',\n",
      "  'and',\n",
      "  'regulatory',\n",
      "  'board',\n",
      "  'ctfrb',\n",
      "  'its',\n",
      "  'functions',\n",
      "  'and',\n",
      "  'procedures',\n",
      "  'and',\n",
      "  'motorized',\n",
      "  'tricycle',\n",
      "  'for',\n",
      "  'hire',\n",
      "  'mth',\n",
      "  'tricycle',\n",
      "  'utility',\n",
      "  'vehicle',\n",
      "  'tuv',\n",
      "  'and',\n",
      "  'tricycle',\n",
      "  'utility',\n",
      "  'for',\n",
      "  'hire',\n",
      "  'tuh',\n",
      "  'guidelines',\n",
      "  'regulations',\n",
      "  'and',\n",
      "  'operations',\n",
      "  'the',\n",
      "  'collection',\n",
      "  'of',\n",
      "  'fees',\n",
      "  'charges',\n",
      "  'administrative',\n",
      "  'provisions',\n",
      "  'and',\n",
      "  'penalties',\n",
      "  'for',\n",
      "  'violation',\n",
      "  'thereof'],\n",
      " ['an',\n",
      "  'ordinance',\n",
      "  'funeral',\n",
      "  'and',\n",
      "  'burial',\n",
      "  'assistance',\n",
      "  'for',\n",
      "  'indigent',\n",
      "  'tagumenyos',\n",
      "  'its',\n",
      "  'management',\n",
      "  'procedures',\n",
      "  'and',\n",
      "  'guidelines',\n",
      "  'and',\n",
      "  'funds',\n",
      "  'therefor'],\n",
      " ['an',\n",
      "  'ordinance',\n",
      "  'the',\n",
      "  'title',\n",
      "  'section',\n",
      "  'section',\n",
      "  'and',\n",
      "  'section',\n",
      "  'of',\n",
      "  'city',\n",
      "  'ordinance',\n",
      "  'no',\n",
      "  'an',\n",
      "  'ordinance',\n",
      "  'into',\n",
      "  'loan',\n",
      "  'agreement',\n",
      "  'with',\n",
      "  'the',\n",
      "  'development',\n",
      "  'bank',\n",
      "  'of',\n",
      "  'the',\n",
      "  'philippines',\n",
      "  'in',\n",
      "  'the',\n",
      "  'amount',\n",
      "  'of',\n",
      "  'six',\n",
      "  'hundred',\n",
      "  'eighty',\n",
      "  'million',\n",
      "  'pesos',\n",
      "  'to',\n",
      "  'fund',\n",
      "  'the',\n",
      "  'acquisition',\n",
      "  'of',\n",
      "  'heavy',\n",
      "  'equipment',\n",
      "  'acquisition',\n",
      "  'of',\n",
      "  'service',\n",
      "  'vehicles',\n",
      "  'acquisition',\n",
      "  'of',\n",
      "  'continue',\n",
      "  'reading',\n",
      "  'city',\n",
      "  'ordinance',\n",
      "  'no'],\n",
      " ['an',\n",
      "  'ordinance',\n",
      "  'the',\n",
      "  'city',\n",
      "  'historical',\n",
      "  'cultural',\n",
      "  'and',\n",
      "  'arts',\n",
      "  'council',\n",
      "  'in',\n",
      "  'the',\n",
      "  'city',\n",
      "  'of',\n",
      "  'tagum']]\n"
     ]
    }
   ],
   "source": [
    "#preprocess using gensim simple_preprocess and tokenize into words\n",
    "def sent_to_words(sentences):\n",
    "    for sentence in sentences:\n",
    "        yield(gensim.utils.simple_preprocess(str(sentence), deacc=True))  # deacc=True removes punctuations\n",
    "\n",
    "data_words = list(sent_to_words(data))\n",
    "\n",
    "pprint(data_words[:5])"
   ]
  },
  {
   "cell_type": "code",
   "execution_count": 11,
   "metadata": {},
   "outputs": [],
   "source": [
    "# Build the bigram and trigram models\n",
    "bigram = gensim.models.Phrases(data_words, min_count=5, threshold=100) # higher threshold fewer phrases.\n",
    "trigram = gensim.models.Phrases(bigram[data_words], threshold=100)  \n",
    "\n",
    "# Faster way to get a sentence clubbed as a trigram/bigram\n",
    "bigram_mod = gensim.models.phrases.Phraser(bigram)\n",
    "trigram_mod = gensim.models.phrases.Phraser(trigram)"
   ]
  },
  {
   "cell_type": "code",
   "execution_count": 12,
   "metadata": {},
   "outputs": [
    {
     "name": "stdout",
     "output_type": "stream",
     "text": [
      "['an',\n",
      " 'ordinance',\n",
      " 'the',\n",
      " 'practice',\n",
      " 'of',\n",
      " 'traditional',\n",
      " 'home',\n",
      " 'birth',\n",
      " 'delivery',\n",
      " 'or',\n",
      " 'deliveries',\n",
      " 'attended',\n",
      " 'by',\n",
      " 'traditional',\n",
      " 'birth',\n",
      " 'attendant',\n",
      " 'or',\n",
      " 'mananabang']\n"
     ]
    }
   ],
   "source": [
    "\n",
    "# See trigram example\n",
    "pprint(trigram_mod[bigram_mod[data_words[0]]])"
   ]
  },
  {
   "cell_type": "code",
   "execution_count": 13,
   "metadata": {},
   "outputs": [],
   "source": [
    "# Define functions for stopwords, bigrams, trigrams and lemmatization\n",
    "# Code snippets from Selva Prabhakaran | Topic Modeling with Gensim (Python)\n",
    "def remove_stopwords(texts):\n",
    "    return [[word for word in simple_preprocess(str(doc)) if word not in stop_words] for doc in texts]\n",
    "\n",
    "def make_bigrams(texts):\n",
    "    return [bigram_mod[doc] for doc in texts]\n",
    "\n",
    "def make_trigrams(texts):\n",
    "    return [trigram_mod[bigram_mod[doc]] for doc in texts]\n",
    "\n",
    "def lemmatization(texts, allowed_postags=['NOUN', 'ADJ', 'VERB', 'ADV']):\n",
    "    \"\"\"https://spacy.io/api/annotation\"\"\"\n",
    "    texts_out = []\n",
    "    for sent in texts:\n",
    "        doc = nlp(\" \".join(sent)) \n",
    "        texts_out.append([token.lemma_ for token in doc if token.pos_ in allowed_postags])\n",
    "    return texts_out\n",
    "\n",
    "from nltk.tokenize import sent_tokenize, word_tokenize\n",
    "from nltk.stem import PorterStemmer\n",
    "ps = PorterStemmer()\n",
    "\n",
    "def stemmer(texts):\n",
    "    new_list = []\n",
    "    temp = []\n",
    "    for lists in texts:\n",
    "        new_list.append(temp)\n",
    "        for word in lists:\n",
    "            temp.append(ps.stem(word))\n",
    "        temp = []\n",
    "    return new_list"
   ]
  },
  {
   "cell_type": "code",
   "execution_count": 14,
   "metadata": {},
   "outputs": [
    {
     "name": "stdout",
     "output_type": "stream",
     "text": [
      "[['practice',\n",
      "  'traditional',\n",
      "  'home',\n",
      "  'birth',\n",
      "  'delivery',\n",
      "  'delivery',\n",
      "  'attend',\n",
      "  'traditional',\n",
      "  'birth',\n",
      "  'attendant',\n",
      "  'mananabang']]\n"
     ]
    }
   ],
   "source": [
    "# Remove Stop Words and Form Bigrams\n",
    "data_words_nostops = remove_stopwords(data_words)\n",
    "\n",
    "data_words_bigrams = make_bigrams(data_words_nostops)\n",
    "\n",
    "# Initialize spacy 'en' model, keeping only tagger component (for efficiency)\n",
    "\n",
    "nlp = spacy.load('en', disable=['parser', 'ner'])\n",
    "\n",
    "# If stemming\n",
    "# data_stemmed = stemmer(data_words_bigrams)\n",
    "\n",
    "# Lematize keeping only noun, adj, vb, adv\n",
    "data_lemmatized = lemmatization(data_words_bigrams, allowed_postags=['NOUN', 'ADJ', 'VERB', 'ADV'])\n",
    "\n",
    "pprint(data_lemmatized[:1])"
   ]
  },
  {
   "cell_type": "code",
   "execution_count": 15,
   "metadata": {},
   "outputs": [
    {
     "name": "stdout",
     "output_type": "stream",
     "text": [
      "[[(0, 1), (1, 1), (2, 2), (3, 2), (4, 1), (5, 1), (6, 1), (7, 2)]]\n"
     ]
    }
   ],
   "source": [
    "# Create Dictionary\n",
    "id2word = corpora.Dictionary(data_lemmatized)\n",
    "\n",
    "# Create Corpus\n",
    "texts = data_lemmatized\n",
    "\n",
    "# Term Document Frequency\n",
    "corpus = [id2word.doc2bow(text) for text in texts]\n",
    "\n",
    "# View\n",
    "print(corpus[:1])"
   ]
  },
  {
   "cell_type": "code",
   "execution_count": 16,
   "metadata": {},
   "outputs": [
    {
     "data": {
      "text/plain": [
       "'attend'"
      ]
     },
     "execution_count": 16,
     "metadata": {},
     "output_type": "execute_result"
    }
   ],
   "source": [
    "id2word[0]"
   ]
  },
  {
   "cell_type": "code",
   "execution_count": 17,
   "metadata": {},
   "outputs": [
    {
     "data": {
      "text/plain": [
       "[[('attend', 1),\n",
       "  ('attendant', 1),\n",
       "  ('birth', 2),\n",
       "  ('delivery', 2),\n",
       "  ('home', 1),\n",
       "  ('mananabang', 1),\n",
       "  ('practice', 1),\n",
       "  ('traditional', 2)]]"
      ]
     },
     "execution_count": 17,
     "metadata": {},
     "output_type": "execute_result"
    }
   ],
   "source": [
    "# Human readable format of corpus (term-frequency)\n",
    "[[(id2word[id], freq) for id, freq in cp] for cp in corpus[:1]]"
   ]
  },
  {
   "cell_type": "code",
   "execution_count": 18,
   "metadata": {},
   "outputs": [],
   "source": [
    "# Build LDA model\n",
    "lda_model = gensim.models.ldamodel.LdaModel(corpus=corpus,\n",
    "                                           id2word=id2word,\n",
    "                                           num_topics=5, \n",
    "                                           random_state=100,\n",
    "                                           update_every=1,\n",
    "                                           chunksize=100,\n",
    "                                           passes=30,\n",
    "                                           alpha='auto',\n",
    "                                           per_word_topics=True)"
   ]
  },
  {
   "cell_type": "code",
   "execution_count": 19,
   "metadata": {},
   "outputs": [
    {
     "name": "stdout",
     "output_type": "stream",
     "text": [
      "[(0, '0.036*\"position\" + 0.030*\"fund\" + 0.026*\"purpose\" + 0.026*\"government\" + 0.022*\"necessary\" + 0.020*\"new\" + 0.019*\"legislative\" + 0.018*\"tax\" + 0.017*\"compensation\" + 0.016*\"officer\"'), (1, '0.072*\"public\" + 0.043*\"market\" + 0.028*\"use\" + 0.026*\"regulation\" + 0.023*\"service\" + 0.022*\"road\" + 0.020*\"penalty\" + 0.018*\"business\" + 0.016*\"amount\" + 0.016*\"year\"'), (2, '0.052*\"fund\" + 0.031*\"guideline\" + 0.030*\"duty\" + 0.020*\"traffic\" + 0.020*\"purpose\" + 0.019*\"function\" + 0.018*\"territorial_jurisdiction\" + 0.017*\"private\" + 0.016*\"program\" + 0.016*\"policy\"'), (3, '0.098*\"municipal\" + 0.027*\"area\" + 0.026*\"violation\" + 0.024*\"penalty\" + 0.019*\"street\" + 0.018*\"purpose\" + 0.017*\"provide\" + 0.012*\"portion\" + 0.010*\"establishment\" + 0.010*\"cover\"'), (4, '0.065*\"municipality\" + 0.060*\"violation\" + 0.055*\"penalty\" + 0.037*\"fee\" + 0.028*\"vehicle\" + 0.026*\"operation\" + 0.015*\"utility\" + 0.012*\"rate\" + 0.012*\"passenger\" + 0.011*\"permit\"')]\n"
     ]
    }
   ],
   "source": [
    "print(lda_model.print_topics())\n",
    "doc_lda = lda_model[corpus]"
   ]
  },
  {
   "cell_type": "code",
   "execution_count": 20,
   "metadata": {},
   "outputs": [
    {
     "name": "stdout",
     "output_type": "stream",
     "text": [
      "\n",
      "Perplexity:  -6.667816605392877\n",
      "\n",
      "Coherence Score:  0.4419491796518886\n"
     ]
    }
   ],
   "source": [
    "# Compute Perplexity\n",
    "print('\\nPerplexity: ', lda_model.log_perplexity(corpus))  # a measure of how good the model is. lower the better.\n",
    "\n",
    "# Compute Coherence Score\n",
    "coherence_model_lda = CoherenceModel(model=lda_model, texts=data_lemmatized, dictionary=id2word, coherence='c_v')\n",
    "coherence_lda = coherence_model_lda.get_coherence()\n",
    "print('\\nCoherence Score: ', coherence_lda)"
   ]
  },
  {
   "cell_type": "code",
   "execution_count": 21,
   "metadata": {},
   "outputs": [
    {
     "data": {
      "text/html": [
       "\n",
       "<link rel=\"stylesheet\" type=\"text/css\" href=\"https://cdn.rawgit.com/bmabey/pyLDAvis/files/ldavis.v1.0.0.css\">\n",
       "\n",
       "\n",
       "<div id=\"ldavis_el21301402025630457447927930167\"></div>\n",
       "<script type=\"text/javascript\">\n",
       "\n",
       "var ldavis_el21301402025630457447927930167_data = {\"mdsDat\": {\"x\": [0.2157554909193453, 0.12854950880867705, -0.009040038970608663, -0.1768933455075431, -0.15837161524987042], \"y\": [-0.06158998893625431, -0.07085783008316965, 0.28295601734485476, -0.06040604641969343, -0.09010215190573756], \"topics\": [1, 2, 3, 4, 5], \"cluster\": [1, 1, 1, 1, 1], \"Freq\": [22.588447632407288, 21.637987635165217, 19.217542331372485, 18.394626212209086, 18.161396188845924]}, \"tinfo\": {\"Term\": [\"municipal\", \"public\", \"municipality\", \"violation\", \"fund\", \"market\", \"fee\", \"penalty\", \"position\", \"duty\", \"vehicle\", \"area\", \"use\", \"guideline\", \"regulation\", \"operation\", \"service\", \"road\", \"necessary\", \"street\", \"new\", \"traffic\", \"function\", \"legislative\", \"business\", \"tax\", \"territorial_jurisdiction\", \"provide\", \"purpose\", \"government\", \"municipality\", \"fee\", \"vehicle\", \"utility\", \"rate\", \"passenger\", \"permit\", \"terminal\", \"student\", \"annual\", \"poblacion\", \"bus\", \"jeepney\", \"garbage\", \"truck\", \"clearance\", \"site\", \"inspection\", \"document\", \"operator\", \"license\", \"tricycle\", \"hire\", \"show\", \"control\", \"motorize\", \"drug\", \"moviehouse\", \"collection\", \"payment\", \"operation\", \"charge\", \"violation\", \"penalty\", \"school\", \"house\", \"government\", \"medical\", \"municipal\", \"area\", \"street\", \"provide\", \"portion\", \"cover\", \"situate\", \"residential\", \"commercial\", \"construction\", \"clock\", \"sale\", \"material\", \"bound\", \"support\", \"industrial\", \"installation\", \"square_meter\", \"continue_reading\", \"gold\", \"lot\", \"close\", \"zone\", \"part\", \"enact\", \"employee\", \"register\", \"agricultural\", \"supply\", \"park\", \"construct\", \"continue_reade\", \"own\", \"violation\", \"penalty\", \"purpose\", \"establishment\", \"public\", \"market\", \"use\", \"regulation\", \"service\", \"road\", \"business\", \"rule\", \"certain\", \"provision\", \"act\", \"premise\", \"property\", \"owner\", \"stall\", \"expense\", \"authorize\", \"rice\", \"real\", \"regulate\", \"corn\", \"space\", \"date\", \"mill\", \"orderly\", \"supervise\", \"peaceful\", \"equal\", \"republic_act\", \"schedule\", \"year\", \"amount\", \"take\", \"penalty\", \"peso\", \"position\", \"necessary\", \"legislative\", \"new\", \"tax\", \"compensation\", \"officer\", \"monthly\", \"benefit\", \"unit\", \"staff\", \"qualification\", \"official\", \"amend\", \"death\", \"department\", \"dutie\", \"assistance\", \"additional\", \"chapter\", \"salary\", \"assistant\", \"subject\", \"increase\", \"non\", \"law\", \"civil\", \"condition\", \"administrator\", \"legal\", \"swear\", \"local\", \"government\", \"medical\", \"fund\", \"purpose\", \"amount\", \"office\", \"implementation\", \"code\", \"duty\", \"function\", \"traffic\", \"territorial_jurisdiction\", \"program\", \"policy\", \"private\", \"management\", \"appropriation\", \"power\", \"comprehensive\", \"procedure\", \"child\", \"educational\", \"barangay\", \"know\", \"system\", \"order\", \"section\", \"scholarship\", \"poor\", \"balance\", \"driver\", \"therefore\", \"worker\", \"corner\", \"plan\", \"day\", \"guideline\", \"step\", \"fund\", \"mayor\", \"temporary\", \"office\", \"implementation\", \"purpose\", \"establishment\", \"revise\", \"code\", \"vendor\", \"school\"], \"Freq\": [105.0, 69.0, 72.0, 94.0, 73.0, 41.0, 41.0, 105.0, 33.0, 27.0, 32.0, 29.0, 27.0, 31.0, 25.0, 34.0, 22.0, 21.0, 20.0, 21.0, 18.0, 18.0, 18.0, 18.0, 18.0, 17.0, 16.0, 19.0, 63.0, 37.0, 72.16255668543442, 40.894088555373685, 31.35398736867768, 17.245492141780947, 13.297190964325706, 13.185190806736733, 12.808208082963382, 11.783576020486004, 9.591754914791613, 8.80938687261454, 8.280858065623047, 7.843172815786468, 7.416604942388199, 7.295716386015399, 7.1856965613914605, 6.505267131885595, 6.466462468503889, 5.822014884381338, 5.761529338443767, 5.610585920120095, 5.610002461600383, 5.536886907439412, 5.281633148707377, 5.037958238499086, 4.724960254507947, 4.742945726741903, 4.759311634401571, 4.672470789564715, 4.643826298430619, 4.514789048247826, 29.237579833929637, 10.407767334634688, 66.33924199666399, 60.81104519516629, 9.441829953421388, 7.582576051232912, 7.501729671685761, 5.375273050208986, 104.92925530149024, 29.308484797647665, 20.428026482378048, 18.39321283986976, 13.270178880688269, 10.264161824931087, 10.21103571253865, 9.321434883083256, 9.197700368336822, 8.909547397775771, 8.838965846882548, 9.403346755924947, 8.414975314255408, 8.244094606880964, 8.136509754042818, 7.884870294892185, 7.6961378413458865, 7.557072136995524, 7.495484830963349, 7.441589473944639, 7.151135233745324, 7.125609936783128, 7.075821858764432, 7.618115452322371, 6.465485171855046, 6.438648131309069, 6.038629986162642, 5.8044519325040795, 5.766661982208307, 5.620625837540486, 5.947540383477943, 9.168615263824856, 7.6960717071924964, 27.491028757619553, 25.64664567492694, 18.88081348857412, 11.103874629263789, 68.73454511675534, 40.869396194725205, 26.82887408259418, 24.67312373572609, 21.53325640677052, 20.768195006221216, 17.533254322172017, 14.276295906835434, 12.818390522426908, 11.271236836592932, 9.22412307819656, 9.220371019366778, 8.316383634524264, 8.116001788339013, 7.371333375146445, 7.243286418302958, 7.102024671397845, 6.093222092275481, 6.08066400083437, 6.190216081061518, 5.635080075580658, 5.634234360813823, 5.053601048772528, 4.686112589058281, 4.68405593440076, 4.68405593440076, 4.68405593440076, 4.68405593440076, 4.5631262303939915, 4.3566168163811465, 15.042523201371393, 15.056074069207202, 7.786124450357153, 18.848264383214584, 6.291352968138771, 32.64410593591782, 19.859013997951283, 17.483778528097332, 17.932068402113902, 16.37734923858584, 15.794235075330384, 14.158455126492406, 13.811587401907987, 11.889793018144879, 11.423168278503043, 10.376708803085828, 8.495140879474691, 8.057563463720571, 7.431852251332963, 7.2278235034097325, 7.194495761545315, 7.081317469080374, 6.7190683926375465, 6.70736382090568, 6.572539531666796, 6.156418313390595, 6.106845611735082, 6.395547672326403, 5.795018049835109, 5.558500227760851, 5.033710669557079, 4.88287729582149, 4.839547257871283, 5.014283506869617, 4.571312240297533, 4.947458514192664, 12.117679833479231, 23.37114640555776, 12.624037301474027, 26.862834596788062, 23.462956848101285, 11.72225815179034, 11.083033567698289, 6.934930217829373, 6.751806446265988, 26.770048288277284, 17.453354867241057, 17.57842306481967, 16.062102427598745, 14.730945893778006, 14.352515974911618, 15.329914999225851, 12.151187485806034, 10.437646168935029, 10.220475044190204, 8.998336870774665, 8.832173310518767, 7.314094770391287, 7.089629099824822, 6.96077673661142, 6.96700285141673, 7.407172640859897, 6.5073813571383905, 6.155738589803659, 6.0577025316498965, 5.376933763293699, 5.393557882138391, 5.284509054754992, 5.6385966927513085, 5.044999792007443, 4.7678500384393185, 4.630526185862853, 4.636237283529823, 27.35518622033406, 4.139906002011539, 46.447624448572235, 13.712775374938317, 7.20668406478097, 14.19523124334376, 10.21694421356593, 17.49445607290046, 11.341734966006198, 7.84758157521414, 7.504262970621862, 6.471595178429358, 6.662530896097054], \"Total\": [105.0, 69.0, 72.0, 94.0, 73.0, 41.0, 41.0, 105.0, 33.0, 27.0, 32.0, 29.0, 27.0, 31.0, 25.0, 34.0, 22.0, 21.0, 20.0, 21.0, 18.0, 18.0, 18.0, 18.0, 18.0, 17.0, 16.0, 19.0, 63.0, 37.0, 72.83604027752753, 41.5534521419275, 32.016432630568566, 17.908480717632276, 13.950576900183663, 13.84420323419107, 13.474918974605194, 12.460768002983672, 10.282102895223257, 9.46819176145249, 8.952441785992187, 8.49676263691535, 8.070214667449102, 7.953945388247962, 7.839975401499263, 7.17342943639374, 7.136205330026854, 6.478515383180095, 6.4159309815223144, 6.2644303415298594, 6.264536833797251, 6.190654408238363, 5.937698083145935, 5.6958720502470435, 5.378459442574379, 5.3992495834234076, 5.422257831398112, 5.32891216125066, 5.298673616793153, 5.179053266545858, 34.62907175061493, 12.461465452542358, 94.34079300914938, 105.66200383681884, 16.58713116781208, 12.178453043103648, 37.017909524270245, 18.47703489368186, 105.59432549686738, 29.953850649333166, 21.0815721693571, 19.06625340204701, 13.91830843615095, 10.904538858343946, 10.854053143343172, 9.962509435058463, 9.846238216815754, 9.559707289237283, 9.48407831466517, 10.09688226035615, 9.063974038803105, 8.892128813947707, 8.794643939049912, 8.527381350144603, 8.340115320210677, 8.197058179681118, 8.146412405091459, 8.092630707577978, 7.79139421374807, 7.772659456189812, 7.720284747960195, 8.3275244003032, 7.105578647210469, 7.096300931746139, 6.69470159082148, 6.4443170114016635, 6.4173660259232985, 6.270663260041955, 6.644231839649138, 12.065760812724664, 9.650579544645694, 94.34079300914938, 105.66200383681884, 63.81960666785136, 27.426994226072885, 69.39610244953501, 41.520997479302316, 27.49298735338601, 25.332241053047728, 22.215067948837454, 21.442723442663848, 18.229483481401537, 14.93286143934464, 13.473385444549386, 11.941602482393943, 9.877598391122705, 9.880009474717552, 8.967786499397478, 8.817848092415078, 8.02074781682456, 7.894580352861702, 7.779452754574096, 6.741336503615283, 6.727886083360624, 6.849143115761769, 6.282593771112371, 6.282688356113372, 5.715570501757012, 5.3348442605436155, 5.334797862445647, 5.334797862445647, 5.334797862445647, 5.334797862445647, 5.214646394197704, 5.008800759313346, 17.86849863909093, 27.257889225394674, 11.695803154848075, 105.66200383681884, 15.412804691106414, 33.261417058755875, 20.47692194366269, 18.099186587769484, 18.592813424454416, 17.006507288390395, 16.410021147322325, 14.787351900679088, 14.42573269400993, 12.511898835773247, 12.05147286039946, 10.992070152992598, 9.108605313292383, 8.680416790893913, 8.046754721289126, 7.852211034331722, 7.816912319724713, 7.695782967369901, 7.337239015677115, 7.330298729180889, 7.20289361086129, 6.769823429347273, 6.7204337125536515, 7.041288371475467, 6.418369383481715, 6.231489149890671, 5.648824105217307, 5.50555045386557, 5.459480767736823, 5.658297306591456, 5.193439056530198, 5.642176528318464, 15.700029498690048, 37.017909524270245, 18.47703489368186, 73.7515843287091, 63.81960666785136, 27.257889225394674, 27.13698011766362, 17.592276088488646, 14.696871387097943, 27.40099829390119, 18.07463334324781, 18.231873051093295, 16.72281133113534, 15.350995091439511, 14.974657445695279, 15.99607941082047, 12.778070972823679, 11.067203754983458, 10.866682311756032, 9.617485284518644, 9.460451139390376, 7.9416031357504275, 7.708228678053434, 7.584292979619372, 7.591639456979596, 8.090805967997511, 7.146132936405666, 6.782080348285701, 6.675122435638126, 5.9964088095306005, 6.016335322246444, 5.914686738258205, 6.339924267866685, 5.684162573789654, 5.395717697471027, 5.2505058878012125, 5.277616828543645, 31.23459837654323, 4.756492850307831, 73.7515843287091, 19.57052699176924, 9.610528633747268, 27.13698011766362, 17.592276088488646, 63.81960666785136, 27.426994226072885, 14.475582512113274, 14.696871387097943, 11.377125432384961, 16.58713116781208], \"Category\": [\"Default\", \"Default\", \"Default\", \"Default\", \"Default\", \"Default\", \"Default\", \"Default\", \"Default\", \"Default\", \"Default\", \"Default\", \"Default\", \"Default\", \"Default\", \"Default\", \"Default\", \"Default\", \"Default\", \"Default\", \"Default\", \"Default\", \"Default\", \"Default\", \"Default\", \"Default\", \"Default\", \"Default\", \"Default\", \"Default\", \"Topic1\", \"Topic1\", \"Topic1\", \"Topic1\", \"Topic1\", \"Topic1\", \"Topic1\", \"Topic1\", \"Topic1\", \"Topic1\", \"Topic1\", \"Topic1\", \"Topic1\", \"Topic1\", \"Topic1\", \"Topic1\", \"Topic1\", \"Topic1\", \"Topic1\", \"Topic1\", \"Topic1\", \"Topic1\", \"Topic1\", \"Topic1\", \"Topic1\", \"Topic1\", \"Topic1\", \"Topic1\", \"Topic1\", \"Topic1\", \"Topic1\", \"Topic1\", \"Topic1\", \"Topic1\", \"Topic1\", \"Topic1\", \"Topic1\", \"Topic1\", \"Topic2\", \"Topic2\", \"Topic2\", \"Topic2\", \"Topic2\", \"Topic2\", \"Topic2\", \"Topic2\", \"Topic2\", \"Topic2\", \"Topic2\", \"Topic2\", \"Topic2\", \"Topic2\", \"Topic2\", \"Topic2\", \"Topic2\", \"Topic2\", \"Topic2\", \"Topic2\", \"Topic2\", \"Topic2\", \"Topic2\", \"Topic2\", \"Topic2\", \"Topic2\", \"Topic2\", \"Topic2\", \"Topic2\", \"Topic2\", \"Topic2\", \"Topic2\", \"Topic2\", \"Topic2\", \"Topic2\", \"Topic2\", \"Topic2\", \"Topic3\", \"Topic3\", \"Topic3\", \"Topic3\", \"Topic3\", \"Topic3\", \"Topic3\", \"Topic3\", \"Topic3\", \"Topic3\", \"Topic3\", \"Topic3\", \"Topic3\", \"Topic3\", \"Topic3\", \"Topic3\", \"Topic3\", \"Topic3\", \"Topic3\", \"Topic3\", \"Topic3\", \"Topic3\", \"Topic3\", \"Topic3\", \"Topic3\", \"Topic3\", \"Topic3\", \"Topic3\", \"Topic3\", \"Topic3\", \"Topic3\", \"Topic3\", \"Topic3\", \"Topic3\", \"Topic3\", \"Topic4\", \"Topic4\", \"Topic4\", \"Topic4\", \"Topic4\", \"Topic4\", \"Topic4\", \"Topic4\", \"Topic4\", \"Topic4\", \"Topic4\", \"Topic4\", \"Topic4\", \"Topic4\", \"Topic4\", \"Topic4\", \"Topic4\", \"Topic4\", \"Topic4\", \"Topic4\", \"Topic4\", \"Topic4\", \"Topic4\", \"Topic4\", \"Topic4\", \"Topic4\", \"Topic4\", \"Topic4\", \"Topic4\", \"Topic4\", \"Topic4\", \"Topic4\", \"Topic4\", \"Topic4\", \"Topic4\", \"Topic4\", \"Topic4\", \"Topic4\", \"Topic4\", \"Topic4\", \"Topic5\", \"Topic5\", \"Topic5\", \"Topic5\", \"Topic5\", \"Topic5\", \"Topic5\", \"Topic5\", \"Topic5\", \"Topic5\", \"Topic5\", \"Topic5\", \"Topic5\", \"Topic5\", \"Topic5\", \"Topic5\", \"Topic5\", \"Topic5\", \"Topic5\", \"Topic5\", \"Topic5\", \"Topic5\", \"Topic5\", \"Topic5\", \"Topic5\", \"Topic5\", \"Topic5\", \"Topic5\", \"Topic5\", \"Topic5\", \"Topic5\", \"Topic5\", \"Topic5\", \"Topic5\", \"Topic5\", \"Topic5\", \"Topic5\", \"Topic5\", \"Topic5\", \"Topic5\", \"Topic5\"], \"logprob\": [30.0, 29.0, 28.0, 27.0, 26.0, 25.0, 24.0, 23.0, 22.0, 21.0, 20.0, 19.0, 18.0, 17.0, 16.0, 15.0, 14.0, 13.0, 12.0, 11.0, 10.0, 9.0, 8.0, 7.0, 6.0, 5.0, 4.0, 3.0, 2.0, 1.0, -2.737499952316284, -3.3053998947143555, -3.571000099182129, -4.168799877166748, -4.428800106048584, -4.437300205230713, -4.466300010681152, -4.549699783325195, -4.755499839782715, -4.84060001373291, -4.902400016784668, -4.956699848175049, -5.012700080871582, -5.029099941253662, -5.044300079345703, -5.143799781799316, -5.149700164794922, -5.254700183868408, -5.265200138092041, -5.2916998863220215, -5.291800022125244, -5.304900169372559, -5.352099895477295, -5.399400234222412, -5.463500022888184, -5.459700107574463, -5.456299781799316, -5.474699974060059, -5.480800151824951, -5.508999824523926, -3.640899896621704, -4.673799991607666, -2.8215999603271484, -2.908600091934204, -4.771200180053711, -4.990499973297119, -5.001200199127197, -5.33459997177124, -2.3201000690460205, -3.5954999923706055, -3.9565000534057617, -4.061399936676025, -4.387899875640869, -4.644700050354004, -4.649899959564209, -4.741099834442139, -4.75439977645874, -4.786300182342529, -4.7941999435424805, -4.7322998046875, -4.843400001525879, -4.863900184631348, -4.876999855041504, -4.908400058746338, -4.932700157165527, -4.950900077819824, -4.959099769592285, -4.966300010681152, -5.006100177764893, -5.009699821472168, -5.01669979095459, -4.94290018081665, -5.106900215148926, -5.111100196838379, -5.17519998550415, -5.214799880981445, -5.22130012512207, -5.2469000816345215, -5.190400123596191, -4.757599830627441, -4.932700157165527, -3.6594998836517334, -3.7290000915527344, -4.035200119018555, -4.566100120544434, -2.624500036239624, -3.144399881362915, -3.5652999877929688, -3.6489999294281006, -3.7852001190185547, -3.8213000297546387, -3.9907000064849854, -4.196199893951416, -4.303899765014648, -4.432499885559082, -4.632900238037109, -4.633299827575684, -4.736499786376953, -4.760900020599365, -4.8572001457214355, -4.87470006942749, -4.894400119781494, -5.047599792480469, -5.049600124359131, -5.031799793243408, -5.125800132751465, -5.125899791717529, -5.2347002029418945, -5.310200214385986, -5.3105998039245605, -5.3105998039245605, -5.3105998039245605, -5.3105998039245605, -5.3368000984191895, -5.3831000328063965, -4.143899917602539, -4.14300012588501, -4.8024001121521, -3.918299913406372, -5.015600204467773, -3.3252999782562256, -3.8222999572753906, -3.949700117111206, -3.9244000911712646, -4.015100002288818, -4.051400184631348, -4.160699844360352, -4.185500144958496, -4.335299968719482, -4.375400066375732, -4.471399784088135, -4.671500205993652, -4.724400043487549, -4.805200099945068, -4.833099842071533, -4.837699890136719, -4.853499889373779, -4.906000137329102, -4.907800197601318, -4.928100109100342, -4.993500232696533, -5.0015997886657715, -4.955399990081787, -5.053999900817871, -5.095699787139893, -5.194799900054932, -5.225299835205078, -5.2342000007629395, -5.198699951171875, -5.291200160980225, -5.212100028991699, -4.316299915313721, -3.6594998836517334, -4.275400161743164, -3.5202999114990234, -3.655600070953369, -4.3495001792907715, -4.405600070953369, -4.8744001388549805, -4.901199817657471, -3.510999917984009, -3.938699960708618, -3.9316000938415527, -4.0218000411987305, -4.10830020904541, -4.134300231933594, -4.068399906158447, -4.30079984664917, -4.4527997970581055, -4.473800182342529, -4.601200103759766, -4.619800090789795, -4.8084001541137695, -4.839600086212158, -4.857900142669678, -4.857100009918213, -4.79580020904541, -4.925300121307373, -4.980899810791016, -4.9969000816345215, -5.116099834442139, -5.11299991607666, -5.133500099182129, -5.068600177764893, -5.179800033569336, -5.236299991607666, -5.265600204467773, -5.2642998695373535, -3.489300012588501, -5.377600193023682, -2.95989990234375, -4.179900169372559, -4.823200225830078, -4.145299911499023, -4.4741997718811035, -3.9363999366760254, -4.369699954986572, -4.73799991607666, -4.782800197601318, -4.930799961090088, -4.901700019836426], \"loglift\": [30.0, 29.0, 28.0, 27.0, 26.0, 25.0, 24.0, 23.0, 22.0, 21.0, 20.0, 19.0, 18.0, 17.0, 16.0, 15.0, 14.0, 13.0, 12.0, 11.0, 10.0, 9.0, 8.0, 7.0, 6.0, 5.0, 4.0, 3.0, 2.0, 1.0, 1.4784, 1.4717, 1.4668, 1.45, 1.4398, 1.439, 1.437, 1.4319, 1.4182, 1.4156, 1.4098, 1.4077, 1.4033, 1.4014, 1.4006, 1.39, 1.3892, 1.3809, 1.3802, 1.3775, 1.3774, 1.3761, 1.3706, 1.365, 1.3582, 1.3581, 1.3573, 1.3563, 1.3558, 1.3505, 1.3185, 1.3076, 1.1356, 0.9353, 0.9243, 1.0139, -0.1085, 0.253, 1.5244, 1.5089, 1.4992, 1.4948, 1.483, 1.4702, 1.4697, 1.4642, 1.4626, 1.4603, 1.4603, 1.4596, 1.4564, 1.4551, 1.4529, 1.4524, 1.4504, 1.4494, 1.4474, 1.4469, 1.445, 1.4438, 1.4436, 1.4417, 1.4363, 1.4335, 1.4276, 1.4261, 1.4238, 1.4213, 1.4199, 1.2561, 1.3044, 0.2977, 0.1149, 0.3128, 0.6265, 1.6398, 1.6335, 1.6249, 1.623, 1.6182, 1.6174, 1.6104, 1.6044, 1.5995, 1.5916, 1.5809, 1.5802, 1.5739, 1.5664, 1.5649, 1.5632, 1.5582, 1.5483, 1.5482, 1.5482, 1.5406, 1.5404, 1.5263, 1.5197, 1.5193, 1.5193, 1.5193, 1.5193, 1.5159, 1.5098, 1.4772, 1.0558, 1.2425, -0.0745, 0.7533, 1.6744, 1.6625, 1.6585, 1.6569, 1.6554, 1.6549, 1.6497, 1.6496, 1.6421, 1.6396, 1.6355, 1.6234, 1.6187, 1.6136, 1.6103, 1.6101, 1.6099, 1.6051, 1.6043, 1.6015, 1.5981, 1.5974, 1.5969, 1.5909, 1.5788, 1.5778, 1.5731, 1.5726, 1.5723, 1.5655, 1.5617, 1.4341, 1.2332, 1.3122, 0.6832, 0.6925, 0.8493, 0.7976, 0.7622, 0.9153, 1.6826, 1.6709, 1.6694, 1.6656, 1.6646, 1.6634, 1.6633, 1.6556, 1.6473, 1.6446, 1.6393, 1.6372, 1.6236, 1.6222, 1.6201, 1.62, 1.6176, 1.6122, 1.609, 1.6088, 1.5968, 1.5966, 1.5932, 1.5886, 1.5866, 1.5822, 1.5802, 1.5763, 1.5733, 1.567, 1.2435, 1.3502, 1.418, 1.0579, 1.1625, 0.4117, 0.8228, 1.0936, 1.0337, 1.1417, 0.7937]}, \"token.table\": {\"Topic\": [3, 4, 4, 2, 4, 3, 4, 1, 5, 2, 4, 4, 3, 5, 5, 4, 2, 1, 3, 3, 4, 1, 3, 5, 4, 1, 2, 2, 4, 5, 1, 2, 4, 5, 4, 2, 2, 2, 4, 2, 1, 3, 5, 2, 3, 5, 4, 4, 1, 5, 1, 4, 5, 5, 2, 2, 3, 2, 3, 5, 3, 1, 5, 4, 5, 1, 2, 1, 2, 3, 4, 4, 5, 1, 1, 2, 4, 5, 4, 2, 1, 2, 1, 5, 4, 4, 4, 1, 4, 5, 2, 5, 3, 2, 1, 5, 1, 4, 3, 4, 1, 1, 2, 1, 4, 4, 4, 2, 4, 5, 4, 4, 1, 5, 1, 5, 3, 1, 2, 3, 2, 2, 1, 1, 3, 1, 2, 3, 1, 1, 3, 4, 5, 1, 5, 5, 2, 4, 5, 3, 5, 5, 5, 3, 2, 3, 3, 2, 3, 4, 5, 4, 1, 3, 2, 3, 3, 3, 2, 4, 5, 3, 3, 3, 4, 2, 3, 5, 1, 5, 5, 3, 1, 1, 2, 3, 2, 4, 3, 5, 2, 1, 4, 3, 2, 2, 4, 5, 3, 4, 4, 3, 5, 1, 5, 5, 5, 1, 1, 4, 3, 1, 1, 3, 5, 1, 2, 5, 3, 5, 2], \"Freq\": [0.9111526550916031, 0.95494061819527, 0.8836580563158826, 0.9310528934849803, 0.8699159154783543, 0.5502993968449078, 0.4402395174759262, 0.9505510900868503, 0.9035706056732798, 0.9681559923463663, 0.9540373408912326, 0.8927995210773534, 0.8998062229871118, 0.8310706987211354, 0.9229601254606734, 0.9590870384669625, 0.8996720771129223, 0.9415350695149355, 0.9874114106614339, 0.9648651449557623, 0.9718316524132267, 0.8024738372933357, 0.16049476745866714, 0.8814341236076572, 0.9081744036128827, 0.9758233578609051, 0.9489588446442241, 0.9005926529336752, 0.4762918457696476, 0.5443335380224544, 0.9436323807817558, 0.9140546675612095, 0.9750139781270648, 0.9357955571283675, 0.9158380096414743, 0.9030389283220499, 0.941451419766019, 0.7459123498046237, 0.16575829995658303, 0.8592739542163421, 0.9296342295381833, 0.9550195697178849, 0.9266607855232123, 0.9170493250476328, 0.8748033111415492, 0.9473973125441444, 0.8914686537835453, 0.8954942455138755, 0.9351721546381682, 0.8453533080050207, 0.9221250917001794, 0.9095890606167015, 0.9853655589624835, 0.908120437569545, 0.8455109299491926, 0.8444069509181352, 0.9372426339144995, 0.401064728760656, 0.18230214943666181, 0.401064728760656, 0.8866842424958755, 0.986680958779618, 0.9405446670568692, 0.36609383033266957, 0.6237154146408445, 0.8800663894854714, 0.8649844843958054, 0.21611160929427736, 0.05402790232356934, 0.10805580464713868, 0.6213208767210474, 0.09604733711744988, 0.8644260340570489, 0.8420771703082081, 0.6568978811746702, 0.3284489405873351, 0.3979018953994469, 0.568431279142067, 0.934816873494625, 0.9381543608184405, 0.9261381111446545, 0.9592193504343433, 0.867387088008232, 0.9220669711289232, 0.8851399701721908, 0.9627531863906309, 0.9392687299819176, 0.9577723236664406, 0.7643297740938152, 0.1910824435234538, 0.8984271374240519, 0.9391088862725465, 0.9874521926029829, 0.8826150610926063, 0.25548622181215896, 0.7153614210740451, 0.27060618918405177, 0.7035760918785346, 0.9372344825471072, 0.9704879673677366, 0.9260546160619857, 0.9382778039310998, 0.9943716151973998, 0.9885216127298798, 0.9767092952263614, 0.9681159913284177, 0.9628517125967021, 0.07370016823272788, 0.40535092528000327, 0.515901177629095, 0.9467550440425422, 0.9216147326465135, 0.8374466462412474, 0.14438735280021509, 0.9577886053298692, 0.9795507671483135, 0.9372426339144995, 0.10362071991363637, 0.828965759309091, 0.9072508299254357, 0.956836581902479, 0.9606696558834129, 0.9390211758733692, 0.9654274135965246, 0.9372426339144995, 0.5773125417364461, 0.24606764074012455, 0.17981866054086024, 0.9647553372676878, 0.25952447203253687, 0.38928670804880533, 0.3244055900406711, 0.95228919019342, 0.8936109489723278, 0.9349128720152821, 0.8338324084997468, 0.9340215486412295, 0.9921405315265407, 0.920244073868027, 0.9109303005255762, 0.9377297783263894, 0.9513288391212973, 0.9771353525065457, 0.8920818978615848, 0.9440764066456531, 0.9211494032076356, 0.9942921513521159, 0.29771415074501084, 0.06267666331473913, 0.36039081405975, 0.2663758190876413, 0.8782903336831851, 0.9318611045991118, 0.891810581460226, 0.896231134219048, 0.8760219926186597, 0.9868846561047644, 0.9588377853507882, 0.9033868483304663, 0.41449109180781885, 0.5526547890770918, 0.8900312270099979, 0.9793532083810317, 0.937529625977325, 0.886286040192706, 0.8913642615539958, 0.7985943526626437, 0.8988599172303293, 0.5425893066707534, 0.4220139051883638, 0.8846842991939211, 0.9903188255227142, 0.8778287075081221, 0.8407829823441223, 0.9213148183389017, 0.9550051920308442, 0.9759598900774443, 0.9097467411338794, 0.8727365776688043, 0.8409557474140065, 0.948695848645994, 0.9725636965416565, 0.8521167836707602, 0.9372426339144995, 0.9349630324595284, 0.9096445581473128, 0.8861828365179046, 0.8651795664965765, 0.6840060399515092, 0.25650226498181594, 0.9408163433371476, 0.2081050976714248, 0.7283678418499868, 0.9630225036792802, 0.9567769248350261, 0.9463835444234626, 0.9872819950839121, 0.9692028668270279, 0.8928599442622445, 0.9127515057637023, 0.9820686145507104, 0.949270921863416, 0.9682527831161896, 0.3515826580072686, 0.527373987010903, 0.6995913209421419, 0.28619644947633077, 0.8796370503292062, 0.8394661634964947, 0.11192882179953263, 0.906702308078662], \"Term\": [\"act\", \"additional\", \"administrator\", \"agricultural\", \"amend\", \"amount\", \"amount\", \"annual\", \"appropriation\", \"area\", \"assistance\", \"assistant\", \"authorize\", \"balance\", \"barangay\", \"benefit\", \"bound\", \"bus\", \"business\", \"certain\", \"chapter\", \"charge\", \"charge\", \"child\", \"civil\", \"clearance\", \"clock\", \"close\", \"code\", \"code\", \"collection\", \"commercial\", \"compensation\", \"comprehensive\", \"condition\", \"construct\", \"construction\", \"continue_reade\", \"continue_reade\", \"continue_reading\", \"control\", \"corn\", \"corner\", \"cover\", \"date\", \"day\", \"death\", \"department\", \"document\", \"driver\", \"drug\", \"dutie\", \"duty\", \"educational\", \"employee\", \"enact\", \"equal\", \"establishment\", \"establishment\", \"establishment\", \"expense\", \"fee\", \"function\", \"fund\", \"fund\", \"garbage\", \"gold\", \"government\", \"government\", \"government\", \"government\", \"guideline\", \"guideline\", \"hire\", \"house\", \"house\", \"implementation\", \"implementation\", \"increase\", \"industrial\", \"inspection\", \"installation\", \"jeepney\", \"know\", \"law\", \"legal\", \"legislative\", \"license\", \"local\", \"local\", \"lot\", \"management\", \"market\", \"material\", \"mayor\", \"mayor\", \"medical\", \"medical\", \"mill\", \"monthly\", \"motorize\", \"moviehouse\", \"municipal\", \"municipality\", \"necessary\", \"new\", \"non\", \"office\", \"office\", \"office\", \"officer\", \"official\", \"operation\", \"operation\", \"operator\", \"order\", \"orderly\", \"own\", \"own\", \"owner\", \"park\", \"part\", \"passenger\", \"payment\", \"peaceful\", \"penalty\", \"penalty\", \"penalty\", \"permit\", \"peso\", \"peso\", \"peso\", \"plan\", \"poblacion\", \"policy\", \"poor\", \"portion\", \"position\", \"power\", \"premise\", \"private\", \"procedure\", \"program\", \"property\", \"provide\", \"provision\", \"public\", \"purpose\", \"purpose\", \"purpose\", \"purpose\", \"qualification\", \"rate\", \"real\", \"register\", \"regulate\", \"regulation\", \"republic_act\", \"residential\", \"revise\", \"revise\", \"rice\", \"road\", \"rule\", \"salary\", \"sale\", \"schedule\", \"scholarship\", \"school\", \"school\", \"section\", \"service\", \"show\", \"site\", \"situate\", \"space\", \"square_meter\", \"staff\", \"stall\", \"step\", \"street\", \"student\", \"subject\", \"supervise\", \"supply\", \"support\", \"swear\", \"system\", \"take\", \"take\", \"tax\", \"temporary\", \"temporary\", \"terminal\", \"territorial_jurisdiction\", \"therefore\", \"traffic\", \"tricycle\", \"truck\", \"unit\", \"use\", \"utility\", \"vehicle\", \"vendor\", \"vendor\", \"violation\", \"violation\", \"worker\", \"year\", \"year\", \"zone\"]}, \"R\": 30, \"lambda.step\": 0.01, \"plot.opts\": {\"xlab\": \"PC1\", \"ylab\": \"PC2\"}, \"topic.order\": [5, 4, 2, 1, 3]};\n",
       "\n",
       "function LDAvis_load_lib(url, callback){\n",
       "  var s = document.createElement('script');\n",
       "  s.src = url;\n",
       "  s.async = true;\n",
       "  s.onreadystatechange = s.onload = callback;\n",
       "  s.onerror = function(){console.warn(\"failed to load library \" + url);};\n",
       "  document.getElementsByTagName(\"head\")[0].appendChild(s);\n",
       "}\n",
       "\n",
       "if(typeof(LDAvis) !== \"undefined\"){\n",
       "   // already loaded: just create the visualization\n",
       "   !function(LDAvis){\n",
       "       new LDAvis(\"#\" + \"ldavis_el21301402025630457447927930167\", ldavis_el21301402025630457447927930167_data);\n",
       "   }(LDAvis);\n",
       "}else if(typeof define === \"function\" && define.amd){\n",
       "   // require.js is available: use it to load d3/LDAvis\n",
       "   require.config({paths: {d3: \"https://cdnjs.cloudflare.com/ajax/libs/d3/3.5.5/d3.min\"}});\n",
       "   require([\"d3\"], function(d3){\n",
       "      window.d3 = d3;\n",
       "      LDAvis_load_lib(\"https://cdn.rawgit.com/bmabey/pyLDAvis/files/ldavis.v1.0.0.js\", function(){\n",
       "        new LDAvis(\"#\" + \"ldavis_el21301402025630457447927930167\", ldavis_el21301402025630457447927930167_data);\n",
       "      });\n",
       "    });\n",
       "}else{\n",
       "    // require.js not available: dynamically load d3 & LDAvis\n",
       "    LDAvis_load_lib(\"https://cdnjs.cloudflare.com/ajax/libs/d3/3.5.5/d3.min.js\", function(){\n",
       "         LDAvis_load_lib(\"https://cdn.rawgit.com/bmabey/pyLDAvis/files/ldavis.v1.0.0.js\", function(){\n",
       "                 new LDAvis(\"#\" + \"ldavis_el21301402025630457447927930167\", ldavis_el21301402025630457447927930167_data);\n",
       "            })\n",
       "         });\n",
       "}\n",
       "</script>"
      ],
      "text/plain": [
       "PreparedData(topic_coordinates=              x         y  topics  cluster       Freq\n",
       "topic                                                \n",
       "4      0.215755 -0.061590       1        1  22.588448\n",
       "3      0.128550 -0.070858       2        1  21.637988\n",
       "1     -0.009040  0.282956       3        1  19.217542\n",
       "0     -0.176893 -0.060406       4        1  18.394626\n",
       "2     -0.158372 -0.090102       5        1  18.161396, topic_info=              Term        Freq       Total Category  logprob  loglift\n",
       "261      municipal  105.000000  105.000000  Default  30.0000  30.0000\n",
       "143         public   69.000000   69.000000  Default  29.0000  29.0000\n",
       "448   municipality   72.000000   72.000000  Default  28.0000  28.0000\n",
       "22       violation   94.000000   94.000000  Default  27.0000  27.0000\n",
       "23            fund   73.000000   73.000000  Default  26.0000  26.0000\n",
       "..             ...         ...         ...      ...      ...      ...\n",
       "122  establishment   11.341735   27.426994   Topic5  -4.3697   0.8228\n",
       "135         revise    7.847582   14.475583   Topic5  -4.7380   1.0936\n",
       "105           code    7.504263   14.696871   Topic5  -4.7828   1.0337\n",
       "429         vendor    6.471595   11.377125   Topic5  -4.9308   1.1417\n",
       "34          school    6.662531   16.587131   Topic5  -4.9017   0.7937\n",
       "\n",
       "[221 rows x 6 columns], token_table=      Topic      Freq           Term\n",
       "term                                \n",
       "79        3  0.911153            act\n",
       "353       4  0.954941     additional\n",
       "863       4  0.883658  administrator\n",
       "487       2  0.931053   agricultural\n",
       "202       4  0.869916          amend\n",
       "...     ...       ...            ...\n",
       "22        2  0.286196      violation\n",
       "76        5  0.879637         worker\n",
       "53        3  0.839466           year\n",
       "53        5  0.111929           year\n",
       "78        2  0.906702           zone\n",
       "\n",
       "[211 rows x 3 columns], R=30, lambda_step=0.01, plot_opts={'xlab': 'PC1', 'ylab': 'PC2'}, topic_order=[5, 4, 2, 1, 3])"
      ]
     },
     "execution_count": 21,
     "metadata": {},
     "output_type": "execute_result"
    }
   ],
   "source": [
    "# Visualize the topics\n",
    "pyLDAvis.enable_notebook()\n",
    "vis = pyLDAvis.gensim.prepare(lda_model, corpus, id2word)\n",
    "vis"
   ]
  },
  {
   "cell_type": "code",
   "execution_count": 22,
   "metadata": {},
   "outputs": [],
   "source": [
    "# Build Mallet LDA Model\n",
    "mallet_path = '/Users/root1/Documents/lda/mallet/bin/mallet'\n",
    "ldamallet = gensim.models.wrappers.LdaMallet(mallet_path, corpus=corpus, num_topics=15, id2word=id2word)"
   ]
  },
  {
   "cell_type": "code",
   "execution_count": 23,
   "metadata": {},
   "outputs": [
    {
     "name": "stdout",
     "output_type": "stream",
     "text": [
      "[(11,\n",
      "  [('medical', 0.07407407407407407),\n",
      "   ('monthly', 0.06397306397306397),\n",
      "   ('purpose', 0.05723905723905724),\n",
      "   ('act', 0.05723905723905724),\n",
      "   ('assistance', 0.037037037037037035),\n",
      "   ('official', 0.037037037037037035),\n",
      "   ('benefit', 0.037037037037037035),\n",
      "   ('republic_act', 0.03367003367003367),\n",
      "   ('amend', 0.030303030303030304),\n",
      "   ('death', 0.030303030303030304)]),\n",
      " (0,\n",
      "  [('municipal', 0.33766233766233766),\n",
      "   ('street', 0.06493506493506493),\n",
      "   ('territorial_jurisdiction', 0.05519480519480519),\n",
      "   ('material', 0.025974025974025976),\n",
      "   ('continue_reading', 0.025974025974025976),\n",
      "   ('town', 0.01948051948051948),\n",
      "   ('corner', 0.01948051948051948),\n",
      "   ('disability', 0.016233766233766232),\n",
      "   ('room', 0.016233766233766232),\n",
      "   ('slaughter', 0.016233766233766232)]),\n",
      " (8,\n",
      "  [('government', 0.1564625850340136),\n",
      "   ('code', 0.08163265306122448),\n",
      "   ('revise', 0.05102040816326531),\n",
      "   ('composition', 0.047619047619047616),\n",
      "   ('unit', 0.03741496598639456),\n",
      "   ('barangay', 0.03741496598639456),\n",
      "   ('comprehensive', 0.03741496598639456),\n",
      "   ('child', 0.034013605442176874),\n",
      "   ('annual', 0.030612244897959183),\n",
      "   ('structure', 0.023809523809523808)]),\n",
      " (7,\n",
      "  [('establishment', 0.12631578947368421),\n",
      "   ('business', 0.06666666666666667),\n",
      "   ('tax', 0.05964912280701754),\n",
      "   ('construction', 0.03508771929824561),\n",
      "   ('system', 0.03508771929824561),\n",
      "   ('incentive', 0.028070175438596492),\n",
      "   ('close', 0.028070175438596492),\n",
      "   ('civil', 0.02456140350877193),\n",
      "   ('inspection', 0.021052631578947368),\n",
      "   ('activity', 0.021052631578947368)]),\n",
      " (6,\n",
      "  [('public', 0.22077922077922077),\n",
      "   ('vehicle', 0.09415584415584416),\n",
      "   ('road', 0.06493506493506493),\n",
      "   ('utility', 0.048701298701298704),\n",
      "   ('passenger', 0.03896103896103896),\n",
      "   ('terminal', 0.03571428571428571),\n",
      "   ('register', 0.02922077922077922),\n",
      "   ('truck', 0.022727272727272728),\n",
      "   ('jeepney', 0.022727272727272728),\n",
      "   ('bus', 0.022727272727272728)]),\n",
      " (9,\n",
      "  [('fee', 0.14545454545454545),\n",
      "   ('operation', 0.14545454545454545),\n",
      "   ('regulation', 0.12424242424242424),\n",
      "   ('charge', 0.048484848484848485),\n",
      "   ('provision', 0.045454545454545456),\n",
      "   ('function', 0.045454545454545456),\n",
      "   ('procedure', 0.04242424242424243),\n",
      "   ('tricycle', 0.02727272727272727),\n",
      "   ('collection', 0.021212121212121213),\n",
      "   ('student', 0.021212121212121213)]),\n",
      " (1,\n",
      "  [('purpose', 0.19148936170212766),\n",
      "   ('position', 0.1094224924012158),\n",
      "   ('local', 0.06990881458966565),\n",
      "   ('legislative', 0.0668693009118541),\n",
      "   ('compensation', 0.05167173252279635),\n",
      "   ('officer', 0.04559270516717325),\n",
      "   ('staff', 0.0425531914893617),\n",
      "   ('qualification', 0.03343465045592705),\n",
      "   ('department', 0.02735562310030395),\n",
      "   ('office', 0.02735562310030395)]),\n",
      " (14,\n",
      "  [('market', 0.12903225806451613),\n",
      "   ('rule', 0.07741935483870968),\n",
      "   ('service', 0.06129032258064516),\n",
      "   ('management', 0.04838709677419355),\n",
      "   ('traffic', 0.041935483870967745),\n",
      "   ('clock', 0.02903225806451613),\n",
      "   ('vendor', 0.025806451612903226),\n",
      "   ('section', 0.02258064516129032),\n",
      "   ('similar', 0.01935483870967742),\n",
      "   ('temporary', 0.01935483870967742)]),\n",
      " (3,\n",
      "  [('penalty', 0.32335329341317365),\n",
      "   ('violation', 0.2874251497005988),\n",
      "   ('house', 0.023952095808383235),\n",
      "   ('control', 0.017964071856287425),\n",
      "   ('driver', 0.014970059880239521),\n",
      "   ('repair', 0.014970059880239521),\n",
      "   ('license', 0.014970059880239521),\n",
      "   ('bar', 0.011976047904191617),\n",
      "   ('disposal', 0.011976047904191617),\n",
      "   ('motor', 0.011976047904191617)]),\n",
      " (12,\n",
      "  [('amount', 0.11705685618729098),\n",
      "   ('office', 0.07023411371237458),\n",
      "   ('peso', 0.07023411371237458),\n",
      "   ('mayor', 0.05351170568561873),\n",
      "   ('support', 0.043478260869565216),\n",
      "   ('appropriation', 0.04013377926421405),\n",
      "   ('expense', 0.033444816053511704),\n",
      "   ('supply', 0.026755852842809364),\n",
      "   ('allowance', 0.026755852842809364),\n",
      "   ('honorable', 0.023411371237458192)])]\n",
      "\n",
      "Coherence Score:  0.5398590115259726\n"
     ]
    }
   ],
   "source": [
    "# Show Topics\n",
    "# Only few topics make sense for me\n",
    "pprint(ldamallet.show_topics(formatted=False))\n",
    "\n",
    "# Compute Coherence Score\n",
    "coherence_model_ldamallet = CoherenceModel(model=ldamallet, texts=data_lemmatized, dictionary=id2word, coherence='c_v')\n",
    "coherence_ldamallet = coherence_model_ldamallet.get_coherence()\n",
    "print('\\nCoherence Score: ', coherence_ldamallet)"
   ]
  },
  {
   "cell_type": "code",
   "execution_count": 24,
   "metadata": {},
   "outputs": [],
   "source": [
    "def compute_coherence_values(dictionary, corpus, texts, limit, start=2, step=3):\n",
    "    \"\"\"\n",
    "    Compute c_v coherence for various number of topics\n",
    "\n",
    "    Parameters:\n",
    "    ----------\n",
    "    dictionary : Gensim dictionary\n",
    "    corpus : Gensim corpus\n",
    "    texts : List of input texts\n",
    "    limit : Max num of topics\n",
    "\n",
    "    Returns:\n",
    "    -------\n",
    "    model_list : List of LDA topic models\n",
    "    coherence_values : Coherence values corresponding to the LDA model with respective number of topics\n",
    "    \"\"\"\n",
    "    coherence_values = []\n",
    "    model_list = []\n",
    "    for num_topics in range(start, limit, step):\n",
    "        model = gensim.models.wrappers.LdaMallet(mallet_path, corpus=corpus, num_topics=num_topics, id2word=id2word)\n",
    "        model_list.append(model)\n",
    "        coherencemodel = CoherenceModel(model=model, texts=texts, dictionary=dictionary, coherence='c_v')\n",
    "        coherence_values.append(coherencemodel.get_coherence())\n",
    "\n",
    "    return model_list, coherence_values"
   ]
  },
  {
   "cell_type": "code",
   "execution_count": null,
   "metadata": {},
   "outputs": [],
   "source": [
    "model_list, coherence_values = compute_coherence_values(dictionary=id2word, corpus=corpus, texts=data_lemmatized, start=2, limit=40, step=6)"
   ]
  },
  {
   "cell_type": "code",
   "execution_count": null,
   "metadata": {},
   "outputs": [],
   "source": [
    "# Show graph to find optimal number of topics\n",
    "# Coherence value not going flat seems unlikely or probably wrong\n",
    "limit=40; start=2; step=6;\n",
    "x = range(start, limit, step)\n",
    "plt.plot(x, coherence_values)\n",
    "plt.xlabel(\"Num Topics\")\n",
    "plt.ylabel(\"Coherence score\")\n",
    "plt.legend((\"coherence_values\"), loc='best')\n",
    "plt.show()"
   ]
  },
  {
   "cell_type": "code",
   "execution_count": null,
   "metadata": {},
   "outputs": [],
   "source": [
    "# Print the coherence scores with increasing number of topics\n",
    "\n",
    "for m, cv in zip(x, coherence_values):\n",
    "    print(\"Num Topics =\", m, \" has Coherence Value of\", round(cv, 4))"
   ]
  },
  {
   "cell_type": "code",
   "execution_count": null,
   "metadata": {},
   "outputs": [],
   "source": [
    "# Select the model and print the topics\n",
    "optimal_model = model_list[2] # when number of topics is 8\n",
    "model_topics = optimal_model.show_topics(formatted=False)\n",
    "pprint(optimal_model.print_topics(num_words=10))"
   ]
  },
  {
   "cell_type": "code",
   "execution_count": null,
   "metadata": {},
   "outputs": [],
   "source": [
    "# Finding the dominant topic in each sentence\n",
    "def format_topics_sentences(ldamodel=lda_model, corpus=corpus, texts=data):\n",
    "    # Init output\n",
    "    sent_topics_df = pd.DataFrame()\n",
    "\n",
    "    # Get main topic in each document\n",
    "    for i, row in enumerate(ldamodel[corpus]):\n",
    "        row = sorted(row, key=lambda x: (x[1]), reverse=True)\n",
    "        # Get the Dominant topic, Perc Contribution and Keywords for each document\n",
    "        for j, (topic_num, prop_topic) in enumerate(row):\n",
    "            if j == 0:  # => dominant topic\n",
    "                wp = ldamodel.show_topic(topic_num)\n",
    "                topic_keywords = \", \".join([word for word, prop in wp])\n",
    "                sent_topics_df = sent_topics_df.append(pd.Series([int(topic_num), round(prop_topic,4), topic_keywords]), ignore_index=True)\n",
    "            else:\n",
    "                break\n",
    "    sent_topics_df.columns = ['Dominant_Topic', 'Perc_Contribution', 'Topic_Keywords']\n",
    "\n",
    "    # Add original text to the end of the output\n",
    "    contents = pd.Series(texts)\n",
    "    sent_topics_df = pd.concat([sent_topics_df, contents], axis=1)\n",
    "    return(sent_topics_df)\n",
    "\n",
    "df_topic_sents_keywords = format_topics_sentences(ldamodel=optimal_model, corpus=corpus, texts=data)\n",
    "\n",
    "# Format\n",
    "df_dominant_topic = df_topic_sents_keywords.reset_index()\n",
    "df_dominant_topic.columns = ['Document_No', 'Dominant_Topic', 'Topic_Perc_Contrib', 'Keywords', 'Text']\n",
    "\n",
    "# Show\n",
    "df_dominant_topic.head(10)"
   ]
  },
  {
   "cell_type": "code",
   "execution_count": null,
   "metadata": {},
   "outputs": [],
   "source": [
    "# Convert malletmodel to to gensim lda model for pyLDAvis\n",
    "model = gensim.models.wrappers.ldamallet.malletmodel2ldamodel(ldamallet)\n",
    "pyLDAvis.enable_notebook()\n",
    "vis = pyLDAvis.gensim.prepare(model, corpus, id2word)\n",
    "vis"
   ]
  }
 ],
 "metadata": {
  "kernelspec": {
   "display_name": "Python 3",
   "language": "python",
   "name": "python3"
  },
  "language_info": {
   "codemirror_mode": {
    "name": "ipython",
    "version": 3
   },
   "file_extension": ".py",
   "mimetype": "text/x-python",
   "name": "python",
   "nbconvert_exporter": "python",
   "pygments_lexer": "ipython3",
   "version": "3.9.0"
  }
 },
 "nbformat": 4,
 "nbformat_minor": 4
}
