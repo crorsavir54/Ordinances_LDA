{
 "cells": [
  {
   "cell_type": "code",
   "execution_count": 1,
   "metadata": {},
   "outputs": [],
   "source": [
    "import re\n",
    "import numpy as np\n",
    "import pandas as pd"
   ]
  },
  {
   "cell_type": "code",
   "execution_count": 2,
   "metadata": {},
   "outputs": [],
   "source": [
    "#Gensim\n",
    "import gensim\n",
    "import gensim.corpora as corpora\n",
    "from gensim.utils import simple_preprocess\n",
    "from gensim.models import CoherenceModel"
   ]
  },
  {
   "cell_type": "code",
   "execution_count": 3,
   "metadata": {},
   "outputs": [],
   "source": [
    "#spacy for lemmatization\n",
    "import spacy"
   ]
  },
  {
   "cell_type": "code",
   "execution_count": 4,
   "metadata": {},
   "outputs": [],
   "source": [
    "# Plotting tools\n",
    "import pyLDAvis\n",
    "import pyLDAvis.gensim\n",
    "import matplotlib.pyplot as plt\n",
    "%matplotlib inline"
   ]
  },
  {
   "cell_type": "code",
   "execution_count": 5,
   "metadata": {},
   "outputs": [
    {
     "name": "stderr",
     "output_type": "stream",
     "text": [
      "/Users/root1/Documents/lda/myvenv/lib/python3.9/site-packages/ipykernel/ipkernel.py:287: DeprecationWarning: `should_run_async` will not call `transform_cell` automatically in the future. Please pass the result to `transformed_cell` argument and any exception that happen during thetransform in `preprocessing_exc_tuple` in IPython 7.17 and above.\n",
      "  and should_run_async(code)\n"
     ]
    }
   ],
   "source": [
    "import warnings\n",
    "warnings.filterwarnings(\"ignore\", category=DeprecationWarning)"
   ]
  },
  {
   "cell_type": "code",
   "execution_count": 6,
   "metadata": {},
   "outputs": [],
   "source": [
    "# NLTK for stopwords\n",
    "from nltk.corpus import stopwords\n",
    "stop_words = stopwords.words('english')\n",
    "stop_words.extend(['tagum', 'city', 'ordinance', 'municipal', 'municipality', 'thereof'])"
   ]
  },
  {
   "cell_type": "code",
   "execution_count": 7,
   "metadata": {},
   "outputs": [
    {
     "name": "stdout",
     "output_type": "stream",
     "text": [
      "                                     OR  \\\n",
      "0        CITY ORDINANCE No. 842, s-2018   \n",
      "1        CITY ORDINANCE NO. 825, s-2017   \n",
      "2        CITY ORDINANCE NO. 837, s-2018   \n",
      "3        CITY ORDINANCE NO. 844, s-2018   \n",
      "4        CITY ORDINANCE NO. 838, s-2018   \n",
      "..                                  ...   \n",
      "670  MUNICIPAL ORDINANCE NO. 05, s-1974   \n",
      "671  MUNICIPAL ORDINANCE NO. 04, s-1974   \n",
      "672  MUNICIPAL ORDINANCE NO. 01, s-1974   \n",
      "673    MUNICIPAL ORDINANCE NO. 03, 1973   \n",
      "674  MUNICIPAL ORDINANCE NO. 02, S-1973   \n",
      "\n",
      "                                                    OT  \n",
      "0    “AN ORDINANCE REGULATING THE PRACTICE OF TRADI...  \n",
      "1    “AN ORDINANCE RECONSTITUTING THE MEMBERS OF TH...  \n",
      "2    “AN ORDINANCE ESTABLISHING FUNERAL AND BURIAL ...  \n",
      "3    AN ORDINANCE AMENDING THE TITLE, SECTION 1, SE...  \n",
      "4    “AN ORDINANCE CREATING THE CITY HISTORICAL, CU...  \n",
      "..                                                 ...  \n",
      "670  “AN ORDINANCE AMENDING SECTION 10 OF MUNICIPAL...  \n",
      "671  “AN ORDINANCE REGULATING THE ELECTRICAL INSTAL...  \n",
      "672  “AN ORDINANCE PROHIBITING THE EMPLOYMENT OF “H...  \n",
      "673  “AN ORDINANCE REGULATING THE ESTABLISHMENT, OP...  \n",
      "674  “AN ORDINANCE PROHIBITING THE USE OF MUNICIPAL...  \n",
      "\n",
      "[675 rows x 2 columns]\n"
     ]
    },
    {
     "data": {
      "text/html": [
       "<div>\n",
       "<style scoped>\n",
       "    .dataframe tbody tr th:only-of-type {\n",
       "        vertical-align: middle;\n",
       "    }\n",
       "\n",
       "    .dataframe tbody tr th {\n",
       "        vertical-align: top;\n",
       "    }\n",
       "\n",
       "    .dataframe thead th {\n",
       "        text-align: right;\n",
       "    }\n",
       "</style>\n",
       "<table border=\"1\" class=\"dataframe\">\n",
       "  <thead>\n",
       "    <tr style=\"text-align: right;\">\n",
       "      <th></th>\n",
       "      <th>OR</th>\n",
       "      <th>OT</th>\n",
       "    </tr>\n",
       "  </thead>\n",
       "  <tbody>\n",
       "    <tr>\n",
       "      <th>0</th>\n",
       "      <td>CITY ORDINANCE No. 842, s-2018</td>\n",
       "      <td>“AN ORDINANCE REGULATING THE PRACTICE OF TRADI...</td>\n",
       "    </tr>\n",
       "    <tr>\n",
       "      <th>1</th>\n",
       "      <td>CITY ORDINANCE NO. 825, s-2017</td>\n",
       "      <td>“AN ORDINANCE RECONSTITUTING THE MEMBERS OF TH...</td>\n",
       "    </tr>\n",
       "    <tr>\n",
       "      <th>2</th>\n",
       "      <td>CITY ORDINANCE NO. 837, s-2018</td>\n",
       "      <td>“AN ORDINANCE ESTABLISHING FUNERAL AND BURIAL ...</td>\n",
       "    </tr>\n",
       "    <tr>\n",
       "      <th>3</th>\n",
       "      <td>CITY ORDINANCE NO. 844, s-2018</td>\n",
       "      <td>AN ORDINANCE AMENDING THE TITLE, SECTION 1, SE...</td>\n",
       "    </tr>\n",
       "    <tr>\n",
       "      <th>4</th>\n",
       "      <td>CITY ORDINANCE NO. 838, s-2018</td>\n",
       "      <td>“AN ORDINANCE CREATING THE CITY HISTORICAL, CU...</td>\n",
       "    </tr>\n",
       "  </tbody>\n",
       "</table>\n",
       "</div>"
      ],
      "text/plain": [
       "                               OR  \\\n",
       "0  CITY ORDINANCE No. 842, s-2018   \n",
       "1  CITY ORDINANCE NO. 825, s-2017   \n",
       "2  CITY ORDINANCE NO. 837, s-2018   \n",
       "3  CITY ORDINANCE NO. 844, s-2018   \n",
       "4  CITY ORDINANCE NO. 838, s-2018   \n",
       "\n",
       "                                                  OT  \n",
       "0  “AN ORDINANCE REGULATING THE PRACTICE OF TRADI...  \n",
       "1  “AN ORDINANCE RECONSTITUTING THE MEMBERS OF TH...  \n",
       "2  “AN ORDINANCE ESTABLISHING FUNERAL AND BURIAL ...  \n",
       "3  AN ORDINANCE AMENDING THE TITLE, SECTION 1, SE...  \n",
       "4  “AN ORDINANCE CREATING THE CITY HISTORICAL, CU...  "
      ]
     },
     "execution_count": 7,
     "metadata": {},
     "output_type": "execute_result"
    }
   ],
   "source": [
    "# Import Dataset\n",
    "df = pd.read_csv('tagum_ordinances.csv', header = 0)\n",
    "print(df)\n",
    "df.head()"
   ]
  },
  {
   "cell_type": "code",
   "execution_count": 8,
   "metadata": {},
   "outputs": [
    {
     "name": "stdout",
     "output_type": "stream",
     "text": [
      "['“AN ORDINANCE REGULATING THE PRACTICE OF TRADITIONAL HOME BIRTH DELIVERY OR DELIVERIES ATTENDED BY A TRADITIONAL BIRTH ATTENDANT OR MANANABANG”.']\n"
     ]
    }
   ],
   "source": [
    "# List all ordinance titles\n",
    "# Convert to list\n",
    "data = list(df.OT) \n",
    "print(data[:1])"
   ]
  },
  {
   "cell_type": "code",
   "execution_count": 9,
   "metadata": {},
   "outputs": [
    {
     "name": "stdout",
     "output_type": "stream",
     "text": [
      "['“AN ORDINANCE THE PRACTICE OF TRADITIONAL HOME BIRTH DELIVERY OR DELIVERIES ATTENDED BY A TRADITIONAL BIRTH ATTENDANT OR MANANABANG”.', '“AN ORDINANCE THE MEMBERS OF THE CITY TRICYCLE AND REGULATORY BOARD (CTFRB) ITS FUNCTIONS AND PROCEDURES AND MOTORIZED TRICYCLE FOR HIRE (MTH), TRICYCLE UTILITY VEHICLE (TUV) AND TRICYCLE UTILITY FOR HIRE (TUH) GUIDELINES, REGULATIONS AND OPERATIONS, THE COLLECTION OF FEES, CHARGES,ADMINISTRATIVE PROVISIONS AND PENALTIES FOR VIOLATION THEREOF”.', '“AN ORDINANCE FUNERAL AND BURIAL ASSISTANCE FOR INDIGENT TAGUMENYOS, ITS MANAGEMENT, PROCEDURES AND GUIDELINES AND FUNDS THEREFOR”.', 'AN ORDINANCE THE TITLE, SECTION 1, SECTION 2 AND SECTION 3 OF CITY ORDINANCE NO. 820, S-2017 “AN ORDINANCE INTO A LOAN AGREEMENT WITH THE DEVELOPMENT BANK OF THE PHILIPPINES, IN THE AMOUNT OF SIX HUNDRED EIGHTY MILLION PESOS (P 680,000,000.00) TO FUND THE ACQUISITION OF HEAVY EQUIPMENT,ACQUISITION OF SERVICE VEHICLES, ACQUISITION OF continue reading : CITY ORDINANCE NO. 844, s-2018', '“AN ORDINANCE THE CITY HISTORICAL, CULTURAL AND ARTS COUNCIL IN THE CITY OF TAGUM”.']\n"
     ]
    }
   ],
   "source": [
    "# Remove new line characters\n",
    "data = [re.sub('\\s+', ' ', sent) for sent in data]\n",
    "\n",
    "# Remove distracting single quotes\n",
    "data = [re.sub(\"\\'\", \"\", sent) for sent in data]\n",
    "data = [re.sub(\"\\\"\", \"\", sent) for sent in data]\n",
    "\n",
    "# Remove words ending with ING like amending, regulating\n",
    "data = [re.sub('\\S*ING\\S*\\s?', '', sent) for sent in data]\n",
    "\n",
    "\n",
    "print(data[:5])"
   ]
  },
  {
   "cell_type": "code",
   "execution_count": 10,
   "metadata": {},
   "outputs": [
    {
     "name": "stdout",
     "output_type": "stream",
     "text": [
      "[['an', 'ordinance', 'the', 'practice', 'of', 'traditional', 'home', 'birth', 'delivery', 'or', 'deliveries', 'attended', 'by', 'traditional', 'birth', 'attendant', 'or', 'mananabang'], ['an', 'ordinance', 'the', 'members', 'of', 'the', 'city', 'tricycle', 'and', 'regulatory', 'board', 'ctfrb', 'its', 'functions', 'and', 'procedures', 'and', 'motorized', 'tricycle', 'for', 'hire', 'mth', 'tricycle', 'utility', 'vehicle', 'tuv', 'and', 'tricycle', 'utility', 'for', 'hire', 'tuh', 'guidelines', 'regulations', 'and', 'operations', 'the', 'collection', 'of', 'fees', 'charges', 'administrative', 'provisions', 'and', 'penalties', 'for', 'violation', 'thereof'], ['an', 'ordinance', 'funeral', 'and', 'burial', 'assistance', 'for', 'indigent', 'tagumenyos', 'its', 'management', 'procedures', 'and', 'guidelines', 'and', 'funds', 'therefor'], ['an', 'ordinance', 'the', 'title', 'section', 'section', 'and', 'section', 'of', 'city', 'ordinance', 'no', 'an', 'ordinance', 'into', 'loan', 'agreement', 'with', 'the', 'development', 'bank', 'of', 'the', 'philippines', 'in', 'the', 'amount', 'of', 'six', 'hundred', 'eighty', 'million', 'pesos', 'to', 'fund', 'the', 'acquisition', 'of', 'heavy', 'equipment', 'acquisition', 'of', 'service', 'vehicles', 'acquisition', 'of', 'continue', 'reading', 'city', 'ordinance', 'no'], ['an', 'ordinance', 'the', 'city', 'historical', 'cultural', 'and', 'arts', 'council', 'in', 'the', 'city', 'of', 'tagum']]\n"
     ]
    }
   ],
   "source": [
    "#preprocess using gensim\n",
    "def sent_to_words(sentences):\n",
    "    for sentence in sentences:\n",
    "        yield(gensim.utils.simple_preprocess(str(sentence), deacc=True))  # deacc=True removes punctuations\n",
    "\n",
    "data_words = list(sent_to_words(data))\n",
    "\n",
    "print(data_words[:5])"
   ]
  },
  {
   "cell_type": "code",
   "execution_count": 11,
   "metadata": {},
   "outputs": [
    {
     "name": "stdout",
     "output_type": "stream",
     "text": [
      "['an', 'ordinance', 'the', 'practice', 'of', 'traditional', 'home', 'birth', 'delivery', 'or', 'deliveries', 'attended', 'by', 'traditional', 'birth', 'attendant', 'or', 'mananabang']\n"
     ]
    }
   ],
   "source": [
    "# Build the bigram and trigram models\n",
    "bigram = gensim.models.Phrases(data_words, min_count=5, threshold=100) # higher threshold fewer phrases.\n",
    "trigram = gensim.models.Phrases(bigram[data_words], threshold=100)  \n",
    "\n",
    "# Faster way to get a sentence clubbed as a trigram/bigram\n",
    "bigram_mod = gensim.models.phrases.Phraser(bigram)\n",
    "trigram_mod = gensim.models.phrases.Phraser(trigram)\n",
    "\n",
    "# See trigram example\n",
    "print(trigram_mod[bigram_mod[data_words[0]]])"
   ]
  },
  {
   "cell_type": "code",
   "execution_count": 12,
   "metadata": {},
   "outputs": [],
   "source": [
    "# Define functions for stopwords, bigrams, trigrams and lemmatization\n",
    "def remove_stopwords(texts):\n",
    "    return [[word for word in simple_preprocess(str(doc)) if word not in stop_words] for doc in texts]\n",
    "\n",
    "def make_bigrams(texts):\n",
    "    return [bigram_mod[doc] for doc in texts]\n",
    "\n",
    "def make_trigrams(texts):\n",
    "    return [trigram_mod[bigram_mod[doc]] for doc in texts]\n",
    "\n",
    "def lemmatization(texts, allowed_postags=['NOUN', 'ADJ', 'VERB', 'ADV']):\n",
    "    \"\"\"https://spacy.io/api/annotation\"\"\"\n",
    "    texts_out = []\n",
    "    for sent in texts:\n",
    "        doc = nlp(\" \".join(sent)) \n",
    "        texts_out.append([token.lemma_ for token in doc if token.pos_ in allowed_postags])\n",
    "    return texts_out"
   ]
  },
  {
   "cell_type": "code",
   "execution_count": 13,
   "metadata": {},
   "outputs": [
    {
     "name": "stdout",
     "output_type": "stream",
     "text": [
      "[['practice', 'traditional', 'home', 'birth', 'delivery', 'delivery', 'attend', 'traditional', 'birth', 'attendant', 'mananabang'], ['function', 'procedure', 'tricycle', 'utility', 'vehicle', 'tricycle', 'utility', 'hire', 'guideline', 'operation', 'collection', 'fee', 'charge', 'administrative', 'provision', 'penalty', 'violation'], ['indigent', 'management', 'procedure', 'guideline', 'fund'], ['section', 'loan', 'amount', 'acquisition', 'equipment', 'acquisition', 'service', 'vehicle', 'acquisition', 'continue_reading']]\n"
     ]
    }
   ],
   "source": [
    "# Remove Stop Words\n",
    "data_words_nostops = remove_stopwords(data_words)\n",
    "\n",
    "# Form Bigrams\n",
    "data_words_bigrams = make_bigrams(data_words_nostops)\n",
    "\n",
    "# Initialize spacy 'en' model, keeping only tagger component (for efficiency)\n",
    "# python3 -m spacy download en\n",
    "nlp = spacy.load('en', disable=['parser', 'ner'])\n",
    "\n",
    "# Do lemmatization keeping only noun, adj, vb, adv\n",
    "data_lemmatized = lemmatization(data_words_bigrams, allowed_postags=['NOUN', 'ADJ', 'VERB', 'ADV'])\n",
    "\n",
    "print(data_lemmatized[:4])"
   ]
  },
  {
   "cell_type": "code",
   "execution_count": 14,
   "metadata": {},
   "outputs": [
    {
     "name": "stdout",
     "output_type": "stream",
     "text": [
      "[[(0, 1), (1, 1), (2, 2), (3, 2), (4, 1), (5, 1), (6, 1), (7, 2)]]\n"
     ]
    }
   ],
   "source": [
    "# Create Dictionary\n",
    "id2word = corpora.Dictionary(data_lemmatized)\n",
    "\n",
    "# Create Corpus\n",
    "texts = data_lemmatized\n",
    "\n",
    "# Term Document Frequency\n",
    "corpus = [id2word.doc2bow(text) for text in texts]\n",
    "\n",
    "# View\n",
    "print(corpus[:1])"
   ]
  },
  {
   "cell_type": "code",
   "execution_count": 15,
   "metadata": {},
   "outputs": [
    {
     "data": {
      "text/plain": [
       "'attend'"
      ]
     },
     "execution_count": 15,
     "metadata": {},
     "output_type": "execute_result"
    }
   ],
   "source": [
    "id2word[0]"
   ]
  },
  {
   "cell_type": "code",
   "execution_count": 16,
   "metadata": {},
   "outputs": [
    {
     "data": {
      "text/plain": [
       "[[('attend', 1),\n",
       "  ('attendant', 1),\n",
       "  ('birth', 2),\n",
       "  ('delivery', 2),\n",
       "  ('home', 1),\n",
       "  ('mananabang', 1),\n",
       "  ('practice', 1),\n",
       "  ('traditional', 2)]]"
      ]
     },
     "execution_count": 16,
     "metadata": {},
     "output_type": "execute_result"
    }
   ],
   "source": [
    "# Human readable format of corpus (term-frequency)\n",
    "[[(id2word[id], freq) for id, freq in cp] for cp in corpus[:1]]"
   ]
  },
  {
   "cell_type": "code",
   "execution_count": 33,
   "metadata": {},
   "outputs": [],
   "source": [
    "# Build LDA model\n",
    "lda_model = gensim.models.ldamodel.LdaModel(corpus=corpus,\n",
    "                                           id2word=id2word,\n",
    "                                           num_topics=5, \n",
    "                                           random_state=100,\n",
    "                                           update_every=1,\n",
    "                                           chunksize=100,\n",
    "                                           passes=50,\n",
    "                                           alpha='auto',\n",
    "                                           per_word_topics=True)"
   ]
  },
  {
   "cell_type": "code",
   "execution_count": 34,
   "metadata": {},
   "outputs": [
    {
     "name": "stdout",
     "output_type": "stream",
     "text": [
      "[(0, '0.078*\"penalty\" + 0.069*\"violation\" + 0.050*\"public\" + 0.024*\"vehicle\" + 0.020*\"market\" + 0.018*\"government\" + 0.018*\"office\" + 0.017*\"fee\" + 0.017*\"use\" + 0.015*\"road\"'), (1, '0.026*\"service\" + 0.024*\"mayor\" + 0.022*\"amount\" + 0.019*\"fee\" + 0.017*\"permit\" + 0.016*\"private\" + 0.015*\"development\" + 0.014*\"house\" + 0.011*\"appropriation\" + 0.011*\"annual\"'), (2, '0.037*\"position\" + 0.025*\"fund\" + 0.023*\"necessary\" + 0.021*\"legislative\" + 0.018*\"compensation\" + 0.018*\"market\" + 0.016*\"officer\" + 0.014*\"situate\" + 0.012*\"staff\" + 0.012*\"establishment\"'), (3, '0.031*\"regulation\" + 0.024*\"street\" + 0.021*\"business\" + 0.019*\"medical\" + 0.019*\"guideline\" + 0.018*\"new\" + 0.018*\"rule\" + 0.018*\"implementation\" + 0.016*\"portion\" + 0.015*\"certain\"'), (4, '0.064*\"section\" + 0.059*\"purpose\" + 0.043*\"fund\" + 0.031*\"area\" + 0.025*\"duty\" + 0.022*\"tax\" + 0.020*\"operation\" + 0.019*\"provide\" + 0.018*\"establishment\" + 0.016*\"year\"')]\n"
     ]
    }
   ],
   "source": [
    "print(lda_model.print_topics())\n",
    "doc_lda = lda_model[corpus]"
   ]
  },
  {
   "cell_type": "code",
   "execution_count": 35,
   "metadata": {},
   "outputs": [
    {
     "name": "stdout",
     "output_type": "stream",
     "text": [
      "\n",
      "Perplexity:  -6.761623310096045\n",
      "\n",
      "Coherence Score:  0.49439785806596276\n"
     ]
    }
   ],
   "source": [
    "# Compute Perplexity\n",
    "print('\\nPerplexity: ', lda_model.log_perplexity(corpus))  # a measure of how good the model is. lower the better.\n",
    "\n",
    "# Compute Coherence Score\n",
    "coherence_model_lda = CoherenceModel(model=lda_model, texts=data_lemmatized, dictionary=id2word, coherence='c_v')\n",
    "coherence_lda = coherence_model_lda.get_coherence()\n",
    "print('\\nCoherence Score: ', coherence_lda)"
   ]
  },
  {
   "cell_type": "code",
   "execution_count": 40,
   "metadata": {},
   "outputs": [
    {
     "data": {
      "text/html": [
       "\n",
       "<link rel=\"stylesheet\" type=\"text/css\" href=\"https://cdn.rawgit.com/bmabey/pyLDAvis/files/ldavis.v1.0.0.css\">\n",
       "\n",
       "\n",
       "<div id=\"ldavis_el3939140516662193280442216921\"></div>\n",
       "<script type=\"text/javascript\">\n",
       "\n",
       "var ldavis_el3939140516662193280442216921_data = {\"mdsDat\": {\"x\": [-0.27441858872346825, 0.18153985623570268, 0.09221626828066039, -0.05728048648726208, 0.05794295069436717], \"y\": [-0.1337511469186497, -0.18084190231558775, 0.035113116969119854, 0.20226510465018008, 0.07721482761493759], \"topics\": [1, 2, 3, 4, 5], \"cluster\": [1, 1, 1, 1, 1], \"Freq\": [28.676247053573707, 21.97794236617972, 18.760425221991074, 15.680609106522775, 14.904776251732724]}, \"tinfo\": {\"Term\": [\"penalty\", \"violation\", \"section\", \"purpose\", \"public\", \"fund\", \"position\", \"area\", \"regulation\", \"duty\", \"vehicle\", \"service\", \"street\", \"mayor\", \"market\", \"tax\", \"necessary\", \"business\", \"amount\", \"guideline\", \"medical\", \"provide\", \"legislative\", \"operation\", \"office\", \"establishment\", \"new\", \"rule\", \"implementation\", \"fee\", \"penalty\", \"violation\", \"public\", \"vehicle\", \"office\", \"road\", \"school\", \"utility\", \"function\", \"passenger\", \"davao\", \"charge\", \"monthly\", \"territorial_jurisdiction\", \"composition\", \"property\", \"material\", \"unit\", \"clock\", \"poblacion\", \"owner\", \"bus\", \"jeepney\", \"garbage\", \"truck\", \"gold\", \"real\", \"structure\", \"collection\", \"regulate\", \"use\", \"government\", \"market\", \"fee\", \"management\", \"operation\", \"amount\", \"section\", \"area\", \"duty\", \"tax\", \"provide\", \"rate\", \"code\", \"policy\", \"revise\", \"terminal\", \"cover\", \"sale\", \"own\", \"commercial\", \"purpose\", \"continue_reade\", \"residential\", \"article\", \"comprehensive\", \"lot\", \"square_meter\", \"locate\", \"chapter\", \"site\", \"child\", \"enact\", \"agricultural\", \"embrace\", \"resolution\", \"incentive\", \"year\", \"fund\", \"establishment\", \"operation\", \"guideline\", \"person\", \"government\", \"regulation\", \"street\", \"business\", \"medical\", \"rule\", \"new\", \"implementation\", \"portion\", \"certain\", \"act\", \"park\", \"continue_reading\", \"construction\", \"support\", \"temporary\", \"expense\", \"official\", \"part\", \"educational\", \"death\", \"assistance\", \"town\", \"inspection\", \"order\", \"scholarship\", \"cable\", \"republic_act\", \"vehicular\", \"slaughter\", \"worker\", \"special\", \"traffic\", \"guideline\", \"provision\", \"program\", \"fund\", \"person\", \"fee\", \"mayor\", \"service\", \"permit\", \"private\", \"development\", \"house\", \"appropriation\", \"annual\", \"place\", \"issuance\", \"clearance\", \"document\", \"amend\", \"secure\", \"subject\", \"motorize\", \"balance\", \"render\", \"certification\", \"employment\", \"high\", \"shall\", \"hereunder\", \"concern\", \"series\", \"swear\", \"equipment\", \"motor\", \"day\", \"pay\", \"license\", \"take\", \"amount\", \"fee\", \"peso\", \"authorize\", \"position\", \"necessary\", \"legislative\", \"compensation\", \"officer\", \"situate\", \"staff\", \"power\", \"qualification\", \"industrial\", \"installation\", \"stall\", \"know\", \"system\", \"barangay\", \"employee\", \"department\", \"salary\", \"register\", \"dutie\", \"rice\", \"allowance\", \"construct\", \"assistant\", \"corn\", \"line\", \"late\", \"former\", \"mill\", \"honor\", \"administrator\", \"premise\", \"fund\", \"market\", \"local\", \"establishment\", \"peso\"], \"Freq\": [110.0, 98.0, 70.0, 67.0, 70.0, 73.0, 28.0, 33.0, 29.0, 27.0, 33.0, 20.0, 22.0, 19.0, 41.0, 23.0, 17.0, 19.0, 26.0, 32.0, 18.0, 20.0, 15.0, 40.0, 25.0, 28.0, 17.0, 17.0, 17.0, 45.0, 109.45169817110744, 97.61218464694981, 70.0987492223302, 33.14011775896002, 24.731949259994785, 21.268268610155783, 18.156778906506332, 18.04776304591148, 16.05553716201284, 13.841719539120033, 13.870521409464985, 13.084687202678987, 12.62527419313578, 12.370372453541151, 10.199213981657827, 9.329958354342553, 9.107690330151307, 9.090084591049736, 8.82511736400724, 8.532903065985515, 8.322867924810657, 8.221566311575556, 7.853623172994498, 7.701967202429694, 7.64177256718863, 7.046850388601685, 6.9399251028296645, 6.8000726070104776, 6.132682858324313, 6.089541115450894, 23.756488623471764, 25.924026014906623, 28.413732542481053, 23.828030405097305, 9.037391468795748, 18.489793556126912, 8.886119601959384, 69.52817362482267, 33.15841838388748, 26.89115492283203, 23.367514068919895, 20.052592518165717, 17.04485420368466, 15.643918574249941, 14.936843992059776, 14.361810154078958, 13.94332585785456, 11.859723799897205, 11.122890835402838, 10.629672419982663, 10.648646810593497, 63.334621741146805, 9.646311266101245, 9.488042726882174, 9.252368979904173, 9.242460589962857, 9.248922933468513, 8.852102232316422, 8.772963936951706, 8.692226410341, 7.884889892127578, 7.513308159868669, 6.776410280071995, 6.731267474340371, 6.464967291597083, 6.090335546568528, 5.502324686759031, 17.05240249465062, 46.368281840773676, 19.188945246126835, 21.692822054925713, 15.076162295199104, 10.274908783215311, 10.410372425768022, 28.752728121762456, 21.98559633433771, 19.1820585998321, 17.75606486994203, 16.68403523162158, 16.88742682781181, 16.572520795499607, 14.349841109459133, 14.185199156124911, 10.94065861335943, 10.955086315435116, 11.091943301487461, 9.541372541092853, 9.128685623056551, 8.110181264605314, 8.13495165486066, 7.672800416090061, 7.690911933010367, 7.044074681659453, 6.9142335244150805, 6.676815609532951, 6.473282262071878, 6.472823503413523, 5.909360913176298, 5.817762530607356, 5.610126987278033, 5.662558205065944, 5.0126410851940495, 4.800694585033965, 4.786570574317321, 4.859359422344395, 11.970112183609798, 17.330302471043996, 7.8159537358635385, 8.261056162695827, 8.393965590629929, 6.573745683209297, 6.863241726350154, 18.857517354451275, 19.917842529423314, 13.319497568226845, 11.968863350391299, 11.369926729161671, 10.681932197003, 8.49448320789678, 8.490928072101498, 8.075153827843923, 6.692550674289997, 6.204404176642246, 5.864349801019765, 5.985963306108865, 4.96292217797552, 5.076616512166164, 4.732286782367739, 4.383376880145521, 4.176364719229932, 4.174663984200419, 4.193321445999809, 4.238842048108095, 4.110680156655622, 4.160336449455269, 4.045932308814687, 4.100599612550987, 3.704623834087691, 3.7266978452940585, 3.716363824531024, 3.734666203589399, 3.648767416055899, 8.119416022462566, 8.418257104009074, 16.907769153531643, 14.859897481308206, 6.491013034744479, 4.13087032646451, 27.371461290268506, 16.502453143800658, 15.069953995654334, 13.04958080959107, 11.702465596570546, 10.227863509750781, 9.004200698031708, 8.346000159902479, 8.105395850554036, 7.410329475337485, 7.166698799713418, 6.986617038122814, 6.4694189590408815, 6.527639994150682, 6.304331156481145, 6.225691363251921, 6.145081770051691, 6.08260716826853, 6.0651970304790455, 5.7697727647649195, 5.805630495630074, 5.365430709801526, 5.633499258974423, 5.281736734734011, 5.287121264176588, 4.9056237016004465, 4.722329923840902, 4.377202676945655, 4.375414431649729, 4.3237481345931394, 4.613588228975735, 7.0897100619692495, 17.98080918066912, 12.960172640013067, 6.897477787875571, 8.943964133013942, 6.607945858665155], \"Total\": [110.0, 98.0, 70.0, 67.0, 70.0, 73.0, 28.0, 33.0, 29.0, 27.0, 33.0, 20.0, 22.0, 19.0, 41.0, 23.0, 17.0, 19.0, 26.0, 32.0, 18.0, 20.0, 15.0, 40.0, 25.0, 28.0, 17.0, 17.0, 17.0, 45.0, 110.09119321986836, 98.24933288377362, 70.74091120290899, 33.77388090110969, 25.39505678795086, 21.91141866243978, 18.793218063956964, 18.681846294041836, 16.693575949595115, 14.474187323331499, 14.511148470273996, 13.71716778879018, 13.280021542490411, 13.028096650680737, 10.841842530996008, 9.965315031985284, 9.743976867081907, 9.732932690379243, 9.458423804804394, 9.167765379929982, 8.96145716463505, 8.853158028622405, 8.4843852291584, 8.333981394739977, 8.275741415764976, 7.684044816372753, 7.569895542092874, 7.479206220819547, 6.7631809798542175, 6.719662326978173, 28.724600112000893, 36.80287040537239, 41.862598578142595, 45.87865673067671, 11.614788048799808, 40.64193314320138, 26.285347995850408, 70.14783861424634, 33.77672993228759, 27.514893156539035, 23.986763771548937, 20.70004859995748, 17.666041092666514, 16.255618233799893, 15.55349482650619, 14.97807340322173, 14.596065994215909, 12.473544961361794, 11.744110958977938, 11.243928260166753, 11.274270798755593, 67.1446594158023, 10.276792155085197, 10.10842634638117, 9.864863956836631, 9.857463002557655, 9.865484402585052, 9.46461237350606, 9.387785150776878, 9.306695169263962, 8.499537131436911, 8.142581732078758, 7.387657243641313, 7.3438379288722695, 7.079265205943527, 6.716815652199351, 6.11888171484974, 19.919290986968452, 73.0499495886148, 28.61451657802502, 40.64193314320138, 32.86010549554876, 17.31882576415652, 36.80287040537239, 29.38448270411697, 22.639932870320877, 19.84564526676392, 18.393481474416596, 17.310462205131266, 17.52680478833251, 17.202554184065924, 14.989739654939724, 14.819483502832272, 11.56689967928945, 11.597253599408255, 11.753339687834494, 10.172381544515567, 9.783566178742372, 8.73835007290072, 8.788137178782268, 8.30542140318131, 8.353109744266636, 7.666114270986468, 7.537403003092937, 7.300425307772418, 7.108333077407156, 7.107949144424261, 6.537486682551292, 6.43900330890952, 6.23317279606591, 6.291777919896033, 5.635630974737071, 5.423160884406232, 5.412997859637902, 5.495384245410084, 16.447048572537327, 32.86010549554876, 11.831710748953128, 15.808853436920574, 73.0499495886148, 17.31882576415652, 45.87865673067671, 19.508006485251016, 20.621415168587085, 13.968086941943593, 12.641152496579616, 12.020450882569028, 11.345799770345991, 9.141569914015552, 9.144857275236697, 8.744828008293414, 7.349257231161721, 6.856068436968396, 6.509191438888344, 6.647814059413187, 5.608439933547819, 5.769725433120473, 5.393884967436382, 5.026972827405976, 4.820105453071182, 4.820142750207736, 4.842607056844009, 4.899619927712239, 4.75591304798805, 4.8218804281823715, 4.693321507617089, 4.780367523264221, 4.349375194016146, 4.3808102574410706, 4.372082065670732, 4.401392605814006, 4.30250181221091, 9.99619108753148, 10.979119031868489, 26.285347995850408, 45.87865673067671, 13.59653488068625, 7.381953553446262, 28.012549893804675, 17.142992090344265, 15.708207194027615, 13.687786703636213, 12.371309168668718, 10.875058613615503, 9.64369332123165, 8.986962178705218, 8.742444280325978, 8.06007690551243, 7.808430151874398, 7.6427116419493135, 7.109951457679259, 7.194306612479338, 6.950364478918009, 6.874553914198495, 6.786023205926687, 6.730336184078995, 6.722030169029368, 6.4067906118428795, 6.448348710659719, 6.004824042231231, 6.307243260384527, 5.922768006465703, 5.931631276247216, 5.549970162963865, 5.366711239287992, 5.0160138445582465, 5.014683141161645, 4.967119351659882, 5.311856023760105, 9.396820520718087, 73.0499495886148, 41.862598578142595, 14.32051846539427, 28.61451657802502, 13.59653488068625], \"Category\": [\"Default\", \"Default\", \"Default\", \"Default\", \"Default\", \"Default\", \"Default\", \"Default\", \"Default\", \"Default\", \"Default\", \"Default\", \"Default\", \"Default\", \"Default\", \"Default\", \"Default\", \"Default\", \"Default\", \"Default\", \"Default\", \"Default\", \"Default\", \"Default\", \"Default\", \"Default\", \"Default\", \"Default\", \"Default\", \"Default\", \"Topic1\", \"Topic1\", \"Topic1\", \"Topic1\", \"Topic1\", \"Topic1\", \"Topic1\", \"Topic1\", \"Topic1\", \"Topic1\", \"Topic1\", \"Topic1\", \"Topic1\", \"Topic1\", \"Topic1\", \"Topic1\", \"Topic1\", \"Topic1\", \"Topic1\", \"Topic1\", \"Topic1\", \"Topic1\", \"Topic1\", \"Topic1\", \"Topic1\", \"Topic1\", \"Topic1\", \"Topic1\", \"Topic1\", \"Topic1\", \"Topic1\", \"Topic1\", \"Topic1\", \"Topic1\", \"Topic1\", \"Topic1\", \"Topic1\", \"Topic2\", \"Topic2\", \"Topic2\", \"Topic2\", \"Topic2\", \"Topic2\", \"Topic2\", \"Topic2\", \"Topic2\", \"Topic2\", \"Topic2\", \"Topic2\", \"Topic2\", \"Topic2\", \"Topic2\", \"Topic2\", \"Topic2\", \"Topic2\", \"Topic2\", \"Topic2\", \"Topic2\", \"Topic2\", \"Topic2\", \"Topic2\", \"Topic2\", \"Topic2\", \"Topic2\", \"Topic2\", \"Topic2\", \"Topic2\", \"Topic2\", \"Topic2\", \"Topic2\", \"Topic2\", \"Topic2\", \"Topic2\", \"Topic2\", \"Topic3\", \"Topic3\", \"Topic3\", \"Topic3\", \"Topic3\", \"Topic3\", \"Topic3\", \"Topic3\", \"Topic3\", \"Topic3\", \"Topic3\", \"Topic3\", \"Topic3\", \"Topic3\", \"Topic3\", \"Topic3\", \"Topic3\", \"Topic3\", \"Topic3\", \"Topic3\", \"Topic3\", \"Topic3\", \"Topic3\", \"Topic3\", \"Topic3\", \"Topic3\", \"Topic3\", \"Topic3\", \"Topic3\", \"Topic3\", \"Topic3\", \"Topic3\", \"Topic3\", \"Topic3\", \"Topic3\", \"Topic3\", \"Topic3\", \"Topic3\", \"Topic4\", \"Topic4\", \"Topic4\", \"Topic4\", \"Topic4\", \"Topic4\", \"Topic4\", \"Topic4\", \"Topic4\", \"Topic4\", \"Topic4\", \"Topic4\", \"Topic4\", \"Topic4\", \"Topic4\", \"Topic4\", \"Topic4\", \"Topic4\", \"Topic4\", \"Topic4\", \"Topic4\", \"Topic4\", \"Topic4\", \"Topic4\", \"Topic4\", \"Topic4\", \"Topic4\", \"Topic4\", \"Topic4\", \"Topic4\", \"Topic4\", \"Topic4\", \"Topic4\", \"Topic4\", \"Topic4\", \"Topic4\", \"Topic5\", \"Topic5\", \"Topic5\", \"Topic5\", \"Topic5\", \"Topic5\", \"Topic5\", \"Topic5\", \"Topic5\", \"Topic5\", \"Topic5\", \"Topic5\", \"Topic5\", \"Topic5\", \"Topic5\", \"Topic5\", \"Topic5\", \"Topic5\", \"Topic5\", \"Topic5\", \"Topic5\", \"Topic5\", \"Topic5\", \"Topic5\", \"Topic5\", \"Topic5\", \"Topic5\", \"Topic5\", \"Topic5\", \"Topic5\", \"Topic5\", \"Topic5\", \"Topic5\", \"Topic5\", \"Topic5\", \"Topic5\", \"Topic5\"], \"logprob\": [30.0, 29.0, 28.0, 27.0, 26.0, 25.0, 24.0, 23.0, 22.0, 21.0, 20.0, 19.0, 18.0, 17.0, 16.0, 15.0, 14.0, 13.0, 12.0, 11.0, 10.0, 9.0, 8.0, 7.0, 6.0, 5.0, 4.0, 3.0, 2.0, 1.0, -2.5559000968933105, -2.6703999042510986, -3.0013999938964844, -3.7506000995635986, -4.043300151824951, -4.1940999031066895, -4.35230016708374, -4.35830020904541, -4.475299835205078, -4.623700141906738, -4.621600151062012, -4.679900169372559, -4.715700149536133, -4.736000061035156, -4.928999900817871, -5.018099784851074, -5.042200088500977, -5.0441999435424805, -5.073800086975098, -5.107399940490723, -5.132299900054932, -5.144599914550781, -5.190400123596191, -5.20989990234375, -5.217700004577637, -5.298799991607666, -5.3140997886657715, -5.334400177001953, -5.437699794769287, -5.444799900054932, -4.083499908447266, -3.9962000846862793, -3.9045000076293945, -4.08050012588501, -5.050000190734863, -4.334099769592285, -5.06689977645874, -2.7435998916625977, -3.4839999675750732, -3.69350004196167, -3.8340001106262207, -3.986999988555908, -4.149499893188477, -4.235199928283691, -4.281499862670898, -4.320799827575684, -4.350299835205078, -4.512199878692627, -4.576300144195557, -4.621699810028076, -4.619900226593018, -2.836899995803833, -4.718699932098389, -4.735300064086914, -4.76039981842041, -4.761499881744385, -4.760799884796143, -4.804699897766113, -4.813600063323975, -4.82289981842041, -4.920400142669678, -4.968599796295166, -5.071899890899658, -5.07859992980957, -5.118899822235107, -5.178599834442139, -5.280200004577637, -4.14900016784668, -3.148699998855591, -4.031000137329102, -3.9082999229431152, -4.272200107574463, -4.655600070953369, -4.642499923706055, -3.4683001041412354, -3.736599922180176, -3.8731000423431396, -3.9502999782562256, -4.012599945068359, -4.000500202178955, -4.0192999839782715, -4.163300037384033, -4.174799919128418, -4.434500217437744, -4.433199882507324, -4.42080020904541, -4.571400165557861, -4.615600109100342, -4.73390007019043, -4.730899810791016, -4.789400100708008, -4.7870001792907715, -4.874800205230713, -4.893499851226807, -4.928400039672852, -4.959400177001953, -4.959400177001953, -5.05049991607666, -5.066100120544434, -5.102499961853027, -5.093200206756592, -5.215099811553955, -5.258299827575684, -5.261199951171875, -5.246099948883057, -4.344600200653076, -3.974600076675415, -4.770899772644043, -4.7154998779296875, -4.69950008392334, -4.943900108337402, -4.900899887084961, -3.7107999324798584, -3.656100034713745, -4.058499813079834, -4.16540002822876, -4.216700077056885, -4.279200077056885, -4.508299827575684, -4.508699893951416, -4.558899879455566, -4.746699810028076, -4.822400093078613, -4.878799915313721, -4.85830020904541, -5.0457000732421875, -5.023099899291992, -5.093299865722656, -5.169899940490723, -5.218299865722656, -5.218699932098389, -5.214200019836426, -5.203400135040283, -5.234099864959717, -5.222099781036377, -5.25, -5.236599922180176, -5.338099956512451, -5.332200050354004, -5.335000038146973, -5.329999923706055, -5.353300094604492, -4.553500175476074, -4.517300128936768, -3.8199000358581543, -3.9489998817443848, -4.777299880981445, -5.2291998863220215, -3.2874999046325684, -3.7934999465942383, -3.8842999935150146, -4.028200149536133, -4.137199878692627, -4.2718000411987305, -4.3993000984191895, -4.475200176239014, -4.50439977645874, -4.594099998474121, -4.627500057220459, -4.6529998779296875, -4.729899883270264, -4.720900058746338, -4.75570011138916, -4.7683000564575195, -4.781300067901611, -4.791500091552734, -4.794400215148926, -4.844299793243408, -4.838099956512451, -4.916999816894531, -4.868199825286865, -4.932700157165527, -4.931700229644775, -5.0065999031066895, -5.0447001457214355, -5.12060022354126, -5.120999813079834, -5.132800102233887, -5.067999839782715, -4.638299942016602, -3.70770001411438, -4.035099983215332, -4.665800094604492, -4.406000137329102, -4.708700180053711], \"loglift\": [30.0, 29.0, 28.0, 27.0, 26.0, 25.0, 24.0, 23.0, 22.0, 21.0, 20.0, 19.0, 18.0, 17.0, 16.0, 15.0, 14.0, 13.0, 12.0, 11.0, 10.0, 9.0, 8.0, 7.0, 6.0, 5.0, 4.0, 3.0, 2.0, 1.0, 1.2433, 1.2426, 1.24, 1.2302, 1.2226, 1.2193, 1.2146, 1.2146, 1.2101, 1.2044, 1.2039, 1.2019, 1.1985, 1.1973, 1.188, 1.1832, 1.1816, 1.1808, 1.1798, 1.1773, 1.1752, 1.1751, 1.1718, 1.1702, 1.1694, 1.1625, 1.1622, 1.1539, 1.1512, 1.1506, 1.0592, 0.8987, 0.8616, 0.594, 0.9982, 0.4615, 0.1646, 1.5063, 1.4967, 1.4922, 1.489, 1.4834, 1.4793, 1.4768, 1.4747, 1.4731, 1.4694, 1.4647, 1.4608, 1.459, 1.458, 1.4567, 1.4518, 1.4518, 1.451, 1.4507, 1.4506, 1.4482, 1.4474, 1.4468, 1.4401, 1.4347, 1.4288, 1.428, 1.4244, 1.4172, 1.4089, 1.3597, 1.0606, 1.1156, 0.8873, 0.736, 0.993, 0.2524, 1.6517, 1.6441, 1.6394, 1.6382, 1.6366, 1.6363, 1.6361, 1.6298, 1.6297, 1.6178, 1.6165, 1.6155, 1.6094, 1.6041, 1.5988, 1.5962, 1.5942, 1.5908, 1.5888, 1.5871, 1.5841, 1.5798, 1.5798, 1.5724, 1.572, 1.5681, 1.5681, 1.5563, 1.5515, 1.5504, 1.5504, 1.3557, 1.0336, 1.2588, 1.0244, -0.4902, 0.7047, -0.2264, 1.8188, 1.818, 1.8052, 1.7981, 1.7971, 1.7925, 1.7793, 1.7786, 1.7731, 1.7591, 1.7529, 1.7484, 1.7479, 1.7305, 1.7248, 1.7219, 1.7157, 1.7094, 1.709, 1.7088, 1.7079, 1.7069, 1.7052, 1.7043, 1.6994, 1.6923, 1.691, 1.6903, 1.6885, 1.6879, 1.6448, 1.5872, 1.4115, 0.7254, 1.1133, 1.2722, 1.8803, 1.8654, 1.862, 1.8557, 1.8479, 1.8421, 1.8349, 1.8295, 1.8278, 1.8194, 1.8177, 1.8137, 1.8091, 1.8062, 1.8059, 1.8043, 1.8043, 1.8023, 1.8007, 1.7988, 1.7985, 1.7909, 1.7905, 1.7889, 1.7885, 1.7801, 1.7756, 1.7673, 1.7671, 1.7648, 1.7626, 1.6218, 0.5017, 0.731, 1.173, 0.7406, 1.1819]}, \"token.table\": {\"Topic\": [3, 5, 2, 5, 4, 1, 4, 4, 4, 2, 2, 3, 5, 1, 4, 4, 5, 1, 3, 3, 3, 4, 2, 1, 2, 4, 1, 2, 1, 2, 5, 1, 2, 4, 5, 3, 2, 3, 5, 2, 1, 4, 3, 5, 4, 4, 5, 2, 3, 2, 5, 4, 2, 4, 2, 5, 3, 1, 3, 4, 5, 1, 2, 3, 5, 1, 1, 1, 2, 2, 3, 4, 4, 5, 4, 3, 2, 5, 3, 5, 4, 1, 5, 5, 5, 3, 4, 5, 1, 4, 5, 2, 2, 1, 4, 1, 5, 1, 4, 3, 5, 1, 4, 4, 5, 3, 1, 5, 3, 1, 2, 3, 2, 1, 3, 3, 1, 4, 1, 4, 2, 3, 4, 5, 4, 1, 2, 3, 5, 5, 3, 5, 4, 2, 3, 1, 2, 1, 3, 1, 2, 3, 5, 2, 1, 5, 1, 3, 4, 3, 2, 2, 2, 5, 1, 3, 5, 2, 3, 1, 2, 4, 4, 4, 4, 2, 5, 3, 3, 2, 5, 5, 3, 1, 4, 3, 4, 5, 1, 4, 2, 3, 2, 1, 3, 2, 3, 1, 1, 1, 3, 1, 1, 3, 1, 3, 2, 4], \"Freq\": [0.9509894876753807, 0.9412905729437766, 0.9531800766571288, 0.8326638657245541, 0.9025523196612436, 0.3423960756167582, 0.6467481428316544, 0.8748086229473642, 0.87512320916943, 0.9770039925758147, 0.9123288511001456, 0.9588482458066423, 0.8441998731913278, 0.4063964881761483, 0.5418619842348644, 0.7957075037670502, 0.8632640803513724, 0.9036323506409656, 0.9573888752219033, 0.9625916361226056, 0.9447022898823935, 0.8298509416194386, 0.9670457489274125, 0.9477175026337247, 0.9824893704760691, 0.8751371219761437, 0.9515327485567375, 0.984275083843419, 0.8871565048861567, 0.9756728569278409, 0.9497517956315392, 0.922352448065055, 0.9130138249227845, 0.8522748747359725, 0.9512872347394136, 0.9830539639354654, 0.9730662884966265, 0.9359042018827847, 0.8429384375293412, 0.9620360560828014, 0.9647754640977535, 0.9088032716545696, 0.9287018349858146, 0.884170274389837, 0.9151071043392562, 0.9217734731465657, 0.9365063357789575, 0.9812867470133473, 0.9131092692542458, 0.8475455891894812, 0.8727839034919461, 0.8260013569234034, 0.947526363113966, 0.9130730994810283, 0.6639986367825398, 0.3145256700548873, 0.9103180614106576, 0.523119064729557, 0.15257639387945415, 0.32694941545597317, 0.797445964855042, 0.958452523791828, 0.629706115596955, 0.10951410706034, 0.24640674088576497, 0.9599253491313563, 0.9109785493552528, 0.7064666346297974, 0.27171793639607594, 0.45648057952923815, 0.5173446567998032, 0.8295518853228422, 0.8163898545223904, 0.8052957291359033, 0.9695217809810295, 0.98822534247539, 0.9805713330654473, 0.8684780656636881, 0.8441253416545085, 0.8964670060242088, 0.9524772068555678, 0.9429086237746835, 0.8438876180398628, 0.9316692806940282, 0.9549148298542381, 0.1000381036380274, 0.8003048291042192, 0.9009057442085125, 0.41897924397772907, 0.06982987399628818, 0.4888091179740172, 0.9586925835488697, 0.9122714742361491, 0.7748742346555345, 0.17219427436789655, 0.6688548000128074, 0.31053972857737483, 0.9236475129990009, 0.9739590774877437, 0.978607558609071, 0.797657576241877, 0.9789140746801908, 0.914895909984789, 0.9269756456034345, 0.9916588603908413, 0.9699429077521763, 0.9844435556396037, 0.9699862671277275, 0.9632262604924151, 0.44289231854639416, 0.5413128337789263, 0.917783896373226, 0.9783057793928743, 0.8927119611273392, 0.9485004277703534, 0.957727151315233, 0.9672391055374047, 0.929691647926241, 0.9900882787446124, 0.9306929470036011, 0.5774063516878987, 0.40418444618152904, 0.44128890578752855, 0.5148370567521167, 0.9148264542667924, 0.9817005155588675, 0.964413475384135, 0.9339721917976364, 0.9638537049414194, 0.8901784430512188, 0.21283794828159214, 0.7449328189855725, 0.9492805346068647, 0.4427898599940173, 0.5060455542788769, 0.9031325122299747, 0.9661813064555357, 0.33807452572772884, 0.6761490514554577, 0.9895264113748294, 0.938272686884359, 0.04467965175639805, 0.9150758922196648, 0.9622982257783268, 0.9247155341941068, 0.8925874846030889, 0.8929020102559522, 0.9869154509885892, 0.8298573628615027, 0.9536255214963382, 0.8903463003637566, 0.8932804338668076, 0.9346996521587784, 0.9304707715451932, 0.9584043974294499, 0.9820650539857199, 0.8914859281759732, 0.9366396518581006, 0.931821232596343, 0.9577923237384098, 0.9978924708563107, 0.8915135152097584, 0.8367557474469336, 0.9698655420344916, 0.8410582699135274, 0.941227725261733, 0.9195352738126915, 0.9219715414265157, 0.9098544845478559, 0.9509105756082908, 0.9332524065427829, 0.9159052870159855, 0.9717343300447778, 0.9359281979034618, 0.8665923635287827, 0.9199099628471982, 0.9196723256947769, 0.9729916136542901, 0.18216397820214075, 0.728655912808563, 0.9588621549389938, 0.9155046356874069, 0.9591625582912466, 0.9210861971439998, 0.8440797490300731, 0.24320472955123706, 0.7296141886537112, 0.9666807598362487, 0.9246955965180229, 0.8355207698774196, 0.13925346164623661, 0.9635021997660211, 0.9770864087732285, 0.8872121014334643, 0.9974622434936167, 0.9237025636537884, 0.8534440312720818, 0.10040518014965667], \"Term\": [\"act\", \"administrator\", \"agricultural\", \"allowance\", \"amend\", \"amount\", \"amount\", \"annual\", \"appropriation\", \"area\", \"article\", \"assistance\", \"assistant\", \"authorize\", \"authorize\", \"balance\", \"barangay\", \"bus\", \"business\", \"cable\", \"certain\", \"certification\", \"chapter\", \"charge\", \"child\", \"clearance\", \"clock\", \"code\", \"collection\", \"commercial\", \"compensation\", \"composition\", \"comprehensive\", \"concern\", \"construct\", \"construction\", \"continue_reade\", \"continue_reading\", \"corn\", \"cover\", \"davao\", \"day\", \"death\", \"department\", \"development\", \"document\", \"dutie\", \"duty\", \"educational\", \"embrace\", \"employee\", \"employment\", \"enact\", \"equipment\", \"establishment\", \"establishment\", \"expense\", \"fee\", \"fee\", \"fee\", \"former\", \"function\", \"fund\", \"fund\", \"fund\", \"garbage\", \"gold\", \"government\", \"government\", \"guideline\", \"guideline\", \"hereunder\", \"high\", \"honor\", \"house\", \"implementation\", \"incentive\", \"industrial\", \"inspection\", \"installation\", \"issuance\", \"jeepney\", \"know\", \"late\", \"legislative\", \"license\", \"license\", \"line\", \"local\", \"local\", \"local\", \"locate\", \"lot\", \"management\", \"management\", \"market\", \"market\", \"material\", \"mayor\", \"medical\", \"mill\", \"monthly\", \"motor\", \"motorize\", \"necessary\", \"new\", \"office\", \"officer\", \"official\", \"operation\", \"operation\", \"order\", \"own\", \"owner\", \"park\", \"part\", \"passenger\", \"pay\", \"penalty\", \"permit\", \"person\", \"person\", \"peso\", \"peso\", \"place\", \"poblacion\", \"policy\", \"portion\", \"position\", \"power\", \"premise\", \"premise\", \"private\", \"program\", \"program\", \"property\", \"provide\", \"provision\", \"provision\", \"public\", \"purpose\", \"purpose\", \"qualification\", \"rate\", \"real\", \"register\", \"regulate\", \"regulation\", \"render\", \"republic_act\", \"residential\", \"resolution\", \"revise\", \"rice\", \"road\", \"rule\", \"salary\", \"sale\", \"scholarship\", \"school\", \"section\", \"secure\", \"series\", \"service\", \"shall\", \"site\", \"situate\", \"slaughter\", \"special\", \"square_meter\", \"staff\", \"stall\", \"street\", \"structure\", \"subject\", \"support\", \"swear\", \"system\", \"take\", \"take\", \"tax\", \"temporary\", \"terminal\", \"territorial_jurisdiction\", \"town\", \"traffic\", \"traffic\", \"truck\", \"unit\", \"use\", \"use\", \"utility\", \"vehicle\", \"vehicular\", \"violation\", \"worker\", \"year\", \"year\"]}, \"R\": 30, \"lambda.step\": 0.01, \"plot.opts\": {\"xlab\": \"PC1\", \"ylab\": \"PC2\"}, \"topic.order\": [1, 5, 4, 2, 3]};\n",
       "\n",
       "function LDAvis_load_lib(url, callback){\n",
       "  var s = document.createElement('script');\n",
       "  s.src = url;\n",
       "  s.async = true;\n",
       "  s.onreadystatechange = s.onload = callback;\n",
       "  s.onerror = function(){console.warn(\"failed to load library \" + url);};\n",
       "  document.getElementsByTagName(\"head\")[0].appendChild(s);\n",
       "}\n",
       "\n",
       "if(typeof(LDAvis) !== \"undefined\"){\n",
       "   // already loaded: just create the visualization\n",
       "   !function(LDAvis){\n",
       "       new LDAvis(\"#\" + \"ldavis_el3939140516662193280442216921\", ldavis_el3939140516662193280442216921_data);\n",
       "   }(LDAvis);\n",
       "}else if(typeof define === \"function\" && define.amd){\n",
       "   // require.js is available: use it to load d3/LDAvis\n",
       "   require.config({paths: {d3: \"https://cdnjs.cloudflare.com/ajax/libs/d3/3.5.5/d3.min\"}});\n",
       "   require([\"d3\"], function(d3){\n",
       "      window.d3 = d3;\n",
       "      LDAvis_load_lib(\"https://cdn.rawgit.com/bmabey/pyLDAvis/files/ldavis.v1.0.0.js\", function(){\n",
       "        new LDAvis(\"#\" + \"ldavis_el3939140516662193280442216921\", ldavis_el3939140516662193280442216921_data);\n",
       "      });\n",
       "    });\n",
       "}else{\n",
       "    // require.js not available: dynamically load d3 & LDAvis\n",
       "    LDAvis_load_lib(\"https://cdnjs.cloudflare.com/ajax/libs/d3/3.5.5/d3.min.js\", function(){\n",
       "         LDAvis_load_lib(\"https://cdn.rawgit.com/bmabey/pyLDAvis/files/ldavis.v1.0.0.js\", function(){\n",
       "                 new LDAvis(\"#\" + \"ldavis_el3939140516662193280442216921\", ldavis_el3939140516662193280442216921_data);\n",
       "            })\n",
       "         });\n",
       "}\n",
       "</script>"
      ],
      "text/plain": [
       "PreparedData(topic_coordinates=              x         y  topics  cluster       Freq\n",
       "topic                                                \n",
       "0     -0.274419 -0.133751       1        1  28.676247\n",
       "4      0.181540 -0.180842       2        1  21.977942\n",
       "3      0.092216  0.035113       3        1  18.760425\n",
       "1     -0.057280  0.202265       4        1  15.680609\n",
       "2      0.057943  0.077215       5        1  14.904776, topic_info=              Term        Freq       Total Category  logprob  loglift\n",
       "16         penalty  110.000000  110.000000  Default  30.0000  30.0000\n",
       "22       violation   98.000000   98.000000  Default  29.0000  29.0000\n",
       "31         section   70.000000   70.000000  Default  28.0000  28.0000\n",
       "75         purpose   67.000000   67.000000  Default  27.0000  27.0000\n",
       "144         public   70.000000   70.000000  Default  26.0000  26.0000\n",
       "..             ...         ...         ...      ...      ...      ...\n",
       "23            fund   17.980809   73.049950   Topic5  -3.7077   0.5017\n",
       "365         market   12.960173   41.862599   Topic5  -4.0351   0.7310\n",
       "170          local    6.897478   14.320518   Topic5  -4.6658   1.1730\n",
       "123  establishment    8.943964   28.614517   Topic5  -4.4060   0.7406\n",
       "348           peso    6.607946   13.596535   Topic5  -4.7087   1.1819\n",
       "\n",
       "[215 rows x 6 columns], token_table=      Topic      Freq           Term\n",
       "term                                \n",
       "80        3  0.950989            act\n",
       "821       5  0.941291  administrator\n",
       "484       2  0.953180   agricultural\n",
       "374       5  0.832664      allowance\n",
       "203       4  0.902552          amend\n",
       "...     ...       ...            ...\n",
       "799       3  0.887212      vehicular\n",
       "22        1  0.997462      violation\n",
       "77        3  0.923703         worker\n",
       "55        2  0.853444           year\n",
       "55        4  0.100405           year\n",
       "\n",
       "[198 rows x 3 columns], R=30, lambda_step=0.01, plot_opts={'xlab': 'PC1', 'ylab': 'PC2'}, topic_order=[1, 5, 4, 2, 3])"
      ]
     },
     "execution_count": 40,
     "metadata": {},
     "output_type": "execute_result"
    }
   ],
   "source": [
    "# Visualize the topics\n",
    "pyLDAvis.enable_notebook()\n",
    "vis = pyLDAvis.gensim.prepare(lda_model, corpus, id2word)\n",
    "vis"
   ]
  },
  {
   "cell_type": "code",
   "execution_count": 42,
   "metadata": {},
   "outputs": [],
   "source": [
    "from gensim.models.wrappers import LdaMallet"
   ]
  },
  {
   "cell_type": "code",
   "execution_count": 44,
   "metadata": {},
   "outputs": [
    {
     "ename": "CalledProcessError",
     "evalue": "Command '/mallet-2.0.8/bin/mallet import-file --preserve-case --keep-sequence --remove-stopwords --token-regex \"\\S+\" --input /var/folders/7k/y671ljdx4ms4bc3_h8csf0340000gn/T/50b1dd_corpus.txt --output /var/folders/7k/y671ljdx4ms4bc3_h8csf0340000gn/T/50b1dd_corpus.mallet' returned non-zero exit status 127.",
     "output_type": "error",
     "traceback": [
      "\u001b[0;31m---------------------------------------------------------------------------\u001b[0m",
      "\u001b[0;31mCalledProcessError\u001b[0m                        Traceback (most recent call last)",
      "\u001b[0;32m<ipython-input-44-4b2b5cdf7c70>\u001b[0m in \u001b[0;36m<module>\u001b[0;34m\u001b[0m\n\u001b[1;32m      1\u001b[0m \u001b[0;31m# Download File: http://mallet.cs.umass.edu/dist/mallet-2.0.8.zip\u001b[0m\u001b[0;34m\u001b[0m\u001b[0;34m\u001b[0m\u001b[0;34m\u001b[0m\u001b[0m\n\u001b[1;32m      2\u001b[0m \u001b[0mmallet_path\u001b[0m \u001b[0;34m=\u001b[0m \u001b[0;34m'/mallet-2.0.8/bin/mallet'\u001b[0m \u001b[0;31m# update this path\u001b[0m\u001b[0;34m\u001b[0m\u001b[0;34m\u001b[0m\u001b[0m\n\u001b[0;32m----> 3\u001b[0;31m \u001b[0mldamallet\u001b[0m \u001b[0;34m=\u001b[0m \u001b[0mgensim\u001b[0m\u001b[0;34m.\u001b[0m\u001b[0mmodels\u001b[0m\u001b[0;34m.\u001b[0m\u001b[0mwrappers\u001b[0m\u001b[0;34m.\u001b[0m\u001b[0mLdaMallet\u001b[0m\u001b[0;34m(\u001b[0m\u001b[0mmallet_path\u001b[0m\u001b[0;34m,\u001b[0m \u001b[0mcorpus\u001b[0m\u001b[0;34m=\u001b[0m\u001b[0mcorpus\u001b[0m\u001b[0;34m,\u001b[0m \u001b[0mnum_topics\u001b[0m\u001b[0;34m=\u001b[0m\u001b[0;36m20\u001b[0m\u001b[0;34m,\u001b[0m \u001b[0mid2word\u001b[0m\u001b[0;34m=\u001b[0m\u001b[0mid2word\u001b[0m\u001b[0;34m)\u001b[0m\u001b[0;34m\u001b[0m\u001b[0;34m\u001b[0m\u001b[0m\n\u001b[0m",
      "\u001b[0;32m~/Documents/lda/myvenv/lib/python3.9/site-packages/gensim/models/wrappers/ldamallet.py\u001b[0m in \u001b[0;36m__init__\u001b[0;34m(self, mallet_path, corpus, num_topics, alpha, id2word, workers, prefix, optimize_interval, iterations, topic_threshold, random_seed)\u001b[0m\n\u001b[1;32m    129\u001b[0m         \u001b[0mself\u001b[0m\u001b[0;34m.\u001b[0m\u001b[0mrandom_seed\u001b[0m \u001b[0;34m=\u001b[0m \u001b[0mrandom_seed\u001b[0m\u001b[0;34m\u001b[0m\u001b[0;34m\u001b[0m\u001b[0m\n\u001b[1;32m    130\u001b[0m         \u001b[0;32mif\u001b[0m \u001b[0mcorpus\u001b[0m \u001b[0;32mis\u001b[0m \u001b[0;32mnot\u001b[0m \u001b[0;32mNone\u001b[0m\u001b[0;34m:\u001b[0m\u001b[0;34m\u001b[0m\u001b[0;34m\u001b[0m\u001b[0m\n\u001b[0;32m--> 131\u001b[0;31m             \u001b[0mself\u001b[0m\u001b[0;34m.\u001b[0m\u001b[0mtrain\u001b[0m\u001b[0;34m(\u001b[0m\u001b[0mcorpus\u001b[0m\u001b[0;34m)\u001b[0m\u001b[0;34m\u001b[0m\u001b[0;34m\u001b[0m\u001b[0m\n\u001b[0m\u001b[1;32m    132\u001b[0m \u001b[0;34m\u001b[0m\u001b[0m\n\u001b[1;32m    133\u001b[0m     \u001b[0;32mdef\u001b[0m \u001b[0mfinferencer\u001b[0m\u001b[0;34m(\u001b[0m\u001b[0mself\u001b[0m\u001b[0;34m)\u001b[0m\u001b[0;34m:\u001b[0m\u001b[0;34m\u001b[0m\u001b[0;34m\u001b[0m\u001b[0m\n",
      "\u001b[0;32m~/Documents/lda/myvenv/lib/python3.9/site-packages/gensim/models/wrappers/ldamallet.py\u001b[0m in \u001b[0;36mtrain\u001b[0;34m(self, corpus)\u001b[0m\n\u001b[1;32m    270\u001b[0m \u001b[0;34m\u001b[0m\u001b[0m\n\u001b[1;32m    271\u001b[0m         \"\"\"\n\u001b[0;32m--> 272\u001b[0;31m         \u001b[0mself\u001b[0m\u001b[0;34m.\u001b[0m\u001b[0mconvert_input\u001b[0m\u001b[0;34m(\u001b[0m\u001b[0mcorpus\u001b[0m\u001b[0;34m,\u001b[0m \u001b[0minfer\u001b[0m\u001b[0;34m=\u001b[0m\u001b[0;32mFalse\u001b[0m\u001b[0;34m)\u001b[0m\u001b[0;34m\u001b[0m\u001b[0;34m\u001b[0m\u001b[0m\n\u001b[0m\u001b[1;32m    273\u001b[0m         \u001b[0mcmd\u001b[0m \u001b[0;34m=\u001b[0m \u001b[0mself\u001b[0m\u001b[0;34m.\u001b[0m\u001b[0mmallet_path\u001b[0m \u001b[0;34m+\u001b[0m \u001b[0;34m' train-topics --input %s --num-topics %s  --alpha %s --optimize-interval %s '\u001b[0m\u001b[0;31m\\\u001b[0m\u001b[0;34m\u001b[0m\u001b[0;34m\u001b[0m\u001b[0m\n\u001b[1;32m    274\u001b[0m             \u001b[0;34m'--num-threads %s --output-state %s --output-doc-topics %s --output-topic-keys %s '\u001b[0m\u001b[0;31m\\\u001b[0m\u001b[0;34m\u001b[0m\u001b[0;34m\u001b[0m\u001b[0m\n",
      "\u001b[0;32m~/Documents/lda/myvenv/lib/python3.9/site-packages/gensim/models/wrappers/ldamallet.py\u001b[0m in \u001b[0;36mconvert_input\u001b[0;34m(self, corpus, infer, serialize_corpus)\u001b[0m\n\u001b[1;32m    259\u001b[0m             \u001b[0mcmd\u001b[0m \u001b[0;34m=\u001b[0m \u001b[0mcmd\u001b[0m \u001b[0;34m%\u001b[0m \u001b[0;34m(\u001b[0m\u001b[0mself\u001b[0m\u001b[0;34m.\u001b[0m\u001b[0mfcorpustxt\u001b[0m\u001b[0;34m(\u001b[0m\u001b[0;34m)\u001b[0m\u001b[0;34m,\u001b[0m \u001b[0mself\u001b[0m\u001b[0;34m.\u001b[0m\u001b[0mfcorpusmallet\u001b[0m\u001b[0;34m(\u001b[0m\u001b[0;34m)\u001b[0m\u001b[0;34m)\u001b[0m\u001b[0;34m\u001b[0m\u001b[0;34m\u001b[0m\u001b[0m\n\u001b[1;32m    260\u001b[0m         \u001b[0mlogger\u001b[0m\u001b[0;34m.\u001b[0m\u001b[0minfo\u001b[0m\u001b[0;34m(\u001b[0m\u001b[0;34m\"converting temporary corpus to MALLET format with %s\"\u001b[0m\u001b[0;34m,\u001b[0m \u001b[0mcmd\u001b[0m\u001b[0;34m)\u001b[0m\u001b[0;34m\u001b[0m\u001b[0;34m\u001b[0m\u001b[0m\n\u001b[0;32m--> 261\u001b[0;31m         \u001b[0mcheck_output\u001b[0m\u001b[0;34m(\u001b[0m\u001b[0margs\u001b[0m\u001b[0;34m=\u001b[0m\u001b[0mcmd\u001b[0m\u001b[0;34m,\u001b[0m \u001b[0mshell\u001b[0m\u001b[0;34m=\u001b[0m\u001b[0;32mTrue\u001b[0m\u001b[0;34m)\u001b[0m\u001b[0;34m\u001b[0m\u001b[0;34m\u001b[0m\u001b[0m\n\u001b[0m\u001b[1;32m    262\u001b[0m \u001b[0;34m\u001b[0m\u001b[0m\n\u001b[1;32m    263\u001b[0m     \u001b[0;32mdef\u001b[0m \u001b[0mtrain\u001b[0m\u001b[0;34m(\u001b[0m\u001b[0mself\u001b[0m\u001b[0;34m,\u001b[0m \u001b[0mcorpus\u001b[0m\u001b[0;34m)\u001b[0m\u001b[0;34m:\u001b[0m\u001b[0;34m\u001b[0m\u001b[0;34m\u001b[0m\u001b[0m\n",
      "\u001b[0;32m~/Documents/lda/myvenv/lib/python3.9/site-packages/gensim/utils.py\u001b[0m in \u001b[0;36mcheck_output\u001b[0;34m(stdout, *popenargs, **kwargs)\u001b[0m\n\u001b[1;32m   1930\u001b[0m             \u001b[0merror\u001b[0m \u001b[0;34m=\u001b[0m \u001b[0msubprocess\u001b[0m\u001b[0;34m.\u001b[0m\u001b[0mCalledProcessError\u001b[0m\u001b[0;34m(\u001b[0m\u001b[0mretcode\u001b[0m\u001b[0;34m,\u001b[0m \u001b[0mcmd\u001b[0m\u001b[0;34m)\u001b[0m\u001b[0;34m\u001b[0m\u001b[0;34m\u001b[0m\u001b[0m\n\u001b[1;32m   1931\u001b[0m             \u001b[0merror\u001b[0m\u001b[0;34m.\u001b[0m\u001b[0moutput\u001b[0m \u001b[0;34m=\u001b[0m \u001b[0moutput\u001b[0m\u001b[0;34m\u001b[0m\u001b[0;34m\u001b[0m\u001b[0m\n\u001b[0;32m-> 1932\u001b[0;31m             \u001b[0;32mraise\u001b[0m \u001b[0merror\u001b[0m\u001b[0;34m\u001b[0m\u001b[0;34m\u001b[0m\u001b[0m\n\u001b[0m\u001b[1;32m   1933\u001b[0m         \u001b[0;32mreturn\u001b[0m \u001b[0moutput\u001b[0m\u001b[0;34m\u001b[0m\u001b[0;34m\u001b[0m\u001b[0m\n\u001b[1;32m   1934\u001b[0m     \u001b[0;32mexcept\u001b[0m \u001b[0mKeyboardInterrupt\u001b[0m\u001b[0;34m:\u001b[0m\u001b[0;34m\u001b[0m\u001b[0;34m\u001b[0m\u001b[0m\n",
      "\u001b[0;31mCalledProcessError\u001b[0m: Command '/mallet-2.0.8/bin/mallet import-file --preserve-case --keep-sequence --remove-stopwords --token-regex \"\\S+\" --input /var/folders/7k/y671ljdx4ms4bc3_h8csf0340000gn/T/50b1dd_corpus.txt --output /var/folders/7k/y671ljdx4ms4bc3_h8csf0340000gn/T/50b1dd_corpus.mallet' returned non-zero exit status 127."
     ]
    }
   ],
   "source": [
    "# Download File: http://mallet.cs.umass.edu/dist/mallet-2.0.8.zip\n",
    "mallet_path = '/Users/root1/Documents/lda/mallet-2.0.8/bin/mallet' # update this path\n",
    "ldamallet = gensim.models.wrappers.LdaMallet(mallet_path, corpus=corpus, num_topics=20, id2word=id2word)"
   ]
  },
  {
   "cell_type": "code",
   "execution_count": null,
   "metadata": {},
   "outputs": [],
   "source": []
  }
 ],
 "metadata": {
  "kernelspec": {
   "display_name": "Python 3",
   "language": "python",
   "name": "python3"
  },
  "language_info": {
   "codemirror_mode": {
    "name": "ipython",
    "version": 3
   },
   "file_extension": ".py",
   "mimetype": "text/x-python",
   "name": "python",
   "nbconvert_exporter": "python",
   "pygments_lexer": "ipython3",
   "version": "3.9.0"
  }
 },
 "nbformat": 4,
 "nbformat_minor": 4
}
