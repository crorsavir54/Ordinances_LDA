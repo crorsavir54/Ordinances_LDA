{
 "cells": [
  {
   "cell_type": "code",
   "execution_count": null,
   "metadata": {},
   "outputs": [],
   "source": [
    "import re\n",
    "import numpy as np\n",
    "import pandas as pd"
   ]
  },
  {
   "cell_type": "code",
   "execution_count": 2,
   "metadata": {},
   "outputs": [],
   "source": [
    "#Gensim\n",
    "import gensim\n",
    "import gensim.corpora as corpora\n",
    "from gensim.utils import simple_preprocess\n",
    "from gensim.models import CoherenceModel"
   ]
  },
  {
   "cell_type": "code",
   "execution_count": 3,
   "metadata": {},
   "outputs": [],
   "source": []
  },
  {
   "cell_type": "code",
   "execution_count": 4,
   "metadata": {},
   "outputs": [],
   "source": [
    "#spacy for lemmatization\n",
    "import spacy"
   ]
  },
  {
   "cell_type": "code",
   "execution_count": 5,
   "metadata": {},
   "outputs": [],
   "source": [
    "# Plotting tools\n",
    "import pyLDAvis\n",
    "import pyLDAvis.gensim\n",
    "import matplotlib.pyplot as plt\n",
    "%matplotlib inline"
   ]
  },
  {
   "cell_type": "code",
   "execution_count": 6,
   "metadata": {},
   "outputs": [
    {
     "name": "stderr",
     "output_type": "stream",
     "text": [
      "/Users/root1/Documents/lda/myvenv/lib/python3.9/site-packages/ipykernel/ipkernel.py:287: DeprecationWarning: `should_run_async` will not call `transform_cell` automatically in the future. Please pass the result to `transformed_cell` argument and any exception that happen during thetransform in `preprocessing_exc_tuple` in IPython 7.17 and above.\n",
      "  and should_run_async(code)\n"
     ]
    }
   ],
   "source": [
    "import warnings\n",
    "warnings.filterwarnings(\"ignore\", category=DeprecationWarning)"
   ]
  },
  {
   "cell_type": "code",
   "execution_count": 7,
   "metadata": {},
   "outputs": [],
   "source": [
    "# NLTK Stop words\n",
    "from nltk.corpus import stopwords\n",
    "stop_words = stopwords.words('english')\n",
    "stop_words.extend(['tagum', 'city', 'ordinance', 'municipal', 'municipality', 'thereof'])"
   ]
  },
  {
   "cell_type": "code",
   "execution_count": 8,
   "metadata": {},
   "outputs": [
    {
     "name": "stdout",
     "output_type": "stream",
     "text": [
      "                                     OR  \\\n",
      "0        CITY ORDINANCE No. 842, s-2018   \n",
      "1        CITY ORDINANCE NO. 825, s-2017   \n",
      "2        CITY ORDINANCE NO. 837, s-2018   \n",
      "3        CITY ORDINANCE NO. 844, s-2018   \n",
      "4        CITY ORDINANCE NO. 838, s-2018   \n",
      "..                                  ...   \n",
      "670  MUNICIPAL ORDINANCE NO. 05, s-1974   \n",
      "671  MUNICIPAL ORDINANCE NO. 04, s-1974   \n",
      "672  MUNICIPAL ORDINANCE NO. 01, s-1974   \n",
      "673    MUNICIPAL ORDINANCE NO. 03, 1973   \n",
      "674  MUNICIPAL ORDINANCE NO. 02, S-1973   \n",
      "\n",
      "                                                    OT  \n",
      "0    “AN ORDINANCE REGULATING THE PRACTICE OF TRADI...  \n",
      "1    “AN ORDINANCE RECONSTITUTING THE MEMBERS OF TH...  \n",
      "2    “AN ORDINANCE ESTABLISHING FUNERAL AND BURIAL ...  \n",
      "3    AN ORDINANCE AMENDING THE TITLE, SECTION 1, SE...  \n",
      "4    “AN ORDINANCE CREATING THE CITY HISTORICAL, CU...  \n",
      "..                                                 ...  \n",
      "670  “AN ORDINANCE AMENDING SECTION 10 OF MUNICIPAL...  \n",
      "671  “AN ORDINANCE REGULATING THE ELECTRICAL INSTAL...  \n",
      "672  “AN ORDINANCE PROHIBITING THE EMPLOYMENT OF “H...  \n",
      "673  “AN ORDINANCE REGULATING THE ESTABLISHMENT, OP...  \n",
      "674  “AN ORDINANCE PROHIBITING THE USE OF MUNICIPAL...  \n",
      "\n",
      "[675 rows x 2 columns]\n"
     ]
    },
    {
     "data": {
      "text/html": [
       "<div>\n",
       "<style scoped>\n",
       "    .dataframe tbody tr th:only-of-type {\n",
       "        vertical-align: middle;\n",
       "    }\n",
       "\n",
       "    .dataframe tbody tr th {\n",
       "        vertical-align: top;\n",
       "    }\n",
       "\n",
       "    .dataframe thead th {\n",
       "        text-align: right;\n",
       "    }\n",
       "</style>\n",
       "<table border=\"1\" class=\"dataframe\">\n",
       "  <thead>\n",
       "    <tr style=\"text-align: right;\">\n",
       "      <th></th>\n",
       "      <th>OR</th>\n",
       "      <th>OT</th>\n",
       "    </tr>\n",
       "  </thead>\n",
       "  <tbody>\n",
       "    <tr>\n",
       "      <th>0</th>\n",
       "      <td>CITY ORDINANCE No. 842, s-2018</td>\n",
       "      <td>“AN ORDINANCE REGULATING THE PRACTICE OF TRADI...</td>\n",
       "    </tr>\n",
       "    <tr>\n",
       "      <th>1</th>\n",
       "      <td>CITY ORDINANCE NO. 825, s-2017</td>\n",
       "      <td>“AN ORDINANCE RECONSTITUTING THE MEMBERS OF TH...</td>\n",
       "    </tr>\n",
       "    <tr>\n",
       "      <th>2</th>\n",
       "      <td>CITY ORDINANCE NO. 837, s-2018</td>\n",
       "      <td>“AN ORDINANCE ESTABLISHING FUNERAL AND BURIAL ...</td>\n",
       "    </tr>\n",
       "    <tr>\n",
       "      <th>3</th>\n",
       "      <td>CITY ORDINANCE NO. 844, s-2018</td>\n",
       "      <td>AN ORDINANCE AMENDING THE TITLE, SECTION 1, SE...</td>\n",
       "    </tr>\n",
       "    <tr>\n",
       "      <th>4</th>\n",
       "      <td>CITY ORDINANCE NO. 838, s-2018</td>\n",
       "      <td>“AN ORDINANCE CREATING THE CITY HISTORICAL, CU...</td>\n",
       "    </tr>\n",
       "  </tbody>\n",
       "</table>\n",
       "</div>"
      ],
      "text/plain": [
       "                               OR  \\\n",
       "0  CITY ORDINANCE No. 842, s-2018   \n",
       "1  CITY ORDINANCE NO. 825, s-2017   \n",
       "2  CITY ORDINANCE NO. 837, s-2018   \n",
       "3  CITY ORDINANCE NO. 844, s-2018   \n",
       "4  CITY ORDINANCE NO. 838, s-2018   \n",
       "\n",
       "                                                  OT  \n",
       "0  “AN ORDINANCE REGULATING THE PRACTICE OF TRADI...  \n",
       "1  “AN ORDINANCE RECONSTITUTING THE MEMBERS OF TH...  \n",
       "2  “AN ORDINANCE ESTABLISHING FUNERAL AND BURIAL ...  \n",
       "3  AN ORDINANCE AMENDING THE TITLE, SECTION 1, SE...  \n",
       "4  “AN ORDINANCE CREATING THE CITY HISTORICAL, CU...  "
      ]
     },
     "execution_count": 8,
     "metadata": {},
     "output_type": "execute_result"
    }
   ],
   "source": [
    "# Import Dataset\n",
    "df = pd.read_csv('/Users/root1/Documents/lda/tagum_ordinances.csv', header = 0)\n",
    "print(df)\n",
    "df.head()"
   ]
  },
  {
   "cell_type": "code",
   "execution_count": 9,
   "metadata": {},
   "outputs": [
    {
     "name": "stdout",
     "output_type": "stream",
     "text": [
      "['“AN ORDINANCE REGULATING THE PRACTICE OF TRADITIONAL HOME BIRTH DELIVERY OR DELIVERIES ATTENDED BY A TRADITIONAL BIRTH ATTENDANT OR MANANABANG”.']\n"
     ]
    }
   ],
   "source": [
    "# Convert to list\n",
    "data = list(df.OT)\n",
    "print(data[:1])"
   ]
  },
  {
   "cell_type": "code",
   "execution_count": 53,
   "metadata": {},
   "outputs": [
    {
     "name": "stdout",
     "output_type": "stream",
     "text": [
      "['“AN ORDINANCE THE PRACTICE OF TRADITIONAL HOME BIRTH DELIVERY OR DELIVERIES ATTENDED BY A TRADITIONAL BIRTH ATTENDANT OR MANANABANG”.', '“AN ORDINANCE THE MEMBERS OF THE CITY TRICYCLE AND REGULATORY BOARD (CTFRB) ITS FUNCTIONS AND PROCEDURES AND MOTORIZED TRICYCLE FOR HIRE (MTH), TRICYCLE UTILITY VEHICLE (TUV) AND TRICYCLE UTILITY FOR HIRE (TUH) GUIDELINES, REGULATIONS AND OPERATIONS, THE COLLECTION OF FEES, CHARGES,ADMINISTRATIVE PROVISIONS AND PENALTIES FOR VIOLATION THEREOF”.', '“AN ORDINANCE FUNERAL AND BURIAL ASSISTANCE FOR INDIGENT TAGUMENYOS, ITS MANAGEMENT, PROCEDURES AND GUIDELINES AND FUNDS THEREFOR”.', 'AN ORDINANCE THE TITLE, SECTION 1, SECTION 2 AND SECTION 3 OF CITY ORDINANCE NO. 820, S-2017 “AN ORDINANCE INTO A LOAN AGREEMENT WITH THE DEVELOPMENT BANK OF THE PHILIPPINES, IN THE AMOUNT OF SIX HUNDRED EIGHTY MILLION PESOS (P 680,000,000.00) TO FUND THE ACQUISITION OF HEAVY EQUIPMENT,ACQUISITION OF SERVICE VEHICLES, ACQUISITION OF continue reading : CITY ORDINANCE NO. 844, s-2018', '“AN ORDINANCE THE CITY HISTORICAL, CULTURAL AND ARTS COUNCIL IN THE CITY OF TAGUM”.']\n"
     ]
    }
   ],
   "source": [
    "# Remove new line characters\n",
    "data = [re.sub('\\s+', ' ', sent) for sent in data]\n",
    "\n",
    "# Remove distracting single quotes\n",
    "data = [re.sub(\"\\'\", \"\", sent) for sent in data]\n",
    "data = [re.sub(\"\\\"\", \"\", sent) for sent in data]\n",
    "\n",
    "# Remove Emails\n",
    "data = [re.sub('\\S*ING\\S*\\s?', '', sent) for sent in data]\n",
    "\n",
    "\n",
    "print(data[:5])"
   ]
  },
  {
   "cell_type": "code",
   "execution_count": 54,
   "metadata": {},
   "outputs": [
    {
     "name": "stdout",
     "output_type": "stream",
     "text": [
      "[['an', 'ordinance', 'the', 'practice', 'of', 'traditional', 'home', 'birth', 'delivery', 'or', 'deliveries', 'attended', 'by', 'traditional', 'birth', 'attendant', 'or', 'mananabang'], ['an', 'ordinance', 'the', 'members', 'of', 'the', 'city', 'tricycle', 'and', 'regulatory', 'board', 'ctfrb', 'its', 'functions', 'and', 'procedures', 'and', 'motorized', 'tricycle', 'for', 'hire', 'mth', 'tricycle', 'utility', 'vehicle', 'tuv', 'and', 'tricycle', 'utility', 'for', 'hire', 'tuh', 'guidelines', 'regulations', 'and', 'operations', 'the', 'collection', 'of', 'fees', 'charges', 'administrative', 'provisions', 'and', 'penalties', 'for', 'violation', 'thereof'], ['an', 'ordinance', 'funeral', 'and', 'burial', 'assistance', 'for', 'indigent', 'tagumenyos', 'its', 'management', 'procedures', 'and', 'guidelines', 'and', 'funds', 'therefor'], ['an', 'ordinance', 'the', 'title', 'section', 'section', 'and', 'section', 'of', 'city', 'ordinance', 'no', 'an', 'ordinance', 'into', 'loan', 'agreement', 'with', 'the', 'development', 'bank', 'of', 'the', 'philippines', 'in', 'the', 'amount', 'of', 'six', 'hundred', 'eighty', 'million', 'pesos', 'to', 'fund', 'the', 'acquisition', 'of', 'heavy', 'equipment', 'acquisition', 'of', 'service', 'vehicles', 'acquisition', 'of', 'continue', 'reading', 'city', 'ordinance', 'no'], ['an', 'ordinance', 'the', 'city', 'historical', 'cultural', 'and', 'arts', 'council', 'in', 'the', 'city', 'of', 'tagum']]\n"
     ]
    }
   ],
   "source": [
    "def sent_to_words(sentences):\n",
    "    for sentence in sentences:\n",
    "        yield(gensim.utils.simple_preprocess(str(sentence), deacc=True))  # deacc=True removes punctuations\n",
    "\n",
    "data_words = list(sent_to_words(data))\n",
    "\n",
    "print(data_words[:5])"
   ]
  },
  {
   "cell_type": "code",
   "execution_count": 55,
   "metadata": {},
   "outputs": [
    {
     "name": "stdout",
     "output_type": "stream",
     "text": [
      "['an', 'ordinance', 'the', 'practice', 'of', 'traditional', 'home', 'birth', 'delivery', 'or', 'deliveries', 'attended', 'by', 'traditional', 'birth', 'attendant', 'or', 'mananabang']\n"
     ]
    }
   ],
   "source": [
    "# Build the bigram and trigram models\n",
    "bigram = gensim.models.Phrases(data_words, min_count=5, threshold=100) # higher threshold fewer phrases.\n",
    "trigram = gensim.models.Phrases(bigram[data_words], threshold=100)  \n",
    "\n",
    "# Faster way to get a sentence clubbed as a trigram/bigram\n",
    "bigram_mod = gensim.models.phrases.Phraser(bigram)\n",
    "trigram_mod = gensim.models.phrases.Phraser(trigram)\n",
    "\n",
    "# See trigram example\n",
    "print(trigram_mod[bigram_mod[data_words[0]]])"
   ]
  },
  {
   "cell_type": "code",
   "execution_count": 56,
   "metadata": {},
   "outputs": [],
   "source": [
    "# Define functions for stopwords, bigrams, trigrams and lemmatization\n",
    "def remove_stopwords(texts):\n",
    "    return [[word for word in simple_preprocess(str(doc)) if word not in stop_words] for doc in texts]\n",
    "\n",
    "def make_bigrams(texts):\n",
    "    return [bigram_mod[doc] for doc in texts]\n",
    "\n",
    "def make_trigrams(texts):\n",
    "    return [trigram_mod[bigram_mod[doc]] for doc in texts]\n",
    "\n",
    "def lemmatization(texts, allowed_postags=['NOUN', 'ADJ', 'VERB', 'ADV']):\n",
    "    \"\"\"https://spacy.io/api/annotation\"\"\"\n",
    "    texts_out = []\n",
    "    for sent in texts:\n",
    "        doc = nlp(\" \".join(sent)) \n",
    "        texts_out.append([token.lemma_ for token in doc if token.pos_ in allowed_postags])\n",
    "    return texts_out"
   ]
  },
  {
   "cell_type": "code",
   "execution_count": 58,
   "metadata": {},
   "outputs": [
    {
     "name": "stdout",
     "output_type": "stream",
     "text": [
      "[['practice', 'traditional', 'home', 'birth', 'delivery', 'delivery', 'attend', 'traditional', 'birth', 'attendant', 'mananabang'], ['function', 'procedure', 'tricycle', 'utility', 'vehicle', 'tricycle', 'utility', 'hire', 'guideline', 'operation', 'collection', 'fee', 'charge', 'administrative', 'provision', 'penalty', 'violation'], ['indigent', 'management', 'procedure', 'guideline', 'fund'], ['section', 'loan', 'amount', 'acquisition', 'equipment', 'acquisition', 'service', 'vehicle', 'acquisition', 'continue_reading']]\n"
     ]
    }
   ],
   "source": [
    "# Remove Stop Words\n",
    "data_words_nostops = remove_stopwords(data_words)\n",
    "\n",
    "# Form Bigrams\n",
    "data_words_bigrams = make_bigrams(data_words_nostops)\n",
    "\n",
    "# Initialize spacy 'en' model, keeping only tagger component (for efficiency)\n",
    "# python3 -m spacy download en\n",
    "nlp = spacy.load('en', disable=['parser', 'ner'])\n",
    "\n",
    "# Do lemmatization keeping only noun, adj, vb, adv\n",
    "data_lemmatized = lemmatization(data_words_bigrams, allowed_postags=['NOUN', 'ADJ', 'VERB', 'ADV'])\n",
    "\n",
    "print(data_lemmatized[:4])"
   ]
  },
  {
   "cell_type": "code",
   "execution_count": 59,
   "metadata": {},
   "outputs": [
    {
     "name": "stdout",
     "output_type": "stream",
     "text": [
      "[[(0, 1), (1, 1), (2, 2), (3, 2), (4, 1), (5, 1), (6, 1), (7, 2)]]\n"
     ]
    }
   ],
   "source": [
    "# Create Dictionary\n",
    "id2word = corpora.Dictionary(data_lemmatized)\n",
    "\n",
    "# Create Corpus\n",
    "texts = data_lemmatized\n",
    "\n",
    "# Term Document Frequency\n",
    "corpus = [id2word.doc2bow(text) for text in texts]\n",
    "\n",
    "# View\n",
    "print(corpus[:1])"
   ]
  },
  {
   "cell_type": "code",
   "execution_count": 60,
   "metadata": {},
   "outputs": [
    {
     "data": {
      "text/plain": [
       "'attend'"
      ]
     },
     "execution_count": 60,
     "metadata": {},
     "output_type": "execute_result"
    }
   ],
   "source": [
    "id2word[0]"
   ]
  },
  {
   "cell_type": "code",
   "execution_count": 61,
   "metadata": {},
   "outputs": [
    {
     "data": {
      "text/plain": [
       "[[('attend', 1),\n",
       "  ('attendant', 1),\n",
       "  ('birth', 2),\n",
       "  ('delivery', 2),\n",
       "  ('home', 1),\n",
       "  ('mananabang', 1),\n",
       "  ('practice', 1),\n",
       "  ('traditional', 2)]]"
      ]
     },
     "execution_count": 61,
     "metadata": {},
     "output_type": "execute_result"
    }
   ],
   "source": [
    "# Human readable format of corpus (term-frequency)\n",
    "[[(id2word[id], freq) for id, freq in cp] for cp in corpus[:1]]"
   ]
  },
  {
   "cell_type": "code",
   "execution_count": 62,
   "metadata": {},
   "outputs": [],
   "source": [
    "# Build LDA model\n",
    "lda_model = gensim.models.ldamodel.LdaModel(corpus=corpus,\n",
    "                                           id2word=id2word,\n",
    "                                           num_topics=12, \n",
    "                                           random_state=100,\n",
    "                                           update_every=1,\n",
    "                                           chunksize=100,\n",
    "                                           passes=50,\n",
    "                                           alpha='auto',\n",
    "                                           per_word_topics=True)"
   ]
  },
  {
   "cell_type": "code",
   "execution_count": 63,
   "metadata": {},
   "outputs": [
    {
     "name": "stdout",
     "output_type": "stream",
     "text": [
      "[(0, '0.161*\"section\" + 0.055*\"road\" + 0.054*\"tax\" + 0.032*\"implementation\" + 0.024*\"annual\" + 0.023*\"material\" + 0.023*\"code\" + 0.021*\"article\" + 0.021*\"bus\" + 0.020*\"jeepney\"'), (1, '0.069*\"service\" + 0.042*\"private\" + 0.039*\"development\" + 0.037*\"mayor\" + 0.035*\"management\" + 0.029*\"appropriation\" + 0.024*\"temporary\" + 0.023*\"issuance\" + 0.023*\"official\" + 0.021*\"clearance\"'), (2, '0.064*\"situate\" + 0.041*\"system\" + 0.036*\"supply\" + 0.032*\"secure\" + 0.028*\"driver\" + 0.028*\"disposal\" + 0.026*\"civil\" + 0.025*\"set\" + 0.021*\"highway\" + 0.021*\"facility\"'), (3, '0.082*\"market\" + 0.044*\"public\" + 0.041*\"street\" + 0.039*\"amount\" + 0.032*\"new\" + 0.027*\"portion\" + 0.023*\"rule\" + 0.023*\"medical\" + 0.021*\"benefit\" + 0.018*\"regulation\"'), (4, '0.074*\"establishment\" + 0.057*\"operation\" + 0.050*\"regulation\" + 0.041*\"revise\" + 0.035*\"student\" + 0.034*\"park\" + 0.032*\"sale\" + 0.031*\"commercial\" + 0.027*\"lot\" + 0.023*\"close\"'), (5, '0.092*\"penalty\" + 0.087*\"violation\" + 0.048*\"public\" + 0.034*\"vehicle\" + 0.032*\"government\" + 0.028*\"use\" + 0.026*\"fee\" + 0.017*\"operation\" + 0.015*\"rate\" + 0.012*\"house\"'), (6, '0.040*\"traffic\" + 0.033*\"terminal\" + 0.033*\"territorial_jurisdiction\" + 0.028*\"purpose\" + 0.024*\"construction\" + 0.022*\"comprehensive\" + 0.021*\"locate\" + 0.020*\"amount\" + 0.019*\"site\" + 0.018*\"child\"'), (7, '0.061*\"fee\" + 0.053*\"provide\" + 0.053*\"utility\" + 0.039*\"charge\" + 0.037*\"monthly\" + 0.036*\"school\" + 0.027*\"unit\" + 0.026*\"penalty\" + 0.025*\"procedure\" + 0.021*\"violation\"'), (8, '0.087*\"area\" + 0.031*\"cover\" + 0.031*\"continue_reading\" + 0.025*\"residential\" + 0.024*\"bound\" + 0.023*\"square_meter\" + 0.020*\"know\" + 0.019*\"employee\" + 0.019*\"register\" + 0.017*\"embrace\"'), (9, '0.064*\"office\" + 0.046*\"year\" + 0.040*\"person\" + 0.035*\"certain\" + 0.027*\"act\" + 0.024*\"property\" + 0.023*\"support\" + 0.021*\"owner\" + 0.018*\"provision\" + 0.018*\"real\"'), (10, '0.155*\"fund\" + 0.054*\"guideline\" + 0.045*\"davao\" + 0.044*\"duty\" + 0.043*\"policy\" + 0.040*\"purpose\" + 0.038*\"function\" + 0.031*\"program\" + 0.028*\"power\" + 0.017*\"composition\"'), (11, '0.065*\"purpose\" + 0.063*\"position\" + 0.045*\"fund\" + 0.040*\"business\" + 0.038*\"necessary\" + 0.034*\"legislative\" + 0.030*\"compensation\" + 0.027*\"officer\" + 0.025*\"local\" + 0.023*\"duty\"')]\n"
     ]
    }
   ],
   "source": [
    "print(lda_model.print_topics())\n",
    "doc_lda = lda_model[corpus]"
   ]
  },
  {
   "cell_type": "code",
   "execution_count": 66,
   "metadata": {},
   "outputs": [
    {
     "name": "stdout",
     "output_type": "stream",
     "text": [
      "\n",
      "Perplexity:  -6.820436502060856\n",
      "\n",
      "Coherence Score:  0.49747051572831386\n"
     ]
    }
   ],
   "source": [
    "# Compute Perplexity\n",
    "print('\\nPerplexity: ', lda_model.log_perplexity(corpus))  # a measure of how good the model is. lower the better.\n",
    "\n",
    "# Compute Coherence Score\n",
    "coherence_model_lda = CoherenceModel(model=lda_model, texts=data_lemmatized, dictionary=id2word, coherence='c_v')\n",
    "coherence_lda = coherence_model_lda.get_coherence()\n",
    "print('\\nCoherence Score: ', coherence_lda)"
   ]
  },
  {
   "cell_type": "code",
   "execution_count": 67,
   "metadata": {},
   "outputs": [
    {
     "data": {
      "text/html": [
       "\n",
       "<link rel=\"stylesheet\" type=\"text/css\" href=\"https://cdn.rawgit.com/bmabey/pyLDAvis/files/ldavis.v1.0.0.css\">\n",
       "\n",
       "\n",
       "<div id=\"ldavis_el3398140194978869872376051110\"></div>\n",
       "<script type=\"text/javascript\">\n",
       "\n",
       "var ldavis_el3398140194978869872376051110_data = {\"mdsDat\": {\"x\": [-0.28467509504508637, -0.056880149604056476, 0.21949883381553856, -0.00017065042917727862, 0.07095491047348552, 0.03120819418052468, -0.1311181769485724, -0.09895894543881029, 0.15437675063680048, 0.023038802617187926, 0.06559577277207056, 0.007129752970093696], \"y\": [0.15983794254820843, -0.24960375316185807, 0.14449126874776205, -0.11051487177703377, -0.024481856856035558, 0.011294163018347856, 0.0834466596201614, 0.012045933924633418, 0.11101698638500092, -0.0725717625334101, -0.03276088754031662, -0.032199822375460097], \"topics\": [1, 2, 3, 4, 5, 6, 7, 8, 9, 10, 11, 12], \"cluster\": [1, 1, 1, 1, 1, 1, 1, 1, 1, 1, 1, 1], \"Freq\": [18.848747212986915, 10.892918309362644, 10.096332435120676, 8.681574299829888, 8.159309158451098, 8.004566293017588, 7.123107949525259, 6.785591524392713, 6.750101779460442, 6.299216074901993, 5.793638973431102, 2.5648959895196817]}, \"tinfo\": {\"Term\": [\"section\", \"fund\", \"violation\", \"penalty\", \"market\", \"public\", \"fee\", \"area\", \"purpose\", \"position\", \"office\", \"establishment\", \"operation\", \"service\", \"road\", \"tax\", \"regulation\", \"duty\", \"provide\", \"utility\", \"guideline\", \"year\", \"amount\", \"street\", \"vehicle\", \"business\", \"necessary\", \"person\", \"davao\", \"government\", \"vehicle\", \"use\", \"rate\", \"house\", \"license\", \"own\", \"place\", \"clock\", \"poblacion\", \"industrial\", \"garbage\", \"gold\", \"structure\", \"document\", \"inspection\", \"rice\", \"regulate\", \"operator\", \"corn\", \"resolution\", \"government\", \"motorize\", \"highly\", \"moviehouse\", \"violation\", \"similar\", \"plant\", \"limit\", \"employment\", \"mill\", \"penalty\", \"public\", \"fee\", \"operation\", \"passenger\", \"permit\", \"market\", \"street\", \"new\", \"portion\", \"benefit\", \"premise\", \"expense\", \"installation\", \"part\", \"stall\", \"death\", \"assistance\", \"town\", \"allowance\", \"space\", \"increase\", \"declare\", \"pay\", \"financial\", \"entitle\", \"meter\", \"trade\", \"dead\", \"qualify\", \"separation\", \"overtime\", \"budget\", \"govern\", \"sitio\", \"subsistence\", \"amount\", \"rule\", \"medical\", \"take\", \"peso\", \"public\", \"regulation\", \"guideline\", \"position\", \"business\", \"necessary\", \"legislative\", \"compensation\", \"officer\", \"vendor\", \"staff\", \"qualification\", \"authorize\", \"department\", \"salary\", \"additional\", \"dutie\", \"assistant\", \"drug\", \"administrator\", \"swear\", \"grade\", \"may\", \"people\", \"effective\", \"cultural\", \"indigenous\", \"secretary\", \"local\", \"vacant\", \"representative\", \"grant\", \"enter\", \"purpose\", \"duty\", \"fund\", \"composition\", \"continue_reade\", \"mayor\", \"implementation\", \"office\", \"year\", \"person\", \"certain\", \"act\", \"property\", \"support\", \"owner\", \"real\", \"way\", \"show\", \"republic_act\", \"control\", \"therefore\", \"special\", \"honor\", \"case\", \"day\", \"activity\", \"movie\", \"administer\", \"otherwise_known\", \"thereafter\", \"theater\", \"utilize\", \"hospital\", \"collect\", \"good\", \"violative\", \"omission\", \"provision\", \"medical\", \"take\", \"mayor\", \"rule\", \"penalty\", \"purpose\", \"traffic\", \"terminal\", \"territorial_jurisdiction\", \"construction\", \"comprehensive\", \"locate\", \"site\", \"child\", \"amend\", \"agricultural\", \"construct\", \"subject\", \"cable\", \"honorable\", \"schedule\", \"identify\", \"food\", \"high\", \"condition\", \"location\", \"series\", \"term\", \"table\", \"elementary\", \"secondary\", \"teacher\", \"value\", \"assessment\", \"level\", \"welfare\", \"amount\", \"purpose\", \"school\", \"code\", \"government\", \"section\", \"road\", \"tax\", \"annual\", \"material\", \"article\", \"bus\", \"jeepney\", \"chapter\", \"truck\", \"educational\", \"enact\", \"scholarship\", \"cargo\", \"letter\", \"designate\", \"video\", \"mun_ord\", \"police\", \"item\", \"engage\", \"van\", \"toll\", \"ordinance\", \"regulatory\", \"implementation\", \"repeal\", \"sergeant\", \"baby\", \"occupational\", \"code\", \"permit\", \"passenger\", \"program\", \"incentive\", \"guideline\", \"provide\", \"utility\", \"charge\", \"monthly\", \"unit\", \"procedure\", \"zone\", \"collection\", \"hire\", \"tricycle\", \"administrative\", \"law\", \"enterprise\", \"number\", \"submit\", \"waste\", \"tuition\", \"economic\", \"respectively\", \"month\", \"usual\", \"barangays\", \"coordinator\", \"pattern\", \"rural\", \"laboratory\", \"desk\", \"motorolla\", \"ord\", \"adjacent\", \"school\", \"fee\", \"barangay\", \"payment\", \"provision\", \"function\", \"peso\", \"penalty\", \"violation\", \"guideline\", \"operation\", \"revise\", \"student\", \"park\", \"sale\", \"commercial\", \"lot\", \"close\", \"point\", \"poor\", \"organization\", \"establishment\", \"night\", \"hour\", \"install\", \"water\", \"bar\", \"standard\", \"age\", \"creek\", \"open\", \"finance\", \"generator\", \"diesel\", \"investment\", \"auction\", \"livestock\", \"accreditation\", \"exemption\", \"society\", \"mechanic\", \"regulation\", \"operation\", \"continue_reade\", \"incentive\", \"violation\", \"penalty\", \"mandatory\", \"davao\", \"policy\", \"power\", \"cooperative\", \"non\", \"worker\", \"legal\", \"education\", \"week\", \"respective\", \"center\", \"veteran\", \"purok\", \"electrician\", \"honorarium\", \"celebration\", \"burial_assistance\", \"human\", \"religious\", \"araw\", \"provincial\", \"function\", \"social\", \"fund\", \"clep\", \"right\", \"program\", \"literacy\", \"tourism\", \"baggage\", \"guideline\", \"duty\", \"composition\", \"purpose\", \"area\", \"cover\", \"continue_reading\", \"residential\", \"bound\", \"square_meter\", \"know\", \"employee\", \"register\", \"embrace\", \"line\", \"date\", \"late\", \"former\", \"corner\", \"officially\", \"memory\", \"tct\", \"therein\", \"bonifacio\", \"lapu\", \"home\", \"extension\", \"relocation\", \"forest\", \"rizal\", \"land\", \"period\", \"village\", \"name\", \"establishment\", \"vehicular\", \"service\", \"private\", \"development\", \"management\", \"appropriation\", \"temporary\", \"issuance\", \"official\", \"clearance\", \"balance\", \"render\", \"certification\", \"shall\", \"plan\", \"conduct\", \"integrate\", \"transport\", \"oath\", \"agent\", \"subscribe\", \"paper\", \"contractor\", \"agency\", \"contract\", \"make\", \"unappropriated\", \"subsequent\", \"available\", \"conservation\", \"work\", \"mayor\", \"barangay\", \"purpose\", \"situate\", \"system\", \"supply\", \"secure\", \"driver\", \"disposal\", \"civil\", \"set\", \"highway\", \"facility\", \"say\", \"national\", \"registration\", \"recruitment\", \"thereon\", \"identification\", \"foreign\", \"monitor\", \"mercury\", \"establish\", \"motorcycle\", \"domestic\", \"card\", \"stock\", \"arcade\", \"augment\", \"wear\", \"rider\", \"helmet\", \"crash\"], \"Freq\": [64.0, 74.0, 93.0, 106.0, 44.0, 69.0, 46.0, 27.0, 64.0, 31.0, 28.0, 28.0, 38.0, 20.0, 22.0, 21.0, 30.0, 26.0, 19.0, 19.0, 32.0, 20.0, 29.0, 22.0, 31.0, 20.0, 19.0, 17.0, 15.0, 34.0, 31.144863076043915, 26.210064847549912, 14.359469426477755, 11.035275587165165, 9.464737439533167, 8.91912308033921, 8.332431738975524, 8.234109377283609, 7.960465380409607, 7.274377927284261, 7.174457887634872, 6.562403948160757, 6.371911277527814, 6.010228406366187, 5.760136133288849, 5.67667925437521, 5.6535444287165575, 5.462114816202017, 5.164298064040048, 5.0872936116910195, 29.801843418873474, 4.8504216705616265, 4.6747349258301005, 4.604502263008549, 80.91633446003476, 4.488589907207852, 4.334729031558799, 4.3271627187683, 4.278345068893209, 4.25550155404528, 85.20497510033627, 44.7427925284182, 24.280425489896643, 15.857688262740288, 7.260264673755006, 6.533330697679079, 43.91097027476804, 22.01888526498122, 16.88231966056413, 14.334223139737198, 11.062999029812408, 9.418150309525721, 8.110508960260697, 7.829548127301446, 7.673980874793675, 7.64643249676999, 6.850257086386047, 6.611908022899576, 6.41951881430235, 5.837234284428121, 5.7550645266088365, 5.225966767820768, 4.742666747151928, 4.142313180912497, 4.1375501902094145, 4.091112714374661, 3.983300074105424, 3.8717622398716243, 3.6519550948979718, 3.5066593115280273, 3.5065999518491595, 3.4616579408652037, 3.461551941438654, 3.243149725335006, 3.243149725335006, 3.1876254798356234, 20.731428700635316, 12.558865930199806, 12.442688563418551, 7.682549619025497, 8.74067580050615, 23.73475310223504, 9.665904639777299, 4.89272851414994, 31.082413694282113, 19.803418163206775, 18.70207353874721, 17.06830989066322, 14.76680414291879, 13.269540695308221, 10.411239369014625, 10.16070512308073, 9.134345082186792, 7.654971059500415, 6.905965762817899, 6.842416300505469, 6.540822317142249, 6.474074830582523, 5.92264103997551, 5.4333664472727135, 5.230319879300943, 4.325558734631429, 3.989539640757126, 3.9669615988180698, 3.8093383487875805, 3.4689637557920325, 3.4499684072015806, 2.9470394484303455, 2.8025841799796214, 12.620897971338954, 2.718093831122044, 2.606046472113884, 2.580357788692132, 2.52775914368624, 32.252447644514746, 11.386953469168748, 22.249212736040786, 5.299009667416676, 3.942849041557808, 4.862829582233176, 3.6387542466934146, 27.362103636836064, 19.651807667365354, 16.96238270270987, 14.954041933867924, 11.505222100770206, 10.251697940110608, 9.617497578306125, 9.137776527521442, 7.595579461044969, 6.0644102133726765, 5.940732782208327, 5.911840763614468, 5.691158362131198, 5.234700725497906, 5.067682483547509, 4.951520459812203, 4.583304456322717, 4.493150576578526, 4.3311184878219, 4.300627894679153, 3.8825917051243897, 3.6725741533920453, 3.589537329498189, 3.2554891176816527, 3.0130554080645715, 2.4421156225421146, 2.413039535304601, 2.347315897938856, 2.2426816202634456, 2.2426816202634456, 7.795875564519675, 5.679513138135666, 4.282474273782389, 5.063702148212152, 4.407306208923354, 6.310626076426925, 4.998600289158882, 15.859588905640358, 13.355742987819438, 13.170381524616127, 9.674652105275861, 8.79465220544757, 8.342674468117464, 7.488673208335883, 7.147433491506535, 6.9866231857892025, 6.376926642666261, 6.285335446208411, 5.947021706646256, 5.64402706466243, 5.317740059396839, 5.240848993653221, 5.062672259969875, 4.971306742259232, 4.9239482066138, 4.851077136964898, 4.831597773046138, 4.779895668797575, 4.41333995276779, 4.01892748342993, 3.7046317166314573, 3.7046317166314573, 3.2730771586430367, 3.2610657435991808, 3.2610657435991808, 3.2610657435991808, 3.1354665534106028, 8.149802834684225, 11.193559000378105, 6.562562357857073, 5.61207072987362, 3.727887089522539, 63.46510923571866, 21.550410515071757, 21.27461370662121, 9.442695882815249, 9.177141330415607, 8.366007581603139, 8.271487195453311, 7.8962765029544455, 7.856089705306284, 7.684452190926065, 6.7581419965199, 6.101816894520796, 5.564858318600605, 4.776759199109407, 4.670722781238468, 4.592290823273104, 3.083981711802415, 3.0837863384406248, 3.0081533879623663, 3.0067480193524183, 2.6656450072060225, 2.519709903248586, 2.519709903248586, 2.3751983123315075, 2.2052407156193605, 12.679300112482219, 2.053508557784425, 2.0274844960952803, 1.7832753082180175, 1.7830781020854791, 8.93863920737209, 7.868072360459963, 6.2175274095106055, 4.747356057991257, 2.8839890346180357, 4.24007773812639, 18.675696908032158, 18.66720815475729, 13.50788326241118, 13.055331985570227, 9.367411000484763, 8.704564104549172, 6.423351270997709, 6.281103982412961, 5.841037279151864, 5.6761896309220825, 4.829588822209967, 4.567606533544085, 3.7851772941724833, 3.6750984792740993, 3.5621664855832442, 3.454059485684344, 3.151746485659297, 2.916646118868923, 2.9057494353498576, 2.589115252257015, 2.340734899004031, 1.937163571988133, 1.937163571988133, 1.8616554527055917, 1.8044821141188276, 1.688643120382415, 1.687732073352877, 1.609586223384922, 1.6095500163601177, 1.6094309572244996, 12.475855189235633, 21.49059541579125, 3.4297939290877206, 2.832072054145828, 3.9614441813603993, 4.526392175066045, 4.059705153838388, 9.264164222834383, 7.496794309140079, 4.849093644328928, 3.567892740722357, 13.813272738570895, 11.582149185003576, 11.20859161132196, 10.682954858389937, 10.228651325811475, 8.863242430905617, 7.618050725789217, 5.078769673847449, 5.073858220479725, 4.647697508353084, 24.627236560472994, 4.383679389924983, 3.7653446255631393, 3.7180687018806275, 3.3876179407949256, 3.180530545972693, 2.2158460313430006, 1.9177364107427357, 1.889054623071737, 1.8890401739649676, 1.8890159367536121, 1.8704241312431908, 1.8704241312431908, 1.8395348929379824, 1.7503821951358405, 1.7503821951358405, 1.749357085388901, 1.6944972450532587, 1.6711431382449913, 1.6684114802318526, 16.76970540688513, 18.972503739448506, 5.409765461455168, 2.250981598004317, 4.921879718876484, 4.88217730227556, 1.917662456174754, 14.898300089083618, 14.410523494393006, 9.393755257698711, 5.120302822797089, 5.01901298111363, 4.852043191246602, 4.402254769257528, 4.28194363969357, 3.735749596149088, 3.717786695061732, 3.4440190628491516, 3.36089149710164, 3.3050436654824056, 3.275972339691437, 3.2371066085478057, 3.202864519241741, 2.8518528885189967, 2.5233049301749495, 2.153624085916738, 2.130116245726348, 1.8755816405745527, 12.621263744659522, 1.620258345614725, 51.568640279776375, 1.4260805347432546, 1.360613716727288, 10.188896155793458, 1.3356751688055715, 1.111813147676397, 1.111720492465753, 17.913817163390824, 14.731673409421143, 5.715752345409008, 13.303912098338019, 26.990958573724477, 9.601198734091891, 9.588025305161702, 7.671319664979943, 7.308174025415109, 7.144887314215125, 6.103668930011132, 5.8790069861182666, 5.732002157692558, 5.198042133253346, 4.612932812347389, 4.505821250558241, 4.437979591564052, 4.103326093010903, 3.8536724802108426, 3.411986746595263, 3.344329990989536, 3.197306124149415, 3.157262569423326, 3.138544346525893, 3.094971473612871, 2.8546013955255263, 2.754023471409776, 2.7540116445159746, 2.686235754589757, 2.6667559951158215, 2.659188513847656, 2.56975065831067, 2.4383313682290564, 2.4165631048044847, 3.3012737514130728, 2.56898537174345, 19.764952321571187, 11.836958822438174, 11.222210587345442, 9.991535084558613, 8.361964517743264, 6.9103132603037585, 6.580634626376494, 6.538189452727372, 6.090842091701372, 4.274065343957935, 4.068617056008107, 4.068442482774151, 4.004641271940773, 3.50667563233369, 3.112549229866133, 2.868841280940253, 2.868841280940253, 2.7319135179356557, 2.7319135179356557, 2.7319135179356557, 2.7319135179356557, 2.6642865532517646, 2.3610525805623506, 2.104681970070781, 2.0156809271997322, 2.0156809271997322, 2.0156809271997322, 2.0156809271997322, 1.8528412431606016, 1.7960085023522316, 10.618541650504955, 2.4968771893013146, 2.7661110348614164, 8.075101704005881, 5.148751868145833, 4.493209931163973, 4.071227439800238, 3.5265988373248325, 3.4692483318264755, 3.33987700425241, 3.181701341305041, 2.710293477273009, 2.68225283181969, 2.612903162644673, 2.1380536434241773, 1.7658979846097775, 1.7270478732957821, 1.6185138169666777, 1.4097002973393225, 1.2526424499823092, 1.1707529735284037, 1.1707529735284037, 1.1338279433876703, 0.9980279722592331, 0.7781347824247044, 0.6809101962610095, 0.6808436582204571, 0.6808436582204571, 1.267717280260741, 0.5236132113037058, 0.5236132113037058, 0.5236132113037058, 0.5236132113037058], \"Total\": [64.0, 74.0, 93.0, 106.0, 44.0, 69.0, 46.0, 27.0, 64.0, 31.0, 28.0, 28.0, 38.0, 20.0, 22.0, 21.0, 30.0, 26.0, 19.0, 19.0, 32.0, 20.0, 29.0, 22.0, 31.0, 20.0, 19.0, 17.0, 15.0, 34.0, 31.86773575657489, 26.93294920116183, 15.082333837774348, 11.75815749564634, 10.187627911595587, 9.642012631478828, 9.055297319388325, 8.956974381969431, 8.683331549701265, 7.997246040776805, 7.897323936545583, 7.285264252014888, 7.09478644088092, 6.733123644020824, 6.483003890356671, 6.3995396793958435, 6.376414104867631, 6.1849854520182435, 5.887156284372964, 5.8101809953075225, 34.182881766362435, 5.573284020343279, 5.3976021027751715, 5.3273663382860486, 93.91991625564869, 5.21146165560553, 5.05759472484412, 5.050028170474501, 5.001219332994683, 4.978359523877339, 106.17457517932604, 69.13196416751487, 46.426158638533, 38.98299059282048, 14.13437997836395, 15.058019229996768, 44.626806531557655, 22.73474399177312, 17.598153825989787, 15.050068729862156, 11.778841183556981, 10.133978770321557, 8.82633707305658, 8.545399432477895, 8.389811613638669, 8.362259233348363, 7.566081788486137, 7.3277386368643125, 7.135377607374958, 6.553061597000103, 6.470915016652375, 5.941805758441849, 5.458518543436431, 4.858139851342567, 4.8533755971957815, 4.806964199853608, 4.6991540594322885, 4.587597074809535, 4.367789473657036, 4.22248172459516, 4.222426733357912, 4.177484747943343, 4.177382064706623, 3.9589734516760093, 3.9589734516760093, 3.903448720445708, 29.527334365397845, 17.609734149896948, 18.765762697406505, 12.60858545021196, 15.338897190002847, 69.13196416751487, 30.084151436288757, 32.407111978154354, 31.79614193644837, 20.517177010159834, 19.41580273248457, 17.7820358383044, 15.48053247636372, 13.983271173660508, 11.125023258729575, 10.874431759475247, 9.84806857122778, 8.368726985187688, 7.619691816839136, 7.556144187449142, 7.254574611293012, 7.187799479882467, 6.636370072547427, 6.1471192924903155, 5.944074067449054, 5.039324388755278, 4.703264395840615, 4.680694373629416, 4.523065365699967, 4.182696362248325, 4.163774240252539, 3.6607631027644367, 3.51630908339785, 15.900091025242928, 3.4319358240670734, 3.319773271356944, 3.294115894870364, 3.2415440400730606, 64.95723328551858, 26.761939301157746, 74.46117093086116, 11.658074992326924, 9.996145995189346, 21.127824566861403, 16.96550891135496, 28.074124840473292, 20.36382390939124, 17.67440996112292, 15.666055036971532, 12.217230172063246, 10.963708969149474, 10.329525202006169, 9.849808872740589, 8.307587638207279, 6.776430443657795, 6.652751655614214, 6.623846625904496, 6.4031760912597635, 5.946708945618124, 5.779712880906682, 5.663557741119191, 5.295328996499576, 5.205164634118933, 5.043135690557243, 5.012636379451045, 4.594725011845676, 4.384590501769676, 4.301546723005353, 3.9675019006814463, 3.725088139934297, 3.154142460612247, 3.125046702362428, 3.0593208259198814, 2.9546835259413755, 2.9546835259413755, 12.401593895059827, 18.765762697406505, 12.60858545021196, 21.127824566861403, 17.609734149896948, 106.17457517932604, 64.95723328551858, 16.57416572041414, 14.070320526496632, 13.884948319188583, 10.389202349818774, 9.509197385055456, 9.05722939809115, 8.20321528600702, 7.861998720357598, 7.701177181088657, 7.0914825958304455, 6.999893217735051, 6.661586937546155, 6.358569084985381, 6.032291092550582, 5.955407065960412, 5.777243890071489, 5.685861902172734, 5.638505883615953, 5.565624273916303, 5.54615468039445, 5.494457369728166, 5.127882705067672, 4.7334839879766175, 4.4191734866153265, 4.4191734866153265, 3.9876258319704343, 3.975609111842983, 3.975609111842983, 3.975609111842983, 3.8500118406678028, 29.527334365397845, 64.95723328551858, 19.68523239655373, 15.198970403203083, 34.182881766362435, 64.18311172310531, 22.268430368989826, 21.99261040919779, 10.160700900856636, 9.89516255839509, 9.0839995548088, 8.989483054646657, 8.614274804079642, 8.574081423231105, 8.402452611738827, 7.476138875393204, 6.81980714324507, 6.282851582609287, 5.494751083338305, 5.3887195257090745, 5.310318554499015, 3.801973942358805, 3.801785946550343, 3.7261482421464245, 3.724785980436428, 3.383640477866263, 3.2377021334926153, 3.2377021334926153, 3.0932261212518877, 2.9232428438372975, 16.96550891135496, 2.7715355490236413, 2.7454767171183945, 2.50126725876105, 2.501081979834746, 15.198970403203083, 15.058019229996768, 14.13437997836395, 15.58384118401261, 5.782753421296649, 32.407111978154354, 19.392257016495172, 19.38377155508719, 14.224427552692546, 13.771873394736565, 10.083955765518812, 9.421103881726006, 7.1399179669405015, 6.9976386727045465, 6.557572407934332, 6.392723384614645, 5.546122215047774, 5.284148425819534, 4.5017121494245, 4.391647676583537, 4.27880500309614, 4.170600852092932, 3.8682853571108224, 3.6331812626492064, 3.622301189905508, 3.305656518294764, 3.0572798003205013, 2.653698104276438, 2.653698104276438, 2.578190874389128, 2.5210209606170966, 2.4051818179337006, 2.4042654791082962, 2.3261235342348914, 2.3260870465946177, 2.325976426583753, 19.68523239655373, 46.426158638533, 6.997178229142281, 5.394760561067886, 12.401593895059827, 17.793780171835415, 15.338897190002847, 106.17457517932604, 93.91991625564869, 32.407111978154354, 38.98299059282048, 14.527340633476964, 12.296221021729103, 11.922677922992083, 11.397035342985705, 10.942723238037916, 9.57730888225683, 8.332134598649702, 5.792838031994592, 5.7879249604238066, 5.361766972062628, 28.58338827250928, 5.097750187274182, 4.479404724416864, 4.432136207496564, 4.101685534069052, 3.8946034043971314, 2.9299213235575645, 2.631796366070002, 2.603114800929157, 2.603100622419871, 2.6030784626742425, 2.584486103679247, 2.584486103679247, 2.5535945704834924, 2.4644440879291714, 2.4644440879291714, 2.463418175128707, 2.408571666103681, 2.3852051241955277, 2.382469982624787, 30.084151436288757, 38.98299059282048, 9.996145995189346, 5.782753421296649, 93.91991625564869, 106.17457517932604, 4.488153144537312, 15.612177239189641, 15.124390076227225, 10.107629315401732, 5.834166781331274, 5.7329065773580075, 5.565912348943361, 5.116130105036133, 4.995813295898094, 4.449613729927313, 4.431678790242587, 4.157930790966197, 4.074756264435246, 4.018906165599095, 3.9898382196877455, 3.951006297054565, 3.9167351294349015, 3.5657169184508093, 3.2371950597600874, 2.867493747083824, 2.843983565700467, 2.5894469109853278, 17.793780171835415, 2.3341604399841573, 74.46117093086116, 2.1399441494875906, 2.074531255148878, 15.58384118401261, 2.0495374842599756, 1.82568108230217, 1.8255914532199642, 32.407111978154354, 26.761939301157746, 11.658074992326924, 64.95723328551858, 27.71604477459305, 10.3262793929756, 10.313118646936934, 8.396416303551792, 8.033255730272764, 7.869965915194966, 6.828759003435636, 6.604095272025119, 6.457086050704329, 5.923120604536423, 5.3380116789873755, 5.230909149833426, 5.163077705123483, 4.828404622202368, 4.5787527897676785, 4.137064036032968, 4.06940876589128, 3.922384374773489, 3.8823992836470476, 3.8636231162220716, 3.8200506632650613, 3.5796889052124867, 3.4791125979901723, 3.479106588143995, 3.4113307659561807, 3.3918345945754296, 3.3842921616847623, 3.2948304119351985, 3.163409366406052, 3.141644307333334, 28.58338827250928, 5.3002366442593924, 20.49054085511496, 12.562549322325792, 11.947778196076795, 10.717107750730781, 9.087534484574856, 7.635906776393122, 7.306207561487884, 7.263758450129464, 6.816409391944035, 4.999626990685859, 4.794177707021091, 4.794010673784897, 4.7302039747580835, 4.232237664211805, 3.8381332429373445, 3.5944062791919666, 3.5944062791919666, 3.457474315092989, 3.457474315092989, 3.457474315092989, 3.457474315092989, 3.3898646771716807, 3.086633974171624, 2.8302409787243423, 2.7412393594715074, 2.7412393594715074, 2.7412393594715074, 2.7412393594715074, 2.578410973541019, 2.5215707494484025, 21.127824566861403, 6.997178229142281, 64.95723328551858, 8.810111330130404, 5.883761457634449, 5.228217878253904, 4.806247969045952, 4.261608231785785, 4.204251626685207, 4.0748857694556415, 3.916715520172719, 3.4453173591072432, 3.417258700292495, 3.3479419535669703, 2.8730624788380754, 2.5009207959138084, 2.462049489198163, 2.3535151097783595, 2.144721700596751, 1.9876441175108686, 1.9057601247818807, 1.9057601247818807, 1.8688635368439512, 1.7330282020310506, 1.5131383009992938, 1.4159120049615999, 1.4158487339394383, 1.4158487339394383, 2.9423209168757447, 1.2586136074934018, 1.2586136074934018, 1.2586136074934018, 1.2586136074934018], \"Category\": [\"Default\", \"Default\", \"Default\", \"Default\", \"Default\", \"Default\", \"Default\", \"Default\", \"Default\", \"Default\", \"Default\", \"Default\", \"Default\", \"Default\", \"Default\", \"Default\", \"Default\", \"Default\", \"Default\", \"Default\", \"Default\", \"Default\", \"Default\", \"Default\", \"Default\", \"Default\", \"Default\", \"Default\", \"Default\", \"Default\", \"Topic1\", \"Topic1\", \"Topic1\", \"Topic1\", \"Topic1\", \"Topic1\", \"Topic1\", \"Topic1\", \"Topic1\", \"Topic1\", \"Topic1\", \"Topic1\", \"Topic1\", \"Topic1\", \"Topic1\", \"Topic1\", \"Topic1\", \"Topic1\", \"Topic1\", \"Topic1\", \"Topic1\", \"Topic1\", \"Topic1\", \"Topic1\", \"Topic1\", \"Topic1\", \"Topic1\", \"Topic1\", \"Topic1\", \"Topic1\", \"Topic1\", \"Topic1\", \"Topic1\", \"Topic1\", \"Topic1\", \"Topic1\", \"Topic2\", \"Topic2\", \"Topic2\", \"Topic2\", \"Topic2\", \"Topic2\", \"Topic2\", \"Topic2\", \"Topic2\", \"Topic2\", \"Topic2\", \"Topic2\", \"Topic2\", \"Topic2\", \"Topic2\", \"Topic2\", \"Topic2\", \"Topic2\", \"Topic2\", \"Topic2\", \"Topic2\", \"Topic2\", \"Topic2\", \"Topic2\", \"Topic2\", \"Topic2\", \"Topic2\", \"Topic2\", \"Topic2\", \"Topic2\", \"Topic2\", \"Topic2\", \"Topic2\", \"Topic2\", \"Topic2\", \"Topic2\", \"Topic2\", \"Topic2\", \"Topic3\", \"Topic3\", \"Topic3\", \"Topic3\", \"Topic3\", \"Topic3\", \"Topic3\", \"Topic3\", \"Topic3\", \"Topic3\", \"Topic3\", \"Topic3\", \"Topic3\", \"Topic3\", \"Topic3\", \"Topic3\", \"Topic3\", \"Topic3\", \"Topic3\", \"Topic3\", \"Topic3\", \"Topic3\", \"Topic3\", \"Topic3\", \"Topic3\", \"Topic3\", \"Topic3\", \"Topic3\", \"Topic3\", \"Topic3\", \"Topic3\", \"Topic3\", \"Topic3\", \"Topic3\", \"Topic3\", \"Topic3\", \"Topic3\", \"Topic4\", \"Topic4\", \"Topic4\", \"Topic4\", \"Topic4\", \"Topic4\", \"Topic4\", \"Topic4\", \"Topic4\", \"Topic4\", \"Topic4\", \"Topic4\", \"Topic4\", \"Topic4\", \"Topic4\", \"Topic4\", \"Topic4\", \"Topic4\", \"Topic4\", \"Topic4\", \"Topic4\", \"Topic4\", \"Topic4\", \"Topic4\", \"Topic4\", \"Topic4\", \"Topic4\", \"Topic4\", \"Topic4\", \"Topic4\", \"Topic4\", \"Topic4\", \"Topic4\", \"Topic4\", \"Topic4\", \"Topic4\", \"Topic4\", \"Topic5\", \"Topic5\", \"Topic5\", \"Topic5\", \"Topic5\", \"Topic5\", \"Topic5\", \"Topic5\", \"Topic5\", \"Topic5\", \"Topic5\", \"Topic5\", \"Topic5\", \"Topic5\", \"Topic5\", \"Topic5\", \"Topic5\", \"Topic5\", \"Topic5\", \"Topic5\", \"Topic5\", \"Topic5\", \"Topic5\", \"Topic5\", \"Topic5\", \"Topic5\", \"Topic5\", \"Topic5\", \"Topic5\", \"Topic5\", \"Topic5\", \"Topic5\", \"Topic5\", \"Topic5\", \"Topic5\", \"Topic6\", \"Topic6\", \"Topic6\", \"Topic6\", \"Topic6\", \"Topic6\", \"Topic6\", \"Topic6\", \"Topic6\", \"Topic6\", \"Topic6\", \"Topic6\", \"Topic6\", \"Topic6\", \"Topic6\", \"Topic6\", \"Topic6\", \"Topic6\", \"Topic6\", \"Topic6\", \"Topic6\", \"Topic6\", \"Topic6\", \"Topic6\", \"Topic6\", \"Topic6\", \"Topic6\", \"Topic6\", \"Topic6\", \"Topic6\", \"Topic6\", \"Topic6\", \"Topic6\", \"Topic6\", \"Topic6\", \"Topic6\", \"Topic7\", \"Topic7\", \"Topic7\", \"Topic7\", \"Topic7\", \"Topic7\", \"Topic7\", \"Topic7\", \"Topic7\", \"Topic7\", \"Topic7\", \"Topic7\", \"Topic7\", \"Topic7\", \"Topic7\", \"Topic7\", \"Topic7\", \"Topic7\", \"Topic7\", \"Topic7\", \"Topic7\", \"Topic7\", \"Topic7\", \"Topic7\", \"Topic7\", \"Topic7\", \"Topic7\", \"Topic7\", \"Topic7\", \"Topic7\", \"Topic7\", \"Topic7\", \"Topic7\", \"Topic7\", \"Topic7\", \"Topic7\", \"Topic7\", \"Topic7\", \"Topic7\", \"Topic7\", \"Topic7\", \"Topic8\", \"Topic8\", \"Topic8\", \"Topic8\", \"Topic8\", \"Topic8\", \"Topic8\", \"Topic8\", \"Topic8\", \"Topic8\", \"Topic8\", \"Topic8\", \"Topic8\", \"Topic8\", \"Topic8\", \"Topic8\", \"Topic8\", \"Topic8\", \"Topic8\", \"Topic8\", \"Topic8\", \"Topic8\", \"Topic8\", \"Topic8\", \"Topic8\", \"Topic8\", \"Topic8\", \"Topic8\", \"Topic8\", \"Topic8\", \"Topic8\", \"Topic8\", \"Topic8\", \"Topic8\", \"Topic8\", \"Topic8\", \"Topic8\", \"Topic9\", \"Topic9\", \"Topic9\", \"Topic9\", \"Topic9\", \"Topic9\", \"Topic9\", \"Topic9\", \"Topic9\", \"Topic9\", \"Topic9\", \"Topic9\", \"Topic9\", \"Topic9\", \"Topic9\", \"Topic9\", \"Topic9\", \"Topic9\", \"Topic9\", \"Topic9\", \"Topic9\", \"Topic9\", \"Topic9\", \"Topic9\", \"Topic9\", \"Topic9\", \"Topic9\", \"Topic9\", \"Topic9\", \"Topic9\", \"Topic9\", \"Topic9\", \"Topic9\", \"Topic9\", \"Topic10\", \"Topic10\", \"Topic10\", \"Topic10\", \"Topic10\", \"Topic10\", \"Topic10\", \"Topic10\", \"Topic10\", \"Topic10\", \"Topic10\", \"Topic10\", \"Topic10\", \"Topic10\", \"Topic10\", \"Topic10\", \"Topic10\", \"Topic10\", \"Topic10\", \"Topic10\", \"Topic10\", \"Topic10\", \"Topic10\", \"Topic10\", \"Topic10\", \"Topic10\", \"Topic10\", \"Topic10\", \"Topic10\", \"Topic10\", \"Topic10\", \"Topic10\", \"Topic11\", \"Topic11\", \"Topic11\", \"Topic11\", \"Topic11\", \"Topic11\", \"Topic11\", \"Topic11\", \"Topic11\", \"Topic11\", \"Topic11\", \"Topic11\", \"Topic11\", \"Topic11\", \"Topic11\", \"Topic11\", \"Topic11\", \"Topic11\", \"Topic11\", \"Topic11\", \"Topic11\", \"Topic11\", \"Topic11\", \"Topic11\", \"Topic11\", \"Topic11\", \"Topic11\", \"Topic11\", \"Topic11\", \"Topic11\", \"Topic11\", \"Topic11\", \"Topic11\", \"Topic12\", \"Topic12\", \"Topic12\", \"Topic12\", \"Topic12\", \"Topic12\", \"Topic12\", \"Topic12\", \"Topic12\", \"Topic12\", \"Topic12\", \"Topic12\", \"Topic12\", \"Topic12\", \"Topic12\", \"Topic12\", \"Topic12\", \"Topic12\", \"Topic12\", \"Topic12\", \"Topic12\", \"Topic12\", \"Topic12\", \"Topic12\", \"Topic12\", \"Topic12\", \"Topic12\", \"Topic12\", \"Topic12\", \"Topic12\"], \"logprob\": [30.0, 29.0, 28.0, 27.0, 26.0, 25.0, 24.0, 23.0, 22.0, 21.0, 20.0, 19.0, 18.0, 17.0, 16.0, 15.0, 14.0, 13.0, 12.0, 11.0, 10.0, 9.0, 8.0, 7.0, 6.0, 5.0, 4.0, 3.0, 2.0, 1.0, -3.3931000232696533, -3.5655999183654785, -4.167300224304199, -4.430600166320801, -4.584199905395508, -4.643499851226807, -4.711599826812744, -4.723400115966797, -4.757199764251709, -4.847400188446045, -4.861199855804443, -4.950399875640869, -4.979800224304199, -5.038300037384033, -5.0808000564575195, -5.095399856567383, -5.099400043487549, -5.133900165557861, -5.190000057220459, -5.204999923706055, -3.4372000694274902, -5.252699851989746, -5.289599895477295, -5.304699897766113, -2.4382998943328857, -5.3302001953125, -5.365099906921387, -5.366799831390381, -5.378200054168701, -5.383500099182129, -2.386699914932251, -3.0308001041412354, -3.6421000957489014, -4.0680999755859375, -4.849299907684326, -4.954800128936768, -2.501199960708618, -3.191499948501587, -3.4570999145507812, -3.620699882507324, -3.8798000812530518, -4.040800094604492, -4.190199851989746, -4.225500106811523, -4.24560022354126, -4.249199867248535, -4.359099864959717, -4.394499778747559, -4.424099922180176, -4.519100189208984, -4.533299922943115, -4.629799842834473, -4.726799964904785, -4.862100124359131, -4.86329984664917, -4.874599933624268, -4.901299953460693, -4.929699897766113, -4.988100051879883, -5.02869987487793, -5.02869987487793, -5.041600227355957, -5.0416998863220215, -5.106900215148926, -5.106900215148926, -5.124100208282471, -3.251699924468994, -3.753000020980835, -3.7623000144958496, -4.2444000244140625, -4.1153998374938965, -3.116499900817871, -4.014800071716309, -4.6956000328063965, -2.7708001136779785, -3.22160005569458, -3.2788000106811523, -3.3701999187469482, -3.5151000022888184, -3.621999979019165, -3.8645999431610107, -3.8889000415802, -3.9953999519348145, -4.172100067138672, -4.275100231170654, -4.284299850463867, -4.329400062561035, -4.339600086212158, -4.428699970245361, -4.514900207519531, -4.552999973297119, -4.7428998947143555, -4.823800086975098, -4.829500198364258, -4.869999885559082, -4.963600158691406, -4.969099998474121, -5.126699924468994, -5.1768999099731445, -3.672100067138672, -5.207499980926514, -5.249599933624268, -5.259500026702881, -5.280099868774414, -2.7339000701904297, -3.7750000953674316, -3.10509991645813, -4.539899826049805, -4.835599899291992, -4.625800132751465, -4.915800094604492, -2.747299909591675, -3.0782999992370605, -3.2255001068115234, -3.3515000343322754, -3.6136999130249023, -3.7290000915527344, -3.7929000854492188, -3.844099998474121, -4.028900146484375, -4.254000186920166, -4.274700164794922, -4.2795000076293945, -4.317599773406982, -4.401199817657471, -4.433599948883057, -4.4567999839782715, -4.53410005569458, -4.553899765014648, -4.590700149536133, -4.597700119018555, -4.699999809265137, -4.7555999755859375, -4.778500080108643, -4.876100063323975, -4.953499794006348, -5.163599967956543, -5.175600051879883, -5.203199863433838, -5.248799800872803, -5.248799800872803, -4.002900123596191, -4.3196001052856445, -4.6020002365112305, -4.4344000816345215, -4.573200225830078, -4.214300155639648, -4.447299957275391, -3.2307000160217285, -3.4024999141693115, -3.4165000915527344, -3.724900007247925, -3.8203001022338867, -3.8731000423431396, -3.981100082397461, -4.027699947357178, -4.0503997802734375, -4.1417999267578125, -4.156199932098389, -4.211599826812744, -4.263800144195557, -4.323400020599365, -4.3379998207092285, -4.372499942779541, -4.3907999992370605, -4.400300025939941, -4.415200233459473, -4.419300079345703, -4.429999828338623, -4.509799957275391, -4.603400230407715, -4.684899806976318, -4.684899806976318, -4.808700084686279, -4.812399864196777, -4.812399864196777, -4.812399864196777, -4.8516998291015625, -3.896399974822998, -3.5790998935699463, -4.113100051879883, -4.269499778747559, -4.678599834442139, -1.8248000144958496, -2.904900074005127, -2.917799949645996, -3.73009991645813, -3.7585999965667725, -3.851099967956543, -3.862499952316284, -3.908900022506714, -3.9140000343322754, -3.9361000061035156, -4.064499855041504, -4.1666998863220215, -4.258800029754639, -4.411499977111816, -4.434000015258789, -4.450900077819824, -4.849100112915039, -4.849100112915039, -4.874000072479248, -4.8744001388549805, -4.994800090789795, -5.051199913024902, -5.051199913024902, -5.110199928283691, -5.184500217437744, -3.43530011177063, -5.25570011138916, -5.268499851226807, -5.3968000411987305, -5.396999835968018, -3.784899950027466, -3.9124999046325684, -4.147900104522705, -4.417699813842773, -4.916100025177002, -4.530700206756592, -2.9314000606536865, -2.9319000244140625, -3.2553999423980713, -3.289400100708008, -3.6214001178741455, -3.6947999000549316, -3.998699903488159, -4.021100044250488, -4.093699932098389, -4.122300148010254, -4.283899784088135, -4.339600086212158, -4.527500152587891, -4.557000160217285, -4.5883002281188965, -4.619100093841553, -4.710700035095215, -4.7881999015808105, -4.791900157928467, -4.907299995422363, -5.008200168609619, -5.197400093078613, -5.197400093078613, -5.237199783325195, -5.268400192260742, -5.334700107574463, -5.33519983291626, -5.382699966430664, -5.382699966430664, -5.382699966430664, -3.3348000049591064, -2.7909998893737793, -4.626100063323975, -4.817599773406982, -4.48199987411499, -4.348700046539307, -4.457499980926514, -3.632499933242798, -3.8441998958587646, -4.279799938201904, -4.586699962615967, -3.184499979019165, -3.360599994659424, -3.393399953842163, -3.4414000511169434, -3.4848999977111816, -3.628200054168701, -3.779599905014038, -4.184999942779541, -4.185999870300293, -4.27370023727417, -2.6061999797821045, -4.332200050354004, -4.4842000007629395, -4.4969000816345215, -4.590000152587891, -4.6529998779296875, -5.014500141143799, -5.158899784088135, -5.173999786376953, -5.173999786376953, -5.173999786376953, -5.183899879455566, -5.183899879455566, -5.2006001472473145, -5.25029993057251, -5.25029993057251, -5.250800132751465, -5.282700061798096, -5.296599864959717, -5.2982001304626465, -2.990499973297119, -2.8671000003814697, -4.1219000816345215, -4.998700141906738, -4.216400146484375, -4.2245001792907715, -5.158999919891357, -3.103600025177002, -3.136899948120117, -3.5648000240325928, -4.171599864959717, -4.1915998458862305, -4.225399971008301, -4.322700023651123, -4.350399971008301, -4.4868998527526855, -4.491700172424316, -4.56820011138916, -4.592599868774414, -4.609399795532227, -4.618199825286865, -4.630199909210205, -4.6407999992370605, -4.756899833679199, -4.879300117492676, -5.037700176239014, -5.048699855804443, -5.175899982452393, -3.2695000171661377, -5.322299957275391, -1.861899971961975, -5.449900150299072, -5.4969000816345215, -3.4835000038146973, -5.515399932861328, -5.698800086975098, -5.69890022277832, -2.919300079345703, -3.114799976348877, -4.061600208282471, -3.2167999744415283, -2.440200090408325, -3.47379994392395, -3.4751999378204346, -3.698199987411499, -3.7467000484466553, -3.7692999839782715, -3.926800012588501, -3.9642999172210693, -3.9895999431610107, -4.087399959564209, -4.2067999839782715, -4.230299949645996, -4.245500087738037, -4.32390022277832, -4.38670015335083, -4.508399963378906, -4.52839994430542, -4.573400020599365, -4.585999965667725, -4.5920000076293945, -4.605899810791016, -4.686800003051758, -4.722599983215332, -4.722599983215332, -4.747600078582764, -4.754799842834473, -4.757699966430664, -4.791900157928467, -4.844399929046631, -4.853400230407715, -4.541399955749512, -4.792200088500977, -2.668100118637085, -3.180799961090088, -3.234100103378296, -3.3503000736236572, -3.52839994430542, -3.7190001010894775, -3.767899990081787, -3.774399995803833, -3.8452999591827393, -4.19950008392334, -4.248700141906738, -4.248799800872803, -4.264599800109863, -4.39739990234375, -4.516600131988525, -4.598100185394287, -4.598100185394287, -4.646999835968018, -4.646999835968018, -4.646999835968018, -4.646999835968018, -4.672100067138672, -4.792900085449219, -4.907899856567383, -4.951099872589111, -4.951099872589111, -4.951099872589111, -4.951099872589111, -5.035299777984619, -5.066500186920166, -3.289400100708008, -4.736999988555908, -4.6346001625061035, -2.7483999729156494, -3.1984000205993652, -3.3345999717712402, -3.433300018310547, -3.576900005340576, -3.5933001041412354, -3.6312999725341797, -3.679800033569336, -3.840100049972534, -3.8505001068115234, -3.876699924468994, -4.077300071716309, -4.268499851226807, -4.290800094604492, -4.3557000160217285, -4.493800163269043, -4.6118998527526855, -4.679599761962891, -4.679599761962891, -4.711599826812744, -4.839200019836426, -5.088099956512451, -5.221499919891357, -5.22160005569458, -5.22160005569458, -4.599999904632568, -5.4842000007629395, -5.4842000007629395, -5.4842000007629395, -5.4842000007629395], \"loglift\": [30.0, 29.0, 28.0, 27.0, 26.0, 25.0, 24.0, 23.0, 22.0, 21.0, 20.0, 19.0, 18.0, 17.0, 16.0, 15.0, 14.0, 13.0, 12.0, 11.0, 10.0, 9.0, 8.0, 7.0, 6.0, 5.0, 4.0, 3.0, 2.0, 1.0, 1.6458, 1.6415, 1.6196, 1.6053, 1.5951, 1.5908, 1.5855, 1.5846, 1.5818, 1.574, 1.5727, 1.5642, 1.5613, 1.5551, 1.5505, 1.5489, 1.5484, 1.5444, 1.5377, 1.5359, 1.5316, 1.5298, 1.5249, 1.5229, 1.5197, 1.5194, 1.5145, 1.5142, 1.5126, 1.5118, 1.4487, 1.2336, 1.0205, 0.7693, 1.0025, 0.8337, 2.2009, 2.1851, 2.1755, 2.1683, 2.1544, 2.1438, 2.1325, 2.1296, 2.1279, 2.1276, 2.1177, 2.1143, 2.1113, 2.1014, 2.0998, 2.0887, 2.0765, 2.0577, 2.0575, 2.0558, 2.0518, 2.0474, 2.0381, 2.0313, 2.0313, 2.0291, 2.0291, 2.0176, 2.0176, 2.0145, 1.8634, 1.879, 1.8062, 1.7216, 1.6547, 1.148, 1.0817, 0.3264, 2.2703, 2.2576, 2.2555, 2.252, 2.2458, 2.2406, 2.2267, 2.2251, 2.2178, 2.2039, 2.1946, 2.1938, 2.1894, 2.1884, 2.1792, 2.1696, 2.1651, 2.1403, 2.1284, 2.1276, 2.1213, 2.1059, 2.1049, 2.0761, 2.0661, 2.062, 2.0598, 2.0509, 2.0488, 2.0443, 1.5929, 1.4385, 1.085, 1.5045, 1.3627, 0.824, 0.7535, 2.4183, 2.4084, 2.4028, 2.3975, 2.3839, 2.3768, 2.3725, 2.3689, 2.3544, 2.333, 2.3308, 2.3302, 2.3261, 2.3164, 2.3125, 2.3096, 2.2996, 2.2969, 2.2918, 2.2908, 2.2756, 2.2668, 2.263, 2.2462, 2.2318, 2.1881, 2.1854, 2.179, 2.1682, 2.1682, 1.9797, 1.2488, 1.3641, 1.0155, 1.0588, -0.3789, -0.1206, 2.4619, 2.4539, 2.4532, 2.4348, 2.4279, 2.4238, 2.4149, 2.4107, 2.4086, 2.3998, 2.3983, 2.3925, 2.3868, 2.3799, 2.3782, 2.374, 2.3717, 2.3705, 2.3686, 2.3681, 2.3667, 2.3559, 2.3424, 2.3296, 2.3296, 2.3085, 2.3079, 2.3079, 2.3079, 2.3007, 1.2187, 0.7476, 1.4075, 1.5097, 0.2901, 2.5139, 2.4924, 2.492, 2.4519, 2.4498, 2.4428, 2.4419, 2.4381, 2.4377, 2.4358, 2.4242, 2.4139, 2.4038, 2.3851, 2.3822, 2.3799, 2.3159, 2.3158, 2.3111, 2.311, 2.2867, 2.2744, 2.2744, 2.261, 2.2433, 2.2339, 2.2253, 2.222, 2.1868, 2.1868, 1.9943, 1.8761, 1.7039, 1.3365, 1.8295, 0.4914, 2.6042, 2.6042, 2.5901, 2.5884, 2.5681, 2.5627, 2.5361, 2.5338, 2.5261, 2.5229, 2.5035, 2.4961, 2.4685, 2.4637, 2.4585, 2.4533, 2.437, 2.4222, 2.4214, 2.3975, 2.3748, 2.3271, 2.3271, 2.3162, 2.3074, 2.2881, 2.288, 2.2736, 2.2736, 2.2736, 2.1858, 1.8716, 1.9288, 1.9974, 1.5006, 1.2729, 1.3125, 0.2029, 0.1139, 0.7422, 0.2507, 2.64, 2.6305, 2.6286, 2.6257, 2.6229, 2.6129, 2.6008, 2.5588, 2.5587, 2.5474, 2.5414, 2.5395, 2.5167, 2.5147, 2.4991, 2.4878, 2.411, 2.3738, 2.3697, 2.3697, 2.3697, 2.367, 2.367, 2.3624, 2.3482, 2.3482, 2.3481, 2.3387, 2.3346, 2.3341, 2.1059, 1.9702, 2.0764, 1.7469, -0.2584, -0.3891, 1.84, 2.6488, 2.6473, 2.6224, 2.5651, 2.5626, 2.5584, 2.5453, 2.5414, 2.5207, 2.52, 2.5072, 2.503, 2.5001, 2.4985, 2.4963, 2.4944, 2.4722, 2.4465, 2.4093, 2.4066, 2.3731, 2.3521, 2.3305, 2.3282, 2.2898, 2.2738, 2.2707, 2.2674, 2.1997, 2.1996, 2.1028, 2.0986, 1.9828, 1.1099, 2.7382, 2.6919, 2.6918, 2.6744, 2.6701, 2.6681, 2.6525, 2.6484, 2.6456, 2.6342, 2.6188, 2.6155, 2.6134, 2.602, 2.5923, 2.5721, 2.5685, 2.5604, 2.558, 2.5569, 2.5543, 2.5384, 2.531, 2.531, 2.5258, 2.5242, 2.5236, 2.5162, 2.5044, 2.5023, 0.6062, 2.0405, 2.8124, 2.7889, 2.7858, 2.7783, 2.7652, 2.7486, 2.7438, 2.7432, 2.7359, 2.6916, 2.6843, 2.6843, 2.6819, 2.6603, 2.6389, 2.6229, 2.6229, 2.6129, 2.6129, 2.6129, 2.6129, 2.6076, 2.5804, 2.5522, 2.541, 2.541, 2.541, 2.541, 2.518, 2.5091, 2.1604, 1.8179, -0.3079, 3.5761, 3.5298, 3.5117, 3.4973, 3.4739, 3.4711, 3.4643, 3.4554, 3.4233, 3.4211, 3.4154, 3.3678, 3.3153, 3.3087, 3.2889, 3.2436, 3.2016, 3.176, 3.176, 3.1635, 3.1114, 2.9982, 2.9312, 2.9311, 2.9311, 2.8213, 2.7862, 2.7862, 2.7862, 2.7862]}, \"token.table\": {\"Topic\": [8, 4, 4, 3, 7, 4, 7, 3, 8, 11, 11, 5, 2, 5, 2, 5, 6, 11, 9, 12, 10, 6, 5, 2, 3, 8, 2, 12, 3, 11, 6, 9, 11, 8, 7, 11, 7, 2, 10, 10, 2, 9, 6, 3, 5, 12, 6, 4, 9, 9, 4, 11, 6, 7, 5, 12, 11, 9, 1, 8, 5, 6, 4, 7, 8, 3, 3, 9, 5, 5, 11, 11, 5, 5, 3, 8, 10, 11, 11, 4, 9, 7, 1, 10, 10, 12, 8, 3, 10, 9, 4, 2, 2, 2, 3, 6, 7, 11, 8, 12, 1, 12, 12, 3, 3, 3, 9, 7, 9, 6, 3, 9, 5, 10, 10, 1, 6, 6, 3, 7, 2, 12, 8, 10, 8, 2, 10, 12, 1, 7, 8, 2, 5, 12, 10, 10, 7, 9, 3, 9, 1, 8, 1, 4, 2, 1, 5, 3, 3, 2, 6, 7, 9, 12, 5, 1, 12, 7, 10, 4, 5, 9, 4, 8, 1, 9, 12, 5, 3, 6, 6, 8, 2, 3, 1, 1, 8, 2, 11, 8, 11, 6, 6, 10, 7, 10, 10, 10, 7, 9, 3, 6, 5, 1, 1, 10, 9, 8, 3, 5, 5, 5, 8, 11, 11, 3, 8, 2, 6, 3, 3, 4, 11, 8, 2, 4, 10, 12, 2, 1, 12, 7, 7, 12, 1, 7, 4, 1, 6, 10, 12, 3, 2, 8, 9, 7, 11, 6, 4, 3, 11, 10, 4, 8, 1, 7, 8, 1, 7, 6, 8, 4, 2, 1, 4, 11, 8, 2, 1, 6, 7, 2, 7, 10, 1, 4, 7, 8, 3, 10, 1, 6, 4, 2, 4, 7, 1, 11, 1, 1, 8, 6, 9, 8, 2, 3, 9, 2, 11, 7, 6, 9, 4, 7, 9, 4, 7, 1, 2, 9, 3, 4, 5, 9, 11, 3, 2, 1, 4, 12, 10, 12, 1, 2, 4, 8, 6, 9, 10, 11, 6, 3, 4, 10, 1, 9, 7, 8, 1, 12, 9, 10, 6, 2, 4, 7, 3, 8, 12, 5, 6, 5, 7, 5, 3, 6, 12, 2, 6, 5, 11, 12, 11, 4, 1, 5, 2, 12, 9, 8, 2, 4, 10, 3, 2, 8, 12, 2, 1, 8, 5, 7, 11, 11, 2, 12, 4, 3, 12, 5, 2, 4, 6, 10, 5, 11, 5, 5, 5, 4, 4, 4, 10, 12, 6, 9, 2, 2, 5, 11, 7, 6, 7, 11, 7, 1, 7, 7, 4, 3, 5, 6, 1, 5, 10, 3, 9, 6, 10, 1, 7, 8, 4, 7, 8, 4, 12, 9, 5, 11, 9, 4, 7], \"Freq\": [0.8118800210993431, 0.9822193599528002, 0.7931573222369551, 0.9649084026378718, 0.8598539422591971, 0.8705635244084438, 0.9015308004634244, 0.841173905853732, 0.7599372146662516, 0.6479550269761902, 0.8676854046041741, 0.8460854156968247, 0.9156025639598311, 0.9089519479164174, 0.7112054119117924, 0.2709353950140162, 0.885765665953342, 0.8803267831972651, 0.7032389441770225, 0.7062901396377377, 0.9741649726569412, 0.8806693518346813, 0.7546013492783455, 0.9552742458341066, 0.9041087122039969, 0.8115420470669166, 0.33986775346784187, 0.33986775346784187, 0.95593989553724, 0.7295969952750082, 0.7995946826532475, 0.5477676827617743, 0.8000596859429451, 0.7702966614297375, 0.4287442597224999, 0.2858295064816666, 0.7536652329731846, 0.9338779450864634, 0.776473250562146, 0.8713777122295495, 0.718153128809081, 0.8413455326407135, 0.8899288147458942, 0.9747929742038227, 0.9436085257244311, 0.7062585785669078, 0.9099593273954601, 0.9442283951205298, 0.7659440582168837, 0.7215127309280867, 0.95748418887846, 0.834374445988035, 0.9330445566243801, 0.9842223842146769, 0.8903588322743468, 0.7362169566782153, 0.8802288206296841, 0.46730191544459226, 0.8931587452236283, 0.9601381141030142, 0.39476358206050194, 0.5921453730907529, 0.6399904354991138, 0.8574320968306063, 0.9138493026341996, 0.9689589181058587, 0.42888727369577606, 0.5146647284349313, 0.9464521174146932, 0.8983718184917474, 0.7816299774168558, 0.7756715358891498, 0.8571559327217015, 0.9625378025459709, 0.40015421962874526, 0.5001927745359316, 0.9696388010594708, 0.7066536083091582, 0.88499107949732, 0.9370349830281737, 0.8570204088096143, 0.7536652329731846, 0.8493064832119613, 0.8736003413285294, 0.9684030055203087, 0.7945250186763474, 0.7683103331770536, 0.7205001584855488, 0.9558567845054661, 0.9607884774935199, 0.7684675281509268, 0.9157950547124022, 0.925181645624346, 0.9159994530040071, 0.9186723253728387, 0.9415630999695664, 0.8318548918074422, 0.9206732682409513, 0.773848231241337, 0.7135633797364586, 0.891116860051745, 0.6608781228652983, 0.9386127918013335, 0.8133891278323321, 0.8347478274530428, 0.4110314979872976, 0.5604974972554058, 0.8257226334511288, 0.8006704340380925, 0.9363121949272027, 0.7172406840422454, 0.7519101865325224, 0.9051466325354939, 0.8441496187281043, 0.9085271718316875, 0.7998049542859856, 0.8797902747063635, 0.8866190186647169, 0.9254848809434604, 0.8885508151629289, 0.8321260225157942, 0.5350845475260076, 0.8746338874053051, 0.10495606648863662, 0.8303676523918333, 0.906378255643661, 0.8622888496719112, 0.8778966601923406, 0.5169499416667303, 0.45233119895838897, 0.7683210585766682, 0.8241686471393537, 0.8793741540028177, 0.5031081727307917, 0.8794221979114105, 0.8284309855903275, 0.28099706480100084, 0.7305923684826022, 0.2954560037798423, 0.6983505543887182, 0.8863762024002668, 0.773848231241337, 0.9608436643961141, 0.6537398703186472, 0.757772194387908, 0.8776322664966595, 0.11701763553288794, 0.8504731317119754, 0.9107147701365441, 0.15428712078294732, 0.12342969662635786, 0.15428712078294732, 0.5554336348186104, 0.7945250186763474, 0.8867597379881633, 0.9263372706612174, 0.8707470712588768, 0.9149727409399708, 0.8380616526848506, 0.8828372956628383, 0.8288724670755059, 0.7593002325094924, 0.6340867684244619, 0.8929757961356631, 0.9355207228745608, 0.9267282152044103, 0.46626096044151477, 0.8654645874640631, 0.2357724734872417, 0.7662605388335355, 0.5187840084883507, 0.3458560056589005, 0.8414950274832236, 0.8195012667535194, 0.8753013180172285, 0.9254968995043904, 0.9024993395361713, 0.9361762505325341, 0.8346301911854018, 0.7832096853265647, 0.9580893974184431, 0.8054154025913979, 0.9286910601239785, 0.8786369524801393, 0.831537967353423, 0.8864482901223709, 0.7853298985924574, 0.7747317062516172, 0.9462262595745567, 0.7818409457692534, 0.9560210177610929, 0.927864212666009, 0.7546013492783455, 0.8834244907743611, 0.7920747894806613, 0.9366783552913663, 0.4879149601701815, 0.8115420470669166, 0.8176053822183311, 0.18867816512730717, 0.8832723174358412, 0.9015255232016706, 0.9397211795761994, 0.7295969952750082, 0.9330875673353305, 0.4456175927138916, 0.4456175927138916, 0.9859544838568179, 0.9095353357650875, 0.8545740611768239, 0.23665474806348052, 0.23665474806348052, 0.5206404457396572, 0.8394649311789371, 0.6394624185276756, 0.3197312092638378, 0.7372078286028219, 0.5247250097199156, 0.851217038090308, 0.803477527248704, 0.5247250097199156, 0.9075353060418878, 0.9439529123879715, 0.5770246547794396, 0.8971371244941563, 0.8597995637655762, 0.7979832761055085, 0.9385500606681817, 0.7891028169858259, 0.6366093053028095, 0.6961213042637487, 0.9785843141170316, 0.9660104217803571, 0.7846598701492745, 0.8721579416185489, 0.910819877771202, 0.8676854046041741, 0.7996539162351431, 0.9617396856864877, 0.929682321007073, 0.9636884332070869, 0.7251519371879728, 0.6768914445288319, 0.7683145179923079, 0.41043541700330016, 0.10260885425082504, 0.4873920576914189, 0.8084093388398242, 0.8598130508176778, 0.6465741338013019, 0.9325284045450675, 0.9122858790086668, 0.7181354764914363, 0.9334150808532637, 0.9137233134449502, 0.8676854046041741, 0.9226115199159444, 0.9535375010083681, 0.4952463433638528, 0.42449686574044526, 0.7757377546663904, 0.8233604059163887, 0.5560951160001351, 0.3707300773334234, 0.8005683079629681, 0.05651070409150363, 0.08476605613725545, 0.04709225340958636, 0.884356001205165, 0.9105172724923248, 0.46486857886696314, 0.5312783758479579, 0.9618425756443146, 0.586743615823031, 0.1303874701828958, 0.2607749403657916, 0.8834607763647004, 0.9451265069124949, 0.7908897841005408, 0.9213053715857742, 0.8631347833970767, 0.8051209466298284, 0.9256571623344626, 0.8638674540856327, 0.9302283100024239, 0.9749610522547157, 0.890416508081281, 0.888101327620447, 0.9552201302544504, 0.9553020657650516, 0.3208451588385973, 0.6416903176771946, 0.9121000957010778, 0.9797724928995364, 0.7723657092622017, 0.6450783719975541, 0.32253918599877707, 0.6509289956084527, 0.3471621309911748, 0.7464717702740374, 0.4926318191439044, 0.07697372174123507, 0.16934218783071714, 0.20013167652721117, 0.04618423304474104, 0.913884782067267, 0.9473101983368581, 0.9282383051975951, 0.9629750955869959, 0.8123313559596065, 0.9292117145233846, 0.7997054537943583, 0.9409677447736208, 0.33240093280269767, 0.0997202798408093, 0.5650815857645861, 0.6841716911122682, 0.6974731861347403, 0.8622903391989537, 0.8343453756714077, 0.7216216298234246, 0.9036761714675057, 0.9058180750344127, 0.9527874405912791, 0.8605583894956372, 0.9025924913166017, 0.8282028033340482, 0.9637001260738834, 0.9375674346262414, 0.7945250186763474, 0.48203660345827637, 0.8844770923670359, 0.9879456987070075, 0.7382280668942454, 0.22714709750592163, 0.7933293817241563, 0.9263984151635294, 0.9651632787793311, 0.8960728834631481, 0.8395731718455862, 0.9549803812981655, 0.35559651311129464, 0.6095940224765051, 0.9051466325354939, 0.8531673208605045, 0.9815666194526463, 0.8322500265823793, 0.9473225357350309, 0.7284709382271382, 0.9100079704954324, 0.9760601314243733, 0.7659478929599938, 0.8456294953336704, 0.9018824556507591, 0.7675389870128925, 0.8533239413989956, 0.757772194387908, 0.9080475490292796, 0.8568391297101987, 0.8385023072908884, 0.9272258999785171, 0.8650948763419601, 0.8894574735685608, 0.9195882802139683, 0.9566792629551967, 0.6826121861769187, 0.7062901396377377, 0.9676818884769938, 0.8456914172112858, 0.9759095887097637, 0.9006862863535854, 0.9348404512721665, 0.8676854046041741, 0.7295969952750082, 0.7685511492149052, 0.7650790562186558, 0.9680987077758261, 0.7937571966840592, 0.8497965180951161, 0.8450435261131719, 0.6344883041471963, 0.31724415207359813, 0.9548661850171883, 0.7648409011860917, 0.7523273562799618, 0.9167215112736752, 0.780049043642704, 0.9239306222995383, 0.9362656382403951, 0.756143305056698, 0.9298980709909221, 0.8408011970527474, 0.7727180490260808, 0.8497927171533428, 0.926583075375066, 0.5477407909266429, 0.8408805153911604, 0.8719161545297806, 0.9653577905458645, 0.8346301911854018, 0.9385671237457557, 0.9521029596553069, 0.7755374081917952, 0.7295969952750082, 0.8925068900812415, 0.9653603029436678, 0.6541763039779138, 0.9802013991964081, 0.805350071542982, 0.8741422199570152, 0.7546013492783455, 0.926583075375066, 0.9727707119450474, 0.37734164231443706, 0.5660124634716557, 0.8988745252422917, 0.736240355327313, 0.7890637983012457, 0.6322292717594749, 0.8624368848404756, 0.07453158264053493, 0.05323684474323923, 0.6768914445288319, 0.7193208140487745, 0.7314066315132327, 0.8854219120061252, 0.7945250186763474, 0.8989544357742133, 0.7792183827360998, 0.7931564087335258, 0.8983253214451365, 0.9821338118513462, 0.8403457893748094], \"Term\": [\"accreditation\", \"act\", \"activity\", \"additional\", \"adjacent\", \"administer\", \"administrative\", \"administrator\", \"age\", \"agency\", \"agent\", \"agricultural\", \"allowance\", \"amend\", \"amount\", \"amount\", \"annual\", \"appropriation\", \"araw\", \"arcade\", \"area\", \"article\", \"assessment\", \"assistance\", \"assistant\", \"auction\", \"augment\", \"augment\", \"authorize\", \"available\", \"baby\", \"baggage\", \"balance\", \"bar\", \"barangay\", \"barangay\", \"barangays\", \"benefit\", \"bonifacio\", \"bound\", \"budget\", \"burial_assistance\", \"bus\", \"business\", \"cable\", \"card\", \"cargo\", \"case\", \"celebration\", \"center\", \"certain\", \"certification\", \"chapter\", \"charge\", \"child\", \"civil\", \"clearance\", \"clep\", \"clock\", \"close\", \"code\", \"code\", \"collect\", \"collection\", \"commercial\", \"compensation\", \"composition\", \"composition\", \"comprehensive\", \"condition\", \"conduct\", \"conservation\", \"construct\", \"construction\", \"continue_reade\", \"continue_reade\", \"continue_reading\", \"contract\", \"contractor\", \"control\", \"cooperative\", \"coordinator\", \"corn\", \"corner\", \"cover\", \"crash\", \"creek\", \"cultural\", \"date\", \"davao\", \"day\", \"dead\", \"death\", \"declare\", \"department\", \"designate\", \"desk\", \"development\", \"diesel\", \"disposal\", \"document\", \"domestic\", \"driver\", \"drug\", \"dutie\", \"duty\", \"duty\", \"economic\", \"education\", \"educational\", \"effective\", \"electrician\", \"elementary\", \"embrace\", \"employee\", \"employment\", \"enact\", \"engage\", \"enter\", \"enterprise\", \"entitle\", \"establish\", \"establishment\", \"establishment\", \"exemption\", \"expense\", \"extension\", \"facility\", \"fee\", \"fee\", \"finance\", \"financial\", \"food\", \"foreign\", \"forest\", \"former\", \"function\", \"function\", \"fund\", \"fund\", \"garbage\", \"generator\", \"gold\", \"good\", \"govern\", \"government\", \"government\", \"grade\", \"grant\", \"guideline\", \"guideline\", \"guideline\", \"guideline\", \"helmet\", \"high\", \"highly\", \"highway\", \"hire\", \"home\", \"honor\", \"honorable\", \"honorarium\", \"hospital\", \"hour\", \"house\", \"human\", \"identification\", \"identify\", \"implementation\", \"implementation\", \"incentive\", \"incentive\", \"increase\", \"indigenous\", \"industrial\", \"inspection\", \"install\", \"installation\", \"integrate\", \"investment\", \"issuance\", \"item\", \"jeepney\", \"know\", \"laboratory\", \"land\", \"lapu\", \"late\", \"law\", \"legal\", \"legislative\", \"letter\", \"level\", \"license\", \"limit\", \"line\", \"literacy\", \"livestock\", \"local\", \"local\", \"locate\", \"location\", \"lot\", \"make\", \"management\", \"mandatory\", \"mandatory\", \"market\", \"material\", \"may\", \"mayor\", \"mayor\", \"mayor\", \"mechanic\", \"medical\", \"medical\", \"memory\", \"mercury\", \"meter\", \"mill\", \"monitor\", \"month\", \"monthly\", \"motorcycle\", \"motorize\", \"motorolla\", \"movie\", \"moviehouse\", \"mun_ord\", \"name\", \"national\", \"necessary\", \"new\", \"night\", \"non\", \"number\", \"oath\", \"occupational\", \"office\", \"officer\", \"official\", \"officially\", \"omission\", \"open\", \"operation\", \"operation\", \"operation\", \"operator\", \"ord\", \"ordinance\", \"organization\", \"otherwise_known\", \"overtime\", \"own\", \"owner\", \"paper\", \"park\", \"part\", \"passenger\", \"passenger\", \"pattern\", \"pay\", \"payment\", \"payment\", \"penalty\", \"penalty\", \"penalty\", \"penalty\", \"people\", \"period\", \"permit\", \"permit\", \"person\", \"peso\", \"peso\", \"peso\", \"place\", \"plan\", \"plant\", \"poblacion\", \"point\", \"police\", \"policy\", \"poor\", \"portion\", \"position\", \"power\", \"premise\", \"private\", \"procedure\", \"program\", \"program\", \"property\", \"provide\", \"provincial\", \"provision\", \"provision\", \"public\", \"public\", \"purok\", \"purpose\", \"purpose\", \"purpose\", \"purpose\", \"purpose\", \"qualification\", \"qualify\", \"rate\", \"real\", \"recruitment\", \"register\", \"registration\", \"regulate\", \"regulation\", \"regulation\", \"regulation\", \"regulatory\", \"religious\", \"relocation\", \"render\", \"repeal\", \"representative\", \"republic_act\", \"residential\", \"resolution\", \"respective\", \"respectively\", \"revise\", \"rice\", \"rider\", \"right\", \"rizal\", \"road\", \"rule\", \"rule\", \"rural\", \"salary\", \"sale\", \"say\", \"schedule\", \"scholarship\", \"school\", \"school\", \"secondary\", \"secretary\", \"section\", \"secure\", \"separation\", \"sergeant\", \"series\", \"service\", \"set\", \"shall\", \"show\", \"similar\", \"site\", \"sitio\", \"situate\", \"social\", \"society\", \"space\", \"special\", \"square_meter\", \"staff\", \"stall\", \"standard\", \"stock\", \"street\", \"structure\", \"student\", \"subject\", \"submit\", \"subscribe\", \"subsequent\", \"subsistence\", \"supply\", \"support\", \"swear\", \"system\", \"table\", \"take\", \"take\", \"tax\", \"tct\", \"teacher\", \"temporary\", \"term\", \"terminal\", \"territorial_jurisdiction\", \"theater\", \"thereafter\", \"therefore\", \"therein\", \"thereon\", \"toll\", \"tourism\", \"town\", \"trade\", \"traffic\", \"transport\", \"tricycle\", \"truck\", \"tuition\", \"unappropriated\", \"unit\", \"use\", \"usual\", \"utility\", \"utilize\", \"vacant\", \"value\", \"van\", \"vehicle\", \"vehicular\", \"vehicular\", \"vendor\", \"veteran\", \"video\", \"village\", \"violation\", \"violation\", \"violation\", \"violative\", \"waste\", \"water\", \"way\", \"wear\", \"week\", \"welfare\", \"work\", \"worker\", \"year\", \"zone\"]}, \"R\": 30, \"lambda.step\": 0.01, \"plot.opts\": {\"xlab\": \"PC1\", \"ylab\": \"PC2\"}, \"topic.order\": [6, 4, 12, 10, 7, 1, 8, 5, 11, 9, 2, 3]};\n",
       "\n",
       "function LDAvis_load_lib(url, callback){\n",
       "  var s = document.createElement('script');\n",
       "  s.src = url;\n",
       "  s.async = true;\n",
       "  s.onreadystatechange = s.onload = callback;\n",
       "  s.onerror = function(){console.warn(\"failed to load library \" + url);};\n",
       "  document.getElementsByTagName(\"head\")[0].appendChild(s);\n",
       "}\n",
       "\n",
       "if(typeof(LDAvis) !== \"undefined\"){\n",
       "   // already loaded: just create the visualization\n",
       "   !function(LDAvis){\n",
       "       new LDAvis(\"#\" + \"ldavis_el3398140194978869872376051110\", ldavis_el3398140194978869872376051110_data);\n",
       "   }(LDAvis);\n",
       "}else if(typeof define === \"function\" && define.amd){\n",
       "   // require.js is available: use it to load d3/LDAvis\n",
       "   require.config({paths: {d3: \"https://cdnjs.cloudflare.com/ajax/libs/d3/3.5.5/d3.min\"}});\n",
       "   require([\"d3\"], function(d3){\n",
       "      window.d3 = d3;\n",
       "      LDAvis_load_lib(\"https://cdn.rawgit.com/bmabey/pyLDAvis/files/ldavis.v1.0.0.js\", function(){\n",
       "        new LDAvis(\"#\" + \"ldavis_el3398140194978869872376051110\", ldavis_el3398140194978869872376051110_data);\n",
       "      });\n",
       "    });\n",
       "}else{\n",
       "    // require.js not available: dynamically load d3 & LDAvis\n",
       "    LDAvis_load_lib(\"https://cdnjs.cloudflare.com/ajax/libs/d3/3.5.5/d3.min.js\", function(){\n",
       "         LDAvis_load_lib(\"https://cdn.rawgit.com/bmabey/pyLDAvis/files/ldavis.v1.0.0.js\", function(){\n",
       "                 new LDAvis(\"#\" + \"ldavis_el3398140194978869872376051110\", ldavis_el3398140194978869872376051110_data);\n",
       "            })\n",
       "         });\n",
       "}\n",
       "</script>"
      ],
      "text/plain": [
       "PreparedData(topic_coordinates=              x         y  topics  cluster       Freq\n",
       "topic                                                \n",
       "5     -0.284675  0.159838       1        1  18.848747\n",
       "3     -0.056880 -0.249604       2        1  10.892918\n",
       "11     0.219499  0.144491       3        1  10.096332\n",
       "9     -0.000171 -0.110515       4        1   8.681574\n",
       "6      0.070955 -0.024482       5        1   8.159309\n",
       "0      0.031208  0.011294       6        1   8.004566\n",
       "7     -0.131118  0.083447       7        1   7.123108\n",
       "4     -0.098959  0.012046       8        1   6.785592\n",
       "10     0.154377  0.111017       9        1   6.750102\n",
       "8      0.023039 -0.072572      10        1   6.299216\n",
       "1      0.065596 -0.032761      11        1   5.793639\n",
       "2      0.007130 -0.032200      12        1   2.564896, topic_info=          Term        Freq       Total Category  logprob  loglift\n",
       "31     section   64.000000   64.000000  Default  30.0000  30.0000\n",
       "23        fund   74.000000   74.000000  Default  29.0000  29.0000\n",
       "22   violation   93.000000   93.000000  Default  28.0000  28.0000\n",
       "16     penalty  106.000000  106.000000  Default  27.0000  27.0000\n",
       "365     market   44.000000   44.000000  Default  26.0000  26.0000\n",
       "..         ...         ...         ...      ...      ...      ...\n",
       "863    augment    1.267717    2.942321  Topic12  -4.6000   2.8213\n",
       "541       wear    0.523613    1.258614  Topic12  -5.4842   2.7862\n",
       "539      rider    0.523613    1.258614  Topic12  -5.4842   2.7862\n",
       "536     helmet    0.523613    1.258614  Topic12  -5.4842   2.7862\n",
       "534      crash    0.523613    1.258614  Topic12  -5.4842   2.7862\n",
       "\n",
       "[456 rows x 6 columns], token_table=      Topic      Freq           Term\n",
       "term                                \n",
       "283       8  0.811880  accreditation\n",
       "80        4  0.982219            act\n",
       "38        4  0.793157       activity\n",
       "352       3  0.964908     additional\n",
       "1138      7  0.859854       adjacent\n",
       "...     ...       ...            ...\n",
       "108       5  0.779218        welfare\n",
       "919      11  0.793156           work\n",
       "77        9  0.898325         worker\n",
       "55        4  0.982134           year\n",
       "79        7  0.840346           zone\n",
       "\n",
       "[433 rows x 3 columns], R=30, lambda_step=0.01, plot_opts={'xlab': 'PC1', 'ylab': 'PC2'}, topic_order=[6, 4, 12, 10, 7, 1, 8, 5, 11, 9, 2, 3])"
      ]
     },
     "execution_count": 67,
     "metadata": {},
     "output_type": "execute_result"
    }
   ],
   "source": [
    "# Visualize the topics\n",
    "pyLDAvis.enable_notebook()\n",
    "vis = pyLDAvis.gensim.prepare(lda_model, corpus, id2word)\n",
    "vis"
   ]
  },
  {
   "cell_type": "code",
   "execution_count": null,
   "metadata": {},
   "outputs": [],
   "source": []
  },
  {
   "cell_type": "code",
   "execution_count": null,
   "metadata": {},
   "outputs": [],
   "source": []
  },
  {
   "cell_type": "code",
   "execution_count": null,
   "metadata": {},
   "outputs": [],
   "source": []
  },
  {
   "cell_type": "code",
   "execution_count": null,
   "metadata": {},
   "outputs": [],
   "source": []
  },
  {
   "cell_type": "code",
   "execution_count": null,
   "metadata": {},
   "outputs": [],
   "source": []
  },
  {
   "cell_type": "code",
   "execution_count": null,
   "metadata": {},
   "outputs": [],
   "source": []
  },
  {
   "cell_type": "code",
   "execution_count": null,
   "metadata": {},
   "outputs": [],
   "source": []
  },
  {
   "cell_type": "code",
   "execution_count": null,
   "metadata": {},
   "outputs": [],
   "source": []
  },
  {
   "cell_type": "code",
   "execution_count": null,
   "metadata": {},
   "outputs": [],
   "source": []
  },
  {
   "cell_type": "code",
   "execution_count": null,
   "metadata": {},
   "outputs": [],
   "source": []
  }
 ],
 "metadata": {
  "kernelspec": {
   "display_name": "Python 3",
   "language": "python",
   "name": "python3"
  },
  "language_info": {
   "codemirror_mode": {
    "name": "ipython",
    "version": 3
   },
   "file_extension": ".py",
   "mimetype": "text/x-python",
   "name": "python",
   "nbconvert_exporter": "python",
   "pygments_lexer": "ipython3",
   "version": "3.9.0"
  }
 },
 "nbformat": 4,
 "nbformat_minor": 4
}
