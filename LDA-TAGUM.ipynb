{
 "cells": [
  {
   "cell_type": "code",
   "execution_count": 1,
   "metadata": {},
   "outputs": [],
   "source": [
    "import re\n",
    "import numpy as np\n",
    "import pandas as pd"
   ]
  },
  {
   "cell_type": "code",
   "execution_count": 2,
   "metadata": {},
   "outputs": [],
   "source": [
    "#Gensim\n",
    "import gensim\n",
    "import gensim.corpora as corpora\n",
    "from gensim.utils import simple_preprocess\n",
    "from gensim.models import CoherenceModel"
   ]
  },
  {
   "cell_type": "code",
   "execution_count": 3,
   "metadata": {},
   "outputs": [],
   "source": [
    "#spacy for lemmatization\n",
    "import spacy\n",
    "from pprint import pprint"
   ]
  },
  {
   "cell_type": "code",
   "execution_count": 4,
   "metadata": {},
   "outputs": [],
   "source": [
    "# Plotting tools\n",
    "import pyLDAvis\n",
    "import pyLDAvis.gensim\n",
    "import matplotlib.pyplot as plt\n",
    "%matplotlib inline"
   ]
  },
  {
   "cell_type": "code",
   "execution_count": 5,
   "metadata": {},
   "outputs": [
    {
     "name": "stderr",
     "output_type": "stream",
     "text": [
      "/Users/root1/Documents/lda/myvenv/lib/python3.9/site-packages/ipykernel/ipkernel.py:287: DeprecationWarning: `should_run_async` will not call `transform_cell` automatically in the future. Please pass the result to `transformed_cell` argument and any exception that happen during thetransform in `preprocessing_exc_tuple` in IPython 7.17 and above.\n",
      "  and should_run_async(code)\n"
     ]
    }
   ],
   "source": [
    "import warnings\n",
    "warnings.filterwarnings(\"ignore\", category=DeprecationWarning)"
   ]
  },
  {
   "cell_type": "code",
   "execution_count": 6,
   "metadata": {},
   "outputs": [],
   "source": [
    "# NLTK for stopwords\n",
    "from nltk.corpus import stopwords\n",
    "stop_words = stopwords.words('english')\n",
    "stop_words.extend(['tagum', 'city', 'ordinance', 'municipal', 'municipality', 'thereof'])"
   ]
  },
  {
   "cell_type": "code",
   "execution_count": 7,
   "metadata": {},
   "outputs": [
    {
     "name": "stdout",
     "output_type": "stream",
     "text": [
      "                                     OR  \\\n",
      "0        CITY ORDINANCE No. 842, s-2018   \n",
      "1        CITY ORDINANCE NO. 825, s-2017   \n",
      "2        CITY ORDINANCE NO. 837, s-2018   \n",
      "3        CITY ORDINANCE NO. 844, s-2018   \n",
      "4        CITY ORDINANCE NO. 838, s-2018   \n",
      "..                                  ...   \n",
      "670  MUNICIPAL ORDINANCE NO. 05, s-1974   \n",
      "671  MUNICIPAL ORDINANCE NO. 04, s-1974   \n",
      "672  MUNICIPAL ORDINANCE NO. 01, s-1974   \n",
      "673    MUNICIPAL ORDINANCE NO. 03, 1973   \n",
      "674  MUNICIPAL ORDINANCE NO. 02, S-1973   \n",
      "\n",
      "                                                    OT  \n",
      "0    “AN ORDINANCE REGULATING THE PRACTICE OF TRADI...  \n",
      "1    “AN ORDINANCE RECONSTITUTING THE MEMBERS OF TH...  \n",
      "2    “AN ORDINANCE ESTABLISHING FUNERAL AND BURIAL ...  \n",
      "3    AN ORDINANCE AMENDING THE TITLE, SECTION 1, SE...  \n",
      "4    “AN ORDINANCE CREATING THE CITY HISTORICAL, CU...  \n",
      "..                                                 ...  \n",
      "670  “AN ORDINANCE AMENDING SECTION 10 OF MUNICIPAL...  \n",
      "671  “AN ORDINANCE REGULATING THE ELECTRICAL INSTAL...  \n",
      "672  “AN ORDINANCE PROHIBITING THE EMPLOYMENT OF “H...  \n",
      "673  “AN ORDINANCE REGULATING THE ESTABLISHMENT, OP...  \n",
      "674  “AN ORDINANCE PROHIBITING THE USE OF MUNICIPAL...  \n",
      "\n",
      "[675 rows x 2 columns]\n"
     ]
    },
    {
     "data": {
      "text/html": [
       "<div>\n",
       "<style scoped>\n",
       "    .dataframe tbody tr th:only-of-type {\n",
       "        vertical-align: middle;\n",
       "    }\n",
       "\n",
       "    .dataframe tbody tr th {\n",
       "        vertical-align: top;\n",
       "    }\n",
       "\n",
       "    .dataframe thead th {\n",
       "        text-align: right;\n",
       "    }\n",
       "</style>\n",
       "<table border=\"1\" class=\"dataframe\">\n",
       "  <thead>\n",
       "    <tr style=\"text-align: right;\">\n",
       "      <th></th>\n",
       "      <th>OR</th>\n",
       "      <th>OT</th>\n",
       "    </tr>\n",
       "  </thead>\n",
       "  <tbody>\n",
       "    <tr>\n",
       "      <th>0</th>\n",
       "      <td>CITY ORDINANCE No. 842, s-2018</td>\n",
       "      <td>“AN ORDINANCE REGULATING THE PRACTICE OF TRADI...</td>\n",
       "    </tr>\n",
       "    <tr>\n",
       "      <th>1</th>\n",
       "      <td>CITY ORDINANCE NO. 825, s-2017</td>\n",
       "      <td>“AN ORDINANCE RECONSTITUTING THE MEMBERS OF TH...</td>\n",
       "    </tr>\n",
       "    <tr>\n",
       "      <th>2</th>\n",
       "      <td>CITY ORDINANCE NO. 837, s-2018</td>\n",
       "      <td>“AN ORDINANCE ESTABLISHING FUNERAL AND BURIAL ...</td>\n",
       "    </tr>\n",
       "    <tr>\n",
       "      <th>3</th>\n",
       "      <td>CITY ORDINANCE NO. 844, s-2018</td>\n",
       "      <td>AN ORDINANCE AMENDING THE TITLE, SECTION 1, SE...</td>\n",
       "    </tr>\n",
       "    <tr>\n",
       "      <th>4</th>\n",
       "      <td>CITY ORDINANCE NO. 838, s-2018</td>\n",
       "      <td>“AN ORDINANCE CREATING THE CITY HISTORICAL, CU...</td>\n",
       "    </tr>\n",
       "  </tbody>\n",
       "</table>\n",
       "</div>"
      ],
      "text/plain": [
       "                               OR  \\\n",
       "0  CITY ORDINANCE No. 842, s-2018   \n",
       "1  CITY ORDINANCE NO. 825, s-2017   \n",
       "2  CITY ORDINANCE NO. 837, s-2018   \n",
       "3  CITY ORDINANCE NO. 844, s-2018   \n",
       "4  CITY ORDINANCE NO. 838, s-2018   \n",
       "\n",
       "                                                  OT  \n",
       "0  “AN ORDINANCE REGULATING THE PRACTICE OF TRADI...  \n",
       "1  “AN ORDINANCE RECONSTITUTING THE MEMBERS OF TH...  \n",
       "2  “AN ORDINANCE ESTABLISHING FUNERAL AND BURIAL ...  \n",
       "3  AN ORDINANCE AMENDING THE TITLE, SECTION 1, SE...  \n",
       "4  “AN ORDINANCE CREATING THE CITY HISTORICAL, CU...  "
      ]
     },
     "execution_count": 7,
     "metadata": {},
     "output_type": "execute_result"
    }
   ],
   "source": [
    "# Import Dataset\n",
    "df = pd.read_csv('tagum_ordinances.csv', header = 0)\n",
    "print(df)\n",
    "df.head()"
   ]
  },
  {
   "cell_type": "code",
   "execution_count": 8,
   "metadata": {},
   "outputs": [
    {
     "name": "stdout",
     "output_type": "stream",
     "text": [
      "['“AN ORDINANCE REGULATING THE PRACTICE OF TRADITIONAL HOME BIRTH DELIVERY OR DELIVERIES ATTENDED BY A TRADITIONAL BIRTH ATTENDANT OR MANANABANG”.']\n"
     ]
    }
   ],
   "source": [
    "# List all ordinance titles\n",
    "# Convert to list\n",
    "data = list(df.OT) \n",
    "print(data[:1])"
   ]
  },
  {
   "cell_type": "code",
   "execution_count": 21,
   "metadata": {},
   "outputs": [
    {
     "name": "stdout",
     "output_type": "stream",
     "text": [
      "['“AN ORDINANCE THE PRACTICE OF TRADITIONAL HOME BIRTH DELIVERY OR DELIVERIES '\n",
      " 'ATTENDED BY A TRADITIONAL BIRTH ATTENDANT OR MANANABANG”.',\n",
      " '“AN ORDINANCE THE MEMBERS OF THE CITY TRICYCLE AND REGULATORY BOARD (CTFRB) '\n",
      " 'ITS FUNCTIONS AND PROCEDURES AND MOTORIZED TRICYCLE FOR HIRE (MTH), TRICYCLE '\n",
      " 'UTILITY VEHICLE (TUV) AND TRICYCLE UTILITY FOR HIRE (TUH) GUIDELINES, '\n",
      " 'REGULATIONS AND OPERATIONS, THE COLLECTION OF FEES, CHARGES,ADMINISTRATIVE '\n",
      " 'PROVISIONS AND PENALTIES FOR VIOLATION THEREOF”.',\n",
      " '“AN ORDINANCE FUNERAL AND BURIAL ASSISTANCE FOR INDIGENT TAGUMENYOS, ITS '\n",
      " 'MANAGEMENT, PROCEDURES AND GUIDELINES AND FUNDS THEREFOR”.',\n",
      " 'AN ORDINANCE THE TITLE, SECTION 1, SECTION 2 AND SECTION 3 OF CITY ORDINANCE '\n",
      " 'NO. 820, S-2017 “AN ORDINANCE INTO A LOAN AGREEMENT WITH THE DEVELOPMENT '\n",
      " 'BANK OF THE PHILIPPINES, IN THE AMOUNT OF SIX HUNDRED EIGHTY MILLION PESOS '\n",
      " '(P 680,000,000.00) TO FUND THE ACQUISITION OF HEAVY EQUIPMENT,ACQUISITION OF '\n",
      " 'SERVICE VEHICLES, ACQUISITION OF continue reading : CITY ORDINANCE NO. 844, '\n",
      " 's-2018',\n",
      " '“AN ORDINANCE THE CITY HISTORICAL, CULTURAL AND ARTS COUNCIL IN THE CITY OF '\n",
      " 'TAGUM”.']\n"
     ]
    }
   ],
   "source": [
    "# Remove new line characters\n",
    "data = [re.sub('\\s+', ' ', sent) for sent in data]\n",
    "\n",
    "# Remove distracting single quotes\n",
    "data = [re.sub(\"\\'\", \"\", sent) for sent in data]\n",
    "data = [re.sub(\"\\\"\", \"\", sent) for sent in data]\n",
    "\n",
    "# Remove words ending with ING like amending, regulating\n",
    "data = [re.sub('\\S*ING\\S*\\s?', '', sent) for sent in data]\n",
    "\n",
    "\n",
    "pprint(data[:5])"
   ]
  },
  {
   "cell_type": "code",
   "execution_count": 23,
   "metadata": {},
   "outputs": [
    {
     "name": "stdout",
     "output_type": "stream",
     "text": [
      "[['an', 'ordinance', 'the', 'practice', 'of', 'traditional', 'home', 'birth', 'delivery', 'or', 'deliveries', 'attended', 'by', 'traditional', 'birth', 'attendant', 'or', 'mananabang'], ['an', 'ordinance', 'the', 'members', 'of', 'the', 'city', 'tricycle', 'and', 'regulatory', 'board', 'ctfrb', 'its', 'functions', 'and', 'procedures', 'and', 'motorized', 'tricycle', 'for', 'hire', 'mth', 'tricycle', 'utility', 'vehicle', 'tuv', 'and', 'tricycle', 'utility', 'for', 'hire', 'tuh', 'guidelines', 'regulations', 'and', 'operations', 'the', 'collection', 'of', 'fees', 'charges', 'administrative', 'provisions', 'and', 'penalties', 'for', 'violation', 'thereof'], ['an', 'ordinance', 'funeral', 'and', 'burial', 'assistance', 'for', 'indigent', 'tagumenyos', 'its', 'management', 'procedures', 'and', 'guidelines', 'and', 'funds', 'therefor'], ['an', 'ordinance', 'the', 'title', 'section', 'section', 'and', 'section', 'of', 'city', 'ordinance', 'no', 'an', 'ordinance', 'into', 'loan', 'agreement', 'with', 'the', 'development', 'bank', 'of', 'the', 'philippines', 'in', 'the', 'amount', 'of', 'six', 'hundred', 'eighty', 'million', 'pesos', 'to', 'fund', 'the', 'acquisition', 'of', 'heavy', 'equipment', 'acquisition', 'of', 'service', 'vehicles', 'acquisition', 'of', 'continue', 'reading', 'city', 'ordinance', 'no'], ['an', 'ordinance', 'the', 'city', 'historical', 'cultural', 'and', 'arts', 'council', 'in', 'the', 'city', 'of', 'tagum']]\n"
     ]
    }
   ],
   "source": [
    "#preprocess using gensim\n",
    "def sent_to_words(sentences):\n",
    "    for sentence in sentences:\n",
    "        yield(gensim.utils.simple_preprocess(str(sentence), deacc=True))  # deacc=True removes punctuations\n",
    "\n",
    "data_words = list(sent_to_words(data))\n",
    "\n",
    "print(data_words[:5])"
   ]
  },
  {
   "cell_type": "code",
   "execution_count": 11,
   "metadata": {},
   "outputs": [
    {
     "name": "stdout",
     "output_type": "stream",
     "text": [
      "['an', 'ordinance', 'the', 'practice', 'of', 'traditional', 'home', 'birth', 'delivery', 'or', 'deliveries', 'attended', 'by', 'traditional', 'birth', 'attendant', 'or', 'mananabang']\n"
     ]
    }
   ],
   "source": [
    "# Build the bigram and trigram models\n",
    "bigram = gensim.models.Phrases(data_words, min_count=5, threshold=100) # higher threshold fewer phrases.\n",
    "trigram = gensim.models.Phrases(bigram[data_words], threshold=100)  \n",
    "\n",
    "# Faster way to get a sentence clubbed as a trigram/bigram\n",
    "bigram_mod = gensim.models.phrases.Phraser(bigram)\n",
    "trigram_mod = gensim.models.phrases.Phraser(trigram)\n",
    "\n",
    "# See trigram example\n",
    "print(trigram_mod[bigram_mod[data_words[0]]])"
   ]
  },
  {
   "cell_type": "code",
   "execution_count": 12,
   "metadata": {},
   "outputs": [],
   "source": [
    "# Define functions for stopwords, bigrams, trigrams and lemmatization\n",
    "def remove_stopwords(texts):\n",
    "    return [[word for word in simple_preprocess(str(doc)) if word not in stop_words] for doc in texts]\n",
    "\n",
    "def make_bigrams(texts):\n",
    "    return [bigram_mod[doc] for doc in texts]\n",
    "\n",
    "def make_trigrams(texts):\n",
    "    return [trigram_mod[bigram_mod[doc]] for doc in texts]\n",
    "\n",
    "def lemmatization(texts, allowed_postags=['NOUN', 'ADJ', 'VERB', 'ADV']):\n",
    "    \"\"\"https://spacy.io/api/annotation\"\"\"\n",
    "    texts_out = []\n",
    "    for sent in texts:\n",
    "        doc = nlp(\" \".join(sent)) \n",
    "        texts_out.append([token.lemma_ for token in doc if token.pos_ in allowed_postags])\n",
    "    return texts_out"
   ]
  },
  {
   "cell_type": "code",
   "execution_count": 24,
   "metadata": {},
   "outputs": [
    {
     "name": "stdout",
     "output_type": "stream",
     "text": [
      "[['practice',\n",
      "  'traditional',\n",
      "  'home',\n",
      "  'birth',\n",
      "  'delivery',\n",
      "  'delivery',\n",
      "  'attend',\n",
      "  'traditional',\n",
      "  'birth',\n",
      "  'attendant',\n",
      "  'mananabang'],\n",
      " ['function',\n",
      "  'procedure',\n",
      "  'tricycle',\n",
      "  'utility',\n",
      "  'vehicle',\n",
      "  'tricycle',\n",
      "  'utility',\n",
      "  'hire',\n",
      "  'guideline',\n",
      "  'operation',\n",
      "  'collection',\n",
      "  'fee',\n",
      "  'charge',\n",
      "  'administrative',\n",
      "  'provision',\n",
      "  'penalty',\n",
      "  'violation'],\n",
      " ['indigent', 'management', 'procedure', 'guideline', 'fund'],\n",
      " ['section',\n",
      "  'loan',\n",
      "  'amount',\n",
      "  'acquisition',\n",
      "  'equipment',\n",
      "  'acquisition',\n",
      "  'service',\n",
      "  'vehicle',\n",
      "  'acquisition',\n",
      "  'continue_reading']]\n"
     ]
    }
   ],
   "source": [
    "# Remove Stop Words\n",
    "data_words_nostops = remove_stopwords(data_words)\n",
    "\n",
    "# Form Bigrams\n",
    "data_words_bigrams = make_bigrams(data_words_nostops)\n",
    "\n",
    "# Initialize spacy 'en' model, keeping only tagger component (for efficiency)\n",
    "# python3 -m spacy download en\n",
    "nlp = spacy.load('en', disable=['parser', 'ner'])\n",
    "\n",
    "# Do lemmatization keeping only noun, adj, vb, adv\n",
    "data_lemmatized = lemmatization(data_words_bigrams, allowed_postags=['NOUN', 'ADJ', 'VERB', 'ADV'])\n",
    "\n",
    "pprint(data_lemmatized[:4])"
   ]
  },
  {
   "cell_type": "code",
   "execution_count": 14,
   "metadata": {},
   "outputs": [
    {
     "name": "stdout",
     "output_type": "stream",
     "text": [
      "[[(0, 1), (1, 1), (2, 2), (3, 2), (4, 1), (5, 1), (6, 1), (7, 2)]]\n"
     ]
    }
   ],
   "source": [
    "# Create Dictionary\n",
    "id2word = corpora.Dictionary(data_lemmatized)\n",
    "\n",
    "# Create Corpus\n",
    "texts = data_lemmatized\n",
    "\n",
    "# Term Document Frequency\n",
    "corpus = [id2word.doc2bow(text) for text in texts]\n",
    "\n",
    "# View\n",
    "print(corpus[:1])"
   ]
  },
  {
   "cell_type": "code",
   "execution_count": 15,
   "metadata": {},
   "outputs": [
    {
     "data": {
      "text/plain": [
       "'attend'"
      ]
     },
     "execution_count": 15,
     "metadata": {},
     "output_type": "execute_result"
    }
   ],
   "source": [
    "id2word[0]"
   ]
  },
  {
   "cell_type": "code",
   "execution_count": 16,
   "metadata": {},
   "outputs": [
    {
     "data": {
      "text/plain": [
       "[[('attend', 1),\n",
       "  ('attendant', 1),\n",
       "  ('birth', 2),\n",
       "  ('delivery', 2),\n",
       "  ('home', 1),\n",
       "  ('mananabang', 1),\n",
       "  ('practice', 1),\n",
       "  ('traditional', 2)]]"
      ]
     },
     "execution_count": 16,
     "metadata": {},
     "output_type": "execute_result"
    }
   ],
   "source": [
    "# Human readable format of corpus (term-frequency)\n",
    "[[(id2word[id], freq) for id, freq in cp] for cp in corpus[:1]]"
   ]
  },
  {
   "cell_type": "code",
   "execution_count": 50,
   "metadata": {},
   "outputs": [],
   "source": [
    "# Build LDA model\n",
    "lda_model = gensim.models.ldamodel.LdaModel(corpus=corpus,\n",
    "                                           id2word=id2word,\n",
    "                                           num_topics=5, \n",
    "                                           random_state=100,\n",
    "                                           update_every=1,\n",
    "                                           chunksize=100,\n",
    "                                           passes=50,\n",
    "                                           alpha='auto',\n",
    "                                           per_word_topics=True)"
   ]
  },
  {
   "cell_type": "code",
   "execution_count": 51,
   "metadata": {},
   "outputs": [
    {
     "name": "stdout",
     "output_type": "stream",
     "text": [
      "[(0, '0.078*\"penalty\" + 0.069*\"violation\" + 0.050*\"public\" + 0.024*\"vehicle\" + 0.020*\"market\" + 0.018*\"government\" + 0.018*\"office\" + 0.017*\"fee\" + 0.017*\"use\" + 0.015*\"road\"'), (1, '0.026*\"service\" + 0.024*\"mayor\" + 0.022*\"amount\" + 0.019*\"fee\" + 0.017*\"permit\" + 0.016*\"private\" + 0.015*\"development\" + 0.014*\"house\" + 0.011*\"appropriation\" + 0.011*\"annual\"'), (2, '0.037*\"position\" + 0.025*\"fund\" + 0.023*\"necessary\" + 0.021*\"legislative\" + 0.018*\"compensation\" + 0.018*\"market\" + 0.016*\"officer\" + 0.014*\"situate\" + 0.012*\"staff\" + 0.012*\"establishment\"'), (3, '0.031*\"regulation\" + 0.024*\"street\" + 0.021*\"business\" + 0.019*\"medical\" + 0.019*\"guideline\" + 0.018*\"new\" + 0.018*\"rule\" + 0.018*\"implementation\" + 0.016*\"portion\" + 0.015*\"certain\"'), (4, '0.064*\"section\" + 0.059*\"purpose\" + 0.043*\"fund\" + 0.031*\"area\" + 0.025*\"duty\" + 0.022*\"tax\" + 0.020*\"operation\" + 0.019*\"provide\" + 0.018*\"establishment\" + 0.016*\"year\"')]\n"
     ]
    }
   ],
   "source": [
    "print(lda_model.print_topics())\n",
    "doc_lda = lda_model[corpus]"
   ]
  },
  {
   "cell_type": "code",
   "execution_count": 52,
   "metadata": {},
   "outputs": [
    {
     "name": "stdout",
     "output_type": "stream",
     "text": [
      "\n",
      "Perplexity:  -6.761623310096045\n",
      "\n",
      "Coherence Score:  0.49439785806596276\n"
     ]
    }
   ],
   "source": [
    "# Compute Perplexity\n",
    "print('\\nPerplexity: ', lda_model.log_perplexity(corpus))  # a measure of how good the model is. lower the better.\n",
    "\n",
    "# Compute Coherence Score\n",
    "coherence_model_lda = CoherenceModel(model=lda_model, texts=data_lemmatized, dictionary=id2word, coherence='c_v')\n",
    "coherence_lda = coherence_model_lda.get_coherence()\n",
    "print('\\nCoherence Score: ', coherence_lda)"
   ]
  },
  {
   "cell_type": "code",
   "execution_count": 53,
   "metadata": {},
   "outputs": [
    {
     "data": {
      "text/html": [
       "\n",
       "<link rel=\"stylesheet\" type=\"text/css\" href=\"https://cdn.rawgit.com/bmabey/pyLDAvis/files/ldavis.v1.0.0.css\">\n",
       "\n",
       "\n",
       "<div id=\"ldavis_el41361405487614843048956464462\"></div>\n",
       "<script type=\"text/javascript\">\n",
       "\n",
       "var ldavis_el41361405487614843048956464462_data = {\"mdsDat\": {\"x\": [-0.27441858872346825, 0.18153985623570268, 0.09221626828066039, -0.05728048648726208, 0.05794295069436717], \"y\": [-0.1337511469186497, -0.18084190231558775, 0.035113116969119854, 0.20226510465018008, 0.07721482761493759], \"topics\": [1, 2, 3, 4, 5], \"cluster\": [1, 1, 1, 1, 1], \"Freq\": [28.676290740046483, 21.978090350277473, 18.7602884088501, 15.680582923520433, 14.904747577305507]}, \"tinfo\": {\"Term\": [\"penalty\", \"violation\", \"section\", \"purpose\", \"public\", \"fund\", \"position\", \"area\", \"regulation\", \"duty\", \"vehicle\", \"service\", \"street\", \"mayor\", \"market\", \"tax\", \"necessary\", \"business\", \"amount\", \"guideline\", \"medical\", \"provide\", \"legislative\", \"operation\", \"office\", \"establishment\", \"new\", \"rule\", \"implementation\", \"fee\", \"penalty\", \"violation\", \"public\", \"vehicle\", \"office\", \"road\", \"school\", \"utility\", \"function\", \"passenger\", \"davao\", \"charge\", \"monthly\", \"territorial_jurisdiction\", \"composition\", \"property\", \"material\", \"unit\", \"clock\", \"poblacion\", \"owner\", \"bus\", \"jeepney\", \"garbage\", \"truck\", \"gold\", \"real\", \"structure\", \"collection\", \"regulate\", \"use\", \"government\", \"market\", \"fee\", \"management\", \"operation\", \"amount\", \"section\", \"area\", \"duty\", \"tax\", \"provide\", \"rate\", \"code\", \"policy\", \"revise\", \"terminal\", \"cover\", \"sale\", \"own\", \"commercial\", \"purpose\", \"continue_reade\", \"residential\", \"article\", \"comprehensive\", \"lot\", \"square_meter\", \"locate\", \"chapter\", \"site\", \"child\", \"enact\", \"agricultural\", \"embrace\", \"resolution\", \"incentive\", \"year\", \"fund\", \"establishment\", \"operation\", \"guideline\", \"person\", \"government\", \"regulation\", \"street\", \"business\", \"medical\", \"rule\", \"new\", \"implementation\", \"portion\", \"certain\", \"act\", \"park\", \"continue_reading\", \"construction\", \"support\", \"temporary\", \"expense\", \"official\", \"part\", \"educational\", \"death\", \"assistance\", \"town\", \"inspection\", \"order\", \"scholarship\", \"cable\", \"republic_act\", \"vehicular\", \"slaughter\", \"worker\", \"special\", \"traffic\", \"guideline\", \"provision\", \"program\", \"fund\", \"person\", \"fee\", \"mayor\", \"service\", \"permit\", \"private\", \"development\", \"house\", \"appropriation\", \"annual\", \"place\", \"issuance\", \"clearance\", \"document\", \"amend\", \"secure\", \"subject\", \"motorize\", \"balance\", \"render\", \"certification\", \"employment\", \"high\", \"shall\", \"hereunder\", \"concern\", \"series\", \"swear\", \"equipment\", \"motor\", \"day\", \"pay\", \"license\", \"take\", \"amount\", \"fee\", \"peso\", \"authorize\", \"position\", \"necessary\", \"legislative\", \"compensation\", \"officer\", \"situate\", \"staff\", \"power\", \"qualification\", \"industrial\", \"installation\", \"stall\", \"know\", \"system\", \"barangay\", \"employee\", \"department\", \"salary\", \"register\", \"dutie\", \"rice\", \"allowance\", \"construct\", \"assistant\", \"corn\", \"line\", \"late\", \"former\", \"mill\", \"honor\", \"administrator\", \"premise\", \"fund\", \"market\", \"local\", \"establishment\", \"peso\"], \"Freq\": [110.0, 98.0, 70.0, 67.0, 70.0, 73.0, 28.0, 33.0, 29.0, 27.0, 33.0, 20.0, 22.0, 19.0, 41.0, 23.0, 17.0, 19.0, 26.0, 32.0, 18.0, 20.0, 15.0, 40.0, 25.0, 28.0, 17.0, 17.0, 17.0, 45.0, 109.45186499548494, 97.61233342574641, 70.09885606562636, 33.14016827055196, 24.731986956002327, 21.26830102688143, 18.156806580753415, 18.04779055399848, 16.055561633583743, 13.841740636428565, 13.870542550672829, 13.08470714613198, 12.625293436359442, 12.370391308248008, 10.199229527122649, 9.329972574903044, 9.107704211934735, 9.090098445998802, 8.825130815097861, 8.532916071688177, 8.322880610381404, 8.221578842744144, 7.853635143350544, 7.701978941634343, 7.641784214645662, 7.046861129288665, 6.93993568054298, 6.800082971563048, 6.1326922056530195, 6.089550397023705, 23.756524832699146, 25.924065527856854, 28.413775850198732, 23.828066723367428, 9.037405243430872, 18.48982173794914, 8.886133146028557, 69.52864183073395, 33.15864167419825, 26.8913360091031, 23.367671426831784, 20.052727553243788, 17.04496898451492, 15.644023921115394, 14.936944577452552, 14.361906867167484, 13.943419752850636, 11.859803663821422, 11.122965737460065, 10.62974400068445, 10.648718519069702, 63.33504823939553, 9.646376224803904, 9.488106619797229, 9.252431285781402, 9.242522829116531, 9.248985216139907, 8.852161842779006, 8.773023014493377, 8.692284944192465, 7.884942989337886, 7.513358754830543, 6.776455912729737, 6.731312803004388, 6.46501082698345, 6.090376559167535, 5.502361739665929, 17.052517326311417, 46.36859408691106, 19.18907446536455, 21.692968135384742, 15.076263818767725, 10.274977974922491, 10.410442529693587, 28.752518459714924, 21.98543601754536, 19.18191872615942, 17.755935394474484, 16.68391357328805, 16.88730368636689, 16.572399950318307, 14.349736471838103, 14.185095719056708, 10.940578835159721, 10.955006432030032, 11.091862420134781, 9.541302966348685, 9.12861905758454, 8.110122125966274, 8.134892335598387, 7.672744466788877, 7.6908558516417935, 7.0440233169640925, 6.914183106508587, 6.6767669228543935, 6.473235059538346, 6.472776304225213, 5.909317822701424, 5.817720108058822, 5.610086078787329, 5.66251691425199, 5.012604533511405, 4.800659578844222, 4.7865356711184655, 4.859323988376465, 11.97002489873655, 17.33017610019372, 7.815896742702516, 8.260995923891963, 8.393904382663672, 6.573697748106441, 6.8631916802708055, 18.857485880794098, 19.917809286057516, 13.319475337659993, 11.968843374065953, 11.369907752476179, 10.681914368597191, 8.494469030396775, 8.490913900535103, 8.075140350214898, 6.692539504259415, 6.204393821340094, 5.864340013276674, 5.985953315389863, 4.962913894737155, 5.0766080391691775, 4.732278884065484, 4.383369564182416, 4.176357748775182, 4.174657016584237, 4.193314447243867, 4.238834973377157, 4.110673295830011, 4.160329505752093, 4.045925556054817, 4.100592768550051, 3.7046176509800035, 3.7266916253443068, 3.7163576218290055, 3.7346599703402625, 3.648761326173938, 8.119402470958857, 8.418243053732299, 16.907740934051848, 14.859872679776265, 6.4910022010851405, 4.130863431941013, 27.37140865230792, 16.50242140799127, 15.069925014679, 13.049555713988282, 11.702443091600268, 10.227843840582569, 9.004183382085131, 8.345984109739033, 8.105380263095888, 7.410315224559029, 7.166685017460256, 6.986603602184251, 6.469406517724118, 6.527627440869252, 6.304319032644152, 6.225679390646838, 6.145069952466631, 6.082595470828156, 6.065185366520046, 5.769761668935283, 5.805619330842561, 5.365420391560668, 5.633488425211884, 5.281726577444741, 5.287111096532348, 4.9056142676128225, 4.722320842344895, 4.377194259162638, 4.375406017305681, 4.323739819608365, 4.613579356600498, 7.089696427772856, 17.98077460183846, 12.960147716350813, 6.8974645233603855, 8.94394693290809, 6.6079331509478], \"Total\": [110.0, 98.0, 70.0, 67.0, 70.0, 73.0, 28.0, 33.0, 29.0, 27.0, 33.0, 20.0, 22.0, 19.0, 41.0, 23.0, 17.0, 19.0, 26.0, 32.0, 18.0, 20.0, 15.0, 40.0, 25.0, 28.0, 17.0, 17.0, 17.0, 45.0, 110.09135946703898, 98.24948110610657, 70.7410174582876, 33.77393086885246, 25.395093902261888, 21.911450506464814, 18.7932452161688, 18.681873241187073, 16.693599899010945, 14.474207886973584, 14.511169025012968, 13.717187178954372, 13.28004019805118, 13.028114928639932, 10.841857601735635, 9.96532870723053, 9.743990202246128, 9.732945946149146, 9.458436698930035, 9.167777833534558, 8.96146933133864, 8.853170017967662, 8.484396655746393, 8.33399258989928, 8.275752509969482, 7.684055027556037, 7.569905578196711, 7.479215972781973, 6.763189780955905, 6.719671070217121, 28.724604295515597, 36.80297827241176, 41.86261669676924, 45.87861911278038, 11.614797964578957, 40.642105668418075, 26.28533301542453, 70.14830531829527, 33.7769517404283, 27.515072745572674, 23.986919632687457, 20.70018210169279, 17.666154371350117, 16.2557221030414, 15.553593907013976, 14.978168628697633, 14.59615839008751, 12.473623339324837, 11.744184367432426, 11.24399835163005, 11.274340978199401, 67.14506120550455, 10.27685560806909, 10.108488748410355, 9.864924779197334, 9.85752376520041, 9.865545181720611, 9.46467050273145, 9.387842741492198, 9.30675222547564, 8.499588735593976, 8.142630779682232, 7.387701398545088, 7.3438817757959844, 7.079307254690628, 6.716855161825936, 6.118917279074962, 19.919400591250607, 73.05016605451824, 28.614627373617406, 40.642105668418075, 32.86008036371495, 17.318846736507425, 36.80297827241176, 29.384273952402907, 22.639773477462334, 19.84550627904833, 18.393352902404036, 17.31034144210696, 17.526682598476114, 17.20243426097209, 14.989635972560635, 14.819380983753476, 11.56682078171946, 11.597174681414474, 11.753259730971827, 10.172312870879454, 9.783500495679737, 8.73829182724466, 8.788078722432514, 8.305366341086, 8.353054493525415, 7.666063795251141, 7.537353473340151, 7.300377522147329, 7.108286787530015, 7.107902845010861, 6.53744448143643, 6.438961775881795, 6.233132779701706, 6.291737544460246, 5.635595319501723, 5.423126775306079, 5.412963850533266, 5.495349729816105, 16.446987979710027, 32.86008036371495, 11.831659826868627, 15.808840690437115, 73.05016605451824, 17.318846736507425, 45.87861911278038, 19.507974940644072, 20.621381832383154, 13.968064639859255, 12.641132498735933, 12.020431855905708, 11.345781942175513, 9.141555668582864, 9.144843025987917, 8.744814453835911, 7.34924597102333, 6.85605801204564, 6.509181593705501, 6.647803969899266, 5.608431587278446, 5.769716961482266, 5.393877037803212, 5.026965444924791, 4.820098414065658, 4.8201357112066265, 4.842599985075761, 4.899612825958084, 4.75590611912652, 4.821873463860873, 4.693314695433917, 4.780360415250728, 4.349368938265533, 4.380804011217653, 4.372075813039911, 4.40138632517197, 4.302495600735362, 9.996168553068605, 10.9791078267307, 26.28533301542453, 45.87861911278038, 13.596511566557925, 7.38195020616899, 28.012497250202376, 17.142960351029835, 15.708178192234532, 13.687761600090518, 12.371286593763752, 10.8750389794731, 9.64367598892164, 8.986946107432917, 8.742428679047812, 8.060062673450743, 7.808416340154194, 7.642698100633068, 7.109939018901555, 7.194294002439545, 6.9503523388390835, 6.8745418879268865, 6.786011355838318, 6.730324482926246, 6.722018535991976, 6.406779502371926, 6.448337498631282, 6.0048137082696025, 6.3072323883773445, 5.922757836857217, 5.931621050310223, 5.549960682066851, 5.366702142431821, 5.016005402846008, 5.0146747135482865, 4.96711102190108, 5.3118470473212005, 9.396794744608114, 73.05016605451824, 41.86261669676924, 14.32051229465085, 28.614627373617406, 13.596511566557925], \"Category\": [\"Default\", \"Default\", \"Default\", \"Default\", \"Default\", \"Default\", \"Default\", \"Default\", \"Default\", \"Default\", \"Default\", \"Default\", \"Default\", \"Default\", \"Default\", \"Default\", \"Default\", \"Default\", \"Default\", \"Default\", \"Default\", \"Default\", \"Default\", \"Default\", \"Default\", \"Default\", \"Default\", \"Default\", \"Default\", \"Default\", \"Topic1\", \"Topic1\", \"Topic1\", \"Topic1\", \"Topic1\", \"Topic1\", \"Topic1\", \"Topic1\", \"Topic1\", \"Topic1\", \"Topic1\", \"Topic1\", \"Topic1\", \"Topic1\", \"Topic1\", \"Topic1\", \"Topic1\", \"Topic1\", \"Topic1\", \"Topic1\", \"Topic1\", \"Topic1\", \"Topic1\", \"Topic1\", \"Topic1\", \"Topic1\", \"Topic1\", \"Topic1\", \"Topic1\", \"Topic1\", \"Topic1\", \"Topic1\", \"Topic1\", \"Topic1\", \"Topic1\", \"Topic1\", \"Topic1\", \"Topic2\", \"Topic2\", \"Topic2\", \"Topic2\", \"Topic2\", \"Topic2\", \"Topic2\", \"Topic2\", \"Topic2\", \"Topic2\", \"Topic2\", \"Topic2\", \"Topic2\", \"Topic2\", \"Topic2\", \"Topic2\", \"Topic2\", \"Topic2\", \"Topic2\", \"Topic2\", \"Topic2\", \"Topic2\", \"Topic2\", \"Topic2\", \"Topic2\", \"Topic2\", \"Topic2\", \"Topic2\", \"Topic2\", \"Topic2\", \"Topic2\", \"Topic2\", \"Topic2\", \"Topic2\", \"Topic2\", \"Topic2\", \"Topic2\", \"Topic3\", \"Topic3\", \"Topic3\", \"Topic3\", \"Topic3\", \"Topic3\", \"Topic3\", \"Topic3\", \"Topic3\", \"Topic3\", \"Topic3\", \"Topic3\", \"Topic3\", \"Topic3\", \"Topic3\", \"Topic3\", \"Topic3\", \"Topic3\", \"Topic3\", \"Topic3\", \"Topic3\", \"Topic3\", \"Topic3\", \"Topic3\", \"Topic3\", \"Topic3\", \"Topic3\", \"Topic3\", \"Topic3\", \"Topic3\", \"Topic3\", \"Topic3\", \"Topic3\", \"Topic3\", \"Topic3\", \"Topic3\", \"Topic3\", \"Topic3\", \"Topic4\", \"Topic4\", \"Topic4\", \"Topic4\", \"Topic4\", \"Topic4\", \"Topic4\", \"Topic4\", \"Topic4\", \"Topic4\", \"Topic4\", \"Topic4\", \"Topic4\", \"Topic4\", \"Topic4\", \"Topic4\", \"Topic4\", \"Topic4\", \"Topic4\", \"Topic4\", \"Topic4\", \"Topic4\", \"Topic4\", \"Topic4\", \"Topic4\", \"Topic4\", \"Topic4\", \"Topic4\", \"Topic4\", \"Topic4\", \"Topic4\", \"Topic4\", \"Topic4\", \"Topic4\", \"Topic4\", \"Topic4\", \"Topic5\", \"Topic5\", \"Topic5\", \"Topic5\", \"Topic5\", \"Topic5\", \"Topic5\", \"Topic5\", \"Topic5\", \"Topic5\", \"Topic5\", \"Topic5\", \"Topic5\", \"Topic5\", \"Topic5\", \"Topic5\", \"Topic5\", \"Topic5\", \"Topic5\", \"Topic5\", \"Topic5\", \"Topic5\", \"Topic5\", \"Topic5\", \"Topic5\", \"Topic5\", \"Topic5\", \"Topic5\", \"Topic5\", \"Topic5\", \"Topic5\", \"Topic5\", \"Topic5\", \"Topic5\", \"Topic5\", \"Topic5\", \"Topic5\"], \"logprob\": [30.0, 29.0, 28.0, 27.0, 26.0, 25.0, 24.0, 23.0, 22.0, 21.0, 20.0, 19.0, 18.0, 17.0, 16.0, 15.0, 14.0, 13.0, 12.0, 11.0, 10.0, 9.0, 8.0, 7.0, 6.0, 5.0, 4.0, 3.0, 2.0, 1.0, -2.5559000968933105, -2.6703999042510986, -3.0013999938964844, -3.7506000995635986, -4.043300151824951, -4.1940999031066895, -4.35230016708374, -4.35830020904541, -4.475299835205078, -4.623700141906738, -4.621600151062012, -4.679900169372559, -4.715700149536133, -4.736000061035156, -4.928999900817871, -5.018099784851074, -5.042200088500977, -5.0441999435424805, -5.073800086975098, -5.107399940490723, -5.132299900054932, -5.144599914550781, -5.190400123596191, -5.20989990234375, -5.217700004577637, -5.298799991607666, -5.3140997886657715, -5.334400177001953, -5.437699794769287, -5.444799900054932, -4.083499908447266, -3.9962000846862793, -3.9045000076293945, -4.08050012588501, -5.050000190734863, -4.334099769592285, -5.06689977645874, -2.7435998916625977, -3.4839999675750732, -3.69350004196167, -3.8340001106262207, -3.986999988555908, -4.149499893188477, -4.235199928283691, -4.281499862670898, -4.320799827575684, -4.350299835205078, -4.512199878692627, -4.576300144195557, -4.621699810028076, -4.619900226593018, -2.836899995803833, -4.718699932098389, -4.735300064086914, -4.76039981842041, -4.761499881744385, -4.760799884796143, -4.804699897766113, -4.813600063323975, -4.82289981842041, -4.920400142669678, -4.968599796295166, -5.071899890899658, -5.07859992980957, -5.118899822235107, -5.178599834442139, -5.280200004577637, -4.14900016784668, -3.148699998855591, -4.031000137329102, -3.9082999229431152, -4.272200107574463, -4.655600070953369, -4.642499923706055, -3.4683001041412354, -3.736599922180176, -3.8731000423431396, -3.9502999782562256, -4.012599945068359, -4.000500202178955, -4.0192999839782715, -4.163300037384033, -4.174799919128418, -4.434500217437744, -4.433199882507324, -4.42080020904541, -4.571400165557861, -4.615600109100342, -4.73390007019043, -4.730899810791016, -4.789400100708008, -4.7870001792907715, -4.874800205230713, -4.893499851226807, -4.928400039672852, -4.959400177001953, -4.959400177001953, -5.05049991607666, -5.066100120544434, -5.102499961853027, -5.093200206756592, -5.215099811553955, -5.258299827575684, -5.261199951171875, -5.246099948883057, -4.344600200653076, -3.974600076675415, -4.770899772644043, -4.7154998779296875, -4.69950008392334, -4.943900108337402, -4.900899887084961, -3.7107999324798584, -3.656100034713745, -4.058499813079834, -4.16540002822876, -4.216700077056885, -4.279200077056885, -4.508299827575684, -4.508699893951416, -4.558899879455566, -4.746699810028076, -4.822400093078613, -4.878799915313721, -4.85830020904541, -5.0457000732421875, -5.023099899291992, -5.093299865722656, -5.169899940490723, -5.218299865722656, -5.218699932098389, -5.214200019836426, -5.203400135040283, -5.234099864959717, -5.222099781036377, -5.25, -5.236599922180176, -5.338099956512451, -5.332200050354004, -5.335000038146973, -5.329999923706055, -5.353300094604492, -4.553500175476074, -4.517300128936768, -3.8199000358581543, -3.9489998817443848, -4.777299880981445, -5.2291998863220215, -3.2874999046325684, -3.7934999465942383, -3.8842999935150146, -4.028200149536133, -4.137199878692627, -4.2718000411987305, -4.3993000984191895, -4.475200176239014, -4.50439977645874, -4.594099998474121, -4.627500057220459, -4.6529998779296875, -4.729899883270264, -4.720900058746338, -4.75570011138916, -4.7683000564575195, -4.781300067901611, -4.791500091552734, -4.794400215148926, -4.844299793243408, -4.838099956512451, -4.916999816894531, -4.868199825286865, -4.932700157165527, -4.931700229644775, -5.0065999031066895, -5.0447001457214355, -5.12060022354126, -5.120999813079834, -5.132800102233887, -5.067999839782715, -4.638299942016602, -3.70770001411438, -4.035099983215332, -4.665800094604492, -4.406000137329102, -4.708700180053711], \"loglift\": [30.0, 29.0, 28.0, 27.0, 26.0, 25.0, 24.0, 23.0, 22.0, 21.0, 20.0, 19.0, 18.0, 17.0, 16.0, 15.0, 14.0, 13.0, 12.0, 11.0, 10.0, 9.0, 8.0, 7.0, 6.0, 5.0, 4.0, 3.0, 2.0, 1.0, 1.2433, 1.2426, 1.24, 1.2302, 1.2226, 1.2193, 1.2146, 1.2146, 1.2101, 1.2044, 1.2039, 1.2019, 1.1985, 1.1973, 1.188, 1.1832, 1.1816, 1.1808, 1.1798, 1.1773, 1.1752, 1.1751, 1.1718, 1.1702, 1.1694, 1.1625, 1.1622, 1.1539, 1.1512, 1.1506, 1.0592, 0.8987, 0.8616, 0.594, 0.9982, 0.4615, 0.1646, 1.5063, 1.4966, 1.4922, 1.489, 1.4833, 1.4793, 1.4768, 1.4747, 1.4731, 1.4694, 1.4647, 1.4608, 1.4589, 1.458, 1.4567, 1.4518, 1.4518, 1.451, 1.4507, 1.4506, 1.4482, 1.4474, 1.4468, 1.4401, 1.4347, 1.4288, 1.428, 1.4244, 1.4172, 1.4089, 1.3597, 1.0606, 1.1155, 0.8873, 0.736, 0.993, 0.2524, 1.6517, 1.6441, 1.6394, 1.6382, 1.6366, 1.6363, 1.6361, 1.6298, 1.6297, 1.6178, 1.6165, 1.6155, 1.6094, 1.6041, 1.5988, 1.5962, 1.5942, 1.5908, 1.5888, 1.5871, 1.5841, 1.5798, 1.5798, 1.5724, 1.572, 1.5681, 1.5681, 1.5563, 1.5515, 1.5504, 1.5504, 1.3557, 1.0336, 1.2588, 1.0244, -0.4902, 0.7047, -0.2264, 1.8188, 1.818, 1.8052, 1.7981, 1.7971, 1.7925, 1.7793, 1.7786, 1.7731, 1.7591, 1.7529, 1.7484, 1.7479, 1.7305, 1.7248, 1.7219, 1.7157, 1.7094, 1.709, 1.7088, 1.7079, 1.7069, 1.7052, 1.7043, 1.6994, 1.6923, 1.691, 1.6903, 1.6885, 1.6879, 1.6448, 1.5872, 1.4115, 0.7254, 1.1134, 1.2722, 1.8803, 1.8654, 1.862, 1.8557, 1.8479, 1.8421, 1.8349, 1.8295, 1.8278, 1.8194, 1.8177, 1.8137, 1.8091, 1.8062, 1.8059, 1.8043, 1.8043, 1.8023, 1.8007, 1.7988, 1.7985, 1.7909, 1.7905, 1.7889, 1.7885, 1.7801, 1.7756, 1.7673, 1.7671, 1.7648, 1.7626, 1.6218, 0.5016, 0.731, 1.173, 0.7405, 1.1819]}, \"token.table\": {\"Topic\": [3, 5, 2, 5, 4, 1, 4, 4, 4, 2, 2, 3, 5, 1, 4, 4, 5, 1, 3, 3, 3, 4, 2, 1, 2, 4, 1, 2, 1, 2, 5, 1, 2, 4, 5, 3, 2, 3, 5, 2, 1, 4, 3, 5, 4, 4, 5, 2, 3, 2, 5, 4, 2, 4, 2, 5, 3, 1, 3, 4, 5, 1, 2, 3, 5, 1, 1, 1, 2, 2, 3, 4, 4, 5, 4, 3, 2, 5, 3, 5, 4, 1, 5, 5, 5, 3, 4, 5, 1, 4, 5, 2, 2, 1, 4, 1, 5, 1, 4, 3, 5, 1, 4, 4, 5, 3, 1, 5, 3, 1, 2, 3, 2, 1, 3, 3, 1, 4, 1, 4, 2, 3, 4, 5, 4, 1, 2, 3, 5, 5, 3, 5, 4, 2, 3, 1, 2, 1, 3, 1, 2, 3, 5, 2, 1, 5, 1, 3, 4, 3, 2, 2, 2, 5, 1, 3, 5, 2, 3, 1, 2, 4, 4, 4, 4, 2, 5, 3, 3, 2, 5, 5, 3, 1, 4, 3, 4, 5, 1, 4, 2, 3, 2, 1, 3, 2, 3, 1, 1, 1, 3, 1, 1, 3, 1, 3, 2, 4], \"Freq\": [0.950995974398144, 0.9412921636216037, 0.9531743856594543, 0.8326652986943107, 0.9025536894841557, 0.34239627075368223, 0.646748511423622, 0.8748099860506637, 0.8751245728879503, 0.9769975767381532, 0.9123232261211718, 0.9588545220797052, 0.8442013227157606, 0.40639667245288963, 0.5418622299371861, 0.7957086723240534, 0.8632655882021341, 0.9036311269030033, 0.9573955802810149, 0.9625978159071299, 0.9447088252436613, 0.8298521534777863, 0.9670398203321715, 0.9477161629714641, 0.9824834523950012, 0.8751384526587139, 0.95153145138859, 0.9842687946176469, 0.8871553504080384, 0.9756667836523767, 0.9497535374895798, 0.9223511659477187, 0.9130081970253332, 0.8522761117833338, 0.9512888745080177, 0.9830606005667857, 0.9730602804371689, 0.9359105687942163, 0.8429398907299549, 0.9620300111330384, 0.9647740975153783, 0.9088045684887052, 0.9287079377077397, 0.8841718183742684, 0.9151085528258818, 0.921774867335413, 0.9365079596977971, 0.9812803422205907, 0.9131152814481215, 0.8475405550485894, 0.8727854303335089, 0.8260025631535661, 0.9475206999268485, 0.9130744013558808, 0.6639960657854989, 0.3145244522141837, 0.9103241166444198, 0.5231194936578711, 0.15257651898354574, 0.32694968353616943, 0.7974473069208535, 0.9584511487512026, 0.6297042496203175, 0.10951378254266392, 0.2464060107209938, 0.9599240596513038, 0.9109773387745239, 0.7064645640238881, 0.27171714000918773, 0.45648092865175804, 0.5173450524719925, 0.8295530834600543, 0.8163910378403888, 0.8052970796028364, 0.969523304437031, 0.988232231677155, 0.9805656338121082, 0.8684795991794814, 0.8441308401129155, 0.8964685917172508, 0.9524786661923768, 0.9429073538872896, 0.8438890944140567, 0.931670859924852, 0.9549165929003386, 0.10003832915492625, 0.80030663323941, 0.9009072832094297, 0.4189794245168997, 0.06982990408614995, 0.48880932860304965, 0.9586867023477056, 0.9122658539616911, 0.7748735731303145, 0.17219412736229212, 0.6688545105246828, 0.31053959417217414, 0.9236462489386917, 0.9739606523901296, 0.9786143992076276, 0.797658916777411, 0.9789126995193678, 0.9148972184036293, 0.9269770083665778, 0.9916606963965097, 0.9699496698524165, 0.9844421168993316, 0.9699880371415117, 0.9632326463944912, 0.4428904384741889, 0.5413105359128976, 0.9177898209365227, 0.9782996809498217, 0.8927107491205332, 0.9485068822519763, 0.9577334861398219, 0.96723773137179, 0.9296929901140024, 0.9900867836284124, 0.9306944329927579, 0.5774056524745615, 0.4041839567321931, 0.44128966247178003, 0.51483793955041, 0.9148278722472839, 0.9816991820066966, 0.9644073318151678, 0.9339786520251581, 0.9638555163019227, 0.8901800349490652, 0.21283853211198436, 0.7449348623919453, 0.9492820363365352, 0.44279021701030563, 0.5060459622974921, 0.9031312728771187, 0.9661750752600611, 0.33807598076107315, 0.6761519615221463, 0.9895249250730025, 0.9382670723492507, 0.044679384397583365, 0.9150775252159479, 0.9622920553422512, 0.924714308215655, 0.8925890293033196, 0.8929008484646158, 0.9869224622318264, 0.8298585747393649, 0.9536316411168302, 0.8903408040509839, 0.8932751794470639, 0.9346937096953565, 0.9304723893985938, 0.9584030045753522, 0.9820719052166087, 0.8914874780883206, 0.9366337972779012, 0.9318272430928228, 0.9577909399337625, 0.9978858317728084, 0.8915148419286159, 0.8367569916357869, 0.9698671099039854, 0.8410594952481208, 0.9412220107189617, 0.9195369339710178, 0.9219773402250591, 0.9098601992283607, 0.9509047353949249, 0.9332540838513161, 0.9159069098150258, 0.971741171434457, 0.9359269775701204, 0.8665936359407616, 0.9199161388067879, 0.9196736484707466, 0.9729933190979322, 0.18216416411637967, 0.7286566564655187, 0.9588559244871708, 0.9155107380434722, 0.9591564866484067, 0.9210849048944288, 0.8440852457621336, 0.24320562554886255, 0.7296168766465876, 0.9666794639354798, 0.9246943371303591, 0.8355206481903324, 0.1392534413650554, 0.9635008099892372, 0.9770849631966824, 0.8872177146392548, 0.9974607386899363, 0.923708367183612, 0.853439335291398, 0.10040462768134095], \"Term\": [\"act\", \"administrator\", \"agricultural\", \"allowance\", \"amend\", \"amount\", \"amount\", \"annual\", \"appropriation\", \"area\", \"article\", \"assistance\", \"assistant\", \"authorize\", \"authorize\", \"balance\", \"barangay\", \"bus\", \"business\", \"cable\", \"certain\", \"certification\", \"chapter\", \"charge\", \"child\", \"clearance\", \"clock\", \"code\", \"collection\", \"commercial\", \"compensation\", \"composition\", \"comprehensive\", \"concern\", \"construct\", \"construction\", \"continue_reade\", \"continue_reading\", \"corn\", \"cover\", \"davao\", \"day\", \"death\", \"department\", \"development\", \"document\", \"dutie\", \"duty\", \"educational\", \"embrace\", \"employee\", \"employment\", \"enact\", \"equipment\", \"establishment\", \"establishment\", \"expense\", \"fee\", \"fee\", \"fee\", \"former\", \"function\", \"fund\", \"fund\", \"fund\", \"garbage\", \"gold\", \"government\", \"government\", \"guideline\", \"guideline\", \"hereunder\", \"high\", \"honor\", \"house\", \"implementation\", \"incentive\", \"industrial\", \"inspection\", \"installation\", \"issuance\", \"jeepney\", \"know\", \"late\", \"legislative\", \"license\", \"license\", \"line\", \"local\", \"local\", \"local\", \"locate\", \"lot\", \"management\", \"management\", \"market\", \"market\", \"material\", \"mayor\", \"medical\", \"mill\", \"monthly\", \"motor\", \"motorize\", \"necessary\", \"new\", \"office\", \"officer\", \"official\", \"operation\", \"operation\", \"order\", \"own\", \"owner\", \"park\", \"part\", \"passenger\", \"pay\", \"penalty\", \"permit\", \"person\", \"person\", \"peso\", \"peso\", \"place\", \"poblacion\", \"policy\", \"portion\", \"position\", \"power\", \"premise\", \"premise\", \"private\", \"program\", \"program\", \"property\", \"provide\", \"provision\", \"provision\", \"public\", \"purpose\", \"purpose\", \"qualification\", \"rate\", \"real\", \"register\", \"regulate\", \"regulation\", \"render\", \"republic_act\", \"residential\", \"resolution\", \"revise\", \"rice\", \"road\", \"rule\", \"salary\", \"sale\", \"scholarship\", \"school\", \"section\", \"secure\", \"series\", \"service\", \"shall\", \"site\", \"situate\", \"slaughter\", \"special\", \"square_meter\", \"staff\", \"stall\", \"street\", \"structure\", \"subject\", \"support\", \"swear\", \"system\", \"take\", \"take\", \"tax\", \"temporary\", \"terminal\", \"territorial_jurisdiction\", \"town\", \"traffic\", \"traffic\", \"truck\", \"unit\", \"use\", \"use\", \"utility\", \"vehicle\", \"vehicular\", \"violation\", \"worker\", \"year\", \"year\"]}, \"R\": 30, \"lambda.step\": 0.01, \"plot.opts\": {\"xlab\": \"PC1\", \"ylab\": \"PC2\"}, \"topic.order\": [1, 5, 4, 2, 3]};\n",
       "\n",
       "function LDAvis_load_lib(url, callback){\n",
       "  var s = document.createElement('script');\n",
       "  s.src = url;\n",
       "  s.async = true;\n",
       "  s.onreadystatechange = s.onload = callback;\n",
       "  s.onerror = function(){console.warn(\"failed to load library \" + url);};\n",
       "  document.getElementsByTagName(\"head\")[0].appendChild(s);\n",
       "}\n",
       "\n",
       "if(typeof(LDAvis) !== \"undefined\"){\n",
       "   // already loaded: just create the visualization\n",
       "   !function(LDAvis){\n",
       "       new LDAvis(\"#\" + \"ldavis_el41361405487614843048956464462\", ldavis_el41361405487614843048956464462_data);\n",
       "   }(LDAvis);\n",
       "}else if(typeof define === \"function\" && define.amd){\n",
       "   // require.js is available: use it to load d3/LDAvis\n",
       "   require.config({paths: {d3: \"https://cdnjs.cloudflare.com/ajax/libs/d3/3.5.5/d3.min\"}});\n",
       "   require([\"d3\"], function(d3){\n",
       "      window.d3 = d3;\n",
       "      LDAvis_load_lib(\"https://cdn.rawgit.com/bmabey/pyLDAvis/files/ldavis.v1.0.0.js\", function(){\n",
       "        new LDAvis(\"#\" + \"ldavis_el41361405487614843048956464462\", ldavis_el41361405487614843048956464462_data);\n",
       "      });\n",
       "    });\n",
       "}else{\n",
       "    // require.js not available: dynamically load d3 & LDAvis\n",
       "    LDAvis_load_lib(\"https://cdnjs.cloudflare.com/ajax/libs/d3/3.5.5/d3.min.js\", function(){\n",
       "         LDAvis_load_lib(\"https://cdn.rawgit.com/bmabey/pyLDAvis/files/ldavis.v1.0.0.js\", function(){\n",
       "                 new LDAvis(\"#\" + \"ldavis_el41361405487614843048956464462\", ldavis_el41361405487614843048956464462_data);\n",
       "            })\n",
       "         });\n",
       "}\n",
       "</script>"
      ],
      "text/plain": [
       "PreparedData(topic_coordinates=              x         y  topics  cluster       Freq\n",
       "topic                                                \n",
       "0     -0.274419 -0.133751       1        1  28.676291\n",
       "4      0.181540 -0.180842       2        1  21.978090\n",
       "3      0.092216  0.035113       3        1  18.760288\n",
       "1     -0.057280  0.202265       4        1  15.680583\n",
       "2      0.057943  0.077215       5        1  14.904748, topic_info=              Term        Freq       Total Category  logprob  loglift\n",
       "16         penalty  110.000000  110.000000  Default  30.0000  30.0000\n",
       "22       violation   98.000000   98.000000  Default  29.0000  29.0000\n",
       "31         section   70.000000   70.000000  Default  28.0000  28.0000\n",
       "75         purpose   67.000000   67.000000  Default  27.0000  27.0000\n",
       "144         public   70.000000   70.000000  Default  26.0000  26.0000\n",
       "..             ...         ...         ...      ...      ...      ...\n",
       "23            fund   17.980775   73.050166   Topic5  -3.7077   0.5016\n",
       "365         market   12.960148   41.862617   Topic5  -4.0351   0.7310\n",
       "170          local    6.897465   14.320512   Topic5  -4.6658   1.1730\n",
       "123  establishment    8.943947   28.614627   Topic5  -4.4060   0.7405\n",
       "348           peso    6.607933   13.596512   Topic5  -4.7087   1.1819\n",
       "\n",
       "[215 rows x 6 columns], token_table=      Topic      Freq           Term\n",
       "term                                \n",
       "80        3  0.950996            act\n",
       "821       5  0.941292  administrator\n",
       "484       2  0.953174   agricultural\n",
       "374       5  0.832665      allowance\n",
       "203       4  0.902554          amend\n",
       "...     ...       ...            ...\n",
       "799       3  0.887218      vehicular\n",
       "22        1  0.997461      violation\n",
       "77        3  0.923708         worker\n",
       "55        2  0.853439           year\n",
       "55        4  0.100405           year\n",
       "\n",
       "[198 rows x 3 columns], R=30, lambda_step=0.01, plot_opts={'xlab': 'PC1', 'ylab': 'PC2'}, topic_order=[1, 5, 4, 2, 3])"
      ]
     },
     "execution_count": 53,
     "metadata": {},
     "output_type": "execute_result"
    }
   ],
   "source": [
    "# Visualize the topics\n",
    "pyLDAvis.enable_notebook()\n",
    "vis = pyLDAvis.gensim.prepare(lda_model, corpus, id2word)\n",
    "vis"
   ]
  },
  {
   "cell_type": "code",
   "execution_count": 54,
   "metadata": {},
   "outputs": [
    {
     "ename": "CalledProcessError",
     "evalue": "Command '/Users/root1/Documents/lda/mallet/bin/mallet import-file --preserve-case --keep-sequence --remove-stopwords --token-regex \"\\S+\" --input /var/folders/7k/y671ljdx4ms4bc3_h8csf0340000gn/T/8ca473_corpus.txt --output /var/folders/7k/y671ljdx4ms4bc3_h8csf0340000gn/T/8ca473_corpus.mallet' returned non-zero exit status 1.",
     "output_type": "error",
     "traceback": [
      "\u001b[0;31m---------------------------------------------------------------------------\u001b[0m",
      "\u001b[0;31mCalledProcessError\u001b[0m                        Traceback (most recent call last)",
      "\u001b[0;32m<ipython-input-54-2bd5e3eb5a96>\u001b[0m in \u001b[0;36m<module>\u001b[0;34m\u001b[0m\n\u001b[1;32m      1\u001b[0m \u001b[0mmallet_path\u001b[0m \u001b[0;34m=\u001b[0m \u001b[0;34m'/Users/root1/Documents/lda/mallet/bin/mallet'\u001b[0m \u001b[0;31m# update this path\u001b[0m\u001b[0;34m\u001b[0m\u001b[0;34m\u001b[0m\u001b[0m\n\u001b[0;32m----> 2\u001b[0;31m \u001b[0mldamallet\u001b[0m \u001b[0;34m=\u001b[0m \u001b[0mgensim\u001b[0m\u001b[0;34m.\u001b[0m\u001b[0mmodels\u001b[0m\u001b[0;34m.\u001b[0m\u001b[0mwrappers\u001b[0m\u001b[0;34m.\u001b[0m\u001b[0mLdaMallet\u001b[0m\u001b[0;34m(\u001b[0m\u001b[0mmallet_path\u001b[0m\u001b[0;34m,\u001b[0m \u001b[0mcorpus\u001b[0m\u001b[0;34m=\u001b[0m\u001b[0mcorpus\u001b[0m\u001b[0;34m,\u001b[0m \u001b[0mnum_topics\u001b[0m\u001b[0;34m=\u001b[0m\u001b[0;36m20\u001b[0m\u001b[0;34m,\u001b[0m \u001b[0mid2word\u001b[0m\u001b[0;34m=\u001b[0m\u001b[0mid2word\u001b[0m\u001b[0;34m)\u001b[0m\u001b[0;34m\u001b[0m\u001b[0;34m\u001b[0m\u001b[0m\n\u001b[0m",
      "\u001b[0;32m~/Documents/lda/myvenv/lib/python3.9/site-packages/gensim/models/wrappers/ldamallet.py\u001b[0m in \u001b[0;36m__init__\u001b[0;34m(self, mallet_path, corpus, num_topics, alpha, id2word, workers, prefix, optimize_interval, iterations, topic_threshold, random_seed)\u001b[0m\n\u001b[1;32m    129\u001b[0m         \u001b[0mself\u001b[0m\u001b[0;34m.\u001b[0m\u001b[0mrandom_seed\u001b[0m \u001b[0;34m=\u001b[0m \u001b[0mrandom_seed\u001b[0m\u001b[0;34m\u001b[0m\u001b[0;34m\u001b[0m\u001b[0m\n\u001b[1;32m    130\u001b[0m         \u001b[0;32mif\u001b[0m \u001b[0mcorpus\u001b[0m \u001b[0;32mis\u001b[0m \u001b[0;32mnot\u001b[0m \u001b[0;32mNone\u001b[0m\u001b[0;34m:\u001b[0m\u001b[0;34m\u001b[0m\u001b[0;34m\u001b[0m\u001b[0m\n\u001b[0;32m--> 131\u001b[0;31m             \u001b[0mself\u001b[0m\u001b[0;34m.\u001b[0m\u001b[0mtrain\u001b[0m\u001b[0;34m(\u001b[0m\u001b[0mcorpus\u001b[0m\u001b[0;34m)\u001b[0m\u001b[0;34m\u001b[0m\u001b[0;34m\u001b[0m\u001b[0m\n\u001b[0m\u001b[1;32m    132\u001b[0m \u001b[0;34m\u001b[0m\u001b[0m\n\u001b[1;32m    133\u001b[0m     \u001b[0;32mdef\u001b[0m \u001b[0mfinferencer\u001b[0m\u001b[0;34m(\u001b[0m\u001b[0mself\u001b[0m\u001b[0;34m)\u001b[0m\u001b[0;34m:\u001b[0m\u001b[0;34m\u001b[0m\u001b[0;34m\u001b[0m\u001b[0m\n",
      "\u001b[0;32m~/Documents/lda/myvenv/lib/python3.9/site-packages/gensim/models/wrappers/ldamallet.py\u001b[0m in \u001b[0;36mtrain\u001b[0;34m(self, corpus)\u001b[0m\n\u001b[1;32m    270\u001b[0m \u001b[0;34m\u001b[0m\u001b[0m\n\u001b[1;32m    271\u001b[0m         \"\"\"\n\u001b[0;32m--> 272\u001b[0;31m         \u001b[0mself\u001b[0m\u001b[0;34m.\u001b[0m\u001b[0mconvert_input\u001b[0m\u001b[0;34m(\u001b[0m\u001b[0mcorpus\u001b[0m\u001b[0;34m,\u001b[0m \u001b[0minfer\u001b[0m\u001b[0;34m=\u001b[0m\u001b[0;32mFalse\u001b[0m\u001b[0;34m)\u001b[0m\u001b[0;34m\u001b[0m\u001b[0;34m\u001b[0m\u001b[0m\n\u001b[0m\u001b[1;32m    273\u001b[0m         \u001b[0mcmd\u001b[0m \u001b[0;34m=\u001b[0m \u001b[0mself\u001b[0m\u001b[0;34m.\u001b[0m\u001b[0mmallet_path\u001b[0m \u001b[0;34m+\u001b[0m \u001b[0;34m' train-topics --input %s --num-topics %s  --alpha %s --optimize-interval %s '\u001b[0m\u001b[0;31m\\\u001b[0m\u001b[0;34m\u001b[0m\u001b[0;34m\u001b[0m\u001b[0m\n\u001b[1;32m    274\u001b[0m             \u001b[0;34m'--num-threads %s --output-state %s --output-doc-topics %s --output-topic-keys %s '\u001b[0m\u001b[0;31m\\\u001b[0m\u001b[0;34m\u001b[0m\u001b[0;34m\u001b[0m\u001b[0m\n",
      "\u001b[0;32m~/Documents/lda/myvenv/lib/python3.9/site-packages/gensim/models/wrappers/ldamallet.py\u001b[0m in \u001b[0;36mconvert_input\u001b[0;34m(self, corpus, infer, serialize_corpus)\u001b[0m\n\u001b[1;32m    259\u001b[0m             \u001b[0mcmd\u001b[0m \u001b[0;34m=\u001b[0m \u001b[0mcmd\u001b[0m \u001b[0;34m%\u001b[0m \u001b[0;34m(\u001b[0m\u001b[0mself\u001b[0m\u001b[0;34m.\u001b[0m\u001b[0mfcorpustxt\u001b[0m\u001b[0;34m(\u001b[0m\u001b[0;34m)\u001b[0m\u001b[0;34m,\u001b[0m \u001b[0mself\u001b[0m\u001b[0;34m.\u001b[0m\u001b[0mfcorpusmallet\u001b[0m\u001b[0;34m(\u001b[0m\u001b[0;34m)\u001b[0m\u001b[0;34m)\u001b[0m\u001b[0;34m\u001b[0m\u001b[0;34m\u001b[0m\u001b[0m\n\u001b[1;32m    260\u001b[0m         \u001b[0mlogger\u001b[0m\u001b[0;34m.\u001b[0m\u001b[0minfo\u001b[0m\u001b[0;34m(\u001b[0m\u001b[0;34m\"converting temporary corpus to MALLET format with %s\"\u001b[0m\u001b[0;34m,\u001b[0m \u001b[0mcmd\u001b[0m\u001b[0;34m)\u001b[0m\u001b[0;34m\u001b[0m\u001b[0;34m\u001b[0m\u001b[0m\n\u001b[0;32m--> 261\u001b[0;31m         \u001b[0mcheck_output\u001b[0m\u001b[0;34m(\u001b[0m\u001b[0margs\u001b[0m\u001b[0;34m=\u001b[0m\u001b[0mcmd\u001b[0m\u001b[0;34m,\u001b[0m \u001b[0mshell\u001b[0m\u001b[0;34m=\u001b[0m\u001b[0;32mTrue\u001b[0m\u001b[0;34m)\u001b[0m\u001b[0;34m\u001b[0m\u001b[0;34m\u001b[0m\u001b[0m\n\u001b[0m\u001b[1;32m    262\u001b[0m \u001b[0;34m\u001b[0m\u001b[0m\n\u001b[1;32m    263\u001b[0m     \u001b[0;32mdef\u001b[0m \u001b[0mtrain\u001b[0m\u001b[0;34m(\u001b[0m\u001b[0mself\u001b[0m\u001b[0;34m,\u001b[0m \u001b[0mcorpus\u001b[0m\u001b[0;34m)\u001b[0m\u001b[0;34m:\u001b[0m\u001b[0;34m\u001b[0m\u001b[0;34m\u001b[0m\u001b[0m\n",
      "\u001b[0;32m~/Documents/lda/myvenv/lib/python3.9/site-packages/gensim/utils.py\u001b[0m in \u001b[0;36mcheck_output\u001b[0;34m(stdout, *popenargs, **kwargs)\u001b[0m\n\u001b[1;32m   1930\u001b[0m             \u001b[0merror\u001b[0m \u001b[0;34m=\u001b[0m \u001b[0msubprocess\u001b[0m\u001b[0;34m.\u001b[0m\u001b[0mCalledProcessError\u001b[0m\u001b[0;34m(\u001b[0m\u001b[0mretcode\u001b[0m\u001b[0;34m,\u001b[0m \u001b[0mcmd\u001b[0m\u001b[0;34m)\u001b[0m\u001b[0;34m\u001b[0m\u001b[0;34m\u001b[0m\u001b[0m\n\u001b[1;32m   1931\u001b[0m             \u001b[0merror\u001b[0m\u001b[0;34m.\u001b[0m\u001b[0moutput\u001b[0m \u001b[0;34m=\u001b[0m \u001b[0moutput\u001b[0m\u001b[0;34m\u001b[0m\u001b[0;34m\u001b[0m\u001b[0m\n\u001b[0;32m-> 1932\u001b[0;31m             \u001b[0;32mraise\u001b[0m \u001b[0merror\u001b[0m\u001b[0;34m\u001b[0m\u001b[0;34m\u001b[0m\u001b[0m\n\u001b[0m\u001b[1;32m   1933\u001b[0m         \u001b[0;32mreturn\u001b[0m \u001b[0moutput\u001b[0m\u001b[0;34m\u001b[0m\u001b[0;34m\u001b[0m\u001b[0m\n\u001b[1;32m   1934\u001b[0m     \u001b[0;32mexcept\u001b[0m \u001b[0mKeyboardInterrupt\u001b[0m\u001b[0;34m:\u001b[0m\u001b[0;34m\u001b[0m\u001b[0;34m\u001b[0m\u001b[0m\n",
      "\u001b[0;31mCalledProcessError\u001b[0m: Command '/Users/root1/Documents/lda/mallet/bin/mallet import-file --preserve-case --keep-sequence --remove-stopwords --token-regex \"\\S+\" --input /var/folders/7k/y671ljdx4ms4bc3_h8csf0340000gn/T/8ca473_corpus.txt --output /var/folders/7k/y671ljdx4ms4bc3_h8csf0340000gn/T/8ca473_corpus.mallet' returned non-zero exit status 1."
     ]
    }
   ],
   "source": [
    "mallet_path = '/Users/root1/Documents/lda/mallet/bin/mallet' # update this path\n",
    "ldamallet = gensim.models.wrappers.LdaMallet(mallet_path, corpus=corpus, num_topics=20, id2word=id2word)"
   ]
  },
  {
   "cell_type": "code",
   "execution_count": null,
   "metadata": {},
   "outputs": [],
   "source": []
  },
  {
   "cell_type": "code",
   "execution_count": null,
   "metadata": {},
   "outputs": [],
   "source": []
  }
 ],
 "metadata": {
  "kernelspec": {
   "display_name": "Python 3",
   "language": "python",
   "name": "python3"
  },
  "language_info": {
   "codemirror_mode": {
    "name": "ipython",
    "version": 3
   },
   "file_extension": ".py",
   "mimetype": "text/x-python",
   "name": "python",
   "nbconvert_exporter": "python",
   "pygments_lexer": "ipython3",
   "version": "3.9.0"
  }
 },
 "nbformat": 4,
 "nbformat_minor": 4
}
