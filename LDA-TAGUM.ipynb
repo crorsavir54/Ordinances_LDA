{
 "cells": [
  {
   "cell_type": "code",
   "execution_count": 1,
   "metadata": {},
   "outputs": [],
   "source": [
    "import re\n",
    "import numpy as np\n",
    "import pandas as pd"
   ]
  },
  {
   "cell_type": "code",
   "execution_count": 2,
   "metadata": {},
   "outputs": [],
   "source": [
    "#Gensim\n",
    "import gensim\n",
    "import gensim.corpora as corpora\n",
    "from gensim.utils import simple_preprocess\n",
    "from gensim.models import CoherenceModel"
   ]
  },
  {
   "cell_type": "code",
   "execution_count": 3,
   "metadata": {},
   "outputs": [],
   "source": [
    "#spacy for lemmatization\n",
    "import spacy\n"
   ]
  },
  {
   "cell_type": "code",
   "execution_count": 4,
   "metadata": {},
   "outputs": [],
   "source": [
    "# Plotting tools\n",
    "import pyLDAvis\n",
    "import pyLDAvis.gensim_models\n",
    "import matplotlib.pyplot as plt\n",
    "%matplotlib inline"
   ]
  },
  {
   "cell_type": "code",
   "execution_count": 5,
   "metadata": {},
   "outputs": [],
   "source": [
    "# Remove deprecationWarning that I can't fix\n",
    "import warnings\n",
    "warnings.filterwarnings(\"ignore\", category=DeprecationWarning)\n",
    "from pprint import pprint"
   ]
  },
  {
   "cell_type": "code",
   "execution_count": 6,
   "metadata": {},
   "outputs": [],
   "source": [
    "# NLTK for removing stopwords\n",
    "from nltk.corpus import stopwords\n",
    "stop_words = stopwords.words('english')\n",
    "stop_words.extend(['tagum', 'city', 'davao','ordinance', 'thereof', 'section', 'municipal', 'municipality', 'government'])"
   ]
  },
  {
   "cell_type": "code",
   "execution_count": 7,
   "metadata": {},
   "outputs": [
    {
     "name": "stdout",
     "output_type": "stream",
     "text": [
      "                                     OR  \\\n",
      "0        CITY ORDINANCE No. 842, s-2018   \n",
      "1        CITY ORDINANCE NO. 825, s-2017   \n",
      "2        CITY ORDINANCE NO. 837, s-2018   \n",
      "3        CITY ORDINANCE NO. 844, s-2018   \n",
      "4        CITY ORDINANCE NO. 838, s-2018   \n",
      "..                                  ...   \n",
      "670  MUNICIPAL ORDINANCE NO. 05, s-1974   \n",
      "671  MUNICIPAL ORDINANCE NO. 04, s-1974   \n",
      "672  MUNICIPAL ORDINANCE NO. 01, s-1974   \n",
      "673    MUNICIPAL ORDINANCE NO. 03, 1973   \n",
      "674  MUNICIPAL ORDINANCE NO. 02, S-1973   \n",
      "\n",
      "                                                    OT  \n",
      "0    “AN ORDINANCE REGULATING THE PRACTICE OF TRADI...  \n",
      "1    “AN ORDINANCE RECONSTITUTING THE MEMBERS OF TH...  \n",
      "2    “AN ORDINANCE ESTABLISHING FUNERAL AND BURIAL ...  \n",
      "3    AN ORDINANCE AMENDING THE TITLE, SECTION 1, SE...  \n",
      "4    “AN ORDINANCE CREATING THE CITY HISTORICAL, CU...  \n",
      "..                                                 ...  \n",
      "670  “AN ORDINANCE AMENDING SECTION 10 OF MUNICIPAL...  \n",
      "671  “AN ORDINANCE REGULATING THE ELECTRICAL INSTAL...  \n",
      "672  “AN ORDINANCE PROHIBITING THE EMPLOYMENT OF “H...  \n",
      "673  “AN ORDINANCE REGULATING THE ESTABLISHMENT, OP...  \n",
      "674  “AN ORDINANCE PROHIBITING THE USE OF MUNICIPAL...  \n",
      "\n",
      "[675 rows x 2 columns]\n"
     ]
    },
    {
     "data": {
      "text/html": [
       "<div>\n",
       "<style scoped>\n",
       "    .dataframe tbody tr th:only-of-type {\n",
       "        vertical-align: middle;\n",
       "    }\n",
       "\n",
       "    .dataframe tbody tr th {\n",
       "        vertical-align: top;\n",
       "    }\n",
       "\n",
       "    .dataframe thead th {\n",
       "        text-align: right;\n",
       "    }\n",
       "</style>\n",
       "<table border=\"1\" class=\"dataframe\">\n",
       "  <thead>\n",
       "    <tr style=\"text-align: right;\">\n",
       "      <th></th>\n",
       "      <th>OR</th>\n",
       "      <th>OT</th>\n",
       "    </tr>\n",
       "  </thead>\n",
       "  <tbody>\n",
       "    <tr>\n",
       "      <th>0</th>\n",
       "      <td>CITY ORDINANCE No. 842, s-2018</td>\n",
       "      <td>“AN ORDINANCE REGULATING THE PRACTICE OF TRADI...</td>\n",
       "    </tr>\n",
       "    <tr>\n",
       "      <th>1</th>\n",
       "      <td>CITY ORDINANCE NO. 825, s-2017</td>\n",
       "      <td>“AN ORDINANCE RECONSTITUTING THE MEMBERS OF TH...</td>\n",
       "    </tr>\n",
       "    <tr>\n",
       "      <th>2</th>\n",
       "      <td>CITY ORDINANCE NO. 837, s-2018</td>\n",
       "      <td>“AN ORDINANCE ESTABLISHING FUNERAL AND BURIAL ...</td>\n",
       "    </tr>\n",
       "    <tr>\n",
       "      <th>3</th>\n",
       "      <td>CITY ORDINANCE NO. 844, s-2018</td>\n",
       "      <td>AN ORDINANCE AMENDING THE TITLE, SECTION 1, SE...</td>\n",
       "    </tr>\n",
       "    <tr>\n",
       "      <th>4</th>\n",
       "      <td>CITY ORDINANCE NO. 838, s-2018</td>\n",
       "      <td>“AN ORDINANCE CREATING THE CITY HISTORICAL, CU...</td>\n",
       "    </tr>\n",
       "  </tbody>\n",
       "</table>\n",
       "</div>"
      ],
      "text/plain": [
       "                               OR  \\\n",
       "0  CITY ORDINANCE No. 842, s-2018   \n",
       "1  CITY ORDINANCE NO. 825, s-2017   \n",
       "2  CITY ORDINANCE NO. 837, s-2018   \n",
       "3  CITY ORDINANCE NO. 844, s-2018   \n",
       "4  CITY ORDINANCE NO. 838, s-2018   \n",
       "\n",
       "                                                  OT  \n",
       "0  “AN ORDINANCE REGULATING THE PRACTICE OF TRADI...  \n",
       "1  “AN ORDINANCE RECONSTITUTING THE MEMBERS OF TH...  \n",
       "2  “AN ORDINANCE ESTABLISHING FUNERAL AND BURIAL ...  \n",
       "3  AN ORDINANCE AMENDING THE TITLE, SECTION 1, SE...  \n",
       "4  “AN ORDINANCE CREATING THE CITY HISTORICAL, CU...  "
      ]
     },
     "execution_count": 7,
     "metadata": {},
     "output_type": "execute_result"
    }
   ],
   "source": [
    "# Import CSV Ordinance Dataset\n",
    "df = pd.read_csv('ordinances/tagum_ordinances.csv', header = 0)\n",
    "print(df)\n",
    "df.head()"
   ]
  },
  {
   "cell_type": "code",
   "execution_count": 8,
   "metadata": {},
   "outputs": [
    {
     "name": "stdout",
     "output_type": "stream",
     "text": [
      "['“AN ORDINANCE REGULATING THE PRACTICE OF TRADITIONAL HOME BIRTH DELIVERY OR DELIVERIES ATTENDED BY A TRADITIONAL BIRTH ATTENDANT OR MANANABANG”.']\n"
     ]
    }
   ],
   "source": [
    "# List all ordinance titles\n",
    "# Convert to list\n",
    "data = list(df.OT) \n",
    "print(data[:1])"
   ]
  },
  {
   "cell_type": "code",
   "execution_count": 9,
   "metadata": {},
   "outputs": [
    {
     "name": "stdout",
     "output_type": "stream",
     "text": [
      "['“AN ORDINANCE THE PRACTICE OF TRADITIONAL HOME BIRTH DELIVERY OR DELIVERIES '\n",
      " 'ATTENDED BY A TRADITIONAL BIRTH ATTENDANT OR MANANABANG”.',\n",
      " '“AN ORDINANCE THE MEMBERS OF THE CITY TRICYCLE AND REGULATORY BOARD (CTFRB) '\n",
      " 'ITS FUNCTIONS AND PROCEDURES AND MOTORIZED TRICYCLE FOR HIRE (MTH), TRICYCLE '\n",
      " 'UTILITY VEHICLE (TUV) AND TRICYCLE UTILITY FOR HIRE (TUH) GUIDELINES, '\n",
      " 'REGULATIONS AND OPERATIONS, THE COLLECTION OF FEES, CHARGES,ADMINISTRATIVE '\n",
      " 'PROVISIONS AND PENALTIES FOR VIOLATION THEREOF”.',\n",
      " '“AN ORDINANCE FUNERAL AND BURIAL ASSISTANCE FOR INDIGENT TAGUMENYOS, ITS '\n",
      " 'MANAGEMENT, PROCEDURES AND GUIDELINES AND FUNDS THEREFOR”.',\n",
      " 'AN ORDINANCE THE TITLE, SECTION 1, SECTION 2 AND SECTION 3 OF CITY ORDINANCE '\n",
      " 'NO. 820, S-2017 “AN ORDINANCE INTO A LOAN AGREEMENT WITH THE DEVELOPMENT '\n",
      " 'BANK OF THE PHILIPPINES, IN THE AMOUNT OF SIX HUNDRED EIGHTY MILLION PESOS '\n",
      " '(P 680,000,000.00) TO FUND THE ACQUISITION OF HEAVY EQUIPMENT,ACQUISITION OF '\n",
      " 'SERVICE VEHICLES, ACQUISITION OF continue reading : CITY ORDINANCE NO. 844, '\n",
      " 's-2018',\n",
      " '“AN ORDINANCE THE CITY HISTORICAL, CULTURAL AND ARTS COUNCIL IN THE CITY OF '\n",
      " 'TAGUM”.']\n"
     ]
    }
   ],
   "source": [
    "# Remove qoutes\n",
    "data = [re.sub(\"\\'\", \"\", sent) for sent in data]\n",
    "data = [re.sub(\"\\\"\", \"\", sent) for sent in data]\n",
    "\n",
    "# Remove words ending with ING like amending, regulating\n",
    "# Implemtation to be improved / Seems to improve topics\n",
    "data = [re.sub('\\S*ING\\S*\\s?', '', sent) for sent in data]\n",
    "\n",
    "\n",
    "pprint(data[:5])"
   ]
  },
  {
   "cell_type": "code",
   "execution_count": 10,
   "metadata": {},
   "outputs": [
    {
     "name": "stdout",
     "output_type": "stream",
     "text": [
      "[['an',\n",
      "  'ordinance',\n",
      "  'the',\n",
      "  'practice',\n",
      "  'of',\n",
      "  'traditional',\n",
      "  'home',\n",
      "  'birth',\n",
      "  'delivery',\n",
      "  'or',\n",
      "  'deliveries',\n",
      "  'attended',\n",
      "  'by',\n",
      "  'traditional',\n",
      "  'birth',\n",
      "  'attendant',\n",
      "  'or',\n",
      "  'mananabang']]\n"
     ]
    }
   ],
   "source": [
    "#preprocess using gensim simple_preprocess and tokenize into words\n",
    "def sent_to_words(sentences):\n",
    "    for sentence in sentences:\n",
    "        yield(gensim.utils.simple_preprocess(str(sentence), deacc=True))  # deacc=True removes punctuations\n",
    "\n",
    "data_words = list(sent_to_words(data))\n",
    "\n",
    "pprint(data_words[:1])"
   ]
  },
  {
   "cell_type": "code",
   "execution_count": 11,
   "metadata": {},
   "outputs": [],
   "source": [
    "# Build the bigram and trigram models\n",
    "bigram = gensim.models.Phrases(data_words, min_count=5, threshold=100) # higher threshold fewer phrases.\n",
    "trigram = gensim.models.Phrases(bigram[data_words], threshold=100)  \n",
    "\n",
    "# Faster way to get a sentence clubbed as a trigram/bigram\n",
    "bigram_mod = gensim.models.phrases.Phraser(bigram)\n",
    "trigram_mod = gensim.models.phrases.Phraser(trigram)"
   ]
  },
  {
   "cell_type": "code",
   "execution_count": 12,
   "metadata": {},
   "outputs": [
    {
     "name": "stdout",
     "output_type": "stream",
     "text": [
      "['an',\n",
      " 'ordinance',\n",
      " 'the',\n",
      " 'practice',\n",
      " 'of',\n",
      " 'traditional',\n",
      " 'home',\n",
      " 'birth',\n",
      " 'delivery',\n",
      " 'or',\n",
      " 'deliveries',\n",
      " 'attended',\n",
      " 'by',\n",
      " 'traditional',\n",
      " 'birth',\n",
      " 'attendant',\n",
      " 'or',\n",
      " 'mananabang']\n"
     ]
    }
   ],
   "source": [
    "\n",
    "# See trigram example\n",
    "pprint(trigram_mod[bigram_mod[data_words[0]]])"
   ]
  },
  {
   "cell_type": "code",
   "execution_count": 13,
   "metadata": {},
   "outputs": [],
   "source": [
    "# Define functions for stopwords, bigrams, trigrams and lemmatization\n",
    "# Code snippets from Selva Prabhakaran | Topic Modeling with Gensim (Python)\n",
    "def remove_stopwords(texts):\n",
    "    return [[word for word in simple_preprocess(str(doc)) if word not in stop_words] for doc in texts]\n",
    "\n",
    "def make_bigrams(texts):\n",
    "    return [bigram_mod[doc] for doc in texts]\n",
    "\n",
    "def make_trigrams(texts):\n",
    "    return [trigram_mod[bigram_mod[doc]] for doc in texts]\n",
    "\n",
    "def lemmatization(texts, allowed_postags=['NOUN', 'ADJ', 'VERB', 'ADV']):\n",
    "    \"\"\"https://spacy.io/api/annotation\"\"\"\n",
    "    texts_out = []\n",
    "    for sent in texts:\n",
    "        doc = nlp(\" \".join(sent)) \n",
    "        texts_out.append([token.lemma_ for token in doc if token.pos_ in allowed_postags])\n",
    "    return texts_out\n",
    "\n",
    "from nltk.tokenize import sent_tokenize, word_tokenize\n",
    "from nltk.stem import PorterStemmer\n",
    "ps = PorterStemmer()\n",
    "\n",
    "def stemmer(texts):\n",
    "    new_list = []\n",
    "    temp = []\n",
    "    for lists in texts:\n",
    "        new_list.append(temp)\n",
    "        for word in lists:\n",
    "            temp.append(ps.stem(word))\n",
    "        temp = []\n",
    "    return new_list"
   ]
  },
  {
   "cell_type": "code",
   "execution_count": 14,
   "metadata": {},
   "outputs": [],
   "source": [
    "# Remove Stop Words and Form Bigrams\n",
    "data_words_nostops = remove_stopwords(data_words)\n",
    "\n",
    "data_words_bigrams = make_bigrams(data_words_nostops)\n",
    "\n",
    "# Initialize spacy 'en' model, keeping only tagger component (for efficiency)\n",
    "\n",
    "# nlp = spacy.load('en', disable=['parser', 'ner'])\n",
    "\n",
    "# # If stemming\n",
    "# # data_stemmed = stemmer(data_words_bigrams)\n",
    "\n",
    "# # Lematize keeping only noun, adj, vb, adv\n",
    "# data_lemmatized = lemmatization(data_words_bigrams, allowed_postags=['NOUN', 'ADJ', 'VERB', 'ADV'])\n",
    "\n",
    "# pprint(data_lemmatized[:1])"
   ]
  },
  {
   "cell_type": "code",
   "execution_count": 15,
   "metadata": {},
   "outputs": [
    {
     "name": "stdout",
     "output_type": "stream",
     "text": [
      "[[(0, 1), (1, 1), (2, 2), (3, 1), (4, 1), (5, 1), (6, 1), (7, 1), (8, 2)]]\n"
     ]
    }
   ],
   "source": [
    "# Create Dictionary\n",
    "id2word = corpora.Dictionary(data_words_nostops)\n",
    "\n",
    "# Create Corpus\n",
    "texts = data_words_nostops\n",
    "\n",
    "# Term Document Frequency\n",
    "corpus = [id2word.doc2bow(text) for text in texts]\n",
    "\n",
    "# View\n",
    "print(corpus[:1])"
   ]
  },
  {
   "cell_type": "code",
   "execution_count": 16,
   "metadata": {},
   "outputs": [
    {
     "data": {
      "text/plain": [
       "'attendant'"
      ]
     },
     "execution_count": 16,
     "metadata": {},
     "output_type": "execute_result"
    }
   ],
   "source": [
    "id2word[0]"
   ]
  },
  {
   "cell_type": "code",
   "execution_count": 17,
   "metadata": {},
   "outputs": [
    {
     "data": {
      "text/plain": [
       "[[('attendant', 1),\n",
       "  ('attended', 1),\n",
       "  ('birth', 2),\n",
       "  ('deliveries', 1),\n",
       "  ('delivery', 1),\n",
       "  ('home', 1),\n",
       "  ('mananabang', 1),\n",
       "  ('practice', 1),\n",
       "  ('traditional', 2)]]"
      ]
     },
     "execution_count": 17,
     "metadata": {},
     "output_type": "execute_result"
    }
   ],
   "source": [
    "# Human readable format of corpus (term-frequency)\n",
    "[[(id2word[id], freq) for id, freq in cp] for cp in corpus[:1]]"
   ]
  },
  {
   "cell_type": "code",
   "execution_count": 18,
   "metadata": {},
   "outputs": [],
   "source": [
    "# Build LDA model\n",
    "lda_model = gensim.models.ldamodel.LdaModel(corpus=corpus,\n",
    "                                           id2word=id2word,\n",
    "                                           num_topics=7, \n",
    "                                           random_state=123,\n",
    "                                           update_every=1,\n",
    "                                           chunksize=100,\n",
    "                                           passes=30,\n",
    "                                           alpha='auto',\n",
    "                                           per_word_topics=True)"
   ]
  },
  {
   "cell_type": "code",
   "execution_count": 19,
   "metadata": {},
   "outputs": [
    {
     "name": "stdout",
     "output_type": "stream",
     "text": [
      "[(0, '0.054*\"penalties\" + 0.037*\"violation\" + 0.027*\"public\" + 0.025*\"within\" + 0.024*\"operation\" + 0.022*\"violations\" + 0.021*\"fees\" + 0.015*\"use\" + 0.014*\"purpose\" + 0.012*\"streets\"'), (1, '0.060*\"office\" + 0.045*\"funds\" + 0.041*\"mayor\" + 0.029*\"duties\" + 0.017*\"guidelines\" + 0.015*\"roads\" + 0.014*\"implementation\" + 0.014*\"ord\" + 0.014*\"hon\" + 0.013*\"program\"'), (2, '0.041*\"pesos\" + 0.032*\"amount\" + 0.031*\"thousand\" + 0.020*\"hundred\" + 0.019*\"business\" + 0.019*\"ii\" + 0.018*\"fee\" + 0.018*\"five\" + 0.017*\"service\" + 0.015*\"augment\"'), (3, '0.036*\"market\" + 0.028*\"street\" + 0.027*\"public\" + 0.023*\"portion\" + 0.021*\"road\" + 0.015*\"barangay\" + 0.015*\"new\" + 0.013*\"along\" + 0.012*\"bonifacio\" + 0.011*\"national\"'), (4, '0.035*\"position\" + 0.020*\"legislative\" + 0.019*\"officer\" + 0.019*\"necessary\" + 0.017*\"establishments\" + 0.016*\"sangguniang\" + 0.016*\"salary\" + 0.013*\"provided\" + 0.013*\"violations\" + 0.012*\"department\"'), (5, '0.040*\"barangay\" + 0.029*\"lot\" + 0.028*\"school\" + 0.019*\"reading\" + 0.019*\"continue\" + 0.017*\"tct\" + 0.016*\"inside\" + 0.014*\"jurisdiction\" + 0.014*\"territorial\" + 0.014*\"health\"'), (6, '0.035*\"vehicles\" + 0.032*\"tax\" + 0.030*\"area\" + 0.022*\"code\" + 0.021*\"known\" + 0.020*\"otherwise\" + 0.020*\"series\" + 0.018*\"traffic\" + 0.016*\"meters\" + 0.015*\"purposes\"')]\n"
     ]
    }
   ],
   "source": [
    "print(lda_model.print_topics())\n",
    "doc_lda = lda_model[corpus]"
   ]
  },
  {
   "cell_type": "code",
   "execution_count": 20,
   "metadata": {},
   "outputs": [
    {
     "name": "stdout",
     "output_type": "stream",
     "text": [
      "\n",
      "Perplexity:  -7.140318826451622\n",
      "\n",
      "Coherence Score:  0.42367722504936145\n"
     ]
    }
   ],
   "source": [
    "# Compute Perplexity\n",
    "print('\\nPerplexity: ', lda_model.log_perplexity(corpus))  # a measure of how good the model is. lower the better.\n",
    "\n",
    "# Compute Coherence Score\n",
    "coherence_model_lda = CoherenceModel(model=lda_model, texts=texts, dictionary=id2word, coherence='c_v')\n",
    "coherence_lda = coherence_model_lda.get_coherence()\n",
    "print('\\nCoherence Score: ', coherence_lda)"
   ]
  },
  {
   "cell_type": "code",
   "execution_count": 21,
   "metadata": {},
   "outputs": [
    {
     "name": "stderr",
     "output_type": "stream",
     "text": [
      "/Users/coriv/Developer/Ordinances_LDA/Ordinances_LDA/lib/python3.8/site-packages/pyLDAvis/_prepare.py:246: FutureWarning: In a future version of pandas all arguments of DataFrame.drop except for the argument 'labels' will be keyword-only\n",
      "  default_term_info = default_term_info.sort_values(\n"
     ]
    },
    {
     "data": {
      "text/html": [
       "\n",
       "<link rel=\"stylesheet\" type=\"text/css\" href=\"https://cdn.jsdelivr.net/gh/bmabey/pyLDAvis@3.3.1/pyLDAvis/js/ldavis.v1.0.0.css\">\n",
       "\n",
       "\n",
       "<div id=\"ldavis_el148551172187041417021151\"></div>\n",
       "<script type=\"text/javascript\">\n",
       "\n",
       "var ldavis_el148551172187041417021151_data = {\"mdsDat\": {\"x\": [0.20418978990847442, 0.12096436964811477, 0.06529680686759669, -0.10710856218160565, -0.22713292577006572, -0.06469205662798447, 0.008482578155469855], \"y\": [-0.19946478289289293, 0.05216443373342355, 0.1772072479788946, 0.00521968533848641, -0.0615758216203673, -0.12567723221593577, 0.15212646967839183], \"topics\": [1, 2, 3, 4, 5, 6, 7], \"cluster\": [1, 1, 1, 1, 1, 1, 1], \"Freq\": [18.582372165831114, 15.246790415008407, 14.972339902483025, 14.797092545192548, 12.630165140392782, 12.112872301639412, 11.658367529452708]}, \"tinfo\": {\"Term\": [\"office\", \"penalties\", \"funds\", \"mayor\", \"violation\", \"pesos\", \"market\", \"public\", \"barangay\", \"position\", \"vehicles\", \"amount\", \"tax\", \"duties\", \"thousand\", \"street\", \"school\", \"lot\", \"area\", \"violations\", \"operation\", \"fees\", \"portion\", \"road\", \"within\", \"code\", \"hundred\", \"reading\", \"continue\", \"legislative\", \"violation\", \"fees\", \"purpose\", \"utility\", \"tricycle\", \"functions\", \"motorized\", \"private\", \"permit\", \"penalty\", \"garbage\", \"hire\", \"persons\", \"houses\", \"annual\", \"property\", \"collection\", \"maintenance\", \"charges\", \"operations\", \"operators\", \"authorized\", \"owners\", \"license\", \"disposal\", \"regulatory\", \"administrative\", \"procedures\", \"real\", \"mth\", \"operation\", \"penalties\", \"within\", \"streets\", \"violations\", \"use\", \"public\", \"poblacion\", \"management\", \"board\", \"regulations\", \"purposes\", \"market\", \"street\", \"portion\", \"road\", \"new\", \"along\", \"bonifacio\", \"national\", \"certain\", \"industrial\", \"magugpo\", \"sobrecarey\", \"temporary\", \"premises\", \"roxas\", \"clock\", \"powers\", \"per\", \"nino\", \"sto\", \"west\", \"agricultural\", \"quezon\", \"employment\", \"pioneer\", \"towards\", \"stalls\", \"canocotan\", \"organization\", \"way\", \"public\", \"rules\", \"barangay\", \"penalties\", \"purposes\", \"zone\", \"school\", \"continue\", \"reading\", \"tct\", \"inside\", \"jurisdiction\", \"territorial\", \"health\", \"located\", \"elementary\", \"psd\", \"workers\", \"students\", \"construction\", \"land\", \"lot\", \"magdum\", \"cad\", \"points\", \"parcel\", \"terminal\", \"site\", \"financial\", \"employees\", \"name\", \"officials\", \"registered\", \"death\", \"system\", \"embraced\", \"barangay\", \"medical\", \"revised\", \"square\", \"within\", \"office\", \"mayor\", \"duties\", \"roads\", \"implementation\", \"ord\", \"hon\", \"program\", \"two\", \"mun\", \"monthly\", \"del\", \"norte\", \"compensation\", \"avenue\", \"honorarium\", \"composition\", \"materials\", \"vice\", \"sec\", \"sections\", \"barangays\", \"province\", \"unit\", \"corn\", \"scholarship\", \"educational\", \"providing\", \"civil\", \"administrator\", \"funds\", \"policies\", \"guidelines\", \"establishment\", \"local\", \"barangay\", \"purposes\", \"pesos\", \"amount\", \"thousand\", \"hundred\", \"business\", \"ii\", \"fee\", \"five\", \"service\", \"augment\", \"appropriation\", \"year\", \"taken\", \"burial\", \"ten\", \"expenses\", \"six\", \"committee\", \"four\", \"oaths\", \"allowance\", \"twenty\", \"million\", \"philippines\", \"charge\", \"three\", \"war\", \"seven\", \"fund\", \"rendered\", \"assistance\", \"council\", \"every\", \"one\", \"funds\", \"jr\", \"development\", \"local\", \"position\", \"legislative\", \"officer\", \"necessary\", \"establishments\", \"sangguniang\", \"salary\", \"provided\", \"services\", \"commercial\", \"day\", \"staff\", \"vendors\", \"areas\", \"iii\", \"closed\", \"installation\", \"panlungsod\", \"grade\", \"sale\", \"suaybaguio\", \"resolution\", \"issuance\", \"positions\", \"years\", \"assistant\", \"amended\", \"documents\", \"rice\", \"honor\", \"department\", \"development\", \"violations\", \"penalties\", \"vehicles\", \"tax\", \"area\", \"code\", \"traffic\", \"residential\", \"rates\", \"article\", \"park\", \"covered\", \"high\", \"chapter\", \"economic\", \"passengers\", \"comprehensive\", \"buses\", \"center\", \"passenger\", \"part\", \"trucks\", \"rizal\", \"enterprise\", \"letter\", \"welfare\", \"trade\", \"highly\", \"children\", \"former\", \"iv\", \"protection\", \"otherwise\", \"series\", \"known\", \"meters\", \"zone\", \"purposes\", \"square\", \"owned\"], \"Freq\": [71.0, 98.0, 67.0, 48.0, 55.0, 42.0, 43.0, 72.0, 78.0, 33.0, 33.0, 32.0, 30.0, 34.0, 31.0, 34.0, 34.0, 36.0, 28.0, 44.0, 39.0, 31.0, 27.0, 26.0, 48.0, 21.0, 20.0, 22.0, 22.0, 19.0, 54.85252453201463, 31.17815086977285, 20.41192304615789, 18.202172450879246, 17.35279503784344, 16.00378224275503, 13.726840765580722, 12.925752181141956, 12.71461836654793, 12.261018343546025, 11.489475248714959, 11.39516405922186, 10.420515904683219, 9.29681927912672, 9.27793364454975, 8.898594131340282, 7.722569671661041, 7.63078491296171, 7.393156070419721, 7.380694944801395, 7.359102957605919, 7.163283705630166, 6.542094370188067, 6.464933903684342, 6.4096356491699025, 6.400490421211309, 6.381599997840525, 6.296410776450351, 6.111278059928008, 5.953870407250512, 35.267712375882645, 78.82997137717862, 36.36659826068703, 18.228115399311754, 31.659569680155684, 21.515485530178683, 40.185926763626576, 9.764219921788161, 11.07967763861946, 8.335583851948652, 10.247791637047243, 7.733674884516505, 43.068513956656986, 34.0371347546402, 27.15912197576599, 25.50183980511723, 18.219191945518457, 15.384910885776222, 14.156687662547478, 13.631025564134136, 13.30362158790093, 12.613842690801764, 11.840705392629896, 11.439147431716524, 11.4009040302251, 9.563581723640633, 9.206482025683387, 8.787605302520024, 8.828093396117422, 8.28301490744708, 7.8375184597441585, 7.8375184597441585, 7.60514315054397, 7.538930065894615, 7.204184672293559, 6.720646895906951, 6.6144177821916115, 6.214286679826223, 5.822433826817899, 5.757444405282078, 5.450545767214244, 5.296790251745267, 32.18030119584177, 10.75528253212387, 18.32801039773964, 11.24178628827741, 8.505117620940487, 7.303634243309236, 33.591797214931184, 22.309845867793697, 22.309845867793697, 19.788574341986326, 19.317314550138235, 16.895099764880595, 16.895099764880595, 16.84703761163481, 15.272127599107334, 13.180174341184568, 12.852437352944879, 12.819433138345886, 12.643619385114297, 11.937934641111177, 11.171272907399343, 34.514583501769785, 10.09767021404677, 9.64902433942993, 9.121079825544355, 8.640340334272901, 8.579936602349994, 8.496493970741167, 7.820648396908096, 7.77056054908266, 7.692127308586728, 7.6851660849550445, 7.561280667766977, 7.411880318225833, 7.232080769754661, 7.135546914671887, 47.54679890601887, 15.276475538928914, 12.285390594763793, 9.892388805787087, 8.576136564681388, 70.74563157891315, 47.92115781613889, 33.784855966959604, 17.43539119797486, 16.93526554574494, 16.195369173609365, 15.876976851176202, 15.346679251954868, 14.157592067507348, 13.931261608248288, 13.602583171939925, 12.798404308039633, 12.798404308039633, 12.189474211137863, 11.408084738607931, 10.959095486625074, 10.404488622200532, 9.738260916073385, 9.688594271955719, 9.572375675719341, 8.64745563760407, 8.691262323721762, 8.544747575750641, 7.716720311615811, 7.435759376567077, 7.207576741311, 7.10116378270589, 6.952927600572836, 6.601081166330016, 5.898021850986886, 53.17690114139771, 10.327079650193422, 20.18156678911023, 11.103860473036658, 10.792475912963976, 11.921140758327619, 8.424639409920527, 41.37467014311767, 31.534509101849444, 30.51573579261785, 20.16043999146631, 19.028250176456275, 18.696346152838927, 18.444614294747083, 17.77215386579276, 16.92191042758381, 14.55715796181965, 13.43819036986311, 12.57947217299004, 11.12589715311059, 9.468455503762392, 9.448267853034778, 9.39375803419384, 7.977313672624756, 7.027023815909846, 6.810387390699153, 6.68736761537775, 6.618485208458901, 6.3339735269530015, 6.288000309358338, 5.414717486915409, 5.446479465123946, 5.240028001713917, 5.085994868915307, 5.092302812294955, 5.068738928567222, 5.0432769890473805, 9.17665988203519, 9.381631308309924, 14.46354038196672, 11.882819669868214, 14.079994547378526, 6.103575499776801, 8.683260232378782, 6.187499138631729, 33.18918347589522, 19.11989707332308, 18.634032014165594, 18.16377477069342, 16.2689235152338, 15.430853379196744, 15.229011323003926, 12.920544033131721, 11.491705587153056, 11.505163091774524, 10.894370400246252, 10.704631982148596, 10.811722110879023, 10.3289090485944, 9.690697438345355, 9.338995379068445, 8.996552767931243, 8.95349660164415, 8.683616063440738, 8.451448467308948, 8.517194830101758, 8.203937050545726, 8.112528763140718, 8.044152260436139, 7.686710984362944, 7.0322877589303605, 6.766506725001093, 6.714984879486287, 6.789859584767047, 6.678556237676768, 11.750158528649274, 10.49412714231284, 12.407765748481662, 7.837428079496955, 32.45932905498087, 29.66583341188177, 27.703795247667966, 20.452597955313745, 16.706538657587316, 13.461015556942431, 13.024372520383364, 12.215062873541289, 11.836447483131172, 10.525515750771655, 9.163480305958025, 8.850724692992634, 8.700334724284344, 8.133962785233338, 7.994906401520457, 7.72990756107908, 7.520722527833147, 6.712426663001188, 6.646921408816563, 6.383140651925022, 6.307508736967024, 6.20542749830392, 5.832885786651285, 5.543448447533336, 5.412483434885115, 5.394813068519102, 5.376464558386795, 4.707690335395984, 4.559033925340897, 4.118782133853351, 18.713427018638214, 18.2581384621454, 19.765480372649613, 14.399615458852933, 9.78322730987531, 13.593974655627488, 9.029205265002426, 6.827276747896716], \"Total\": [71.0, 98.0, 67.0, 48.0, 55.0, 42.0, 43.0, 72.0, 78.0, 33.0, 33.0, 32.0, 30.0, 34.0, 31.0, 34.0, 34.0, 36.0, 28.0, 44.0, 39.0, 31.0, 27.0, 26.0, 48.0, 21.0, 20.0, 22.0, 22.0, 19.0, 55.56240115584852, 31.88958754534664, 21.131606305275326, 18.913039961239885, 18.061607831024755, 16.715050713679666, 14.436097819471286, 13.636584646342603, 13.423869369818657, 12.971774089703619, 12.198741416679058, 12.104133718991486, 11.130795796999708, 10.006626648678235, 9.988042976207819, 9.610104451933465, 8.43132923968347, 8.341545972060796, 8.102641816458647, 8.090792907409732, 8.06904799988791, 7.889406015445657, 7.251325329200937, 7.175076077079921, 7.11859319709639, 7.109463974533615, 7.091412819880752, 7.006810420741714, 6.824990595563854, 6.662846419264269, 39.873568086770575, 98.39303586257822, 48.87054856086494, 23.59531934582772, 44.660799727545516, 29.297906985850148, 72.96832497827019, 13.0580771815728, 15.763019344779124, 10.371276235777227, 26.61666680124771, 38.621460325944184, 43.77577315958698, 34.743335392884426, 27.868526467876574, 26.20916786459442, 18.92743241994096, 16.091844117681394, 14.863122318183471, 14.339263558758852, 14.011905558654883, 13.321391686140052, 12.546708347408632, 12.145436742318175, 12.107957327023527, 10.270999158753591, 9.913438139268319, 9.493919012919756, 9.539573177059907, 8.995055751438153, 8.543461772432972, 8.543461772432972, 8.311080993541077, 8.250713532284857, 7.9106774190483105, 7.432567402112131, 7.320597131756166, 6.923789555089271, 6.528676246445542, 6.465153521218941, 6.158837829579341, 6.003221916145317, 72.96832497827019, 16.087564687955062, 78.24453543243989, 98.39303586257822, 38.621460325944184, 17.681380775087206, 34.27545242187807, 22.99451775417318, 22.99451775417318, 20.471587535556242, 20.008806699093405, 17.579036441878593, 17.579036441878593, 17.531376546522022, 15.955346232750747, 13.862976304072246, 13.535329937186729, 13.503267682984648, 13.328409265829944, 12.622816162139136, 11.8572901493727, 36.74143221020019, 10.782323367169921, 10.33251542179768, 9.803577187867004, 9.322961046402877, 9.268058676428911, 9.181569854427897, 8.504229302027122, 8.455833048394815, 8.374876473846667, 8.3685186790492, 8.246333444445087, 8.095609083498791, 7.923027305263777, 7.818143152494651, 78.24453543243989, 20.110297697155058, 16.106681337124648, 19.493165205162672, 48.87054856086494, 71.4355038235631, 48.61170070486546, 34.47432571115767, 18.132898458784002, 17.623502474907113, 16.884949187457085, 16.56703023715824, 16.034866308353685, 14.851858836892001, 14.620667683247122, 14.292330573700324, 13.487449370780825, 13.487449370780825, 12.878329171909034, 12.106689914495623, 11.648535536908707, 11.093341521176109, 10.430675670059752, 10.378236276674645, 10.261320949071525, 9.336717885784024, 9.384988910543488, 9.234480863498662, 8.408029781233811, 8.131247039925864, 7.895639828133488, 7.789156368716588, 7.648741193061943, 7.289754548833662, 6.589325895484125, 67.83287014144388, 13.462631300175431, 36.52482386010649, 17.894754576168864, 17.557863846877808, 78.24453543243989, 38.621460325944184, 42.07598051628342, 32.23603363890982, 31.217559263416643, 20.86265788289832, 19.73797968646596, 19.401050089256042, 19.150017746499795, 18.474433543307793, 17.628912689684928, 15.25870525662529, 14.140316349620752, 13.281503538406833, 11.827416053999356, 10.17096570930056, 10.151157909971031, 10.095982271084953, 8.681057345008304, 7.730899892149236, 7.513741046869962, 7.3891222055395485, 7.31976961328417, 7.035545032583558, 6.989320090944891, 6.118670735520218, 6.157017898981244, 5.941463410034569, 5.787038855134955, 5.794360725076814, 5.77202777362368, 5.745173463138715, 11.796877721626537, 12.3007378872957, 22.672058927132483, 21.812501818678246, 67.83287014144388, 8.76687357374669, 27.195609630083133, 17.557863846877808, 33.88735176632715, 19.81844031874628, 19.3321078818797, 18.862952250677672, 16.970102667976036, 16.128363523771096, 15.927044751545187, 13.621818954127232, 12.19155957475327, 12.206471547386588, 11.593115543497355, 11.402627090716486, 11.519952826143763, 11.03476010159917, 10.38815534543515, 10.042050439802637, 9.694399145921643, 9.650732929497911, 9.380961399507232, 9.149832421671556, 9.22731228142245, 8.904092512768075, 8.815143116903867, 8.743160587554828, 8.388237324246617, 7.7315801783967455, 7.465842263497516, 7.413748775643, 7.497555799827911, 7.390417139660326, 18.42097944038238, 27.195609630083133, 44.660799727545516, 98.39303586257822, 33.16635811555774, 30.369512976827362, 28.40778708394079, 21.155691369518127, 17.415928750492697, 14.165488077237113, 13.729655582107485, 12.918088331180654, 12.542027162767038, 11.229218026664638, 9.867380086666417, 9.55307612267462, 9.403746694498498, 8.840562845935418, 8.698197394620363, 8.433042739898884, 8.225314941714764, 7.415800042018286, 7.358581860134057, 7.0877248470857035, 7.016044030708963, 6.9092356889812425, 6.536921910518042, 6.2476621010685385, 6.115760420919717, 6.09917236467949, 6.083606670530989, 5.419250830008074, 5.264077067553652, 4.821478548701648, 23.15150245625811, 25.14891444552474, 29.545073001555245, 21.134379325787837, 17.681380775087206, 38.621460325944184, 19.493165205162672, 13.198213765460906], \"Category\": [\"Default\", \"Default\", \"Default\", \"Default\", \"Default\", \"Default\", \"Default\", \"Default\", \"Default\", \"Default\", \"Default\", \"Default\", \"Default\", \"Default\", \"Default\", \"Default\", \"Default\", \"Default\", \"Default\", \"Default\", \"Default\", \"Default\", \"Default\", \"Default\", \"Default\", \"Default\", \"Default\", \"Default\", \"Default\", \"Default\", \"Topic1\", \"Topic1\", \"Topic1\", \"Topic1\", \"Topic1\", \"Topic1\", \"Topic1\", \"Topic1\", \"Topic1\", \"Topic1\", \"Topic1\", \"Topic1\", \"Topic1\", \"Topic1\", \"Topic1\", \"Topic1\", \"Topic1\", \"Topic1\", \"Topic1\", \"Topic1\", \"Topic1\", \"Topic1\", \"Topic1\", \"Topic1\", \"Topic1\", \"Topic1\", \"Topic1\", \"Topic1\", \"Topic1\", \"Topic1\", \"Topic1\", \"Topic1\", \"Topic1\", \"Topic1\", \"Topic1\", \"Topic1\", \"Topic1\", \"Topic1\", \"Topic1\", \"Topic1\", \"Topic1\", \"Topic1\", \"Topic2\", \"Topic2\", \"Topic2\", \"Topic2\", \"Topic2\", \"Topic2\", \"Topic2\", \"Topic2\", \"Topic2\", \"Topic2\", \"Topic2\", \"Topic2\", \"Topic2\", \"Topic2\", \"Topic2\", \"Topic2\", \"Topic2\", \"Topic2\", \"Topic2\", \"Topic2\", \"Topic2\", \"Topic2\", \"Topic2\", \"Topic2\", \"Topic2\", \"Topic2\", \"Topic2\", \"Topic2\", \"Topic2\", \"Topic2\", \"Topic2\", \"Topic2\", \"Topic2\", \"Topic2\", \"Topic2\", \"Topic2\", \"Topic3\", \"Topic3\", \"Topic3\", \"Topic3\", \"Topic3\", \"Topic3\", \"Topic3\", \"Topic3\", \"Topic3\", \"Topic3\", \"Topic3\", \"Topic3\", \"Topic3\", \"Topic3\", \"Topic3\", \"Topic3\", \"Topic3\", \"Topic3\", \"Topic3\", \"Topic3\", \"Topic3\", \"Topic3\", \"Topic3\", \"Topic3\", \"Topic3\", \"Topic3\", \"Topic3\", \"Topic3\", \"Topic3\", \"Topic3\", \"Topic3\", \"Topic3\", \"Topic3\", \"Topic3\", \"Topic3\", \"Topic4\", \"Topic4\", \"Topic4\", \"Topic4\", \"Topic4\", \"Topic4\", \"Topic4\", \"Topic4\", \"Topic4\", \"Topic4\", \"Topic4\", \"Topic4\", \"Topic4\", \"Topic4\", \"Topic4\", \"Topic4\", \"Topic4\", \"Topic4\", \"Topic4\", \"Topic4\", \"Topic4\", \"Topic4\", \"Topic4\", \"Topic4\", \"Topic4\", \"Topic4\", \"Topic4\", \"Topic4\", \"Topic4\", \"Topic4\", \"Topic4\", \"Topic4\", \"Topic4\", \"Topic4\", \"Topic4\", \"Topic4\", \"Topic4\", \"Topic5\", \"Topic5\", \"Topic5\", \"Topic5\", \"Topic5\", \"Topic5\", \"Topic5\", \"Topic5\", \"Topic5\", \"Topic5\", \"Topic5\", \"Topic5\", \"Topic5\", \"Topic5\", \"Topic5\", \"Topic5\", \"Topic5\", \"Topic5\", \"Topic5\", \"Topic5\", \"Topic5\", \"Topic5\", \"Topic5\", \"Topic5\", \"Topic5\", \"Topic5\", \"Topic5\", \"Topic5\", \"Topic5\", \"Topic5\", \"Topic5\", \"Topic5\", \"Topic5\", \"Topic5\", \"Topic5\", \"Topic5\", \"Topic5\", \"Topic5\", \"Topic6\", \"Topic6\", \"Topic6\", \"Topic6\", \"Topic6\", \"Topic6\", \"Topic6\", \"Topic6\", \"Topic6\", \"Topic6\", \"Topic6\", \"Topic6\", \"Topic6\", \"Topic6\", \"Topic6\", \"Topic6\", \"Topic6\", \"Topic6\", \"Topic6\", \"Topic6\", \"Topic6\", \"Topic6\", \"Topic6\", \"Topic6\", \"Topic6\", \"Topic6\", \"Topic6\", \"Topic6\", \"Topic6\", \"Topic6\", \"Topic6\", \"Topic6\", \"Topic6\", \"Topic6\", \"Topic7\", \"Topic7\", \"Topic7\", \"Topic7\", \"Topic7\", \"Topic7\", \"Topic7\", \"Topic7\", \"Topic7\", \"Topic7\", \"Topic7\", \"Topic7\", \"Topic7\", \"Topic7\", \"Topic7\", \"Topic7\", \"Topic7\", \"Topic7\", \"Topic7\", \"Topic7\", \"Topic7\", \"Topic7\", \"Topic7\", \"Topic7\", \"Topic7\", \"Topic7\", \"Topic7\", \"Topic7\", \"Topic7\", \"Topic7\", \"Topic7\", \"Topic7\", \"Topic7\", \"Topic7\", \"Topic7\", \"Topic7\", \"Topic7\", \"Topic7\"], \"logprob\": [30.0, 29.0, 28.0, 27.0, 26.0, 25.0, 24.0, 23.0, 22.0, 21.0, 20.0, 19.0, 18.0, 17.0, 16.0, 15.0, 14.0, 13.0, 12.0, 11.0, 10.0, 9.0, 8.0, 7.0, 6.0, 5.0, 4.0, 3.0, 2.0, 1.0, -3.2878, -3.8527, -4.2763, -4.3909, -4.4387, -4.5196, -4.6731, -4.7332, -4.7497, -4.786, -4.851, -4.8592, -4.9486, -5.0627, -5.0648, -5.1065, -5.2483, -5.2602, -5.2919, -5.2936, -5.2965, -5.3235, -5.4142, -5.426, -5.4346, -5.436, -5.439, -5.4524, -5.4823, -5.5084, -3.7295, -2.9251, -3.6988, -4.3895, -3.8374, -4.2236, -3.5989, -5.0137, -4.8873, -5.1719, -4.9654, -5.2468, -3.3318, -3.5671, -3.7929, -3.8558, -4.1921, -4.3612, -4.4444, -4.4822, -4.5065, -4.5598, -4.623, -4.6575, -4.6609, -4.8366, -4.8747, -4.9212, -4.9166, -4.9804, -5.0357, -5.0357, -5.0658, -5.0745, -5.1199, -5.1894, -5.2053, -5.2677, -5.3329, -5.3441, -5.3989, -5.4275, -3.6232, -4.7192, -4.1861, -4.6749, -4.9539, -5.1062, -3.5621, -3.9714, -3.9714, -4.0913, -4.1154, -4.2494, -4.2494, -4.2522, -4.3504, -4.4977, -4.5229, -4.5254, -4.5393, -4.5967, -4.6631, -3.535, -4.7641, -4.8096, -4.8658, -4.92, -4.927, -4.9368, -5.0196, -5.0261, -5.0362, -5.0371, -5.0534, -5.0733, -5.0979, -5.1113, -3.2147, -4.3501, -4.568, -4.7846, -4.9274, -2.8055, -3.1951, -3.5446, -4.2061, -4.2352, -4.2799, -4.2998, -4.3337, -4.4144, -4.4305, -4.4544, -4.5153, -4.5153, -4.5641, -4.6303, -4.6705, -4.7224, -4.7886, -4.7937, -4.8058, -4.9074, -4.9023, -4.9193, -5.0212, -5.0583, -5.0895, -5.1044, -5.1255, -5.1774, -5.29, -3.091, -4.7299, -4.0599, -4.6573, -4.6858, -4.5863, -4.9335, -3.1836, -3.4552, -3.4881, -3.9026, -3.9604, -3.978, -3.9915, -4.0287, -4.0777, -4.2282, -4.3082, -4.3742, -4.497, -4.6583, -4.6605, -4.6662, -4.8297, -4.9565, -4.9878, -5.0061, -5.0164, -5.0604, -5.0677, -5.2172, -5.2113, -5.25, -5.2798, -5.2786, -5.2832, -5.2882, -4.6896, -4.6675, -4.2347, -4.4312, -4.2615, -5.0974, -4.7449, -5.0838, -3.3623, -3.9137, -3.9395, -3.965, -4.0752, -4.1281, -4.1413, -4.3057, -4.4229, -4.4217, -4.4762, -4.4938, -4.4838, -4.5295, -4.5933, -4.6303, -4.6676, -4.6724, -4.703, -4.7301, -4.7224, -4.7599, -4.7711, -4.7795, -4.825, -4.914, -4.9525, -4.9601, -4.949, -4.9656, -4.4006, -4.5137, -4.3462, -4.8056, -3.3462, -3.4362, -3.5047, -3.8081, -4.0104, -4.2264, -4.2594, -4.3236, -4.355, -4.4724, -4.611, -4.6457, -4.6629, -4.7302, -4.7474, -4.7811, -4.8086, -4.9223, -4.9321, -4.9726, -4.9845, -5.0008, -5.0627, -5.1136, -5.1375, -5.1408, -5.1442, -5.277, -5.3091, -5.4107, -3.897, -3.9216, -3.8423, -4.159, -4.5456, -4.2166, -4.6258, -4.9053], \"loglift\": [30.0, 29.0, 28.0, 27.0, 26.0, 25.0, 24.0, 23.0, 22.0, 21.0, 20.0, 19.0, 18.0, 17.0, 16.0, 15.0, 14.0, 13.0, 12.0, 11.0, 10.0, 9.0, 8.0, 7.0, 6.0, 5.0, 4.0, 3.0, 2.0, 1.0, 1.6701, 1.6604, 1.6483, 1.6446, 1.6429, 1.6395, 1.6326, 1.6294, 1.6287, 1.6266, 1.6231, 1.6226, 1.617, 1.6094, 1.6092, 1.606, 1.5951, 1.5939, 1.5913, 1.5911, 1.5909, 1.5864, 1.58, 1.5787, 1.578, 1.5779, 1.5775, 1.5761, 1.5725, 1.5705, 1.5602, 1.4613, 1.3874, 1.4249, 1.3389, 1.3742, 1.0864, 1.3923, 1.3304, 1.4645, 0.7285, 0.0747, 1.8645, 1.8603, 1.855, 1.8534, 1.8427, 1.8359, 1.8321, 1.8301, 1.8289, 1.8262, 1.8229, 1.8209, 1.8206, 1.8094, 1.8068, 1.8035, 1.8033, 1.7983, 1.7946, 1.7946, 1.792, 1.7906, 1.7872, 1.7801, 1.7794, 1.7727, 1.7663, 1.7649, 1.7586, 1.7556, 1.0621, 1.4782, 0.4294, -0.2885, 0.3677, 0.9967, 1.8788, 1.8687, 1.8687, 1.865, 1.8638, 1.8593, 1.8593, 1.8591, 1.8552, 1.8485, 1.8472, 1.847, 1.8462, 1.8432, 1.8394, 1.8364, 1.8334, 1.8305, 1.8268, 1.8229, 1.8218, 1.8214, 1.8152, 1.8145, 1.8139, 1.8138, 1.8122, 1.8107, 1.8077, 1.8076, 1.4008, 1.624, 1.6281, 1.2207, 0.1588, 1.901, 1.8964, 1.8905, 1.8715, 1.8709, 1.869, 1.8682, 1.8669, 1.8629, 1.8624, 1.8613, 1.8583, 1.8583, 1.8558, 1.8513, 1.8497, 1.8466, 1.8421, 1.842, 1.8412, 1.834, 1.8339, 1.8331, 1.8249, 1.8213, 1.8196, 1.8183, 1.8154, 1.8115, 1.7999, 1.6673, 1.6456, 1.3175, 1.4335, 1.4241, 0.0292, 0.3881, 2.0523, 2.0471, 2.0463, 2.0348, 2.0325, 2.0321, 2.0316, 2.0303, 2.0282, 2.022, 2.0182, 2.0148, 2.0079, 1.9975, 1.9973, 1.997, 1.9845, 1.9736, 1.9708, 1.9693, 1.9684, 1.964, 1.9633, 1.9469, 1.9465, 1.9435, 1.94, 1.9399, 1.9392, 1.9388, 1.8179, 1.7982, 1.6196, 1.4617, 0.4968, 1.707, 0.9274, 1.0261, 2.0901, 2.075, 2.0741, 2.0731, 2.0687, 2.0667, 2.0661, 2.058, 2.0518, 2.0517, 2.0487, 2.0477, 2.0475, 2.0448, 2.0414, 2.0383, 2.0362, 2.0359, 2.0337, 2.0315, 2.0308, 2.029, 2.0278, 2.0276, 2.0236, 2.0161, 2.0125, 2.0119, 2.0118, 2.0096, 1.6613, 1.1587, 0.8301, -0.4192, 2.1276, 2.1257, 2.1241, 2.1153, 2.1076, 2.0981, 2.0964, 2.0932, 2.0912, 2.0844, 2.0751, 2.0728, 2.0714, 2.0658, 2.0648, 2.0621, 2.0596, 2.0495, 2.0474, 2.0444, 2.0427, 2.0417, 2.0352, 2.0296, 2.027, 2.0264, 2.0256, 2.0084, 2.0054, 1.9916, 1.9363, 1.8289, 1.7472, 1.7654, 1.5573, 1.105, 1.3795, 1.49]}, \"token.table\": {\"Topic\": [1, 4, 2, 5, 2, 6, 5, 1, 5, 7, 6, 7, 1, 5, 6, 5, 1, 4, 2, 3, 4, 4, 1, 3, 2, 5, 7, 5, 3, 2, 7, 2, 7, 5, 1, 7, 4, 2, 6, 7, 1, 6, 5, 4, 4, 7, 3, 3, 4, 5, 7, 7, 6, 3, 4, 4, 6, 1, 4, 5, 6, 1, 6, 4, 7, 4, 3, 3, 3, 2, 7, 3, 4, 6, 2, 4, 5, 5, 5, 1, 3, 5, 7, 5, 1, 5, 4, 5, 1, 6, 1, 2, 3, 4, 3, 7, 7, 1, 4, 6, 4, 1, 5, 5, 6, 4, 2, 3, 6, 6, 7, 4, 5, 3, 2, 3, 7, 3, 6, 7, 1, 4, 5, 3, 3, 7, 3, 2, 1, 1, 4, 2, 4, 4, 1, 3, 3, 7, 5, 4, 1, 1, 4, 3, 2, 6, 2, 2, 4, 5, 4, 6, 3, 2, 4, 5, 6, 1, 4, 1, 1, 4, 2, 3, 7, 3, 7, 1, 6, 3, 7, 7, 7, 7, 1, 2, 6, 1, 2, 1, 1, 5, 5, 2, 1, 2, 3, 2, 4, 2, 6, 6, 2, 2, 1, 1, 4, 1, 7, 6, 4, 4, 3, 1, 2, 1, 1, 2, 4, 7, 2, 7, 3, 1, 3, 1, 2, 3, 4, 1, 5, 7, 6, 3, 4, 6, 7, 2, 4, 2, 2, 4, 6, 6, 6, 4, 3, 4, 4, 6, 7, 5, 6, 5, 3, 5, 2, 3, 7, 6, 2, 2, 2, 1, 7, 3, 6, 3, 5, 7, 3, 2, 5, 3, 3, 5, 5, 2, 7, 7, 1, 7, 5, 4, 4, 1, 3, 1, 7, 6, 4, 1, 1, 6, 5, 2, 7, 2, 1, 3, 4, 3, 5, 6, 2, 7], \"Freq\": [0.8460937407534674, 0.9105635531112509, 0.9696131090597412, 0.9563142516529699, 0.9321492235634015, 0.937603521872523, 0.9926779565515493, 0.9010774204154505, 0.9193570835739233, 0.9856452358384749, 0.9062272226970107, 0.9289300159866034, 0.16953638472775853, 0.7629137312749134, 0.905377663877703, 0.9830453991820203, 0.8872657822776007, 0.9085885636526828, 0.230048014222566, 0.613461371260176, 0.153365342815044, 0.9589782242458512, 0.7713611920202101, 0.09642014900252627, 0.9419286002156134, 0.8848717277426467, 0.9486492890816208, 0.962611184214969, 0.9678185409628135, 0.9280522079340754, 0.9726071350080375, 0.9277824451200466, 0.9421049182930856, 0.8120814462513277, 0.8639157645820053, 0.821880879350734, 0.9602518100036684, 0.9479752236934391, 0.8962313079336498, 0.9453720821819471, 0.9488420832087371, 0.9830850752746157, 0.9054573332541185, 0.9317978939515774, 0.9014416423501407, 0.9197307944457339, 0.9506594919755538, 0.956749788588513, 0.8608765624299397, 0.7316634239719287, 0.16259187199376193, 0.9795873562949493, 0.9488389862697404, 0.86466625646093, 0.9638590398094963, 0.32571557985927885, 0.6514311597185577, 0.11031192316724063, 0.1838532052787344, 0.3309357695017219, 0.3677064105574688, 0.8428631660603033, 0.9441916919275276, 0.9862411895991297, 0.9570653370815801, 0.898685257894416, 0.9377495650902363, 0.8953532652783937, 0.9460924729963363, 0.9418010791278923, 0.8684028552635309, 0.3352937853638089, 0.614705273166983, 0.9428346023028665, 0.22053577119175166, 0.132321462715051, 0.6175001593369047, 0.8914437207141436, 0.9399469096204888, 0.9721041376254348, 0.9407084070620096, 0.9743194538443831, 0.9226367549391603, 0.9316264636130928, 0.9572211460241359, 0.8662466980578991, 0.7813321165606786, 0.2063896156952736, 0.9017323692885197, 0.959389940616615, 0.13689319951686751, 0.164271839420241, 0.13689319951686751, 0.5475727980674701, 0.9696899701451316, 0.9120962120595223, 0.819783357649501, 0.9087804427293222, 0.9657735738366406, 0.9471725164787829, 0.9443247149091142, 0.8994039965694933, 0.9586506241083759, 0.9793284339037845, 0.9626348150823797, 0.9646209670413203, 0.9758740157400795, 0.9495818659121179, 0.9283711001095131, 0.9075292248697865, 0.9498341182766203, 0.22813149786820322, 0.6843944936046097, 0.9670609681143187, 0.10153977280212104, 0.23692613653828243, 0.676931818680807, 0.9276993192733793, 0.9587030913844358, 0.9178631903718899, 0.8362280672070382, 0.6264999031733609, 0.3417272199127423, 0.9401237542066148, 0.9526030395266756, 0.05443445940152432, 0.9274438967809161, 0.9564261531972609, 0.9590548354939514, 0.6978358498077536, 0.2537584908391831, 0.9822784818269489, 0.9587106642289756, 0.9874165952641883, 0.19890307245754335, 0.7458865217157876, 0.2838976204368062, 0.6624277810192145, 0.8584525993842208, 0.9795463327556775, 0.9697911565213225, 0.9005160291031499, 0.9575486088122839, 0.9552379697757521, 0.9763402382996427, 0.9542514745725093, 0.951000621776683, 0.9363885756255679, 0.9638590398094963, 0.9473385072386775, 0.9939035381532587, 0.9828209172062923, 0.955963690447176, 0.27507161030295685, 0.04584526838382614, 0.5501432206059137, 0.13753580515147842, 0.87777446763317, 0.10031708201521944, 0.8651809631154002, 0.8675124996278668, 0.9475894669487981, 0.8118414769725327, 0.17277496385202226, 0.8206810782971058, 0.454606972323915, 0.5303748010445675, 0.9653407731978518, 0.9325716570698049, 0.9653585331103054, 0.9567831295744494, 0.9512702492206121, 0.9439305213648774, 0.9049197590035933, 0.8029023528691225, 0.1117965301463335, 0.08130656737915165, 0.925085490775316, 0.8893774781463627, 0.96842420332459, 0.8984083602266324, 0.974427678141285, 0.8171709536474826, 0.9562061501287318, 0.7658095338961333, 0.22974286016884, 0.9180322475696403, 0.22283905227062908, 0.742796840902097, 0.968834862192025, 0.9738146618111102, 0.9150009221364805, 0.9434384361810406, 0.9736151123600639, 0.9533178825305544, 0.8563097386278168, 0.9354614944426103, 0.9365142746382202, 0.8296210300628923, 0.9543512539535824, 0.915183273078921, 0.9746081163668333, 0.960449435686383, 0.5481830645271344, 0.4385464516217075, 0.9464495841476646, 0.20713872371692674, 0.2330310641815426, 0.20713872371692674, 0.3624927665046218, 0.8848799703479922, 0.9468555072089082, 0.956749788588513, 0.8791220904978116, 0.9701281246866118, 0.37570444393627944, 0.22542266636176764, 0.15028177757451178, 0.22542266636176764, 0.8439454818945902, 0.8702957416482233, 0.917723408407652, 0.8984632615315209, 0.7450324339838358, 0.18625810849595895, 0.9336375996242228, 0.8551827744720848, 0.9920192863170989, 0.9375224837132864, 0.9078585929083391, 0.683757934365033, 0.310799061075015, 0.9417943023324996, 0.8743329529240168, 0.930038560818149, 0.8865652629009022, 0.9919635656887128, 0.9745334006831576, 0.9639361615180955, 0.23857888629732496, 0.7157366588919749, 0.9643249302577284, 0.9022635646040892, 0.8629079612460124, 0.8713106937962167, 0.9215467289362028, 0.9056899503393612, 0.5130003206124548, 0.46170028855120937, 0.964689971222133, 0.9190224439857355, 0.9363885756255679, 0.9786049501442897, 0.7628631651973331, 0.21190643477703697, 0.9753602054618861, 0.9753652770720568, 0.8835006785032091, 0.930042534208512, 0.9878327658033467, 0.976963802404813, 0.9084934562371889, 0.8865983644249785, 0.9710771494023173, 0.9670609681143187, 0.9930308688907785, 0.8415435146087871, 0.8665774648782837, 0.8175598218165774, 0.9761179115709847, 0.9412229608262664, 0.8465339907300509, 0.8528123936684845, 0.9426429481826217, 0.9514714157953499, 0.7509068825505256, 0.23892491717516723, 0.9517243149112434, 0.9648330964921161, 0.9548650212383019, 0.963554859747726, 0.9898780264324606, 0.7165120238602289, 0.2686920089475859, 0.8639997285595207, 0.8328860851458432, 0.9603592356529363, 0.9625703330550102, 0.7366399817502448, 0.1841599954375612, 0.06138666514585373, 0.9627299336131201, 0.9788048440756129, 0.9537164592226787, 0.3958966830160059, 0.5655666900228655], \"Term\": [\"administrative\", \"administrator\", \"agricultural\", \"allowance\", \"along\", \"amended\", \"amount\", \"annual\", \"appropriation\", \"area\", \"areas\", \"article\", \"assistance\", \"assistance\", \"assistant\", \"augment\", \"authorized\", \"avenue\", \"barangay\", \"barangay\", \"barangay\", \"barangays\", \"board\", \"board\", \"bonifacio\", \"burial\", \"buses\", \"business\", \"cad\", \"canocotan\", \"center\", \"certain\", \"chapter\", \"charge\", \"charges\", \"children\", \"civil\", \"clock\", \"closed\", \"code\", \"collection\", \"commercial\", \"committee\", \"compensation\", \"composition\", \"comprehensive\", \"construction\", \"continue\", \"corn\", \"council\", \"council\", \"covered\", \"day\", \"death\", \"del\", \"department\", \"department\", \"development\", \"development\", \"development\", \"development\", \"disposal\", \"documents\", \"duties\", \"economic\", \"educational\", \"elementary\", \"embraced\", \"employees\", \"employment\", \"enterprise\", \"establishment\", \"establishment\", \"establishments\", \"every\", \"every\", \"every\", \"expenses\", \"fee\", \"fees\", \"financial\", \"five\", \"former\", \"four\", \"functions\", \"fund\", \"funds\", \"funds\", \"garbage\", \"grade\", \"guidelines\", \"guidelines\", \"guidelines\", \"guidelines\", \"health\", \"high\", \"highly\", \"hire\", \"hon\", \"honor\", \"honorarium\", \"houses\", \"hundred\", \"ii\", \"iii\", \"implementation\", \"industrial\", \"inside\", \"installation\", \"issuance\", \"iv\", \"jr\", \"jr\", \"jurisdiction\", \"known\", \"known\", \"known\", \"land\", \"legislative\", \"letter\", \"license\", \"local\", \"local\", \"located\", \"lot\", \"lot\", \"magdum\", \"magugpo\", \"maintenance\", \"management\", \"management\", \"market\", \"materials\", \"mayor\", \"medical\", \"medical\", \"meters\", \"meters\", \"million\", \"monthly\", \"motorized\", \"mth\", \"mun\", \"name\", \"national\", \"necessary\", \"new\", \"nino\", \"norte\", \"oaths\", \"office\", \"officer\", \"officials\", \"one\", \"one\", \"one\", \"one\", \"operation\", \"operation\", \"operations\", \"operators\", \"ord\", \"organization\", \"otherwise\", \"otherwise\", \"owned\", \"owned\", \"owners\", \"panlungsod\", \"parcel\", \"park\", \"part\", \"passenger\", \"passengers\", \"penalties\", \"penalties\", \"penalties\", \"penalty\", \"per\", \"permit\", \"persons\", \"pesos\", \"philippines\", \"pioneer\", \"poblacion\", \"poblacion\", \"points\", \"policies\", \"policies\", \"portion\", \"position\", \"positions\", \"powers\", \"premises\", \"private\", \"procedures\", \"program\", \"property\", \"protection\", \"provided\", \"providing\", \"province\", \"psd\", \"public\", \"public\", \"purpose\", \"purposes\", \"purposes\", \"purposes\", \"purposes\", \"quezon\", \"rates\", \"reading\", \"real\", \"registered\", \"regulations\", \"regulations\", \"regulations\", \"regulations\", \"regulatory\", \"rendered\", \"residential\", \"resolution\", \"revised\", \"revised\", \"rice\", \"rizal\", \"road\", \"roads\", \"roxas\", \"rules\", \"rules\", \"salary\", \"sale\", \"sangguniang\", \"scholarship\", \"school\", \"sec\", \"sections\", \"series\", \"series\", \"service\", \"services\", \"seven\", \"site\", \"six\", \"sobrecarey\", \"square\", \"square\", \"staff\", \"stalls\", \"sto\", \"street\", \"streets\", \"streets\", \"students\", \"suaybaguio\", \"system\", \"taken\", \"tax\", \"tct\", \"temporary\", \"ten\", \"terminal\", \"territorial\", \"thousand\", \"three\", \"towards\", \"trade\", \"traffic\", \"tricycle\", \"trucks\", \"twenty\", \"two\", \"unit\", \"use\", \"use\", \"utility\", \"vehicles\", \"vendors\", \"vice\", \"violation\", \"violations\", \"violations\", \"war\", \"way\", \"welfare\", \"west\", \"within\", \"within\", \"within\", \"workers\", \"year\", \"years\", \"zone\", \"zone\"]}, \"R\": 30, \"lambda.step\": 0.01, \"plot.opts\": {\"xlab\": \"PC1\", \"ylab\": \"PC2\"}, \"topic.order\": [1, 4, 6, 2, 3, 5, 7]};\n",
       "\n",
       "function LDAvis_load_lib(url, callback){\n",
       "  var s = document.createElement('script');\n",
       "  s.src = url;\n",
       "  s.async = true;\n",
       "  s.onreadystatechange = s.onload = callback;\n",
       "  s.onerror = function(){console.warn(\"failed to load library \" + url);};\n",
       "  document.getElementsByTagName(\"head\")[0].appendChild(s);\n",
       "}\n",
       "\n",
       "if(typeof(LDAvis) !== \"undefined\"){\n",
       "   // already loaded: just create the visualization\n",
       "   !function(LDAvis){\n",
       "       new LDAvis(\"#\" + \"ldavis_el148551172187041417021151\", ldavis_el148551172187041417021151_data);\n",
       "   }(LDAvis);\n",
       "}else if(typeof define === \"function\" && define.amd){\n",
       "   // require.js is available: use it to load d3/LDAvis\n",
       "   require.config({paths: {d3: \"https://d3js.org/d3.v5\"}});\n",
       "   require([\"d3\"], function(d3){\n",
       "      window.d3 = d3;\n",
       "      LDAvis_load_lib(\"https://cdn.jsdelivr.net/gh/bmabey/pyLDAvis@3.3.1/pyLDAvis/js/ldavis.v3.0.0.js\", function(){\n",
       "        new LDAvis(\"#\" + \"ldavis_el148551172187041417021151\", ldavis_el148551172187041417021151_data);\n",
       "      });\n",
       "    });\n",
       "}else{\n",
       "    // require.js not available: dynamically load d3 & LDAvis\n",
       "    LDAvis_load_lib(\"https://d3js.org/d3.v5.js\", function(){\n",
       "         LDAvis_load_lib(\"https://cdn.jsdelivr.net/gh/bmabey/pyLDAvis@3.3.1/pyLDAvis/js/ldavis.v3.0.0.js\", function(){\n",
       "                 new LDAvis(\"#\" + \"ldavis_el148551172187041417021151\", ldavis_el148551172187041417021151_data);\n",
       "            })\n",
       "         });\n",
       "}\n",
       "</script>"
      ],
      "text/plain": [
       "PreparedData(topic_coordinates=              x         y  topics  cluster       Freq\n",
       "topic                                                \n",
       "0      0.204190 -0.199465       1        1  18.582372\n",
       "3      0.120964  0.052164       2        1  15.246790\n",
       "5      0.065297  0.177207       3        1  14.972340\n",
       "1     -0.107109  0.005220       4        1  14.797093\n",
       "2     -0.227133 -0.061576       5        1  12.630165\n",
       "4     -0.064692 -0.125677       6        1  12.112872\n",
       "6      0.008483  0.152126       7        1  11.658368, topic_info=          Term       Freq      Total Category  logprob  loglift\n",
       "223     office  71.000000  71.000000  Default  30.0000  30.0000\n",
       "22   penalties  98.000000  98.000000  Default  29.0000  29.0000\n",
       "35       funds  67.000000  67.000000  Default  28.0000  28.0000\n",
       "222      mayor  48.000000  48.000000  Default  27.0000  27.0000\n",
       "32   violation  55.000000  55.000000  Default  26.0000  26.0000\n",
       "..         ...        ...        ...      ...      ...      ...\n",
       "598     meters  14.399615  21.134379   Topic7  -4.1590   1.7654\n",
       "173       zone   9.783227  17.681381   Topic7  -4.5456   1.5573\n",
       "158   purposes  13.593975  38.621460   Topic7  -4.2166   1.1050\n",
       "601     square   9.029205  19.493165   Topic7  -4.6258   1.3795\n",
       "389      owned   6.827277  13.198214   Topic7  -4.9053   1.4900\n",
       "\n",
       "[290 rows x 6 columns], token_table=      Topic      Freq            Term\n",
       "term                                 \n",
       "9         1  0.846094  administrative\n",
       "1381      4  0.910564   administrator\n",
       "161       2  0.969613    agricultural\n",
       "588       5  0.956314       allowance\n",
       "163       2  0.932149           along\n",
       "...     ...       ...             ...\n",
       "160       3  0.962730         workers\n",
       "124       5  0.978805            year\n",
       "742       6  0.953716           years\n",
       "173       2  0.395897            zone\n",
       "173       7  0.565567            zone\n",
       "\n",
       "[296 rows x 3 columns], R=30, lambda_step=0.01, plot_opts={'xlab': 'PC1', 'ylab': 'PC2'}, topic_order=[1, 4, 6, 2, 3, 5, 7])"
      ]
     },
     "execution_count": 21,
     "metadata": {},
     "output_type": "execute_result"
    }
   ],
   "source": [
    "# Visualize the topics\n",
    "pyLDAvis.enable_notebook()\n",
    "vis = pyLDAvis.gensim_models.prepare(lda_model, corpus, id2word)\n",
    "vis"
   ]
  },
  {
   "cell_type": "code",
   "execution_count": 22,
   "metadata": {},
   "outputs": [],
   "source": [
    "# # Build Mallet LDA Model\n",
    "# mallet_path = '/Users/root1/Development/lda/mallet/bin/mallet'\n",
    "# ldamallet = gensim.models.wrappers.LdaMallet(mallet_path, corpus=corpus, num_topics=12, id2word=id2word)"
   ]
  },
  {
   "cell_type": "code",
   "execution_count": 23,
   "metadata": {},
   "outputs": [],
   "source": [
    "# # Show Topics\n",
    "# # Only few topics make sense for me\n",
    "# pprint(ldamallet.show_topics(formatted=False))\n",
    "\n",
    "# # Compute Coherence Score\n",
    "# coherence_model_ldamallet = CoherenceModel(model=ldamallet, texts=data_lemmatized, corpus=id2word, coherence='c_v')\n",
    "# coherence_ldamallet = coherence_model_ldamallet.get_coherence()\n",
    "# print('\\nCoherence Score: ', coherence_ldamallet)"
   ]
  },
  {
   "cell_type": "code",
   "execution_count": 24,
   "metadata": {},
   "outputs": [],
   "source": [
    "# def compute_coherence_values(dictionary, corpus, texts, limit, start=2, step=3):\n",
    "#     \"\"\"\n",
    "#     Compute c_v coherence for various number of topics\n",
    "\n",
    "#     Parameters:\n",
    "#     ----------\n",
    "#     dictionary : Gensim dictionary\n",
    "#     corpus : Gensim corpus\n",
    "#     texts : List of input texts\n",
    "#     limit : Max num of topics\n",
    "\n",
    "#     Returns:\n",
    "#     -------\n",
    "#     model_list : List of LDA topic models\n",
    "#     coherence_values : Coherence values corresponding to the LDA model with respective number of topics\n",
    "#     \"\"\"\n",
    "#     coherence_values = []\n",
    "#     model_list = []\n",
    "#     for num_topics in range(start, limit, step):\n",
    "#         model = gensim.models.wrappers.LdaMallet(mallet_path, corpus=corpus, num_topics=num_topics, id2word=id2word)\n",
    "#         model_list.append(model)\n",
    "#         coherencemodel = CoherenceModel(model=model, texts=texts, dictionary=dictionary, coherence='c_v')\n",
    "#         coherence_values.append(coherencemodel.get_coherence())\n",
    "\n",
    "#     return model_list, coherence_values\n",
    "\n",
    "def compute_coherence_values(dictionary, corpus, texts, limit, start=2, step=3):\n",
    "    \"\"\"\n",
    "    Compute c_v coherence for various number of topics\n",
    "\n",
    "    Parameters:\n",
    "    ----------\n",
    "    dictionary : Gensim dictionary\n",
    "    corpus : Gensim corpus\n",
    "    texts : List of input texts\n",
    "    limit : Max num of topics\n",
    "\n",
    "    Returns:\n",
    "    -------\n",
    "    model_list : List of LDA topic models\n",
    "    coherence_values : Coherence values corresponding to the LDA model with respective number of topics\n",
    "    \"\"\"\n",
    "    coherence_values = []\n",
    "    model_list = []\n",
    "    for num_topics in range(start, limit, step):\n",
    "#         model = gensim.models.wrappers.LdaMallet(mallet_path, corpus=corpus, num_topics=num_topics, id2word=id2word)\n",
    "#         model_list.append(model)\n",
    "        coherencemodel = CoherenceModel(model=lda_model, texts=texts, dictionary=dictionary, coherence='c_v')\n",
    "        coherence_values.append(coherencemodel.get_coherence())\n",
    "\n",
    "    return model_list, coherence_values"
   ]
  },
  {
   "cell_type": "code",
   "execution_count": 27,
   "metadata": {},
   "outputs": [],
   "source": [
    "model_list, coherence_values = compute_coherence_values(dictionary=id2word, corpus=corpus, texts=texts, start=2, limit=40, step=6)"
   ]
  },
  {
   "cell_type": "code",
   "execution_count": 28,
   "metadata": {},
   "outputs": [
    {
     "data": {
      "image/png": "[encoded data removed]",
      "text/plain": [
       "<Figure size 432x288 with 1 Axes>"
      ]
     },
     "metadata": {
      "needs_background": "light"
     },
     "output_type": "display_data"
    }
   ],
   "source": [
    "# Show graph to find optimal number of topics\n",
    "# Coherence value not going flat seems unlikely or probably wrong\n",
    "limit=40; start=2; step=6;\n",
    "x = range(start, limit, step)\n",
    "plt.plot(x, coherence_values)\n",
    "plt.xlabel(\"Num Topics\")\n",
    "plt.ylabel(\"Coherence score\")\n",
    "plt.legend((\"coherence_values\"), loc='best')\n",
    "plt.show()"
   ]
  },
  {
   "cell_type": "code",
   "execution_count": null,
   "metadata": {},
   "outputs": [],
   "source": [
    "# Print the coherence scores with increasing number of topics\n",
    "\n",
    "for m, cv in zip(x, coherence_values):\n",
    "    print(\"Num Topics =\", m, \" has Coherence Value of\", round(cv, 4))"
   ]
  },
  {
   "cell_type": "code",
   "execution_count": null,
   "metadata": {},
   "outputs": [],
   "source": [
    "# Select the model and print the topics\n",
    "optimal_model = model_list[2] # when number of topics is 8\n",
    "model_topics = optimal_model.show_topics(formatted=False)\n",
    "pprint(optimal_model.print_topics(num_words=10))"
   ]
  },
  {
   "cell_type": "code",
   "execution_count": null,
   "metadata": {},
   "outputs": [],
   "source": [
    "# Finding the dominant topic in each sentence\n",
    "def format_topics_sentences(ldamodel=lda_model, corpus=corpus, texts=data):\n",
    "    # Init output\n",
    "    sent_topics_df = pd.DataFrame()\n",
    "\n",
    "    # Get main topic in each document\n",
    "    for i, row in enumerate(ldamodel[corpus]):\n",
    "        row = sorted(row, key=lambda x: (x[1]), reverse=True)\n",
    "        # Get the Dominant topic, Perc Contribution and Keywords for each document\n",
    "        for j, (topic_num, prop_topic) in enumerate(row):\n",
    "            if j == 0:  # => dominant topic\n",
    "                wp = ldamodel.show_topic(topic_num)\n",
    "                topic_keywords = \", \".join([word for word, prop in wp])\n",
    "                sent_topics_df = sent_topics_df.append(pd.Series([int(topic_num), round(prop_topic,4), topic_keywords]), ignore_index=True)\n",
    "            else:\n",
    "                break\n",
    "    sent_topics_df.columns = ['Dominant_Topic', 'Perc_Contribution', 'Topic_Keywords']\n",
    "\n",
    "    # Add original text to the end of the output\n",
    "    contents = pd.Series(texts)\n",
    "    sent_topics_df = pd.concat([sent_topics_df, contents], axis=1)\n",
    "    return(sent_topics_df)\n",
    "\n",
    "df_topic_sents_keywords = format_topics_sentences(ldamodel=optimal_model, corpus=corpus, texts=data)\n",
    "\n",
    "# Format\n",
    "df_dominant_topic = df_topic_sents_keywords.reset_index()\n",
    "df_dominant_topic.columns = ['Document_No', 'Dominant_Topic', 'Topic_Perc_Contrib', 'Keywords', 'Text']\n",
    "\n",
    "# Show\n",
    "df_dominant_topic.head(10)"
   ]
  },
  {
   "cell_type": "code",
   "execution_count": null,
   "metadata": {},
   "outputs": [],
   "source": [
    "# Convert malletmodel to to gensim lda model for pyLDAvis\n",
    "model = gensim.models.wrappers.ldamallet.malletmodel2ldamodel(ldamallet)\n",
    "pyLDAvis.enable_notebook()\n",
    "vis = pyLDAvis.gensim.prepare(model, corpus, id2word)\n",
    "vis"
   ]
  },
  {
   "cell_type": "code",
   "execution_count": null,
   "metadata": {},
   "outputs": [],
   "source": []
  },
  {
   "cell_type": "code",
   "execution_count": null,
   "metadata": {},
   "outputs": [],
   "source": []
  }
 ],
 "metadata": {
  "kernelspec": {
   "display_name": "Python 3 (ipykernel)",
   "language": "python",
   "name": "python3"
  },
  "language_info": {
   "codemirror_mode": {
    "name": "ipython",
    "version": 3
   },
   "file_extension": ".py",
   "mimetype": "text/x-python",
   "name": "python",
   "nbconvert_exporter": "python",
   "pygments_lexer": "ipython3",
   "version": "3.8.2"
  }
 },
 "nbformat": 4,
 "nbformat_minor": 4
}
