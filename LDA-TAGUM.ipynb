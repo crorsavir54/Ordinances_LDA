{
 "cells": [
  {
   "cell_type": "code",
   "execution_count": 1,
   "metadata": {},
   "outputs": [],
   "source": [
    "import re\n",
    "import numpy as np\n",
    "import pandas as pd"
   ]
  },
  {
   "cell_type": "code",
   "execution_count": 2,
   "metadata": {},
   "outputs": [],
   "source": [
    "#Gensim\n",
    "import gensim\n",
    "import gensim.corpora as corpora\n",
    "from gensim.utils import simple_preprocess\n",
    "from gensim.models import CoherenceModel"
   ]
  },
  {
   "cell_type": "code",
   "execution_count": 3,
   "metadata": {},
   "outputs": [],
   "source": [
    "#spacy for lemmatization\n",
    "import spacy"
   ]
  },
  {
   "cell_type": "code",
   "execution_count": 4,
   "metadata": {},
   "outputs": [],
   "source": [
    "# Plotting tools\n",
    "import pyLDAvis\n",
    "import pyLDAvis.gensim\n",
    "import matplotlib.pyplot as plt\n",
    "%matplotlib inline"
   ]
  },
  {
   "cell_type": "code",
   "execution_count": 5,
   "metadata": {},
   "outputs": [
    {
     "name": "stderr",
     "output_type": "stream",
     "text": [
      "/Users/root1/Documents/lda/myvenv/lib/python3.9/site-packages/ipykernel/ipkernel.py:287: DeprecationWarning: `should_run_async` will not call `transform_cell` automatically in the future. Please pass the result to `transformed_cell` argument and any exception that happen during thetransform in `preprocessing_exc_tuple` in IPython 7.17 and above.\n",
      "  and should_run_async(code)\n"
     ]
    }
   ],
   "source": [
    "from pprint import pprint"
   ]
  },
  {
   "cell_type": "code",
   "execution_count": 6,
   "metadata": {},
   "outputs": [
    {
     "name": "stderr",
     "output_type": "stream",
     "text": [
      "/Users/root1/Documents/lda/myvenv/lib/python3.9/site-packages/ipykernel/ipkernel.py:287: DeprecationWarning: `should_run_async` will not call `transform_cell` automatically in the future. Please pass the result to `transformed_cell` argument and any exception that happen during thetransform in `preprocessing_exc_tuple` in IPython 7.17 and above.\n",
      "  and should_run_async(code)\n"
     ]
    }
   ],
   "source": [
    "import warnings\n",
    "warnings.filterwarnings(\"ignore\", category=DeprecationWarning)"
   ]
  },
  {
   "cell_type": "code",
   "execution_count": 7,
   "metadata": {},
   "outputs": [],
   "source": [
    "# NLTK for stopwords\n",
    "from nltk.corpus import stopwords\n",
    "stop_words = stopwords.words('english')\n",
    "stop_words.extend(['tagum', 'city', 'ordinance', 'municipal', 'municipality', 'thereof'])"
   ]
  },
  {
   "cell_type": "code",
   "execution_count": 8,
   "metadata": {},
   "outputs": [
    {
     "name": "stdout",
     "output_type": "stream",
     "text": [
      "                                     OR  \\\n",
      "0        CITY ORDINANCE No. 842, s-2018   \n",
      "1        CITY ORDINANCE NO. 825, s-2017   \n",
      "2        CITY ORDINANCE NO. 837, s-2018   \n",
      "3        CITY ORDINANCE NO. 844, s-2018   \n",
      "4        CITY ORDINANCE NO. 838, s-2018   \n",
      "..                                  ...   \n",
      "670  MUNICIPAL ORDINANCE NO. 05, s-1974   \n",
      "671  MUNICIPAL ORDINANCE NO. 04, s-1974   \n",
      "672  MUNICIPAL ORDINANCE NO. 01, s-1974   \n",
      "673    MUNICIPAL ORDINANCE NO. 03, 1973   \n",
      "674  MUNICIPAL ORDINANCE NO. 02, S-1973   \n",
      "\n",
      "                                                    OT  \n",
      "0    “AN ORDINANCE REGULATING THE PRACTICE OF TRADI...  \n",
      "1    “AN ORDINANCE RECONSTITUTING THE MEMBERS OF TH...  \n",
      "2    “AN ORDINANCE ESTABLISHING FUNERAL AND BURIAL ...  \n",
      "3    AN ORDINANCE AMENDING THE TITLE, SECTION 1, SE...  \n",
      "4    “AN ORDINANCE CREATING THE CITY HISTORICAL, CU...  \n",
      "..                                                 ...  \n",
      "670  “AN ORDINANCE AMENDING SECTION 10 OF MUNICIPAL...  \n",
      "671  “AN ORDINANCE REGULATING THE ELECTRICAL INSTAL...  \n",
      "672  “AN ORDINANCE PROHIBITING THE EMPLOYMENT OF “H...  \n",
      "673  “AN ORDINANCE REGULATING THE ESTABLISHMENT, OP...  \n",
      "674  “AN ORDINANCE PROHIBITING THE USE OF MUNICIPAL...  \n",
      "\n",
      "[675 rows x 2 columns]\n"
     ]
    },
    {
     "data": {
      "text/html": [
       "<div>\n",
       "<style scoped>\n",
       "    .dataframe tbody tr th:only-of-type {\n",
       "        vertical-align: middle;\n",
       "    }\n",
       "\n",
       "    .dataframe tbody tr th {\n",
       "        vertical-align: top;\n",
       "    }\n",
       "\n",
       "    .dataframe thead th {\n",
       "        text-align: right;\n",
       "    }\n",
       "</style>\n",
       "<table border=\"1\" class=\"dataframe\">\n",
       "  <thead>\n",
       "    <tr style=\"text-align: right;\">\n",
       "      <th></th>\n",
       "      <th>OR</th>\n",
       "      <th>OT</th>\n",
       "    </tr>\n",
       "  </thead>\n",
       "  <tbody>\n",
       "    <tr>\n",
       "      <th>0</th>\n",
       "      <td>CITY ORDINANCE No. 842, s-2018</td>\n",
       "      <td>“AN ORDINANCE REGULATING THE PRACTICE OF TRADI...</td>\n",
       "    </tr>\n",
       "    <tr>\n",
       "      <th>1</th>\n",
       "      <td>CITY ORDINANCE NO. 825, s-2017</td>\n",
       "      <td>“AN ORDINANCE RECONSTITUTING THE MEMBERS OF TH...</td>\n",
       "    </tr>\n",
       "    <tr>\n",
       "      <th>2</th>\n",
       "      <td>CITY ORDINANCE NO. 837, s-2018</td>\n",
       "      <td>“AN ORDINANCE ESTABLISHING FUNERAL AND BURIAL ...</td>\n",
       "    </tr>\n",
       "    <tr>\n",
       "      <th>3</th>\n",
       "      <td>CITY ORDINANCE NO. 844, s-2018</td>\n",
       "      <td>AN ORDINANCE AMENDING THE TITLE, SECTION 1, SE...</td>\n",
       "    </tr>\n",
       "    <tr>\n",
       "      <th>4</th>\n",
       "      <td>CITY ORDINANCE NO. 838, s-2018</td>\n",
       "      <td>“AN ORDINANCE CREATING THE CITY HISTORICAL, CU...</td>\n",
       "    </tr>\n",
       "  </tbody>\n",
       "</table>\n",
       "</div>"
      ],
      "text/plain": [
       "                               OR  \\\n",
       "0  CITY ORDINANCE No. 842, s-2018   \n",
       "1  CITY ORDINANCE NO. 825, s-2017   \n",
       "2  CITY ORDINANCE NO. 837, s-2018   \n",
       "3  CITY ORDINANCE NO. 844, s-2018   \n",
       "4  CITY ORDINANCE NO. 838, s-2018   \n",
       "\n",
       "                                                  OT  \n",
       "0  “AN ORDINANCE REGULATING THE PRACTICE OF TRADI...  \n",
       "1  “AN ORDINANCE RECONSTITUTING THE MEMBERS OF TH...  \n",
       "2  “AN ORDINANCE ESTABLISHING FUNERAL AND BURIAL ...  \n",
       "3  AN ORDINANCE AMENDING THE TITLE, SECTION 1, SE...  \n",
       "4  “AN ORDINANCE CREATING THE CITY HISTORICAL, CU...  "
      ]
     },
     "execution_count": 8,
     "metadata": {},
     "output_type": "execute_result"
    }
   ],
   "source": [
    "# Import Dataset\n",
    "df = pd.read_csv('tagum_ordinances.csv', header = 0)\n",
    "print(df)\n",
    "df.head()"
   ]
  },
  {
   "cell_type": "code",
   "execution_count": 9,
   "metadata": {},
   "outputs": [
    {
     "name": "stdout",
     "output_type": "stream",
     "text": [
      "['“AN ORDINANCE REGULATING THE PRACTICE OF TRADITIONAL HOME BIRTH DELIVERY OR DELIVERIES ATTENDED BY A TRADITIONAL BIRTH ATTENDANT OR MANANABANG”.']\n"
     ]
    }
   ],
   "source": [
    "# List all ordinance titles\n",
    "# Convert to list\n",
    "data = list(df.OT) \n",
    "print(data[:1])"
   ]
  },
  {
   "cell_type": "code",
   "execution_count": 10,
   "metadata": {},
   "outputs": [
    {
     "name": "stdout",
     "output_type": "stream",
     "text": [
      "['“AN ORDINANCE REGULATING THE PRACTICE OF TRADITIONAL HOME BIRTH DELIVERY OR '\n",
      " 'DELIVERIES ATTENDED BY A TRADITIONAL BIRTH ATTENDANT OR MANANABANG”.',\n",
      " '“AN ORDINANCE RECONSTITUTING THE MEMBERS OF THE CITY TRICYCLE FRANCHISING '\n",
      " 'AND REGULATORY BOARD (CTFRB) PRESCRIBING ITS FUNCTIONS AND PROCEDURES AND '\n",
      " 'PROVIDING MOTORIZED TRICYCLE FOR HIRE (MTH), TRICYCLE UTILITY VEHICLE (TUV) '\n",
      " 'AND TRICYCLE UTILITY FOR HIRE (TUH) GUIDELINES, REGULATIONS AND OPERATIONS, '\n",
      " 'THE COLLECTION OF FEES, CHARGES,ADMINISTRATIVE PROVISIONS AND PROVIDING '\n",
      " 'PENALTIES FOR VIOLATION THEREOF”.',\n",
      " '“AN ORDINANCE ESTABLISHING FUNERAL AND BURIAL ASSISTANCE FOR INDIGENT '\n",
      " 'TAGUMENYOS, PROVIDING ITS MANAGEMENT, PROCEDURES AND GUIDELINES AND '\n",
      " 'APPROPRIATING FUNDS THEREFOR”.',\n",
      " 'AN ORDINANCE AMENDING THE TITLE, SECTION 1, SECTION 2 AND SECTION 3 OF CITY '\n",
      " 'ORDINANCE NO. 820, S-2017 “AN ORDINANCE ENTERING INTO A LOAN AGREEMENT WITH '\n",
      " 'THE DEVELOPMENT BANK OF THE PHILIPPINES, IN THE AMOUNT OF SIX HUNDRED EIGHTY '\n",
      " 'MILLION PESOS (P 680,000,000.00) TO FUND THE ACQUISITION OF HEAVY '\n",
      " 'EQUIPMENT,ACQUISITION OF SERVICE VEHICLES, ACQUISITION OF continue reading : '\n",
      " 'CITY ORDINANCE NO. 844, s-2018',\n",
      " '“AN ORDINANCE CREATING THE CITY HISTORICAL, CULTURAL AND ARTS COUNCIL IN THE '\n",
      " 'CITY OF TAGUM”.']\n"
     ]
    }
   ],
   "source": [
    "# Remove new line characters\n",
    "data = [re.sub('\\s+', ' ', sent) for sent in data]\n",
    "\n",
    "# Remove distracting single quotes\n",
    "data = [re.sub(\"\\'\", \"\", sent) for sent in data]\n",
    "data = [re.sub(\"\\\"\", \"\", sent) for sent in data]\n",
    "\n",
    "# # Remove words ending with ING like amending, regulating\n",
    "# data = [re.sub('\\S*ING\\S*\\s?', '', sent) for sent in data]\n",
    "\n",
    "\n",
    "pprint(data[:5])"
   ]
  },
  {
   "cell_type": "code",
   "execution_count": 11,
   "metadata": {},
   "outputs": [
    {
     "name": "stdout",
     "output_type": "stream",
     "text": [
      "[['an', 'ordinance', 'regulating', 'the', 'practice', 'of', 'traditional', 'home', 'birth', 'delivery', 'or', 'deliveries', 'attended', 'by', 'traditional', 'birth', 'attendant', 'or', 'mananabang'], ['an', 'ordinance', 'reconstituting', 'the', 'members', 'of', 'the', 'city', 'tricycle', 'franchising', 'and', 'regulatory', 'board', 'ctfrb', 'prescribing', 'its', 'functions', 'and', 'procedures', 'and', 'providing', 'motorized', 'tricycle', 'for', 'hire', 'mth', 'tricycle', 'utility', 'vehicle', 'tuv', 'and', 'tricycle', 'utility', 'for', 'hire', 'tuh', 'guidelines', 'regulations', 'and', 'operations', 'the', 'collection', 'of', 'fees', 'charges', 'administrative', 'provisions', 'and', 'providing', 'penalties', 'for', 'violation', 'thereof'], ['an', 'ordinance', 'establishing', 'funeral', 'and', 'burial', 'assistance', 'for', 'indigent', 'tagumenyos', 'providing', 'its', 'management', 'procedures', 'and', 'guidelines', 'and', 'appropriating', 'funds', 'therefor'], ['an', 'ordinance', 'amending', 'the', 'title', 'section', 'section', 'and', 'section', 'of', 'city', 'ordinance', 'no', 'an', 'ordinance', 'entering', 'into', 'loan', 'agreement', 'with', 'the', 'development', 'bank', 'of', 'the', 'philippines', 'in', 'the', 'amount', 'of', 'six', 'hundred', 'eighty', 'million', 'pesos', 'to', 'fund', 'the', 'acquisition', 'of', 'heavy', 'equipment', 'acquisition', 'of', 'service', 'vehicles', 'acquisition', 'of', 'continue', 'reading', 'city', 'ordinance', 'no'], ['an', 'ordinance', 'creating', 'the', 'city', 'historical', 'cultural', 'and', 'arts', 'council', 'in', 'the', 'city', 'of', 'tagum']]\n"
     ]
    }
   ],
   "source": [
    "#preprocess using gensim\n",
    "def sent_to_words(sentences):\n",
    "    for sentence in sentences:\n",
    "        yield(gensim.utils.simple_preprocess(str(sentence), deacc=True))  # deacc=True removes punctuations\n",
    "\n",
    "data_words = list(sent_to_words(data))\n",
    "\n",
    "print(data_words[:5])"
   ]
  },
  {
   "cell_type": "code",
   "execution_count": 12,
   "metadata": {},
   "outputs": [
    {
     "name": "stdout",
     "output_type": "stream",
     "text": [
      "['an', 'ordinance', 'regulating', 'the', 'practice', 'of', 'traditional', 'home', 'birth', 'delivery', 'or', 'deliveries', 'attended', 'by', 'traditional', 'birth', 'attendant', 'or', 'mananabang']\n"
     ]
    }
   ],
   "source": [
    "# Build the bigram and trigram models\n",
    "bigram = gensim.models.Phrases(data_words, min_count=5, threshold=100) # higher threshold fewer phrases.\n",
    "trigram = gensim.models.Phrases(bigram[data_words], threshold=100)  \n",
    "\n",
    "# Faster way to get a sentence clubbed as a trigram/bigram\n",
    "bigram_mod = gensim.models.phrases.Phraser(bigram)\n",
    "trigram_mod = gensim.models.phrases.Phraser(trigram)\n",
    "\n",
    "# See trigram example\n",
    "print(trigram_mod[bigram_mod[data_words[0]]])"
   ]
  },
  {
   "cell_type": "code",
   "execution_count": 13,
   "metadata": {},
   "outputs": [],
   "source": [
    "# Define functions for stopwords, bigrams, trigrams and lemmatization\n",
    "def remove_stopwords(texts):\n",
    "    return [[word for word in simple_preprocess(str(doc)) if word not in stop_words] for doc in texts]\n",
    "\n",
    "def make_bigrams(texts):\n",
    "    return [bigram_mod[doc] for doc in texts]\n",
    "\n",
    "def make_trigrams(texts):\n",
    "    return [trigram_mod[bigram_mod[doc]] for doc in texts]\n",
    "\n",
    "def lemmatization(texts, allowed_postags=['NOUN', 'ADJ', 'VERB', 'ADV']):\n",
    "    \"\"\"https://spacy.io/api/annotation\"\"\"\n",
    "    texts_out = []\n",
    "    for sent in texts:\n",
    "        doc = nlp(\" \".join(sent)) \n",
    "        texts_out.append([token.lemma_ for token in doc if token.pos_ in allowed_postags])\n",
    "    return texts_out"
   ]
  },
  {
   "cell_type": "code",
   "execution_count": 14,
   "metadata": {},
   "outputs": [
    {
     "name": "stdout",
     "output_type": "stream",
     "text": [
      "[['regulate',\n",
      "  'practice',\n",
      "  'traditional',\n",
      "  'home',\n",
      "  'birth',\n",
      "  'delivery',\n",
      "  'delivery',\n",
      "  'attend',\n",
      "  'traditional',\n",
      "  'birth',\n",
      "  'attendant',\n",
      "  'mananabang'],\n",
      " ['reconstitute',\n",
      "  'member',\n",
      "  'tricycle',\n",
      "  'ctfrb',\n",
      "  'prescribing',\n",
      "  'function',\n",
      "  'procedure',\n",
      "  'provide',\n",
      "  'tricycle',\n",
      "  'utility',\n",
      "  'vehicle',\n",
      "  'tricycle',\n",
      "  'utility',\n",
      "  'hire',\n",
      "  'guideline',\n",
      "  'operation',\n",
      "  'collection',\n",
      "  'fee',\n",
      "  'charge',\n",
      "  'administrative',\n",
      "  'provision',\n",
      "  'provide',\n",
      "  'penalty',\n",
      "  'violation'],\n",
      " ['establish',\n",
      "  'funeral',\n",
      "  'burial_assistance',\n",
      "  'indigent',\n",
      "  'tagumenyos',\n",
      "  'provide',\n",
      "  'management',\n",
      "  'procedure',\n",
      "  'guideline',\n",
      "  'appropriate',\n",
      "  'fund'],\n",
      " ['amend',\n",
      "  'title',\n",
      "  'section',\n",
      "  'section',\n",
      "  'section',\n",
      "  'enter',\n",
      "  'loan',\n",
      "  'amount',\n",
      "  'acquisition',\n",
      "  'equipment',\n",
      "  'acquisition',\n",
      "  'service',\n",
      "  'vehicle',\n",
      "  'acquisition',\n",
      "  'continue_reading']]\n"
     ]
    }
   ],
   "source": [
    "# Remove Stop Words\n",
    "data_words_nostops = remove_stopwords(data_words)\n",
    "\n",
    "# Form Bigrams\n",
    "data_words_bigrams = make_bigrams(data_words_nostops)\n",
    "\n",
    "# Initialize spacy 'en' model, keeping only tagger component (for efficiency)\n",
    "# python3 -m spacy download en\n",
    "nlp = spacy.load('en', disable=['parser', 'ner'])\n",
    "\n",
    "# Do lemmatization keeping only noun, adj, vb, adv\n",
    "data_lemmatized = lemmatization(data_words_bigrams, allowed_postags=['NOUN', 'ADJ', 'VERB', 'ADV'])\n",
    "\n",
    "pprint(data_lemmatized[:4])"
   ]
  },
  {
   "cell_type": "code",
   "execution_count": 15,
   "metadata": {},
   "outputs": [
    {
     "name": "stdout",
     "output_type": "stream",
     "text": [
      "[[(0, 1), (1, 1), (2, 2), (3, 2), (4, 1), (5, 1), (6, 1), (7, 1), (8, 2)]]\n"
     ]
    }
   ],
   "source": [
    "# Create Dictionary\n",
    "id2word = corpora.Dictionary(data_lemmatized)\n",
    "\n",
    "# Create Corpus\n",
    "texts = data_lemmatized\n",
    "\n",
    "# Term Document Frequency\n",
    "corpus = [id2word.doc2bow(text) for text in texts]\n",
    "\n",
    "# View\n",
    "print(corpus[:1])"
   ]
  },
  {
   "cell_type": "code",
   "execution_count": 16,
   "metadata": {},
   "outputs": [
    {
     "data": {
      "text/plain": [
       "'attend'"
      ]
     },
     "execution_count": 16,
     "metadata": {},
     "output_type": "execute_result"
    }
   ],
   "source": [
    "id2word[0]"
   ]
  },
  {
   "cell_type": "code",
   "execution_count": 17,
   "metadata": {},
   "outputs": [
    {
     "data": {
      "text/plain": [
       "[[('attend', 1),\n",
       "  ('attendant', 1),\n",
       "  ('birth', 2),\n",
       "  ('delivery', 2),\n",
       "  ('home', 1),\n",
       "  ('mananabang', 1),\n",
       "  ('practice', 1),\n",
       "  ('regulate', 1),\n",
       "  ('traditional', 2)]]"
      ]
     },
     "execution_count": 17,
     "metadata": {},
     "output_type": "execute_result"
    }
   ],
   "source": [
    "# Human readable format of corpus (term-frequency)\n",
    "[[(id2word[id], freq) for id, freq in cp] for cp in corpus[:1]]"
   ]
  },
  {
   "cell_type": "code",
   "execution_count": 18,
   "metadata": {},
   "outputs": [],
   "source": [
    "# Build LDA model\n",
    "lda_model = gensim.models.ldamodel.LdaModel(corpus=corpus,\n",
    "                                           id2word=id2word,\n",
    "                                           num_topics=10, \n",
    "                                           random_state=100,\n",
    "                                           update_every=1,\n",
    "                                           chunksize=100,\n",
    "                                           passes=50,\n",
    "                                           alpha='auto',\n",
    "                                           per_word_topics=True)"
   ]
  },
  {
   "cell_type": "code",
   "execution_count": 19,
   "metadata": {},
   "outputs": [
    {
     "name": "stdout",
     "output_type": "stream",
     "text": [
      "[(0, '0.100*\"impose\" + 0.065*\"area\" + 0.044*\"require\" + 0.029*\"lot\" + 0.029*\"rate\" + 0.021*\"reclassify\" + 0.020*\"own\" + 0.019*\"sale\" + 0.018*\"commercial\" + 0.017*\"name\"'), (1, '0.063*\"service\" + 0.041*\"peso\" + 0.037*\"development\" + 0.026*\"amount\" + 0.026*\"appropriating\" + 0.024*\"property\" + 0.023*\"grant\" + 0.021*\"owner\" + 0.019*\"issuance\" + 0.018*\"real\"'), (2, '0.044*\"street\" + 0.037*\"portion\" + 0.034*\"permit\" + 0.033*\"mayor\" + 0.022*\"park\" + 0.020*\"grant\" + 0.019*\"material\" + 0.017*\"part\" + 0.016*\"temporary\" + 0.015*\"town\"'), (3, '0.038*\"increase\" + 0.031*\"business\" + 0.026*\"public\" + 0.024*\"establishment\" + 0.023*\"passenger\" + 0.022*\"territorial_jurisdiction\" + 0.021*\"series\" + 0.019*\"license\" + 0.018*\"fee\" + 0.017*\"penalty\"'), (4, '0.102*\"public\" + 0.078*\"market\" + 0.025*\"place\" + 0.024*\"parking\" + 0.020*\"include\" + 0.020*\"barangay\" + 0.018*\"continue_reading\" + 0.017*\"premise\" + 0.016*\"repeal\" + 0.014*\"stall\"'), (5, '0.072*\"provide\" + 0.046*\"penalty\" + 0.037*\"violation\" + 0.034*\"vehicle\" + 0.028*\"tax\" + 0.028*\"guideline\" + 0.025*\"road\" + 0.024*\"fee\" + 0.023*\"regulation\" + 0.019*\"utility\"'), (6, '0.054*\"office\" + 0.050*\"declare\" + 0.049*\"authorize\" + 0.029*\"government\" + 0.029*\"amount\" + 0.027*\"year\" + 0.019*\"terminal\" + 0.018*\"take\" + 0.016*\"square_meter\" + 0.016*\"building\"'), (7, '0.086*\"create\" + 0.067*\"provide\" + 0.065*\"fund\" + 0.055*\"position\" + 0.045*\"prohibit\" + 0.044*\"duty\" + 0.044*\"purpose\" + 0.033*\"appropriate\" + 0.026*\"necessary\" + 0.023*\"legislative\"'), (8, '0.073*\"penalty\" + 0.072*\"regulate\" + 0.069*\"violation\" + 0.066*\"provide\" + 0.035*\"operation\" + 0.034*\"use\" + 0.021*\"purpose\" + 0.018*\"cover\" + 0.015*\"zone\" + 0.015*\"house\"'), (9, '0.135*\"amend\" + 0.094*\"section\" + 0.025*\"fund\" + 0.023*\"provide\" + 0.021*\"medical\" + 0.021*\"new\" + 0.020*\"fee\" + 0.019*\"code\" + 0.019*\"establish\" + 0.018*\"grant\"')]\n"
     ]
    }
   ],
   "source": [
    "print(lda_model.print_topics())\n",
    "doc_lda = lda_model[corpus]"
   ]
  },
  {
   "cell_type": "code",
   "execution_count": 20,
   "metadata": {},
   "outputs": [
    {
     "name": "stdout",
     "output_type": "stream",
     "text": [
      "\n",
      "Perplexity:  -6.6580777477097035\n",
      "\n",
      "Coherence Score:  0.4617134678778355\n"
     ]
    }
   ],
   "source": [
    "# Compute Perplexity\n",
    "print('\\nPerplexity: ', lda_model.log_perplexity(corpus))  # a measure of how good the model is. lower the better.\n",
    "\n",
    "# Compute Coherence Score\n",
    "coherence_model_lda = CoherenceModel(model=lda_model, texts=data_lemmatized, dictionary=id2word, coherence='c_v')\n",
    "coherence_lda = coherence_model_lda.get_coherence()\n",
    "print('\\nCoherence Score: ', coherence_lda)"
   ]
  },
  {
   "cell_type": "code",
   "execution_count": 21,
   "metadata": {},
   "outputs": [
    {
     "data": {
      "text/html": [
       "\n",
       "<link rel=\"stylesheet\" type=\"text/css\" href=\"https://cdn.rawgit.com/bmabey/pyLDAvis/files/ldavis.v1.0.0.css\">\n",
       "\n",
       "\n",
       "<div id=\"ldavis_el68281402941591217606319934015\"></div>\n",
       "<script type=\"text/javascript\">\n",
       "\n",
       "var ldavis_el68281402941591217606319934015_data = {\"mdsDat\": {\"x\": [-0.2454804141600265, -0.06460774879923242, -0.07963492830875192, -0.2058885467608566, 0.16185840267849763, -0.05163662738355104, 0.1353155387337385, 0.1235033571391908, 0.11874103794963961, 0.10782992891135071], \"y\": [-0.07563561549831285, 0.2445634720848359, 0.20142826888256316, -0.10658013939793391, 0.004407509871394263, -0.14435074833687495, -0.06773722191687934, -0.10384718594997244, 0.0005377287207199035, 0.047213931540460226], \"topics\": [1, 2, 3, 4, 5, 6, 7, 8, 9, 10], \"cluster\": [1, 1, 1, 1, 1, 1, 1, 1, 1, 1], \"Freq\": [16.13457973354089, 14.987148988032617, 11.369163699947798, 11.064761278509534, 10.753246244474358, 8.676871070756867, 7.636767393223995, 6.949133011715461, 6.713513716568416, 5.714814863230065]}, \"tinfo\": {\"Term\": [\"amend\", \"section\", \"create\", \"public\", \"impose\", \"penalty\", \"provide\", \"violation\", \"regulate\", \"fund\", \"market\", \"position\", \"area\", \"office\", \"declare\", \"authorize\", \"prohibit\", \"duty\", \"service\", \"operation\", \"require\", \"purpose\", \"vehicle\", \"amount\", \"street\", \"increase\", \"appropriate\", \"tax\", \"fee\", \"use\", \"tax\", \"road\", \"utility\", \"function\", \"traffic\", \"adopt\", \"rule\", \"policy\", \"prescribing\", \"certain\", \"provision\", \"act\", \"prescribe\", \"tricycle\", \"annual\", \"poblacion\", \"procedure\", \"implement\", \"collection\", \"organization\", \"vehicle\", \"clock\", \"employee\", \"administrative\", \"hire\", \"limit\", \"disposal\", \"control\", \"pass\", \"govern\", \"regulation\", \"guideline\", \"provide\", \"penalty\", \"violation\", \"fee\", \"charge\", \"operation\", \"revise\", \"establishment\", \"establish\", \"amend\", \"section\", \"medical\", \"new\", \"code\", \"program\", \"article\", \"monthly\", \"enact\", \"benefit\", \"chapter\", \"unit\", \"support\", \"approve\", \"comprehensive\", \"amending\", \"child\", \"educational\", \"incentive\", \"death\", \"scholarship\", \"assistance\", \"letter\", \"slaughter\", \"worker\", \"waste\", \"qualify\", \"otherwise_known\", \"financial\", \"law\", \"implementation\", \"establish\", \"grant\", \"management\", \"fund\", \"fee\", \"revise\", \"provide\", \"guideline\", \"create\", \"position\", \"prohibit\", \"duty\", \"appropriate\", \"necessary\", \"legislative\", \"compensation\", \"private\", \"officer\", \"appropriation\", \"composition\", \"qualification\", \"department\", \"providing\", \"make\", \"front\", \"assistant\", \"administrator\", \"balance\", \"therefore\", \"shall\", \"committee\", \"day\", \"grade\", \"form\", \"secretary\", \"historical\", \"vice\", \"staff\", \"fund\", \"local\", \"purpose\", \"provide\", \"mayor\", \"management\", \"regulate\", \"cover\", \"zone\", \"house\", \"davao\", \"student\", \"operate\", \"residential\", \"power\", \"garbage\", \"processing\", \"official\", \"highly\", \"maintenance\", \"deserving\", \"poor\", \"repair\", \"hereunder\", \"relocate\", \"use\", \"minor\", \"facility\", \"time\", \"high\", \"define\", \"electrical\", \"number\", \"hour\", \"industry\", \"thereat\", \"operation\", \"violation\", \"penalty\", \"provide\", \"purpose\", \"situate\", \"regulation\", \"school\", \"government\", \"office\", \"declare\", \"authorize\", \"year\", \"terminal\", \"take\", \"square_meter\", \"building\", \"vendor\", \"construction\", \"continue_reade\", \"locate\", \"industrial\", \"enter\", \"land\", \"site\", \"structure\", \"salary\", \"register\", \"transfer\", \"agricultural\", \"food\", \"contain\", \"way\", \"embrace\", \"drug\", \"saving\", \"honorable\", \"identify\", \"condition\", \"amount\", \"government\", \"reclassify\", \"increase\", \"business\", \"passenger\", \"territorial_jurisdiction\", \"series\", \"license\", \"bus\", \"jeepney\", \"truck\", \"close\", \"gold\", \"subject\", \"show\", \"date\", \"ban\", \"undergo\", \"similar\", \"payment\", \"cargo\", \"supervise\", \"enclose\", \"room\", \"movie\", \"display\", \"allow\", \"may\", \"elementary\", \"secondary\", \"accounting\", \"utilize\", \"establishment\", \"person\", \"school\", \"public\", \"fee\", \"penalty\", \"violation\", \"provide\", \"grant\", \"charge\", \"use\", \"impose\", \"area\", \"require\", \"lot\", \"rate\", \"own\", \"sale\", \"commercial\", \"name\", \"rice\", \"operator\", \"corn\", \"motorize\", \"line\", \"rental\", \"late\", \"point\", \"non\", \"special\", \"former\", \"mill\", \"concern\", \"conduct\", \"legal\", \"equipment\", \"exist\", \"education\", \"officially\", \"memory\", \"install\", \"reclassify\", \"bound\", \"establishment\", \"government\", \"market\", \"place\", \"parking\", \"include\", \"barangay\", \"continue_reading\", \"premise\", \"repeal\", \"stall\", \"sell\", \"designate\", \"order\", \"installation\", \"employment\", \"space\", \"bonifacio\", \"rename\", \"equal\", \"orderly\", \"peaceful\", \"honor\", \"integrate\", \"corner\", \"meter\", \"trade\", \"unloading\", \"sobrecarey\", \"dead\", \"sitio\", \"ordinance\", \"public\", \"know\", \"establish\", \"street\", \"portion\", \"permit\", \"park\", \"material\", \"part\", \"temporary\", \"town\", \"supply\", \"construct\", \"highway\", \"driver\", \"secure\", \"cable\", \"set\", \"schedule\", \"vehicular\", \"national\", \"activity\", \"temporarily\", \"step\", \"table\", \"standard\", \"treasurer\", \"alley\", \"say\", \"lead\", \"lapu\", \"sidewalk\", \"go\", \"mayor\", \"grant\", \"situate\", \"service\", \"peso\", \"appropriating\", \"property\", \"owner\", \"issuance\", \"real\", \"system\", \"clearance\", \"council\", \"plan\", \"cooperative\", \"render\", \"certification\", \"serve\", \"effective\", \"veteran\", \"value\", \"assessment\", \"level\", \"subsistence\", \"agent\", \"subscribe\", \"paper\", \"document\", \"oath\", \"development\", \"korean\", \"resident\", \"title\", \"resolution\", \"amount\", \"grant\", \"allowance\", \"establish\", \"fund\"], \"Freq\": [135.0, 94.0, 65.0, 63.0, 51.0, 113.0, 209.0, 100.0, 53.0, 79.0, 36.0, 42.0, 33.0, 39.0, 36.0, 35.0, 34.0, 34.0, 24.0, 41.0, 23.0, 65.0, 39.0, 31.0, 20.0, 22.0, 25.0, 30.0, 57.0, 29.0, 30.12795133387341, 27.3081155699447, 20.70093883044981, 20.07918306982725, 19.547486695337735, 19.326406295604162, 18.916808083381497, 17.426135988520397, 17.138698153677336, 15.547237576140263, 14.136169718059355, 11.868829242204637, 11.124302994709566, 10.895922353921954, 10.708644829809876, 9.744763146756062, 9.660847001273575, 9.258157676976277, 8.532152467162911, 8.432377488743237, 36.26518521564381, 8.00620998713441, 7.468788818801145, 7.034744582875662, 6.487025308175789, 6.413912515983719, 6.4102398173915835, 5.926465135242511, 5.7287500224948875, 5.463172772031518, 24.362400570444457, 29.708767980407004, 77.61327289421206, 49.29549836332431, 39.900494531947686, 26.13419666967274, 9.945954779796706, 15.005020826776448, 11.05836500987645, 10.191886103200835, 9.241824202936881, 134.80243066985648, 93.96451519904878, 21.044960509365744, 20.68955573019737, 19.43828095382627, 17.47525891990668, 16.472824906718294, 15.64238506246528, 14.123517402889776, 13.119584562333118, 11.565338797805673, 11.22792367548284, 10.805400698362302, 10.463560866140725, 10.241880756368486, 9.685952822406117, 8.32672612336319, 8.28316971534582, 8.195674735616436, 8.130253903732443, 8.022979622538687, 7.8481248185329004, 7.531257519543306, 6.814569631108302, 6.189623399946118, 5.994771181538041, 5.928339014023094, 5.7608445895655365, 5.59362746681324, 5.4824322793230715, 17.036864964179458, 19.222982977754622, 18.140536936399336, 9.759169793660892, 24.911319929166908, 20.071004216174504, 10.430554972415306, 23.47657488774218, 11.939749229983402, 65.08255364575257, 41.7812511505736, 34.19298673122148, 33.63856830332103, 24.947615888046567, 19.375046163898887, 17.450462921177447, 15.301089919224884, 14.736916469373577, 14.686749805313756, 12.28784170140811, 12.058890006891199, 11.343210374933197, 9.036072731952004, 7.162001213504363, 6.926264277566719, 6.890802976765229, 6.145529481824539, 5.428518751807499, 5.329925573660389, 5.303338613464452, 4.9954985881631035, 4.6504415560944805, 4.5539109612346005, 4.144357013412403, 3.585811297665681, 2.915679967497857, 2.7662872792017668, 2.6466342913251113, 8.827737678129575, 49.530746369087375, 12.585607453351615, 33.02699432784653, 51.03937225149119, 9.394825755444018, 4.970636221946446, 52.98272983316222, 13.511716347213158, 11.30622282106689, 10.972953076185759, 10.501002152724002, 10.074136633534113, 9.499562670160715, 8.799289641760458, 8.149535718592611, 8.04025680789952, 7.432585164511166, 6.8042013210835135, 4.655278223548135, 4.601872292640769, 4.588732246669263, 4.420027392910398, 4.256975074573248, 4.238254405762394, 4.238002883763777, 24.797547650187, 3.8947617195667648, 3.773480633284418, 3.75284585109695, 3.7312731086246274, 3.437518123476922, 3.3591946548187765, 3.320926150460167, 3.2833127731677223, 3.266622516550899, 3.2665640230628488, 25.723021983898597, 51.23556100039669, 53.72382718726954, 48.95872468727208, 15.877731144060704, 5.138484670428151, 6.894553115360867, 4.6079655936989115, 3.9977023447105844, 38.99339974996121, 35.74086310784688, 34.8334377030345, 19.534867400895934, 13.76345595772775, 13.17433715225563, 11.39626547212426, 11.173574978971393, 10.608739735195181, 10.492885544169456, 10.176789277283206, 8.603193078287356, 8.517305110035208, 7.9253961360311305, 7.7365327580140155, 7.7237723515927, 7.462359241469492, 6.97682912106047, 6.965359468538166, 6.714042996556603, 6.5793725563346666, 6.052176498794912, 6.039474945401117, 6.0376063617773665, 5.719144604455467, 5.542765424900967, 5.5045734883549065, 5.48906805634888, 5.225867954299164, 5.008250859632258, 20.92661443269997, 20.946066695864037, 6.372556998570834, 21.906478229627734, 17.75333946655337, 13.349042558565337, 12.759424351186333, 11.962831049516891, 11.190821902208935, 7.899378903663244, 7.541709030353988, 7.33971595628186, 6.868857303433049, 6.763835540139581, 5.402680376493675, 5.207456093539207, 4.82251300534552, 4.790345732688146, 4.696711058717307, 4.631740809349571, 4.625788503997758, 4.567183929510348, 3.886372950401387, 3.815942823481796, 3.7947967595460956, 3.7736104919160423, 3.64608329413554, 3.6329420825512546, 3.5651551461677635, 3.3700916779907066, 3.3700916779907066, 3.131422041730856, 3.104483138103493, 13.796006186149153, 8.542976911561842, 8.08380808994884, 15.084983036729756, 10.320357415136147, 9.857650128773205, 8.863601643847902, 7.984277773551115, 5.342208623718206, 4.317058129124148, 3.895716127074878, 51.05046879598248, 33.1588550055382, 22.54355967705321, 14.960259074180616, 14.88388091972755, 10.065731685415926, 9.689644911953012, 9.278206941201734, 8.909165709329248, 5.891703778754195, 5.669145597507782, 5.360975584171826, 5.035099574816618, 4.969092624770226, 4.8590887990230005, 4.780885852147767, 4.6134395367801035, 4.5458134515522515, 4.472895848267303, 4.421488187516218, 4.419892800284032, 4.282739843968486, 3.99683970754314, 3.9893044832386946, 3.9450858016916484, 3.9130127713209832, 3.8804538579081846, 3.6788040836405407, 3.605860120131899, 3.3803253709235603, 10.779365160424963, 4.63137351311238, 7.394957042062321, 6.127277736038365, 35.9772895197005, 11.829527287592473, 11.107171209049586, 9.282697601978569, 9.095143368912836, 8.551353649367025, 7.725309417161896, 7.407913336868297, 6.274111348066681, 5.959827053371001, 5.795041150455826, 5.629071472436109, 5.609084732856136, 5.39161327442107, 4.725678190692911, 4.531898225469118, 4.4687428079895595, 3.8959045698871653, 3.8959045698871653, 3.8959045698871653, 3.85226696318567, 3.778117002119239, 3.6610014936019746, 3.273957168740267, 3.182039128005936, 3.00241065607735, 3.002311467911416, 3.002214008515259, 2.6673491418213366, 2.643000499998725, 47.39415427530394, 3.4744987847528725, 3.3072798544733244, 19.73965578457894, 16.68122205362772, 15.150830235085222, 9.802472267222626, 8.50333158811776, 7.67304979254001, 7.2304741164238635, 6.671460758394481, 5.604639699501296, 5.539323331996171, 5.395045859504463, 5.18740526415827, 5.079470334289849, 4.975854421665168, 4.879312444669207, 4.620727988736305, 4.438107964669499, 4.092464663956401, 3.687410658914462, 3.651871460179126, 3.6161869580794406, 3.546644266856108, 3.519584020476598, 3.4601407481523005, 3.2837405849102628, 3.2641317288760554, 3.250637096450581, 3.2186173289166655, 3.1630642618959204, 2.9901766404716494, 14.851371692238013, 9.187678701281103, 4.9695044976277725, 23.89536293094837, 15.818350182363053, 9.755085078305468, 9.114762393139545, 8.125104676321756, 7.2037718452201664, 6.756605915842702, 6.716791850442424, 6.6685655718273615, 5.8021324904968585, 5.489702365669854, 4.67883190286342, 4.459054835551057, 4.458305242950501, 3.4852451910264097, 3.1675206463900665, 3.075613627219933, 3.013546720127731, 3.013546720127731, 3.013546720127731, 3.0008868155097903, 2.9982659070998774, 2.9982659070998774, 2.9982659070998774, 2.9982659070998774, 2.9982659070998774, 13.934092615884305, 2.6117211911670255, 2.6117211911670255, 2.583820103476168, 5.041731397297481, 9.899430524933338, 8.901640670277361, 3.8771004986336197, 5.815284659577469, 4.10197330284223], \"Total\": [135.0, 94.0, 65.0, 63.0, 51.0, 113.0, 209.0, 100.0, 53.0, 79.0, 36.0, 42.0, 33.0, 39.0, 36.0, 35.0, 34.0, 34.0, 24.0, 41.0, 23.0, 65.0, 39.0, 31.0, 20.0, 22.0, 25.0, 30.0, 57.0, 29.0, 30.842427954786828, 28.02275525971197, 21.41550763630589, 20.793673873830176, 20.262038898359602, 20.040833418107333, 19.631196569853575, 18.140536668415088, 17.853101297085093, 16.26170957126544, 14.850603550881676, 12.583211209571939, 11.838776462814206, 11.610330419594195, 11.423131548935743, 10.459184932999733, 10.375248418660444, 9.972555638487911, 9.246504484601166, 9.146795912652417, 39.46047582061871, 8.720601433541239, 8.183448821491476, 7.749124592832637, 7.201487724392002, 7.12841880669707, 7.124701602988078, 6.640828074624609, 6.443150420407128, 6.17754692565511, 31.898143011809733, 42.26559242737568, 209.45265578854642, 113.44235778234088, 100.5650341093077, 57.0669416907122, 14.901620250761873, 41.369308254943846, 22.106001990661067, 31.94512127972384, 38.060179702918106, 135.509645616552, 94.67169638857858, 21.75225059139595, 21.396811101922427, 20.145420421505875, 18.18245567974641, 17.17997401663136, 16.349608464950826, 14.830672993957874, 13.826939751924304, 12.272477632210059, 11.935176243710199, 11.512789043341574, 11.170805850507454, 10.949079370282941, 10.39311395195492, 9.033971329559437, 8.990315804396838, 8.902894379588249, 8.837414068533405, 8.730130661009254, 8.555271796772043, 8.238444680530515, 7.521717548771094, 6.896788919114061, 6.702183134072063, 6.635492963549496, 6.468004191377741, 6.300760533175619, 6.189751316696759, 20.14224417904295, 38.060179702918106, 42.05279359158355, 15.34937040361086, 79.08657249134507, 57.0669416907122, 22.106001990661067, 209.45265578854642, 42.26559242737568, 65.79939767706774, 42.49807869472229, 34.9101640746677, 34.355392990063486, 25.664436993329645, 20.091843446798045, 18.167261160847833, 16.017913197474392, 15.45407652201996, 15.40376946557228, 13.00479031377255, 12.775696369167182, 12.059995580793759, 9.752937329319625, 7.878848268657466, 7.6433059359123, 7.608192672935372, 6.862365299747901, 6.145526189841937, 6.046911423823563, 6.020340737888591, 5.712355427432437, 5.367242827940611, 5.270968037361286, 4.86118465375517, 4.303050423684409, 3.6324911040989645, 3.483078500111039, 3.3634267317341378, 11.22044667861445, 79.08657249134507, 18.00627292197284, 65.24715979760708, 209.45265578854642, 27.335018504327653, 15.34937040361086, 53.71404827200192, 14.24316534044822, 12.03753466743656, 11.70422662600874, 11.232550675407229, 10.80543442704502, 10.23103770639015, 9.530577565496284, 8.88097243545775, 8.77159034161349, 8.163857627026283, 7.535573339673994, 5.38654218212671, 5.333130442924386, 5.32001395323438, 5.151299886806339, 4.988374125635446, 4.969631811050106, 4.96944521177997, 29.34877141950791, 4.6260908978005775, 4.504789763478525, 4.484085436292349, 4.462734244976735, 4.168772597499675, 4.090439685140237, 4.0523219275870055, 4.014545350085926, 3.997878506509888, 3.9978343925611677, 41.369308254943846, 100.5650341093077, 113.44235778234088, 209.45265578854642, 65.24715979760708, 10.765811946052072, 31.898143011809733, 19.936910321688803, 38.666812163295965, 39.71181433969404, 36.459306794871, 35.55188914938722, 20.253275825451375, 14.482000769713068, 13.892643611176466, 12.114577444888463, 11.891941813088309, 11.327242229071901, 11.211320507746375, 10.895228331004603, 9.321516598141082, 9.23566102111173, 8.644075182548066, 8.454878482064046, 8.442085709840342, 8.180754719353057, 7.695157704199058, 7.683733969557764, 7.432444456756268, 7.297729636347988, 6.77061095486358, 6.757776438438187, 6.756135013792354, 6.437440029388834, 6.2612402671335055, 6.2228763573524235, 6.207372570070655, 5.944374709072565, 5.726619584847316, 31.46737142239315, 38.666812163295965, 17.79388515374083, 22.635202888170127, 18.482041528614964, 14.077733070752826, 13.488153860705614, 12.691524151167386, 11.919629978473791, 8.62799947089592, 8.270322871448581, 8.068372837629033, 7.597744221033876, 7.492805988898191, 6.131365169343853, 5.936175657854135, 5.551298488284605, 5.5191255124157435, 5.425680781554, 5.360371072808989, 5.354476425570819, 5.295784181964613, 4.615385710265162, 4.544549560456781, 4.523393710414216, 4.502198616673533, 4.374783594431068, 4.361907603218, 4.294052940605266, 4.09871302119972, 4.09871302119972, 3.8600860971240887, 3.833192225550315, 31.94512127972384, 16.757803991319573, 19.936910321688803, 63.140526014289485, 57.0669416907122, 113.44235778234088, 100.5650341093077, 209.45265578854642, 42.05279359158355, 14.901620250761873, 29.34877141950791, 51.778810237765484, 33.88706172911158, 23.2719097968497, 15.688378733220668, 15.612042731985305, 10.793864042203817, 10.417900025490718, 10.006426434945068, 9.637348102648936, 6.619842613950552, 6.397394127899864, 6.08912562857756, 5.763406572335489, 5.697200832312377, 5.587347386861043, 5.509128677209779, 5.341556464562649, 5.274232768044735, 5.201070982766233, 5.149608395504774, 5.148023497904781, 5.010891231498264, 4.7250550429523726, 4.717472456974619, 4.673382610166485, 4.641152187943098, 4.6086265768933075, 4.4069031850693285, 4.334008921414528, 4.108565050317786, 17.79388515374083, 8.477160099768762, 31.94512127972384, 38.666812163295965, 36.71449165485899, 12.566768790644593, 11.84443767105255, 10.020191230445334, 9.832386230277358, 9.288857465052809, 8.462477192402426, 8.145190144843681, 7.011291082605721, 6.697180768948021, 6.53230966775481, 6.366330017610209, 6.34640143415403, 6.128976784071527, 5.462860671286328, 5.269124824989805, 5.205894786954664, 4.633131689350685, 4.633131689350685, 4.633131689350685, 4.589631993132392, 4.515450646008755, 4.398194740068208, 4.011264828947169, 3.919358747560398, 3.739616334742877, 3.739535921187375, 3.739464123711766, 3.4045449078847616, 3.3803524855255613, 63.140526014289485, 7.314255902255224, 38.060179702918106, 20.470649323043816, 17.412180000736917, 15.88186902944935, 10.53338240165602, 9.234294926662448, 8.404108379577043, 7.961356096069222, 7.402368419905885, 6.335503940901272, 6.270422086482315, 6.126004152311909, 5.918377549002016, 5.810378946344192, 5.706723086520124, 5.6102784983595875, 5.351799429300262, 5.168991370866008, 4.823304835410324, 4.418331968755117, 4.382749250044099, 4.347016282836603, 4.277588757588155, 4.2505934094086, 4.191115240790134, 4.014714789231087, 3.995169597960046, 3.9815309349539834, 3.9494595382627873, 3.8939531327460934, 3.721052979621772, 27.335018504327653, 42.05279359158355, 10.765811946052072, 24.62306217975533, 16.545820780028944, 10.482570327123565, 9.842223416120117, 8.852855297479172, 7.9313790134562066, 7.484041000545492, 7.444479005920765, 7.396146992119767, 6.529674863344238, 6.217285544318804, 5.406295392632618, 5.186499290730556, 5.185891516747358, 4.212901397471075, 3.8950703679244443, 3.80304865686212, 3.7409864038062555, 3.7409864038062555, 3.7409864038062555, 3.728318304235457, 3.7257121558293345, 3.7257121558293345, 3.7257121558293345, 3.7257121558293345, 3.7257121558293345, 17.500509868611967, 3.339153877522872, 3.339153877522872, 3.311361695472397, 8.255533338695265, 31.46737142239315, 42.05279359158355, 7.498454950184712, 38.060179702918106, 79.08657249134507], \"Category\": [\"Default\", \"Default\", \"Default\", \"Default\", \"Default\", \"Default\", \"Default\", \"Default\", \"Default\", \"Default\", \"Default\", \"Default\", \"Default\", \"Default\", \"Default\", \"Default\", \"Default\", \"Default\", \"Default\", \"Default\", \"Default\", \"Default\", \"Default\", \"Default\", \"Default\", \"Default\", \"Default\", \"Default\", \"Default\", \"Default\", \"Topic1\", \"Topic1\", \"Topic1\", \"Topic1\", \"Topic1\", \"Topic1\", \"Topic1\", \"Topic1\", \"Topic1\", \"Topic1\", \"Topic1\", \"Topic1\", \"Topic1\", \"Topic1\", \"Topic1\", \"Topic1\", \"Topic1\", \"Topic1\", \"Topic1\", \"Topic1\", \"Topic1\", \"Topic1\", \"Topic1\", \"Topic1\", \"Topic1\", \"Topic1\", \"Topic1\", \"Topic1\", \"Topic1\", \"Topic1\", \"Topic1\", \"Topic1\", \"Topic1\", \"Topic1\", \"Topic1\", \"Topic1\", \"Topic1\", \"Topic1\", \"Topic1\", \"Topic1\", \"Topic1\", \"Topic2\", \"Topic2\", \"Topic2\", \"Topic2\", \"Topic2\", \"Topic2\", \"Topic2\", \"Topic2\", \"Topic2\", \"Topic2\", \"Topic2\", \"Topic2\", \"Topic2\", \"Topic2\", \"Topic2\", \"Topic2\", \"Topic2\", \"Topic2\", \"Topic2\", \"Topic2\", \"Topic2\", \"Topic2\", \"Topic2\", \"Topic2\", \"Topic2\", \"Topic2\", \"Topic2\", \"Topic2\", \"Topic2\", \"Topic2\", \"Topic2\", \"Topic2\", \"Topic2\", \"Topic2\", \"Topic2\", \"Topic2\", \"Topic2\", \"Topic2\", \"Topic2\", \"Topic3\", \"Topic3\", \"Topic3\", \"Topic3\", \"Topic3\", \"Topic3\", \"Topic3\", \"Topic3\", \"Topic3\", \"Topic3\", \"Topic3\", \"Topic3\", \"Topic3\", \"Topic3\", \"Topic3\", \"Topic3\", \"Topic3\", \"Topic3\", \"Topic3\", \"Topic3\", \"Topic3\", \"Topic3\", \"Topic3\", \"Topic3\", \"Topic3\", \"Topic3\", \"Topic3\", \"Topic3\", \"Topic3\", \"Topic3\", \"Topic3\", \"Topic3\", \"Topic3\", \"Topic3\", \"Topic3\", \"Topic3\", \"Topic4\", \"Topic4\", \"Topic4\", \"Topic4\", \"Topic4\", \"Topic4\", \"Topic4\", \"Topic4\", \"Topic4\", \"Topic4\", \"Topic4\", \"Topic4\", \"Topic4\", \"Topic4\", \"Topic4\", \"Topic4\", \"Topic4\", \"Topic4\", \"Topic4\", \"Topic4\", \"Topic4\", \"Topic4\", \"Topic4\", \"Topic4\", \"Topic4\", \"Topic4\", \"Topic4\", \"Topic4\", \"Topic4\", \"Topic4\", \"Topic4\", \"Topic4\", \"Topic4\", \"Topic4\", \"Topic4\", \"Topic4\", \"Topic4\", \"Topic4\", \"Topic4\", \"Topic5\", \"Topic5\", \"Topic5\", \"Topic5\", \"Topic5\", \"Topic5\", \"Topic5\", \"Topic5\", \"Topic5\", \"Topic5\", \"Topic5\", \"Topic5\", \"Topic5\", \"Topic5\", \"Topic5\", \"Topic5\", \"Topic5\", \"Topic5\", \"Topic5\", \"Topic5\", \"Topic5\", \"Topic5\", \"Topic5\", \"Topic5\", \"Topic5\", \"Topic5\", \"Topic5\", \"Topic5\", \"Topic5\", \"Topic5\", \"Topic5\", \"Topic5\", \"Topic5\", \"Topic6\", \"Topic6\", \"Topic6\", \"Topic6\", \"Topic6\", \"Topic6\", \"Topic6\", \"Topic6\", \"Topic6\", \"Topic6\", \"Topic6\", \"Topic6\", \"Topic6\", \"Topic6\", \"Topic6\", \"Topic6\", \"Topic6\", \"Topic6\", \"Topic6\", \"Topic6\", \"Topic6\", \"Topic6\", \"Topic6\", \"Topic6\", \"Topic6\", \"Topic6\", \"Topic6\", \"Topic6\", \"Topic6\", \"Topic6\", \"Topic6\", \"Topic6\", \"Topic6\", \"Topic6\", \"Topic6\", \"Topic6\", \"Topic6\", \"Topic6\", \"Topic6\", \"Topic6\", \"Topic6\", \"Topic7\", \"Topic7\", \"Topic7\", \"Topic7\", \"Topic7\", \"Topic7\", \"Topic7\", \"Topic7\", \"Topic7\", \"Topic7\", \"Topic7\", \"Topic7\", \"Topic7\", \"Topic7\", \"Topic7\", \"Topic7\", \"Topic7\", \"Topic7\", \"Topic7\", \"Topic7\", \"Topic7\", \"Topic7\", \"Topic7\", \"Topic7\", \"Topic7\", \"Topic7\", \"Topic7\", \"Topic7\", \"Topic7\", \"Topic7\", \"Topic7\", \"Topic7\", \"Topic7\", \"Topic7\", \"Topic8\", \"Topic8\", \"Topic8\", \"Topic8\", \"Topic8\", \"Topic8\", \"Topic8\", \"Topic8\", \"Topic8\", \"Topic8\", \"Topic8\", \"Topic8\", \"Topic8\", \"Topic8\", \"Topic8\", \"Topic8\", \"Topic8\", \"Topic8\", \"Topic8\", \"Topic8\", \"Topic8\", \"Topic8\", \"Topic8\", \"Topic8\", \"Topic8\", \"Topic8\", \"Topic8\", \"Topic8\", \"Topic8\", \"Topic8\", \"Topic8\", \"Topic8\", \"Topic8\", \"Topic9\", \"Topic9\", \"Topic9\", \"Topic9\", \"Topic9\", \"Topic9\", \"Topic9\", \"Topic9\", \"Topic9\", \"Topic9\", \"Topic9\", \"Topic9\", \"Topic9\", \"Topic9\", \"Topic9\", \"Topic9\", \"Topic9\", \"Topic9\", \"Topic9\", \"Topic9\", \"Topic9\", \"Topic9\", \"Topic9\", \"Topic9\", \"Topic9\", \"Topic9\", \"Topic9\", \"Topic9\", \"Topic9\", \"Topic9\", \"Topic9\", \"Topic9\", \"Topic9\", \"Topic10\", \"Topic10\", \"Topic10\", \"Topic10\", \"Topic10\", \"Topic10\", \"Topic10\", \"Topic10\", \"Topic10\", \"Topic10\", \"Topic10\", \"Topic10\", \"Topic10\", \"Topic10\", \"Topic10\", \"Topic10\", \"Topic10\", \"Topic10\", \"Topic10\", \"Topic10\", \"Topic10\", \"Topic10\", \"Topic10\", \"Topic10\", \"Topic10\", \"Topic10\", \"Topic10\", \"Topic10\", \"Topic10\", \"Topic10\", \"Topic10\", \"Topic10\", \"Topic10\", \"Topic10\", \"Topic10\", \"Topic10\"], \"logprob\": [30.0, 29.0, 28.0, 27.0, 26.0, 25.0, 24.0, 23.0, 22.0, 21.0, 20.0, 19.0, 18.0, 17.0, 16.0, 15.0, 14.0, 13.0, 12.0, 11.0, 10.0, 9.0, 8.0, 7.0, 6.0, 5.0, 4.0, 3.0, 2.0, 1.0, -3.576900005340576, -3.6751999855041504, -3.952199935913086, -3.9827001094818115, -4.009500026702881, -4.020899772644043, -4.042300224304199, -4.1244001388549805, -4.140999794006348, -4.238500118255615, -4.333600044250488, -4.508500099182129, -4.573200225830078, -4.593999862670898, -4.611299991607666, -4.705599784851074, -4.714300155639648, -4.756899833679199, -4.838500022888184, -4.850299835205078, -3.3914999961853027, -4.902200222015381, -4.97160005569458, -5.031499862670898, -5.112599849700928, -5.123899936676025, -5.124499797821045, -5.202899932861328, -5.2368998527526855, -5.284299850463867, -3.789299964904785, -3.59089994430542, -2.6305999755859375, -3.0845000743865967, -3.2960000038146973, -3.719099998474121, -4.685200214385986, -4.27400016784668, -4.57919979095459, -4.660799980163574, -4.758600234985352, -2.0048000812530518, -2.3657000064849854, -3.8619000911712646, -3.878999948501587, -3.9414000511169434, -4.047800064086914, -4.106900215148926, -4.158599853515625, -4.260799884796143, -4.334499835968018, -4.460599899291992, -4.490200042724609, -4.528600215911865, -4.560699939727783, -4.582099914550781, -4.637899875640869, -4.789100170135498, -4.794400215148926, -4.804999828338623, -4.813000202178955, -4.826300144195557, -4.848299980163574, -4.889500141143799, -4.989500045776367, -5.085700035095215, -5.117700099945068, -5.128900051116943, -5.15749979019165, -5.186999797821045, -5.206999778747559, -4.073200225830078, -3.952500104904175, -4.01039981842041, -4.63040018081665, -3.6933000087738037, -3.9093000888824463, -4.563899993896484, -3.7525999546051025, -4.428699970245361, -2.456700086593628, -2.899899959564209, -3.1003000736236572, -3.1166000366210938, -3.4154999256134033, -3.668299913406372, -3.772900104522705, -3.904400110244751, -3.941999912261963, -3.9453999996185303, -4.123700141906738, -4.142499923706055, -4.203700065612793, -4.431099891662598, -4.66349983215332, -4.697000026702881, -4.702099800109863, -4.8165998458862305, -4.9405999183654785, -4.959000110626221, -4.964000225067139, -5.023799896240234, -5.095300197601318, -5.116300106048584, -5.210599899291992, -5.355299949645996, -5.56220006942749, -5.614799976348877, -5.658999919891357, -4.454400062561035, -2.7297000885009766, -4.099800109863281, -3.134999990463257, -2.699700117111206, -4.392099857330322, -5.028800010681152, -2.635200023651123, -4.0015997886657715, -4.179800033569336, -4.209700107574463, -4.253699779510498, -4.295199871063232, -4.353899955749512, -4.430500030517578, -4.507199764251709, -4.520699977874756, -4.599299907684326, -4.687600135803223, -5.067200183868408, -5.078700065612793, -5.081600189208984, -5.11899995803833, -5.156599998474121, -5.160999774932861, -5.161099910736084, -3.394399881362915, -5.245500087738037, -5.277200222015381, -5.282700061798096, -5.288400173187256, -5.3703999519348145, -5.393499851226807, -5.404900074005127, -5.416299819946289, -5.42140007019043, -5.42140007019043, -3.357800006866455, -2.6686999797821045, -2.621299982070923, -2.714200019836426, -3.8403000831604004, -4.968400001525879, -4.6743998527526855, -5.077400207519531, -5.219399929046631, -2.9131999015808105, -3.0002999305725098, -3.0260000228881836, -3.6043999195098877, -3.9546000957489014, -3.998300075531006, -4.1433000564575195, -4.163099765777588, -4.214900016784668, -4.225900173187256, -4.256499767303467, -4.424499988555908, -4.434500217437744, -4.506499767303467, -4.530700206756592, -4.532299995422363, -4.566699981689453, -4.633999824523926, -4.635700225830078, -4.672399997711182, -4.692699909210205, -4.776199817657471, -4.778299808502197, -4.778600215911865, -4.832799911499023, -4.864099979400635, -4.870999813079834, -4.873899936676025, -4.922999858856201, -4.9654998779296875, -3.535599946975708, -3.5346999168395996, -4.724599838256836, -3.2753000259399414, -3.4855000972747803, -3.7706000804901123, -3.8157999515533447, -3.8803000450134277, -3.947000026702881, -4.295300006866455, -4.341599941253662, -4.368800163269043, -4.435100078582764, -4.450500011444092, -4.67519998550415, -4.711999893188477, -4.78879976272583, -4.795499801635742, -4.815199851989746, -4.829100131988525, -4.830399990081787, -4.843200206756592, -5.0046000480651855, -5.022900104522705, -5.02839994430542, -5.033999919891357, -5.068399906158447, -5.072000026702881, -5.09089994430542, -5.14709997177124, -5.14709997177124, -5.220600128173828, -5.2291998863220215, -3.7376999855041504, -4.2170000076293945, -4.272200107574463, -3.648400068283081, -4.027900218963623, -4.073800086975098, -4.180099964141846, -4.284599781036377, -4.686399936676025, -4.899499893188477, -5.002200126647949, -2.3015999794006348, -2.733099937438965, -3.1189000606536865, -3.5290000438690186, -3.53410005569458, -3.9251999855041504, -3.9632999897003174, -4.006700038909912, -4.047299861907959, -4.4608001708984375, -4.499300003051758, -4.555200099945068, -4.6178998947143555, -4.631100177764893, -4.653500080108643, -4.6697998046875, -4.705399990081787, -4.720200061798096, -4.736299991607666, -4.747900009155273, -4.748300075531006, -4.779799938201904, -4.848899841308594, -4.850800037384033, -4.8618998527526855, -4.870100021362305, -4.878399848937988, -4.93179988861084, -4.9517998695373535, -5.01639986038208, -3.8566999435424805, -4.701499938964844, -4.23360013961792, -4.421599864959717, -2.5571000576019287, -3.6693999767303467, -3.7323999404907227, -3.911900043487549, -3.932300090789795, -3.9939000606536865, -4.0954999923706055, -4.137499809265137, -4.303599834442139, -4.355000019073486, -4.382999897003174, -4.412099838256836, -4.415599822998047, -4.4552001953125, -4.586999893188477, -4.628900051116943, -4.642899990081787, -4.780099868774414, -4.780099868774414, -4.780099868774414, -4.791399955749512, -4.810800075531006, -4.842299938201904, -4.953999996185303, -4.982500076293945, -5.040599822998047, -5.040599822998047, -5.0406999588012695, -5.158899784088135, -5.168099880218506, -2.2815001010894775, -4.894599914550781, -4.943900108337402, -3.1229000091552734, -3.2911999225616455, -3.387500047683716, -3.8229000568389893, -3.965100049972534, -4.067800045013428, -4.127200126647949, -4.207699775695801, -4.381899833679199, -4.393700122833252, -4.420000076293945, -4.4593000411987305, -4.480299949645996, -4.500899791717529, -4.520500183105469, -4.574999809265137, -4.615300178527832, -4.696400165557861, -4.800600051879883, -4.810299873352051, -4.820099830627441, -4.8394999504089355, -4.8471999168396, -4.864200115203857, -4.916500091552734, -4.922500133514404, -4.926700115203857, -4.936600208282471, -4.953999996185303, -5.010200023651123, -3.407399892807007, -3.887700080871582, -4.502200126647949, -2.7708001136779785, -3.183300018310547, -3.6666998863220215, -3.734600067138672, -3.8494999408721924, -3.969899892807007, -4.033899784088135, -4.039899826049805, -4.047100067138672, -4.186200141906738, -4.241600036621094, -4.401400089263916, -4.44950008392334, -4.449699878692627, -4.695899963378906, -4.791500091552734, -4.821000099182129, -4.841300010681152, -4.841300010681152, -4.841300010681152, -4.845600128173828, -4.846399784088135, -4.846399784088135, -4.846399784088135, -4.846399784088135, -4.846399784088135, -3.3101000785827637, -4.984499931335449, -4.984499931335449, -4.995200157165527, -4.326700210571289, -3.6519999504089355, -3.75819993019104, -4.589399814605713, -4.184000015258789, -4.5329999923706055], \"loglift\": [30.0, 29.0, 28.0, 27.0, 26.0, 25.0, 24.0, 23.0, 22.0, 21.0, 20.0, 19.0, 18.0, 17.0, 16.0, 15.0, 14.0, 13.0, 12.0, 11.0, 10.0, 9.0, 8.0, 7.0, 6.0, 5.0, 4.0, 3.0, 2.0, 1.0, 1.8008, 1.7984, 1.7903, 1.7892, 1.7883, 1.7879, 1.7871, 1.784, 1.7834, 1.7793, 1.7749, 1.7658, 1.762, 1.7607, 1.7596, 1.7535, 1.7529, 1.7499, 1.7438, 1.7429, 1.7398, 1.7387, 1.7328, 1.7275, 1.7197, 1.7186, 1.7185, 1.7104, 1.7067, 1.7013, 1.5547, 1.4717, 0.8314, 0.9907, 0.8998, 1.0432, 1.4199, 0.8101, 1.1315, 0.6818, 0.4088, 1.8927, 1.8905, 1.8649, 1.8644, 1.8622, 1.8583, 1.8559, 1.8538, 1.8491, 1.8455, 1.8386, 1.8369, 1.8346, 1.8326, 1.8312, 1.8275, 1.8165, 1.8161, 1.8152, 1.8146, 1.8135, 1.8117, 1.8082, 1.7992, 1.7898, 1.7864, 1.7853, 1.7822, 1.7789, 1.7766, 1.7305, 1.2149, 1.0572, 1.4451, 0.7428, 0.853, 1.1469, -0.2905, 0.6339, 2.1633, 2.1573, 2.1535, 2.1532, 2.1459, 2.1379, 2.134, 2.1285, 2.1267, 2.1266, 2.1176, 2.1165, 2.113, 2.0979, 2.0789, 2.0758, 2.0752, 2.0639, 2.0502, 2.0481, 2.0475, 2.0402, 2.0309, 2.028, 2.0147, 1.9919, 1.9544, 1.9439, 1.9346, 1.9344, 1.7063, 1.8161, 1.4934, 0.7624, 1.1063, 1.0467, 2.1877, 2.1487, 2.1387, 2.1369, 2.1341, 2.1313, 2.1272, 2.1216, 2.1155, 2.1143, 2.1076, 2.0993, 2.0555, 2.0539, 2.0535, 2.0483, 2.0429, 2.0422, 2.0422, 2.0329, 2.0293, 2.0243, 2.0234, 2.0224, 2.0085, 2.0045, 2.0024, 2.0003, 1.9994, 1.9994, 1.7263, 1.527, 1.454, 0.7479, 0.7881, 1.4618, 0.6696, 0.7366, -0.0679, 2.2117, 2.2101, 2.2095, 2.1938, 2.1791, 2.1769, 2.1688, 2.1677, 2.1644, 2.1637, 2.1617, 2.1498, 2.149, 2.1432, 2.1412, 2.141, 2.138, 2.132, 2.1318, 2.1283, 2.1263, 2.1178, 2.1176, 2.1175, 2.1117, 2.1081, 2.1073, 2.107, 2.1011, 2.0959, 1.822, 1.6169, 1.2031, 2.4118, 2.4043, 2.3914, 2.389, 2.3854, 2.3814, 2.3563, 2.3523, 2.3499, 2.3437, 2.3422, 2.318, 2.3135, 2.3038, 2.3029, 2.3002, 2.2984, 2.2982, 2.2965, 2.2726, 2.2698, 2.2689, 2.268, 2.2623, 2.2616, 2.2585, 2.2488, 2.2488, 2.2353, 2.2337, 1.6049, 1.7708, 1.5418, 1.0128, 0.7344, 0.0015, 0.0157, -0.8225, 0.3812, 1.2056, 0.4251, 2.558, 2.5505, 2.5404, 2.5247, 2.5244, 2.5024, 2.4997, 2.4966, 2.4936, 2.4557, 2.4513, 2.4448, 2.4371, 2.4355, 2.4325, 2.4304, 2.4257, 2.4236, 2.4214, 2.4198, 2.4197, 2.4152, 2.4048, 2.4045, 2.4028, 2.4015, 2.4002, 2.3916, 2.3883, 2.3771, 2.071, 1.9677, 1.109, 0.73, 2.6463, 2.6061, 2.6023, 2.5901, 2.5886, 2.5838, 2.5754, 2.5717, 2.5555, 2.5499, 2.5468, 2.5435, 2.5431, 2.5384, 2.5216, 2.5158, 2.5139, 2.4932, 2.4932, 2.4932, 2.4914, 2.4883, 2.4831, 2.4634, 2.4581, 2.447, 2.447, 2.447, 2.4225, 2.4205, 2.3797, 1.9222, 0.2235, 2.6647, 2.6582, 2.6539, 2.6291, 2.6186, 2.61, 2.6048, 2.5971, 2.5785, 2.5771, 2.574, 2.5692, 2.5666, 2.564, 2.5615, 2.5542, 2.5486, 2.5367, 2.5202, 2.5186, 2.517, 2.5137, 2.5123, 2.5094, 2.5001, 2.499, 2.4982, 2.4964, 2.4932, 2.4824, 2.091, 1.18, 1.928, 2.8321, 2.8171, 2.7902, 2.7853, 2.7763, 2.7659, 2.7599, 2.7592, 2.7586, 2.744, 2.7376, 2.7176, 2.711, 2.7109, 2.6725, 2.6553, 2.6498, 2.6459, 2.6459, 2.6459, 2.6451, 2.6449, 2.6449, 2.6449, 2.6449, 2.6449, 2.6342, 2.6164, 2.6164, 2.614, 2.369, 1.7056, 1.3094, 2.2025, 0.9834, -0.097]}, \"token.table\": {\"Topic\": [6, 1, 9, 1, 3, 1, 10, 5, 9, 6, 6, 10, 2, 2, 5, 10, 1, 3, 10, 3, 2, 7, 2, 10, 2, 3, 5, 3, 6, 8, 2, 8, 7, 9, 5, 6, 6, 9, 6, 1, 10, 2, 1, 6, 2, 10, 1, 6, 2, 1, 7, 3, 3, 3, 2, 7, 5, 7, 9, 5, 5, 5, 8, 1, 10, 7, 8, 10, 4, 3, 6, 4, 3, 8, 2, 5, 4, 3, 4, 8, 3, 10, 6, 1, 10, 9, 5, 3, 7, 2, 10, 4, 6, 5, 1, 8, 2, 6, 5, 8, 7, 1, 2, 8, 10, 1, 6, 7, 7, 4, 1, 2, 6, 2, 5, 3, 7, 3, 1, 2, 3, 10, 4, 9, 6, 1, 2, 4, 5, 7, 3, 2, 6, 9, 10, 1, 2, 4, 4, 4, 9, 1, 3, 8, 5, 4, 4, 5, 1, 1, 2, 7, 2, 8, 6, 5, 4, 7, 8, 8, 10, 6, 1, 8, 10, 5, 9, 7, 2, 9, 7, 3, 2, 10, 6, 1, 7, 2, 3, 5, 7, 4, 3, 2, 3, 8, 9, 6, 3, 7, 9, 2, 7, 8, 7, 4, 2, 7, 6, 7, 9, 3, 2, 7, 4, 10, 5, 3, 4, 7, 4, 1, 4, 7, 8, 8, 8, 1, 2, 7, 10, 10, 9, 8, 9, 1, 6, 6, 8, 1, 4, 6, 9, 1, 6, 10, 8, 10, 1, 7, 1, 4, 9, 3, 4, 8, 1, 1, 3, 1, 4, 2, 3, 10, 1, 2, 3, 4, 6, 3, 1, 6, 8, 1, 2, 3, 4, 5, 3, 2, 7, 10, 5, 7, 5, 4, 1, 4, 4, 8, 10, 7, 4, 8, 7, 10, 4, 5, 10, 1, 2, 7, 1, 6, 1, 5, 7, 5, 9, 9, 2, 4, 5, 6, 8, 6, 3, 2, 9, 8, 6, 10, 10, 9, 3, 6, 9, 6, 5, 8, 4, 9, 2, 8, 8, 7, 5, 3, 5, 8, 9, 9, 9, 5, 4, 6, 10, 10, 6, 9, 2, 10, 9, 5, 1, 9, 9, 5, 6, 4, 3, 4, 10, 9, 8, 1, 5, 9, 1, 6, 6, 2, 8, 4, 6, 1, 6, 10, 1, 7, 9, 5, 10, 3, 1, 4, 6, 2, 5, 2, 5, 4], \"Freq\": [0.7771847374687094, 0.9536516394854523, 0.9053190272452561, 0.9033278425377853, 0.8135999824172256, 0.9480643645704416, 0.8052151842450125, 0.9592024299084638, 0.7472510894290877, 0.9170299703388942, 0.40008241963580776, 0.533443226181077, 0.9962390454625338, 0.9621755372093292, 0.667357934608283, 0.31778949267061096, 0.962958358036666, 0.9741105953930594, 0.9539645037367488, 0.9227369077447993, 0.8951905649264983, 0.9738229966291375, 0.931316891661823, 0.8019275335905148, 0.9350959490285802, 0.8743341017156896, 0.9844765169280256, 0.8268684043065438, 0.9059406220699409, 0.9153423990084778, 0.940193581026545, 0.9489241887545669, 0.5898201686831878, 0.35389210120991266, 0.9249961169414204, 0.9272137796236201, 0.9739183829952638, 0.8761595620103808, 0.9441472364051504, 0.9839063924909912, 0.7713235009028572, 0.9777976672375495, 0.6710679665514044, 0.2684271866205618, 0.885546312707873, 0.9464387345814189, 0.9173679202021943, 0.9213260931607754, 0.9431423917922754, 0.9733407921867462, 0.899421992307827, 0.9315770052309109, 0.9364515723786735, 0.9392834373365945, 0.913318797116509, 0.798261190515603, 0.8731154437480084, 0.8465509848326901, 0.9568733838404138, 0.8919555901635831, 0.8878660095755817, 0.9178329903874481, 0.968902799279721, 0.9035017820935181, 0.9248477260072964, 0.8211359569482255, 0.9094640497746508, 0.9188818931371784, 0.9829275772178484, 0.9878509879225483, 0.9006901737587956, 0.9792967170033446, 0.9485923580942569, 0.8022539863338014, 0.9052421826068883, 0.987402207138628, 0.719636278985168, 0.922798916480667, 0.9398471590399077, 0.9185112625045273, 0.17142357694278662, 0.7999766923996708, 0.9143309408702746, 0.8421405322411845, 0.8052151842450125, 0.8448261298982392, 0.9582765944145591, 0.9896553944189701, 0.867937536977972, 0.8898463829365694, 0.7702043138179817, 0.733417488319999, 0.7319370701200936, 0.9320475177412465, 0.8553850769637017, 0.8157968574778092, 0.9439895280344799, 0.8801752399852698, 0.9254894052924921, 0.8633469256214007, 0.8559110891751925, 0.23646761708037764, 0.4992094138363528, 0.07882253902679255, 0.1576450780535851, 0.31303684567155443, 0.43825158394017616, 0.21912579197008808, 0.861854952826434, 0.8879437687478816, 0.45560528091575603, 0.3504656007044277, 0.17523280035221386, 0.9522659952569196, 0.8861829515828226, 0.9295731181730081, 0.7767580935846896, 0.920060821396007, 0.9618309934720554, 0.31610928647509545, 0.6322185729501909, 0.05057748583601527, 0.9120352967291494, 0.806223404081964, 0.9342294476023585, 0.8093827631215873, 0.18103380155669183, 0.10344788660382391, 0.5431014046700755, 0.15517182990573586, 0.8228446942269676, 0.4280333947565025, 0.11889816521013957, 0.21401669737825124, 0.21401669737825124, 0.7097972198437427, 0.2839188879374971, 0.8048886018287905, 0.8963114943495482, 0.9282392731631602, 0.816192721337454, 0.8331611785822437, 0.8613070305203748, 0.8715295705593222, 0.8054937807516019, 0.7472826281401428, 0.9398314259872728, 0.8411313627939337, 0.902476789927905, 0.09929380173441175, 0.8439973147425, 0.9849589004809259, 0.8985841748658365, 0.8981864510384207, 0.9719373892379775, 0.9744835783196206, 0.750397991113285, 0.7301819402294625, 0.9454176610559453, 0.8858473524753578, 0.882570356065944, 0.9673141090559101, 0.41015792174772037, 0.41015792174772037, 0.8984311924629029, 0.9461992880170882, 0.7595976034026121, 0.9075845370401406, 0.807786895494909, 0.7534790132265222, 0.8479116807743391, 0.9357491946357115, 0.9710570757252254, 0.8019275335905148, 0.9228474390451219, 0.8417013874609987, 0.8776239678337971, 0.27768100715048916, 0.7219706185912719, 0.9655081236238747, 0.9561217417729084, 0.9375356656864902, 0.9158340721532933, 0.6514925196962835, 0.32574625984814176, 0.9805392469661383, 0.9746277405559182, 0.9315208860550708, 0.3292479936889426, 0.10974933122964753, 0.5487466561482377, 0.9654173443692534, 0.922933033256075, 0.7478937761352958, 0.7769972304182332, 0.8646609174717589, 0.9786167072012585, 0.8675424746191147, 0.8884548063220311, 0.9338668588225267, 0.8293069039787768, 0.9456573783441435, 0.9814546616300793, 0.9480051829137608, 0.7403163059619943, 0.8052151842450125, 0.9820755019248129, 0.9737876195515187, 0.9289273270217865, 0.9076668653743236, 0.8796761636777799, 0.36258764365989665, 0.6284852490104875, 0.9378818750330268, 0.9424582111519689, 0.8633469256214007, 0.8874814129135336, 0.874623209744289, 0.9276431836575462, 0.9264522844553329, 0.9036632511409036, 0.8052151842450125, 0.9493626661107297, 0.9287059719925472, 0.9519153774171841, 0.9312214690807845, 0.9234441322806533, 0.9337981163054557, 0.8633469256214007, 0.4319374258247975, 0.47601267335794006, 0.0881504950662852, 0.944473221142038, 0.4773895197809895, 0.5370632097536132, 0.9670115621772141, 0.9548994017406823, 0.8042094840840746, 0.956097445839115, 0.9360567529654271, 0.9371277328084289, 0.7765030357182111, 0.9763280645663281, 0.9882799714711775, 0.9008022553993726, 0.9453496674924411, 0.9291500717621608, 0.9522155124261587, 0.9706176864484292, 0.9638323437166536, 0.8574377849053422, 0.9349672178184623, 0.9739283930971796, 0.9144275251117874, 0.37239919306034075, 0.10981001846651074, 0.2434917800779151, 0.23394308281995765, 0.03819478903182982, 0.888454728573264, 0.94272262753717, 0.23756533160026752, 0.744371372347505, 0.12261070098400509, 0.061305350492002544, 0.505769141559021, 0.24522140196801018, 0.061305350492002544, 0.9121064702144781, 0.9042282213182312, 0.9607967552682022, 0.9353235771276224, 0.3371944883402045, 0.6181898952903748, 0.9110154031533817, 0.9867064893640849, 0.7523948961892364, 0.21944851138852728, 0.8049188248454939, 0.7683597467285569, 0.771233114241219, 0.894879028241161, 0.8018644751290498, 0.859402896128994, 0.988315965504193, 0.8984311924629029, 0.9443289179643065, 0.3633926333915249, 0.6056543889858748, 0.49760241606089944, 0.45236583278263587, 0.9063659591174712, 0.9635026873612825, 0.8842918074521778, 0.9678472696451491, 0.9096629684639566, 0.9598863471075559, 0.9641843506838936, 0.750906795429114, 0.9342652066939925, 0.9163665826595032, 0.25079111654330116, 0.20063289323464092, 0.40126578646928185, 0.1504746699259807, 0.7319370701200936, 0.8258795173964085, 0.99290499257749, 0.8605290715411822, 0.8958993652701519, 0.9455129153180725, 0.7120983182281083, 0.974695991294389, 0.8912213540668205, 0.8752956750535001, 0.8422931341973541, 0.7704252973081728, 0.932771245140657, 0.9476331175689162, 0.8811750413549091, 0.4644331542344606, 0.4644331542344606, 0.9306385083741502, 0.8022385834035369, 0.9152713753584825, 0.7690723724505999, 0.907997001962397, 0.8021071048047936, 0.17824602328995415, 0.8557625021282274, 0.9410450764700485, 0.9201713864733534, 0.9770085786915412, 0.8556667740496157, 0.9254602457232918, 0.8154790755245579, 0.8052151842450125, 0.8046523271878181, 0.8666664610724795, 0.9470438430737455, 0.9554591818358605, 0.9402941420659175, 0.9351062541728139, 0.9357470301434678, 0.9726860688133315, 0.9126691425387278, 0.8792471930072473, 0.9667172528590732, 0.9638086971911161, 0.7504062713508459, 0.8305177759346496, 0.8920436634916988, 0.9059717046621275, 0.9456432864346678, 0.765431335385501, 0.9870674960365999, 0.9418166581301303, 0.7157999309592885, 0.9474321231578242, 0.8675850931619833, 0.921543341989228, 0.9216453762714201, 0.8022213327416834, 0.851824413453392, 0.13629190615254272, 0.9805978152205238, 0.7826375051069355, 0.8019275335905148, 0.9123052687871909, 0.07602543906559923, 0.7738453622780654, 0.9711101588141182, 0.7888408144836327, 0.8919474807329132, 0.39775256235206546, 0.5071345169988835, 0.08949432652921473, 0.8952306852818813, 0.8880817194670122, 0.8699700788828463, 0.9874945748216644, 0.9138083755436023], \"Term\": [\"accounting\", \"act\", \"activity\", \"administrative\", \"administrator\", \"adopt\", \"agent\", \"agricultural\", \"alley\", \"allow\", \"allowance\", \"allowance\", \"amend\", \"amending\", \"amount\", \"amount\", \"annual\", \"appropriate\", \"appropriating\", \"appropriation\", \"approve\", \"area\", \"article\", \"assessment\", \"assistance\", \"assistant\", \"authorize\", \"balance\", \"ban\", \"barangay\", \"benefit\", \"bonifacio\", \"bound\", \"bound\", \"building\", \"bus\", \"business\", \"cable\", \"cargo\", \"certain\", \"certification\", \"chapter\", \"charge\", \"charge\", \"child\", \"clearance\", \"clock\", \"close\", \"code\", \"collection\", \"commercial\", \"committee\", \"compensation\", \"composition\", \"comprehensive\", \"concern\", \"condition\", \"conduct\", \"construct\", \"construction\", \"contain\", \"continue_reade\", \"continue_reading\", \"control\", \"cooperative\", \"corn\", \"corner\", \"council\", \"cover\", \"create\", \"date\", \"davao\", \"day\", \"dead\", \"death\", \"declare\", \"define\", \"department\", \"deserving\", \"designate\", \"development\", \"development\", \"display\", \"disposal\", \"document\", \"driver\", \"drug\", \"duty\", \"education\", \"educational\", \"effective\", \"electrical\", \"elementary\", \"embrace\", \"employee\", \"employment\", \"enact\", \"enclose\", \"enter\", \"equal\", \"equipment\", \"establish\", \"establish\", \"establish\", \"establish\", \"establishment\", \"establishment\", \"establishment\", \"exist\", \"facility\", \"fee\", \"fee\", \"fee\", \"financial\", \"food\", \"form\", \"former\", \"front\", \"function\", \"fund\", \"fund\", \"fund\", \"garbage\", \"go\", \"gold\", \"govern\", \"government\", \"government\", \"government\", \"government\", \"grade\", \"grant\", \"grant\", \"grant\", \"grant\", \"guideline\", \"guideline\", \"hereunder\", \"high\", \"highly\", \"highway\", \"hire\", \"historical\", \"honor\", \"honorable\", \"hour\", \"house\", \"identify\", \"implement\", \"implementation\", \"implementation\", \"impose\", \"incentive\", \"include\", \"increase\", \"industrial\", \"industry\", \"install\", \"installation\", \"integrate\", \"issuance\", \"jeepney\", \"know\", \"know\", \"korean\", \"land\", \"lapu\", \"late\", \"law\", \"lead\", \"legal\", \"legislative\", \"letter\", \"level\", \"license\", \"limit\", \"line\", \"local\", \"local\", \"locate\", \"lot\", \"maintenance\", \"make\", \"management\", \"management\", \"market\", \"material\", \"may\", \"mayor\", \"mayor\", \"mayor\", \"medical\", \"memory\", \"meter\", \"mill\", \"minor\", \"monthly\", \"motorize\", \"movie\", \"name\", \"national\", \"necessary\", \"new\", \"non\", \"number\", \"oath\", \"office\", \"officer\", \"official\", \"officially\", \"operate\", \"operation\", \"operation\", \"operator\", \"order\", \"orderly\", \"ordinance\", \"organization\", \"otherwise_known\", \"own\", \"owner\", \"paper\", \"park\", \"parking\", \"part\", \"pass\", \"passenger\", \"payment\", \"peaceful\", \"penalty\", \"penalty\", \"penalty\", \"permit\", \"person\", \"person\", \"peso\", \"place\", \"plan\", \"poblacion\", \"point\", \"policy\", \"poor\", \"portion\", \"position\", \"power\", \"premise\", \"prescribe\", \"prescribing\", \"private\", \"procedure\", \"processing\", \"program\", \"prohibit\", \"property\", \"provide\", \"provide\", \"provide\", \"provide\", \"provide\", \"providing\", \"provision\", \"public\", \"public\", \"purpose\", \"purpose\", \"purpose\", \"purpose\", \"purpose\", \"qualification\", \"qualify\", \"rate\", \"real\", \"reclassify\", \"reclassify\", \"register\", \"regulate\", \"regulation\", \"regulation\", \"relocate\", \"rename\", \"render\", \"rental\", \"repair\", \"repeal\", \"require\", \"resident\", \"residential\", \"resolution\", \"resolution\", \"revise\", \"revise\", \"rice\", \"road\", \"room\", \"rule\", \"salary\", \"sale\", \"saving\", \"say\", \"schedule\", \"scholarship\", \"school\", \"school\", \"school\", \"school\", \"secondary\", \"secretary\", \"section\", \"secure\", \"sell\", \"series\", \"serve\", \"service\", \"set\", \"shall\", \"show\", \"sidewalk\", \"similar\", \"site\", \"sitio\", \"situate\", \"situate\", \"slaughter\", \"sobrecarey\", \"space\", \"special\", \"square_meter\", \"staff\", \"staff\", \"stall\", \"standard\", \"step\", \"street\", \"structure\", \"student\", \"subject\", \"subscribe\", \"subsistence\", \"supervise\", \"supply\", \"support\", \"system\", \"table\", \"take\", \"tax\", \"temporarily\", \"temporary\", \"terminal\", \"territorial_jurisdiction\", \"thereat\", \"therefore\", \"time\", \"title\", \"town\", \"trade\", \"traffic\", \"transfer\", \"treasurer\", \"tricycle\", \"truck\", \"undergo\", \"unit\", \"unloading\", \"use\", \"use\", \"utility\", \"utilize\", \"value\", \"vehicle\", \"vehicle\", \"vehicular\", \"vendor\", \"veteran\", \"vice\", \"violation\", \"violation\", \"violation\", \"waste\", \"way\", \"worker\", \"year\", \"zone\"]}, \"R\": 30, \"lambda.step\": 0.01, \"plot.opts\": {\"xlab\": \"PC1\", \"ylab\": \"PC2\"}, \"topic.order\": [6, 10, 8, 9, 7, 4, 1, 5, 3, 2]};\n",
       "\n",
       "function LDAvis_load_lib(url, callback){\n",
       "  var s = document.createElement('script');\n",
       "  s.src = url;\n",
       "  s.async = true;\n",
       "  s.onreadystatechange = s.onload = callback;\n",
       "  s.onerror = function(){console.warn(\"failed to load library \" + url);};\n",
       "  document.getElementsByTagName(\"head\")[0].appendChild(s);\n",
       "}\n",
       "\n",
       "if(typeof(LDAvis) !== \"undefined\"){\n",
       "   // already loaded: just create the visualization\n",
       "   !function(LDAvis){\n",
       "       new LDAvis(\"#\" + \"ldavis_el68281402941591217606319934015\", ldavis_el68281402941591217606319934015_data);\n",
       "   }(LDAvis);\n",
       "}else if(typeof define === \"function\" && define.amd){\n",
       "   // require.js is available: use it to load d3/LDAvis\n",
       "   require.config({paths: {d3: \"https://cdnjs.cloudflare.com/ajax/libs/d3/3.5.5/d3.min\"}});\n",
       "   require([\"d3\"], function(d3){\n",
       "      window.d3 = d3;\n",
       "      LDAvis_load_lib(\"https://cdn.rawgit.com/bmabey/pyLDAvis/files/ldavis.v1.0.0.js\", function(){\n",
       "        new LDAvis(\"#\" + \"ldavis_el68281402941591217606319934015\", ldavis_el68281402941591217606319934015_data);\n",
       "      });\n",
       "    });\n",
       "}else{\n",
       "    // require.js not available: dynamically load d3 & LDAvis\n",
       "    LDAvis_load_lib(\"https://cdnjs.cloudflare.com/ajax/libs/d3/3.5.5/d3.min.js\", function(){\n",
       "         LDAvis_load_lib(\"https://cdn.rawgit.com/bmabey/pyLDAvis/files/ldavis.v1.0.0.js\", function(){\n",
       "                 new LDAvis(\"#\" + \"ldavis_el68281402941591217606319934015\", ldavis_el68281402941591217606319934015_data);\n",
       "            })\n",
       "         });\n",
       "}\n",
       "</script>"
      ],
      "text/plain": [
       "PreparedData(topic_coordinates=              x         y  topics  cluster       Freq\n",
       "topic                                                \n",
       "5     -0.245480 -0.075636       1        1  16.134580\n",
       "9     -0.064608  0.244563       2        1  14.987149\n",
       "7     -0.079635  0.201428       3        1  11.369164\n",
       "8     -0.205889 -0.106580       4        1  11.064761\n",
       "6      0.161858  0.004408       5        1  10.753246\n",
       "3     -0.051637 -0.144351       6        1   8.676871\n",
       "0      0.135316 -0.067737       7        1   7.636767\n",
       "4      0.123503 -0.103847       8        1   6.949133\n",
       "2      0.118741  0.000538       9        1   6.713514\n",
       "1      0.107830  0.047214      10        1   5.714815, topic_info=          Term        Freq       Total Category  logprob  loglift\n",
       "38       amend  135.000000  135.000000  Default  30.0000  30.0000\n",
       "44     section   94.000000   94.000000  Default  29.0000  29.0000\n",
       "47      create   65.000000   65.000000  Default  28.0000  28.0000\n",
       "184     public   63.000000   63.000000  Default  27.0000  27.0000\n",
       "363     impose   51.000000   51.000000  Default  26.0000  26.0000\n",
       "..         ...         ...         ...      ...      ...      ...\n",
       "39      amount    9.899431   31.467371  Topic10  -3.6520   1.7056\n",
       "62       grant    8.901641   42.052794  Topic10  -3.7582   1.3094\n",
       "450  allowance    3.877100    7.498455  Topic10  -4.5894   2.2025\n",
       "31   establish    5.815285   38.060180  Topic10  -4.1840   0.9834\n",
       "32        fund    4.101973   79.086572  Topic10  -4.5330  -0.0970\n",
       "\n",
       "[395 rows x 6 columns], token_table=      Topic      Freq            Term\n",
       "term                                 \n",
       "704       6  0.777185      accounting\n",
       "110       1  0.953652             act\n",
       "57        9  0.905319        activity\n",
       "9         1  0.903328  administrative\n",
       "967       3  0.813600   administrator\n",
       "...     ...       ...             ...\n",
       "233       2  0.895231           waste\n",
       "425       5  0.888082             way\n",
       "108       2  0.869970          worker\n",
       "79        5  0.987495            year\n",
       "412       4  0.913808            zone\n",
       "\n",
       "[382 rows x 3 columns], R=30, lambda_step=0.01, plot_opts={'xlab': 'PC1', 'ylab': 'PC2'}, topic_order=[6, 10, 8, 9, 7, 4, 1, 5, 3, 2])"
      ]
     },
     "execution_count": 21,
     "metadata": {},
     "output_type": "execute_result"
    }
   ],
   "source": [
    "# Visualize the topics\n",
    "pyLDAvis.enable_notebook()\n",
    "vis = pyLDAvis.gensim.prepare(lda_model, corpus, id2word)\n",
    "vis"
   ]
  },
  {
   "cell_type": "code",
   "execution_count": 22,
   "metadata": {},
   "outputs": [],
   "source": [
    "mallet_path = '/Users/root1/Documents/lda/mallet/bin/mallet' # update this path\n",
    "ldamallet = gensim.models.wrappers.LdaMallet(mallet_path, corpus=corpus, num_topics=20, id2word=id2word)"
   ]
  },
  {
   "cell_type": "code",
   "execution_count": null,
   "metadata": {},
   "outputs": [],
   "source": []
  },
  {
   "cell_type": "code",
   "execution_count": null,
   "metadata": {},
   "outputs": [],
   "source": []
  }
 ],
 "metadata": {
  "kernelspec": {
   "display_name": "Python 3",
   "language": "python",
   "name": "python3"
  },
  "language_info": {
   "codemirror_mode": {
    "name": "ipython",
    "version": 3
   },
   "file_extension": ".py",
   "mimetype": "text/x-python",
   "name": "python",
   "nbconvert_exporter": "python",
   "pygments_lexer": "ipython3",
   "version": "3.9.0"
  }
 },
 "nbformat": 4,
 "nbformat_minor": 4
}
