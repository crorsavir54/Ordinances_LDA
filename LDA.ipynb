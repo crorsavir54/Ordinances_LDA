{
 "cells": [
  {
   "cell_type": "code",
   "execution_count": 1,
   "metadata": {},
   "outputs": [],
   "source": [
    "import re\n",
    "import numpy as np\n",
    "import pandas as pd"
   ]
  },
  {
   "cell_type": "code",
   "execution_count": 2,
   "metadata": {},
   "outputs": [],
   "source": [
    "#Gensim\n",
    "import gensim\n",
    "import gensim.corpora as corpora\n",
    "from gensim.utils import simple_preprocess\n",
    "from gensim.models import CoherenceModel"
   ]
  },
  {
   "cell_type": "code",
   "execution_count": 3,
   "metadata": {},
   "outputs": [],
   "source": [
    "#spacy for lemmatization\n",
    "import spacy"
   ]
  },
  {
   "cell_type": "code",
   "execution_count": 4,
   "metadata": {},
   "outputs": [],
   "source": [
    "# Plotting tools\n",
    "import pyLDAvis\n",
    "import pyLDAvis.gensim\n",
    "import matplotlib.pyplot as plt\n",
    "%matplotlib inline"
   ]
  },
  {
   "cell_type": "code",
   "execution_count": 5,
   "metadata": {},
   "outputs": [
    {
     "name": "stderr",
     "output_type": "stream",
     "text": [
      "/Users/root1/Documents/lda/myvenv/lib/python3.9/site-packages/ipykernel/ipkernel.py:287: DeprecationWarning: `should_run_async` will not call `transform_cell` automatically in the future. Please pass the result to `transformed_cell` argument and any exception that happen during thetransform in `preprocessing_exc_tuple` in IPython 7.17 and above.\n",
      "  and should_run_async(code)\n"
     ]
    }
   ],
   "source": [
    "import warnings\n",
    "warnings.filterwarnings(\"ignore\", category=DeprecationWarning)"
   ]
  },
  {
   "cell_type": "code",
   "execution_count": 6,
   "metadata": {},
   "outputs": [],
   "source": [
    "# NLTK Stop words\n",
    "from nltk.corpus import stopwords\n",
    "stop_words = stopwords.words('english')\n",
    "stop_words.extend(['tagum', 'city', 'ordinance', 'municipal', 'municipality', 'thereof'])"
   ]
  },
  {
   "cell_type": "code",
   "execution_count": 7,
   "metadata": {},
   "outputs": [
    {
     "name": "stdout",
     "output_type": "stream",
     "text": [
      "                                     OR  \\\n",
      "0        CITY ORDINANCE No. 842, s-2018   \n",
      "1        CITY ORDINANCE NO. 825, s-2017   \n",
      "2        CITY ORDINANCE NO. 837, s-2018   \n",
      "3        CITY ORDINANCE NO. 844, s-2018   \n",
      "4        CITY ORDINANCE NO. 838, s-2018   \n",
      "..                                  ...   \n",
      "670  MUNICIPAL ORDINANCE NO. 05, s-1974   \n",
      "671  MUNICIPAL ORDINANCE NO. 04, s-1974   \n",
      "672  MUNICIPAL ORDINANCE NO. 01, s-1974   \n",
      "673    MUNICIPAL ORDINANCE NO. 03, 1973   \n",
      "674  MUNICIPAL ORDINANCE NO. 02, S-1973   \n",
      "\n",
      "                                                    OT  \n",
      "0    “AN ORDINANCE REGULATING THE PRACTICE OF TRADI...  \n",
      "1    “AN ORDINANCE RECONSTITUTING THE MEMBERS OF TH...  \n",
      "2    “AN ORDINANCE ESTABLISHING FUNERAL AND BURIAL ...  \n",
      "3    AN ORDINANCE AMENDING THE TITLE, SECTION 1, SE...  \n",
      "4    “AN ORDINANCE CREATING THE CITY HISTORICAL, CU...  \n",
      "..                                                 ...  \n",
      "670  “AN ORDINANCE AMENDING SECTION 10 OF MUNICIPAL...  \n",
      "671  “AN ORDINANCE REGULATING THE ELECTRICAL INSTAL...  \n",
      "672  “AN ORDINANCE PROHIBITING THE EMPLOYMENT OF “H...  \n",
      "673  “AN ORDINANCE REGULATING THE ESTABLISHMENT, OP...  \n",
      "674  “AN ORDINANCE PROHIBITING THE USE OF MUNICIPAL...  \n",
      "\n",
      "[675 rows x 2 columns]\n"
     ]
    },
    {
     "data": {
      "text/html": [
       "<div>\n",
       "<style scoped>\n",
       "    .dataframe tbody tr th:only-of-type {\n",
       "        vertical-align: middle;\n",
       "    }\n",
       "\n",
       "    .dataframe tbody tr th {\n",
       "        vertical-align: top;\n",
       "    }\n",
       "\n",
       "    .dataframe thead th {\n",
       "        text-align: right;\n",
       "    }\n",
       "</style>\n",
       "<table border=\"1\" class=\"dataframe\">\n",
       "  <thead>\n",
       "    <tr style=\"text-align: right;\">\n",
       "      <th></th>\n",
       "      <th>OR</th>\n",
       "      <th>OT</th>\n",
       "    </tr>\n",
       "  </thead>\n",
       "  <tbody>\n",
       "    <tr>\n",
       "      <th>0</th>\n",
       "      <td>CITY ORDINANCE No. 842, s-2018</td>\n",
       "      <td>“AN ORDINANCE REGULATING THE PRACTICE OF TRADI...</td>\n",
       "    </tr>\n",
       "    <tr>\n",
       "      <th>1</th>\n",
       "      <td>CITY ORDINANCE NO. 825, s-2017</td>\n",
       "      <td>“AN ORDINANCE RECONSTITUTING THE MEMBERS OF TH...</td>\n",
       "    </tr>\n",
       "    <tr>\n",
       "      <th>2</th>\n",
       "      <td>CITY ORDINANCE NO. 837, s-2018</td>\n",
       "      <td>“AN ORDINANCE ESTABLISHING FUNERAL AND BURIAL ...</td>\n",
       "    </tr>\n",
       "    <tr>\n",
       "      <th>3</th>\n",
       "      <td>CITY ORDINANCE NO. 844, s-2018</td>\n",
       "      <td>AN ORDINANCE AMENDING THE TITLE, SECTION 1, SE...</td>\n",
       "    </tr>\n",
       "    <tr>\n",
       "      <th>4</th>\n",
       "      <td>CITY ORDINANCE NO. 838, s-2018</td>\n",
       "      <td>“AN ORDINANCE CREATING THE CITY HISTORICAL, CU...</td>\n",
       "    </tr>\n",
       "  </tbody>\n",
       "</table>\n",
       "</div>"
      ],
      "text/plain": [
       "                               OR  \\\n",
       "0  CITY ORDINANCE No. 842, s-2018   \n",
       "1  CITY ORDINANCE NO. 825, s-2017   \n",
       "2  CITY ORDINANCE NO. 837, s-2018   \n",
       "3  CITY ORDINANCE NO. 844, s-2018   \n",
       "4  CITY ORDINANCE NO. 838, s-2018   \n",
       "\n",
       "                                                  OT  \n",
       "0  “AN ORDINANCE REGULATING THE PRACTICE OF TRADI...  \n",
       "1  “AN ORDINANCE RECONSTITUTING THE MEMBERS OF TH...  \n",
       "2  “AN ORDINANCE ESTABLISHING FUNERAL AND BURIAL ...  \n",
       "3  AN ORDINANCE AMENDING THE TITLE, SECTION 1, SE...  \n",
       "4  “AN ORDINANCE CREATING THE CITY HISTORICAL, CU...  "
      ]
     },
     "execution_count": 7,
     "metadata": {},
     "output_type": "execute_result"
    }
   ],
   "source": [
    "# Import Dataset\n",
    "df = pd.read_csv('/Users/root1/Documents/lda/tagum_ordinances.csv', header = 0)\n",
    "print(df)\n",
    "df.head()"
   ]
  },
  {
   "cell_type": "code",
   "execution_count": 8,
   "metadata": {},
   "outputs": [
    {
     "name": "stdout",
     "output_type": "stream",
     "text": [
      "['“AN ORDINANCE REGULATING THE PRACTICE OF TRADITIONAL HOME BIRTH DELIVERY OR DELIVERIES ATTENDED BY A TRADITIONAL BIRTH ATTENDANT OR MANANABANG”.']\n"
     ]
    }
   ],
   "source": [
    "# Convert to list\n",
    "data = list(df.OT)\n",
    "print(data[:1])"
   ]
  },
  {
   "cell_type": "code",
   "execution_count": 9,
   "metadata": {},
   "outputs": [
    {
     "name": "stdout",
     "output_type": "stream",
     "text": [
      "['“AN ORDINANCE THE PRACTICE OF TRADITIONAL HOME BIRTH DELIVERY OR DELIVERIES ATTENDED BY A TRADITIONAL BIRTH ATTENDANT OR MANANABANG”.', '“AN ORDINANCE THE MEMBERS OF THE CITY TRICYCLE AND REGULATORY BOARD (CTFRB) ITS FUNCTIONS AND PROCEDURES AND MOTORIZED TRICYCLE FOR HIRE (MTH), TRICYCLE UTILITY VEHICLE (TUV) AND TRICYCLE UTILITY FOR HIRE (TUH) GUIDELINES, REGULATIONS AND OPERATIONS, THE COLLECTION OF FEES, CHARGES,ADMINISTRATIVE PROVISIONS AND PENALTIES FOR VIOLATION THEREOF”.', '“AN ORDINANCE FUNERAL AND BURIAL ASSISTANCE FOR INDIGENT TAGUMENYOS, ITS MANAGEMENT, PROCEDURES AND GUIDELINES AND FUNDS THEREFOR”.', 'AN ORDINANCE THE TITLE, SECTION 1, SECTION 2 AND SECTION 3 OF CITY ORDINANCE NO. 820, S-2017 “AN ORDINANCE INTO A LOAN AGREEMENT WITH THE DEVELOPMENT BANK OF THE PHILIPPINES, IN THE AMOUNT OF SIX HUNDRED EIGHTY MILLION PESOS (P 680,000,000.00) TO FUND THE ACQUISITION OF HEAVY EQUIPMENT,ACQUISITION OF SERVICE VEHICLES, ACQUISITION OF continue reading : CITY ORDINANCE NO. 844, s-2018', '“AN ORDINANCE THE CITY HISTORICAL, CULTURAL AND ARTS COUNCIL IN THE CITY OF TAGUM”.']\n"
     ]
    }
   ],
   "source": [
    "# Remove new line characters\n",
    "data = [re.sub('\\s+', ' ', sent) for sent in data]\n",
    "\n",
    "# Remove distracting single quotes\n",
    "data = [re.sub(\"\\'\", \"\", sent) for sent in data]\n",
    "data = [re.sub(\"\\\"\", \"\", sent) for sent in data]\n",
    "\n",
    "# Remove Emails\n",
    "data = [re.sub('\\S*ING\\S*\\s?', '', sent) for sent in data]\n",
    "\n",
    "\n",
    "print(data[:5])"
   ]
  },
  {
   "cell_type": "code",
   "execution_count": 10,
   "metadata": {},
   "outputs": [
    {
     "name": "stdout",
     "output_type": "stream",
     "text": [
      "[['an', 'ordinance', 'the', 'practice', 'of', 'traditional', 'home', 'birth', 'delivery', 'or', 'deliveries', 'attended', 'by', 'traditional', 'birth', 'attendant', 'or', 'mananabang'], ['an', 'ordinance', 'the', 'members', 'of', 'the', 'city', 'tricycle', 'and', 'regulatory', 'board', 'ctfrb', 'its', 'functions', 'and', 'procedures', 'and', 'motorized', 'tricycle', 'for', 'hire', 'mth', 'tricycle', 'utility', 'vehicle', 'tuv', 'and', 'tricycle', 'utility', 'for', 'hire', 'tuh', 'guidelines', 'regulations', 'and', 'operations', 'the', 'collection', 'of', 'fees', 'charges', 'administrative', 'provisions', 'and', 'penalties', 'for', 'violation', 'thereof'], ['an', 'ordinance', 'funeral', 'and', 'burial', 'assistance', 'for', 'indigent', 'tagumenyos', 'its', 'management', 'procedures', 'and', 'guidelines', 'and', 'funds', 'therefor'], ['an', 'ordinance', 'the', 'title', 'section', 'section', 'and', 'section', 'of', 'city', 'ordinance', 'no', 'an', 'ordinance', 'into', 'loan', 'agreement', 'with', 'the', 'development', 'bank', 'of', 'the', 'philippines', 'in', 'the', 'amount', 'of', 'six', 'hundred', 'eighty', 'million', 'pesos', 'to', 'fund', 'the', 'acquisition', 'of', 'heavy', 'equipment', 'acquisition', 'of', 'service', 'vehicles', 'acquisition', 'of', 'continue', 'reading', 'city', 'ordinance', 'no'], ['an', 'ordinance', 'the', 'city', 'historical', 'cultural', 'and', 'arts', 'council', 'in', 'the', 'city', 'of', 'tagum']]\n"
     ]
    }
   ],
   "source": [
    "def sent_to_words(sentences):\n",
    "    for sentence in sentences:\n",
    "        yield(gensim.utils.simple_preprocess(str(sentence), deacc=True))  # deacc=True removes punctuations\n",
    "\n",
    "data_words = list(sent_to_words(data))\n",
    "\n",
    "print(data_words[:5])"
   ]
  },
  {
   "cell_type": "code",
   "execution_count": 11,
   "metadata": {},
   "outputs": [
    {
     "name": "stdout",
     "output_type": "stream",
     "text": [
      "['an', 'ordinance', 'the', 'practice', 'of', 'traditional', 'home', 'birth', 'delivery', 'or', 'deliveries', 'attended', 'by', 'traditional', 'birth', 'attendant', 'or', 'mananabang']\n"
     ]
    }
   ],
   "source": [
    "# Build the bigram and trigram models\n",
    "bigram = gensim.models.Phrases(data_words, min_count=5, threshold=100) # higher threshold fewer phrases.\n",
    "trigram = gensim.models.Phrases(bigram[data_words], threshold=100)  \n",
    "\n",
    "# Faster way to get a sentence clubbed as a trigram/bigram\n",
    "bigram_mod = gensim.models.phrases.Phraser(bigram)\n",
    "trigram_mod = gensim.models.phrases.Phraser(trigram)\n",
    "\n",
    "# See trigram example\n",
    "print(trigram_mod[bigram_mod[data_words[0]]])"
   ]
  },
  {
   "cell_type": "code",
   "execution_count": 12,
   "metadata": {},
   "outputs": [],
   "source": [
    "# Define functions for stopwords, bigrams, trigrams and lemmatization\n",
    "def remove_stopwords(texts):\n",
    "    return [[word for word in simple_preprocess(str(doc)) if word not in stop_words] for doc in texts]\n",
    "\n",
    "def make_bigrams(texts):\n",
    "    return [bigram_mod[doc] for doc in texts]\n",
    "\n",
    "def make_trigrams(texts):\n",
    "    return [trigram_mod[bigram_mod[doc]] for doc in texts]\n",
    "\n",
    "def lemmatization(texts, allowed_postags=['NOUN', 'ADJ', 'VERB', 'ADV']):\n",
    "    \"\"\"https://spacy.io/api/annotation\"\"\"\n",
    "    texts_out = []\n",
    "    for sent in texts:\n",
    "        doc = nlp(\" \".join(sent)) \n",
    "        texts_out.append([token.lemma_ for token in doc if token.pos_ in allowed_postags])\n",
    "    return texts_out"
   ]
  },
  {
   "cell_type": "code",
   "execution_count": 13,
   "metadata": {},
   "outputs": [
    {
     "name": "stdout",
     "output_type": "stream",
     "text": [
      "[['practice', 'traditional', 'home', 'birth', 'delivery', 'delivery', 'attend', 'traditional', 'birth', 'attendant', 'mananabang'], ['function', 'procedure', 'tricycle', 'utility', 'vehicle', 'tricycle', 'utility', 'hire', 'guideline', 'operation', 'collection', 'fee', 'charge', 'administrative', 'provision', 'penalty', 'violation'], ['indigent', 'management', 'procedure', 'guideline', 'fund'], ['section', 'loan', 'amount', 'acquisition', 'equipment', 'acquisition', 'service', 'vehicle', 'acquisition', 'continue_reading']]\n"
     ]
    }
   ],
   "source": [
    "# Remove Stop Words\n",
    "data_words_nostops = remove_stopwords(data_words)\n",
    "\n",
    "# Form Bigrams\n",
    "data_words_bigrams = make_bigrams(data_words_nostops)\n",
    "\n",
    "# Initialize spacy 'en' model, keeping only tagger component (for efficiency)\n",
    "# python3 -m spacy download en\n",
    "nlp = spacy.load('en', disable=['parser', 'ner'])\n",
    "\n",
    "# Do lemmatization keeping only noun, adj, vb, adv\n",
    "data_lemmatized = lemmatization(data_words_bigrams, allowed_postags=['NOUN', 'ADJ', 'VERB', 'ADV'])\n",
    "\n",
    "print(data_lemmatized[:4])"
   ]
  },
  {
   "cell_type": "code",
   "execution_count": 14,
   "metadata": {},
   "outputs": [
    {
     "name": "stdout",
     "output_type": "stream",
     "text": [
      "[[(0, 1), (1, 1), (2, 2), (3, 2), (4, 1), (5, 1), (6, 1), (7, 2)]]\n"
     ]
    }
   ],
   "source": [
    "# Create Dictionary\n",
    "id2word = corpora.Dictionary(data_lemmatized)\n",
    "\n",
    "# Create Corpus\n",
    "texts = data_lemmatized\n",
    "\n",
    "# Term Document Frequency\n",
    "corpus = [id2word.doc2bow(text) for text in texts]\n",
    "\n",
    "# View\n",
    "print(corpus[:1])"
   ]
  },
  {
   "cell_type": "code",
   "execution_count": 15,
   "metadata": {},
   "outputs": [
    {
     "data": {
      "text/plain": [
       "'attend'"
      ]
     },
     "execution_count": 15,
     "metadata": {},
     "output_type": "execute_result"
    }
   ],
   "source": [
    "id2word[0]"
   ]
  },
  {
   "cell_type": "code",
   "execution_count": 16,
   "metadata": {},
   "outputs": [
    {
     "data": {
      "text/plain": [
       "[[('attend', 1),\n",
       "  ('attendant', 1),\n",
       "  ('birth', 2),\n",
       "  ('delivery', 2),\n",
       "  ('home', 1),\n",
       "  ('mananabang', 1),\n",
       "  ('practice', 1),\n",
       "  ('traditional', 2)]]"
      ]
     },
     "execution_count": 16,
     "metadata": {},
     "output_type": "execute_result"
    }
   ],
   "source": [
    "# Human readable format of corpus (term-frequency)\n",
    "[[(id2word[id], freq) for id, freq in cp] for cp in corpus[:1]]"
   ]
  },
  {
   "cell_type": "code",
   "execution_count": 17,
   "metadata": {},
   "outputs": [],
   "source": [
    "# Build LDA model\n",
    "lda_model = gensim.models.ldamodel.LdaModel(corpus=corpus,\n",
    "                                           id2word=id2word,\n",
    "                                           num_topics=12, \n",
    "                                           random_state=100,\n",
    "                                           update_every=1,\n",
    "                                           chunksize=100,\n",
    "                                           passes=50,\n",
    "                                           alpha='auto',\n",
    "                                           per_word_topics=True)"
   ]
  },
  {
   "cell_type": "code",
   "execution_count": 18,
   "metadata": {},
   "outputs": [
    {
     "name": "stdout",
     "output_type": "stream",
     "text": [
      "[(0, '0.161*\"section\" + 0.055*\"road\" + 0.054*\"tax\" + 0.032*\"implementation\" + 0.024*\"annual\" + 0.023*\"material\" + 0.023*\"code\" + 0.021*\"article\" + 0.021*\"bus\" + 0.020*\"jeepney\"'), (1, '0.069*\"service\" + 0.042*\"private\" + 0.039*\"development\" + 0.037*\"mayor\" + 0.035*\"management\" + 0.029*\"appropriation\" + 0.024*\"temporary\" + 0.023*\"issuance\" + 0.023*\"official\" + 0.021*\"clearance\"'), (2, '0.064*\"situate\" + 0.041*\"system\" + 0.036*\"supply\" + 0.032*\"secure\" + 0.028*\"driver\" + 0.028*\"disposal\" + 0.026*\"civil\" + 0.025*\"set\" + 0.021*\"highway\" + 0.021*\"facility\"'), (3, '0.082*\"market\" + 0.044*\"public\" + 0.041*\"street\" + 0.039*\"amount\" + 0.032*\"new\" + 0.027*\"portion\" + 0.023*\"rule\" + 0.023*\"medical\" + 0.021*\"benefit\" + 0.018*\"regulation\"'), (4, '0.074*\"establishment\" + 0.057*\"operation\" + 0.050*\"regulation\" + 0.041*\"revise\" + 0.035*\"student\" + 0.034*\"park\" + 0.032*\"sale\" + 0.031*\"commercial\" + 0.027*\"lot\" + 0.023*\"close\"'), (5, '0.092*\"penalty\" + 0.087*\"violation\" + 0.048*\"public\" + 0.034*\"vehicle\" + 0.032*\"government\" + 0.028*\"use\" + 0.026*\"fee\" + 0.017*\"operation\" + 0.015*\"rate\" + 0.012*\"house\"'), (6, '0.040*\"traffic\" + 0.033*\"terminal\" + 0.033*\"territorial_jurisdiction\" + 0.028*\"purpose\" + 0.024*\"construction\" + 0.022*\"comprehensive\" + 0.021*\"locate\" + 0.020*\"amount\" + 0.019*\"site\" + 0.018*\"child\"'), (7, '0.061*\"fee\" + 0.053*\"provide\" + 0.053*\"utility\" + 0.039*\"charge\" + 0.037*\"monthly\" + 0.036*\"school\" + 0.027*\"unit\" + 0.026*\"penalty\" + 0.025*\"procedure\" + 0.021*\"violation\"'), (8, '0.087*\"area\" + 0.031*\"cover\" + 0.031*\"continue_reading\" + 0.025*\"residential\" + 0.024*\"bound\" + 0.023*\"square_meter\" + 0.020*\"know\" + 0.019*\"employee\" + 0.019*\"register\" + 0.017*\"embrace\"'), (9, '0.064*\"office\" + 0.046*\"year\" + 0.040*\"person\" + 0.035*\"certain\" + 0.027*\"act\" + 0.024*\"property\" + 0.023*\"support\" + 0.021*\"owner\" + 0.018*\"provision\" + 0.018*\"real\"'), (10, '0.155*\"fund\" + 0.054*\"guideline\" + 0.045*\"davao\" + 0.044*\"duty\" + 0.043*\"policy\" + 0.040*\"purpose\" + 0.038*\"function\" + 0.031*\"program\" + 0.028*\"power\" + 0.017*\"composition\"'), (11, '0.065*\"purpose\" + 0.063*\"position\" + 0.045*\"fund\" + 0.040*\"business\" + 0.038*\"necessary\" + 0.034*\"legislative\" + 0.030*\"compensation\" + 0.027*\"officer\" + 0.025*\"local\" + 0.023*\"duty\"')]\n"
     ]
    }
   ],
   "source": [
    "print(lda_model.print_topics())\n",
    "doc_lda = lda_model[corpus]"
   ]
  },
  {
   "cell_type": "code",
   "execution_count": 19,
   "metadata": {},
   "outputs": [
    {
     "name": "stdout",
     "output_type": "stream",
     "text": [
      "\n",
      "Perplexity:  -6.82037510426432\n",
      "\n",
      "Coherence Score:  0.49747051572831386\n"
     ]
    }
   ],
   "source": [
    "# Compute Perplexity\n",
    "print('\\nPerplexity: ', lda_model.log_perplexity(corpus))  # a measure of how good the model is. lower the better.\n",
    "\n",
    "# Compute Coherence Score\n",
    "coherence_model_lda = CoherenceModel(model=lda_model, texts=data_lemmatized, dictionary=id2word, coherence='c_v')\n",
    "coherence_lda = coherence_model_lda.get_coherence()\n",
    "print('\\nCoherence Score: ', coherence_lda)"
   ]
  },
  {
   "cell_type": "code",
   "execution_count": 20,
   "metadata": {},
   "outputs": [
    {
     "data": {
      "text/html": [
       "\n",
       "<link rel=\"stylesheet\" type=\"text/css\" href=\"https://cdn.rawgit.com/bmabey/pyLDAvis/files/ldavis.v1.0.0.css\">\n",
       "\n",
       "\n",
       "<div id=\"ldavis_el35411406837607650723953749773\"></div>\n",
       "<script type=\"text/javascript\">\n",
       "\n",
       "var ldavis_el35411406837607650723953749773_data = {\"mdsDat\": {\"x\": [-0.28467509504508637, -0.056880149604056476, 0.21949883381553856, -0.00017065042917727862, 0.07095491047348552, 0.03120819418052468, -0.1311181769485724, -0.09895894543881029, 0.15437675063680048, 0.023038802617187926, 0.06559577277207056, 0.007129752970093696], \"y\": [0.15983794254820843, -0.24960375316185807, 0.14449126874776205, -0.11051487177703377, -0.024481856856035558, 0.011294163018347856, 0.0834466596201614, 0.012045933924633418, 0.11101698638500092, -0.0725717625334101, -0.03276088754031662, -0.032199822375460097], \"topics\": [1, 2, 3, 4, 5, 6, 7, 8, 9, 10, 11, 12], \"cluster\": [1, 1, 1, 1, 1, 1, 1, 1, 1, 1, 1, 1], \"Freq\": [18.848724793358514, 10.89271300406619, 10.096346333329397, 8.681744671183536, 8.159319533194811, 8.004615203217845, 7.123207492769626, 6.7855541558053, 6.750020480354345, 6.299203784087541, 5.793655861253694, 2.564894687379201]}, \"tinfo\": {\"Term\": [\"section\", \"fund\", \"violation\", \"penalty\", \"market\", \"public\", \"fee\", \"area\", \"purpose\", \"position\", \"office\", \"establishment\", \"operation\", \"service\", \"road\", \"tax\", \"regulation\", \"duty\", \"provide\", \"utility\", \"guideline\", \"year\", \"amount\", \"street\", \"vehicle\", \"business\", \"necessary\", \"person\", \"davao\", \"government\", \"vehicle\", \"use\", \"rate\", \"house\", \"license\", \"own\", \"place\", \"clock\", \"poblacion\", \"industrial\", \"garbage\", \"gold\", \"structure\", \"document\", \"inspection\", \"rice\", \"regulate\", \"operator\", \"corn\", \"resolution\", \"government\", \"motorize\", \"highly\", \"moviehouse\", \"violation\", \"similar\", \"plant\", \"limit\", \"employment\", \"mill\", \"penalty\", \"public\", \"fee\", \"operation\", \"passenger\", \"permit\", \"market\", \"street\", \"new\", \"portion\", \"benefit\", \"premise\", \"expense\", \"installation\", \"part\", \"stall\", \"death\", \"assistance\", \"town\", \"allowance\", \"space\", \"increase\", \"declare\", \"pay\", \"financial\", \"entitle\", \"meter\", \"trade\", \"dead\", \"qualify\", \"separation\", \"overtime\", \"budget\", \"govern\", \"sitio\", \"subsistence\", \"amount\", \"rule\", \"medical\", \"take\", \"peso\", \"public\", \"regulation\", \"guideline\", \"position\", \"business\", \"necessary\", \"legislative\", \"compensation\", \"officer\", \"vendor\", \"staff\", \"qualification\", \"authorize\", \"department\", \"salary\", \"additional\", \"dutie\", \"assistant\", \"drug\", \"administrator\", \"swear\", \"grade\", \"may\", \"people\", \"effective\", \"cultural\", \"indigenous\", \"secretary\", \"local\", \"vacant\", \"representative\", \"grant\", \"enter\", \"purpose\", \"duty\", \"fund\", \"composition\", \"continue_reade\", \"mayor\", \"implementation\", \"office\", \"year\", \"person\", \"certain\", \"act\", \"property\", \"support\", \"owner\", \"real\", \"way\", \"show\", \"republic_act\", \"control\", \"therefore\", \"special\", \"honor\", \"case\", \"day\", \"activity\", \"movie\", \"administer\", \"otherwise_known\", \"thereafter\", \"theater\", \"utilize\", \"hospital\", \"collect\", \"good\", \"violative\", \"omission\", \"provision\", \"medical\", \"take\", \"mayor\", \"rule\", \"penalty\", \"purpose\", \"traffic\", \"terminal\", \"territorial_jurisdiction\", \"construction\", \"comprehensive\", \"locate\", \"site\", \"child\", \"amend\", \"agricultural\", \"construct\", \"subject\", \"cable\", \"honorable\", \"schedule\", \"identify\", \"food\", \"high\", \"condition\", \"location\", \"series\", \"term\", \"table\", \"elementary\", \"secondary\", \"teacher\", \"value\", \"assessment\", \"level\", \"welfare\", \"amount\", \"purpose\", \"school\", \"code\", \"government\", \"section\", \"road\", \"tax\", \"annual\", \"material\", \"article\", \"bus\", \"jeepney\", \"chapter\", \"truck\", \"educational\", \"enact\", \"scholarship\", \"cargo\", \"letter\", \"designate\", \"video\", \"mun_ord\", \"police\", \"item\", \"engage\", \"van\", \"toll\", \"ordinance\", \"regulatory\", \"implementation\", \"repeal\", \"sergeant\", \"baby\", \"occupational\", \"code\", \"permit\", \"passenger\", \"program\", \"incentive\", \"guideline\", \"provide\", \"utility\", \"charge\", \"monthly\", \"unit\", \"procedure\", \"zone\", \"collection\", \"hire\", \"tricycle\", \"administrative\", \"law\", \"enterprise\", \"number\", \"submit\", \"waste\", \"tuition\", \"economic\", \"respectively\", \"month\", \"usual\", \"barangays\", \"coordinator\", \"pattern\", \"rural\", \"laboratory\", \"desk\", \"motorolla\", \"ord\", \"adjacent\", \"school\", \"fee\", \"barangay\", \"payment\", \"provision\", \"function\", \"peso\", \"penalty\", \"violation\", \"guideline\", \"operation\", \"revise\", \"student\", \"park\", \"sale\", \"commercial\", \"lot\", \"close\", \"point\", \"poor\", \"organization\", \"establishment\", \"night\", \"hour\", \"install\", \"water\", \"bar\", \"standard\", \"age\", \"creek\", \"open\", \"finance\", \"generator\", \"diesel\", \"investment\", \"auction\", \"livestock\", \"accreditation\", \"exemption\", \"society\", \"mechanic\", \"regulation\", \"operation\", \"continue_reade\", \"incentive\", \"violation\", \"penalty\", \"mandatory\", \"davao\", \"policy\", \"power\", \"cooperative\", \"non\", \"worker\", \"legal\", \"education\", \"week\", \"respective\", \"center\", \"veteran\", \"purok\", \"electrician\", \"honorarium\", \"celebration\", \"burial_assistance\", \"human\", \"religious\", \"araw\", \"provincial\", \"function\", \"social\", \"fund\", \"clep\", \"right\", \"program\", \"literacy\", \"tourism\", \"baggage\", \"guideline\", \"duty\", \"composition\", \"purpose\", \"area\", \"cover\", \"continue_reading\", \"residential\", \"bound\", \"square_meter\", \"know\", \"employee\", \"register\", \"embrace\", \"line\", \"date\", \"late\", \"former\", \"corner\", \"officially\", \"memory\", \"tct\", \"therein\", \"bonifacio\", \"lapu\", \"home\", \"extension\", \"relocation\", \"forest\", \"rizal\", \"land\", \"period\", \"village\", \"name\", \"establishment\", \"vehicular\", \"service\", \"private\", \"development\", \"management\", \"appropriation\", \"temporary\", \"issuance\", \"official\", \"clearance\", \"balance\", \"render\", \"certification\", \"shall\", \"plan\", \"conduct\", \"integrate\", \"transport\", \"oath\", \"agent\", \"subscribe\", \"paper\", \"contractor\", \"agency\", \"contract\", \"make\", \"unappropriated\", \"subsequent\", \"available\", \"conservation\", \"work\", \"mayor\", \"barangay\", \"purpose\", \"situate\", \"system\", \"supply\", \"secure\", \"driver\", \"disposal\", \"civil\", \"set\", \"highway\", \"facility\", \"say\", \"national\", \"registration\", \"recruitment\", \"thereon\", \"identification\", \"foreign\", \"monitor\", \"mercury\", \"establish\", \"motorcycle\", \"domestic\", \"card\", \"stock\", \"arcade\", \"augment\", \"wear\", \"rider\", \"helmet\", \"crash\"], \"Freq\": [64.0, 74.0, 93.0, 106.0, 44.0, 69.0, 46.0, 27.0, 64.0, 31.0, 28.0, 28.0, 38.0, 20.0, 22.0, 21.0, 30.0, 26.0, 19.0, 19.0, 32.0, 20.0, 29.0, 22.0, 31.0, 20.0, 19.0, 17.0, 15.0, 34.0, 31.144826053816843, 26.210033691369517, 14.359452357225068, 11.03526246941674, 9.464726188699993, 8.919112478083576, 8.332421834126073, 8.234099589310986, 7.9604559177204886, 7.274369280154531, 7.174449359281146, 6.562396147362001, 6.371903703169704, 6.010221261944319, 5.760129286154303, 5.676672506446736, 5.653537708288694, 5.462108323328552, 5.1642919251844965, 5.087287564371472, 29.801807993108028, 4.850415904814252, 4.674729368923413, 4.604496789588167, 80.91623827393497, 4.48858457157371, 4.334723878820702, 4.3271575750243585, 4.278339983179323, 4.25549649548572, 85.20487381628412, 44.74273934218903, 24.280396627498895, 15.857669412539074, 7.260256043401849, 6.533322931440003, 43.91014269108678, 22.018470278247587, 16.88200148193666, 14.333952984714895, 11.062790527075949, 9.417972807014277, 8.110356102675903, 7.8294005649446765, 7.673836244390326, 7.646288385566923, 6.850127980585341, 6.611783409229063, 6.419397826563318, 5.83712427092108, 5.754956061743291, 5.2258682747838625, 4.742577362800341, 4.142235111337406, 4.137472210401718, 4.091035609767329, 3.9832250014272694, 3.871689269330837, 3.651886267030532, 3.506593222029121, 3.5065338634689964, 3.461592699500596, 3.4614867020718028, 3.243088602163011, 3.243088602163011, 3.187565403121022, 20.73103797840863, 12.558629235077062, 12.442454057873771, 7.682404827128271, 8.740511066258412, 23.734305776789412, 9.665722467875963, 4.892636301606018, 31.082456504054807, 19.803445438431872, 18.70209929709162, 17.06833339882683, 14.76682448122118, 13.269558971431385, 10.411253708402654, 10.16071911740823, 9.134357662909785, 7.654981602683265, 6.9059752743966145, 6.842425724557582, 6.540831325809316, 6.474083747318352, 5.9226491972222135, 5.433373930642083, 5.230327083014507, 4.325564692218507, 3.9895451355454923, 3.966967062509725, 3.809343595384914, 3.46896853359183, 3.4499731588391063, 2.947043507384394, 2.8025880399755945, 12.620915354087236, 2.718097574749557, 2.606050061418698, 2.5803613426159515, 2.527762625166006, 32.25249206577385, 11.386969152406685, 22.24924337985594, 5.299016965736605, 3.942854472039266, 4.862836279802776, 3.6387592583454604, 27.362640624018024, 19.652193338326903, 16.962715593126767, 14.954335410164319, 11.505447893233962, 10.251899131892504, 9.617686323769215, 9.137955858355504, 7.595728525929171, 6.064529228730339, 5.940849370369743, 5.911956784763792, 5.691270052340822, 5.234803457628019, 5.067781937908621, 4.95161763446856, 4.583394404660635, 4.493238755627121, 4.331203486955825, 4.300712295428616, 3.8826679018235213, 3.6726462284514536, 3.589607774942029, 3.2555530073573298, 3.013114539926439, 2.4421635495876215, 2.4130868917256283, 2.347361964519333, 2.2427256333736683, 2.2427256333736683, 7.796028560258082, 5.679624599805258, 4.282558318263129, 5.063801524458325, 4.407392703257729, 6.310749923823972, 4.998698387767038, 15.859609083177412, 13.355759979810884, 13.170398280779406, 9.674664413958798, 8.79466339454092, 8.342685082177148, 7.488682735883038, 7.147442584907694, 6.986632074597674, 6.376934755781575, 6.285343442795814, 5.947029272810269, 5.644034245338166, 5.317746824950331, 5.240855661381206, 5.062678701010544, 4.971313067059112, 4.92395447116126, 4.851083308801336, 4.831603920099739, 4.779901750072604, 4.413345567688262, 4.018932596554785, 3.704636429890053, 3.704636429890053, 3.2730813228515827, 3.2610698925260713, 3.2610698925260713, 3.2610698925260713, 3.135470542542537, 8.149813203360845, 11.193573241507105, 6.562570707149474, 5.612077869892556, 3.72789183236804, 63.46549707265662, 21.550542210192535, 21.2747437163405, 9.44275358737609, 9.177197412165652, 8.366058706493689, 8.271537742727315, 7.896324757306122, 7.856137714075391, 7.684499150813844, 6.758183295701919, 6.101854182882997, 5.564892325594943, 4.77678839000947, 4.670751324147216, 4.59231888688211, 3.084000558095098, 3.0838051835393765, 3.0081717708661846, 3.0067663936679923, 2.6656612970321922, 2.519725301261529, 2.519725301261529, 2.3752128272303485, 2.205254191902895, 12.679377596015932, 2.0535211068287853, 2.027496886105921, 1.783286205859941, 1.7830889985222707, 8.938693831629442, 7.868120442455388, 6.217565404982783, 4.747385069207957, 2.884006658750252, 4.240103649352045, 18.67595790895289, 18.667469037044032, 13.508072040906889, 13.055514439466618, 9.367541914094469, 8.704685754587564, 6.423441040102667, 6.281191763550697, 5.841118910167584, 5.676268958120805, 4.829656317797176, 4.567670367815794, 3.7852301936580433, 3.675149840360734, 3.5622162683965506, 3.4541077576556902, 3.1517905326760545, 2.9166868802566355, 2.9057900444517175, 2.5891514362595744, 2.3407676117840057, 1.9371906446847176, 1.9371906446847176, 1.861681470143636, 1.8045073325348013, 1.68866671989848, 1.6877556601366666, 1.6096087180467475, 1.6095725105159342, 1.6094534497164132, 12.476029544693816, 21.490895756132936, 3.429841861937446, 2.8321116335745016, 3.9614995442517467, 4.526455433349315, 4.059761889969215, 9.26429369352583, 7.496899080074564, 4.84916141250444, 3.5679426035625488, 13.813196678400253, 11.582085410092294, 11.20852989333472, 10.682896034721942, 10.228595003679855, 8.863193627139522, 7.618008778435455, 5.07874170856396, 5.073830282240223, 4.647671916686846, 24.627100955258307, 4.383655252024519, 3.7653238924059673, 3.718048229039377, 3.3875992875182166, 3.180513032983509, 2.215833830206423, 1.9177258510903339, 1.889044221350168, 1.8890297723229597, 1.889005535245062, 1.870413832106897, 1.870413832106897, 1.8395247638874304, 1.7503725569877366, 1.7503725569877366, 1.7493474528853699, 1.6944879146250502, 1.6711339364117495, 1.6684022934399685, 16.76961306767783, 18.97239927094931, 5.409735673606051, 2.250969203400395, 4.921852617477823, 4.8821504194907375, 1.917651896929569, 14.898120663019997, 14.410349942813976, 9.39364212502462, 5.1202411569845765, 5.018952535174357, 4.85198475618991, 4.402201751178983, 4.281892070569085, 3.7357046050534124, 3.7177419203003104, 3.443977585178559, 3.360851020568883, 3.30500386154696, 3.2759328858733556, 3.237067622804948, 3.2028259458897774, 2.8518185425375924, 2.5232745410252995, 2.153598148978299, 2.1300905919020363, 1.875559052210192, 12.62111174183651, 1.6202388322088155, 51.5680192184421, 1.4260633598967805, 1.3605973303233467, 10.188773446926074, 1.335659082746331, 1.1117997576751635, 1.1117071035804027, 17.913601420273903, 14.731495990107891, 5.715683508364658, 13.30375187411349, 26.990905929830085, 9.601180007654637, 9.58800660441826, 7.671304702630934, 7.30815977135516, 7.144873378633987, 6.1036570252504445, 5.878995519544301, 5.731990977840779, 5.1980319948516165, 4.612923815158678, 4.505812462282811, 4.437970935608826, 4.1033180897728965, 3.8536649639039835, 3.4119800917641845, 3.3443234681180205, 3.1972998880372194, 3.1572564114131607, 3.138538225024255, 3.0949654370969406, 2.8545958278338865, 2.754018099888036, 2.7540062730173016, 2.6862305152830097, 2.666750793802923, 2.6591833272945773, 2.5697456461995993, 2.438326612441718, 2.416558391474555, 3.3012673125196095, 2.5689803611250155, 19.76500994884162, 11.83699333461994, 11.222243307149357, 9.991564216169202, 8.361988898130464, 6.9103334082142895, 6.580653813066401, 6.538208515662895, 6.090859850337905, 4.2740778055472886, 4.068628918586451, 4.068454344843504, 4.004652947989458, 3.506685856499258, 3.112558304905287, 2.868849645417416, 2.868849645417416, 2.731921483182246, 2.731921483182246, 2.731921483182246, 2.731921483182246, 2.664294321323208, 2.3610594645159946, 2.104688106542809, 2.015686804177729, 2.015686804177729, 2.015686804177729, 2.015686804177729, 1.8528466453584742, 1.7960137388469106, 10.618572610234143, 2.4968844692691428, 2.766119099815283, 8.07509761042209, 5.148749258042832, 4.49320765338073, 4.0712253759363675, 3.526597049554428, 3.4692465731292774, 3.3398753111385804, 3.18169972837662, 2.7102921033196083, 2.682251472081185, 2.6129018380622187, 2.138052559561452, 1.765897089407261, 1.727046997787901, 1.6185129964789402, 1.4096995827072967, 1.252641814969028, 1.1707523800280897, 1.1707523800280897, 1.1338273686060933, 0.9980274663199545, 0.7781343879578543, 0.6809098510810916, 0.68084331307427, 0.68084331307427, 1.2677166376054407, 0.5236129458637604, 0.5236129458637604, 0.5236129458637604, 0.5236129458637604], \"Total\": [64.0, 74.0, 93.0, 106.0, 44.0, 69.0, 46.0, 27.0, 64.0, 31.0, 28.0, 28.0, 38.0, 20.0, 22.0, 21.0, 30.0, 26.0, 19.0, 19.0, 32.0, 20.0, 29.0, 22.0, 31.0, 20.0, 19.0, 17.0, 15.0, 34.0, 31.86769919645928, 26.932918506954643, 15.082317230608714, 11.758144839923185, 10.187617122902385, 9.642002491182748, 9.055287876565123, 8.95696505608141, 8.683322549058976, 7.997237855673533, 7.897315870225913, 7.285256913270983, 7.09477932861988, 6.733116961760314, 6.482997505282153, 6.399533393497423, 6.37640784648107, 6.184979421266929, 5.887150607560383, 5.810175410204478, 34.18285145680813, 5.573278716676136, 5.397597007943082, 5.327361326965715, 93.91989764105705, 5.211456782197946, 5.057590034095225, 5.050023488828133, 5.001214709444985, 4.978354927358801, 106.17469881412683, 69.13146540807543, 46.42642963183833, 38.982917038897895, 14.134409400438942, 15.058059602837732, 44.625980627095245, 22.734330684269775, 17.597837326543004, 15.04980025408963, 11.778634360078549, 10.133802947025698, 8.826185894701087, 8.545253549068024, 8.389668662520272, 8.362116801321259, 7.565954361846178, 7.327615702332528, 7.135258298904677, 6.552953262722173, 6.470808231002364, 5.941708944657551, 5.458430838323772, 4.858063460924455, 4.853299296548796, 4.806888774343464, 4.699080665921761, 4.587525783442435, 4.367722324921687, 4.222417314261468, 4.22236232412017, 4.177421185741061, 4.17731850459664, 3.9589140076605602, 3.9589140076605602, 3.9033903229003837, 29.526955602363937, 17.609584209932457, 18.765639914350597, 12.608524963579868, 15.338827024439771, 69.13146540807543, 30.083937924066277, 32.40689887728038, 31.796185038077592, 20.517204577239006, 19.415828782624835, 17.782059638298957, 15.480553106503184, 13.983289741656085, 11.125037889483357, 10.874446045675493, 9.848081443816694, 8.368737820200476, 7.619701620273162, 7.556153903331298, 7.254583911899899, 7.187808688475254, 6.636378521695278, 6.147127068139469, 5.944081563068688, 5.039330638056856, 4.703270182501636, 4.680700129175612, 4.523070904206141, 4.182701431847297, 4.1637792840952255, 3.6607674535796177, 3.516313235228507, 15.90011196383323, 3.4319398599484585, 3.319777152553299, 3.294119740714317, 3.241547813514183, 64.95723734881376, 26.761778704945826, 74.46058165323419, 11.658014593488566, 9.996122316398043, 21.127960302613975, 16.96559129336822, 28.074660798268553, 20.364208551016613, 17.674741822203792, 15.666347483879822, 12.217454935145033, 10.963909131579275, 10.329712918149268, 9.849987174227973, 8.307735673744956, 6.77654842961237, 6.652867214417253, 6.623961617712492, 6.403286752147515, 5.946810648403739, 5.779811305897792, 5.663653886494575, 5.295417915170283, 5.205251783693519, 5.043219660324064, 5.012719750860555, 4.594800179530841, 4.3846615474201505, 4.301616139041898, 3.9675647610179356, 3.7251462422622117, 3.15418935831754, 3.125093029426519, 3.0593658631518603, 2.9547265097122546, 2.9547265097122546, 12.401800277638452, 18.765639914350597, 12.608524963579868, 21.127960302613975, 17.609584209932457, 106.17469881412683, 64.95723734881376, 16.574186198260396, 14.070337818835347, 13.884965375667363, 10.3892149587366, 9.509208874470449, 9.057240312422918, 8.20322511386315, 7.862008114242795, 7.701186370208961, 7.09149100924098, 6.999901514625526, 6.661594804212053, 6.358576565966156, 6.032298158375362, 5.9554140339566, 5.777250631259557, 5.685868527322722, 5.638512448661043, 5.565630746139003, 5.546161127798395, 5.494463751508233, 5.1278886202997285, 4.733489401304884, 4.4191785001853265, 4.4191785001853265, 3.987630296496278, 3.9756135610981658, 3.9756135610981658, 3.9756135610981658, 3.8500161301063613, 29.526955602363937, 64.95723734881376, 19.685414454917755, 15.199032062720228, 34.18285145680813, 64.18349954397955, 22.268562047994934, 21.992740402889158, 10.160758589474959, 9.895218624117945, 9.084050663660873, 8.989533585898622, 8.614323042404266, 8.574129415971733, 8.402499555623677, 7.476180158512111, 6.819844415573322, 6.282885573547895, 5.49478025821053, 5.388748052590623, 5.310346602188896, 3.8019927726198586, 3.8018047756306834, 3.7261666090234957, 3.7248043387222722, 3.3836567516655016, 3.237717515489349, 3.237717515489349, 3.0932406202636207, 2.923256304214435, 16.96559129336822, 2.7715480822627288, 2.745489091098302, 2.501278140376845, 2.501092860251376, 15.199032062720228, 15.058059602837732, 14.134409400438942, 15.583748318377824, 5.78275902145186, 32.40689887728038, 19.39251745966161, 19.384031879668484, 14.224615773496714, 13.772055290847288, 10.084086121367063, 9.421224974057546, 7.140007178344848, 6.997725896147926, 6.557653481257561, 6.392802154121589, 5.546189152941807, 5.284211702407716, 4.501764491219078, 4.391698479936333, 4.278854228246961, 4.170648566342539, 3.8683288464545003, 3.6332214663459697, 3.6223412412092406, 3.305692144571741, 3.0573119554725046, 2.6537246192824395, 2.6537246192824395, 2.5782163341334123, 2.521045621279926, 2.40520485968763, 2.404288508195763, 2.3261454712253546, 2.326108983025828, 2.325998361283186, 19.685414454917755, 46.42642963183833, 6.997232503827483, 5.3947959821806455, 12.401800277638452, 17.793691717625382, 15.338827024439771, 106.17469881412683, 93.91989764105705, 32.40689887728038, 38.982917038897895, 14.527265349027305, 12.296158022546832, 11.922616980606625, 11.396977295068313, 10.942667691565578, 9.57726085414782, 8.332093426862722, 5.792810842363887, 5.787897797861772, 5.361742156108631, 28.583247119555033, 5.09772682501414, 4.479384766937502, 4.432116510333178, 4.1016676564780985, 3.8945866672979506, 2.929909898118143, 2.631786582063299, 2.6031051748842917, 2.603090996457322, 2.603068836825227, 2.5844765801867315, 2.5844765801867315, 2.5535852171077256, 2.4644352254784323, 2.4644352254784323, 2.463409318300318, 2.408563111384469, 2.3851966980106916, 2.3824615715002695, 30.083937924066277, 38.982917038897895, 9.996122316398043, 5.78275902145186, 93.91989764105705, 106.17469881412683, 4.488145917796999, 15.611999050185448, 15.124217761651188, 10.107517419802575, 5.834106352567374, 5.732847368146562, 5.5658551509615535, 5.116078324048734, 4.995762963780186, 4.44956997589056, 4.431635252524502, 4.157890550637798, 4.074717024902315, 4.018867598714668, 3.9898000028852643, 3.950968548452814, 3.9166977931207883, 3.5656838094803534, 3.2371659075646764, 2.867469047184565, 2.843959148963703, 2.5894255596606253, 17.793691717625382, 2.3341421640178783, 74.46058165323419, 2.1399282116907035, 2.0745161065757327, 15.583748318377824, 2.0495226352471545, 1.8256689294616288, 1.8255793013944717, 32.40689887728038, 26.761778704945826, 11.658014593488566, 64.95723734881376, 27.715992635206334, 10.326261171023468, 10.31310045079864, 8.396401845676166, 8.033241980701828, 7.8699524841130275, 6.828747603216872, 6.604084309968826, 6.4570753753588, 5.9231109706277385, 5.3380031862960005, 5.23090086608037, 5.1630695538007325, 4.828397123476182, 4.578745777932117, 4.137057885698592, 4.069402747537603, 3.9223786431503096, 3.882393629544979, 3.8636174992059065, 3.820045131215522, 3.579683842131087, 3.479107730773308, 3.4791017211478215, 3.4113260311559044, 3.391829897752574, 3.3842874796906774, 3.29482590430216, 3.163405115117305, 3.1416400984926693, 28.583247119555033, 5.30023469047331, 20.49059870029628, 12.562584052387004, 11.947811133687923, 10.717137100093579, 9.087559082707195, 7.635927142000602, 7.306226965935579, 7.263777730763429, 6.816427368434101, 4.999639670136076, 4.794189787443526, 4.794022753706487, 4.7302158686816895, 4.232248106207971, 3.8381425358330112, 3.5944148614775444, 3.5944148614775444, 3.457482498190129, 3.457482498190129, 3.457482498190129, 3.457482498190129, 3.3898726630338087, 3.0866410759638945, 2.830247333033549, 2.741245454278898, 2.741245454278898, 2.741245454278898, 2.741245454278898, 2.5784165936189214, 2.5215762037725575, 21.127960302613975, 6.997232503827483, 64.95723734881376, 8.810107650533606, 5.883759261543307, 5.2282160145207985, 4.806246319233944, 4.261606858015136, 4.204250282019304, 4.074884490299935, 3.9167143212455646, 3.4453163991034077, 3.417257754574666, 3.347941042989871, 2.8730618089933584, 2.5009203144615544, 2.4620490277147997, 2.353514703325672, 2.144721399937019, 1.9876438965196759, 1.905759945281671, 1.905759945281671, 1.8688633760759146, 1.7330281101026377, 1.5131383205470312, 1.4159120737850208, 1.4158488028026697, 1.4158488028026697, 2.9423029800177742, 1.2586137560629491, 1.2586137560629491, 1.2586137560629491, 1.2586137560629491], \"Category\": [\"Default\", \"Default\", \"Default\", \"Default\", \"Default\", \"Default\", \"Default\", \"Default\", \"Default\", \"Default\", \"Default\", \"Default\", \"Default\", \"Default\", \"Default\", \"Default\", \"Default\", \"Default\", \"Default\", \"Default\", \"Default\", \"Default\", \"Default\", \"Default\", \"Default\", \"Default\", \"Default\", \"Default\", \"Default\", \"Default\", \"Topic1\", \"Topic1\", \"Topic1\", \"Topic1\", \"Topic1\", \"Topic1\", \"Topic1\", \"Topic1\", \"Topic1\", \"Topic1\", \"Topic1\", \"Topic1\", \"Topic1\", \"Topic1\", \"Topic1\", \"Topic1\", \"Topic1\", \"Topic1\", \"Topic1\", \"Topic1\", \"Topic1\", \"Topic1\", \"Topic1\", \"Topic1\", \"Topic1\", \"Topic1\", \"Topic1\", \"Topic1\", \"Topic1\", \"Topic1\", \"Topic1\", \"Topic1\", \"Topic1\", \"Topic1\", \"Topic1\", \"Topic1\", \"Topic2\", \"Topic2\", \"Topic2\", \"Topic2\", \"Topic2\", \"Topic2\", \"Topic2\", \"Topic2\", \"Topic2\", \"Topic2\", \"Topic2\", \"Topic2\", \"Topic2\", \"Topic2\", \"Topic2\", \"Topic2\", \"Topic2\", \"Topic2\", \"Topic2\", \"Topic2\", \"Topic2\", \"Topic2\", \"Topic2\", \"Topic2\", \"Topic2\", \"Topic2\", \"Topic2\", \"Topic2\", \"Topic2\", \"Topic2\", \"Topic2\", \"Topic2\", \"Topic2\", \"Topic2\", \"Topic2\", \"Topic2\", \"Topic2\", \"Topic2\", \"Topic3\", \"Topic3\", \"Topic3\", \"Topic3\", \"Topic3\", \"Topic3\", \"Topic3\", \"Topic3\", \"Topic3\", \"Topic3\", \"Topic3\", \"Topic3\", \"Topic3\", \"Topic3\", \"Topic3\", \"Topic3\", \"Topic3\", \"Topic3\", \"Topic3\", \"Topic3\", \"Topic3\", \"Topic3\", \"Topic3\", \"Topic3\", \"Topic3\", \"Topic3\", \"Topic3\", \"Topic3\", \"Topic3\", \"Topic3\", \"Topic3\", \"Topic3\", \"Topic3\", \"Topic3\", \"Topic3\", \"Topic3\", \"Topic3\", \"Topic4\", \"Topic4\", \"Topic4\", \"Topic4\", \"Topic4\", \"Topic4\", \"Topic4\", \"Topic4\", \"Topic4\", \"Topic4\", \"Topic4\", \"Topic4\", \"Topic4\", \"Topic4\", \"Topic4\", \"Topic4\", \"Topic4\", \"Topic4\", \"Topic4\", \"Topic4\", \"Topic4\", \"Topic4\", \"Topic4\", \"Topic4\", \"Topic4\", \"Topic4\", \"Topic4\", \"Topic4\", \"Topic4\", \"Topic4\", \"Topic4\", \"Topic4\", \"Topic4\", \"Topic4\", \"Topic4\", \"Topic4\", \"Topic4\", \"Topic5\", \"Topic5\", \"Topic5\", \"Topic5\", \"Topic5\", \"Topic5\", \"Topic5\", \"Topic5\", \"Topic5\", \"Topic5\", \"Topic5\", \"Topic5\", \"Topic5\", \"Topic5\", \"Topic5\", \"Topic5\", \"Topic5\", \"Topic5\", \"Topic5\", \"Topic5\", \"Topic5\", \"Topic5\", \"Topic5\", \"Topic5\", \"Topic5\", \"Topic5\", \"Topic5\", \"Topic5\", \"Topic5\", \"Topic5\", \"Topic5\", \"Topic5\", \"Topic5\", \"Topic5\", \"Topic5\", \"Topic6\", \"Topic6\", \"Topic6\", \"Topic6\", \"Topic6\", \"Topic6\", \"Topic6\", \"Topic6\", \"Topic6\", \"Topic6\", \"Topic6\", \"Topic6\", \"Topic6\", \"Topic6\", \"Topic6\", \"Topic6\", \"Topic6\", \"Topic6\", \"Topic6\", \"Topic6\", \"Topic6\", \"Topic6\", \"Topic6\", \"Topic6\", \"Topic6\", \"Topic6\", \"Topic6\", \"Topic6\", \"Topic6\", \"Topic6\", \"Topic6\", \"Topic6\", \"Topic6\", \"Topic6\", \"Topic6\", \"Topic6\", \"Topic7\", \"Topic7\", \"Topic7\", \"Topic7\", \"Topic7\", \"Topic7\", \"Topic7\", \"Topic7\", \"Topic7\", \"Topic7\", \"Topic7\", \"Topic7\", \"Topic7\", \"Topic7\", \"Topic7\", \"Topic7\", \"Topic7\", \"Topic7\", \"Topic7\", \"Topic7\", \"Topic7\", \"Topic7\", \"Topic7\", \"Topic7\", \"Topic7\", \"Topic7\", \"Topic7\", \"Topic7\", \"Topic7\", \"Topic7\", \"Topic7\", \"Topic7\", \"Topic7\", \"Topic7\", \"Topic7\", \"Topic7\", \"Topic7\", \"Topic7\", \"Topic7\", \"Topic7\", \"Topic7\", \"Topic8\", \"Topic8\", \"Topic8\", \"Topic8\", \"Topic8\", \"Topic8\", \"Topic8\", \"Topic8\", \"Topic8\", \"Topic8\", \"Topic8\", \"Topic8\", \"Topic8\", \"Topic8\", \"Topic8\", \"Topic8\", \"Topic8\", \"Topic8\", \"Topic8\", \"Topic8\", \"Topic8\", \"Topic8\", \"Topic8\", \"Topic8\", \"Topic8\", \"Topic8\", \"Topic8\", \"Topic8\", \"Topic8\", \"Topic8\", \"Topic8\", \"Topic8\", \"Topic8\", \"Topic8\", \"Topic8\", \"Topic8\", \"Topic8\", \"Topic9\", \"Topic9\", \"Topic9\", \"Topic9\", \"Topic9\", \"Topic9\", \"Topic9\", \"Topic9\", \"Topic9\", \"Topic9\", \"Topic9\", \"Topic9\", \"Topic9\", \"Topic9\", \"Topic9\", \"Topic9\", \"Topic9\", \"Topic9\", \"Topic9\", \"Topic9\", \"Topic9\", \"Topic9\", \"Topic9\", \"Topic9\", \"Topic9\", \"Topic9\", \"Topic9\", \"Topic9\", \"Topic9\", \"Topic9\", \"Topic9\", \"Topic9\", \"Topic9\", \"Topic9\", \"Topic10\", \"Topic10\", \"Topic10\", \"Topic10\", \"Topic10\", \"Topic10\", \"Topic10\", \"Topic10\", \"Topic10\", \"Topic10\", \"Topic10\", \"Topic10\", \"Topic10\", \"Topic10\", \"Topic10\", \"Topic10\", \"Topic10\", \"Topic10\", \"Topic10\", \"Topic10\", \"Topic10\", \"Topic10\", \"Topic10\", \"Topic10\", \"Topic10\", \"Topic10\", \"Topic10\", \"Topic10\", \"Topic10\", \"Topic10\", \"Topic10\", \"Topic10\", \"Topic11\", \"Topic11\", \"Topic11\", \"Topic11\", \"Topic11\", \"Topic11\", \"Topic11\", \"Topic11\", \"Topic11\", \"Topic11\", \"Topic11\", \"Topic11\", \"Topic11\", \"Topic11\", \"Topic11\", \"Topic11\", \"Topic11\", \"Topic11\", \"Topic11\", \"Topic11\", \"Topic11\", \"Topic11\", \"Topic11\", \"Topic11\", \"Topic11\", \"Topic11\", \"Topic11\", \"Topic11\", \"Topic11\", \"Topic11\", \"Topic11\", \"Topic11\", \"Topic11\", \"Topic12\", \"Topic12\", \"Topic12\", \"Topic12\", \"Topic12\", \"Topic12\", \"Topic12\", \"Topic12\", \"Topic12\", \"Topic12\", \"Topic12\", \"Topic12\", \"Topic12\", \"Topic12\", \"Topic12\", \"Topic12\", \"Topic12\", \"Topic12\", \"Topic12\", \"Topic12\", \"Topic12\", \"Topic12\", \"Topic12\", \"Topic12\", \"Topic12\", \"Topic12\", \"Topic12\", \"Topic12\", \"Topic12\", \"Topic12\"], \"logprob\": [30.0, 29.0, 28.0, 27.0, 26.0, 25.0, 24.0, 23.0, 22.0, 21.0, 20.0, 19.0, 18.0, 17.0, 16.0, 15.0, 14.0, 13.0, 12.0, 11.0, 10.0, 9.0, 8.0, 7.0, 6.0, 5.0, 4.0, 3.0, 2.0, 1.0, -3.3931000232696533, -3.5655999183654785, -4.167300224304199, -4.430600166320801, -4.584199905395508, -4.643499851226807, -4.711599826812744, -4.723400115966797, -4.757199764251709, -4.847400188446045, -4.861199855804443, -4.950399875640869, -4.979800224304199, -5.038300037384033, -5.0808000564575195, -5.095399856567383, -5.099400043487549, -5.133900165557861, -5.190000057220459, -5.204999923706055, -3.4372000694274902, -5.252699851989746, -5.289599895477295, -5.304699897766113, -2.4382998943328857, -5.3302001953125, -5.365099906921387, -5.366799831390381, -5.378200054168701, -5.383500099182129, -2.386699914932251, -3.0308001041412354, -3.6421000957489014, -4.0680999755859375, -4.849299907684326, -4.954800128936768, -2.501199960708618, -3.191499948501587, -3.4570999145507812, -3.620699882507324, -3.8798000812530518, -4.040800094604492, -4.190199851989746, -4.225500106811523, -4.24560022354126, -4.249199867248535, -4.359099864959717, -4.394499778747559, -4.424099922180176, -4.519100189208984, -4.533299922943115, -4.629799842834473, -4.726799964904785, -4.862100124359131, -4.86329984664917, -4.874599933624268, -4.901299953460693, -4.929699897766113, -4.988100051879883, -5.02869987487793, -5.02869987487793, -5.041600227355957, -5.0416998863220215, -5.106900215148926, -5.106900215148926, -5.124100208282471, -3.251699924468994, -3.753000020980835, -3.7623000144958496, -4.2444000244140625, -4.1153998374938965, -3.116499900817871, -4.014800071716309, -4.6956000328063965, -2.7708001136779785, -3.22160005569458, -3.2788000106811523, -3.3701999187469482, -3.5151000022888184, -3.621999979019165, -3.8645999431610107, -3.8889000415802, -3.9953999519348145, -4.172100067138672, -4.275100231170654, -4.284299850463867, -4.329400062561035, -4.339600086212158, -4.428699970245361, -4.514900207519531, -4.552999973297119, -4.7428998947143555, -4.823800086975098, -4.829500198364258, -4.869999885559082, -4.963600158691406, -4.969099998474121, -5.126699924468994, -5.1768999099731445, -3.672100067138672, -5.207499980926514, -5.249599933624268, -5.259500026702881, -5.280099868774414, -2.7339000701904297, -3.7750000953674316, -3.10509991645813, -4.539899826049805, -4.835599899291992, -4.625800132751465, -4.915800094604492, -2.747299909591675, -3.0782999992370605, -3.2255001068115234, -3.3515000343322754, -3.6136999130249023, -3.7290000915527344, -3.7929000854492188, -3.844099998474121, -4.028900146484375, -4.254000186920166, -4.274700164794922, -4.2795000076293945, -4.317599773406982, -4.401199817657471, -4.433599948883057, -4.4567999839782715, -4.53410005569458, -4.553899765014648, -4.590700149536133, -4.597700119018555, -4.699999809265137, -4.7555999755859375, -4.778500080108643, -4.876100063323975, -4.953499794006348, -5.163599967956543, -5.175600051879883, -5.203199863433838, -5.248799800872803, -5.248799800872803, -4.002900123596191, -4.3196001052856445, -4.6020002365112305, -4.4344000816345215, -4.573200225830078, -4.214300155639648, -4.447299957275391, -3.2307000160217285, -3.4024999141693115, -3.4165000915527344, -3.724900007247925, -3.8203001022338867, -3.8731000423431396, -3.981100082397461, -4.027699947357178, -4.0503997802734375, -4.1417999267578125, -4.156199932098389, -4.211599826812744, -4.263800144195557, -4.323400020599365, -4.3379998207092285, -4.372499942779541, -4.3907999992370605, -4.400300025939941, -4.415200233459473, -4.419300079345703, -4.429999828338623, -4.509799957275391, -4.603400230407715, -4.684899806976318, -4.684899806976318, -4.808700084686279, -4.812399864196777, -4.812399864196777, -4.812399864196777, -4.8516998291015625, -3.896399974822998, -3.5790998935699463, -4.113100051879883, -4.269499778747559, -4.678599834442139, -1.8248000144958496, -2.904900074005127, -2.917799949645996, -3.73009991645813, -3.7585999965667725, -3.851099967956543, -3.862499952316284, -3.908900022506714, -3.9140000343322754, -3.9361000061035156, -4.064499855041504, -4.1666998863220215, -4.258800029754639, -4.411499977111816, -4.434000015258789, -4.450900077819824, -4.849100112915039, -4.849100112915039, -4.874000072479248, -4.8744001388549805, -4.994800090789795, -5.051199913024902, -5.051199913024902, -5.110199928283691, -5.184500217437744, -3.43530011177063, -5.25570011138916, -5.268499851226807, -5.3968000411987305, -5.396999835968018, -3.784899950027466, -3.9124999046325684, -4.147900104522705, -4.417699813842773, -4.916100025177002, -4.530700206756592, -2.9314000606536865, -2.9319000244140625, -3.2553999423980713, -3.289400100708008, -3.6214001178741455, -3.6947999000549316, -3.998699903488159, -4.021100044250488, -4.093699932098389, -4.122300148010254, -4.283899784088135, -4.339600086212158, -4.527500152587891, -4.557000160217285, -4.5883002281188965, -4.619100093841553, -4.710700035095215, -4.7881999015808105, -4.791900157928467, -4.907299995422363, -5.008200168609619, -5.197400093078613, -5.197400093078613, -5.237199783325195, -5.268400192260742, -5.334700107574463, -5.33519983291626, -5.382699966430664, -5.382699966430664, -5.382699966430664, -3.3348000049591064, -2.7909998893737793, -4.626100063323975, -4.817599773406982, -4.48199987411499, -4.348700046539307, -4.457499980926514, -3.632499933242798, -3.8441998958587646, -4.279799938201904, -4.586699962615967, -3.184499979019165, -3.360599994659424, -3.393399953842163, -3.4414000511169434, -3.4848999977111816, -3.628200054168701, -3.779599905014038, -4.184999942779541, -4.185999870300293, -4.27370023727417, -2.6061999797821045, -4.332200050354004, -4.4842000007629395, -4.4969000816345215, -4.590000152587891, -4.6529998779296875, -5.014500141143799, -5.158899784088135, -5.173999786376953, -5.173999786376953, -5.173999786376953, -5.183899879455566, -5.183899879455566, -5.2006001472473145, -5.25029993057251, -5.25029993057251, -5.250800132751465, -5.282700061798096, -5.296599864959717, -5.2982001304626465, -2.990499973297119, -2.8671000003814697, -4.1219000816345215, -4.998700141906738, -4.216400146484375, -4.2245001792907715, -5.158999919891357, -3.103600025177002, -3.136899948120117, -3.5648000240325928, -4.171599864959717, -4.1915998458862305, -4.225399971008301, -4.322700023651123, -4.350399971008301, -4.4868998527526855, -4.491700172424316, -4.56820011138916, -4.592599868774414, -4.609399795532227, -4.618199825286865, -4.630199909210205, -4.6407999992370605, -4.756899833679199, -4.879300117492676, -5.037700176239014, -5.048699855804443, -5.175899982452393, -3.2695000171661377, -5.322299957275391, -1.861899971961975, -5.449900150299072, -5.4969000816345215, -3.4835000038146973, -5.515399932861328, -5.698800086975098, -5.69890022277832, -2.919300079345703, -3.114799976348877, -4.061600208282471, -3.2167999744415283, -2.440200090408325, -3.47379994392395, -3.4751999378204346, -3.698199987411499, -3.7467000484466553, -3.7692999839782715, -3.926800012588501, -3.9642999172210693, -3.9895999431610107, -4.087399959564209, -4.2067999839782715, -4.230299949645996, -4.245500087738037, -4.32390022277832, -4.38670015335083, -4.508399963378906, -4.52839994430542, -4.573400020599365, -4.585999965667725, -4.5920000076293945, -4.605899810791016, -4.686800003051758, -4.722599983215332, -4.722599983215332, -4.747600078582764, -4.754799842834473, -4.757699966430664, -4.791900157928467, -4.844399929046631, -4.853400230407715, -4.541399955749512, -4.792200088500977, -2.668100118637085, -3.180799961090088, -3.234100103378296, -3.3503000736236572, -3.52839994430542, -3.7190001010894775, -3.767899990081787, -3.774399995803833, -3.8452999591827393, -4.19950008392334, -4.248700141906738, -4.248799800872803, -4.264599800109863, -4.39739990234375, -4.516600131988525, -4.598100185394287, -4.598100185394287, -4.646999835968018, -4.646999835968018, -4.646999835968018, -4.646999835968018, -4.672100067138672, -4.792900085449219, -4.907899856567383, -4.951099872589111, -4.951099872589111, -4.951099872589111, -4.951099872589111, -5.035299777984619, -5.066500186920166, -3.289400100708008, -4.736999988555908, -4.6346001625061035, -2.7483999729156494, -3.1984000205993652, -3.3345999717712402, -3.433300018310547, -3.576900005340576, -3.5933001041412354, -3.6312999725341797, -3.679800033569336, -3.840100049972534, -3.8505001068115234, -3.876699924468994, -4.077300071716309, -4.268499851226807, -4.290800094604492, -4.3557000160217285, -4.493800163269043, -4.6118998527526855, -4.679599761962891, -4.679599761962891, -4.711599826812744, -4.839200019836426, -5.088099956512451, -5.221499919891357, -5.22160005569458, -5.22160005569458, -4.599999904632568, -5.4842000007629395, -5.4842000007629395, -5.4842000007629395, -5.4842000007629395], \"loglift\": [30.0, 29.0, 28.0, 27.0, 26.0, 25.0, 24.0, 23.0, 22.0, 21.0, 20.0, 19.0, 18.0, 17.0, 16.0, 15.0, 14.0, 13.0, 12.0, 11.0, 10.0, 9.0, 8.0, 7.0, 6.0, 5.0, 4.0, 3.0, 2.0, 1.0, 1.6458, 1.6415, 1.6196, 1.6053, 1.5951, 1.5908, 1.5855, 1.5846, 1.5818, 1.574, 1.5727, 1.5642, 1.5613, 1.5551, 1.5505, 1.5489, 1.5484, 1.5444, 1.5377, 1.5359, 1.5316, 1.5298, 1.5249, 1.5229, 1.5197, 1.5194, 1.5145, 1.5142, 1.5126, 1.5118, 1.4487, 1.2336, 1.0205, 0.7693, 1.0025, 0.8337, 2.2009, 2.1851, 2.1755, 2.1683, 2.1544, 2.1438, 2.1325, 2.1296, 2.1279, 2.1276, 2.1177, 2.1143, 2.1114, 2.1014, 2.0998, 2.0887, 2.0765, 2.0577, 2.0575, 2.0558, 2.0518, 2.0474, 2.0381, 2.0313, 2.0313, 2.0291, 2.0291, 2.0176, 2.0176, 2.0145, 1.8634, 1.879, 1.8062, 1.7216, 1.6547, 1.148, 1.0817, 0.3264, 2.2703, 2.2576, 2.2555, 2.252, 2.2458, 2.2406, 2.2267, 2.2251, 2.2178, 2.2039, 2.1946, 2.1938, 2.1894, 2.1884, 2.1792, 2.1696, 2.1651, 2.1403, 2.1284, 2.1276, 2.1213, 2.1059, 2.1049, 2.0761, 2.0661, 2.062, 2.0598, 2.0509, 2.0488, 2.0443, 1.5929, 1.4385, 1.085, 1.5045, 1.3627, 0.824, 0.7535, 2.4183, 2.4084, 2.4028, 2.3974, 2.3839, 2.3768, 2.3725, 2.3689, 2.3543, 2.3329, 2.3308, 2.3302, 2.3261, 2.3164, 2.3125, 2.3096, 2.2995, 2.2969, 2.2917, 2.2907, 2.2755, 2.2667, 2.263, 2.2462, 2.2318, 2.1881, 2.1854, 2.179, 2.1682, 2.1682, 1.9797, 1.2488, 1.3641, 1.0155, 1.0588, -0.3789, -0.1206, 2.4619, 2.4539, 2.4532, 2.4348, 2.4279, 2.4238, 2.4149, 2.4107, 2.4086, 2.3998, 2.3983, 2.3925, 2.3868, 2.3799, 2.3782, 2.374, 2.3717, 2.3705, 2.3686, 2.3681, 2.3667, 2.3559, 2.3424, 2.3296, 2.3296, 2.3085, 2.3079, 2.3079, 2.3079, 2.3007, 1.2187, 0.7476, 1.4075, 1.5097, 0.2901, 2.5139, 2.4924, 2.492, 2.4519, 2.4498, 2.4428, 2.4419, 2.4381, 2.4377, 2.4358, 2.4242, 2.4139, 2.4038, 2.3851, 2.3822, 2.3799, 2.3159, 2.3158, 2.3111, 2.311, 2.2866, 2.2744, 2.2744, 2.261, 2.2433, 2.2339, 2.2253, 2.222, 2.1868, 2.1868, 1.9943, 1.8761, 1.7039, 1.3365, 1.8295, 0.4914, 2.6042, 2.6041, 2.5901, 2.5884, 2.5681, 2.5627, 2.5361, 2.5338, 2.5261, 2.5229, 2.5035, 2.4961, 2.4684, 2.4637, 2.4585, 2.4533, 2.437, 2.4221, 2.4214, 2.3975, 2.3748, 2.3271, 2.3271, 2.3162, 2.3074, 2.2881, 2.288, 2.2736, 2.2736, 2.2736, 2.1857, 1.8716, 1.9288, 1.9974, 1.5006, 1.2729, 1.3125, 0.2029, 0.1139, 0.7422, 0.2507, 2.64, 2.6305, 2.6286, 2.6257, 2.6229, 2.6129, 2.6008, 2.5588, 2.5587, 2.5475, 2.5414, 2.5395, 2.5167, 2.5147, 2.4991, 2.4878, 2.411, 2.3739, 2.3697, 2.3697, 2.3697, 2.367, 2.367, 2.3624, 2.3482, 2.3482, 2.3481, 2.3387, 2.3346, 2.3341, 2.106, 1.9702, 2.0764, 1.7469, -0.2584, -0.3891, 1.84, 2.6488, 2.6473, 2.6224, 2.5651, 2.5626, 2.5584, 2.5453, 2.5414, 2.5208, 2.52, 2.5072, 2.503, 2.5001, 2.4985, 2.4963, 2.4944, 2.4722, 2.4465, 2.4093, 2.4066, 2.3731, 2.3522, 2.3306, 2.3283, 2.2898, 2.2738, 2.2707, 2.2674, 2.1997, 2.1996, 2.1028, 2.0986, 1.9828, 1.1099, 2.7382, 2.6919, 2.6918, 2.6744, 2.6702, 2.6681, 2.6525, 2.6484, 2.6456, 2.6342, 2.6188, 2.6155, 2.6134, 2.602, 2.5923, 2.5721, 2.5685, 2.5604, 2.558, 2.5569, 2.5543, 2.5384, 2.531, 2.531, 2.5258, 2.5242, 2.5236, 2.5162, 2.5044, 2.5023, 0.6062, 2.0405, 2.8124, 2.7889, 2.7858, 2.7783, 2.7652, 2.7486, 2.7438, 2.7432, 2.7359, 2.6916, 2.6843, 2.6843, 2.6819, 2.6603, 2.6389, 2.6229, 2.6229, 2.6129, 2.6129, 2.6129, 2.6129, 2.6076, 2.5804, 2.5522, 2.541, 2.541, 2.541, 2.541, 2.518, 2.5091, 2.1604, 1.8179, -0.3079, 3.5761, 3.5298, 3.5117, 3.4973, 3.4739, 3.4711, 3.4643, 3.4554, 3.4233, 3.4211, 3.4154, 3.3678, 3.3153, 3.3087, 3.2889, 3.2436, 3.2016, 3.176, 3.176, 3.1635, 3.1114, 2.9982, 2.9312, 2.9311, 2.9311, 2.8213, 2.7862, 2.7862, 2.7862, 2.7862]}, \"token.table\": {\"Topic\": [8, 4, 4, 3, 7, 4, 7, 3, 8, 11, 11, 5, 2, 5, 2, 5, 6, 11, 9, 12, 10, 6, 5, 2, 3, 8, 2, 12, 3, 11, 6, 9, 11, 8, 7, 11, 7, 2, 10, 10, 2, 9, 6, 3, 5, 12, 6, 4, 9, 9, 4, 11, 6, 7, 5, 12, 11, 9, 1, 8, 5, 6, 4, 7, 8, 3, 3, 9, 5, 5, 11, 11, 5, 5, 3, 8, 10, 11, 11, 4, 9, 7, 1, 10, 10, 12, 8, 3, 10, 9, 4, 2, 2, 2, 3, 6, 7, 11, 8, 12, 1, 12, 12, 3, 3, 3, 9, 7, 9, 6, 3, 9, 5, 10, 10, 1, 6, 6, 3, 7, 2, 12, 8, 10, 8, 2, 10, 12, 1, 7, 8, 2, 5, 12, 10, 10, 7, 9, 3, 9, 1, 8, 1, 4, 2, 1, 5, 3, 3, 2, 6, 7, 9, 12, 5, 1, 12, 7, 10, 4, 5, 9, 4, 8, 1, 9, 12, 5, 3, 6, 6, 8, 2, 3, 1, 1, 8, 2, 11, 8, 11, 6, 6, 10, 7, 10, 10, 10, 7, 9, 3, 6, 5, 1, 1, 10, 9, 8, 3, 5, 5, 5, 8, 11, 11, 3, 8, 2, 6, 3, 3, 4, 11, 8, 2, 4, 10, 12, 2, 1, 12, 7, 7, 12, 1, 7, 4, 1, 6, 10, 12, 3, 2, 8, 9, 7, 11, 6, 4, 3, 11, 10, 4, 8, 1, 7, 8, 1, 7, 6, 8, 4, 2, 1, 4, 11, 8, 2, 1, 6, 7, 2, 7, 10, 1, 4, 7, 8, 3, 10, 1, 6, 4, 2, 4, 7, 1, 11, 1, 1, 8, 6, 9, 8, 2, 3, 9, 2, 11, 7, 6, 9, 4, 7, 9, 4, 7, 1, 2, 9, 3, 4, 5, 9, 11, 3, 2, 1, 4, 12, 10, 12, 1, 2, 4, 8, 6, 9, 10, 11, 6, 3, 4, 10, 1, 9, 7, 8, 1, 12, 9, 10, 6, 2, 4, 7, 3, 8, 12, 5, 6, 5, 7, 5, 3, 6, 12, 2, 6, 5, 11, 12, 11, 4, 1, 5, 2, 12, 9, 8, 2, 4, 10, 3, 2, 8, 12, 2, 1, 8, 5, 7, 11, 11, 2, 12, 4, 3, 12, 5, 2, 4, 6, 10, 5, 11, 5, 5, 5, 4, 4, 4, 10, 12, 6, 9, 2, 2, 5, 11, 7, 6, 7, 11, 7, 1, 7, 7, 4, 3, 5, 6, 1, 5, 10, 3, 9, 6, 10, 1, 7, 8, 4, 7, 8, 4, 12, 9, 5, 11, 9, 4, 7], \"Freq\": [0.8118829400953727, 0.9822012901787346, 0.7931441161424585, 0.9649071655946666, 0.8598458336387899, 0.8705492826041514, 0.9015199197358609, 0.8411728451146459, 0.7599400398310476, 0.6479535361510865, 0.8676833509845372, 0.8460844118932607, 0.915617700820825, 0.9089508633473137, 0.7112145350439967, 0.2709388704929511, 0.8857606369393194, 0.88032440033576, 0.7032449818165534, 0.7062901052856083, 0.974166805258245, 0.8806643969966587, 0.7546005047762548, 0.9552902723558168, 0.9041075611321951, 0.8115449654846297, 0.33986982536854826, 0.33986982536854826, 0.9559386578809512, 0.7295953731097431, 0.7995912040788388, 0.5477713289344092, 0.8000576569333309, 0.7702999718019855, 0.42874093412774283, 0.2858272894184952, 0.7536577026371316, 0.9338943432425764, 0.776474379416853, 0.8713792036659702, 0.71816405588869, 0.8413533449106376, 0.8899238123487466, 0.9747916644642335, 0.9436074155518686, 0.7062585442377058, 0.9099544959106948, 0.9442125399916083, 0.765951359655356, 0.7215197137740473, 0.9574663153255427, 0.834372343541217, 0.9330393340107213, 0.9842093609364678, 0.8903577684330822, 0.7362171877856549, 0.8802264992634031, 0.4673053958244352, 0.8931596751701437, 0.9601428584811531, 0.39476198058142375, 0.5921429708721356, 0.6399809481406116, 0.8574214093328307, 0.9138539414577882, 0.9689576268239855, 0.42888949571161844, 0.5146673948539422, 0.9464509738725446, 0.8983707737831165, 0.7816280849374175, 0.7756698451870075, 0.8571549167461369, 0.962536634357604, 0.4001551675131304, 0.500193959391413, 0.9696405118623281, 0.7066520217709511, 0.8849889946353067, 0.9370187892940665, 0.8570292856933754, 0.7536577026371316, 0.8493073021741471, 0.8736016791494605, 0.9684047143859784, 0.7945249248888595, 0.7683131743183985, 0.7204992856992634, 0.9558582982182591, 0.9607994435422299, 0.7684546619878776, 0.9158091340139667, 0.9251972276359226, 0.916014171123115, 0.9186711434179563, 0.9415581269100264, 0.8318469240202995, 0.9206707301377166, 0.77385108278114, 0.7135636079589196, 0.8911177444378381, 0.6608781143276307, 0.9386130943723465, 0.8133880989568243, 0.8347467580237972, 0.41103396456854707, 0.5605008607752915, 0.825713496352641, 0.8006785007616306, 0.9363070246548366, 0.7172398147182705, 0.7519173887990676, 0.9051456056441831, 0.844150991732997, 0.9085286798872382, 0.7998056936939435, 0.8797854664101746, 0.8866147544437957, 0.9254838035992691, 0.8885404840262533, 0.832139079512263, 0.535084593556388, 0.874638206619164, 0.10495658479429969, 0.8303706016864044, 0.9063937804440423, 0.8622900560004172, 0.8778969031481207, 0.5169469242050281, 0.4523285586793996, 0.7683238997395297, 0.8241816042221873, 0.8793731293597685, 0.5031082286676097, 0.8794234185184201, 0.8284322721823301, 0.2809984616653381, 0.730596000329879, 0.2954583420051008, 0.6983560811029655, 0.8863771077450592, 0.77385108278114, 0.9608446322941127, 0.6537302465483921, 0.757783572513814, 0.8776330446834317, 0.11701773929112423, 0.8504720853337047, 0.9107137068883422, 0.15428813534223626, 0.123430508273789, 0.15428813534223626, 0.5554372872320505, 0.7945249248888595, 0.8867587055141346, 0.9263381450378789, 0.8707473138840617, 0.9149614289850186, 0.8380628380337676, 0.8828223087436347, 0.8288714961905358, 0.7593074870653653, 0.6340773405775516, 0.892979774705701, 0.9355217298098756, 0.9267365608261035, 0.4662610258047341, 0.8654635775962344, 0.23577132861638506, 0.7662568180032515, 0.518783506086131, 0.34585567072408735, 0.8415087387435425, 0.8195002927778169, 0.8753022138805018, 0.9254978110220432, 0.9025033504137971, 0.9361922328065396, 0.8346281983618329, 0.7832125540988468, 0.95808685284986, 0.8054114329745161, 0.9286858596571963, 0.8786384193162349, 0.8315300012572505, 0.8864495164796694, 0.7853310358784722, 0.774732929378309, 0.9462149288458264, 0.7818488589585356, 0.9560197381964372, 0.927859300750991, 0.7546005047762548, 0.8834254263214752, 0.7920755237770601, 0.9366798455340491, 0.48791849516675806, 0.8115449654846297, 0.81760430552754, 0.18867791666020156, 0.883271253057865, 0.9015244751796097, 0.9397258920959835, 0.7295953731097431, 0.9330850120329881, 0.44561831024016657, 0.44561831024016657, 0.9859727311691797, 0.9095301823917262, 0.8545730103638363, 0.23665322768433045, 0.23665322768433045, 0.520637100905527, 0.8394678948548883, 0.6394666025123541, 0.31973330125617705, 0.7372089188801234, 0.5247250591428504, 0.8512303329901167, 0.8034782691000592, 0.5247250591428504, 0.907525525305278, 0.9439404450140144, 0.5770246853876915, 0.8971379782315937, 0.8597914553239229, 0.7979700040708047, 0.9385509435395911, 0.7890989088208319, 0.6366101581653424, 0.6961214665620942, 0.9785830011543489, 0.9660277956063794, 0.7846634661497195, 0.8721669493211203, 0.9108093413685332, 0.8676833509845372, 0.7996504375287319, 0.9617213256469752, 0.9296810865095018, 0.963685875237305, 0.7251530152311161, 0.6768815974764343, 0.7683173591403071, 0.4104361914228968, 0.1026090478557242, 0.4873929773146899, 0.8084101270907385, 0.8598049423283591, 0.6465711031007831, 0.9325327206015495, 0.9122710970367878, 0.7181464033935592, 0.9334160625067423, 0.9137067735020078, 0.8676833509845372, 0.9226162358392157, 0.9535537482831634, 0.4952453124629754, 0.4244959821111217, 0.7757300942987929, 0.8233733528130628, 0.5560914647948116, 0.3707276431965411, 0.8005673757436694, 0.05651063828778843, 0.08476595743168264, 0.047092198573157024, 0.8843549183100974, 0.9105185181659533, 0.464867332486905, 0.5312769514136056, 0.961824516081126, 0.5867462998089785, 0.13038806662421745, 0.2607761332484349, 0.883461697634574, 0.9451241750531347, 0.7908905176248787, 0.9213063265589473, 0.863138834680063, 0.8051169780586381, 0.9256677086135494, 0.8638715082092766, 0.9302449044927119, 0.9749597306367377, 0.8904263654660902, 0.8881167363375195, 0.9552174894877533, 0.9552897871330491, 0.3208470707976931, 0.6416941415953862, 0.9120834439604271, 0.979759334471242, 0.7723720778681599, 0.6450676370288523, 0.32253381851442614, 0.6509336918343905, 0.34716463564500827, 0.7464789337572288, 0.4926317883281158, 0.0769737169262681, 0.1693421772377898, 0.20013166400829704, 0.046184230155760855, 0.9138835875134665, 0.9473246489610964, 0.9282393272824011, 0.9629579363342653, 0.8123315082219708, 0.92921325076937, 0.7997056077456822, 0.9409686683249415, 0.3324032919241031, 0.09972098757723094, 0.5650855962709753, 0.6841685407867303, 0.6974791940522278, 0.8622915454769294, 0.8343432732839259, 0.7216183665726533, 0.9036751149674752, 0.9058023500552876, 0.9527890812086014, 0.8605592167180431, 0.9026013586568031, 0.8281936461067689, 0.9637051202439413, 0.9375683555455169, 0.7945249248888595, 0.48204012339563573, 0.8844783171431443, 0.9879398567623672, 0.7382343526695831, 0.22714903159064095, 0.7933216214407921, 0.9263972239784443, 0.9651681946194547, 0.8960731271781468, 0.8395721895221697, 0.9549752147741007, 0.3555932244165314, 0.6095883847140539, 0.9051456056441831, 0.8531663134968251, 0.9815606884574968, 0.8322503122639687, 0.9473369864897834, 0.7284676549925473, 0.9100069135277301, 0.976057375996086, 0.765948127420731, 0.8456273690348088, 0.9018667901559132, 0.7675397047642769, 0.8533229190760908, 0.757783572513814, 0.9080479282810421, 0.856845838625912, 0.8385052694681514, 0.9272412016868822, 0.8650801445538433, 0.8894589915416656, 0.9195870721135961, 0.9566955580835653, 0.682614848082729, 0.7062901052856083, 0.967699480821845, 0.8456922649865076, 0.975914588767989, 0.900685222734692, 0.9348296966028667, 0.8676833509845372, 0.7295953731097431, 0.7685626472965361, 0.765079328950915, 0.9680811150550018, 0.7937562123414039, 0.8497968352784886, 0.8450425597017958, 0.6344913479656231, 0.31724567398281156, 0.9548605410374987, 0.7648420188190987, 0.7523265139789772, 0.9167190663065978, 0.7800481438238019, 0.9239294867957945, 0.9362644881190546, 0.7561313250575163, 0.9298830650405089, 0.8407868176098924, 0.7727191743696539, 0.8497928639127972, 0.9265786732931145, 0.5477444370458174, 0.8408945757326054, 0.8719297043380188, 0.9653565978207327, 0.8346281983618329, 0.9385555591035553, 0.9520976403558046, 0.7755286892813253, 0.7295953731097431, 0.8924953527449548, 0.9653614031203583, 0.6541694237057016, 0.980188235241643, 0.8053375102337341, 0.8741411919861132, 0.7546005047762548, 0.9265786732931145, 0.9727718279531241, 0.37734178141107944, 0.5660126721166191, 0.8988733431149147, 0.7362474453233769, 0.7890598902776911, 0.6322301214101174, 0.8624370557724168, 0.07453159741243108, 0.053236855294593634, 0.6768815974764343, 0.7193125846685418, 0.7314098194332871, 0.8854064959944823, 0.7945249248888595, 0.8989632754790915, 0.7792175145814575, 0.7931546930875134, 0.8983345531613778, 0.9821152611895427, 0.8403352896055327], \"Term\": [\"accreditation\", \"act\", \"activity\", \"additional\", \"adjacent\", \"administer\", \"administrative\", \"administrator\", \"age\", \"agency\", \"agent\", \"agricultural\", \"allowance\", \"amend\", \"amount\", \"amount\", \"annual\", \"appropriation\", \"araw\", \"arcade\", \"area\", \"article\", \"assessment\", \"assistance\", \"assistant\", \"auction\", \"augment\", \"augment\", \"authorize\", \"available\", \"baby\", \"baggage\", \"balance\", \"bar\", \"barangay\", \"barangay\", \"barangays\", \"benefit\", \"bonifacio\", \"bound\", \"budget\", \"burial_assistance\", \"bus\", \"business\", \"cable\", \"card\", \"cargo\", \"case\", \"celebration\", \"center\", \"certain\", \"certification\", \"chapter\", \"charge\", \"child\", \"civil\", \"clearance\", \"clep\", \"clock\", \"close\", \"code\", \"code\", \"collect\", \"collection\", \"commercial\", \"compensation\", \"composition\", \"composition\", \"comprehensive\", \"condition\", \"conduct\", \"conservation\", \"construct\", \"construction\", \"continue_reade\", \"continue_reade\", \"continue_reading\", \"contract\", \"contractor\", \"control\", \"cooperative\", \"coordinator\", \"corn\", \"corner\", \"cover\", \"crash\", \"creek\", \"cultural\", \"date\", \"davao\", \"day\", \"dead\", \"death\", \"declare\", \"department\", \"designate\", \"desk\", \"development\", \"diesel\", \"disposal\", \"document\", \"domestic\", \"driver\", \"drug\", \"dutie\", \"duty\", \"duty\", \"economic\", \"education\", \"educational\", \"effective\", \"electrician\", \"elementary\", \"embrace\", \"employee\", \"employment\", \"enact\", \"engage\", \"enter\", \"enterprise\", \"entitle\", \"establish\", \"establishment\", \"establishment\", \"exemption\", \"expense\", \"extension\", \"facility\", \"fee\", \"fee\", \"finance\", \"financial\", \"food\", \"foreign\", \"forest\", \"former\", \"function\", \"function\", \"fund\", \"fund\", \"garbage\", \"generator\", \"gold\", \"good\", \"govern\", \"government\", \"government\", \"grade\", \"grant\", \"guideline\", \"guideline\", \"guideline\", \"guideline\", \"helmet\", \"high\", \"highly\", \"highway\", \"hire\", \"home\", \"honor\", \"honorable\", \"honorarium\", \"hospital\", \"hour\", \"house\", \"human\", \"identification\", \"identify\", \"implementation\", \"implementation\", \"incentive\", \"incentive\", \"increase\", \"indigenous\", \"industrial\", \"inspection\", \"install\", \"installation\", \"integrate\", \"investment\", \"issuance\", \"item\", \"jeepney\", \"know\", \"laboratory\", \"land\", \"lapu\", \"late\", \"law\", \"legal\", \"legislative\", \"letter\", \"level\", \"license\", \"limit\", \"line\", \"literacy\", \"livestock\", \"local\", \"local\", \"locate\", \"location\", \"lot\", \"make\", \"management\", \"mandatory\", \"mandatory\", \"market\", \"material\", \"may\", \"mayor\", \"mayor\", \"mayor\", \"mechanic\", \"medical\", \"medical\", \"memory\", \"mercury\", \"meter\", \"mill\", \"monitor\", \"month\", \"monthly\", \"motorcycle\", \"motorize\", \"motorolla\", \"movie\", \"moviehouse\", \"mun_ord\", \"name\", \"national\", \"necessary\", \"new\", \"night\", \"non\", \"number\", \"oath\", \"occupational\", \"office\", \"officer\", \"official\", \"officially\", \"omission\", \"open\", \"operation\", \"operation\", \"operation\", \"operator\", \"ord\", \"ordinance\", \"organization\", \"otherwise_known\", \"overtime\", \"own\", \"owner\", \"paper\", \"park\", \"part\", \"passenger\", \"passenger\", \"pattern\", \"pay\", \"payment\", \"payment\", \"penalty\", \"penalty\", \"penalty\", \"penalty\", \"people\", \"period\", \"permit\", \"permit\", \"person\", \"peso\", \"peso\", \"peso\", \"place\", \"plan\", \"plant\", \"poblacion\", \"point\", \"police\", \"policy\", \"poor\", \"portion\", \"position\", \"power\", \"premise\", \"private\", \"procedure\", \"program\", \"program\", \"property\", \"provide\", \"provincial\", \"provision\", \"provision\", \"public\", \"public\", \"purok\", \"purpose\", \"purpose\", \"purpose\", \"purpose\", \"purpose\", \"qualification\", \"qualify\", \"rate\", \"real\", \"recruitment\", \"register\", \"registration\", \"regulate\", \"regulation\", \"regulation\", \"regulation\", \"regulatory\", \"religious\", \"relocation\", \"render\", \"repeal\", \"representative\", \"republic_act\", \"residential\", \"resolution\", \"respective\", \"respectively\", \"revise\", \"rice\", \"rider\", \"right\", \"rizal\", \"road\", \"rule\", \"rule\", \"rural\", \"salary\", \"sale\", \"say\", \"schedule\", \"scholarship\", \"school\", \"school\", \"secondary\", \"secretary\", \"section\", \"secure\", \"separation\", \"sergeant\", \"series\", \"service\", \"set\", \"shall\", \"show\", \"similar\", \"site\", \"sitio\", \"situate\", \"social\", \"society\", \"space\", \"special\", \"square_meter\", \"staff\", \"stall\", \"standard\", \"stock\", \"street\", \"structure\", \"student\", \"subject\", \"submit\", \"subscribe\", \"subsequent\", \"subsistence\", \"supply\", \"support\", \"swear\", \"system\", \"table\", \"take\", \"take\", \"tax\", \"tct\", \"teacher\", \"temporary\", \"term\", \"terminal\", \"territorial_jurisdiction\", \"theater\", \"thereafter\", \"therefore\", \"therein\", \"thereon\", \"toll\", \"tourism\", \"town\", \"trade\", \"traffic\", \"transport\", \"tricycle\", \"truck\", \"tuition\", \"unappropriated\", \"unit\", \"use\", \"usual\", \"utility\", \"utilize\", \"vacant\", \"value\", \"van\", \"vehicle\", \"vehicular\", \"vehicular\", \"vendor\", \"veteran\", \"video\", \"village\", \"violation\", \"violation\", \"violation\", \"violative\", \"waste\", \"water\", \"way\", \"wear\", \"week\", \"welfare\", \"work\", \"worker\", \"year\", \"zone\"]}, \"R\": 30, \"lambda.step\": 0.01, \"plot.opts\": {\"xlab\": \"PC1\", \"ylab\": \"PC2\"}, \"topic.order\": [6, 4, 12, 10, 7, 1, 8, 5, 11, 9, 2, 3]};\n",
       "\n",
       "function LDAvis_load_lib(url, callback){\n",
       "  var s = document.createElement('script');\n",
       "  s.src = url;\n",
       "  s.async = true;\n",
       "  s.onreadystatechange = s.onload = callback;\n",
       "  s.onerror = function(){console.warn(\"failed to load library \" + url);};\n",
       "  document.getElementsByTagName(\"head\")[0].appendChild(s);\n",
       "}\n",
       "\n",
       "if(typeof(LDAvis) !== \"undefined\"){\n",
       "   // already loaded: just create the visualization\n",
       "   !function(LDAvis){\n",
       "       new LDAvis(\"#\" + \"ldavis_el35411406837607650723953749773\", ldavis_el35411406837607650723953749773_data);\n",
       "   }(LDAvis);\n",
       "}else if(typeof define === \"function\" && define.amd){\n",
       "   // require.js is available: use it to load d3/LDAvis\n",
       "   require.config({paths: {d3: \"https://cdnjs.cloudflare.com/ajax/libs/d3/3.5.5/d3.min\"}});\n",
       "   require([\"d3\"], function(d3){\n",
       "      window.d3 = d3;\n",
       "      LDAvis_load_lib(\"https://cdn.rawgit.com/bmabey/pyLDAvis/files/ldavis.v1.0.0.js\", function(){\n",
       "        new LDAvis(\"#\" + \"ldavis_el35411406837607650723953749773\", ldavis_el35411406837607650723953749773_data);\n",
       "      });\n",
       "    });\n",
       "}else{\n",
       "    // require.js not available: dynamically load d3 & LDAvis\n",
       "    LDAvis_load_lib(\"https://cdnjs.cloudflare.com/ajax/libs/d3/3.5.5/d3.min.js\", function(){\n",
       "         LDAvis_load_lib(\"https://cdn.rawgit.com/bmabey/pyLDAvis/files/ldavis.v1.0.0.js\", function(){\n",
       "                 new LDAvis(\"#\" + \"ldavis_el35411406837607650723953749773\", ldavis_el35411406837607650723953749773_data);\n",
       "            })\n",
       "         });\n",
       "}\n",
       "</script>"
      ],
      "text/plain": [
       "PreparedData(topic_coordinates=              x         y  topics  cluster       Freq\n",
       "topic                                                \n",
       "5     -0.284675  0.159838       1        1  18.848725\n",
       "3     -0.056880 -0.249604       2        1  10.892713\n",
       "11     0.219499  0.144491       3        1  10.096346\n",
       "9     -0.000171 -0.110515       4        1   8.681745\n",
       "6      0.070955 -0.024482       5        1   8.159320\n",
       "0      0.031208  0.011294       6        1   8.004615\n",
       "7     -0.131118  0.083447       7        1   7.123207\n",
       "4     -0.098959  0.012046       8        1   6.785554\n",
       "10     0.154377  0.111017       9        1   6.750020\n",
       "8      0.023039 -0.072572      10        1   6.299204\n",
       "1      0.065596 -0.032761      11        1   5.793656\n",
       "2      0.007130 -0.032200      12        1   2.564895, topic_info=          Term        Freq       Total Category  logprob  loglift\n",
       "31     section   64.000000   64.000000  Default  30.0000  30.0000\n",
       "23        fund   74.000000   74.000000  Default  29.0000  29.0000\n",
       "22   violation   93.000000   93.000000  Default  28.0000  28.0000\n",
       "16     penalty  106.000000  106.000000  Default  27.0000  27.0000\n",
       "365     market   44.000000   44.000000  Default  26.0000  26.0000\n",
       "..         ...         ...         ...      ...      ...      ...\n",
       "863    augment    1.267717    2.942303  Topic12  -4.6000   2.8213\n",
       "541       wear    0.523613    1.258614  Topic12  -5.4842   2.7862\n",
       "539      rider    0.523613    1.258614  Topic12  -5.4842   2.7862\n",
       "536     helmet    0.523613    1.258614  Topic12  -5.4842   2.7862\n",
       "534      crash    0.523613    1.258614  Topic12  -5.4842   2.7862\n",
       "\n",
       "[456 rows x 6 columns], token_table=      Topic      Freq           Term\n",
       "term                                \n",
       "283       8  0.811883  accreditation\n",
       "80        4  0.982201            act\n",
       "38        4  0.793144       activity\n",
       "352       3  0.964907     additional\n",
       "1138      7  0.859846       adjacent\n",
       "...     ...       ...            ...\n",
       "108       5  0.779218        welfare\n",
       "919      11  0.793155           work\n",
       "77        9  0.898335         worker\n",
       "55        4  0.982115           year\n",
       "79        7  0.840335           zone\n",
       "\n",
       "[433 rows x 3 columns], R=30, lambda_step=0.01, plot_opts={'xlab': 'PC1', 'ylab': 'PC2'}, topic_order=[6, 4, 12, 10, 7, 1, 8, 5, 11, 9, 2, 3])"
      ]
     },
     "execution_count": 20,
     "metadata": {},
     "output_type": "execute_result"
    }
   ],
   "source": [
    "# Visualize the topics\n",
    "pyLDAvis.enable_notebook()\n",
    "vis = pyLDAvis.gensim.prepare(lda_model, corpus, id2word)\n",
    "vis"
   ]
  },
  {
   "cell_type": "code",
   "execution_count": null,
   "metadata": {},
   "outputs": [],
   "source": []
  },
  {
   "cell_type": "code",
   "execution_count": null,
   "metadata": {},
   "outputs": [],
   "source": []
  },
  {
   "cell_type": "code",
   "execution_count": null,
   "metadata": {},
   "outputs": [],
   "source": []
  },
  {
   "cell_type": "code",
   "execution_count": null,
   "metadata": {},
   "outputs": [],
   "source": []
  },
  {
   "cell_type": "code",
   "execution_count": null,
   "metadata": {},
   "outputs": [],
   "source": []
  },
  {
   "cell_type": "code",
   "execution_count": null,
   "metadata": {},
   "outputs": [],
   "source": []
  },
  {
   "cell_type": "code",
   "execution_count": null,
   "metadata": {},
   "outputs": [],
   "source": []
  },
  {
   "cell_type": "code",
   "execution_count": null,
   "metadata": {},
   "outputs": [],
   "source": []
  },
  {
   "cell_type": "code",
   "execution_count": null,
   "metadata": {},
   "outputs": [],
   "source": []
  },
  {
   "cell_type": "code",
   "execution_count": null,
   "metadata": {},
   "outputs": [],
   "source": []
  }
 ],
 "metadata": {
  "kernelspec": {
   "display_name": "Python 3",
   "language": "python",
   "name": "python3"
  },
  "language_info": {
   "codemirror_mode": {
    "name": "ipython",
    "version": 3
   },
   "file_extension": ".py",
   "mimetype": "text/x-python",
   "name": "python",
   "nbconvert_exporter": "python",
   "pygments_lexer": "ipython3",
   "version": "3.9.0"
  }
 },
 "nbformat": 4,
 "nbformat_minor": 4
}
